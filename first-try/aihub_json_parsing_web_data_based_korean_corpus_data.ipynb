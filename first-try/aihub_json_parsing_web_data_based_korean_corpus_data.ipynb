{
 "cells": [
  {
   "attachments": {},
   "cell_type": "markdown",
   "metadata": {},
   "source": [
    "## AIHub Json Parsing"
   ]
  },
  {
   "attachments": {},
   "cell_type": "markdown",
   "metadata": {},
   "source": [
    "### Development Environment"
   ]
  },
  {
   "cell_type": "code",
   "execution_count": null,
   "metadata": {},
   "outputs": [],
   "source": [
    "%pip install kss==3.7.3"
   ]
  },
  {
   "attachments": {},
   "cell_type": "markdown",
   "metadata": {},
   "source": [
    "KSS Argument Error: Restart Jupyter Kernel Runtime"
   ]
  },
  {
   "cell_type": "code",
   "execution_count": null,
   "metadata": {},
   "outputs": [],
   "source": [
    "%pip install python-mecab-ko"
   ]
  },
  {
   "attachments": {},
   "cell_type": "markdown",
   "metadata": {},
   "source": [
    "KSS 3.7.3 matches python-mecab-ko"
   ]
  },
  {
   "cell_type": "code",
   "execution_count": null,
   "metadata": {},
   "outputs": [],
   "source": [
    "%pip install pandas"
   ]
  },
  {
   "cell_type": "code",
   "execution_count": 1,
   "metadata": {},
   "outputs": [],
   "source": [
    "import re\n",
    "import os\n",
    "import kss\n",
    "import json\n",
    "from mecab import MeCab\n",
    "import pandas as pd\n",
    "from glob import glob"
   ]
  },
  {
   "cell_type": "code",
   "execution_count": 30,
   "metadata": {},
   "outputs": [
    {
     "data": {
      "text/plain": [
       "'d:\\\\AIHUB'"
      ]
     },
     "execution_count": 30,
     "metadata": {},
     "output_type": "execute_result"
    }
   ],
   "source": [
    "pwd"
   ]
  },
  {
   "attachments": {},
   "cell_type": "markdown",
   "metadata": {},
   "source": [
    "### Function"
   ]
  },
  {
   "cell_type": "code",
   "execution_count": 3,
   "metadata": {},
   "outputs": [],
   "source": [
    "def json_file_name_list(path_list):\n",
    "    for i in path_list:\n",
    "        file_name = glob(i, recursive = True)\n",
    "    return file_name"
   ]
  },
  {
   "cell_type": "code",
   "execution_count": 4,
   "metadata": {},
   "outputs": [],
   "source": [
    "def train_valid_json_file_name_list(path_list):\n",
    "    for i in path_list:\n",
    "        if 'rain' in i:\n",
    "            train_file_name = glob(i, recursive = True)\n",
    "        elif 'alid' in i:  \n",
    "            valid_file_name = glob(i, recursive = True)\n",
    "    return train_file_name, valid_file_name"
   ]
  },
  {
   "cell_type": "code",
   "execution_count": 11,
   "metadata": {},
   "outputs": [],
   "source": [
    "def divide_source_file_list(l, n): \n",
    "    for i in range(0, len(l), n): \n",
    "        yield l[i:i + n] "
   ]
  },
  {
   "cell_type": "code",
   "execution_count": 5,
   "metadata": {},
   "outputs": [],
   "source": [
    "def txt_file_name_list(source_file_nested_list, folder_corpus_type_name):\n",
    "   \n",
    "  text_file_name_list = []\n",
    "\n",
    "  for i in range(len(source_file_nested_list)):\n",
    "    txt_file_name = folder_corpus_type_name + str(i) + \".txt\"\n",
    "    text_file_name_list.append(txt_file_name)\n",
    "\n",
    "  return text_file_name_list"
   ]
  },
  {
   "cell_type": "code",
   "execution_count": 6,
   "metadata": {},
   "outputs": [],
   "source": [
    "def train_valid_txt_file_name_list(source_file_nested_list, folder_corpus_type_name):\n",
    "   \n",
    "  train_valid_set = source_file_nested_list[0][0]\n",
    "  text_file_name_list = []\n",
    "\n",
    "  if 'rain' in train_valid_set:\n",
    "    for i in range(len(source_file_nested_list)):\n",
    "      txt_file_name = folder_corpus_type_name + str(i) + \".txt\"\n",
    "      text_file_name_list.append(txt_file_name)\n",
    "\n",
    "  elif 'alid' in train_valid_set:\n",
    "    for i in range(len(source_file_nested_list)):\n",
    "      txt_file_name = folder_corpus_type_name + str(i) + \".txt\"\n",
    "      text_file_name_list.append(txt_file_name)  \n",
    "\n",
    "  return text_file_name_list"
   ]
  },
  {
   "cell_type": "code",
   "execution_count": 7,
   "metadata": {},
   "outputs": [],
   "source": [
    "def formal_preprocessing_text(source):\n",
    "    preprocessing_sentence_list = []\n",
    "    \n",
    "    source = source.strip()\n",
    "    # strip으로 앞뒤 공백 제거\n",
    "    for sentence in kss.split_sentences(source, use_heuristic=False,\n",
    "                                        num_workers=32):\n",
    "    # Formal articles (wiki, news, essays): recommend to False\n",
    "\n",
    "        if re.search(\"^[A-Za-z0-9ㄱ-ㅎ가-힣一-鿕㐀-䶵豈-龎]\", sentence[0]) is not None and \\\n",
    "            bool(re.match(r'[.]|[!]|[?]', sentence[-1])) == True and \\\n",
    "            len(sentence.split()) > 5:\n",
    "            sentence = re.sub(r\"\\[.*?\\]|\\{.*?\\}\", \"\",  sentence)\n",
    "            # The String starts with a letter\n",
    "            # The String ends with [. ! ?]\n",
    "            # 기타 괄호 제거할 시 괄호 내부에 모든 텍스트 제거\n",
    "\n",
    "            sentence = re.sub(r\"[^A-Za-z0-9ㄱ-ㅎ가-힣一-鿕㐀-䶵豈-龎()+-]\", \" \", sentence)\n",
    "            # 특수문자 제거(영어 대소문자, 한글, 한자, 숫자, -, +, 소괄호 제외)\n",
    "\n",
    "            sentence = sentence.strip()\n",
    "            # strip으로 앞뒤 공백 제거\n",
    "            \n",
    "            total_length = len(sentence.replace(\" \" , \"\"))\n",
    "            hangeul_length = len(re.sub(r\"[^ㄱ-ㅣ가-힣\\s]\", \"\", sentence))\n",
    "            hangeul_ratio = hangeul_length / total_length\n",
    "            if hangeul_ratio >= 0.5:\n",
    "            # 한글이 아닌 문자열이 50% 이상이 넘은 문장 제외\n",
    "                preprocessing_sentence_list.append(sentence)\n",
    "\n",
    "    return preprocessing_sentence_list"
   ]
  },
  {
   "cell_type": "code",
   "execution_count": 8,
   "metadata": {},
   "outputs": [],
   "source": [
    "def informal_preprocessing_text(source):\n",
    "    preprocessing_sentence_list = []\n",
    "    \n",
    "    source = source.strip()\n",
    "    # strip으로 앞뒤 공백 제거\n",
    "    for sentence in kss.split_sentences(source, use_heuristic=True,\n",
    "                                        num_workers=32):\n",
    "    # Formal articles (wiki, news, essays): recommend to False\n",
    "\n",
    "        if re.search(\"^[A-Za-z0-9ㄱ-ㅎ가-힣一-鿕㐀-䶵豈-龎]\", sentence[0]) is not None and \\\n",
    "            bool(re.match(r'[.]|[!]|[?]', sentence[-1])) == True and \\\n",
    "            len(sentence.split()) > 5:\n",
    "            sentence = re.sub(r\"\\[.*?\\]|\\{.*?\\}\", \"\",  sentence)\n",
    "            # The String starts with a letter\n",
    "            # The String ends with [. ! ?]\n",
    "            # 기타 괄호 제거할 시 괄호 내부에 모든 텍스트 제거\n",
    "\n",
    "            sentence = re.sub(r\"[^A-Za-z0-9ㄱ-ㅎ가-힣一-鿕㐀-䶵豈-龎()+-]\", \" \", sentence)\n",
    "            # 특수문자 제거(영어 대소문자, 한글, 한자, 숫자, -, +, 소괄호 제외)\n",
    "\n",
    "            sentence = sentence.strip()\n",
    "            # strip으로 앞뒤 공백 제거\n",
    "            \n",
    "            total_length = len(sentence.replace(\" \" , \"\"))\n",
    "            hangeul_length = len(re.sub(r\"[^ㄱ-ㅣ가-힣\\s]\", \"\", sentence))\n",
    "            hangeul_ratio = hangeul_length / total_length\n",
    "            if hangeul_ratio >= 0.5:\n",
    "            # 한글이 아닌 문자열이 50% 이상이 넘은 문장 제외\n",
    "                preprocessing_sentence_list.append(sentence)\n",
    "\n",
    "    return preprocessing_sentence_list"
   ]
  },
  {
   "attachments": {},
   "cell_type": "markdown",
   "metadata": {},
   "source": [
    "### AIHUB 대규모 웹데이터 기반 한국어 말뭉치 데이터"
   ]
  },
  {
   "attachments": {},
   "cell_type": "markdown",
   "metadata": {},
   "source": [
    "[Source](https://www.aihub.or.kr/aihubdata/data/view.do?currMenu=115&topMenu=100&aihubDataSe=realm&dataSetSn=624)"
   ]
  },
  {
   "cell_type": "code",
   "execution_count": 20,
   "metadata": {},
   "outputs": [],
   "source": [
    "path_list = ['AIHUB_웹데이터 기반 한국어 말뭉치 데이터/Training/원천데이터/TS1/IT_과학/' + '**/*.json',\n",
    "'AIHUB_웹데이터 기반 한국어 말뭉치 데이터/Training/원천데이터/TS1/건강/' + '**/*.json',\n",
    "'AIHUB_웹데이터 기반 한국어 말뭉치 데이터/Training/원천데이터/TS1/경제/' + '**/*.json',\n",
    "'AIHUB_웹데이터 기반 한국어 말뭉치 데이터/Training/원천데이터/TS1/교육/' + '**/*.json',\n",
    "'AIHUB_웹데이터 기반 한국어 말뭉치 데이터/Training/원천데이터/TS1/국제/' + '**/*.json',\n",
    "'AIHUB_웹데이터 기반 한국어 말뭉치 데이터/Training/원천데이터/TS1/라이프스타일/' + '**/*.json',\n",
    "'AIHUB_웹데이터 기반 한국어 말뭉치 데이터/Training/원천데이터/TS1/문화/' + '**/*.json',\n",
    "'AIHUB_웹데이터 기반 한국어 말뭉치 데이터/Training/원천데이터/TS1/사건사고/' + '**/*.json',\n",
    "'AIHUB_웹데이터 기반 한국어 말뭉치 데이터/Training/원천데이터/TS1/사회일반/' + '**/*.json',\n",
    "'AIHUB_웹데이터 기반 한국어 말뭉치 데이터/Training/원천데이터/TS1/산업/' + '**/*.json',\n",
    "'AIHUB_웹데이터 기반 한국어 말뭉치 데이터/Training/원천데이터/TS1/스포츠/' + '**/*.json',\n",
    "'AIHUB_웹데이터 기반 한국어 말뭉치 데이터/Training/원천데이터/TS1/여성복지/' + '**/*.json',\n",
    "'AIHUB_웹데이터 기반 한국어 말뭉치 데이터/Training/원천데이터/TS1/여행레저/' + '**/*.json',\n",
    "'AIHUB_웹데이터 기반 한국어 말뭉치 데이터/Training/원천데이터/TS1/연예/' + '**/*.json',\n",
    "'AIHUB_웹데이터 기반 한국어 말뭉치 데이터/Training/원천데이터/TS1/정치/' + '**/*.json',\n",
    "'AIHUB_웹데이터 기반 한국어 말뭉치 데이터/Training/원천데이터/TS1/지역/' + '**/*.json',\n",
    "'AIHUB_웹데이터 기반 한국어 말뭉치 데이터/Training/원천데이터/TS1/취미/' + '**/*.json',\n",
    "'AIHUB_웹데이터 기반 한국어 말뭉치 데이터/Validation/원천데이터/VS1/IT_과학/' + '**/*.json',\n",
    "'AIHUB_웹데이터 기반 한국어 말뭉치 데이터/Validation/원천데이터/VS1/건강/' + '**/*.json',\n",
    "'AIHUB_웹데이터 기반 한국어 말뭉치 데이터/Validation/원천데이터/VS1/경제/' + '**/*.json',\n",
    "'AIHUB_웹데이터 기반 한국어 말뭉치 데이터/Validation/원천데이터/VS1/교육/' + '**/*.json',\n",
    "'AIHUB_웹데이터 기반 한국어 말뭉치 데이터/Validation/원천데이터/VS1/국제/' + '**/*.json',\n",
    "'AIHUB_웹데이터 기반 한국어 말뭉치 데이터/Validation/원천데이터/VS1/라이프스타일/' + '**/*.json',\n",
    "'AIHUB_웹데이터 기반 한국어 말뭉치 데이터/Validation/원천데이터/VS1/문화/' + '**/*.json',\n",
    "'AIHUB_웹데이터 기반 한국어 말뭉치 데이터/Validation/원천데이터/VS1/사건사고/' + '**/*.json',\n",
    "'AIHUB_웹데이터 기반 한국어 말뭉치 데이터/Validation/원천데이터/VS1/사회일반/' + '**/*.json',\n",
    "'AIHUB_웹데이터 기반 한국어 말뭉치 데이터/Validation/원천데이터/VS1/산업/' + '**/*.json',\n",
    "'AIHUB_웹데이터 기반 한국어 말뭉치 데이터/Validation/원천데이터/VS1/스포츠/' + '**/*.json',\n",
    "'AIHUB_웹데이터 기반 한국어 말뭉치 데이터/Validation/원천데이터/VS1/여성복지/' + '**/*.json',\n",
    "'AIHUB_웹데이터 기반 한국어 말뭉치 데이터/Validation/원천데이터/VS1/여행레저/' + '**/*.json',\n",
    "'AIHUB_웹데이터 기반 한국어 말뭉치 데이터/Validation/원천데이터/VS1/연예/' + '**/*.json',\n",
    "'AIHUB_웹데이터 기반 한국어 말뭉치 데이터/Validation/원천데이터/VS1/정치/' + '**/*.json',\n",
    "'AIHUB_웹데이터 기반 한국어 말뭉치 데이터/Validation/원천데이터/VS1/지역/' + '**/*.json',\n",
    "'AIHUB_웹데이터 기반 한국어 말뭉치 데이터/Validation/원천데이터/VS1/취미/' + '**/*.json',]\n",
    "\n",
    "train_file_name_01 = glob(path_list[0], recursive = True)\n",
    "train_file_name_02 = glob(path_list[1], recursive = True)\n",
    "train_file_name_03 = glob(path_list[2], recursive = True)\n",
    "train_file_name_04 = glob(path_list[3], recursive = True)\n",
    "train_file_name_05 = glob(path_list[4], recursive = True)\n",
    "train_file_name_06 = glob(path_list[5], recursive = True)\n",
    "train_file_name_07 = glob(path_list[6], recursive = True)\n",
    "train_file_name_08 = glob(path_list[7], recursive = True)\n",
    "train_file_name_09 = glob(path_list[8], recursive = True)\n",
    "train_file_name_10 = glob(path_list[9], recursive = True)\n",
    "train_file_name_11 = glob(path_list[10], recursive = True)\n",
    "train_file_name_12 = glob(path_list[11], recursive = True)\n",
    "train_file_name_13 = glob(path_list[12], recursive = True)\n",
    "train_file_name_14 = glob(path_list[13], recursive = True)\n",
    "train_file_name_15 = glob(path_list[14], recursive = True)\n",
    "train_file_name_16 = glob(path_list[15], recursive = True)\n",
    "train_file_name_17 = glob(path_list[16], recursive = True)\n",
    "\n",
    "valid_file_name_01 = glob(path_list[17], recursive = True)\n",
    "valid_file_name_02 = glob(path_list[18], recursive = True)\n",
    "valid_file_name_03 = glob(path_list[19], recursive = True)\n",
    "valid_file_name_04 = glob(path_list[20], recursive = True)\n",
    "valid_file_name_05 = glob(path_list[21], recursive = True)\n",
    "valid_file_name_06 = glob(path_list[22], recursive = True)\n",
    "valid_file_name_07 = glob(path_list[23], recursive = True)\n",
    "valid_file_name_08 = glob(path_list[24], recursive = True)\n",
    "valid_file_name_09 = glob(path_list[25], recursive = True)\n",
    "valid_file_name_10 = glob(path_list[26], recursive = True)\n",
    "valid_file_name_11 = glob(path_list[27], recursive = True)\n",
    "valid_file_name_12 = glob(path_list[28], recursive = True)\n",
    "valid_file_name_13 = glob(path_list[29], recursive = True)\n",
    "valid_file_name_14 = glob(path_list[30], recursive = True)\n",
    "valid_file_name_15 = glob(path_list[31], recursive = True)\n",
    "valid_file_name_16 = glob(path_list[32], recursive = True)\n",
    "valid_file_name_17 = glob(path_list[33], recursive = True)"
   ]
  },
  {
   "cell_type": "code",
   "execution_count": 21,
   "metadata": {},
   "outputs": [
    {
     "name": "stdout",
     "output_type": "stream",
     "text": [
      "The number of file:  1217\n",
      "The number of list element: 121\n"
     ]
    }
   ],
   "source": [
    "the_number_of_file = len(train_file_name_01) \n",
    "print(\"The number of file: \", the_number_of_file)\n",
    "n = the_number_of_file // 10\n",
    "print(\"The number of list element:\", n)\n",
    "train_file_nested_list_01 = list(divide_source_file_list(train_file_name_01, n))\n",
    "train_file_nested_list_02 = list(divide_source_file_list(train_file_name_02, n))\n",
    "train_file_nested_list_03 = list(divide_source_file_list(train_file_name_03, n))\n",
    "train_file_nested_list_04 = list(divide_source_file_list(train_file_name_04, n))\n",
    "train_file_nested_list_05 = list(divide_source_file_list(train_file_name_05, n))\n",
    "train_file_nested_list_06 = list(divide_source_file_list(train_file_name_06, n))\n",
    "train_file_nested_list_07 = list(divide_source_file_list(train_file_name_07, n))\n",
    "train_file_nested_list_08 = list(divide_source_file_list(train_file_name_08, n))\n",
    "train_file_nested_list_09 = list(divide_source_file_list(train_file_name_09, n))\n",
    "train_file_nested_list_10 = list(divide_source_file_list(train_file_name_10, n))\n",
    "train_file_nested_list_11 = list(divide_source_file_list(train_file_name_11, n))\n",
    "train_file_nested_list_12 = list(divide_source_file_list(train_file_name_12, n))\n",
    "train_file_nested_list_13 = list(divide_source_file_list(train_file_name_13, n))\n",
    "train_file_nested_list_14 = list(divide_source_file_list(train_file_name_14, n))\n",
    "train_file_nested_list_15 = list(divide_source_file_list(train_file_name_15, n))\n",
    "train_file_nested_list_16 = list(divide_source_file_list(train_file_name_16, n))\n",
    "train_file_nested_list_17 = list(divide_source_file_list(train_file_name_17, n))\n",
    "\n",
    "valid_file_nested_list_01 = list(divide_source_file_list(valid_file_name_01, n))\n",
    "valid_file_nested_list_02 = list(divide_source_file_list(valid_file_name_02, n))\n",
    "valid_file_nested_list_03 = list(divide_source_file_list(valid_file_name_03, n))\n",
    "valid_file_nested_list_04 = list(divide_source_file_list(valid_file_name_04, n))\n",
    "valid_file_nested_list_05 = list(divide_source_file_list(valid_file_name_05, n))\n",
    "valid_file_nested_list_06 = list(divide_source_file_list(valid_file_name_06, n))\n",
    "valid_file_nested_list_07 = list(divide_source_file_list(valid_file_name_07, n))\n",
    "valid_file_nested_list_08 = list(divide_source_file_list(valid_file_name_08, n))\n",
    "valid_file_nested_list_09 = list(divide_source_file_list(valid_file_name_09, n))\n",
    "valid_file_nested_list_10 = list(divide_source_file_list(valid_file_name_10, n))\n",
    "valid_file_nested_list_11 = list(divide_source_file_list(valid_file_name_11, n))\n",
    "valid_file_nested_list_12 = list(divide_source_file_list(valid_file_name_12, n))\n",
    "valid_file_nested_list_13 = list(divide_source_file_list(valid_file_name_13, n))\n",
    "valid_file_nested_list_14 = list(divide_source_file_list(valid_file_name_14, n))\n",
    "valid_file_nested_list_15 = list(divide_source_file_list(valid_file_name_15, n))\n",
    "valid_file_nested_list_16 = list(divide_source_file_list(valid_file_name_16, n))\n",
    "valid_file_nested_list_17 = list(divide_source_file_list(valid_file_name_17, n))"
   ]
  },
  {
   "cell_type": "code",
   "execution_count": null,
   "metadata": {},
   "outputs": [],
   "source": [
    "train_text_file_name_list_01 = train_valid_txt_file_name_list(train_file_nested_list_01,\n",
    "                                                               \"demo/web_data_based_korean_corpus_data/AIHUB_web_data_based_korean_corpus_data_train_IT_과학_01_\")\n",
    "train_text_file_name_list_02 = train_valid_txt_file_name_list(train_file_nested_list_02,\n",
    "                                                               \"demo/web_data_based_korean_corpus_data/AIHUB_web_data_based_korean_corpus_data_train_건강_02_\")\n",
    "train_text_file_name_list_03 = train_valid_txt_file_name_list(train_file_nested_list_03,\n",
    "                                                               \"demo/web_data_based_korean_corpus_data/AIHUB_web_data_based_korean_corpus_data_train_경제_03_\")\n",
    "train_text_file_name_list_04 = train_valid_txt_file_name_list(train_file_nested_list_04,\n",
    "                                                               \"demo/web_data_based_korean_corpus_data/AIHUB_web_data_based_korean_corpus_data_train_교육_04_\")\n",
    "train_text_file_name_list_05 = train_valid_txt_file_name_list(train_file_nested_list_05,\n",
    "                                                               \"demo/web_data_based_korean_corpus_data/AIHUB_web_data_based_korean_corpus_data_train_국제_05_\")\n",
    "train_text_file_name_list_06 = train_valid_txt_file_name_list(train_file_nested_list_06,\n",
    "                                                               \"demo/web_data_based_korean_corpus_data/AIHUB_web_data_based_korean_corpus_data_train_라이프스타일_06_\")\n",
    "train_text_file_name_list_07 = train_valid_txt_file_name_list(train_file_nested_list_07,\n",
    "                                                               \"demo/web_data_based_korean_corpus_data/AIHUB_web_data_based_korean_corpus_data_train_문화_07_\")\n",
    "train_text_file_name_list_08 = train_valid_txt_file_name_list(train_file_nested_list_08,\n",
    "                                                               \"demo/web_data_based_korean_corpus_data/AIHUB_web_data_based_korean_corpus_data_train_사건사고_08_\")\n",
    "train_text_file_name_list_09 = train_valid_txt_file_name_list(train_file_nested_list_09,\n",
    "                                                               \"demo/web_data_based_korean_corpus_data/AIHUB_web_data_based_korean_corpus_data_train_사회일반_09_\")\n",
    "train_text_file_name_list_10 = train_valid_txt_file_name_list(train_file_nested_list_10,\n",
    "                                                               \"demo/web_data_based_korean_corpus_data/AIHUB_web_data_based_korean_corpus_data_train_산업_10_\")\n",
    "train_text_file_name_list_11 = train_valid_txt_file_name_list(train_file_nested_list_11,\n",
    "                                                               \"demo/web_data_based_korean_corpus_data/AIHUB_web_data_based_korean_corpus_data_train_스포츠_11_\")\n",
    "train_text_file_name_list_12 = train_valid_txt_file_name_list(train_file_nested_list_12,\n",
    "                                                               \"demo/web_data_based_korean_corpus_data/AIHUB_web_data_based_korean_corpus_data_train_여성복지_12_\")\n",
    "train_text_file_name_list_13 = train_valid_txt_file_name_list(train_file_nested_list_13,\n",
    "                                                               \"demo/web_data_based_korean_corpus_data/AIHUB_web_data_based_korean_corpus_data_train_여행레저_13_\")\n",
    "train_text_file_name_list_14 = train_valid_txt_file_name_list(train_file_nested_list_14,\n",
    "                                                               \"demo/web_data_based_korean_corpus_data/AIHUB_web_data_based_korean_corpus_data_train_연예_14_\")\n",
    "train_text_file_name_list_15 = train_valid_txt_file_name_list(train_file_nested_list_15,\n",
    "                                                               \"demo/web_data_based_korean_corpus_data/AIHUB_web_data_based_korean_corpus_data_train_정치_15_\")\n",
    "train_text_file_name_list_16 = train_valid_txt_file_name_list(train_file_nested_list_16,\n",
    "                                                               \"demo/web_data_based_korean_corpus_data/AIHUB_web_data_based_korean_corpus_data_train_지역_16_\")\n",
    "train_text_file_name_list_17 = train_valid_txt_file_name_list(train_file_nested_list_17,\n",
    "                                                               \"demo/web_data_based_korean_corpus_data/AIHUB_web_data_based_korean_corpus_data_train_취미_17_\")\n",
    "valid_text_file_name_list_01 = train_valid_txt_file_name_list(valid_file_nested_list_01,\n",
    "                                                               \"demo/web_data_based_korean_corpus_data/AIHUB_web_data_based_korean_corpus_data_valid_IT_과학_01_\")\n",
    "valid_text_file_name_list_02 = train_valid_txt_file_name_list(valid_file_nested_list_02,\n",
    "                                                               \"demo/web_data_based_korean_corpus_data/AIHUB_web_data_based_korean_corpus_data_valid_건강_02_\")\n",
    "valid_text_file_name_list_03 = train_valid_txt_file_name_list(valid_file_nested_list_03,\n",
    "                                                               \"demo/web_data_based_korean_corpus_data/AIHUB_web_data_based_korean_corpus_data_valid_경제_03_\")\n",
    "valid_text_file_name_list_04 = train_valid_txt_file_name_list(valid_file_nested_list_04,\n",
    "                                                               \"demo/web_data_based_korean_corpus_data/AIHUB_web_data_based_korean_corpus_data_valid_교육_04_\")\n",
    "valid_text_file_name_list_05 = train_valid_txt_file_name_list(valid_file_nested_list_05,\n",
    "                                                               \"demo/web_data_based_korean_corpus_data/AIHUB_web_data_based_korean_corpus_data_valid_국제_05_\")\n",
    "valid_text_file_name_list_06 = train_valid_txt_file_name_list(valid_file_nested_list_06,\n",
    "                                                               \"demo/web_data_based_korean_corpus_data/AIHUB_web_data_based_korean_corpus_data_valid_라이프스타일_06_\")\n",
    "valid_text_file_name_list_07 = train_valid_txt_file_name_list(valid_file_nested_list_07,\n",
    "                                                               \"demo/web_data_based_korean_corpus_data/AIHUB_web_data_based_korean_corpus_data_valid_문화_07_\")\n",
    "valid_text_file_name_list_08 = train_valid_txt_file_name_list(valid_file_nested_list_08,\n",
    "                                                               \"demo/web_data_based_korean_corpus_data/AIHUB_web_data_based_korean_corpus_data_valid_사건사고_08_\")\n",
    "valid_text_file_name_list_09 = train_valid_txt_file_name_list(valid_file_nested_list_09,\n",
    "                                                               \"demo/web_data_based_korean_corpus_data/AIHUB_web_data_based_korean_corpus_data_valid_사회일반_09_\")\n",
    "valid_text_file_name_list_10 = train_valid_txt_file_name_list(valid_file_nested_list_10,\n",
    "                                                               \"demo/web_data_based_korean_corpus_data/AIHUB_web_data_based_korean_corpus_data_valid_산업_10_\")\n",
    "valid_text_file_name_list_11 = train_valid_txt_file_name_list(valid_file_nested_list_11,\n",
    "                                                               \"demo/web_data_based_korean_corpus_data/AIHUB_web_data_based_korean_corpus_data_valid_스포츠_11_\")\n",
    "valid_text_file_name_list_12 = train_valid_txt_file_name_list(valid_file_nested_list_12,\n",
    "                                                               \"demo/web_data_based_korean_corpus_data/AIHUB_web_data_based_korean_corpus_data_valid_여성복지_12_\")\n",
    "valid_text_file_name_list_13 = train_valid_txt_file_name_list(valid_file_nested_list_13,\n",
    "                                                               \"demo/web_data_based_korean_corpus_data/AIHUB_web_data_based_korean_corpus_data_valid_여행레저_13_\")\n",
    "valid_text_file_name_list_14 = train_valid_txt_file_name_list(valid_file_nested_list_14,\n",
    "                                                               \"demo/web_data_based_korean_corpus_data/AIHUB_web_data_based_korean_corpus_data_valid_연예_14_\")\n",
    "valid_text_file_name_list_15 = train_valid_txt_file_name_list(valid_file_nested_list_15,\n",
    "                                                               \"demo/web_data_based_korean_corpus_data/AIHUB_web_data_based_korean_corpus_data_valid_정치_15_\")\n",
    "valid_text_file_name_list_16 = train_valid_txt_file_name_list(valid_file_nested_list_16,\n",
    "                                                               \"demo/web_data_based_korean_corpus_data/AIHUB_web_data_based_korean_corpus_data_valid_지역_16_\")\n",
    "valid_text_file_name_list_17 = train_valid_txt_file_name_list(valid_file_nested_list_17,\n",
    "                                                               \"demo/web_data_based_korean_corpus_data/AIHUB_web_data_based_korean_corpus_data_valid_취미_17_\")\n",
    "the_numer_of_txt_file = len(train_text_file_name_list_01) + len(train_text_file_name_list_02) + \\\n",
    "    len(train_text_file_name_list_03) + len(train_text_file_name_list_04) + \\\n",
    "    len(train_text_file_name_list_05) + len(train_text_file_name_list_06) + \\\n",
    "    len(train_text_file_name_list_07) + len(train_text_file_name_list_08) + \\\n",
    "    len(train_text_file_name_list_09) + len(train_text_file_name_list_10) +  \\\n",
    "    len(train_text_file_name_list_11) + len(train_text_file_name_list_12) + \\\n",
    "    len(train_text_file_name_list_13) + len(train_text_file_name_list_14) +  \\\n",
    "    len(train_text_file_name_list_15) + len(train_text_file_name_list_16) +  \\\n",
    "    len(train_text_file_name_list_17) + /\n",
    "    len(valid_text_file_name_list_01) + len(valid_text_file_name_list_02) + \\\n",
    "    len(valid_text_file_name_list_03) + len(valid_text_file_name_list_04) + \\\n",
    "    len(valid_text_file_name_list_05) + len(valid_text_file_name_list_06) + \\\n",
    "    len(valid_text_file_name_list_07) + len(valid_text_file_name_list_08) + \\\n",
    "    len(valid_text_file_name_list_09) + len(valid_text_file_name_list_10) +  \\\n",
    "    len(valid_text_file_name_list_11) + len(valid_text_file_name_list_12) + \\\n",
    "    len(valid_text_file_name_list_13) + len(valid_text_file_name_list_14) +  \\\n",
    "    len(valid_text_file_name_list_15) + len(valid_text_file_name_list_16) +  \\\n",
    "    len(valid_text_file_name_list_17)\n",
    "    \n",
    "print(\"The number of txt file:\", the_numer_of_txt_file )"
   ]
  },
  {
   "cell_type": "code",
   "execution_count": 28,
   "metadata": {},
   "outputs": [],
   "source": [
    "def make_corpus_txt(source_file_nested_list, text_file_name_list):\n",
    "\n",
    "  print(\"[Size]\")\n",
    "  print(\"The numnber of preprocessing corpus: \" + str(len(source_file_nested_list)))\n",
    "  print(\"\\n[Order]\")\n",
    "  num = 0\n",
    "  for source_file_list, txt_file_name in zip(source_file_nested_list, text_file_name_list):\n",
    "    sentence_list = []\n",
    "    \n",
    "    num += 1\n",
    "    print(str(num), end=\" \")\n",
    "\n",
    "    for i in range(len(source_file_list)):\n",
    "\n",
    "      if type(source_file_list) == str:\n",
    "        source_file = source_file_list\n",
    "\n",
    "      elif type(source_file_list) != str:\n",
    "        source_file = source_file_list[i]\n",
    "\n",
    "      with open(source_file, 'r', encoding='utf-8') as one_json_file:\n",
    "        one_json_sample = json.load(one_json_file)\n",
    "      \n",
    "      source_list = list(pd.DataFrame(one_json_sample['SJML']['text'])['content'])\n",
    "      for source in source_list:\n",
    "          sentences = formal_preprocessing_text(source)\n",
    "          for sentence in sentences:\n",
    "            sentence_list.append(sentence)   \n",
    "          \n",
    "    with open(os.path.join('AIHUB_corpus/', txt_file_name), \"a\", encoding='utf-8') as fp:        \n",
    "        fp.write(\"\\n\".join(sentence_list))        "
   ]
  },
  {
   "cell_type": "code",
   "execution_count": null,
   "metadata": {},
   "outputs": [],
   "source": [
    "make_corpus_txt(train_file_nested_list_01, train_text_file_name_list_01)"
   ]
  },
  {
   "cell_type": "code",
   "execution_count": null,
   "metadata": {},
   "outputs": [],
   "source": [
    "make_corpus_txt(train_file_nested_list_02, train_text_file_name_list_02)"
   ]
  },
  {
   "cell_type": "code",
   "execution_count": null,
   "metadata": {},
   "outputs": [],
   "source": [
    "make_corpus_txt(train_file_nested_list_03, train_text_file_name_list_03)"
   ]
  },
  {
   "cell_type": "code",
   "execution_count": null,
   "metadata": {},
   "outputs": [],
   "source": [
    "make_corpus_txt(train_file_nested_list_04, train_text_file_name_list_04)"
   ]
  },
  {
   "cell_type": "code",
   "execution_count": null,
   "metadata": {},
   "outputs": [],
   "source": [
    "make_corpus_txt(train_file_nested_list_05, train_text_file_name_list_05)"
   ]
  },
  {
   "cell_type": "code",
   "execution_count": null,
   "metadata": {},
   "outputs": [],
   "source": [
    "make_corpus_txt(train_file_nested_list_06, train_text_file_name_list_06)"
   ]
  },
  {
   "cell_type": "code",
   "execution_count": null,
   "metadata": {},
   "outputs": [],
   "source": [
    "make_corpus_txt(train_file_nested_list_07, train_text_file_name_list_07)"
   ]
  },
  {
   "cell_type": "code",
   "execution_count": null,
   "metadata": {},
   "outputs": [],
   "source": [
    "make_corpus_txt(train_file_nested_list_08, train_text_file_name_list_08)"
   ]
  },
  {
   "cell_type": "code",
   "execution_count": null,
   "metadata": {},
   "outputs": [],
   "source": [
    "make_corpus_txt(train_file_nested_list_09, train_text_file_name_list_09)"
   ]
  },
  {
   "cell_type": "code",
   "execution_count": null,
   "metadata": {},
   "outputs": [],
   "source": [
    "make_corpus_txt(train_file_nested_list_10, train_text_file_name_list_10)"
   ]
  },
  {
   "cell_type": "code",
   "execution_count": null,
   "metadata": {},
   "outputs": [],
   "source": [
    "make_corpus_txt(train_file_nested_list_11, train_text_file_name_list_11)"
   ]
  },
  {
   "cell_type": "code",
   "execution_count": null,
   "metadata": {},
   "outputs": [],
   "source": [
    "make_corpus_txt(train_file_nested_list_12, train_text_file_name_list_12)"
   ]
  },
  {
   "cell_type": "code",
   "execution_count": null,
   "metadata": {},
   "outputs": [],
   "source": [
    "make_corpus_txt(train_file_nested_list_13, train_text_file_name_list_13)"
   ]
  },
  {
   "cell_type": "code",
   "execution_count": null,
   "metadata": {},
   "outputs": [],
   "source": [
    "make_corpus_txt(train_file_nested_list_14, train_text_file_name_list_14)"
   ]
  },
  {
   "cell_type": "code",
   "execution_count": null,
   "metadata": {},
   "outputs": [],
   "source": [
    "make_corpus_txt(train_file_nested_list_15, train_text_file_name_list_15)"
   ]
  },
  {
   "cell_type": "code",
   "execution_count": null,
   "metadata": {},
   "outputs": [],
   "source": [
    "make_corpus_txt(train_file_nested_list_16, train_text_file_name_list_16)"
   ]
  },
  {
   "cell_type": "code",
   "execution_count": null,
   "metadata": {},
   "outputs": [],
   "source": [
    "make_corpus_txt(train_file_nested_list_17, train_text_file_name_list_17)"
   ]
  },
  {
   "cell_type": "code",
   "execution_count": null,
   "metadata": {},
   "outputs": [],
   "source": [
    "make_corpus_txt(valid_file_nested_list_01, valid_text_file_name_list_01)"
   ]
  },
  {
   "cell_type": "code",
   "execution_count": null,
   "metadata": {},
   "outputs": [],
   "source": [
    "make_corpus_txt(valid_file_nested_list_02, valid_text_file_name_list_02)"
   ]
  },
  {
   "cell_type": "code",
   "execution_count": null,
   "metadata": {},
   "outputs": [],
   "source": [
    "make_corpus_txt(valid_file_nested_list_03, valid_text_file_name_list_03)"
   ]
  },
  {
   "cell_type": "code",
   "execution_count": null,
   "metadata": {},
   "outputs": [],
   "source": [
    "make_corpus_txt(valid_file_nested_list_04, valid_text_file_name_list_04)"
   ]
  },
  {
   "cell_type": "code",
   "execution_count": null,
   "metadata": {},
   "outputs": [],
   "source": [
    "make_corpus_txt(valid_file_nested_list_05, valid_text_file_name_list_05)"
   ]
  },
  {
   "cell_type": "code",
   "execution_count": null,
   "metadata": {},
   "outputs": [],
   "source": [
    "make_corpus_txt(valid_file_nested_list_06, valid_text_file_name_list_06) "
   ]
  },
  {
   "cell_type": "code",
   "execution_count": null,
   "metadata": {},
   "outputs": [],
   "source": [
    "make_corpus_txt(valid_file_nested_list_07, valid_text_file_name_list_07)"
   ]
  },
  {
   "cell_type": "code",
   "execution_count": null,
   "metadata": {},
   "outputs": [],
   "source": [
    "make_corpus_txt(valid_file_nested_list_08, valid_text_file_name_list_08)"
   ]
  },
  {
   "cell_type": "code",
   "execution_count": null,
   "metadata": {},
   "outputs": [],
   "source": [
    "make_corpus_txt(valid_file_nested_list_09, valid_text_file_name_list_09)"
   ]
  },
  {
   "cell_type": "code",
   "execution_count": null,
   "metadata": {},
   "outputs": [],
   "source": [
    "make_corpus_txt(valid_file_nested_list_10, valid_text_file_name_list_10)"
   ]
  },
  {
   "cell_type": "code",
   "execution_count": null,
   "metadata": {},
   "outputs": [],
   "source": [
    "make_corpus_txt(valid_file_nested_list_11, valid_text_file_name_list_11)"
   ]
  },
  {
   "cell_type": "code",
   "execution_count": null,
   "metadata": {},
   "outputs": [],
   "source": [
    "make_corpus_txt(valid_file_nested_list_12, valid_text_file_name_list_12)"
   ]
  },
  {
   "cell_type": "code",
   "execution_count": null,
   "metadata": {},
   "outputs": [],
   "source": [
    "make_corpus_txt(valid_file_nested_list_13, valid_text_file_name_list_13)"
   ]
  },
  {
   "cell_type": "code",
   "execution_count": null,
   "metadata": {},
   "outputs": [],
   "source": [
    "make_corpus_txt(valid_file_nested_list_14, valid_text_file_name_list_14)"
   ]
  },
  {
   "cell_type": "code",
   "execution_count": null,
   "metadata": {},
   "outputs": [],
   "source": [
    "make_corpus_txt(valid_file_nested_list_15, valid_text_file_name_list_15)"
   ]
  },
  {
   "cell_type": "code",
   "execution_count": null,
   "metadata": {},
   "outputs": [],
   "source": [
    "make_corpus_txt(valid_file_nested_list_16, valid_text_file_name_list_16)"
   ]
  },
  {
   "cell_type": "code",
   "execution_count": null,
   "metadata": {},
   "outputs": [],
   "source": [
    "make_corpus_txt(valid_file_nested_list_17, valid_text_file_name_list_17)"
   ]
  },
  {
   "cell_type": "code",
   "execution_count": null,
   "metadata": {},
   "outputs": [],
   "source": [
    "corpus_list = glob(\"AIHUB_corpus/demo/web_data_based_korean_corpus_data/AIHUB_web_data_based_korean_corpus_data_train_\" +\"*.txt\")\n",
    "corpus_list += glob(\"AIHUB_corpus/demo/web_data_based_korean_corpus_data/AIHUB_web_data_based_korean_corpus_data_valid_\" +\"*.txt\")"
   ]
  },
  {
   "cell_type": "code",
   "execution_count": null,
   "metadata": {},
   "outputs": [],
   "source": [
    "with open('AIHUB_corpus/demo/AIHUB_web_data_based_korean_corpus_data.txt', 'w', encoding='utf-8') as f:\n",
    "    for corpus in corpus_list:\n",
    "        with open(corpus, encoding='utf-8') as text:\n",
    "            for line in text:\n",
    "                f.write(line)"
   ]
  }
 ],
 "metadata": {
  "kernelspec": {
   "display_name": "corpus_00",
   "language": "python",
   "name": "python3"
  },
  "language_info": {
   "codemirror_mode": {
    "name": "ipython",
    "version": 3
   },
   "file_extension": ".py",
   "mimetype": "text/x-python",
   "name": "python",
   "nbconvert_exporter": "python",
   "pygments_lexer": "ipython3",
   "version": "3.11.3"
  },
  "orig_nbformat": 4
 },
 "nbformat": 4,
 "nbformat_minor": 2
}
