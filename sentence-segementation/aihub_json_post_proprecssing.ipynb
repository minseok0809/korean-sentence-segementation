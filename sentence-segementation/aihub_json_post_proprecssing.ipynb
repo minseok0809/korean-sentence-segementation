{
 "cells": [
  {
   "cell_type": "markdown",
   "metadata": {},
   "source": [
    "## AIHub Json Parsing"
   ]
  },
  {
   "cell_type": "markdown",
   "metadata": {},
   "source": [
    "### Development Environment"
   ]
  },
  {
   "cell_type": "code",
   "execution_count": null,
   "metadata": {},
   "outputs": [],
   "source": [
    "%pip install kss==3.7.3"
   ]
  },
  {
   "cell_type": "markdown",
   "metadata": {},
   "source": [
    "KSS Argument Error: Restart Jupyter Kernel Runtime"
   ]
  },
  {
   "cell_type": "code",
   "execution_count": null,
   "metadata": {},
   "outputs": [],
   "source": [
    "%pip install python-mecab-ko"
   ]
  },
  {
   "cell_type": "markdown",
   "metadata": {},
   "source": [
    "KSS 3.7.3 matches python-mecab-ko"
   ]
  },
  {
   "cell_type": "code",
   "execution_count": null,
   "metadata": {},
   "outputs": [],
   "source": [
    "%pip install pandas"
   ]
  },
  {
   "cell_type": "code",
   "execution_count": 1,
   "metadata": {},
   "outputs": [],
   "source": [
    "import re\n",
    "import os\n",
    "import kss\n",
    "import json\n",
    "from mecab import MeCab\n",
    "import pandas as pd\n",
    "from glob import glob"
   ]
  },
  {
   "cell_type": "code",
   "execution_count": 2,
   "metadata": {
    "scrolled": true
   },
   "outputs": [
    {
     "data": {
      "text/plain": [
       "'D:\\\\AIHUB'"
      ]
     },
     "execution_count": 2,
     "metadata": {},
     "output_type": "execute_result"
    }
   ],
   "source": [
    "pwd"
   ]
  },
  {
   "cell_type": "markdown",
   "metadata": {},
   "source": [
    "### Function"
   ]
  },
  {
   "cell_type": "code",
   "execution_count": 7,
   "metadata": {},
   "outputs": [],
   "source": [
    "def post_txt_file_name_list(corpus_list):\n",
    "   \n",
    "  post_corpus_list = []\n",
    "\n",
    "  for corpus_file in corpus_list:\n",
    "    post_corpus = corpus_file.replace(\"before\", \"post\")\n",
    "    post_corpus_list.append(post_corpus)\n",
    "\n",
    "  return post_corpus_list"
   ]
  },
  {
   "cell_type": "markdown",
   "metadata": {},
   "source": [
    "### AIHUB"
   ]
  },
  {
   "cell_type": "markdown",
   "metadata": {},
   "source": [
    "[Source](https://www.aihub.or.kr/aihubdata/data/list.do?currMenu=115&topMenu=100&srchDataRealmCode=REALM002)"
   ]
  },
  {
   "cell_type": "code",
   "execution_count": 144,
   "metadata": {},
   "outputs": [],
   "source": [
    "# before_total_corpus_list = glob(\"AIHUB_corpus/demo/machine_reading_before/AIHUB_machine_reading_train_\" +\"*.txt\")\n",
    "# before_total_corpus_list += glob(\"AIHUB_corpus/demo/machine_reading_before/AIHUB_machine_reading_valid_\" +\"*.txt\")\n",
    "before_total_corpus_list = glob(\"AIHUB_corpus/demo/document_summary_text_before/AIHUB_document_summary_text_\" +\"*.txt\")"
   ]
  },
  {
   "cell_type": "code",
   "execution_count": 145,
   "metadata": {},
   "outputs": [
    {
     "data": {
      "text/plain": [
       "2745"
      ]
     },
     "execution_count": 145,
     "metadata": {},
     "output_type": "execute_result"
    }
   ],
   "source": [
    "len(before_total_corpus_list)"
   ]
  },
  {
   "cell_type": "code",
   "execution_count": 146,
   "metadata": {},
   "outputs": [],
   "source": [
    "post_total_corpus_list = post_txt_file_name_list(before_total_corpus_list)"
   ]
  },
  {
   "cell_type": "code",
   "execution_count": 147,
   "metadata": {},
   "outputs": [
    {
     "name": "stdout",
     "output_type": "stream",
     "text": [
      "부가가치세법 제22조 제3항 단서에 제1호와 제2호가 동시에 해당한다는 뜻은 제18조의 예정신고와 예정납부끼리  제19조의 확정신고와 확정납부끼리 동시에 해당하는 경우를 말하는 것이지 제18조의 예정신고나 그 납부와 제19조의 확정신고나 그 납부가 동시에 해당하는 경우를 가리키는 것이 아니라고 해석되므로 부가가치세의 예정신고 또는 그 납부를 아니하고 또한 확정신고 또는 그 납부를 아니한 경우 통털어서 한번만 가산세를 부과하는 것이 아니라 각각 독립하여 가산세부과대상이 된다\n",
      "\n",
      "나  세법에 있어서 가산세는 과세권의 행사 및 조세채권의 실현을 용이하게 하기 위하여 납세자에게 부과하는 제재이므로 여기에는 납세자의 고의 과실은 고려될 바 없다\n",
      "\n",
      "조세채권의 소멸시효를 규정하고 있는 국세기본법 제27조 제1항 소정의 국세의 징수를 목적으로 하는 권리라 함은 궁극적으로 국세징수의 실현만족을 얻는 일련의 권리를 말하는 것이므로  여기에는 추상적으로 성립된 조세채권을 구체적으로 확정하는 국가의 기능인 부과권과 그 이행을 강제적으로 추구하는 권능인 징수권을 모두 포함하고 있다 할 것이므로 다른 특별한 규정이 없는 한 위 양자가 다같이 소멸시효의 대상이 된다\n",
      "\n",
      "민법 제245조 제2항은  부동산의 소유자로서 등기한 자가 10년간 소유의 의사로 평온공연하게 선의이며 과실없이 그 부동산을 점유한 때에는 소유권을 취득한다 라고 규정하고 있는 바  이는 부동산의 소유자로 등기된 기간과 점유기간이 때를 같이하여 다같이 10년임을 요한다는 취지이다\n",
      "\n",
      "민법 제245조 제2항의 시효에 의하여 소유권을 취득하는 자는 10년간 부동산의 소유자로 등기되어 있어야 하지만 반드시 그 기간동안 그의 명의로 등기되어 있어야 하는 것은 아니고 전자 명의의 등기까지 아울러 그 기간 동안 부동산의 소유자로 등기되어 있으면 충분하다\n",
      "\n",
      "군사시설보호법에 의한 군사시설보호구역의 설정  변경 또는 해제와 같은 행위는 행정입법행위 또는 통치행위로서 이와 같은 행위는 그 종류에 따라 관보에 게재하여 공포하거나 또는 대외적인 공고  고시 등에 의하여 유효하게 성립되고 개별적 통지를 요하지 아니한다\n",
      "\n",
      "나  조세채무는 법률이 정하는 과세요건이 충족되는 때에는 그 조세채무의 성립을 위한 과세관청이나 납세의무자의 특별한 행위가 필요없이 당연히 자동적으로 성립하는 것이므로 이 사건 과세요건의 충족사실인 이 사건 대지에 대한 건축금지조치가 해제된 때로부터 1년 6월이 경과됨으로써 납세의무자가 위 건축금지의 해제사실을 알지 못하였거나 알 수 없었는지의 여부에 구애됨이 없이 이 사건 조세채무가 당연히 성립한다\n",
      "\n",
      "세무공무원이 치안본부에서 통보해온 진술서 등 수사서류에 대한 진부를 확인하는 정도의 조사만 한 것을 가지고는 사업소득에 대한 실지조사를 한 것이라고 볼 수 없다\n",
      "\n"
     ]
    }
   ],
   "source": [
    "line_list = []\n",
    "line_num = 0\n",
    "with open(before_total_corpus_list[0], 'r', encoding='utf-8') as f:\n",
    "    lines = f.read().splitlines() \n",
    "    for line in lines:\n",
    "        line_num += 1\n",
    "        if line_num <= 8:\n",
    "           line_list.append(line)\n",
    "for line in line_list:\n",
    "    print(line, end=\"\\n\\n\")"
   ]
  },
  {
   "cell_type": "code",
   "execution_count": 148,
   "metadata": {
    "collapsed": true
   },
   "outputs": [
    {
     "name": "stdout",
     "output_type": "stream",
     "text": [
      "부가가치세법 제22조 제3항 단서에 제1호와 제2호가 동시에 해당한다는 뜻은 제18조의 예정신고와 예정납부끼리  제19조의 확정신고와 확정납부끼리 동시에 해당하는 경우를 말하는 것이지 제18조의 예정신고나 그 납부와 제19조의 확정신고나 그 납부가 동시에 해당하는 경우를 가리키는 것이 아니라고 해석되므로 부가가치세의 예정신고 또는 그 납부를 아니하고 또한 확정신고 또는 그 납부를 아니한 경우 통털어서 한번만 가산세를 부과하는 것이 아니라 각각 독립하여 가산세부과대상이 된다.\n",
      "\n",
      "나  세법에 있어서 가산세는 과세권의 행사 및 조세채권의 실현을 용이하게 하기 위하여 납세자에게 부과하는 제재이므로 여기에는 납세자의 고의 과실은 고려될 바 없다.\n",
      "\n",
      "조세채권의 소멸시효를 규정하고 있는 국세기본법 제27조 제1항 소정의 국세의 징수를 목적으로 하는 권리라 함은 궁극적으로 국세징수의 실현만족을 얻는 일련의 권리를 말하는 것이므로  여기에는 추상적으로 성립된 조세채권을 구체적으로 확정하는 국가의 기능인 부과권과 그 이행을 강제적으로 추구하는 권능인 징수권을 모두 포함하고 있다 할 것이므로 다른 특별한 규정이 없는 한 위 양자가 다같이 소멸시효의 대상이 된다.\n",
      "\n",
      "민법 제245조 제2항은  부동산의 소유자로서 등기한 자가 10년간 소유의 의사로 평온공연하게 선의이며 과실없이 그 부동산을 점유한 때에는 소유권을 취득한다 라고 규정하고 있는 바  이는 부동산의 소유자로 등기된 기간과 점유기간이 때를 같이하여 다같이 10년임을 요한다는 취지이다.\n",
      "\n",
      "민법 제245조 제2항의 시효에 의하여 소유권을 취득하는 자는 10년간 부동산의 소유자로 등기되어 있어야 하지만 반드시 그 기간동안 그의 명의로 등기되어 있어야 하는 것은 아니고 전자 명의의 등기까지 아울러 그 기간 동안 부동산의 소유자로 등기되어 있으면 충분하다.\n",
      "\n",
      "군사시설보호법에 의한 군사시설보호구역의 설정  변경 또는 해제와 같은 행위는 행정입법행위 또는 통치행위로서 이와 같은 행위는 그 종류에 따라 관보에 게재하여 공포하거나 또는 대외적인 공고  고시 등에 의하여 유효하게 성립되고 개별적 통지를 요하지 아니한다.\n",
      "\n",
      "나  조세채무는 법률이 정하는 과세요건이 충족되는 때에는 그 조세채무의 성립을 위한 과세관청이나 납세의무자의 특별한 행위가 필요없이 당연히 자동적으로 성립하는 것이므로 이 사건 과세요건의 충족사실인 이 사건 대지에 대한 건축금지조치가 해제된 때로부터 1년 6월이 경과됨으로써 납세의무자가 위 건축금지의 해제사실을 알지 못하였거나 알 수 없었는지의 여부에 구애됨이 없이 이 사건 조세채무가 당연히 성립한다.\n",
      "\n",
      "세무공무원이 치안본부에서 통보해온 진술서 등 수사서류에 대한 진부를 확인하는 정도의 조사만 한 것을 가지고는 사업소득에 대한 실지조사를 한 것이라고 볼 수 없다.\n",
      "\n"
     ]
    }
   ],
   "source": [
    "line_list = []\n",
    "line_num = 0\n",
    "with open(before_total_corpus_list[0], 'r', encoding='utf-8') as f:\n",
    "    lines = f.read().splitlines() \n",
    "    for line in lines:\n",
    "        line_num += 1\n",
    "        if line_num <= 8:\n",
    "            total_length = len(line.replace(\" \" , \"\"))\n",
    "            hangeul_length = len(re.sub(r\"[^ㄱ-ㅣ가-힣\\s]\", \"\", line.replace(\" \" , \"\")))\n",
    "            hangeul_ratio = hangeul_length / total_length\n",
    "            if hangeul_ratio >= 0.5:\n",
    "            # 한글이 아닌 문자열이 50% 이상이 넘은 문장 제외\n",
    "            \n",
    "                if bool(re.match(r'[.]', line[-1])) == True:\n",
    "                   line_list.append(line)\n",
    "                else:\n",
    "                    line_list.append(line + \".\")\n",
    "           # 문장의 끝에 '.' 추가\n",
    "        \n",
    "for line in line_list:\n",
    "    print(line, end=\"\\n\\n\")"
   ]
  },
  {
   "cell_type": "code",
   "execution_count": 149,
   "metadata": {},
   "outputs": [],
   "source": [
    "for before, post in zip(before_total_corpus_list, post_total_corpus_list):\n",
    "    \n",
    "    sentence_list = []\n",
    "    with open(before, 'r', encoding='utf-8') as f:\n",
    "        lines = f.read().splitlines() \n",
    "        for line in lines:\n",
    "            total_length = len(line.replace(\" \" , \"\"))\n",
    "            hangeul_length = len(re.sub(r\"[^ㄱ-ㅣ가-힣\\s]\", \"\", line.replace(\" \" , \"\")))\n",
    "            hangeul_ratio = hangeul_length / total_length\n",
    "            if hangeul_ratio >= 0.5:\n",
    "            # 한글이 아닌 문자열이 50% 이상이 넘은 문장 제외\n",
    "\n",
    "                if bool(re.match(r'[.]', line[-1])) == True:\n",
    "                   sentence_list.append(line)\n",
    "                else:\n",
    "                    sentence_list.append(line + \".\")\n",
    "           # 문장의 끝에 '.' 추가\n",
    "\n",
    "    with open(post, 'a', encoding='utf-8') as fp:\n",
    "        fp.write(\"\\n\".join(sentence_list))"
   ]
  }
 ],
 "metadata": {
  "kernelspec": {
   "display_name": "corpus_05",
   "language": "python",
   "name": "corpus_05"
  },
  "language_info": {
   "codemirror_mode": {
    "name": "ipython",
    "version": 3
   },
   "file_extension": ".py",
   "mimetype": "text/x-python",
   "name": "python",
   "nbconvert_exporter": "python",
   "pygments_lexer": "ipython3",
   "version": "3.9.13"
  }
 },
 "nbformat": 4,
 "nbformat_minor": 2
}
