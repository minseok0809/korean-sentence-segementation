{
 "cells": [
  {
   "cell_type": "markdown",
   "metadata": {},
   "source": [
    "## AIHub Search Strange Source in Json"
   ]
  },
  {
   "cell_type": "markdown",
   "metadata": {},
   "source": [
    "### Development Environment"
   ]
  },
  {
   "cell_type": "code",
   "execution_count": null,
   "metadata": {},
   "outputs": [],
   "source": [
    "%pip install kss==3.7.3"
   ]
  },
  {
   "cell_type": "markdown",
   "metadata": {},
   "source": [
    "KSS Argument Error: Restart Jupyter Kernel Runtime"
   ]
  },
  {
   "cell_type": "code",
   "execution_count": null,
   "metadata": {},
   "outputs": [],
   "source": [
    "%pip install python-mecab-ko"
   ]
  },
  {
   "cell_type": "markdown",
   "metadata": {},
   "source": [
    "KSS 3.7.3 matches python-mecab-ko"
   ]
  },
  {
   "cell_type": "code",
   "execution_count": null,
   "metadata": {},
   "outputs": [],
   "source": [
    "%pip install pandas"
   ]
  },
  {
   "cell_type": "code",
   "execution_count": 1,
   "metadata": {},
   "outputs": [],
   "source": [
    "import re\n",
    "import os\n",
    "import kss\n",
    "import json\n",
    "from mecab import MeCab\n",
    "import pandas as pd\n",
    "from glob import glob\n",
    "from pprint import pprint"
   ]
  },
  {
   "cell_type": "code",
   "execution_count": 2,
   "metadata": {},
   "outputs": [
    {
     "data": {
      "text/plain": [
       "'d:\\\\AIHUB'"
      ]
     },
     "execution_count": 2,
     "metadata": {},
     "output_type": "execute_result"
    }
   ],
   "source": [
    "pwd"
   ]
  },
  {
   "cell_type": "markdown",
   "metadata": {},
   "source": [
    "### Function"
   ]
  },
  {
   "cell_type": "code",
   "execution_count": null,
   "metadata": {},
   "outputs": [],
   "source": [
    "def sorted_list(path_list):\n",
    "    path_list = sorted(path_list, reverse=False)\n",
    "    path_list = sorted(path_list, key=len)\n",
    "    \n",
    "    return path_list"
   ]
  },
  {
   "cell_type": "code",
   "execution_count": 3,
   "metadata": {},
   "outputs": [],
   "source": [
    "def json_file_name_list(path_list):\n",
    "    \n",
    "    file_name  = [glob(i, recursive = True) for i in path_list][0]\n",
    "    file_name = sorted_list(file_name)\n",
    "    \n",
    "    return file_name"
   ]
  },
  {
   "cell_type": "code",
   "execution_count": 4,
   "metadata": {},
   "outputs": [],
   "source": [
    "def train_valid_json_file_name_list(path_list):\n",
    "\n",
    "  train_file_name, valid_file_name = [glob(i, recursive = True) if 'rain' in i\n",
    "                                      else glob(i, recursive = True)\n",
    "                                      for i in path_list]\n",
    "\n",
    "  train_file_name = sorted_list(train_file_name)\n",
    "  valid_file_name = sorted_list(valid_file_name)\n",
    "    \n",
    "  return train_file_name, valid_file_name"
   ]
  },
  {
   "cell_type": "code",
   "execution_count": null,
   "metadata": {},
   "outputs": [],
   "source": [
    "def divide_source_file_list(l, n): \n",
    "    \n",
    "  for i in range(0, len(l), n): \n",
    "    yield l[i:i + n] "
   ]
  },
  {
   "cell_type": "code",
   "execution_count": 6,
   "metadata": {},
   "outputs": [],
   "source": [
    "def formal_preprocessing_text(source):\n",
    "    preprocessing_sentence_list = []\n",
    "    \n",
    "    source = source.strip()\n",
    "    # strip으로 앞뒤 공백 제거\n",
    "\n",
    "    source = re.sub(r\"\\[.*?\\]|\\{.*?\\}|\\<.*?\\>\", \"\", source)\n",
    "    # 기타 괄호 제거할 시 괄호 내부에 모든 텍스트 제거\n",
    "    \n",
    "    for sentence in kss.split_sentences(source, use_heuristic=False,\n",
    "                                        num_workers=32):\n",
    "    # KSS(Korean Sentence Segmentation)로 문장 분리 \n",
    "    # Formal articles (wiki, news, essays): recommend to False\n",
    "\n",
    "        if re.search(\"^[A-Za-z0-9ㄱ-ㅎ가-힣一-鿕㐀-䶵豈-龎①②③④⑤⑥⑦⑧⑨⑩⑪⑫⑬⑭⑮]\", sentence[0]) is not None and \\\n",
    "            bool(re.match(r'[.]|[!]|[?]', sentence[-1])) == True and \\\n",
    "            len(sentence.split()) > 5:\n",
    "            # 문장의 시작이 특수문자인 문장(영어 대소문자, 한글, 한자, 숫자, -, +, \n",
    "            # ①, ②, ③, ④, ⑤, ⑥, ⑦, ⑧, ⑨, ⑩, ⑪, ⑫, ⑬, ⑭, ⑮ 제외) 제외\n",
    "            # 문장의 끝이 온점(.). 느낌표(!). 물음표(?)가 아닌 문장 제외\n",
    "            # 다섯 어절 이하 문장 제외\n",
    "            \n",
    "                                    \n",
    "            if ']' in sentence and '[' not in sentence:\n",
    "                sentence  = re.sub(r\".*?]\", \"\", sentence)    \n",
    "            # 중괄호 앞에 있는 '성명/직함]' 형태 제거\n",
    "            \n",
    "            sentence = re.sub(r\"[^A-Za-z0-9ㄱ-ㅎ가-힣一-鿕㐀-䶵豈-龎()+-.,]\", \" \", sentence)\n",
    "            # 특수문자 제거(영어 대소문자, 한글, 한자, 숫자, -, +, 소괄호 제외)\n",
    "\n",
    "            sentence = sentence.strip()\n",
    "            # strip으로 앞뒤 공백 제거\n",
    "            \n",
    "            total_length = len(sentence.replace(\" \" , \"\"))\n",
    "            hangeul_length = len(re.sub(r\"[^ㄱ-ㅣ가-힣\\s]\", \"\", sentence.replace(\" \" , \"\")))\n",
    "            hangeul_ratio = hangeul_length / total_length\n",
    "            if hangeul_ratio >= 0.5:\n",
    "            # 한글이 아닌 문자열이 50% 이상이 넘은 문장 제외\n",
    "                    \n",
    "                for sentence2 in kss.split_sentences(sentence, use_heuristic=False,\n",
    "                                        num_workers=32):\n",
    "                    for sentence3 in kss.split_sentences(sentence2, use_heuristic=False,\n",
    "                                                         num_workers=32):\n",
    "                        preprocessing_sentence_list.append(sentence3)\n",
    "                        \n",
    "            # 마지막에 KSS(Korean Sentence Segmentation)로 문장 분리 2번 실행\n",
    "\n",
    "  \n",
    "    return preprocessing_sentence_list"
   ]
  },
  {
   "cell_type": "markdown",
   "metadata": {},
   "source": [
    "### AIHUB 전문분야 말뭉치"
   ]
  },
  {
   "cell_type": "code",
   "execution_count": 9,
   "metadata": {},
   "outputs": [],
   "source": [
    "path_list = ['AIHUB_전문분야 말뭉치/Training/'+ '/**/*.json', \n",
    "             'AIHUB_전문분야 말뭉치/Validation/'+ '/**/*.json']\n",
    "train_file_name, valid_file_name = train_valid_json_file_name_list(path_list)"
   ]
  },
  {
   "cell_type": "code",
   "execution_count": 501,
   "metadata": {},
   "outputs": [
    {
     "data": {
      "text/plain": [
       "'AIHUB_전문분야 말뭉치/Training\\\\[원천]전문분야_train\\\\논문_1_1.json'"
      ]
     },
     "execution_count": 501,
     "metadata": {},
     "output_type": "execute_result"
    }
   ],
   "source": [
    "train_file_name[1]"
   ]
  },
  {
   "cell_type": "code",
   "execution_count": 502,
   "metadata": {},
   "outputs": [
    {
     "data": {
      "text/plain": [
       "'AIHUB_전문분야 말뭉치/Training\\\\[원천]전문분야_train\\\\특허_03.json'"
      ]
     },
     "execution_count": 502,
     "metadata": {},
     "output_type": "execute_result"
    }
   ],
   "source": [
    "train_file_name[10]"
   ]
  },
  {
   "cell_type": "code",
   "execution_count": 526,
   "metadata": {},
   "outputs": [
    {
     "data": {
      "text/plain": [
       "'AIHUB_전문분야 말뭉치/Training\\\\[원천]전문분야_train\\\\특허_z_1.json'"
      ]
     },
     "execution_count": 526,
     "metadata": {},
     "output_type": "execute_result"
    }
   ],
   "source": [
    "train_file_name[24]"
   ]
  },
  {
   "cell_type": "code",
   "execution_count": 519,
   "metadata": {},
   "outputs": [
    {
     "data": {
      "text/plain": [
       "'AIHUB_전문분야 말뭉치/Training\\\\[원천]전문분야_train\\\\법령_l_1000_1.json'"
      ]
     },
     "execution_count": 519,
     "metadata": {},
     "output_type": "execute_result"
    }
   ],
   "source": [
    "train_file_name[2]"
   ]
  },
  {
   "cell_type": "code",
   "execution_count": 10,
   "metadata": {},
   "outputs": [
    {
     "data": {
      "text/plain": [
       "'AIHUB_전문분야 말뭉치/Training\\\\[원천]전문분야_train\\\\판례_case03.json'"
      ]
     },
     "execution_count": 10,
     "metadata": {},
     "output_type": "execute_result"
    }
   ],
   "source": [
    "train_file_name[30]"
   ]
  },
  {
   "cell_type": "code",
   "execution_count": 527,
   "metadata": {},
   "outputs": [],
   "source": [
    "source_file = train_file_name[1]\n",
    "\n",
    "with open(source_file, 'r', encoding='utf-8') as one_json_file:\n",
    "    one_json_sample = json.load(one_json_file)\n",
    "\n",
    "if '논문_' in source_file:\n",
    "    source_list = list(pd.DataFrame(one_json_sample['data'])['text'])\n",
    "\n",
    "    \n",
    "elif '특허_z' in source_file:\n",
    "    source_df = pd.DataFrame(one_json_sample['data'])\n",
    "    source_list = list(source_df[source_df['attr'] == 'abs']['text'])\n",
    "\n",
    "\n",
    "elif '특허_0' in source_file or '특허_1' in source_file:\n",
    "    source_df = pd.DataFrame(one_json_sample['data'])\n",
    "    source_dict = dict(source_df[source_df['attr'] == '초록']['sentence'].explode())\n",
    "    source_json = pd.json_normalize(source_dict)\n",
    "    source_list = list(source_json.filter(regex='text').values[0])\n",
    "    \n",
    "\n",
    "elif '법령' in source_file or '판례' in source_file:\n",
    "    source_df = pd.DataFrame(one_json_sample['data'])\n",
    "    source_dict = dict(source_df['sentence'].explode())\n",
    "    source_json = pd.json_normalize(source_dict)\n",
    "    source_list = list(source_json.filter(regex='text').values[0])"
   ]
  },
  {
   "cell_type": "code",
   "execution_count": 540,
   "metadata": {},
   "outputs": [
    {
     "data": {
      "text/plain": [
       "'결과: 건강상태는 질환인식(r=-.44, p<.001), 회피대처 (r=-.33, p=.001)와 유의미한 상관관계를 나타내었다.'"
      ]
     },
     "execution_count": 540,
     "metadata": {},
     "output_type": "execute_result"
    }
   ],
   "source": [
    "source_list[2190]"
   ]
  },
  {
   "cell_type": "code",
   "execution_count": 541,
   "metadata": {},
   "outputs": [
    {
     "name": "stdout",
     "output_type": "stream",
     "text": [
      "결과  건강상태는 질환인식(r - 44  p  001)  회피대처 (r - 33  p  001)와 유의미한 상관관계를 나타내었다.\n"
     ]
    }
   ],
   "source": [
    "preprocessing_sentences = formal_preprocessing_text(source_list[2190])\n",
    "for preprocessing_sentence in preprocessing_sentences:\n",
    "    print(preprocessing_sentence)"
   ]
  },
  {
   "cell_type": "code",
   "execution_count": 542,
   "metadata": {},
   "outputs": [
    {
     "name": "stdout",
     "output_type": "stream",
     "text": [
      "['결과  건강상태는 질환인식(r - 44  p  001)  회피대처 (r - 33  p  001)와 유의미한 상관관계를 나타내었다.']\n"
     ]
    }
   ],
   "source": [
    "print(preprocessing_sentences)"
   ]
  },
  {
   "cell_type": "code",
   "execution_count": 553,
   "metadata": {},
   "outputs": [
    {
     "data": {
      "text/plain": [
       "'AIHUB_전문분야 말뭉치/Training\\\\[원천]전문분야_train\\\\특허_03.json'"
      ]
     },
     "execution_count": 553,
     "metadata": {},
     "output_type": "execute_result"
    }
   ],
   "source": [
    "train_file_name[10]"
   ]
  },
  {
   "cell_type": "code",
   "execution_count": 554,
   "metadata": {},
   "outputs": [],
   "source": [
    "source_file = train_file_name[10]\n",
    "\n",
    "with open(source_file, 'r', encoding='utf-8') as one_json_file:\n",
    "    one_json_sample = json.load(one_json_file)\n",
    "\n",
    "if '논문_' in source_file:\n",
    "    source_list = list(pd.DataFrame(one_json_sample['data'])['text'])\n",
    "\n",
    "    \n",
    "elif '특허_z' in source_file:\n",
    "    source_df = pd.DataFrame(one_json_sample['data'])\n",
    "    source_list = list(source_df[source_df['attr'] == 'abs']['text'])\n",
    "\n",
    "\n",
    "elif '특허_0' in source_file or '특허_1' in source_file:\n",
    "    source_df = pd.DataFrame(one_json_sample['data'])\n",
    "    source_dict = dict(source_df[source_df['attr'] == '초록']['sentence'].explode())\n",
    "    source_json = pd.json_normalize(source_dict)\n",
    "    source_list = list(source_json.filter(regex='text').values[0])\n",
    "    \n",
    "\n",
    "elif '법령' in source_file or '판례' in source_file:\n",
    "    source_df = pd.DataFrame(one_json_sample['data'])\n",
    "    source_dict = dict(source_df['sentence'].explode())\n",
    "    source_json = pd.json_normalize(source_dict)\n",
    "    source_list = list(source_json.filter(regex='text').values[0])"
   ]
  },
  {
   "cell_type": "code",
   "execution_count": 563,
   "metadata": {},
   "outputs": [
    {
     "data": {
      "text/plain": [
       "'또한, [A] 화합물이 하기 화학식 (1-A)로 표시되는 화합물 및 하기 화학식 (1-B)로 표시되는 화합물로 이루어지는 군에서 선택되는 적어도 1종의 화합물인 감방사선성 조성물이다.'"
      ]
     },
     "execution_count": 563,
     "metadata": {},
     "output_type": "execute_result"
    }
   ],
   "source": [
    "source_list[338]"
   ]
  },
  {
   "cell_type": "code",
   "execution_count": 564,
   "metadata": {},
   "outputs": [
    {
     "name": "stdout",
     "output_type": "stream",
     "text": [
      "또한   화합물이 하기 화학식 (1-A)로 표시되는 화합물 및 하기 화학식 (1-B)로 표시되는 화합물로 이루어지는 군에서 선택되는 적어도 1종의 화합물인 감방사선성 조성물이다.\n"
     ]
    }
   ],
   "source": [
    "preprocessing_sentences = formal_preprocessing_text(source_list[338])\n",
    "for preprocessing_sentence in preprocessing_sentences:\n",
    "    print(preprocessing_sentence)"
   ]
  },
  {
   "cell_type": "code",
   "execution_count": 565,
   "metadata": {},
   "outputs": [
    {
     "name": "stdout",
     "output_type": "stream",
     "text": [
      "['또한   화합물이 하기 화학식 (1-A)로 표시되는 화합물 및 하기 화학식 (1-B)로 표시되는 화합물로 이루어지는 군에서 선택되는 적어도 1종의 화합물인 감방사선성 조성물이다.']\n"
     ]
    }
   ],
   "source": [
    "print(preprocessing_sentences)"
   ]
  },
  {
   "cell_type": "code",
   "execution_count": 673,
   "metadata": {},
   "outputs": [],
   "source": [
    "source_file = train_file_name[24]\n",
    "\n",
    "with open(source_file, 'r', encoding='utf-8') as one_json_file:\n",
    "    one_json_sample = json.load(one_json_file)\n",
    "\n",
    "if '논문_' in source_file:\n",
    "    source_list = list(pd.DataFrame(one_json_sample['data'])['text'])\n",
    "\n",
    "    \n",
    "elif '특허_z' in source_file:\n",
    "    source_df = pd.DataFrame(one_json_sample['data'])\n",
    "    source_list = list(source_df[source_df['attr'] == 'abs']['text'])\n",
    "\n",
    "\n",
    "elif '특허_0' in source_file or '특허_1' in source_file:\n",
    "    source_df = pd.DataFrame(one_json_sample['data'])\n",
    "    source_dict = dict(source_df[source_df['attr'] == '초록']['sentence'].explode())\n",
    "    source_json = pd.json_normalize(source_dict)\n",
    "    source_list = list(source_json.filter(regex='text').values[0])\n",
    "    \n",
    "\n",
    "elif '법령' in source_file or '판례' in source_file:\n",
    "    source_df = pd.DataFrame(one_json_sample['data'])\n",
    "    source_dict = dict(source_df['sentence'].explode())\n",
    "    source_json = pd.json_normalize(source_dict)\n",
    "    source_list = list(source_json.filter(regex='text').values[0])"
   ]
  },
  {
   "cell_type": "code",
   "execution_count": 677,
   "metadata": {},
   "outputs": [
    {
     "data": {
      "text/plain": [
       "'시클로헥사논 옥심 생성을 위한 암옥심화 반응기는, (a) 교반기를 구비한 반응기 용기; (b) 내부 여과 시스템; (c) 내부 액체 암모니아 증발 코일; (d) 내부 기체 암모니아 환형 분배기; (e) 외부 시클로헥사논 환형 분배기; (f) 내부 과산화수소 환형 분배기; (g) 내부 원통형 흡출관 (draft tube); 및 (h) 외부 냉각 재킷을 포함한다.'"
      ]
     },
     "execution_count": 677,
     "metadata": {},
     "output_type": "execute_result"
    }
   ],
   "source": [
    "source_list[28]"
   ]
  },
  {
   "cell_type": "code",
   "execution_count": 676,
   "metadata": {},
   "outputs": [
    {
     "name": "stdout",
     "output_type": "stream",
     "text": [
      "시클로헥사논 옥심 생성을 위한 암옥심화 반응기는  (a) 교반기를 구비한 반응기 용기  (b) 내부 여과 시스템  (c) 내부 액체 암모니아 증발 코일  (d) 내부 기체 암모니아 환형 분배기  (e) 외부 시클로헥사논 환형 분배기  (f) 내부 과산화수소 환형 분배기  (g) 내부 원통형 흡출관 (draft tube)  및 (h) 외부 냉각 재킷을 포함한다.\n"
     ]
    }
   ],
   "source": [
    "preprocessing_sentences = formal_preprocessing_text(source_list[28])\n",
    "for preprocessing_sentence in preprocessing_sentences:\n",
    "    print(preprocessing_sentence)"
   ]
  },
  {
   "cell_type": "code",
   "execution_count": 678,
   "metadata": {},
   "outputs": [
    {
     "name": "stdout",
     "output_type": "stream",
     "text": [
      "['시클로헥사논 옥심 생성을 위한 암옥심화 반응기는  (a) 교반기를 구비한 반응기 용기  (b) 내부 여과 시스템  (c) 내부 액체 암모니아 증발 코일  (d) 내부 기체 암모니아 환형 분배기  (e) 외부 시클로헥사논 환형 분배기  (f) 내부 과산화수소 환형 분배기  (g) 내부 원통형 흡출관 (draft tube)  및 (h) 외부 냉각 재킷을 포함한다.']\n"
     ]
    }
   ],
   "source": [
    "print(preprocessing_sentences)"
   ]
  },
  {
   "cell_type": "code",
   "execution_count": 47,
   "metadata": {},
   "outputs": [
    {
     "data": {
      "text/plain": [
       "'AIHUB_전문분야 말뭉치/Training\\\\[원천]전문분야_train\\\\법령_l_1000_1.json'"
      ]
     },
     "execution_count": 47,
     "metadata": {},
     "output_type": "execute_result"
    }
   ],
   "source": [
    "train_file_name[2]"
   ]
  },
  {
   "cell_type": "code",
   "execution_count": 48,
   "metadata": {},
   "outputs": [],
   "source": [
    "source_file = train_file_name[2]\n",
    "\n",
    "with open(source_file, 'r', encoding='utf-8') as one_json_file:\n",
    "    one_json_sample = json.load(one_json_file)\n",
    "\n",
    "if '논문_' in source_file:\n",
    "    source_list = list(pd.DataFrame(one_json_sample['data'])['text'])\n",
    "\n",
    "    \n",
    "elif '특허_z' in source_file:\n",
    "    source_df = pd.DataFrame(one_json_sample['data'])\n",
    "    source_list = list(source_df[source_df['attr'] == 'abs']['text'])\n",
    "\n",
    "\n",
    "elif '특허_0' in source_file or '특허_1' in source_file:\n",
    "    source_df = pd.DataFrame(one_json_sample['data'])\n",
    "    source_dict = dict(source_df[source_df['attr'] == '초록']['sentence'].explode())\n",
    "    source_json = pd.json_normalize(source_dict)\n",
    "    source_list = list(source_json.filter(regex='text').values[0])\n",
    "    \n",
    "\n",
    "elif '법령' in source_file or '판례' in source_file:\n",
    "    source_df = pd.DataFrame(one_json_sample['data'])\n",
    "    source_dict = dict(source_df['sentence'].explode())\n",
    "    source_json = pd.json_normalize(source_dict)\n",
    "    source_list = list(source_json.filter(regex='text').values[0])"
   ]
  },
  {
   "cell_type": "code",
   "execution_count": 92,
   "metadata": {},
   "outputs": [
    {
     "data": {
      "text/plain": [
       "['제1조(목적)이 영은 「정부조직법」 제12조제4항에 따라 국무회의의 운영에 필요한 사항을 규정함을 목적으로 한다. [전문개정 2011.11.7]',\n",
       " '제2조(회의운영)① 국무회의는 국가의 중요정책이 전정부적차원에서 충분히 심의될 수 있도록운영되어야 한다. ② 국무회의는 정례(정례) 국무회의와 임시 국무회의로 구분하되, 정례 국무회의는 매주1회 소집하고, 임시 국무회의는 필요에 따라 그때그때 소집한다. [전문개정 2011.11.7]',\n",
       " '제3조(의안제출)① 대통령ㆍ국무총리 또는 국무위원은 「대한민국헌법」 제89조 및 법령에 규정된 국무회의의 심의사항을 의안으로 제출한다. ② 중요 정책을 시행하기 위하여 필요한 법령안을 제출할 때에는 그 정책의 내용을 심의하기 위한 자료를 함께 제출하거나 그 정책의 내용을 심의하기 위한 의안을 미리 제출하여야 한다. ③ 국무회의에서 중점 심의되어야 할 중요 사항에 대해서는 그 심의에 필요한 검토의견 등을 해당 의안에 분명히 밝혀 제출하여야 한다. ④ 의안은 의결사항과 보고사항으로 구분하여 늦어도 그 의안을 상정할 차관회의의 개회일 3일 전까지 행정안전부에 제출하여야 한다. 다만, 법률 공포안, 「대한민국헌법」 제89조제16호에 규정된 사항에 관한 의안과 긴급한 의안은 그러하지 아니하다. 〈개정 2013ㆍ3ㆍ23, 2014ㆍ11ㆍ19, 2017ㆍ7ㆍ26〉⑤ 행정안전부장관은 차관회의의 심의를 거친 의안을 국무회의 개회일 2일전까지 의사일정과 함께 대통령, 국무총리, 국무위원 및 제8조에 따른 배석자에게 배부한다. 다만, 임시 국무회의에 의안을 상정하는 경우 또는 긴급한 의안을 상정하는 경우에는 그러하지 아니하다. 〈개정 2013ㆍ3ㆍ23, 2014ㆍ11ㆍ19, 2017ㆍ7ㆍ26〉',\n",
       " '⑥ 다음 각 호의 어느 하나에 해당하는 사항으로서 중요 정책에 관계되는 사항은 국무회의에 수시로 보고하여야 한다. 〈개정 2017ㆍ7ㆍ26〉1. 국내외 중요 정보의 분석 상황2. 정부의 역점사업 추진현황3. 국민생활에 영향을 미치는 중요시책의 추진현황4. 대국민 홍보를 적극적으로 하여야 할 중요 사항5. 부ㆍ처 간의 협조가 필요한 사항6. 대통령 및 국무총리의 지시사항[전문개정 2011.11.7]',\n",
       " '제4조(합의)국무회의에 상정할 의안으로서 2개 이상의 부ㆍ처에 관련되는 의안은 사전에 관계 부ㆍ처 간의 합의를 얻어서 제출하여야 한다. 다만, 합의를 얻지 못한 경우에는 그 사유를 분명히 밝혀 국무회의에 상정할 수 있다. [전문개정 2011.11.7]',\n",
       " '제5조(의안의 심의)① 국무회의에 제출된 의안은 먼저 차관회의의 심의를 거쳐야 한다. 다만, 긴급한의안은 그러하지 아니하다. ② 국무회의는 필요하다고 인정할 때에는 특정 사항을 지시하여 차관회의로 하여금 심의ㆍ보고하게 할 수 있다. [전문개정 2011.11.7]',\n",
       " '제6조(의사정족수 및 의결정족수 등)① 국무회의는 구성원과반수의 출석으로 개의(개의)하고, 출석구성원 3분의 2 이상의 찬성으로 의결한다. ② 국무회의는 구성원이 동영상 및 음성이 동시에 송수신되는 장치가 갖추어진 서로 다른 장소에 출석하여 진행하는 원격영상회의 방식으로 할 수 있다. 이 경우 국무회의의 구성원은 동일한 회의장에 출석한 것으로 본다. [전문개정 2011.11.7]',\n",
       " '제7조(대리출석)① 국무위원이 국무회의에 출석하지 못할 때에는 각 부의 차관(행정안전부의 재난안전관리사무에 관하여는 이를 담당하는 본부장을 포함한다)이 대리하여 출석한다. 〈개정 2013ㆍ3ㆍ23, 2014ㆍ11ㆍ19, 2017ㆍ7ㆍ26〉② 대리 출석한 차관은 관계 의안에 관하여 발언할 수 있으나 표결에는 참가할 수 없다. [전문개정 2011.11.7]',\n",
       " '제8조(배석등)① 국무회의에는 대통령비서실장, 국가안보실장, 대통령비서실 정책실장, 국무조정실장, 국가보훈처장, 인사혁신처장, 법제처장, 식품의약품안전처장, 공정거래위원회위원장, 금융위원회위원장, 과학기술혁신본부장, 통상교섭본부장 및 서울특별시장이 배석한다. 다만, 의장이 필요하다고 인정하는 경우에는 중요 직위에 있는 공무원을 배석하게 할 수 있다. 〈개정 2013ㆍ3ㆍ23, 2014ㆍ11ㆍ19, 2017ㆍ7ㆍ26〉② 의장이 필요하다고 인정할 때에는 중앙행정기관인 청(청)의 장으로 하여금 소관 사무와 관련하여 국무회의에 출석하여 발언하게 하거나 관계 전문가를 참석하게 하여 의견을 들을 수 있다. [전문개정 2011.11.7]',\n",
       " '제9조(보충 설명)의안에 관하여 보충 설명이 필요할 때에는 그 의안을 제출한 부ㆍ처의 3급 공무원 또는 고위공무원단에 속하는 일반직공무원으로 하여금 설명하게 할 수 있다. [전문개정 2011.11.7]',\n",
       " '제10조(간사)① 국무회의의 서무를 처리하기 위하여 간사 1명을 둔다. ② 간사는 행정안전부 의정관이 된다. 〈개정 2014ㆍ11ㆍ19, 2017ㆍ7ㆍ26〉[전문개정 2011.11.7]',\n",
       " '제11조(국무회의록)① 간사는 국무회의록을 작성한다. ② 행정안전부장관은 제1항에 따라 작성된 국무회의록을 대통령에게 보고하고, 국무총리ㆍ국무위원 및 제8조에 따른 배석자에게 송부한다. 〈개정 2014ㆍ11ㆍ19, 2017ㆍ7ㆍ26〉[전문개정 2011.11.7]',\n",
       " '제1조(설치 및 기능)① 행정 각 부ㆍ처ㆍ청 간의 협조를 긴밀하게 하며 국무회의에 제출된 의안과 국무회의로부터 지시받은 사항을 심의하기 위하여 차관회의를 둔다. ② 차관회의는 국무에 관하여 국무회의에 건의할 수 있다. [전문개정 2011.11.7]',\n",
       " '제2조(구성)차관회의는 국무조정실장과 각 부의 차관으로 구성한다. 다만, 2명의 차관을 둔 부의 경우에는 그 중 1명이 구성원이 된다. 〈개정 2013ㆍ3ㆍ23, 2014ㆍ11ㆍ19, 2017ㆍ7ㆍ26〉 전문개정 2011.11.7]',\n",
       " '제3조(의장)① 차관회의에 의장 1명을 둔다. ② 의장은 국무조정실장이 된다. 〈개정 2013ㆍ3ㆍ23〉③ 의장은 차관회의의 사무를 총괄하며, 차관회의를 소집하고 이를 주재한다. ④ 의장이 부득이한 사유로 직무를 수행할 수 없을 때에는 「정부조직법」 제26조제1항에 규정된 순위에 따르는 차관이 그 직무를 대행한다. 〈개정 2013ㆍ3ㆍ23〉[전문개정 2011.11.7]',\n",
       " '제4조(배석 및 출석발언자)① 의장은 필요하다고 인정하는 경우에는 중요 직위에 있는 공무원을 차관회의에 배석하게 할 수 있다. ② 중앙행정기관인 청의 장은 소관 사무에 관하여 차관회의에 출석하여 발언할 수 있다. ③ 법제처 차장은 법령안 및 조약안이 상정되는 차관회의에 배석한다. [전문개정 2011.11.7]',\n",
       " '제5조(회의 소집)차관회의는 정례(정례) 차관회의와 임시 차관회의로 구분하되, 정례 차관회의는 매주1회 소집하고 임시 차관회의는 필요에 따라 그때그때 소집한다. [전문개정 2011.11.7]',\n",
       " '제6조(의안의 처리)① 차관회의에서 중점 심의되어야 할 중요 사항에 대해서는 해당 의안의 심의에 필요한 검토의견을 제시하여야 한다. ② 차관회의에서 가결된 의안은 그 의결 결과를 첨부하여 국무회의에 상정하고, 부결된 의안은 국무회의에 상정하지 아니한다. 다만, 그 부결 이유를 분명히 밝힌 심의의견을 의안에 첨부하는 경우에는 상정할 수 있다. [전문개정 2011.11.7]',\n",
       " '제7조(의사정족수 및 의결정족수등)① 차관회의는 구성원 과반수의 출석으로 개의(개의)하고, 출석구성원 과반수의 찬성으로 의결한다. ② 차관회의는 구성원이 동영상 및 음성이 동시에 송수신되는 장치가 갖추어진 서로 다른 장소에 출석하여 진행하는 원격영상회의 방식으로 할 수 있다. 이 경우 차관회의의 구성원은 동일한 회의장에 출석한 것으로 본다. [전문개정 2011.11.7]',\n",
       " '제8조(대리출석)① 차관이 차관회의에 출석하지 못할 때에는 그 바로 하위 직위에 있는 사람이 대리하여 출석한다. ② 대리 출석한 사람은 관계 의안에 관하여 발언할 수 있으나 표결에는 참가할 수 없다. [전문개정 2011.11.7]']"
      ]
     },
     "execution_count": 92,
     "metadata": {},
     "output_type": "execute_result"
    }
   ],
   "source": [
    "source_list[0:20]"
   ]
  },
  {
   "cell_type": "code",
   "execution_count": 93,
   "metadata": {},
   "outputs": [
    {
     "data": {
      "text/plain": [
       "'제1조(설치 및 기능)① 행정 각 부ㆍ처ㆍ청 간의 협조를 긴밀하게 하며 국무회의에 제출된 의안과 국무회의로부터 지시받은 사항을 심의하기 위하여 차관회의를 둔다. ② 차관회의는 국무에 관하여 국무회의에 건의할 수 있다. [전문개정 2011.11.7]'"
      ]
     },
     "execution_count": 93,
     "metadata": {},
     "output_type": "execute_result"
    }
   ],
   "source": [
    "source_list[12]"
   ]
  },
  {
   "cell_type": "code",
   "execution_count": 94,
   "metadata": {},
   "outputs": [
    {
     "name": "stdout",
     "output_type": "stream",
     "text": [
      "제9조(심문과 진술권)①징계위원회는 제8조제1항에 따라 출석한 징계등 혐의자에게 혐의내용에 관한 심문을 하고 필요하다고 인정할 때에는 관계인의 출석을 요구해 심문할 수 있다. 〈개정 1978. 5. 27., 2019. 2. 26.〉② 징계위원회는 징계등 혐의자에게 충분한 진술을 할 수 있는 기회를 부여해야 하며, 징계등 혐의자는 별지 제3호의2서식의 의견서 또는 구술로 자기에게 이익이 되는 사실을 진술하며 증거를 제출할 수 있다. 〈개정 2019ㆍ2ㆍ26, 2019ㆍ8ㆍ6〉③ 징계등 혐의자는 증인의 심문을 신청할 수 있다. 이 경우 징계위원회는 증인 채택 여부를 결정해야 한다. 〈개정 2019ㆍ2ㆍ26〉④ 징계등 의결 요구자 및 징계등 의결 요구의 신청자는 징계위원회에 출석하여 의견을 진술하거나 서면으로 의견을 진술할 수 있다. 다만, 중징계 또는 중징계 관련 징계부가금 요구사건의 경우에는 특별한 사유가 없으면 징계위원회에 출석하여 의견을 진술해야 한다. 〈개정 1994. 6. 24., 2019. 2. 26., 2020. 7. 28.〉⑤ 징계등 의결 요구자 및 징계등 의결 요구의 신청자는 「감사원법」 제32조제1항 및 제10항에 따라 감사원이 파면, 해임, 강등 또는 정직 중 어느 하나의 징계처분을 요구한 사건에 대해서는 징계위원회개최 일시ㆍ장소 등을 감사원에 통보해야 한다. 〈개정 2019ㆍ2ㆍ26〉⑥ 감사원은 제5항에 따른 통보를 받은 경우 소속 공무원의 징계위원회 출석을 관할 징계위원회에 요청할 수 있으며, 관할 징계위원회는 출석 허용 여부를 결정해야 한다. 〈신설 2019ㆍ2ㆍ26〉\n",
      "\n",
      "제1조(설치 및 기능)  행정 각 부 처 청 간의 협조를 긴밀하게 하며 국무회의에 제출된 의안과 국무회의로부터 지시받은 사항을 심의하기 위하여 차관회의를 둔다.\n"
     ]
    }
   ],
   "source": [
    "print(source_list[116], end=\"\\n\\n\")\n",
    "preprocessing_sentences = formal_preprocessing_text(source_list[12])\n",
    "for preprocessing_sentence in preprocessing_sentences:\n",
    "    print(preprocessing_sentence)"
   ]
  },
  {
   "cell_type": "code",
   "execution_count": 87,
   "metadata": {},
   "outputs": [
    {
     "name": "stdout",
     "output_type": "stream",
     "text": [
      "제16조(의결정족수)각 위원회의 의사는 위원장·부위원장을 포함한 재적위원 과반수의 출석과 출석위원과반수의 찬성으로 의결한다. 다만, 자격인정의 결정에 있어서는 출석위원 3분의2이상의 찬성으로 행한다. 〈개정 78·12·30, 2000·7·10〉\n",
      "\n",
      "제16조(의결정족수)각 위원회의 의사는 위원장 부위원장을 포함한 재적위원 과반수의 출석과 출석위원과반수의 찬성으로 의결한다.\n"
     ]
    }
   ],
   "source": [
    "print(source_list[153], end=\"\\n\\n\")\n",
    "preprocessing_sentences = formal_preprocessing_text(source_list[153])\n",
    "for preprocessing_sentence in preprocessing_sentences:\n",
    "    print(preprocessing_sentence)"
   ]
  },
  {
   "cell_type": "code",
   "execution_count": 633,
   "metadata": {},
   "outputs": [
    {
     "data": {
      "text/plain": [
       "'AIHUB_전문분야 말뭉치/Training\\\\[원천]전문분야_train\\\\판례_case03.json'"
      ]
     },
     "execution_count": 633,
     "metadata": {},
     "output_type": "execute_result"
    }
   ],
   "source": [
    "train_file_name[30]"
   ]
  },
  {
   "cell_type": "code",
   "execution_count": 11,
   "metadata": {},
   "outputs": [],
   "source": [
    "source_file = train_file_name[30]\n",
    "\n",
    "with open(source_file, 'r', encoding='utf-8') as one_json_file:\n",
    "    one_json_sample = json.load(one_json_file)\n",
    "\n",
    "if '논문_' in source_file:\n",
    "    source_list = list(pd.DataFrame(one_json_sample['data'])['text'])\n",
    "\n",
    "    \n",
    "elif '특허_z' in source_file:\n",
    "    source_df = pd.DataFrame(one_json_sample['data'])\n",
    "    source_list = list(source_df[source_df['attr'] == 'abs']['text'])\n",
    "\n",
    "\n",
    "elif '특허_0' in source_file or '특허_1' in source_file:\n",
    "    source_df = pd.DataFrame(one_json_sample['data'])\n",
    "    source_dict = dict(source_df[source_df['attr'] == '초록']['sentence'].explode())\n",
    "    source_json = pd.json_normalize(source_dict)\n",
    "    source_list = list(source_json.filter(regex='text').values[0])\n",
    "    \n",
    "\n",
    "elif '법령' in source_file or '판례' in source_file:\n",
    "    source_df = pd.DataFrame(one_json_sample['data'])\n",
    "    source_dict = dict(source_df['sentence'].explode())\n",
    "    source_json = pd.json_normalize(source_dict)\n",
    "    source_list = list(source_json.filter(regex='text').values[0])"
   ]
  },
  {
   "cell_type": "code",
   "execution_count": 17,
   "metadata": {},
   "outputs": [
    {
     "data": {
      "text/plain": [
       "'제93조(탈법방법에 의한 문서ㆍ도화의 배부ㆍ게시 등 금지) ① 누구든지 선거일전 180일(보궐선거 등에 있어서는 그 선거의 실시사유가 확정된 때)부터 선거일까지 선거에 영향을 미치게 하기 위하여 이 법의 규정에 의하지 아니하고는 정당(창당준비위원회와 정당의 정강ㆍ정책을 포함한다.'"
      ]
     },
     "execution_count": 17,
     "metadata": {},
     "output_type": "execute_result"
    }
   ],
   "source": [
    "source_list[92]"
   ]
  },
  {
   "cell_type": "code",
   "execution_count": 43,
   "metadata": {},
   "outputs": [
    {
     "data": {
      "text/plain": [
       "['이 경우에 교육학ㆍ윤리학등 학교장이 특히 인정하는 학과목의 교육경력 연수는 이를 연구실적 연수로 대체할 수 있다.',\n",
       " '3.국내의학교교육으로는이수할수없었거나 곤란하였던 학과목을 담당할 자로서 연구실적이 별표의 연구실적 연수에 해당하거나, 논문ㆍ저서 기타 연구업적이 현저하나 학력이 별표의 기준에 해당하지 아니한 자',\n",
       " '4.국가공무원법의 규정에 의하여 자연과학계의 연구관 또는 5급 이상의 농촌지도직공무원으로 근무하고 있는 자',\n",
       " '공무원수당 등에 관한 규정(2013. 3. 23. 대통령령 제24425호로 개정된 것)',\n",
       " '제7조의2(성과상여금) ① 소속 장관은 별표 2의2에 따른 공무원 중 근무성적, 업무실적 등이 우수한 사람에게는 예산의 범위에서 성과상여금을 지급한다.',\n",
       " '국공립대학연구보조비 지급규정(2010. 9. 6. 교육과학기술부훈령 제190호로 개정된 것)',\n",
       " '제2조(교부) ① 연구보조비는 대학, 산업대학, 교육대학, 전문대학, 방송대학ㆍ통신대학 및 방송통신대학(이하 \"대상학교\"라 한다)의 기성회 회장에게 교부한다.',\n",
       " '제3조(지급) ① 연구보조비는 지급대상학교 교원(재외한국인학자 유치계획에 의하여 유치한 교원을 포함한다)과 조교에게 기성회 회장이 예산의 범위 안에서 지급한다.',\n",
       " '② 제1항의 연구보조비는 교원의 교육ㆍ연구 및 봉사활동 등의 실적과 조교의 근무실적 등 대상학교에서 정한 평가방법에 따라 지급하는 성과급(이하 \"성과급\"이라 한다)과 시간강사의 강의시수에 따라 지급하는 시간강사연구보조비(이하 \"시간강사연구보조비\"라 한다)로 구분하여 지급하며 그 지급기준은 교육과학기술부장관이 정한다.',\n",
       " '이 경우 성과급 지급액은 교육과학기술부장관이 정하는 지급기준과 대상학교에 교부되는 성과급연구비 총액의 범위 안에서 학교의 장이 정한다.',\n",
       " '④ 성과급의 지급액은 대상학교에 교부되는 성과급 연구비 총액의 범위 안에서 대상학교별 연구보조비 지급심의위원회의 심의를 거쳐 학교의 장이 정한다.',\n",
       " '⑤ 성과급은 연4회 이내로 지급하고, 교원 및 조교 개인별로 전년도 또는 전전년도 교육ㆍ연구 및 봉사활동 등의 실적과 근무실적 등을 평가하여 책정한 성과급 총액을 분할 또는 일괄하여 지급하되, 지급시기 및 방법은 대상학교의 장이 따로 정한다.',\n",
       " '(헌재 2013. 11. 28. 2011헌마372 결정)',\n",
       " '헌법재판소공보 제206호, 2013년 12월 20일 1720페이지',\n",
       " \"가.소형선망어업의 경우 발줄에 죔고리와 죔줄을 부착하지 않은 어구를 사용하거나 적재하면 수산자원관리법 제65조 제4호, 제6호에 의하여 처벌된다고 규정한 '연근해어업의 표준어구와 어법에 관한 해석지침' 제2조 제2항 [별표 2] 제9호 나목 및 다목(이하 '이 사건 해석지침조항'이라 한다)이 헌법소원의 대상이 되는 공권력의 행사에 해당하는지 여부(소극)\",\n",
       " '나.법령 적용의 유예기간이 있는 경우 기본권 제한이 발생한 시기를 유예기간경과 후가 아닌 법 시행일로 본 사례',\n",
       " '가.이 사건 해석지침은 농림수산식품부장관이 담당 행정기관에게 법령의 일관된 해석을 위하여 업무처리지침으로 마련한 내부기준에 불과하다.',\n",
       " \"그리고 이 사건 해석지침조항이 정하고 있는 내용은, 수산자원관리법(2009. 4. 22. 법률 제9627호로 제정되고, 2013. 3. 23. 법률 제11690호로 개정되기 전의 것) 제23조 제1항 중 어구의 '형태'에 관한 부분, 수산자원관리법(2009. 4. 22. 법률 제9627호로 제정된 것) 제65조 제4호 중 제23조 제1항의 어구의 '형태'에 관한 부분, 제24조 중 어구의 '적재'에 관한 부분, 제65조 제6호 중 제24조의 어구의 '적재'에 관한 부분(이하 '이 사건 법률조항'이라 한다) 및 수산자원관리법시행령(2010. 4. 20. 대통령령 제22128호로 제정된 것) 제10조 제1항 [별표 11] II.제9호 가목 3)(이하 '이 사건 시행령조항'이라 한다)에 규정된 사항을 확인적으로 반복하는 것에 불과하므로 이 사건 해석지침조항이 청구인들의 법적 지위에 어떠한 영향을 준다고 볼 수도 없다.\",\n",
       " '나.청구인들의 경우 비록 이 사건 법률조항 및 시행령조항 시행일인 2010. 4. 23.부터 1년 이내에는 종래와 같이 변형어구를 계속 사용, 적재할 수 있다 하더라도, 시행일로부터 1년 이후인 2011. 4. 23.부터는 변형어구를 사용, 적재할 수 없고 사용, 적재할 경우 처벌된다는 기본권 제한 내지 법적 강제는 이 사건 법률조항 및 시행령조항이 시행된 2010. 4. 23.에 이미 구체적이고 현실적으로 발생하였다고 봄이 타당하므로 이때를 이 사건 법률조항 및 시행령조항에 대한 헌법소원심판 청구기간의 기산점으로 보아야 한다.',\n",
       " '재판관 김이수, 재판관 이진성, 재판관 김창종, 재판관 강일원의 반대의견']"
      ]
     },
     "execution_count": 43,
     "metadata": {},
     "output_type": "execute_result"
    }
   ],
   "source": [
    "source_list[400:420]"
   ]
  },
  {
   "cell_type": "code",
   "execution_count": 46,
   "metadata": {},
   "outputs": [
    {
     "data": {
      "text/plain": [
       "'제2조(교부) ① 연구보조비는 대학, 산업대학, 교육대학, 전문대학, 방송대학ㆍ통신대학 및 방송통신대학(이하 \"대상학교\"라 한다)의 기성회 회장에게 교부한다.'"
      ]
     },
     "execution_count": 46,
     "metadata": {},
     "output_type": "execute_result"
    }
   ],
   "source": [
    "source_list[406]"
   ]
  },
  {
   "cell_type": "code",
   "execution_count": 44,
   "metadata": {},
   "outputs": [
    {
     "name": "stdout",
     "output_type": "stream",
     "text": [
      "제2조(교부)   연구보조비는 대학  산업대학  교육대학  전문대학  방송대학 통신대학 및 방송통신대학(이하  대상학교 라 한다)의 기성회 회장에게 교부한다.\n"
     ]
    }
   ],
   "source": [
    "preprocessing_sentences = formal_preprocessing_text(source_list[406])\n",
    "for preprocessing_sentence in preprocessing_sentences:\n",
    "    print(preprocessing_sentence)"
   ]
  },
  {
   "cell_type": "code",
   "execution_count": 45,
   "metadata": {},
   "outputs": [
    {
     "name": "stdout",
     "output_type": "stream",
     "text": [
      "['제2조(교부)   연구보조비는 대학  산업대학  교육대학  전문대학  방송대학 통신대학 및 방송통신대학(이하  대상학교 라 한다)의 기성회 회장에게 교부한다.']\n"
     ]
    }
   ],
   "source": [
    "print(preprocessing_sentences)"
   ]
  },
  {
   "cell_type": "markdown",
   "metadata": {},
   "source": [
    "### AIHUB 대규모 웹데이터 기반 한국어 말뭉치 데이터"
   ]
  },
  {
   "cell_type": "code",
   "execution_count": 485,
   "metadata": {},
   "outputs": [],
   "source": [
    "path_list = ['AIHUB_웹데이터 기반 한국어 말뭉치 데이터/Training/원천데이터/TS1/IT_과학/' + '**/*.json',\n",
    "'AIHUB_웹데이터 기반 한국어 말뭉치 데이터/Training/원천데이터/TS1/건강/' + '**/*.json',\n",
    "'AIHUB_웹데이터 기반 한국어 말뭉치 데이터/Training/원천데이터/TS1/경제/' + '**/*.json',\n",
    "'AIHUB_웹데이터 기반 한국어 말뭉치 데이터/Training/원천데이터/TS1/교육/' + '**/*.json',\n",
    "'AIHUB_웹데이터 기반 한국어 말뭉치 데이터/Training/원천데이터/TS1/국제/' + '**/*.json',\n",
    "'AIHUB_웹데이터 기반 한국어 말뭉치 데이터/Training/원천데이터/TS1/라이프스타일/' + '**/*.json',\n",
    "'AIHUB_웹데이터 기반 한국어 말뭉치 데이터/Training/원천데이터/TS1/문화/' + '**/*.json',\n",
    "'AIHUB_웹데이터 기반 한국어 말뭉치 데이터/Training/원천데이터/TS1/사건사고/' + '**/*.json',\n",
    "'AIHUB_웹데이터 기반 한국어 말뭉치 데이터/Training/원천데이터/TS1/사회일반/' + '**/*.json',\n",
    "'AIHUB_웹데이터 기반 한국어 말뭉치 데이터/Training/원천데이터/TS1/산업/' + '**/*.json',\n",
    "'AIHUB_웹데이터 기반 한국어 말뭉치 데이터/Training/원천데이터/TS1/스포츠/' + '**/*.json',\n",
    "'AIHUB_웹데이터 기반 한국어 말뭉치 데이터/Training/원천데이터/TS1/여성복지/' + '**/*.json',\n",
    "'AIHUB_웹데이터 기반 한국어 말뭉치 데이터/Training/원천데이터/TS1/여행레저/' + '**/*.json',\n",
    "'AIHUB_웹데이터 기반 한국어 말뭉치 데이터/Training/원천데이터/TS1/연예/' + '**/*.json',\n",
    "'AIHUB_웹데이터 기반 한국어 말뭉치 데이터/Training/원천데이터/TS1/정치/' + '**/*.json',\n",
    "'AIHUB_웹데이터 기반 한국어 말뭉치 데이터/Training/원천데이터/TS1/지역/' + '**/*.json',\n",
    "'AIHUB_웹데이터 기반 한국어 말뭉치 데이터/Training/원천데이터/TS1/취미/' + '**/*.json',\n",
    "'AIHUB_웹데이터 기반 한국어 말뭉치 데이터/Validation/원천데이터/VS1/IT_과학/' + '**/*.json',\n",
    "'AIHUB_웹데이터 기반 한국어 말뭉치 데이터/Validation/원천데이터/VS1/건강/' + '**/*.json',\n",
    "'AIHUB_웹데이터 기반 한국어 말뭉치 데이터/Validation/원천데이터/VS1/경제/' + '**/*.json',\n",
    "'AIHUB_웹데이터 기반 한국어 말뭉치 데이터/Validation/원천데이터/VS1/교육/' + '**/*.json',\n",
    "'AIHUB_웹데이터 기반 한국어 말뭉치 데이터/Validation/원천데이터/VS1/국제/' + '**/*.json',\n",
    "'AIHUB_웹데이터 기반 한국어 말뭉치 데이터/Validation/원천데이터/VS1/라이프스타일/' + '**/*.json',\n",
    "'AIHUB_웹데이터 기반 한국어 말뭉치 데이터/Validation/원천데이터/VS1/문화/' + '**/*.json',\n",
    "'AIHUB_웹데이터 기반 한국어 말뭉치 데이터/Validation/원천데이터/VS1/사건사고/' + '**/*.json',\n",
    "'AIHUB_웹데이터 기반 한국어 말뭉치 데이터/Validation/원천데이터/VS1/사회일반/' + '**/*.json',\n",
    "'AIHUB_웹데이터 기반 한국어 말뭉치 데이터/Validation/원천데이터/VS1/산업/' + '**/*.json',\n",
    "'AIHUB_웹데이터 기반 한국어 말뭉치 데이터/Validation/원천데이터/VS1/스포츠/' + '**/*.json',\n",
    "'AIHUB_웹데이터 기반 한국어 말뭉치 데이터/Validation/원천데이터/VS1/여성복지/' + '**/*.json',\n",
    "'AIHUB_웹데이터 기반 한국어 말뭉치 데이터/Validation/원천데이터/VS1/여행레저/' + '**/*.json',\n",
    "'AIHUB_웹데이터 기반 한국어 말뭉치 데이터/Validation/원천데이터/VS1/연예/' + '**/*.json',\n",
    "'AIHUB_웹데이터 기반 한국어 말뭉치 데이터/Validation/원천데이터/VS1/정치/' + '**/*.json',\n",
    "'AIHUB_웹데이터 기반 한국어 말뭉치 데이터/Validation/원천데이터/VS1/지역/' + '**/*.json',\n",
    "'AIHUB_웹데이터 기반 한국어 말뭉치 데이터/Validation/원천데이터/VS1/취미/' + '**/*.json',]\n",
    "\n",
    "train_file_name_01 = glob(path_list[0], recursive = True)\n",
    "train_file_name_02 = glob(path_list[1], recursive = True)\n",
    "train_file_name_03 = glob(path_list[2], recursive = True)\n",
    "train_file_name_04 = glob(path_list[3], recursive = True)\n",
    "train_file_name_05 = glob(path_list[4], recursive = True)\n",
    "train_file_name_06 = glob(path_list[5], recursive = True)\n",
    "train_file_name_07 = glob(path_list[6], recursive = True)\n",
    "train_file_name_08 = glob(path_list[7], recursive = True)\n",
    "train_file_name_09 = glob(path_list[8], recursive = True)\n",
    "train_file_name_10 = glob(path_list[9], recursive = True)\n",
    "train_file_name_11 = glob(path_list[10], recursive = True)\n",
    "train_file_name_12 = glob(path_list[11], recursive = True)\n",
    "train_file_name_13 = glob(path_list[12], recursive = True)\n",
    "train_file_name_14 = glob(path_list[13], recursive = True)\n",
    "train_file_name_15 = glob(path_list[14], recursive = True)\n",
    "train_file_name_16 = glob(path_list[15], recursive = True)\n",
    "train_file_name_17 = glob(path_list[16], recursive = True)\n",
    "\n",
    "valid_file_name_01 = glob(path_list[17], recursive = True)\n",
    "valid_file_name_02 = glob(path_list[18], recursive = True)\n",
    "valid_file_name_03 = glob(path_list[19], recursive = True)\n",
    "valid_file_name_04 = glob(path_list[20], recursive = True)\n",
    "valid_file_name_05 = glob(path_list[21], recursive = True)\n",
    "valid_file_name_06 = glob(path_list[22], recursive = True)\n",
    "valid_file_name_07 = glob(path_list[23], recursive = True)\n",
    "valid_file_name_08 = glob(path_list[24], recursive = True)\n",
    "valid_file_name_09 = glob(path_list[25], recursive = True)\n",
    "valid_file_name_10 = glob(path_list[26], recursive = True)\n",
    "valid_file_name_11 = glob(path_list[27], recursive = True)\n",
    "valid_file_name_12 = glob(path_list[28], recursive = True)\n",
    "valid_file_name_13 = glob(path_list[29], recursive = True)\n",
    "valid_file_name_14 = glob(path_list[30], recursive = True)\n",
    "valid_file_name_15 = glob(path_list[31], recursive = True)\n",
    "valid_file_name_16 = glob(path_list[32], recursive = True)\n",
    "valid_file_name_17 = glob(path_list[33], recursive = True)"
   ]
  },
  {
   "cell_type": "code",
   "execution_count": 486,
   "metadata": {},
   "outputs": [],
   "source": [
    "with open(train_file_name_13[0], 'r', encoding='utf-8') as one_json_file:\n",
    "    one_json_sample = json.load(one_json_file)\n",
    "\n",
    "source_list = list(pd.DataFrame(one_json_sample['SJML']['text'])['content'])"
   ]
  },
  {
   "cell_type": "code",
   "execution_count": 679,
   "metadata": {},
   "outputs": [
    {
     "data": {
      "text/plain": [
       "'AIHUB_웹데이터 기반 한국어 말뭉치 데이터/Training/원천데이터/TS1/여행레저\\\\BWTL217000058479.json'"
      ]
     },
     "execution_count": 679,
     "metadata": {},
     "output_type": "execute_result"
    }
   ],
   "source": [
    "train_file_name_13[0]"
   ]
  },
  {
   "cell_type": "code",
   "execution_count": 496,
   "metadata": {},
   "outputs": [
    {
     "data": {
      "text/plain": [
       "'. 행정자치부가 자전거 주간을 맞아 23일 머니위크가 주최한 청계릴레이사이클링(청계천 가족자전거 운동회)를 공식후원하고 현장에서 자전거 안전 캠페인을 실시했다.. . 자전거 정책을 맡은 행정자치부 주민생활환경과는 청계천 한빛광장에 마련된 무대에서 운동회 참가자와 주말 청계천 나들이객을 대상으로 자전거 안전운전요령 등 홍보책자, 전조등 등 기념품 등을 배부하고 안전한 자전거타기 홍보 캠페인을 실시했다.. . 이날 행사에서 허만영 행정자치부 주민생활환경과장은 “최근 자전거가 1000만대 수준으로 크게 늘면서 자전거사고도 매년 10%씩 증가하고 있다”면서 “이제는 안전하게 자전거를 타는 것이 무엇보다도 중요하다”고 강조하며 행사에 참여한 시민들에게 자전거 안전문화 확산에 적극 동참해줄 것을 당부했다.. . 한편 행정자치부는 2016년도 자전거도로정비 사업비 20억원을 지자체에 지원해 생활형 자전거이용이 많은 도심지 자전거·보행자겸용도로정비 개선사업을 추진해 안전하고 편리한 자전거 (이름)경을 (이름)다.. . 또한 자전거사고 취약계층인 어린이와 어르신들의 자전거 안전사고 예방을 위해 자전거 민간단체와 협업을 통해 자전거 안전교실을 운영(5월~11월)한다.'"
      ]
     },
     "execution_count": 496,
     "metadata": {},
     "output_type": "execute_result"
    }
   ],
   "source": [
    "source_list[6]"
   ]
  },
  {
   "cell_type": "code",
   "execution_count": 493,
   "metadata": {},
   "outputs": [
    {
     "name": "stdout",
     "output_type": "stream",
     "text": [
      "('. 행정자치부가 자전거 주간을 맞아 23일 머니위크가 주최한 청계릴레이사이클링(청계천 가족자전거 운동회)를 공식후원하고 현장에서 자전거 '\n",
      " '안전 캠페인을 실시했다.. . 자전거 정책을 맡은 행정자치부 주민생활환경과는 청계천 한빛광장에 마련된 무대에서 운동회 참가자와 주말 '\n",
      " '청계천 나들이객을 대상으로 자전거 안전운전요령 등 홍보책자, 전조등 등 기념품 등을 배부하고 안전한 자전거타기 홍보 캠페인을 실시했다.. '\n",
      " '. 이날 행사에서 허만영 행정자치부 주민생활환경과장은 “최근 자전거가 1000만대 수준으로 크게 늘면서 자전거사고도 매년 10%씩 '\n",
      " '증가하고 있다”면서 “이제는 안전하게 자전거를 타는 것이 무엇보다도 중요하다”고 강조하며 행사에 참여한 시민들에게 자전거 안전문화 확산에 '\n",
      " '적극 동참해줄 것을 당부했다.. . 한편 행정자치부는 2016년도 자전거도로정비 사업비 20억원을 지자체에 지원해 생활형 자전거이용이 '\n",
      " '많은 도심지 자전거·보행자겸용도로정비 개선사업을 추진해 안전하고 편리한 자전거 (이름)경을 (이름)다.. . 또한 자전거사고 취약계층인 '\n",
      " '어린이와 어르신들의 자전거 안전사고 예방을 위해 자전거 민간단체와 협업을 통해 자전거 안전교실을 운영(5월~11월)한다.')\n"
     ]
    }
   ],
   "source": [
    "pprint(source_list[6])"
   ]
  },
  {
   "cell_type": "code",
   "execution_count": 494,
   "metadata": {},
   "outputs": [
    {
     "name": "stdout",
     "output_type": "stream",
     "text": [
      "자전거 정책을 맡은 행정자치부 주민생활환경과는 청계천 한빛광장에 마련된 무대에서 운동회 참가자와 주말 청계천 나들이객을 대상으로 자전거 안전운전요령 등 홍보책자  전조등 등 기념품 등을 배부하고 안전한 자전거타기 홍보 캠페인을 실시했다.\n",
      "이날 행사에서 허만영 행정자치부 주민생활환경과장은  최근 자전거가 1000만대 수준으로 크게 늘면서 자전거사고도 매년 10 씩 증가하고 있다 면서  이제는 안전하게 자전거를 타는 것이 무엇보다도 중요하다 고 강조하며 행사에 참여한 시민들에게 자전거 안전문화 확산에 적극 동참해줄 것을 당부했다.\n",
      "한편 행정자치부는 2016년도 자전거도로정비 사업비 20억원을 지자체에 지원해 생활형 자전거이용이 많은 도심지 자전거 보행자겸용도로정비 개선사업을 추진해 안전하고 편리한 자전거 (이름)경을 (이름)다.\n",
      "또한 자전거사고 취약계층인 어린이와 어르신들의 자전거 안전사고 예방을 위해 자전거 민간단체와 협업을 통해 자전거 안전교실을 운영(5월 11월)한다.\n"
     ]
    }
   ],
   "source": [
    "preprocessing_sentences = formal_preprocessing_text(source_list[6])\n",
    "for preprocessing_sentence in preprocessing_sentences:\n",
    "    print(preprocessing_sentence)"
   ]
  },
  {
   "cell_type": "code",
   "execution_count": 495,
   "metadata": {},
   "outputs": [
    {
     "name": "stdout",
     "output_type": "stream",
     "text": [
      "['자전거 정책을 맡은 행정자치부 주민생활환경과는 청계천 한빛광장에 마련된 무대에서 운동회 참가자와 주말 청계천 나들이객을 대상으로 자전거 안전운전요령 등 홍보책자  전조등 등 기념품 등을 배부하고 안전한 자전거타기 홍보 캠페인을 실시했다.', '이날 행사에서 허만영 행정자치부 주민생활환경과장은  최근 자전거가 1000만대 수준으로 크게 늘면서 자전거사고도 매년 10 씩 증가하고 있다 면서  이제는 안전하게 자전거를 타는 것이 무엇보다도 중요하다 고 강조하며 행사에 참여한 시민들에게 자전거 안전문화 확산에 적극 동참해줄 것을 당부했다.', '한편 행정자치부는 2016년도 자전거도로정비 사업비 20억원을 지자체에 지원해 생활형 자전거이용이 많은 도심지 자전거 보행자겸용도로정비 개선사업을 추진해 안전하고 편리한 자전거 (이름)경을 (이름)다.', '또한 자전거사고 취약계층인 어린이와 어르신들의 자전거 안전사고 예방을 위해 자전거 민간단체와 협업을 통해 자전거 안전교실을 운영(5월 11월)한다.']\n"
     ]
    }
   ],
   "source": [
    "print(preprocessing_sentences)"
   ]
  },
  {
   "cell_type": "markdown",
   "metadata": {},
   "source": [
    "### AIHUB 산업정보 연계 주요국 특허 영-한 데이터"
   ]
  },
  {
   "cell_type": "code",
   "execution_count": 681,
   "metadata": {},
   "outputs": [],
   "source": [
    "path_list = ['AIHUB_산업정보 연계 주요국 특허 영-한 데이터/Training/'+ '/**/*.json', \n",
    "             'AIHUB_산업정보 연계 주요국 특허 영-한 데이터/Validation/'+ '/**/*.json']\n",
    "train_file_name, valid_file_name = train_valid_json_file_name_list(path_list)"
   ]
  },
  {
   "cell_type": "code",
   "execution_count": 481,
   "metadata": {},
   "outputs": [],
   "source": [
    "with open(train_file_name[130], 'r', encoding='utf-8') as one_json_file:\n",
    "    one_json_sample = json.load(one_json_file)\n",
    "    \n",
    "try: \n",
    "    source_list = list(pd.DataFrame(one_json_sample['labeled_data'])['astrt_cont_kor'])\n",
    "\n",
    "except:\n",
    "    pass   "
   ]
  },
  {
   "cell_type": "code",
   "execution_count": 682,
   "metadata": {},
   "outputs": [
    {
     "data": {
      "text/plain": [
       "'AIHUB_산업정보 연계 주요국 특허 영-한 데이터/Training\\\\라벨링데이터_0831_add\\\\TL_2\\\\기타 유리제품 제조업.json'"
      ]
     },
     "execution_count": 682,
     "metadata": {},
     "output_type": "execute_result"
    }
   ],
   "source": [
    "train_file_name[130]"
   ]
  },
  {
   "cell_type": "code",
   "execution_count": 482,
   "metadata": {},
   "outputs": [
    {
     "data": {
      "text/plain": [
       "'본 발명은, 공정 단계 이산화규소 과립을 제공하는 단계, 용융 도가니에서 상기 이산화규소 과립으로부터 유리 용융물을 제조하는 단계, 상기 유리 용융물의 적어도 일부로부터 석영 유리체를 제조하는 단계, ⅳ.) 상기 석영 유리체를 화학적, 열적, 또는 기계적 처리로 이루어진 군으로부터 선택된 적어도 하나의 절차로 처리하여, 처리된 석영 유리체를 얻는, 처리 단계를 포함하는, 석영 유리체의 제조 공정에 관한 것이다. 본 발명은 또한 상기 공정에 의해 얻을 수 있는 석영 유리체에 관한 것이다. 본 발명은 또한, 상기 석영 유리체의 추가 가공 단계에 의해 각각 얻을 수 있는, 광 가이드, 발광체 및 성형체와 관련된다.'"
      ]
     },
     "execution_count": 482,
     "metadata": {},
     "output_type": "execute_result"
    }
   ],
   "source": [
    "source_list[79]"
   ]
  },
  {
   "cell_type": "code",
   "execution_count": 483,
   "metadata": {},
   "outputs": [
    {
     "name": "stdout",
     "output_type": "stream",
     "text": [
      "본 발명은  공정 단계 이산화규소 과립을 제공하는 단계  용융 도가니에서 상기 이산화규소 과립으로부터 유리 용융물을 제조하는 단계  상기 유리 용융물의 적어도 일부로부터 석영 유리체를 제조하는 단계    ) 상기 석영 유리체를 화학적  열적  또는 기계적 처리로 이루어진 군으로부터 선택된 적어도 하나의 절차로 처리하여  처리된 석영 유리체를 얻는  처리 단계를 포함하는  석영 유리체의 제조 공정에 관한 것이다.\n",
      "본 발명은 또한 상기 공정에 의해 얻을 수 있는 석영 유리체에 관한 것이다.\n",
      "본 발명은 또한  상기 석영 유리체의 추가 가공 단계에 의해 각각 얻을 수 있는  광 가이드  발광체 및 성형체와 관련된다.\n"
     ]
    }
   ],
   "source": [
    "preprocessing_sentences = formal_preprocessing_text(source_list[79])\n",
    "for preprocessing_sentence in preprocessing_sentences:\n",
    "    print(preprocessing_sentence)"
   ]
  },
  {
   "cell_type": "code",
   "execution_count": 484,
   "metadata": {},
   "outputs": [
    {
     "name": "stdout",
     "output_type": "stream",
     "text": [
      "['본 발명은  공정 단계 이산화규소 과립을 제공하는 단계  용융 도가니에서 상기 이산화규소 과립으로부터 유리 용융물을 제조하는 단계  상기 유리 용융물의 적어도 일부로부터 석영 유리체를 제조하는 단계    ) 상기 석영 유리체를 화학적  열적  또는 기계적 처리로 이루어진 군으로부터 선택된 적어도 하나의 절차로 처리하여  처리된 석영 유리체를 얻는  처리 단계를 포함하는  석영 유리체의 제조 공정에 관한 것이다.', '본 발명은 또한 상기 공정에 의해 얻을 수 있는 석영 유리체에 관한 것이다.', '본 발명은 또한  상기 석영 유리체의 추가 가공 단계에 의해 각각 얻을 수 있는  광 가이드  발광체 및 성형체와 관련된다.']\n"
     ]
    }
   ],
   "source": [
    "print(preprocessing_sentences)"
   ]
  },
  {
   "cell_type": "markdown",
   "metadata": {},
   "source": [
    "### AIHUB 논문자료 요약"
   ]
  },
  {
   "cell_type": "code",
   "execution_count": 416,
   "metadata": {},
   "outputs": [],
   "source": [
    "path_list = ['AIHUB_논문자료 요약/Training/'+ '/**/*.json', \n",
    "             'AIHUB_논문자료 요약/Validation/'+ '/**/*.json']\n",
    "train_file_name, valid_file_name = train_valid_json_file_name_list(path_list)"
   ]
  },
  {
   "cell_type": "code",
   "execution_count": 417,
   "metadata": {},
   "outputs": [
    {
     "data": {
      "text/plain": [
       "'AIHUB_논문자료 요약/Training\\\\training_논문\\\\논문요약_0206_0.json'"
      ]
     },
     "execution_count": 417,
     "metadata": {},
     "output_type": "execute_result"
    }
   ],
   "source": [
    "train_file_name[0]"
   ]
  },
  {
   "cell_type": "code",
   "execution_count": 422,
   "metadata": {},
   "outputs": [],
   "source": [
    "source_file = train_file_name[0]\n",
    "with open(source_file, 'r', encoding='utf-8') as one_json_file:\n",
    "    one_json_sample = json.load(one_json_file)\n",
    "\n",
    "source_df = pd.DataFrame(one_json_sample['data'])\n",
    "\n",
    "if '논문/논문요약' or '특허섹션' in source_file:    \n",
    "    summary_entire_source_dict = dict(source_df['summary_entire'].explode())\n",
    "    summary_entire_source_json = pd.json_normalize(summary_entire_source_dict)\n",
    "    summary_entire_source_list = list(summary_entire_source_json.filter(regex='orginal_text').values[0])\n",
    "\n",
    "    summary_section_source_dict = dict(source_df['summary_section'].explode())\n",
    "    summary_section_source_json = pd.json_normalize(summary_section_source_dict)\n",
    "    summary_section_source_list = list(summary_section_source_json.filter(regex='orginal_text').values[0])\n",
    "\n",
    "else:\n",
    "    summary_section_source_dict = dict(source_df['summary_section'].explode())\n",
    "    summary_section_source_json = pd.json_normalize(summary_section_source_dict)\n",
    "    summary_section_source_list = list(summary_section_source_json.filter(regex='orginal_text').values[0])"
   ]
  },
  {
   "cell_type": "code",
   "execution_count": 453,
   "metadata": {},
   "outputs": [
    {
     "data": {
      "text/plain": [
       "'사회불안과 섭식문제는 공병률이 높은 병리인데, 본 연구는 전자가 후자로 옮아가는 과정을 인지적 변인인 이분법 사고와 반추가 순차적으로 매개하는지를 알아보고자 했다. 이를 위해 성인 여성 187명에게 한국판 식사태도 검사(KEAT-26), 사회공포증 척도(SPS), 이분법적 사고 지표 확장판(DTI-35), 반추적 사고 스타일 질문지(RTSQ)를 온라인 설문으로 실시했다. SPSS 24.0과 Process Macro 2.16을 사용해서 이분법 사고와 반추 각각을 매개 변인으로 하는 두 개의 단순 매개 분석을 했고, 이어서 두 변인이 한 모형 안에서 차례대로 작용하여 사회불안과 섭식문제의 관계를 직렬 매개하는지를 분석했다. 먼저, 단순매개분석에서 이분법 사고는 사회불안과 이상섭식행동의 관계를 부분 매개하여서, 사회불안이 높으면 사소한 실수도 파국화하는 이분법적 사고로 인해 이상섭식행동이 야기될 수 있음이 시사되었다. 이어서, 반추적 사고도 이들의 관계를 부분 매개하여서 사회불안이 높은 사람들이 사후처리로 반추적 사고를 한 결과로 이상섭식행동이 증가될 수 있음이 시사되었다. 최종적인 직렬매개분석에서는 두 매개 변인의 순차적 매개 효과가 유의하여서, 사회불안이 높은 경우 이상에 비춰 현실을 이분법적으로 판단하면 그 괴리로 반추적 사고가 촉발되어 이상섭식행동으로 이어질 수 있음이 시사되었다. 끝으로 연구의 한계점과 향후 연구를 위한 제언을 제시하였다.'"
      ]
     },
     "execution_count": 453,
     "metadata": {},
     "output_type": "execute_result"
    }
   ],
   "source": [
    "summary_entire_source_list[10]"
   ]
  },
  {
   "cell_type": "code",
   "execution_count": 454,
   "metadata": {},
   "outputs": [
    {
     "name": "stdout",
     "output_type": "stream",
     "text": [
      "사회불안과 섭식문제는 공병률이 높은 병리인데  본 연구는 전자가 후자로 옮아가는 과정을 인지적 변인인 이분법 사고와 반추가 순차적으로 매개하는지를 알아보고자 했다.\n",
      "이를 위해 성인 여성 187명에게 한국판 식사태도 검사(KEAT-26)  사회공포증 척도(SPS)  이분법적 사고 지표 확장판(DTI-35)  반추적 사고 스타일 질문지(RTSQ)를 온라인 설문으로 실시했다.\n",
      "SPSS 24 0과 Process Macro 2 16을 사용해서 이분법 사고와 반추 각각을 매개 변인으로 하는 두 개의 단순 매개 분석을 했고  이어서 두 변인이 한 모형 안에서 차례대로 작용하여 사회불안과 섭식문제의 관계를 직렬 매개하는지를 분석했다.\n",
      "먼저  단순매개분석에서 이분법 사고는 사회불안과 이상섭식행동의 관계를 부분 매개하여서  사회불안이 높으면 사소한 실수도 파국화하는 이분법적 사고로 인해 이상섭식행동이 야기될 수 있음이 시사되었다.\n",
      "이어서  반추적 사고도 이들의 관계를 부분 매개하여서 사회불안이 높은 사람들이 사후처리로 반추적 사고를 한 결과로 이상섭식행동이 증가될 수 있음이 시사되었다.\n",
      "최종적인 직렬매개분석에서는 두 매개 변인의 순차적 매개 효과가 유의하여서  사회불안이 높은 경우 이상에 비춰 현실을 이분법적으로 판단하면 그 괴리로 반추적 사고가 촉발되어 이상섭식행동으로 이어질 수 있음이 시사되었다.\n",
      "끝으로 연구의 한계점과 향후 연구를 위한 제언을 제시하였다.\n"
     ]
    }
   ],
   "source": [
    "preprocessing_sentences = formal_preprocessing_text(summary_entire_source_list[10])\n",
    "for preprocessing_sentence in preprocessing_sentences:\n",
    "    print(preprocessing_sentence)"
   ]
  },
  {
   "cell_type": "code",
   "execution_count": 455,
   "metadata": {},
   "outputs": [
    {
     "name": "stdout",
     "output_type": "stream",
     "text": [
      "['사회불안과 섭식문제는 공병률이 높은 병리인데  본 연구는 전자가 후자로 옮아가는 과정을 인지적 변인인 이분법 사고와 반추가 순차적으로 매개하는지를 알아보고자 했다.', '이를 위해 성인 여성 187명에게 한국판 식사태도 검사(KEAT-26)  사회공포증 척도(SPS)  이분법적 사고 지표 확장판(DTI-35)  반추적 사고 스타일 질문지(RTSQ)를 온라인 설문으로 실시했다.', 'SPSS 24 0과 Process Macro 2 16을 사용해서 이분법 사고와 반추 각각을 매개 변인으로 하는 두 개의 단순 매개 분석을 했고  이어서 두 변인이 한 모형 안에서 차례대로 작용하여 사회불안과 섭식문제의 관계를 직렬 매개하는지를 분석했다.', '먼저  단순매개분석에서 이분법 사고는 사회불안과 이상섭식행동의 관계를 부분 매개하여서  사회불안이 높으면 사소한 실수도 파국화하는 이분법적 사고로 인해 이상섭식행동이 야기될 수 있음이 시사되었다.', '이어서  반추적 사고도 이들의 관계를 부분 매개하여서 사회불안이 높은 사람들이 사후처리로 반추적 사고를 한 결과로 이상섭식행동이 증가될 수 있음이 시사되었다.', '최종적인 직렬매개분석에서는 두 매개 변인의 순차적 매개 효과가 유의하여서  사회불안이 높은 경우 이상에 비춰 현실을 이분법적으로 판단하면 그 괴리로 반추적 사고가 촉발되어 이상섭식행동으로 이어질 수 있음이 시사되었다.', '끝으로 연구의 한계점과 향후 연구를 위한 제언을 제시하였다.']\n"
     ]
    }
   ],
   "source": [
    "print(preprocessing_sentences)"
   ]
  },
  {
   "cell_type": "code",
   "execution_count": 447,
   "metadata": {},
   "outputs": [
    {
     "data": {
      "text/plain": [
       "'이상섭식행동(abnormal eating behavior)은 체중 및 체형에 대한 염려로 음식 섭취를 지나치게 제한하거나, 식욕을 억제하다가 참지 못하고 짧은 시간 동안 많은 양의 음식을 먹어치우는 등 정상범위를 벗어난 섭식행동을 가리킨다. 우울장애, 양극성장애 등과 공병률이 높기는 하지만, 섭식 삽화와 관련된 이상섭식행동을 야기하는 것은 우울보다는 불안에 더 가까워 보인다. 이상섭식행동과 연속선상에 있는 섭식장애에서는 우울할 때보다 불안할 때 거식이나 폭식 행동을 더 많이 하며, 불안장애가 선행되는 경우가 많아서 불안장애 또는 사회불안장애의 진단 등이 섭식장애의 기질적 위험 요인으로 제시되기도 한다(American Psychiatric Association, 2013/2015). 섭식장애에 동반되는 불안장애 중에서 가장 흔한 것은 사회불안장애이며, 마찬가지로 섭식장에에 선행하는 경향을 나타낸다. 높은 공병률과 발생 양상에 더해 사회불안이 섭식장애의 치료를 방해하는 요인으로 작용한다는 것이 밝혀지면서 두 병리를 연결하는 메커니즘을 탐색하는 연구들이 이어졌다. 둘을 매개하는 변인으로 부정적 평가의 두려움, 정서 표현억제, 완벽주의, 자존감과 스트레스 반응성 등이 제안되었으나, 그 연결 메커니즘은 아직까지 분명하게 밝혀지지 않았다. 국내에서는 사회불안과 폭식행동의 관계에서 인지왜곡의 역할을 탐색한 연구를 제외하면, 사회불안과 이상섭식행동의 관계를 다룬 경우가 거의 없어서 연구의 필요성이 제기된다.'"
      ]
     },
     "execution_count": 447,
     "metadata": {},
     "output_type": "execute_result"
    }
   ],
   "source": [
    "summary_section_source_list[10]"
   ]
  },
  {
   "cell_type": "code",
   "execution_count": 448,
   "metadata": {},
   "outputs": [
    {
     "name": "stdout",
     "output_type": "stream",
     "text": [
      "이상섭식행동(abnormal eating behavior)은 체중 및 체형에 대한 염려로 음식 섭취를 지나치게 제한하거나  식욕을 억제하다가 참지 못하고 짧은 시간 동안 많은 양의 음식을 먹어치우는 등 정상범위를 벗어난 섭식행동을 가리킨다.\n",
      "우울장애  양극성장애 등과 공병률이 높기는 하지만  섭식 삽화와 관련된 이상섭식행동을 야기하는 것은 우울보다는 불안에 더 가까워 보인다.\n",
      "이상섭식행동과 연속선상에 있는 섭식장애에서는 우울할 때보다 불안할 때 거식이나 폭식 행동을 더 많이 하며  불안장애가 선행되는 경우가 많아서 불안장애 또는 사회불안장애의 진단 등이 섭식장애의 기질적 위험 요인으로 제시되기도 한다(American Psychiatric Association  2013 2015)  섭식장애에 동반되는 불안장애 중에서 가장 흔한 것은 사회불안장애이며  마찬가지로 섭식장에에 선행하는 경향을 나타낸다.\n",
      "높은 공병률과 발생 양상에 더해 사회불안이 섭식장애의 치료를 방해하는 요인으로 작용한다는 것이 밝혀지면서 두 병리를 연결하는 메커니즘을 탐색하는 연구들이 이어졌다.\n",
      "둘을 매개하는 변인으로 부정적 평가의 두려움  정서 표현억제  완벽주의  자존감과 스트레스 반응성 등이 제안되었으나  그 연결 메커니즘은 아직까지 분명하게 밝혀지지 않았다.\n",
      "국내에서는 사회불안과 폭식행동의 관계에서 인지왜곡의 역할을 탐색한 연구를 제외하면  사회불안과 이상섭식행동의 관계를 다룬 경우가 거의 없어서 연구의 필요성이 제기된다.\n"
     ]
    }
   ],
   "source": [
    "preprocessing_sentences = formal_preprocessing_text(summary_section_source_list[10])\n",
    "for preprocessing_sentence in preprocessing_sentences:\n",
    "    print(preprocessing_sentence)"
   ]
  },
  {
   "cell_type": "code",
   "execution_count": 449,
   "metadata": {},
   "outputs": [
    {
     "name": "stdout",
     "output_type": "stream",
     "text": [
      "['이상섭식행동(abnormal eating behavior)은 체중 및 체형에 대한 염려로 음식 섭취를 지나치게 제한하거나  식욕을 억제하다가 참지 못하고 짧은 시간 동안 많은 양의 음식을 먹어치우는 등 정상범위를 벗어난 섭식행동을 가리킨다.', '우울장애  양극성장애 등과 공병률이 높기는 하지만  섭식 삽화와 관련된 이상섭식행동을 야기하는 것은 우울보다는 불안에 더 가까워 보인다.', '이상섭식행동과 연속선상에 있는 섭식장애에서는 우울할 때보다 불안할 때 거식이나 폭식 행동을 더 많이 하며  불안장애가 선행되는 경우가 많아서 불안장애 또는 사회불안장애의 진단 등이 섭식장애의 기질적 위험 요인으로 제시되기도 한다(American Psychiatric Association  2013 2015)  섭식장애에 동반되는 불안장애 중에서 가장 흔한 것은 사회불안장애이며  마찬가지로 섭식장에에 선행하는 경향을 나타낸다.', '높은 공병률과 발생 양상에 더해 사회불안이 섭식장애의 치료를 방해하는 요인으로 작용한다는 것이 밝혀지면서 두 병리를 연결하는 메커니즘을 탐색하는 연구들이 이어졌다.', '둘을 매개하는 변인으로 부정적 평가의 두려움  정서 표현억제  완벽주의  자존감과 스트레스 반응성 등이 제안되었으나  그 연결 메커니즘은 아직까지 분명하게 밝혀지지 않았다.', '국내에서는 사회불안과 폭식행동의 관계에서 인지왜곡의 역할을 탐색한 연구를 제외하면  사회불안과 이상섭식행동의 관계를 다룬 경우가 거의 없어서 연구의 필요성이 제기된다.']\n"
     ]
    }
   ],
   "source": [
    "print(preprocessing_sentences)"
   ]
  },
  {
   "cell_type": "markdown",
   "metadata": {},
   "source": [
    "### AIHUB 요약문 및 레포트 생성 데이터"
   ]
  },
  {
   "cell_type": "code",
   "execution_count": 127,
   "metadata": {},
   "outputs": [],
   "source": [
    "path_list = ['AIHUB_요약문 및 레포트 생성 데이터/Training/원천데이터/TS1/01.news_r/' + '**/*.json',\n",
    "'AIHUB_요약문 및 레포트 생성 데이터/Training/원천데이터/TS1/02.briefing/' + '**/*.json',\n",
    "'AIHUB_요약문 및 레포트 생성 데이터/Training/원천데이터/TS1/03.his_cul/' + '**/*.json',\n",
    "'AIHUB_요약문 및 레포트 생성 데이터/Training/원천데이터/TS1/04.paper/' + '**/*.json',\n",
    "'AIHUB_요약문 및 레포트 생성 데이터/Training/원천데이터/TS1/05.minute/' + '**/*.json',\n",
    "'AIHUB_요약문 및 레포트 생성 데이터/Training/원천데이터/TS1/06.edit/' + '**/*.json',\n",
    "'AIHUB_요약문 및 레포트 생성 데이터/Training/원천데이터/TS1/07.public/' + '**/*.json',\n",
    "'AIHUB_요약문 및 레포트 생성 데이터/Training/원천데이터/TS1/08.speech/' + '**/*.json',\n",
    "'AIHUB_요약문 및 레포트 생성 데이터/Training/원천데이터/TS1/09.literature/' + '**/*.json',\n",
    "'AIHUB_요약문 및 레포트 생성 데이터/Training/원천데이터/TS1/10.narration/' + '**/*.json',\n",
    "'AIHUB_요약문 및 레포트 생성 데이터/Validation/원천데이터/VS1/01.news_r/' + '**/*.json',\n",
    "'AIHUB_요약문 및 레포트 생성 데이터/Validation/원천데이터/VS1/02.briefing/' + '**/*.json',\n",
    "'AIHUB_요약문 및 레포트 생성 데이터/Validation/원천데이터/VS1/03.his_cul/' + '**/*.json',\n",
    "'AIHUB_요약문 및 레포트 생성 데이터/Validation/원천데이터/VS1/04.paper/' + '**/*.json',\n",
    "'AIHUB_요약문 및 레포트 생성 데이터/Validation/원천데이터/VS1/05.minute/' + '**/*.json',\n",
    "'AIHUB_요약문 및 레포트 생성 데이터/Validation/원천데이터/VS1/06.edit/' + '**/*.json',\n",
    "'AIHUB_요약문 및 레포트 생성 데이터/Validation/원천데이터/VS1/07.public/' + '**/*.json',             \n",
    "'AIHUB_요약문 및 레포트 생성 데이터/Validation/원천데이터/VS1/08.speech/' + '**/*.json',\n",
    "'AIHUB_요약문 및 레포트 생성 데이터/Validation/원천데이터/VS1/09.literature/' + '**/*.json',\n",
    "'AIHUB_요약문 및 레포트 생성 데이터/Validation/원천데이터/VS1/10.narration/' + '**/*.json']\n",
    "\n",
    "train_file_name_01 = glob(path_list[0], recursive = True)\n",
    "train_file_name_02 = glob(path_list[1], recursive = True)\n",
    "train_file_name_03 = glob(path_list[2], recursive = True)\n",
    "train_file_name_04 = glob(path_list[3], recursive = True)\n",
    "train_file_name_05 = glob(path_list[4], recursive = True)\n",
    "train_file_name_06 = glob(path_list[5], recursive = True)\n",
    "train_file_name_07 = glob(path_list[6], recursive = True)\n",
    "train_file_name_08 = glob(path_list[7], recursive = True)\n",
    "train_file_name_09 = glob(path_list[8], recursive = True)\n",
    "train_file_name_10 = glob(path_list[9], recursive = True)\n",
    "valid_file_name_01 = glob(path_list[10], recursive = True)\n",
    "valid_file_name_02 = glob(path_list[11], recursive = True)\n",
    "valid_file_name_03 = glob(path_list[12], recursive = True)\n",
    "valid_file_name_04 = glob(path_list[13], recursive = True)\n",
    "valid_file_name_05 = glob(path_list[14], recursive = True)\n",
    "valid_file_name_06 = glob(path_list[15], recursive = True)\n",
    "valid_file_name_07 = glob(path_list[16], recursive = True)\n",
    "valid_file_name_08 = glob(path_list[17], recursive = True)\n",
    "valid_file_name_09 = glob(path_list[18], recursive = True)\n",
    "valid_file_name_10 = glob(path_list[19], recursive = True)  "
   ]
  },
  {
   "cell_type": "code",
   "execution_count": 686,
   "metadata": {},
   "outputs": [
    {
     "data": {
      "text/plain": [
       "'AIHUB_요약문 및 레포트 생성 데이터/Training/원천데이터/TS1/01.news_r\\\\20per\\\\REPORT-news_r-02275-00002.json'"
      ]
     },
     "execution_count": 686,
     "metadata": {},
     "output_type": "execute_result"
    }
   ],
   "source": [
    "train_file_name_01[799]"
   ]
  },
  {
   "cell_type": "code",
   "execution_count": 355,
   "metadata": {},
   "outputs": [],
   "source": [
    "with open(train_file_name_01[799], 'r', encoding='utf-8') as one_json_file:\n",
    "    one_json_sample = json.load(one_json_file)\n",
    "\n",
    "source = one_json_sample['Meta(Refine)']['passage']"
   ]
  },
  {
   "cell_type": "code",
   "execution_count": 356,
   "metadata": {},
   "outputs": [
    {
     "data": {
      "text/plain": [
       "' 하지만 크런치베이스에는 CB인사이츠에 포함된 바이오기업 에이프로젠 대신 이커머스 기업 티몬이 올라있다.\\n  중소벤처기업부 등 국내 정부기관에서는 CB인사이츠의 자료를 활용한다.\\n  정유신 서강대 경영대 교수는 \"조사기관들은 보통 투자액을 통해 기업가치를 평가하는데, 투자액의 인정 기준이 조사기관마다 다를 수 있다\"며 \"글로벌 기준이 되는 미국의 조사결과를 더 신뢰하는 경향이 있다\"고 설명했다.\\n   ③국가 지원받는 중국, 데카콘만 6곳  CB인사이츠에서는 유니콘 기업의 분야를 16개로 나눴다.\\n  핀테크 스타트업이 60곳으로 가장 많다.\\n  이커머스(54곳)-인터넷서비스(54곳)-인공지능(46곳) 순이다.\\n  미국 유니콘은 인터넷 서비스(43곳)-핀테크(30곳), 중국은 이커머스(21곳)-인공지능(12곳) 순이다.\\n  한국은 쿠팡, 위메프, 무신사 등 이커머스 기업이 3곳으로 가장 많다.\\n   기업가치가 유니콘의 10배 이상인 기업을 데카콘이라 부른다.\\n  기업가치 100억 달러(11조 7000억원) 이상인 유니콘, 즉 데카콘은 총 23곳이다.\\n  미국이 11곳이고, 중국이 6곳이다.\\n  기업가치가 가장 높은 기업 1, 2위는 모두 중국 기업이다.\\n  정 교수는 \"중국에서는 기술 기업을 전폭적으로 지원해주고 있다\"고 말했다.\\n  1위는 동영상 플랫폼 \\'틱톡\\'을 서비스하는 바이트댄스(750억 달러), 2위는 \\'중국의 우버\\' 디디추싱(560억 달러)이다.\\n  아시아 데카콘은 중국(6곳)을 포함해 인도 2곳, 인도네시아·싱가포르 1곳 등 10곳이다.\\n  한국에선 쿠팡의 기업가치가 90억 달러(약 10조 500억원)로 가장 높다.\\n   ④한국 10곳 중 5곳 적자   유니콘 기업이 잇달아 등장하자 정부에서는 적극적으로 육성 정책을 내놓고 있다.\\n  하지만 전문가들은 유니콘에 대한 맹목적인 신뢰를 경계해야 한다고 말한다.\\n  이병태 교수는 \"유니콘 타이틀을 갖게 되면 언론의 주목을 받게 되고 추가 투자를 받기 유리해진다\"며 \"기업 존립이 위태로운 기업이 유니콘으로 대접받는 경우도 있는데, 거품이 끼어 있는 것\"이라고 설명했다.\\n  실제로 한국의 유니콘 10곳 가운데 5곳이 적자(2018년 기준 영업손실)다.\\n  또 전 세계적으로 유니콘의 최소 기준인 기업가치 1억 달러 기업이 전체의 33%(146개)나 된다.\\n  익명을 요청한 벤처캐피탈 관계자는 \"정부는 규제개혁을 통해 새로운 실험이 일어나게 하고, 기초과학에 투자해 인적자산 확보에 나서야 한다.\\n '"
      ]
     },
     "execution_count": 356,
     "metadata": {},
     "output_type": "execute_result"
    }
   ],
   "source": [
    "source"
   ]
  },
  {
   "cell_type": "code",
   "execution_count": 357,
   "metadata": {},
   "outputs": [
    {
     "name": "stdout",
     "output_type": "stream",
     "text": [
      "하지만 크런치베이스에는 CB인사이츠에 포함된 바이오기업 에이프로젠 대신 이커머스 기업 티몬이 올라있다.\n",
      "중소벤처기업부 등 국내 정부기관에서는 CB인사이츠의 자료를 활용한다.\n",
      "정유신 서강대 경영대 교수는  조사기관들은 보통 투자액을 통해 기업가치를 평가하는데  투자액의 인정 기준이 조사기관마다 다를 수 있다 며  글로벌 기준이 되는 미국의 조사결과를 더 신뢰하는 경향이 있다 고 설명했다.\n",
      "미국 유니콘은 인터넷 서비스(43곳)-핀테크(30곳)  중국은 이커머스(21곳)-인공지능(12곳) 순이다.\n",
      "한국은 쿠팡  위메프  무신사 등 이커머스 기업이 3곳으로 가장 많다.\n",
      "기업가치가 유니콘의 10배 이상인 기업을 데카콘이라 부른다.\n",
      "기업가치 100억 달러(11조 7000억원) 이상인 유니콘  즉 데카콘은 총 23곳이다.\n",
      "기업가치가 가장 높은 기업 1  2위는 모두 중국 기업이다.\n",
      "정 교수는  중국에서는 기술 기업을 전폭적으로 지원해주고 있다 고 말했다.\n",
      "1위는 동영상 플랫폼  틱톡 을 서비스하는 바이트댄스(750억 달러)  2위는  중국의 우버  디디추싱(560억 달러)이다.\n",
      "아시아 데카콘은 중국(6곳)을 포함해 인도 2곳  인도네시아 싱가포르 1곳 등 10곳이다.\n",
      "한국에선 쿠팡의 기업가치가 90억 달러(약 10조 500억원)로 가장 높다.\n",
      "하지만 전문가들은 유니콘에 대한 맹목적인 신뢰를 경계해야 한다고 말한다.\n",
      "이병태 교수는  유니콘 타이틀을 갖게 되면 언론의 주목을 받게 되고 추가 투자를 받기 유리해진다 며  기업 존립이 위태로운 기업이 유니콘으로 대접받는 경우도 있는데  거품이 끼어 있는 것 이라고 설명했다.\n",
      "실제로 한국의 유니콘 10곳 가운데 5곳이 적자(2018년 기준 영업손실)다.\n",
      "또 전 세계적으로 유니콘의 최소 기준인 기업가치 1억 달러 기업이 전체의 33 (146개)나 된다.\n",
      "익명을 요청한 벤처캐피탈 관계자는  정부는 규제개혁을 통해 새로운 실험이 일어나게 하고  기초과학에 투자해 인적자산 확보에 나서야 한다.\n"
     ]
    }
   ],
   "source": [
    "preprocessing_sentences = formal_preprocessing_text(source)\n",
    "for preprocessing_sentence in preprocessing_sentences:\n",
    "    print(preprocessing_sentence)"
   ]
  },
  {
   "cell_type": "code",
   "execution_count": 128,
   "metadata": {},
   "outputs": [
    {
     "data": {
      "text/plain": [
       "'AIHUB_요약문 및 레포트 생성 데이터/Training/원천데이터/TS1/09.literature\\\\20per\\\\REPORT-literature-08132-08132.json'"
      ]
     },
     "execution_count": 128,
     "metadata": {},
     "output_type": "execute_result"
    }
   ],
   "source": [
    "train_file_name_09[932]"
   ]
  },
  {
   "cell_type": "code",
   "execution_count": 358,
   "metadata": {},
   "outputs": [
    {
     "name": "stdout",
     "output_type": "stream",
     "text": [
      "['하지만 크런치베이스에는 CB인사이츠에 포함된 바이오기업 에이프로젠 대신 이커머스 기업 티몬이 올라있다.', '중소벤처기업부 등 국내 정부기관에서는 CB인사이츠의 자료를 활용한다.', '정유신 서강대 경영대 교수는  조사기관들은 보통 투자액을 통해 기업가치를 평가하는데  투자액의 인정 기준이 조사기관마다 다를 수 있다 며  글로벌 기준이 되는 미국의 조사결과를 더 신뢰하는 경향이 있다 고 설명했다.', '미국 유니콘은 인터넷 서비스(43곳)-핀테크(30곳)  중국은 이커머스(21곳)-인공지능(12곳) 순이다.', '한국은 쿠팡  위메프  무신사 등 이커머스 기업이 3곳으로 가장 많다.', '기업가치가 유니콘의 10배 이상인 기업을 데카콘이라 부른다.', '기업가치 100억 달러(11조 7000억원) 이상인 유니콘  즉 데카콘은 총 23곳이다.', '기업가치가 가장 높은 기업 1  2위는 모두 중국 기업이다.', '정 교수는  중국에서는 기술 기업을 전폭적으로 지원해주고 있다 고 말했다.', '1위는 동영상 플랫폼  틱톡 을 서비스하는 바이트댄스(750억 달러)  2위는  중국의 우버  디디추싱(560억 달러)이다.', '아시아 데카콘은 중국(6곳)을 포함해 인도 2곳  인도네시아 싱가포르 1곳 등 10곳이다.', '한국에선 쿠팡의 기업가치가 90억 달러(약 10조 500억원)로 가장 높다.', '하지만 전문가들은 유니콘에 대한 맹목적인 신뢰를 경계해야 한다고 말한다.', '이병태 교수는  유니콘 타이틀을 갖게 되면 언론의 주목을 받게 되고 추가 투자를 받기 유리해진다 며  기업 존립이 위태로운 기업이 유니콘으로 대접받는 경우도 있는데  거품이 끼어 있는 것 이라고 설명했다.', '실제로 한국의 유니콘 10곳 가운데 5곳이 적자(2018년 기준 영업손실)다.', '또 전 세계적으로 유니콘의 최소 기준인 기업가치 1억 달러 기업이 전체의 33 (146개)나 된다.', '익명을 요청한 벤처캐피탈 관계자는  정부는 규제개혁을 통해 새로운 실험이 일어나게 하고  기초과학에 투자해 인적자산 확보에 나서야 한다.']\n"
     ]
    }
   ],
   "source": [
    "print(preprocessing_sentences)"
   ]
  },
  {
   "cell_type": "code",
   "execution_count": 412,
   "metadata": {},
   "outputs": [],
   "source": [
    "with open(train_file_name_09[932], 'r', encoding='utf-8') as one_json_file:\n",
    "    one_json_sample = json.load(one_json_file)\n",
    "\n",
    "source = one_json_sample['Meta(Refine)']['passage']"
   ]
  },
  {
   "cell_type": "code",
   "execution_count": 413,
   "metadata": {},
   "outputs": [
    {
     "data": {
      "text/plain": [
       "' 그러나 자연스런 그들의 행위가 반면에 의외로 큰 희생을 요구했으니 그것은 단체에 끼치게 된 불리보다도 참으로 크리이긴과 삑톨 두 사람에게 던지게 된 불행이다. 삑톨이 조바심을 하고 안달을 하면서 두 사람의 종적을 찾으러 휘돌아치는 꼴에는 단의 책임자로서의 심정보다도 마리이에게 대한 실망과 초조가 드러나 보이는 듯하다. 며칠 전 호텔 병실에서 그의 아내 그라아샤가 마리이를 냉큼 내쫓아 달라고 고함을 쳤던 것이 그럴 필요조차 없게 제물에 해결이 되어 마리이 쪽에서 마치 그 말을 엿듣기나 한 듯이 스스로 해결 짓게 된 것이 신통하다면 신통할까.\\n그라아샤에게는 숨은 만족을 주었을 반면에 삑톨에게는 얼마나 큰 상처를 주었을까는 추측하기에 넉넉하다. 주체스런 몸을 이끌고 휘돌아치는 삑톨의 양이 딱하기 짝없는 것이었다. 그러나 삑톨보다도 한층 속이 타는 것은 크리이긴이 아니었을까. 아키임과 같은 모습이기는 하나 신경질이요 빳빳스런 그의 기질이 애태우고 맞서던 사랑을 뺏기고 얼마나 속이 휘둘리웠을까. 말하는 법 없이 고함치는 법 없이 더욱 벙어리같이 침묵해 가는 그의 마음속이 얼마나 울가망하고 답답한 것이었을까. 가령 나는 그의 옆을 지나는 길에 무어라고 한마디쯤 말을 걸어보려는 것이나 첫째 그의 시선을 잡을 수가 없는 것이다. 눈앞을 보지 않고 그 어디인지 먼 데를 보고 있다. 그리고 그 노리고 있는 한 가지에 생각에 열중해 있음은 그 우악스런 눈매와 모가 져 보이는 턱의 각도로 짐작할 수 있다. 아마도 마리이일 듯한 그 한 가지 환영에 불같이 마음을 뺏기고 있는 것이다.\\n'"
      ]
     },
     "execution_count": 413,
     "metadata": {},
     "output_type": "execute_result"
    }
   ],
   "source": [
    "source"
   ]
  },
  {
   "cell_type": "code",
   "execution_count": 414,
   "metadata": {},
   "outputs": [
    {
     "name": "stdout",
     "output_type": "stream",
     "text": [
      "그러나 자연스런 그들의 행위가 반면에 의외로 큰 희생을 요구했으니 그것은 단체에 끼치게 된 불리보다도 참으로 크리이긴과 삑톨 두 사람에게 던지게 된 불행이다.\n",
      "삑톨이 조바심을 하고 안달을 하면서 두 사람의 종적을 찾으러 휘돌아치는 꼴에는 단의 책임자로서의 심정보다도 마리이에게 대한 실망과 초조가 드러나 보이는 듯하다.\n",
      "며칠 전 호텔 병실에서 그의 아내 그라아샤가 마리이를 냉큼 내쫓아 달라고 고함을 쳤던 것이 그럴 필요조차 없게 제물에 해결이 되어 마리이 쪽에서 마치 그 말을 엿듣기나 한 듯이 스스로 해결 짓게 된 것이 신통하다면 신통할까.\n",
      "그라아샤에게는 숨은 만족을 주었을 반면에 삑톨에게는 얼마나 큰 상처를 주었을까는 추측하기에 넉넉하다.\n",
      "주체스런 몸을 이끌고 휘돌아치는 삑톨의 양이 딱하기 짝없는 것이었다.\n",
      "그러나 삑톨보다도 한층 속이 타는 것은 크리이긴이 아니었을까.\n",
      "아키임과 같은 모습이기는 하나 신경질이요 빳빳스런 그의 기질이 애태우고 맞서던 사랑을 뺏기고 얼마나 속이 휘둘리웠을까  말하는 법 없이 고함치는 법 없이 더욱 벙어리같이 침묵해 가는 그의 마음속이 얼마나 울가망하고 답답한 것이었을까.\n",
      "가령 나는 그의 옆을 지나는 길에 무어라고 한마디쯤 말을 걸어보려는 것이나 첫째 그의 시선을 잡을 수가 없는 것이다.\n",
      "눈앞을 보지 않고 그 어디인지 먼 데를 보고 있다.\n",
      "그리고 그 노리고 있는 한 가지에 생각에 열중해 있음은 그 우악스런 눈매와 모가 져 보이는 턱의 각도로 짐작할 수 있다.\n",
      "아마도 마리이일 듯한 그 한 가지 환영에 불같이 마음을 뺏기고 있는 것이다.\n"
     ]
    }
   ],
   "source": [
    "preprocessing_sentences = formal_preprocessing_text(source)\n",
    "for preprocessing_sentence in preprocessing_sentences:\n",
    "    print(preprocessing_sentence)"
   ]
  },
  {
   "cell_type": "code",
   "execution_count": 415,
   "metadata": {},
   "outputs": [
    {
     "name": "stdout",
     "output_type": "stream",
     "text": [
      "['그러나 자연스런 그들의 행위가 반면에 의외로 큰 희생을 요구했으니 그것은 단체에 끼치게 된 불리보다도 참으로 크리이긴과 삑톨 두 사람에게 던지게 된 불행이다.', '삑톨이 조바심을 하고 안달을 하면서 두 사람의 종적을 찾으러 휘돌아치는 꼴에는 단의 책임자로서의 심정보다도 마리이에게 대한 실망과 초조가 드러나 보이는 듯하다.', '며칠 전 호텔 병실에서 그의 아내 그라아샤가 마리이를 냉큼 내쫓아 달라고 고함을 쳤던 것이 그럴 필요조차 없게 제물에 해결이 되어 마리이 쪽에서 마치 그 말을 엿듣기나 한 듯이 스스로 해결 짓게 된 것이 신통하다면 신통할까.', '그라아샤에게는 숨은 만족을 주었을 반면에 삑톨에게는 얼마나 큰 상처를 주었을까는 추측하기에 넉넉하다.', '주체스런 몸을 이끌고 휘돌아치는 삑톨의 양이 딱하기 짝없는 것이었다.', '그러나 삑톨보다도 한층 속이 타는 것은 크리이긴이 아니었을까.', '아키임과 같은 모습이기는 하나 신경질이요 빳빳스런 그의 기질이 애태우고 맞서던 사랑을 뺏기고 얼마나 속이 휘둘리웠을까  말하는 법 없이 고함치는 법 없이 더욱 벙어리같이 침묵해 가는 그의 마음속이 얼마나 울가망하고 답답한 것이었을까.', '가령 나는 그의 옆을 지나는 길에 무어라고 한마디쯤 말을 걸어보려는 것이나 첫째 그의 시선을 잡을 수가 없는 것이다.', '눈앞을 보지 않고 그 어디인지 먼 데를 보고 있다.', '그리고 그 노리고 있는 한 가지에 생각에 열중해 있음은 그 우악스런 눈매와 모가 져 보이는 턱의 각도로 짐작할 수 있다.', '아마도 마리이일 듯한 그 한 가지 환영에 불같이 마음을 뺏기고 있는 것이다.']\n"
     ]
    }
   ],
   "source": [
    "print(preprocessing_sentences)"
   ]
  },
  {
   "cell_type": "markdown",
   "metadata": {},
   "source": [
    "### AIHUB 문서요약 텍스트"
   ]
  },
  {
   "cell_type": "code",
   "execution_count": 77,
   "metadata": {},
   "outputs": [],
   "source": [
    "path_list = ['AIHUB_문서요약 텍스트/Training/'+ '/**/*.json', \n",
    "             'AIHUB_문서요약 텍스트/Validation/'+ '/**/*.json']\n",
    "train_file_name, valid_file_name = train_valid_json_file_name_list(path_list)"
   ]
  },
  {
   "cell_type": "code",
   "execution_count": 75,
   "metadata": {},
   "outputs": [
    {
     "data": {
      "text/plain": [
       "'AIHUB_문서요약 텍스트/Training\\\\사설_train_original\\\\train_original.json'"
      ]
     },
     "execution_count": 75,
     "metadata": {},
     "output_type": "execute_result"
    }
   ],
   "source": [
    "train_file_name[1]"
   ]
  },
  {
   "cell_type": "code",
   "execution_count": 89,
   "metadata": {},
   "outputs": [],
   "source": [
    "with open(train_file_name[1], 'r', encoding='utf-8') as one_json_file:\n",
    "    one_json_sample = json.load(one_json_file)"
   ]
  },
  {
   "cell_type": "code",
   "execution_count": null,
   "metadata": {},
   "outputs": [],
   "source": [
    "one_json_sample['documents'][1]"
   ]
  },
  {
   "cell_type": "code",
   "execution_count": 102,
   "metadata": {},
   "outputs": [
    {
     "data": {
      "text/plain": [
       "{'index': 4,\n",
       " 'sentence': '현 정부 들어 제대로 된 남북대화 한 번 못했던 경색 국면은 꼭 풀어내야겠지만 그렇다고 원칙을 쉽게 내던져서도 곤란하다.',\n",
       " 'highlight_indices': '0,1;8,11;19,20;23,24;34,35'}"
      ]
     },
     "execution_count": 102,
     "metadata": {},
     "output_type": "execute_result"
    }
   ],
   "source": [
    "one_json_sample['documents'][1]['text'][1][1]"
   ]
  },
  {
   "cell_type": "code",
   "execution_count": 103,
   "metadata": {},
   "outputs": [
    {
     "name": "stdout",
     "output_type": "stream",
     "text": [
      "312   4   0\n",
      "315   4   0\n"
     ]
    }
   ],
   "source": [
    "for i in range(len(one_json_sample['documents'])):\n",
    "    a = one_json_sample['documents'][i]\n",
    "    for j in range(len(a['text'])):\n",
    "        b = a['text'][j]\n",
    "        for k in range(len(b)):\n",
    "            c = b[k]['sentence']\n",
    "            if '더구나 지방자치법' in c:\n",
    "                print(i, \" \",  j, \" \",  k)"
   ]
  },
  {
   "cell_type": "code",
   "execution_count": null,
   "metadata": {},
   "outputs": [],
   "source": [
    "one_json_sample['documents'][311]"
   ]
  },
  {
   "cell_type": "code",
   "execution_count": 76,
   "metadata": {},
   "outputs": [],
   "source": [
    "with open(train_file_name[1], 'r', encoding='utf-8') as one_json_file:\n",
    "    one_json_sample = json.load(one_json_file)\n",
    "    \n",
    "source_df = pd.DataFrame(one_json_sample['documents'])\n",
    "source_dict = dict(source_df['text'].explode())\n",
    "source_json = pd.json_normalize(source_dict)  \n",
    "\n",
    "source_list = []\n",
    "for source_index in source_json:\n",
    "    for source_nested_list in source_json[source_index]:\n",
    "        for source_single_list in source_nested_list:\n",
    "            source_sentence = \"\"\n",
    "            for source_single in source_single_list:\n",
    "                if type(source_single) == dict:\n",
    "                    for key, value in source_single.items():\n",
    "                        if key == \"sentence\":\n",
    "                            source_sentence += \" \" + value\n",
    "            if len(source_sentence) > 0:\n",
    "                source_list.append(source_sentence)"
   ]
  },
  {
   "cell_type": "code",
   "execution_count": 116,
   "metadata": {},
   "outputs": [
    {
     "name": "stdout",
     "output_type": "stream",
     "text": [
      "1694\n",
      "1710\n"
     ]
    }
   ],
   "source": [
    "for source in range(len(source_list)):\n",
    "    if '백화점들은 수입이 감소하지만 중소 입점업체' in source_list[source]:\n",
    "        print(source)"
   ]
  },
  {
   "cell_type": "code",
   "execution_count": 122,
   "metadata": {},
   "outputs": [
    {
     "data": {
      "text/plain": [
       "' 공정거래위원회가 롯데 현대 신세계 등 빅3 백화점이 총 1054개 중소 납품업체 판매수수료율을 3~7%포인트씩 인하하고 이달분부터 소급 적용하기로 했다고 밝혔다. 인하 대상은 3대 백화점에 납품하는 중소업체 총 2036개 중 51.8%에 해당한다. 지난 9월 6일 김동수 공정위원장이 유통업계 대표들을 불러 수수료 인하를 독려한 후 인하폭을 둘러싸고 공정위와 백화점 간에 팽팽한 신경전이 펼쳐졌으나 공정위가 가이드라인으로 제시한 범위에서 합의가 이뤄졌다.'"
      ]
     },
     "execution_count": 122,
     "metadata": {},
     "output_type": "execute_result"
    }
   ],
   "source": [
    "source_list[1693]"
   ]
  },
  {
   "cell_type": "code",
   "execution_count": 114,
   "metadata": {},
   "outputs": [
    {
     "data": {
      "text/plain": [
       "' 중기 적합업종 제도가 소기의 성과를 내기 위해서는 대기업과 중소기업 간에 어느 정도 양해가 필요하다. 그런데 지난 1차 지정에서는 별 탈이 없었으나 이번 2차 지정에선 벌써부터 레미콘업계가 집단 반발 시위를 계획하는 등 말썽 소지가 벌어지고 있다. 동반성장위는 폼목을 늘리기 위해 졸속이 없었는지 살펴야 한다. 중소기업도 보호막에 안주하지 말고 위생, 안전성, 기술 품질, AS 등에서 소비자 만족도를 높이기 위한 노력을 배가해야 한다.'"
      ]
     },
     "execution_count": 114,
     "metadata": {},
     "output_type": "execute_result"
    }
   ],
   "source": [
    "source_list[1687]"
   ]
  },
  {
   "cell_type": "code",
   "execution_count": 123,
   "metadata": {},
   "outputs": [
    {
     "name": "stdout",
     "output_type": "stream",
     "text": [
      "공정거래위원회가 롯데 현대 신세계 등 빅3 백화점이 총 1054개 중소 납품업체 판매수수료율을 3 7 포인트씩 인하하고 이달분부터 소급 적용하기로 했다고 밝혔다.\n",
      "인하 대상은 3대 백화점에 납품하는 중소업체 총 2036개 중 51 8 에 해당한다.\n",
      "지난 9월 6일 김동수 공정위원장이 유통업계 대표들을 불러 수수료 인하를 독려한 후 인하폭을 둘러싸고 공정위와 백화점 간에 팽팽한 신경전이 펼쳐졌으나 공정위가 가이드라인으로 제시한 범위에서 합의가 이뤄졌다.\n"
     ]
    }
   ],
   "source": [
    "preprocessing_sentences = formal_preprocessing_text(source_list[1693])\n",
    "for preprocessing_sentence in preprocessing_sentences:\n",
    "    print(preprocessing_sentence)"
   ]
  },
  {
   "cell_type": "code",
   "execution_count": 124,
   "metadata": {},
   "outputs": [
    {
     "name": "stdout",
     "output_type": "stream",
     "text": [
      "['공정거래위원회가 롯데 현대 신세계 등 빅3 백화점이 총 1054개 중소 납품업체 판매수수료율을 3 7 포인트씩 인하하고 이달분부터 소급 적용하기로 했다고 밝혔다.', '인하 대상은 3대 백화점에 납품하는 중소업체 총 2036개 중 51 8 에 해당한다.', '지난 9월 6일 김동수 공정위원장이 유통업계 대표들을 불러 수수료 인하를 독려한 후 인하폭을 둘러싸고 공정위와 백화점 간에 팽팽한 신경전이 펼쳐졌으나 공정위가 가이드라인으로 제시한 범위에서 합의가 이뤄졌다.']\n"
     ]
    }
   ],
   "source": [
    "print(preprocessing_sentences)"
   ]
  },
  {
   "cell_type": "code",
   "execution_count": 125,
   "metadata": {},
   "outputs": [],
   "source": [
    "with open(train_file_name[2], 'r', encoding='utf-8') as one_json_file:\n",
    "    one_json_sample = json.load(one_json_file)\n",
    "    \n",
    "source_df = pd.DataFrame(one_json_sample['documents'])\n",
    "source_dict = dict(source_df['text'].explode())\n",
    "source_json = pd.json_normalize(source_dict)  \n",
    "\n",
    "source_list = []\n",
    "for source_index in source_json:\n",
    "    for source_nested_list in source_json[source_index]:\n",
    "        for source_single_list in source_nested_list:\n",
    "            source_sentence = \"\"\n",
    "            for source_single in source_single_list:\n",
    "                if type(source_single) == dict:\n",
    "                    for key, value in source_single.items():\n",
    "                        if key == \"sentence\":\n",
    "                            source_sentence += \" \" + value\n",
    "            if len(source_sentence) > 0:\n",
    "                source_list.append(source_sentence)"
   ]
  },
  {
   "cell_type": "code",
   "execution_count": 328,
   "metadata": {},
   "outputs": [
    {
     "data": {
      "text/plain": [
       "' 체 씨는“언어부터 문화까지 모든 게 달라 한국 사회에 적응하는 것이 쉽지 않았는데 광양제철소 사내 바리스타로 근무하기 시작하면서부터 삶이 달라졌다”라며“광양지역에 안정적으로 적응할 수 있도록 따뜻한 도움의 손길을 내밀어 준 광양제철소 프렌즈봉사단에 고맙다”고 말했다.'"
      ]
     },
     "execution_count": 328,
     "metadata": {},
     "output_type": "execute_result"
    }
   ],
   "source": [
    "source_list[1899]"
   ]
  },
  {
   "cell_type": "code",
   "execution_count": 329,
   "metadata": {},
   "outputs": [
    {
     "name": "stdout",
     "output_type": "stream",
     "text": [
      "체 씨는 언어부터 문화까지 모든 게 달라 한국 사회에 적응하는 것이 쉽지 않았는데 광양제철소 사내 바리스타로 근무하기 시작하면서부터 삶이 달라졌다 라며 광양지역에 안정적으로 적응할 수 있도록 따뜻한 도움의 손길을 내밀어 준 광양제철소 프렌즈봉사단에 고맙다 고 말했다.\n"
     ]
    }
   ],
   "source": [
    "preprocessing_sentences = formal_preprocessing_text(source_list[1899])\n",
    "for preprocessing_sentence in preprocessing_sentences:\n",
    "    print(preprocessing_sentence)"
   ]
  },
  {
   "cell_type": "code",
   "execution_count": 330,
   "metadata": {},
   "outputs": [
    {
     "name": "stdout",
     "output_type": "stream",
     "text": [
      "['체 씨는 언어부터 문화까지 모든 게 달라 한국 사회에 적응하는 것이 쉽지 않았는데 광양제철소 사내 바리스타로 근무하기 시작하면서부터 삶이 달라졌다 라며 광양지역에 안정적으로 적응할 수 있도록 따뜻한 도움의 손길을 내밀어 준 광양제철소 프렌즈봉사단에 고맙다 고 말했다.']\n"
     ]
    }
   ],
   "source": [
    "print(preprocessing_sentences)"
   ]
  },
  {
   "cell_type": "markdown",
   "metadata": {},
   "source": [
    "### AIHUB 특허분야 자동분류 데이터"
   ]
  },
  {
   "cell_type": "code",
   "execution_count": 71,
   "metadata": {},
   "outputs": [],
   "source": [
    "path_list = ['AIHUB_특허 분야 자동분류 데이터/Training/'+ '/**/*.json', \n",
    "             'AIHUB_특허 분야 자동분류 데이터/Validation/'+ '/**/*.json']\n",
    "train_file_name, valid_file_name = train_valid_json_file_name_list(path_list)"
   ]
  },
  {
   "cell_type": "code",
   "execution_count": 72,
   "metadata": {},
   "outputs": [],
   "source": [
    "with open(train_file_name[5], 'r', encoding='utf-8') as one_json_file:\n",
    "    one_json_sample = json.load(one_json_file)\n",
    "\n",
    "source_list = list(pd.DataFrame(one_json_sample['dataset'])['abstract'].dropna())"
   ]
  },
  {
   "cell_type": "code",
   "execution_count": 73,
   "metadata": {},
   "outputs": [
    {
     "data": {
      "text/plain": [
       "'AIHUB_특허 분야 자동분류 데이터/Training\\\\원천데이터\\\\TS1\\\\A_농업_임업및어업_01_03\\\\01_농업\\\\011_작물재배업\\\\01132_음료용및향신용작물재배업.json'"
      ]
     },
     "execution_count": 73,
     "metadata": {},
     "output_type": "execute_result"
    }
   ],
   "source": [
    "train_file_name[5]"
   ]
  },
  {
   "cell_type": "code",
   "execution_count": 261,
   "metadata": {},
   "outputs": [
    {
     "data": {
      "text/plain": [
       "'본 발명은 옥수수 53.0 ∼ 57.0 중량%, 현미 22.0 ∼ 26.0 중량%, 결명자 2.2 ∼ 3.0 중량%, 둥굴레 2.2 ∼ 3.0 중량%, 치커리 2.2 ∼ 3.0 중량%, 감초 2.0 ∼ 4.0 중량%, 녹차잎 1.1 ∼ 1.5 중량%, 당귀 1.6 ∼ 2.0 중량%, 구기자 1.6 ∼ 2.0 중량%, 오미자 1.6 ∼ 2.0 중량%, 영지버섯 1.6 ∼ 2.0 중량%, 황기 1.6 ∼ 2.0 중량%를 포함하는 곡물을 주재로 한 음료 조성물에 관한 것이다.본 발명은 옥수수, 현미 및 그 외 둥굴레 등의 영양과 맛이 잘 조화되어 맛과 향기면에 있어서 그 기호도가 매우 높고, 옥수수를 주재로 하고 여기에 현미, 둥굴레, 치커리, 오미자, 구기자, 녹차잎, 감초, 당귀, 영지버섯, 황기, 결명자 등을 넣어 끓인 물을 매일 지속적으로 마실 수 있도록 하여 음료 시장 개선과 건강 증진에 기여하며, 티백 포장함으로써 사용이 간편할 뿐 아니라, 원료 상태부터 포장까지의 전공정이 소비자 앞에서 이루어짐으로써 음료 조성물에 대한 소비자의 신뢰성을 극대화하는 효과가 있다.'"
      ]
     },
     "execution_count": 261,
     "metadata": {},
     "output_type": "execute_result"
    }
   ],
   "source": [
    "source_list[74]"
   ]
  },
  {
   "cell_type": "code",
   "execution_count": 262,
   "metadata": {},
   "outputs": [
    {
     "name": "stdout",
     "output_type": "stream",
     "text": [
      "본 발명은 옥수수 53 0   57 0 중량   현미 22 0   26 0 중량   결명자 2 2   3 0 중량   둥굴레 2 2   3 0 중량   치커리 2 2   3 0 중량   감초 2 0   4 0 중량   녹차잎 1 1   1 5 중량   당귀 1 6   2 0 중량   구기자 1 6   2 0 중량   오미자 1 6   2 0 중량   영지버섯 1 6   2 0 중량   황기 1 6   2 0 중량 를 포함하는 곡물을 주재로 한 음료 조성물에 관한 것이다.\n",
      "본 발명은 옥수수  현미 및 그 외 둥굴레 등의 영양과 맛이 잘 조화되어 맛과 향기면에 있어서 그 기호도가 매우 높고  옥수수를 주재로 하고 여기에 현미  둥굴레  치커리  오미자  구기자  녹차잎  감초  당귀  영지버섯  황기  결명자 등을 넣어 끓인 물을 매일 지속적으로 마실 수 있도록 하여 음료 시장 개선과 건강 증진에 기여하며  티백 포장함으로써 사용이 간편할 뿐 아니라  원료 상태부터 포장까지의 전공정이 소비자 앞에서 이루어짐으로써 음료 조성물에 대한 소비자의 신뢰성을 극대화하는 효과가 있다.\n"
     ]
    }
   ],
   "source": [
    "preprocessing_sentences = formal_preprocessing_text(source_list[74])\n",
    "for preprocessing_sentence in preprocessing_sentences:\n",
    "    print(preprocessing_sentence)"
   ]
  },
  {
   "cell_type": "code",
   "execution_count": 263,
   "metadata": {},
   "outputs": [
    {
     "name": "stdout",
     "output_type": "stream",
     "text": [
      "['본 발명은 옥수수 53 0   57 0 중량   현미 22 0   26 0 중량   결명자 2 2   3 0 중량   둥굴레 2 2   3 0 중량   치커리 2 2   3 0 중량   감초 2 0   4 0 중량   녹차잎 1 1   1 5 중량   당귀 1 6   2 0 중량   구기자 1 6   2 0 중량   오미자 1 6   2 0 중량   영지버섯 1 6   2 0 중량   황기 1 6   2 0 중량 를 포함하는 곡물을 주재로 한 음료 조성물에 관한 것이다.', '본 발명은 옥수수  현미 및 그 외 둥굴레 등의 영양과 맛이 잘 조화되어 맛과 향기면에 있어서 그 기호도가 매우 높고  옥수수를 주재로 하고 여기에 현미  둥굴레  치커리  오미자  구기자  녹차잎  감초  당귀  영지버섯  황기  결명자 등을 넣어 끓인 물을 매일 지속적으로 마실 수 있도록 하여 음료 시장 개선과 건강 증진에 기여하며  티백 포장함으로써 사용이 간편할 뿐 아니라  원료 상태부터 포장까지의 전공정이 소비자 앞에서 이루어짐으로써 음료 조성물에 대한 소비자의 신뢰성을 극대화하는 효과가 있다.']\n"
     ]
    }
   ],
   "source": [
    "print(preprocessing_sentences)"
   ]
  },
  {
   "cell_type": "markdown",
   "metadata": {},
   "source": [
    "### AIHUB 뉴스기사 기계독해 데이터"
   ]
  },
  {
   "cell_type": "code",
   "execution_count": 65,
   "metadata": {},
   "outputs": [],
   "source": [
    "path_list = ['AIHUB_뉴스 기사 기계독해 데이터/Training/'+ '/**/*.json', \n",
    "             'AIHUB_뉴스 기사 기계독해 데이터/Validation/'+ '/**/*.json']\n",
    "train_file_name, valid_file_name = train_valid_json_file_name_list(path_list)"
   ]
  },
  {
   "cell_type": "code",
   "execution_count": 66,
   "metadata": {},
   "outputs": [],
   "source": [
    "with open(train_file_name[0], 'r', encoding='utf-8') as one_json_file:\n",
    "    one_json_sample = json.load(one_json_file)\n",
    "\n",
    "source_df = pd.DataFrame(one_json_sample['data'])\n",
    "source_dict = dict(source_df['paragraphs'].explode())\n",
    "source_json = pd.json_normalize(source_dict)\n",
    "source_list = list(source_json.filter(regex='context').values[0])"
   ]
  },
  {
   "cell_type": "code",
   "execution_count": 68,
   "metadata": {},
   "outputs": [
    {
     "name": "stdout",
     "output_type": "stream",
     "text": [
      "8\n"
     ]
    }
   ],
   "source": [
    "for i in range(len(one_json_sample['data'])):\n",
    "    if '군산시는 노인 복지향상 ' in one_json_sample['data'][i]['paragraphs'][0]['context']:\n",
    "        print(i)"
   ]
  },
  {
   "cell_type": "code",
   "execution_count": null,
   "metadata": {},
   "outputs": [],
   "source": [
    "one_json_sample"
   ]
  },
  {
   "cell_type": "code",
   "execution_count": 69,
   "metadata": {},
   "outputs": [
    {
     "data": {
      "text/plain": [
       "{'doc_id': '01601101.20210325201931006',\n",
       " 'doc_title': '군산시, 도내 최초 경로당 친환경쌀 공급',\n",
       " 'doc_source': '전북일보',\n",
       " 'doc_published': 20210325,\n",
       " 'doc_class': {'class': '한국언론진흥재단 빅카인즈 뉴스기사', 'code': '지역'},\n",
       " 'created': '20211217142431',\n",
       " 'paragraphs': [{'context': '군산시는 노인 복지향상 및 건강증진 도모를 위해 도내 최초로 경로당 친환경쌀 공급 지원사업을 추진한다. \\n\\n최근 노인들의 경로당 참여율이 높아지면서 쌀 소비량이 늘어나고 노인들의 건강한 지역 먹거리에 대한 욕구도 증대되고 있는 상황이다. \\n\\n이에 따라 시는 경로장애인과와 협력해 경로당에 공급하는 기존 정부 양곡을 지역에서 생산된 우수한 품질의 친환경쌀로 대체 지원하기로 했다. \\n\\n시는 향후 지역 경로당 516곳에 총 4128포(20kg)의 친환경쌀을 경로당 희망하는 월(月)에 공급할 계획이다. \\n\\n시는 이번 지원 사업이 경로당 이용 노인들의 건강한 식생활을 돕고, 군산 친환경쌀 판매 확대를 통해 쌀 생산 농가의 소득증대와 지역경제 활성화에 기여 할 것으로 보고 있다. \\n\\n신동우 군산시 먹거리정책과장은 “경로당뿐만 아니라 공공급식 영역을 더욱 확대해 안전하고 우수한 우리지역 농산물을 공급하는데 노력하겠다”고 말했다.',\n",
       "   'context_id': '464138'}]}"
      ]
     },
     "execution_count": 69,
     "metadata": {},
     "output_type": "execute_result"
    }
   ],
   "source": [
    "one_json_sample['data'][8]"
   ]
  },
  {
   "cell_type": "code",
   "execution_count": 67,
   "metadata": {},
   "outputs": [
    {
     "data": {
      "text/plain": [
       "'AIHUB_뉴스 기사 기계독해 데이터/Training\\\\원천데이터\\\\TS_span_extraction.json'"
      ]
     },
     "execution_count": 67,
     "metadata": {},
     "output_type": "execute_result"
    }
   ],
   "source": [
    "train_file_name[0]"
   ]
  },
  {
   "cell_type": "code",
   "execution_count": 246,
   "metadata": {},
   "outputs": [
    {
     "data": {
      "text/plain": [
       "'군산시는 노인 복지향상 및 건강증진 도모를 위해 도내 최초로 경로당 친환경쌀 공급 지원사업을 추진한다. \\n\\n최근 노인들의 경로당 참여율이 높아지면서 쌀 소비량이 늘어나고 노인들의 건강한 지역 먹거리에 대한 욕구도 증대되고 있는 상황이다. \\n\\n이에 따라 시는 경로장애인과와 협력해 경로당에 공급하는 기존 정부 양곡을 지역에서 생산된 우수한 품질의 친환경쌀로 대체 지원하기로 했다. \\n\\n시는 향후 지역 경로당 516곳에 총 4128포(20kg)의 친환경쌀을 경로당 희망하는 월(月)에 공급할 계획이다. \\n\\n시는 이번 지원 사업이 경로당 이용 노인들의 건강한 식생활을 돕고, 군산 친환경쌀 판매 확대를 통해 쌀 생산 농가의 소득증대와 지역경제 활성화에 기여 할 것으로 보고 있다. \\n\\n신동우 군산시 먹거리정책과장은 “경로당뿐만 아니라 공공급식 영역을 더욱 확대해 안전하고 우수한 우리지역 농산물을 공급하는데 노력하겠다”고 말했다.'"
      ]
     },
     "execution_count": 246,
     "metadata": {},
     "output_type": "execute_result"
    }
   ],
   "source": [
    "source_list[16]"
   ]
  },
  {
   "cell_type": "code",
   "execution_count": 245,
   "metadata": {},
   "outputs": [
    {
     "name": "stdout",
     "output_type": "stream",
     "text": [
      "군산시는 노인 복지향상 및 건강증진 도모를 위해 도내 최초로 경로당 친환경쌀 공급 지원사업을 추진한다.\n",
      "최근 노인들의 경로당 참여율이 높아지면서 쌀 소비량이 늘어나고 노인들의 건강한 지역 먹거리에 대한 욕구도 증대되고 있는 상황이다.\n",
      "이에 따라 시는 경로장애인과와 협력해 경로당에 공급하는 기존 정부 양곡을 지역에서 생산된 우수한 품질의 친환경쌀로 대체 지원하기로 했다.\n",
      "시는 향후 지역 경로당 516곳에 총 4128포(20kg)의 친환경쌀을 경로당 희망하는 월(月)에 공급할 계획이다.\n",
      "시는 이번 지원 사업이 경로당 이용 노인들의 건강한 식생활을 돕고  군산 친환경쌀 판매 확대를 통해 쌀 생산 농가의 소득증대와 지역경제 활성화에 기여 할 것으로 보고 있다.\n",
      "신동우 군산시 먹거리정책과장은  경로당뿐만 아니라 공공급식 영역을 더욱 확대해 안전하고 우수한 우리지역 농산물을 공급하는데 노력하겠다 고 말했다.\n"
     ]
    }
   ],
   "source": [
    "preprocessing_sentences = formal_preprocessing_text(source_list[16])\n",
    "for preprocessing_sentence in preprocessing_sentences:\n",
    "    print(preprocessing_sentence)"
   ]
  },
  {
   "cell_type": "code",
   "execution_count": 247,
   "metadata": {},
   "outputs": [
    {
     "name": "stdout",
     "output_type": "stream",
     "text": [
      "['군산시는 노인 복지향상 및 건강증진 도모를 위해 도내 최초로 경로당 친환경쌀 공급 지원사업을 추진한다.', '최근 노인들의 경로당 참여율이 높아지면서 쌀 소비량이 늘어나고 노인들의 건강한 지역 먹거리에 대한 욕구도 증대되고 있는 상황이다.', '이에 따라 시는 경로장애인과와 협력해 경로당에 공급하는 기존 정부 양곡을 지역에서 생산된 우수한 품질의 친환경쌀로 대체 지원하기로 했다.', '시는 향후 지역 경로당 516곳에 총 4128포(20kg)의 친환경쌀을 경로당 희망하는 월(月)에 공급할 계획이다.', '시는 이번 지원 사업이 경로당 이용 노인들의 건강한 식생활을 돕고  군산 친환경쌀 판매 확대를 통해 쌀 생산 농가의 소득증대와 지역경제 활성화에 기여 할 것으로 보고 있다.', '신동우 군산시 먹거리정책과장은  경로당뿐만 아니라 공공급식 영역을 더욱 확대해 안전하고 우수한 우리지역 농산물을 공급하는데 노력하겠다 고 말했다.']\n"
     ]
    }
   ],
   "source": [
    "print(preprocessing_sentences)"
   ]
  },
  {
   "cell_type": "markdown",
   "metadata": {},
   "source": [
    "### AIHUB 행정 문서 대상 기계독해 데이터"
   ]
  },
  {
   "cell_type": "code",
   "execution_count": 237,
   "metadata": {},
   "outputs": [],
   "source": [
    "def preprocessing_text(source):\n",
    "    \n",
    "    preprocessing_sentence_list = []\n",
    "    source_split = re.split('br|tr|td|table|tbody|rowspan', source)\n",
    "    # 문자열 'br', 'tr', 'td', 'table', 'tbody'를 기준으로 문장 분리\n",
    "    \n",
    "    for source in source_split:\n",
    "        sentence = re.sub('(br|tr|td|table|tbody|rowspan|<|>|/)', '', source)\n",
    "        # 문자열 'br', 'tr', 'td', 'table', 'tbody' 특수기호 '<', '>', '/'를 제외\n",
    "            \n",
    "        sentence = sentence.strip()\n",
    "        # strip으로 앞뒤 공백 제거\n",
    "\n",
    "        if len(sentence) > 1 and \\\n",
    "        re.search(\"^[A-Za-z0-9ㄱ-ㅎ가-힣一-鿕㐀-䶵豈-龎]\", sentence[0]) is not None and \\\n",
    "        bool(re.match(r'[.]|[!]|[?]', sentence[-1])) == True and  \\\n",
    "        len(sentence.split()) > 5:\n",
    "            # The String starts with a letter\n",
    "            # The String ends with [. ! ?]\n",
    "\n",
    "            sentence = re.sub(r\"[^A-Za-z0-9ㄱ-ㅎ가-힣一-鿕㐀-䶵豈-龎()+-]\", \" \", sentence)\n",
    "            # 특수문자 제거(영어 대소문자, 한글, 한자, 숫자, -, +, 소괄호 제외)\n",
    "            #               \n",
    "            sentence = re.sub(r\"\\[.*?\\]|\\{.*?\\}\", \"\",  sentence)\n",
    "            # 기타 괄호 제거할 시 괄호 내부에 모든 텍스트 제거  \n",
    "\n",
    "            sentence = sentence.strip()\n",
    "            # strip으로 앞뒤 공백 제거\n",
    "            \n",
    "            total_length = len(sentence.replace(\" \" , \"\"))\n",
    "            hangeul_length = len(re.sub(r\"[^ㄱ-ㅣ가-힣\\s]\", \"\", sentence.replace(\" \" , \"\")))\n",
    "            hangeul_ratio = hangeul_length / total_length\n",
    "            if hangeul_ratio >= 0.5:\n",
    "            # 한글이 아닌 문자열이 50% 이상이 넘은 문장 제외\n",
    "                if sentence[-1] == \".\":\n",
    "                    preprocessing_sentence_list.append(sentence)\n",
    "                else:\n",
    "                    preprocessing_sentence_list.append(sentence + \".\")\n",
    "                    \n",
    "    return preprocessing_sentence_list"
   ]
  },
  {
   "cell_type": "code",
   "execution_count": 50,
   "metadata": {},
   "outputs": [],
   "source": [
    "path_list = ['AIHUB_행정 문서 대상 기계독해 데이터/Training/'+ '/**/*.json', \n",
    "             'AIHUB_행정 문서 대상 기계독해 데이터/Validation/'+ '/**/*.json']\n",
    "train_file_name, valid_file_name = train_valid_json_file_name_list(path_list)"
   ]
  },
  {
   "cell_type": "code",
   "execution_count": 60,
   "metadata": {},
   "outputs": [],
   "source": [
    "with open(train_file_name[0], 'r', encoding='utf-8') as one_json_file:\n",
    "    one_json_sample = json.load(one_json_file) \n",
    "\n",
    "source_df = pd.DataFrame(one_json_sample['data'])\n",
    "source_dict = dict(source_df['paragraphs'].explode())\n",
    "source_json = pd.json_normalize(source_dict)\n",
    "source_list = list(source_json.filter(regex='context').values[0])"
   ]
  },
  {
   "cell_type": "code",
   "execution_count": 61,
   "metadata": {},
   "outputs": [
    {
     "name": "stdout",
     "output_type": "stream",
     "text": [
      "11\n",
      "577\n"
     ]
    }
   ],
   "source": [
    "for i in range(len(one_json_sample['data'])):\n",
    "    if '신년 업무' in one_json_sample['data'][i]['paragraphs'][0]['context']:\n",
    "        print(i)"
   ]
  },
  {
   "cell_type": "code",
   "execution_count": null,
   "metadata": {},
   "outputs": [],
   "source": [
    "one_json_sample"
   ]
  },
  {
   "cell_type": "code",
   "execution_count": 63,
   "metadata": {},
   "outputs": [
    {
     "data": {
      "text/plain": [
       "{'doc_id': 'D0000042797225',\n",
       " 'doc_title': '2021년 6월 신규공사장 안전기술지도 시행계획 변경(교육현장 추가)',\n",
       " 'doc_source': '서울특별시청',\n",
       " 'doc_published': 20210618,\n",
       " 'doc_class': {'class': '중앙행정기관 분류체계', 'code': '산업고용'},\n",
       " 'created': '20220422145553',\n",
       " 'paragraphs': [{'context': '제목 2021년 6월 신규공사장 안전기술지도 시행계획 변경\\n1. 2021년 본부장 신년 업무보고(2021.1.27.)와 관련하여 「신규공사장 안전기술지도」2021년 6월 시행계획을 다음과 같이 보고드립니다.\\n 가. 지도일정 : 2021년 6월 10일(목), 29일(화) 오전\\n 나. 지도강사 : 시설국장, 안전관리과장, 안전관리과 정진혁, 이태행\\n 다. 교육시간 : 오전 09:30 ~ 12:30(3.0H)\\n 라. 교육장소 : 도시기반시설본부 10층 회의실\\n 마. 교육대상 : 현장소장, 감리단장, 안전관리자 등\\n 바. 교육내용\\n 1) 건설공사장 안전관리 방향\\n 2) 건설기술진흥법, 산업안전보건법 상의 안전관리 내용과 구비 및 관리 서류(1.5H)\\n 3) 도시기반시설본부 건설안전 관련 각종 방침 및 지침',\n",
       "   'context_id': '398205'}]}"
      ]
     },
     "execution_count": 63,
     "metadata": {},
     "output_type": "execute_result"
    }
   ],
   "source": [
    "one_json_sample['data'][11]"
   ]
  },
  {
   "cell_type": "code",
   "execution_count": 221,
   "metadata": {},
   "outputs": [
    {
     "data": {
      "text/plain": [
       "'제목 2021년 6월 신규공사장 안전기술지도 시행계획 변경\\n1. 2021년 본부장 신년 업무보고(2021.1.27.)와 관련하여 「신규공사장 안전기술지도」2021년 6월 시행계획을 다음과 같이 보고드립니다.\\n 가. 지도일정 : 2021년 6월 10일(목), 29일(화) 오전\\n 나. 지도강사 : 시설국장, 안전관리과장, 안전관리과 정진혁, 이태행\\n 다. 교육시간 : 오전 09:30 ~ 12:30(3.0H)\\n 라. 교육장소 : 도시기반시설본부 10층 회의실\\n 마. 교육대상 : 현장소장, 감리단장, 안전관리자 등\\n 바. 교육내용\\n 1) 건설공사장 안전관리 방향\\n 2) 건설기술진흥법, 산업안전보건법 상의 안전관리 내용과 구비 및 관리 서류(1.5H)\\n 3) 도시기반시설본부 건설안전 관련 각종 방침 및 지침'"
      ]
     },
     "execution_count": 221,
     "metadata": {},
     "output_type": "execute_result"
    }
   ],
   "source": [
    "source_list[22]"
   ]
  },
  {
   "cell_type": "code",
   "execution_count": 220,
   "metadata": {},
   "outputs": [
    {
     "name": "stdout",
     "output_type": "stream",
     "text": [
      "1  2021년 본부장 신년 업무보고(2021 1 27 )와 관련하여  신규공사장 안전기술지도 2021년 6월 시행계획을 다음과 같이 보고드립니다.\n"
     ]
    }
   ],
   "source": [
    "preprocessing_sentences = formal_preprocessing_text(source_list[22])\n",
    "for preprocessing_sentence in preprocessing_sentences:\n",
    "    print(preprocessing_sentence)"
   ]
  },
  {
   "cell_type": "code",
   "execution_count": 222,
   "metadata": {},
   "outputs": [
    {
     "name": "stdout",
     "output_type": "stream",
     "text": [
      "['1  2021년 본부장 신년 업무보고(2021 1 27 )와 관련하여  신규공사장 안전기술지도 2021년 6월 시행계획을 다음과 같이 보고드립니다.']\n"
     ]
    }
   ],
   "source": [
    "print(preprocessing_sentences)"
   ]
  },
  {
   "cell_type": "code",
   "execution_count": 223,
   "metadata": {},
   "outputs": [
    {
     "data": {
      "text/plain": [
       "'AIHUB_행정 문서 대상 기계독해 데이터/Training\\\\원천데이터\\\\TS_tableqa.json'"
      ]
     },
     "execution_count": 223,
     "metadata": {},
     "output_type": "execute_result"
    }
   ],
   "source": [
    "train_file_name[3]"
   ]
  },
  {
   "cell_type": "code",
   "execution_count": 52,
   "metadata": {},
   "outputs": [],
   "source": [
    "with open(train_file_name[3], 'r', encoding='utf-8') as one_json_file:\n",
    "    one_json_sample = json.load(one_json_file) \n",
    "\n",
    "source_df = pd.DataFrame(one_json_sample['data'])\n",
    "source_dict = dict(source_df['paragraphs'].explode())\n",
    "source_json = pd.json_normalize(source_dict)\n",
    "source_list = list(source_json.filter(regex='context').values[0])"
   ]
  },
  {
   "cell_type": "code",
   "execution_count": 53,
   "metadata": {},
   "outputs": [
    {
     "name": "stdout",
     "output_type": "stream",
     "text": [
      "21\n"
     ]
    }
   ],
   "source": [
    "for i in range(len(one_json_sample['data'])):\n",
    "    if '여름철 고압가스 충전' in one_json_sample['data'][i]['paragraphs'][0]['context']:\n",
    "        print(i)"
   ]
  },
  {
   "cell_type": "code",
   "execution_count": null,
   "metadata": {},
   "outputs": [],
   "source": [
    "one_json_sample"
   ]
  },
  {
   "cell_type": "code",
   "execution_count": null,
   "metadata": {},
   "outputs": [],
   "source": [
    "one_json_sample['data'][21]"
   ]
  },
  {
   "cell_type": "code",
   "execution_count": 239,
   "metadata": {},
   "outputs": [
    {
     "data": {
      "text/plain": [
       "'제  목 2021년 여름철 고압가스 충전시설 안전점검(자체) 계획 알림<br>1. 은평구청 환경과-18398(2021.6.22.)호『2021년 여름철 고압가스 충전시설 안전점검 결과 제출 요청』과 관련입니다.<br>2. 2021년 여름철 가스시설 안전점검 계획에 따라 고압가스 관련시설에 대한 자체안전점검 실시 후 결과를 2021.7.28.(수)까지 제출하여 주시기 바랍니다. <table><tbody><tr><td>연번</td><td>시설명</td><td>가스종류</td><td>소재지</td><td>비고</td></tr><tr><td>1</td><td>은평소방서(현장대응단)</td><td>공기압축(호흡기용 공기충전기)</td><td>통일로962</td><td></td></tr><tr><td>2</td><td>은평소방서(수색119안전센터)</td><td>공기압축(호흡기용 공기충전기)</td><td>수색로320</td><td></td></tr></tbody></table>'"
      ]
     },
     "execution_count": 239,
     "metadata": {},
     "output_type": "execute_result"
    }
   ],
   "source": [
    "source_list[42]"
   ]
  },
  {
   "cell_type": "code",
   "execution_count": 238,
   "metadata": {},
   "outputs": [
    {
     "name": "stdout",
     "output_type": "stream",
     "text": [
      "1  은평구청 환경과-18398(2021 6 22 )호 2021년 여름철 고압가스 충전시설 안전점검 결과 제출 요청 과 관련입니다.\n",
      "2  2021년 여름철 가스시설 안전점검 계획에 따라 고압가스 관련시설에 대한 자체안전점검 실시 후 결과를 2021 7 28 (수)까지 제출하여 주시기 바랍니다.\n"
     ]
    }
   ],
   "source": [
    "preprocessing_sentences = preprocessing_text(source_list[42])\n",
    "for preprocessing_sentence in preprocessing_sentences:\n",
    "    print(preprocessing_sentence)"
   ]
  },
  {
   "cell_type": "code",
   "execution_count": 240,
   "metadata": {},
   "outputs": [
    {
     "name": "stdout",
     "output_type": "stream",
     "text": [
      "['1  은평구청 환경과-18398(2021 6 22 )호 2021년 여름철 고압가스 충전시설 안전점검 결과 제출 요청 과 관련입니다.', '2  2021년 여름철 가스시설 안전점검 계획에 따라 고압가스 관련시설에 대한 자체안전점검 실시 후 결과를 2021 7 28 (수)까지 제출하여 주시기 바랍니다.']\n"
     ]
    }
   ],
   "source": [
    "print(preprocessing_sentences)"
   ]
  },
  {
   "cell_type": "markdown",
   "metadata": {},
   "source": [
    "### AIHUB 기계독해"
   ]
  },
  {
   "cell_type": "code",
   "execution_count": 41,
   "metadata": {},
   "outputs": [],
   "source": [
    "path_list = ['AIHUB_기계독해'+ '/**/*.json']\n",
    "file_name = json_file_name_list(path_list)"
   ]
  },
  {
   "cell_type": "code",
   "execution_count": 44,
   "metadata": {},
   "outputs": [],
   "source": [
    "with open(file_name[0], 'r', encoding='utf-8') as one_json_file:\n",
    "    one_json_sample = json.load(one_json_file)\n",
    "\n",
    "source_df = pd.DataFrame(one_json_sample['data'])\n",
    "source_dict = dict(source_df['paragraphs'].explode())\n",
    "source_json = pd.json_normalize(source_dict)\n",
    "source_list = list(source_json.filter(regex='context').values[0])"
   ]
  },
  {
   "cell_type": "code",
   "execution_count": 46,
   "metadata": {},
   "outputs": [
    {
     "name": "stdout",
     "output_type": "stream",
     "text": [
      "55\n",
      "29187\n"
     ]
    }
   ],
   "source": [
    "for i in range(len(one_json_sample['data'])):\n",
    "    if '시청률 30%를 목전에 두고 있다.' in one_json_sample['data'][i]['paragraphs'][0]['context']:\n",
    "        print(i)"
   ]
  },
  {
   "cell_type": "code",
   "execution_count": 49,
   "metadata": {},
   "outputs": [
    {
     "data": {
      "text/plain": [
       "{'source': 8,\n",
       " 'paragraphs': [{'qas': [{'classtype': 'work_who',\n",
       "     'id': 'm6_426078-1',\n",
       "     'answers': [{'text': '27.7%', 'answer_start': 112}],\n",
       "     'question': \"지난 1일 방송된 '같이 살래요'의 전국 기준 시청률이 얼마야?\",\n",
       "     'clue': [{'clue_start': 125,\n",
       "       'clue_text': '이는 지난 방송분 21.8%에 비해 5.9% 포인트 상승한 수치다.'}]},\n",
       "    {'classtype': 'work_who',\n",
       "     'id': 'm6_426078-2',\n",
       "     'answers': [{'text': '27.7%', 'answer_start': 112}],\n",
       "     'question': \"지난 1일 방송된 '같이 살래요'의 전국 기준 시청률이 얼마인거야?\",\n",
       "     'clue': [{'clue_start': 125,\n",
       "       'clue_text': '이는 지난 방송분 21.8%에 비해 5.9% 포인트 상승한 수치다.'}]}],\n",
       "   'context': '▲ 사진= KBS2 같이 살래요 영상캡처 ‘같이 살래요’가 시청률 30%를 목전에 두고 있다. 2일 시청률조사회사 닐슨코리아에 따르면 지난 1일 방송된 KBS2 주말드라마 ‘같이 살래요’는 전국 기준 27.7%를 기록했다. 이는 지난 방송분 21.8%에 비해 5.9% 포인트 상승한 수치다. 이는 같이 살래요의 자체최고 시청률이기도 하다. 이날 방송에서는 박효섭(유동근 분)의 빚으로 가족들이 위기를 맞았다. 또한 박효섭에게 복수하기 위해 상가거리 재개발을 진행했던 이미연(장미희 분)은 그간의 추억에 빠지며, 사업을 지속할지 궁금증을 자아냈다. 한편 동시간대 방송된 MBC 주말드라마 ‘부잣집 아들’은 4.3%, 11.2%, 9.9%, 10.5%를 나타내며 같이 살래요와 큰 격차를 보였다. 압도적인 상승세를 보인 같이 살래요가 시청률 30%까지 돌파할 수 있을지 귀추가 주목된다. /ekqls_star@fnnews.com fn스타 우다빈 기자'}],\n",
       " 'title': '14770'}"
      ]
     },
     "execution_count": 49,
     "metadata": {},
     "output_type": "execute_result"
    }
   ],
   "source": [
    "one_json_sample['data'][55]"
   ]
  },
  {
   "cell_type": "code",
   "execution_count": 47,
   "metadata": {},
   "outputs": [
    {
     "data": {
      "text/plain": [
       "{'source': 8,\n",
       " 'paragraphs': [{'qas': [{'classtype': 'work_who',\n",
       "     'id': 'm6_426078-1',\n",
       "     'answers': [{'text': '27.7%', 'answer_start': 112}],\n",
       "     'question': \"지난 1일 방송된 '같이 살래요'의 전국 기준 시청률이 얼마야?\",\n",
       "     'clue': [{'clue_start': 125,\n",
       "       'clue_text': '이는 지난 방송분 21.8%에 비해 5.9% 포인트 상승한 수치다.'}]},\n",
       "    {'classtype': 'work_who',\n",
       "     'id': 'm6_426078-2',\n",
       "     'answers': [{'text': '27.7%', 'answer_start': 112}],\n",
       "     'question': \"지난 1일 방송된 '같이 살래요'의 전국 기준 시청률이 얼마인거야?\",\n",
       "     'clue': [{'clue_start': 125,\n",
       "       'clue_text': '이는 지난 방송분 21.8%에 비해 5.9% 포인트 상승한 수치다.'}]}],\n",
       "   'context': '▲ 사진= KBS2 같이 살래요 영상캡처 ‘같이 살래요’가 시청률 30%를 목전에 두고 있다. 2일 시청률조사회사 닐슨코리아에 따르면 지난 1일 방송된 KBS2 주말드라마 ‘같이 살래요’는 전국 기준 27.7%를 기록했다. 이는 지난 방송분 21.8%에 비해 5.9% 포인트 상승한 수치다. 이는 같이 살래요의 자체최고 시청률이기도 하다. 이날 방송에서는 박효섭(유동근 분)의 빚으로 가족들이 위기를 맞았다. 또한 박효섭에게 복수하기 위해 상가거리 재개발을 진행했던 이미연(장미희 분)은 그간의 추억에 빠지며, 사업을 지속할지 궁금증을 자아냈다. 한편 동시간대 방송된 MBC 주말드라마 ‘부잣집 아들’은 4.3%, 11.2%, 9.9%, 10.5%를 나타내며 같이 살래요와 큰 격차를 보였다. 압도적인 상승세를 보인 같이 살래요가 시청률 30%까지 돌파할 수 있을지 귀추가 주목된다. /ekqls_star@fnnews.com fn스타 우다빈 기자'}],\n",
       " 'title': '14770'}"
      ]
     },
     "execution_count": 47,
     "metadata": {},
     "output_type": "execute_result"
    }
   ],
   "source": [
    "one_json_sample['data'][55]"
   ]
  },
  {
   "cell_type": "code",
   "execution_count": 43,
   "metadata": {},
   "outputs": [
    {
     "data": {
      "text/plain": [
       "'AIHUB_기계독해\\\\ko_nia_clue0529_squad_all.json'"
      ]
     },
     "execution_count": 43,
     "metadata": {},
     "output_type": "execute_result"
    }
   ],
   "source": [
    "file_name[0]"
   ]
  },
  {
   "cell_type": "code",
   "execution_count": 193,
   "metadata": {},
   "outputs": [
    {
     "data": {
      "text/plain": [
       "'▲ 사진= KBS2 같이 살래요 영상캡처 ‘같이 살래요’가 시청률 30%를 목전에 두고 있다. 2일 시청률조사회사 닐슨코리아에 따르면 지난 1일 방송된 KBS2 주말드라마 ‘같이 살래요’는 전국 기준 27.7%를 기록했다. 이는 지난 방송분 21.8%에 비해 5.9% 포인트 상승한 수치다. 이는 같이 살래요의 자체최고 시청률이기도 하다. 이날 방송에서는 박효섭(유동근 분)의 빚으로 가족들이 위기를 맞았다. 또한 박효섭에게 복수하기 위해 상가거리 재개발을 진행했던 이미연(장미희 분)은 그간의 추억에 빠지며, 사업을 지속할지 궁금증을 자아냈다. 한편 동시간대 방송된 MBC 주말드라마 ‘부잣집 아들’은 4.3%, 11.2%, 9.9%, 10.5%를 나타내며 같이 살래요와 큰 격차를 보였다. 압도적인 상승세를 보인 같이 살래요가 시청률 30%까지 돌파할 수 있을지 귀추가 주목된다. /ekqls_star@fnnews.com fn스타 우다빈 기자'"
      ]
     },
     "execution_count": 193,
     "metadata": {},
     "output_type": "execute_result"
    }
   ],
   "source": [
    "source_list[55]"
   ]
  },
  {
   "cell_type": "code",
   "execution_count": 194,
   "metadata": {},
   "outputs": [
    {
     "data": {
      "text/plain": [
       "['2일 시청률조사회사 닐슨코리아에 따르면 지난 1일 방송된 KBS2 주말드라마  같이 살래요 는 전국 기준 27 7 를 기록했다.',\n",
       " '이는 지난 방송분 21 8 에 비해 5 9  포인트 상승한 수치다.',\n",
       " '이는 같이 살래요의 자체최고 시청률이기도 하다.',\n",
       " '이날 방송에서는 박효섭(유동근 분)의 빚으로 가족들이 위기를 맞았다.',\n",
       " '또한 박효섭에게 복수하기 위해 상가거리 재개발을 진행했던 이미연(장미희 분)은 그간의 추억에 빠지며  사업을 지속할지 궁금증을 자아냈다.',\n",
       " '한편 동시간대 방송된 MBC 주말드라마  부잣집 아들 은 4 3   11 2   9 9   10 5 를 나타내며 같이 살래요와 큰 격차를 보였다.',\n",
       " '압도적인 상승세를 보인 같이 살래요가 시청률 30 까지 돌파할 수 있을지 귀추가 주목된다.']"
      ]
     },
     "execution_count": 194,
     "metadata": {},
     "output_type": "execute_result"
    }
   ],
   "source": [
    "formal_preprocessing_text(source_list[55])"
   ]
  },
  {
   "cell_type": "markdown",
   "metadata": {},
   "source": [
    "### AIHUB 도서자료 요약"
   ]
  },
  {
   "cell_type": "code",
   "execution_count": 38,
   "metadata": {},
   "outputs": [],
   "source": [
    "path_list = ['AIHUB_도서자료 요약/Training/'+ '/**/*.json', \n",
    "             'AIHUB_도서자료 요약/Validation/'+ '/**/*.json']\n",
    "train_file_name, valid_file_name = train_valid_json_file_name_list(path_list)"
   ]
  },
  {
   "cell_type": "code",
   "execution_count": 40,
   "metadata": {},
   "outputs": [
    {
     "data": {
      "text/plain": [
       "'AIHUB_도서자료 요약/Training\\\\[원천]도서요약_train\\\\사회과학\\\\PCY_201612260512486961_34.json'"
      ]
     },
     "execution_count": 40,
     "metadata": {},
     "output_type": "execute_result"
    }
   ],
   "source": [
    "train_file_name[89900]"
   ]
  },
  {
   "cell_type": "code",
   "execution_count": 169,
   "metadata": {},
   "outputs": [],
   "source": [
    "with open(train_file_name[89900], 'r', encoding='utf-8') as one_json_file:\n",
    "    one_json_sample = json.load(one_json_file)\n",
    "\n",
    "sentence_list = []\n",
    "passage = one_json_sample[\"passage\"]  \n",
    "summary = one_json_sample[\"summary\"]\n",
    "\n",
    "passage_sentences = formal_preprocessing_text(passage)\n",
    "for sentence in passage_sentences:\n",
    "    sentence_list.append(sentence)   \n",
    "\n",
    "summary_sentences = formal_preprocessing_text(summary)\n",
    "for sentence in summary_sentences:\n",
    "    sentence_list.append(sentence) "
   ]
  },
  {
   "cell_type": "code",
   "execution_count": 171,
   "metadata": {},
   "outputs": [
    {
     "data": {
      "text/plain": [
       "'임상사회복지 분야에서 1979년에서 1999년 사이에 생산된 논문들을 연구한 양옥경(2000)에 따르면, 프로그램의 효과를 평가하는 연구는 그 출현율이 1.28%에 그쳤고, 이 중 실험/통제집단 설계를 사용한 경우는 22%에 지나지 않은 것으로 나타났다. 다시 말해서 이 분야에서 실험/통제집단 설계를 갖춘 평가연구의 출현율은 0.3%미만이라는 것을 알 수 있다(.0128*.22=0.0028). 이처럼 다양한 프로그램이 시행되는 사회복지분야에서도 증거의 양적, 질적 수준은 매우 낮은 수준이다. 따라서 사회복지 분야에서 증거기반 정책의 국내 적용가능성에 대해 평가한 공계순과 서인해(2005)는 외국의 평가연구결과를 사회환경적 차이를 감안한 후에 사용할 것을 제안한다. 양적 방법론이 많이 발달된 범죄학 분야는 사회복지분야에 비해 그 사정이 다소 낮겠으나, 그 열악한 환경에서 큰 차이는 없는 것으로 판단된다.'"
      ]
     },
     "execution_count": 171,
     "metadata": {},
     "output_type": "execute_result"
    }
   ],
   "source": [
    "passage"
   ]
  },
  {
   "cell_type": "code",
   "execution_count": 170,
   "metadata": {},
   "outputs": [
    {
     "data": {
      "text/plain": [
       "['임상사회복지 분야에서 1979년에서 1999년 사이에 생산된 논문들을 연구한 양옥경(2000)에 따르면  프로그램의 효과를 평가하는 연구는 그 출현율이 1 28 에 그쳤고  이 중 실험 통제집단 설계를 사용한 경우는 22 에 지나지 않은 것으로 나타났다.',\n",
       " '다시 말해서 이 분야에서 실험 통제집단 설계를 갖춘 평가연구의 출현율은 0 3 미만이라는 것을 알 수 있다( 0128  22 0 0028)  이처럼 다양한 프로그램이 시행되는 사회복지분야에서도 증거의 양적  질적 수준은 매우 낮은 수준이다.',\n",
       " '따라서 사회복지 분야에서 증거기반 정책의 국내 적용가능성에 대해 평가한 공계순과 서인해(2005)는 외국의 평가연구결과를 사회환경적 차이를 감안한 후에 사용할 것을 제안한다.',\n",
       " '양적 방법론이 많이 발달된 범죄학 분야는 사회복지분야에 비해 그 사정이 다소 낮겠으나  그 열악한 환경에서 큰 차이는 없는 것으로 판단된다.',\n",
       " '한국 내의 사회복지 분야에서 증거기반 정책의 사용은 해외의 연구 결과를 사회환경적 차이를 고려한 후에 사용해야 한다.']"
      ]
     },
     "execution_count": 170,
     "metadata": {},
     "output_type": "execute_result"
    }
   ],
   "source": [
    "sentence_list"
   ]
  },
  {
   "cell_type": "code",
   "execution_count": null,
   "metadata": {},
   "outputs": [],
   "source": [
    "for strange_source in strange_source_list:\n",
    "    print(strange_source, end=\"\\n\\n\")"
   ]
  },
  {
   "cell_type": "markdown",
   "metadata": {},
   "source": [
    "### AIHUB 대규모 구매도서 기반 한국어 말뭉치 데이터"
   ]
  },
  {
   "cell_type": "code",
   "execution_count": 36,
   "metadata": {},
   "outputs": [],
   "source": [
    "path_list = ['AIHUB_대규모 구매도서 기반 한국어 말뭉치 데이터/sample/라벨링데이터/000/'+ '/**/*.json']\n",
    "file_name = json_file_name_list(path_list)\n",
    "for i in file_name:\n",
    "    if 'INFO' in i:\n",
    "        file_name.remove(i)"
   ]
  },
  {
   "cell_type": "code",
   "execution_count": 59,
   "metadata": {},
   "outputs": [],
   "source": [
    "with open(file_name[0], 'r', encoding='utf-8') as one_json_file:\n",
    "    one_json_sample = json.load(one_json_file)\n",
    "    \n",
    "source_df = pd.DataFrame(one_json_sample['paragraphs'])\n",
    "source_dict = dict(source_df['sentences'].explode())\n",
    "source_json = pd.json_normalize(source_dict)  \n",
    "\n",
    "source_list = []\n",
    "for source_index in source_json:\n",
    "    for source_nested_list in source_json[source_index]:\n",
    "\n",
    "        try:\n",
    "            for source_single_list in source_nested_list:\n",
    "                try:\n",
    "                    for key, value in source_single_list.items():\n",
    "                        if key == 'text':\n",
    "                            source_list.append(value)\n",
    "                except:\n",
    "                    pass\n",
    "        except:\n",
    "            pass  "
   ]
  },
  {
   "cell_type": "code",
   "execution_count": 37,
   "metadata": {},
   "outputs": [
    {
     "data": {
      "text/plain": [
       "'AIHUB_대규모 구매도서 기반 한국어 말뭉치 데이터/sample/라벨링데이터/000\\\\BOOK_CORPUS_000_TEXT_0001.json'"
      ]
     },
     "execution_count": 37,
     "metadata": {},
     "output_type": "execute_result"
    }
   ],
   "source": [
    "file_name[0]"
   ]
  },
  {
   "cell_type": "code",
   "execution_count": 90,
   "metadata": {},
   "outputs": [
    {
     "data": {
      "text/plain": [
       "'새로 조, 경 단위의 부자가 된 사람들은 유기농 “공정거래” 인간 노동으로 만든 상품과 서비스에 엄청난 프리미엄을 지불할 능력이 될 것이다.'"
      ]
     },
     "execution_count": 90,
     "metadata": {},
     "output_type": "execute_result"
    }
   ],
   "source": [
    "source_list[300]"
   ]
  },
  {
   "cell_type": "code",
   "execution_count": null,
   "metadata": {},
   "outputs": [],
   "source": [
    "'새로 조, 경 단위의 부자가 된 사람들은 유기농 “공정거래” 인간 노동으로 만든 상품과 서비스에 엄청난 프리미엄을 지불할 능력이 될 것이다.'"
   ]
  },
  {
   "cell_type": "code",
   "execution_count": 92,
   "metadata": {},
   "outputs": [
    {
     "name": "stdout",
     "output_type": "stream",
     "text": [
      "'새로 조, 경 단위의 부자가 된 사람들은 유기농 “공정거래” 인간 노동으로 만든 상품과 서비스에 엄청난 프리미엄을 지불할 능력이 될 것이다.'\n"
     ]
    }
   ],
   "source": [
    "strange_source = '새로 조, 경 단위의 부자가 된 사람들은 유기농 “공정거래” 인간 노동으로 만든 상품과 서비스에 엄청난 프리미엄을 지불할 능력이 될 것이다.'\n",
    "pprint(strange_source)"
   ]
  },
  {
   "cell_type": "code",
   "execution_count": 93,
   "metadata": {},
   "outputs": [
    {
     "name": "stdout",
     "output_type": "stream",
     "text": [
      "새로 조  경 단위의 부자가 된 사람들은 유기농  공정거래  인간 노동으로 만든 상품과 서비스에 엄청난 프리미엄을 지불할 능력이 될 것이다.\n"
     ]
    }
   ],
   "source": [
    "preprocessing_sentences = formal_preprocessing_text(source_list[300])\n",
    "for preprocessing_sentence in preprocessing_sentences:\n",
    "    print(preprocessing_sentence)"
   ]
  },
  {
   "cell_type": "code",
   "execution_count": 94,
   "metadata": {},
   "outputs": [
    {
     "name": "stdout",
     "output_type": "stream",
     "text": [
      "['새로 조  경 단위의 부자가 된 사람들은 유기농  공정거래  인간 노동으로 만든 상품과 서비스에 엄청난 프리미엄을 지불할 능력이 될 것이다.']\n"
     ]
    }
   ],
   "source": [
    "print(preprocessing_sentences)"
   ]
  },
  {
   "cell_type": "markdown",
   "metadata": {},
   "source": [
    "### AIHUB 도서자료 기계독해"
   ]
  },
  {
   "cell_type": "code",
   "execution_count": 28,
   "metadata": {},
   "outputs": [],
   "source": [
    "path_list = ['AIHUB_도서자료 기계독해/'+ '/**/*.json']\n",
    "file_name = json_file_name_list(path_list)"
   ]
  },
  {
   "cell_type": "code",
   "execution_count": 29,
   "metadata": {},
   "outputs": [
    {
     "data": {
      "text/plain": [
       "['AIHUB_도서자료 기계독해\\\\Training\\\\도서_220419_add\\\\도서_220419_add.json',\n",
       " 'AIHUB_도서자료 기계독해\\\\Validation\\\\도서.json']"
      ]
     },
     "execution_count": 29,
     "metadata": {},
     "output_type": "execute_result"
    }
   ],
   "source": [
    "file_name"
   ]
  },
  {
   "cell_type": "code",
   "execution_count": 30,
   "metadata": {},
   "outputs": [
    {
     "data": {
      "text/plain": [
       "'AIHUB_도서자료 기계독해\\\\Training\\\\도서_220419_add\\\\도서_220419_add.json'"
      ]
     },
     "execution_count": 30,
     "metadata": {},
     "output_type": "execute_result"
    }
   ],
   "source": [
    "file_name[0]"
   ]
  },
  {
   "cell_type": "code",
   "execution_count": 32,
   "metadata": {},
   "outputs": [
    {
     "name": "stdout",
     "output_type": "stream",
     "text": [
      "2594\n"
     ]
    }
   ],
   "source": [
    "for i in range(len(one_json_sample['data'])):\n",
    "    if '흔하지는 않지만' in one_json_sample['data'][i]['paragraphs'][0]['context']:\n",
    "        print(i)"
   ]
  },
  {
   "cell_type": "code",
   "execution_count": 33,
   "metadata": {},
   "outputs": [
    {
     "data": {
      "text/plain": [
       "'5) 흔하지는 않지만, 어떤 약물이상반응은 시간에 따라 빈도나 중증도가 증가할 수 있으며, 어떤 심각한 약물이상반응은 6개월 이상의 투약 이후에만 발생할 수도 있다. 그러므로 일부 환자들은 12개월 동안 약물이 투여되어야 한다. 투여기간과 약물이상반응의 상관성에 대해 충분한 정보가 없을 경우, 1년간 추적할 특정 환자수를 선정하는 것은 대부분, 약물이상반응의 빈도 수준을 발견할 확률과 실제적인 고려사항을 근거로 결정된다. 최소 1년간 약물이 투여된 100명의 환자에서 얻은 자료는 안전성 자료의 일부로서 포함시키는데 적합하다고 생각된다. 이러한 자료는 임상에서 사용하고자 하는 용량으로 적어도 1년간 투여되도록 적절히 설계된 전향적 연구로부터 얻어져야 한다. 1년의 투여기간 동안 어떠한 심각한 약물이상반응이 관찰되지 않으면, 이 환자수는 1년간의 실제 누적 발생률이 3% 이하라는 것을 설명하는데 타당하다.'"
      ]
     },
     "execution_count": 33,
     "metadata": {},
     "output_type": "execute_result"
    }
   ],
   "source": [
    "one_json_sample['data'][2594]['paragraphs'][0]['context']"
   ]
  },
  {
   "cell_type": "code",
   "execution_count": 35,
   "metadata": {},
   "outputs": [
    {
     "data": {
      "text/plain": [
       "{'time': '20201029154611',\n",
       " 'title': '장기투여 의약품의 임상적 안전성 평가 가이드라인',\n",
       " 'agency': '식품의약품안전처',\n",
       " 'year': '',\n",
       " 'content_id': 'PCY_201501080919212741',\n",
       " 'KDC': '00',\n",
       " 'paragraphs': [{'context': '5) 흔하지는 않지만, 어떤 약물이상반응은 시간에 따라 빈도나 중증도가 증가할 수 있으며, 어떤 심각한 약물이상반응은 6개월 이상의 투약 이후에만 발생할 수도 있다. 그러므로 일부 환자들은 12개월 동안 약물이 투여되어야 한다. 투여기간과 약물이상반응의 상관성에 대해 충분한 정보가 없을 경우, 1년간 추적할 특정 환자수를 선정하는 것은 대부분, 약물이상반응의 빈도 수준을 발견할 확률과 실제적인 고려사항을 근거로 결정된다. 최소 1년간 약물이 투여된 100명의 환자에서 얻은 자료는 안전성 자료의 일부로서 포함시키는데 적합하다고 생각된다. 이러한 자료는 임상에서 사용하고자 하는 용량으로 적어도 1년간 투여되도록 적절히 설계된 전향적 연구로부터 얻어져야 한다. 1년의 투여기간 동안 어떠한 심각한 약물이상반응이 관찰되지 않으면, 이 환자수는 1년간의 실제 누적 발생률이 3% 이하라는 것을 설명하는데 타당하다.',\n",
       "   'qas': [{'question': '시간에 따라 빈도나 중증도가 증가하는 것은 뭐야',\n",
       "     'id': 283269,\n",
       "     'is_impossible': False,\n",
       "     'answers': [{'text': '약물이상반응', 'answer_start': 16}]},\n",
       "    {'question': '빈도나 중증도가 시간에 따라 상승하는 것은 뭐니',\n",
       "     'id': 283270,\n",
       "     'is_impossible': False,\n",
       "     'answers': [{'text': '약물이상반응', 'answer_start': 16}]},\n",
       "    {'question': '시간이 지날수록 빈도가 감소하는 것이 뭐지',\n",
       "     'id': 283271,\n",
       "     'is_impossible': True,\n",
       "     'answers': [{'text': '약물이상반응', 'answer_start': 16}]},\n",
       "    {'question': '무엇이 장소에 따라 빈도나 중증도가 증가할까',\n",
       "     'id': 283272,\n",
       "     'is_impossible': True,\n",
       "     'answers': [{'text': '약물이상반응', 'answer_start': 16}]}]}]}"
      ]
     },
     "execution_count": 35,
     "metadata": {},
     "output_type": "execute_result"
    }
   ],
   "source": [
    "one_json_sample['data'][2594]"
   ]
  },
  {
   "cell_type": "code",
   "execution_count": 31,
   "metadata": {},
   "outputs": [],
   "source": [
    "with open(file_name[0], 'r', encoding='utf-8') as one_json_file:\n",
    "    one_json_sample = json.load(one_json_file)"
   ]
  },
  {
   "cell_type": "code",
   "execution_count": 34,
   "metadata": {},
   "outputs": [],
   "source": [
    "with open(file_name[0], 'r', encoding='utf-8') as one_json_file:\n",
    "    one_json_sample = json.load(one_json_file)\n",
    "\n",
    "source_df = pd.DataFrame(one_json_sample['data'])\n",
    "source_dict = dict(source_df['paragraphs'].explode())\n",
    "source_json = pd.json_normalize(source_dict)\n",
    "source_list = list(source_json.filter(regex='context').values[0])\n",
    "\n",
    "source_filter_02 = source_json.filter(regex='[0123456789]').values[0]\n",
    "source_df_02 = pd.DataFrame(source_filter_02)\n",
    "\n",
    "for source_df_02_value in source_df_02.values:\n",
    "    for value in source_df_02_value[0]:\n",
    "        try:\n",
    "            source_list.append(value['context'])\n",
    "        except:\n",
    "            pass"
   ]
  },
  {
   "cell_type": "code",
   "execution_count": 51,
   "metadata": {},
   "outputs": [
    {
     "data": {
      "text/plain": [
       "'5) 흔하지는 않지만, 어떤 약물이상반응은 시간에 따라 빈도나 중증도가 증가할 수 있으며, 어떤 심각한 약물이상반응은 6개월 이상의 투약 이후에만 발생할 수도 있다. 그러므로 일부 환자들은 12개월 동안 약물이 투여되어야 한다. 투여기간과 약물이상반응의 상관성에 대해 충분한 정보가 없을 경우, 1년간 추적할 특정 환자수를 선정하는 것은 대부분, 약물이상반응의 빈도 수준을 발견할 확률과 실제적인 고려사항을 근거로 결정된다. 최소 1년간 약물이 투여된 100명의 환자에서 얻은 자료는 안전성 자료의 일부로서 포함시키는데 적합하다고 생각된다. 이러한 자료는 임상에서 사용하고자 하는 용량으로 적어도 1년간 투여되도록 적절히 설계된 전향적 연구로부터 얻어져야 한다. 1년의 투여기간 동안 어떠한 심각한 약물이상반응이 관찰되지 않으면, 이 환자수는 1년간의 실제 누적 발생률이 3% 이하라는 것을 설명하는데 타당하다.'"
      ]
     },
     "execution_count": 51,
     "metadata": {},
     "output_type": "execute_result"
    }
   ],
   "source": [
    "source_list[50]"
   ]
  },
  {
   "cell_type": "code",
   "execution_count": null,
   "metadata": {},
   "outputs": [],
   "source": [
    "'5) 흔하지는 않지만, 어떤 약물이상반응은 시간에 따라 빈도나 중증도가 증가할 수 있으며, 어떤 심각한 약물이상반응은 6개월 이상의 투약 이후에만 발생할 수도 있다. 그러므로 일부 환자들은 12개월 동안 약물이 투여되어야 한다. 투여기간과 약물이상반응의 상관성에 대해 충분한 정보가 없을 경우, 1년간 추적할 특정 환자수를 선정하는 것은 대부분, 약물이상반응의 빈도 수준을 발견할 확률과 실제적인 고려사항을 근거로 결정된다. 최소 1년간 약물이 투여된 100명의 환자에서 얻은 자료는 안전성 자료의 일부로서 포함시키는데 적합하다고 생각된다. 이러한 자료는 임상에서 사용하고자 하는 용량으로 적어도 1년간 투여되도록 적절히 설계된 전향적 연구로부터 얻어져야 한다. 1년의 투여기간 동안 어떠한 심각한 약물이상반응이 관찰되지 않으면, 이 환자수는 1년간의 실제 누적 발생률이 3% 이하라는 것을 설명하는데 타당하다.'"
   ]
  },
  {
   "cell_type": "code",
   "execution_count": 52,
   "metadata": {},
   "outputs": [
    {
     "name": "stdout",
     "output_type": "stream",
     "text": [
      "('5) 흔하지는 않지만, 어떤 약물이상반응은 시간에 따라 빈도나 중증도가 증가할 수 있으며, 어떤 심각한 약물이상반응은 6개월 이상의 투약 '\n",
      " '이후에만 발생할 수도 있다. 그러므로 일부 환자들은 12개월 동안 약물이 투여되어야 한다. 투여기간과 약물이상반응의 상관성에 대해 충분한 '\n",
      " '정보가 없을 경우, 1년간 추적할 특정 환자수를 선정하는 것은 대부분, 약물이상반응의 빈도 수준을 발견할 확률과 실제적인 고려사항을 '\n",
      " '근거로 결정된다. 최소 1년간 약물이 투여된 100명의 환자에서 얻은 자료는 안전성 자료의 일부로서 포함시키는데 적합하다고 생각된다. '\n",
      " '이러한 자료는 임상에서 사용하고자 하는 용량으로 적어도 1년간 투여되도록 적절히 설계된 전향적 연구로부터 얻어져야 한다. 1년의 투여기간 '\n",
      " '동안 어떠한 심각한 약물이상반응이 관찰되지 않으면, 이 환자수는 1년간의 실제 누적 발생률이 3% 이하라는 것을 설명하는데 타당하다.')\n"
     ]
    }
   ],
   "source": [
    "strange_source = '5) 흔하지는 않지만, 어떤 약물이상반응은 시간에 따라 빈도나 중증도가 증가할 수 있으며, 어떤 심각한 약물이상반응은 6개월 이상의 투약 이후에만 발생할 수도 있다. 그러므로 일부 환자들은 12개월 동안 약물이 투여되어야 한다. 투여기간과 약물이상반응의 상관성에 대해 충분한 정보가 없을 경우, 1년간 추적할 특정 환자수를 선정하는 것은 대부분, 약물이상반응의 빈도 수준을 발견할 확률과 실제적인 고려사항을 근거로 결정된다. 최소 1년간 약물이 투여된 100명의 환자에서 얻은 자료는 안전성 자료의 일부로서 포함시키는데 적합하다고 생각된다. 이러한 자료는 임상에서 사용하고자 하는 용량으로 적어도 1년간 투여되도록 적절히 설계된 전향적 연구로부터 얻어져야 한다. 1년의 투여기간 동안 어떠한 심각한 약물이상반응이 관찰되지 않으면, 이 환자수는 1년간의 실제 누적 발생률이 3% 이하라는 것을 설명하는데 타당하다.'\n",
    "pprint(strange_source)"
   ]
  },
  {
   "cell_type": "code",
   "execution_count": 53,
   "metadata": {},
   "outputs": [
    {
     "name": "stdout",
     "output_type": "stream",
     "text": [
      "5) 흔하지는 않지만  어떤 약물이상반응은 시간에 따라 빈도나 중증도가 증가할 수 있으며  어떤 심각한 약물이상반응은 6개월 이상의 투약 이후에만 발생할 수도 있다.\n",
      "그러므로 일부 환자들은 12개월 동안 약물이 투여되어야 한다.\n",
      "투여기간과 약물이상반응의 상관성에 대해 충분한 정보가 없을 경우  1년간 추적할 특정 환자수를 선정하는 것은 대부분  약물이상반응의 빈도 수준을 발견할 확률과 실제적인 고려사항을 근거로 결정된다.\n",
      "최소 1년간 약물이 투여된 100명의 환자에서 얻은 자료는 안전성 자료의 일부로서 포함시키는데 적합하다고 생각된다.\n",
      "이러한 자료는 임상에서 사용하고자 하는 용량으로 적어도 1년간 투여되도록 적절히 설계된 전향적 연구로부터 얻어져야 한다  1년의 투여기간 동안 어떠한 심각한 약물이상반응이 관찰되지 않으면  이 환자수는 1년간의 실제 누적 발생률이 3  이하라는 것을 설명하는데 타당하다.\n"
     ]
    }
   ],
   "source": [
    "preprocessing_sentences = formal_preprocessing_text(strange_source)\n",
    "for preprocessing_sentence in preprocessing_sentences:\n",
    "    print(preprocessing_sentence)"
   ]
  },
  {
   "cell_type": "code",
   "execution_count": 54,
   "metadata": {},
   "outputs": [
    {
     "name": "stdout",
     "output_type": "stream",
     "text": [
      "['5) 흔하지는 않지만  어떤 약물이상반응은 시간에 따라 빈도나 중증도가 증가할 수 있으며  어떤 심각한 약물이상반응은 6개월 이상의 투약 이후에만 발생할 수도 있다.', '그러므로 일부 환자들은 12개월 동안 약물이 투여되어야 한다.', '투여기간과 약물이상반응의 상관성에 대해 충분한 정보가 없을 경우  1년간 추적할 특정 환자수를 선정하는 것은 대부분  약물이상반응의 빈도 수준을 발견할 확률과 실제적인 고려사항을 근거로 결정된다.', '최소 1년간 약물이 투여된 100명의 환자에서 얻은 자료는 안전성 자료의 일부로서 포함시키는데 적합하다고 생각된다.', '이러한 자료는 임상에서 사용하고자 하는 용량으로 적어도 1년간 투여되도록 적절히 설계된 전향적 연구로부터 얻어져야 한다  1년의 투여기간 동안 어떠한 심각한 약물이상반응이 관찰되지 않으면  이 환자수는 1년간의 실제 누적 발생률이 3  이하라는 것을 설명하는데 타당하다.']\n"
     ]
    }
   ],
   "source": [
    "print(preprocessing_sentences)"
   ]
  },
  {
   "cell_type": "markdown",
   "metadata": {},
   "source": [
    "### AIHUB 법률 규정 (판결서 약관 등) 텍스트 분석 데이터"
   ]
  },
  {
   "cell_type": "code",
   "execution_count": 25,
   "metadata": {},
   "outputs": [],
   "source": [
    "path_list = ['AIHUB_법률 규정 (판결서 약관 등) 텍스트 분석 데이터/Training/' + '/**/*.json',\n",
    "             'AIHUB_법률 규정 (판결서 약관 등) 텍스트 분석 데이터/Validation/' + '/**/*.json']\n",
    "train_file_name, valid_file_name = train_valid_json_file_name_list(path_list)"
   ]
  },
  {
   "cell_type": "code",
   "execution_count": 9,
   "metadata": {},
   "outputs": [],
   "source": [
    "with open(train_file_name[7000], 'r', encoding='utf-8') as one_json_file:\n",
    "    one_json_sample = json.load(one_json_file)"
   ]
  },
  {
   "cell_type": "code",
   "execution_count": 20,
   "metadata": {},
   "outputs": [
    {
     "data": {
      "text/plain": [
       "'AIHUB_법률 규정 (판결서 약관 등) 텍스트 분석 데이터/Training\\\\라벨링데이터\\\\1.Training\\\\라벨링데이터\\\\TL_2.약관\\\\02.불리\\\\101_입소,입주,입점계약_가공.json'"
      ]
     },
     "execution_count": 20,
     "metadata": {},
     "output_type": "execute_result"
    }
   ],
   "source": [
    "train_file_name[7000]"
   ]
  },
  {
   "cell_type": "code",
   "execution_count": 22,
   "metadata": {},
   "outputs": [],
   "source": [
    "file_type_01 = train_file_name[3]\n",
    "file_type_02 = train_file_name[1021]\n",
    "file_type_03 = train_file_name[7000]"
   ]
  },
  {
   "cell_type": "code",
   "execution_count": 23,
   "metadata": {},
   "outputs": [],
   "source": [
    "with open(file_type_01, 'r', encoding='utf-8') as one_json_file:\n",
    "    one_json_sample = json.load(one_json_file)\n",
    "\n",
    "    source_df = pd.DataFrame(one_json_sample)\n",
    "    source_list = source_df.loc['disposalcontent']['disposal'] + \\\n",
    "        source_df.loc['rqestObjet']['mentionedItems'] + \\\n",
    "        source_df.loc['acusrAssrs']['assrs'] + \\\n",
    "        source_df.loc['dedatAssrs']['assrs'] + \\\n",
    "        source_df.loc['bsisFacts']['facts'] + \\\n",
    "        source_df.loc['courtDcss']['dcss'] + \\\n",
    "        source_df.loc['cnclsns']['close']\n",
    "        \n",
    "strange_source_list = search_strange_text(source_list)        "
   ]
  },
  {
   "cell_type": "code",
   "execution_count": 26,
   "metadata": {},
   "outputs": [
    {
     "data": {
      "text/plain": [
       "'AIHUB_법률 규정 (판결서 약관 등) 텍스트 분석 데이터/Training\\\\라벨링데이터\\\\1.Training\\\\라벨링데이터\\\\TL_1.판결문\\\\01.민사\\\\2018\\\\2016나686.json'"
      ]
     },
     "execution_count": 26,
     "metadata": {},
     "output_type": "execute_result"
    }
   ],
   "source": [
    "train_file_name[3]"
   ]
  },
  {
   "cell_type": "code",
   "execution_count": 24,
   "metadata": {},
   "outputs": [
    {
     "name": "stdout",
     "output_type": "stream",
     "text": [
      "피고들은 공동하여 원고에게 14,861,556,007원 및 그 중 100,000,000원에 대하여는 2011.5. 7.부터, 10,000,000,000원에 대하여는 2011. 11. 8.부터,15. 10. 23.자 청구취지 및 청구원인신청서 부본 송달 다음 날부터 각 제1심 판결 선고일까지 연6%, 그 다음 날부터 다 갚는 날까지 연 15%의 각 비율로 계산한 돈을 지급한다. \n",
      "\n"
     ]
    }
   ],
   "source": [
    "for strange_source in strange_source_list:\n",
    "    print(strange_source, end=\"\\n\\n\")"
   ]
  },
  {
   "cell_type": "code",
   "execution_count": 25,
   "metadata": {},
   "outputs": [
    {
     "data": {
      "text/plain": [
       "'피고들은 공동하여 원고에게 14,861,556,007원 및 그 중 100,000,000원에 대하여는 2011.5. 7.부터, 10,000,000,000원에 대하여는 2011. 11. 8.부터,15. 10. 23.자 청구취지 및 청구원인신청서 부본 송달 다음 날부터 각 제1심 판결 선고일까지 연6%, 그 다음 날부터 다 갚는 날까지 연 15%의 각 비율로 계산한 돈을 지급한다. '"
      ]
     },
     "execution_count": 25,
     "metadata": {},
     "output_type": "execute_result"
    }
   ],
   "source": [
    "\"피고들은 공동하여 원고에게 14,861,556,007원 및 그 중 100,000,000원에 대하여는 2011.5. 7.부터, 10,000,000,000원에 대하여는 2011. 11. 8.부터,15. 10. 23.자 청구취지 및 청구원인신청서 부본 송달 다음 날부터 각 제1심 판결 선고일까지 연6%, 그 다음 날부터 다 갚는 날까지 연 15%의 각 비율로 계산한 돈을 지급한다. \""
   ]
  },
  {
   "cell_type": "code",
   "execution_count": 26,
   "metadata": {},
   "outputs": [
    {
     "name": "stdout",
     "output_type": "stream",
     "text": [
      "('피고들은 공동하여 원고에게 14,861,556,007원 및 그 중 100,000,000원에 대하여는 2011.5. 7.부터, '\n",
      " '10,000,000,000원에 대하여는 2011. 11. 8.부터,15. 10. 23.자 청구취지 및 청구원인신청서 부본 송달 다음 '\n",
      " '날부터 각 제1심 판결 선고일까지 연6%, 그 다음 날부터 다 갚는 날까지 연 15%의 각 비율로 계산한 돈을 지급한다. ')\n"
     ]
    }
   ],
   "source": [
    "strange_source = \"피고들은 공동하여 원고에게 14,861,556,007원 및 그 중 100,000,000원에 대하여는 2011.5. 7.부터, 10,000,000,000원에 대하여는 2011. 11. 8.부터,15. 10. 23.자 청구취지 및 청구원인신청서 부본 송달 다음 날부터 각 제1심 판결 선고일까지 연6%, 그 다음 날부터 다 갚는 날까지 연 15%의 각 비율로 계산한 돈을 지급한다. \"\n",
    "pprint(strange_source)"
   ]
  },
  {
   "cell_type": "code",
   "execution_count": 27,
   "metadata": {},
   "outputs": [
    {
     "name": "stdout",
     "output_type": "stream",
     "text": [
      "피고들은 공동하여 원고에게 14 861 556 007원 및 그 중 100 000 000원에 대하여는 2011 5  7 부터  10 000 000 000원에 대하여는 2011  11  8 부터 15  10  23 자 청구취지 및 청구원인신청서 부본 송달 다음 날부터 각 제1심 판결 선고일까지 연6   그 다음 날부터 다 갚는 날까지 연 15 의 각 비율로 계산한 돈을 지급한다.\n"
     ]
    }
   ],
   "source": [
    "preprocessing_sentences = formal_preprocessing_text(strange_source)\n",
    "for preprocessing_sentence in preprocessing_sentences:\n",
    "    print(preprocessing_sentence)"
   ]
  },
  {
   "cell_type": "code",
   "execution_count": 28,
   "metadata": {},
   "outputs": [
    {
     "name": "stdout",
     "output_type": "stream",
     "text": [
      "['피고들은 공동하여 원고에게 14 861 556 007원 및 그 중 100 000 000원에 대하여는 2011 5  7 부터  10 000 000 000원에 대하여는 2011  11  8 부터 15  10  23 자 청구취지 및 청구원인신청서 부본 송달 다음 날부터 각 제1심 판결 선고일까지 연6   그 다음 날부터 다 갚는 날까지 연 15 의 각 비율로 계산한 돈을 지급한다.']\n"
     ]
    }
   ],
   "source": [
    "print(preprocessing_sentences)"
   ]
  },
  {
   "cell_type": "code",
   "execution_count": 42,
   "metadata": {},
   "outputs": [],
   "source": [
    "with open(train_file_name[1141], 'r', encoding='utf-8') as one_json_file:\n",
    "    one_json_sample = json.load(one_json_file)\n",
    "\n",
    "source_df = pd.DataFrame.from_dict(one_json_sample, orient='index')\n",
    "source_df = source_df.transpose()\n",
    "source_df = pd.DataFrame(one_json_sample)\n",
    "source_list = [source_df['clauseArticle'][0][0], source_df['comProvision'][0][0]]\n",
    "        \n",
    "strange_source_list = search_strange_text(source_list)        "
   ]
  },
  {
   "cell_type": "code",
   "execution_count": 43,
   "metadata": {},
   "outputs": [
    {
     "data": {
      "text/plain": [
       "'AIHUB_법률 규정 (판결서 약관 등) 텍스트 분석 데이터/Training\\\\라벨링데이터\\\\1.Training\\\\라벨링데이터\\\\TL_2.약관\\\\01.유리\\\\037_산후조리원_가공.json'"
      ]
     },
     "execution_count": 43,
     "metadata": {},
     "output_type": "execute_result"
    }
   ],
   "source": [
    "train_file_name[1141]"
   ]
  },
  {
   "cell_type": "code",
   "execution_count": 44,
   "metadata": {},
   "outputs": [
    {
     "data": {
      "text/plain": [
       "['제6조 (이용계약의 변경 및 조정)\\n① 이용기간은 13박 14일(2주)를 기본으로 하되, 계약을 체결하는 때에 사업자와 이용자가 상호 협의하여 기간을 조정할 수 있습니다. 다만, 사업자는 고객이 13박 14일보다 단기의 이용을 요청한다는 이유로 계약의 체결을 거절할 수 없습니다.',\n",
       " '제6조 (이용계약의 변경 및 조정) \\n① 이용기간은 13박 14일(2주)를 기본으로 하되, 계약을 체결하는 때에 사업자와 이용자가 상호 협의하여 기간을 조정할 수 있습니다. 다만, 사업자는 고객이 13박 14일보다 단기의 이용을 요청한다는 이유로 계약의 체결을 거절할 수 없습니다.']"
      ]
     },
     "execution_count": 44,
     "metadata": {},
     "output_type": "execute_result"
    }
   ],
   "source": [
    "source_list"
   ]
  },
  {
   "cell_type": "code",
   "execution_count": 30,
   "metadata": {},
   "outputs": [],
   "source": [
    "for strange_source in strange_source_list:\n",
    "    print(strange_source, end=\"\\n\\n\")"
   ]
  },
  {
   "cell_type": "code",
   "execution_count": null,
   "metadata": {},
   "outputs": [],
   "source": [
    "\"제6조 (이용계약의 변경 및 조정)\\n① 이용기간은 13박 14일(2주)를 기본으로 하되, 계약을 체결하는 때에 사업자와 이용자가 상호 협의하여 기간을 조정할 수 있습니다. 다만, 사업자는 고객이 13박 14일보다 단기의 이용을 요청한다는 이유로 계약의 체결을 거절할 수 없습니다.\"\n"
   ]
  },
  {
   "cell_type": "code",
   "execution_count": 28,
   "metadata": {},
   "outputs": [
    {
     "name": "stdout",
     "output_type": "stream",
     "text": [
      "('제6조 (이용계약의 변경 및 조정)\\n'\n",
      " '① 이용기간은 13박 14일(2주)를 기본으로 하되, 계약을 체결하는 때에 사업자와 이용자가 상호 협의하여 기간을 조정할 수 있습니다. '\n",
      " '다만, 사업자는 고객이 13박 14일보다 단기의 이용을 요청한다는 이유로 계약의 체결을 거절할 수 없습니다.')\n"
     ]
    }
   ],
   "source": [
    "strange_source = \"제6조 (이용계약의 변경 및 조정)\\n① 이용기간은 13박 14일(2주)를 기본으로 하되, 계약을 체결하는 때에 사업자와 이용자가 상호 협의하여 기간을 조정할 수 있습니다. 다만, 사업자는 고객이 13박 14일보다 단기의 이용을 요청한다는 이유로 계약의 체결을 거절할 수 없습니다.\"\n",
    "pprint(strange_source)"
   ]
  },
  {
   "cell_type": "code",
   "execution_count": 29,
   "metadata": {},
   "outputs": [
    {
     "name": "stdout",
     "output_type": "stream",
     "text": [
      "다만  사업자는 고객이 13박 14일보다 단기의 이용을 요청한다는 이유로 계약의 체결을 거절할 수 없습니다.\n"
     ]
    }
   ],
   "source": [
    "preprocessing_sentences = formal_preprocessing_text(strange_source)\n",
    "for preprocessing_sentence in preprocessing_sentences:\n",
    "    print(preprocessing_sentence)"
   ]
  },
  {
   "cell_type": "code",
   "execution_count": 47,
   "metadata": {},
   "outputs": [
    {
     "name": "stdout",
     "output_type": "stream",
     "text": [
      "['다만  사업자는 고객이 13박 14일보다 단기의 이용을 요청한다는 이유로 계약의 체결을 거절할 수 없습니다.']\n"
     ]
    }
   ],
   "source": [
    "print(preprocessing_sentences)"
   ]
  },
  {
   "cell_type": "code",
   "execution_count": 10,
   "metadata": {},
   "outputs": [],
   "source": [
    "with open(train_file_name[7001], 'r', encoding='utf-8') as one_json_file:\n",
    "    one_json_sample = json.load(one_json_file)"
   ]
  },
  {
   "cell_type": "code",
   "execution_count": 17,
   "metadata": {},
   "outputs": [],
   "source": [
    "with open(train_file_name[7001], 'r', encoding='utf-8') as one_json_file:\n",
    "    one_json_sample = json.load(one_json_file)\n",
    "\n",
    "source_df = pd.DataFrame.from_dict(one_json_sample, orient='index')\n",
    "source_df = source_df.transpose()\n",
    "source_list = [source_df['clauseArticle'][0][0], source_df['illdcssBasiss'][0][0],\n",
    "                source_df['relateLaword'][0][0]]\n",
    "        \n",
    "strange_source_list = search_strange_text(source_list)        "
   ]
  },
  {
   "cell_type": "code",
   "execution_count": 27,
   "metadata": {},
   "outputs": [
    {
     "data": {
      "text/plain": [
       "'AIHUB_법률 규정 (판결서 약관 등) 텍스트 분석 데이터/Training\\\\라벨링데이터\\\\1.Training\\\\라벨링데이터\\\\TL_2.약관\\\\02.불리\\\\102_공급계약_가공.json'"
      ]
     },
     "execution_count": 27,
     "metadata": {},
     "output_type": "execute_result"
    }
   ],
   "source": [
    "train_file_name[7001]"
   ]
  },
  {
   "cell_type": "code",
   "execution_count": 16,
   "metadata": {},
   "outputs": [
    {
     "data": {
      "text/plain": [
       "['제 4조 (예약금 및 계약금) \\n(1) 예약금은 조리원 이용료의 10퍼센트이며, 예정일로부터 90일 전 취소할 경우, 100퍼센트 환불가능하오니 유념하여 주시기 바랍니다. 전액 환불 가능한 날짜가 지나 환불을 요청하는 경우 남은 기간이 60에서 90일 인 경우 70퍼센트, 30에서 60일인 경우 40퍼센트가 환불되며, 30일 이전인 경우 예약금에 대한 환불은 불가합니다',\n",
       " '계약 취소시점과 입소 예정일간의 잔여 기간 동안 대체고객을 충분히 확보할 수 있음에도 불구하고 계약해지로 인한 사업자의 실질적인 손해액을 넘어서는 과도한 위약금을 부과하는 조항은 고객에게 과중한 손해배상의무를 지우는 불공정약관에 해당한다.',\n",
       " '제8조(손해배상액의 예정) \\n고객에게 부당하게 과중한 지연 손해금 등의 손해배상 의무를 부담시키는 약관 조항은 무효로 한다.']"
      ]
     },
     "execution_count": 16,
     "metadata": {},
     "output_type": "execute_result"
    }
   ],
   "source": [
    "source_list"
   ]
  },
  {
   "cell_type": "code",
   "execution_count": 24,
   "metadata": {},
   "outputs": [
    {
     "data": {
      "text/plain": [
       "'제8조(손해배상액의 예정) \\n고객에게 부당하게 과중한 지연 손해금 등의 손해배상 의무를 부담시키는 약관 조항은 무효로 한다.'"
      ]
     },
     "execution_count": 24,
     "metadata": {},
     "output_type": "execute_result"
    }
   ],
   "source": [
    "'제8조(손해배상액의 예정) \\n고객에게 부당하게 과중한 지연 손해금 등의 손해배상 의무를 부담시키는 약관 조항은 무효로 한다.'"
   ]
  },
  {
   "cell_type": "code",
   "execution_count": 25,
   "metadata": {},
   "outputs": [
    {
     "name": "stdout",
     "output_type": "stream",
     "text": [
      "'제8조(손해배상액의 예정) \\n고객에게 부당하게 과중한 지연 손해금 등의 손해배상 의무를 부담시키는 약관 조항은 무효로 한다.'\n"
     ]
    }
   ],
   "source": [
    "strange_source = '제8조(손해배상액의 예정) \\n고객에게 부당하게 과중한 지연 손해금 등의 손해배상 의무를 부담시키는 약관 조항은 무효로 한다.'\n",
    "pprint(strange_source)"
   ]
  },
  {
   "cell_type": "code",
   "execution_count": 26,
   "metadata": {},
   "outputs": [
    {
     "name": "stdout",
     "output_type": "stream",
     "text": [
      "고객에게 부당하게 과중한 지연 손해금 등의 손해배상 의무를 부담시키는 약관 조항은 무효로 한다.\n"
     ]
    }
   ],
   "source": [
    "preprocessing_sentences = formal_preprocessing_text(strange_source)\n",
    "for preprocessing_sentence in preprocessing_sentences:\n",
    "    print(preprocessing_sentence)"
   ]
  },
  {
   "cell_type": "code",
   "execution_count": 27,
   "metadata": {},
   "outputs": [
    {
     "name": "stdout",
     "output_type": "stream",
     "text": [
      "['고객에게 부당하게 과중한 지연 손해금 등의 손해배상 의무를 부담시키는 약관 조항은 무효로 한다.']\n"
     ]
    }
   ],
   "source": [
    "print(preprocessing_sentences)"
   ]
  },
  {
   "cell_type": "markdown",
   "metadata": {},
   "source": [
    "### AIHUB 일반상식"
   ]
  },
  {
   "cell_type": "code",
   "execution_count": 9,
   "metadata": {},
   "outputs": [],
   "source": [
    "path_list = ['AIHUB_일반상식/'+ '/**/*.json']\n",
    "file_name_list = json_file_name_list(path_list)"
   ]
  },
  {
   "cell_type": "code",
   "execution_count": 10,
   "metadata": {},
   "outputs": [],
   "source": [
    "for file_name in file_name_list:\n",
    "    if 'ko_wiki_v1_squad' in file_name:\n",
    "        source_file = file_name"
   ]
  },
  {
   "cell_type": "code",
   "execution_count": 11,
   "metadata": {},
   "outputs": [
    {
     "data": {
      "text/plain": [
       "'AIHUB_일반상식\\\\ko_wiki_v1_squad.json'"
      ]
     },
     "execution_count": 11,
     "metadata": {},
     "output_type": "execute_result"
    }
   ],
   "source": [
    "source_file"
   ]
  },
  {
   "cell_type": "code",
   "execution_count": 12,
   "metadata": {},
   "outputs": [],
   "source": [
    "with open(source_file, 'r', encoding='utf-8') as one_json_file:\n",
    "    one_json_sample = json.load(one_json_file)\n",
    "\n",
    "source_df = pd.DataFrame(one_json_sample['data'])\n",
    "source_dict = dict(source_df['paragraphs'].explode())\n",
    "source_json = pd.json_normalize(source_dict)\n",
    "source_list = list(source_json.filter(regex='context').values[0])\n",
    "strange_source_list = search_strange_text(source_list)"
   ]
  },
  {
   "cell_type": "code",
   "execution_count": 20,
   "metadata": {},
   "outputs": [
    {
     "data": {
      "text/plain": [
       "[{'qas': [{'question': '다테 기미코가 최초로 은퇴 선언을 한게 언제지',\n",
       "    'answers': [{'answer_start': 260, 'text': '1996년 9월 24일'}],\n",
       "    'id': '9_f2_wiki_2822-1'}],\n",
       "  'context': \"재팬 오픈에서 4회 우승하였으며, 통산 단식 200승 이상을 거두었다. 1994년 생애 최초로 세계 랭킹 10위권에 진입하였다. 1992년에는 WTA로부터 '올해 가장 많은 향상을 보여준 선수상'(Most Improved Player Of The Year)을 수여받았으며, 일본 남자 패션 협회(Japan Men's Fashion Association)는 그녀를 '가장 패셔너블한 선수'(Most Fashionable)로 칭했다. 생애 두 번째 올림픽 참가 직후인 1996년 9월 24일 최초로 은퇴를 선언하였다. 이후 12년만인 2008년 4월에 예상치 못한 복귀 선언을 하고 투어에 되돌아왔다. 2008년 6월 15일 도쿄 아리아케 인터내셔널 여자 오픈에서 복귀 후 첫 우승을 기록했으며, 2009년 9월 27일에는 한국에서 열린 한솔 코리아 오픈 대회에서 우승하면서 복귀 후 첫 WTA 투어급 대회 우승을 기록했다. 한숨 좀 작작 쉬어!\"}]"
      ]
     },
     "execution_count": 20,
     "metadata": {},
     "output_type": "execute_result"
    }
   ],
   "source": [
    "one_json_sample['data'][0]['paragraphs']"
   ]
  },
  {
   "cell_type": "code",
   "execution_count": 21,
   "metadata": {},
   "outputs": [
    {
     "name": "stdout",
     "output_type": "stream",
     "text": [
      "619\n",
      "34143\n",
      "42879\n",
      "64113\n"
     ]
    }
   ],
   "source": [
    "for i in range(len(one_json_sample['data'])):\n",
    "    if '~night shift~' in one_json_sample['data'][i]['paragraphs'][0]['context']:\n",
    "        print(i)"
   ]
  },
  {
   "cell_type": "code",
   "execution_count": 23,
   "metadata": {},
   "outputs": [
    {
     "data": {
      "text/plain": [
       "{'paragraphs': [{'qas': [{'question': '나카모리 아키나의 곡 중에 뉴스 프로 엔딩곡으로 쓰인 노래는',\n",
       "     'answers': [{'answer_start': 218, 'text': 'Rose Bud'}],\n",
       "     'id': '9_f7_wiki_1037-1'},\n",
       "    {'question': '밤 어딘가에서 night shift를 발매한 음반사는',\n",
       "     'answers': [{'answer_start': 189, 'text': 'MCA 빅터'}],\n",
       "     'id': '9_f7_wiki_1038-1'},\n",
       "    {'question': '밤 어딘가에서 night shift를 마무리곡으로 사용한 뉴스 이름은',\n",
       "     'answers': [{'answer_start': 296, 'text': 'NNN 오늘의 사건'}],\n",
       "     'id': '9_f7_wiki_1039-1'},\n",
       "    {'question': '사쿠리아 요시코의 직업 알려줘',\n",
       "     'answers': [{'answer_start': 353, 'text': '앵커'}],\n",
       "     'id': '9_f7_wiki_1041-1'},\n",
       "    {'question': '나카모리 아키나의 곡 중에 뉴스 프로그램 엔딩곡으로 만들어진 게 있다던데',\n",
       "     'answers': [{'answer_start': 1, 'text': '밤 어딘가에서 ~night shift~'}],\n",
       "     'id': '9_f7_wiki_1043-1'},\n",
       "    {'question': '밤 어딘가에서 night shift를 낸 음반사는',\n",
       "     'answers': [{'answer_start': 189, 'text': 'MCA 빅터'}],\n",
       "     'id': '9_f7_wiki_1044-1'},\n",
       "    {'question': '밤 어딘가에서 night shift를 엔딩곡으로 쓴 뉴스는',\n",
       "     'answers': [{'answer_start': 296, 'text': 'NNN 오늘의 사건'}],\n",
       "     'id': '9_f7_wiki_1045-1'},\n",
       "    {'question': '밤 어딘가에서 night shift 자켓에 나카모리 아키나와 함께 나온 여자는 누구야',\n",
       "     'answers': [{'answer_start': 357, 'text': '사쿠라이 요시코'}],\n",
       "     'id': '9_f7_wiki_1046-1'},\n",
       "    {'question': '사쿠리아 요시코는 뭐하는 사람인데',\n",
       "     'answers': [{'answer_start': 353, 'text': '앵커'}],\n",
       "     'id': '9_f7_wiki_1047-1'}],\n",
       "   'context': '〈밤 어딘가에서 ~night shift~〉(일본어: 夜のどこかで 〜night shift〜 요루노도코카데 나이트시프트)는 일본의 여가수 나카모리 아키나(中森明菜)의 29번째 싱글로 1994년 9월 2일에 발매하였다. (8cmCD: MVDD-10007) 작사는 나츠노 세리코(夏野芹子)가, 작곡과 편곡은 고토 츠구토시(後藤次利)가 담당하였고 MCA 빅터의 레이블로 출시되었다. B사이드 곡은 〈Rose Bud〉로 A사이드와 마찬가지로 작사는 나츠노 세리코가, 작곡과 편곡은 역시 고토 츠구토시가 도맡았다. 이 곡은 뉴스 프로그램인 《NNN 오늘의 사건》(NNNきょうの出来事)의 엔딩곡으로 제작되었는데 디스크 재킷 역시 뉴스 프로그램의 앵커인 사쿠라이 요시코와 촬영하였다. 나카모리는 뉴스 프로그램의 주제가로 사용될 것이라는 말을 듣고 어떤 목소리로 노래해야 할지 고민했지만 뉴스에 등장하는 여성들을 향한 응원가로 생각하면서 불렀다고 밝혔다. 1994년 9월 12일, 오리콘 주간 싱글 차트 14위로 처음 등장하여 차트 톱100을 총 7주간 지켰다.'}],\n",
       " 'title': '밤_어딘가에서_~night_shift~'}"
      ]
     },
     "execution_count": 23,
     "metadata": {},
     "output_type": "execute_result"
    }
   ],
   "source": [
    "one_json_sample['data'][619]"
   ]
  },
  {
   "cell_type": "code",
   "execution_count": 22,
   "metadata": {},
   "outputs": [
    {
     "data": {
      "text/plain": [
       "'〈밤 어딘가에서 ~night shift~〉(일본어: 夜のどこかで 〜night shift〜 요루노도코카데 나이트시프트)는 일본의 여가수 나카모리 아키나(中森明菜)의 29번째 싱글로 1994년 9월 2일에 발매하였다. (8cmCD: MVDD-10007) 작사는 나츠노 세리코(夏野芹子)가, 작곡과 편곡은 고토 츠구토시(後藤次利)가 담당하였고 MCA 빅터의 레이블로 출시되었다. B사이드 곡은 〈Rose Bud〉로 A사이드와 마찬가지로 작사는 나츠노 세리코가, 작곡과 편곡은 역시 고토 츠구토시가 도맡았다. 이 곡은 뉴스 프로그램인 《NNN 오늘의 사건》(NNNきょうの出来事)의 엔딩곡으로 제작되었는데 디스크 재킷 역시 뉴스 프로그램의 앵커인 사쿠라이 요시코와 촬영하였다. 나카모리는 뉴스 프로그램의 주제가로 사용될 것이라는 말을 듣고 어떤 목소리로 노래해야 할지 고민했지만 뉴스에 등장하는 여성들을 향한 응원가로 생각하면서 불렀다고 밝혔다. 1994년 9월 12일, 오리콘 주간 싱글 차트 14위로 처음 등장하여 차트 톱100을 총 7주간 지켰다.'"
      ]
     },
     "execution_count": 22,
     "metadata": {},
     "output_type": "execute_result"
    }
   ],
   "source": [
    "one_json_sample['data'][619]['paragraphs'][0]['context']"
   ]
  },
  {
   "cell_type": "code",
   "execution_count": 11,
   "metadata": {},
   "outputs": [
    {
     "name": "stdout",
     "output_type": "stream",
     "text": [
      "일반성면은 동부 5개 면의 교통, 문화, 교육, 상업의 중심지로서 일찍부터 상업이 발달한 곳으로 날로 반성 재래시장이 번성하고 있는 고장이다. 면적은 19.41 km²로 진주시 16개 읍면동 중 가장 적은 면이지만 인근에 경남 산림환경연구원이 있어 그곳을 찾는 관광객이 이곳 일반성면을 지나간다. 2012년 1월 1일 기준으로 인구 3,233명 (남 : 1,556명, 여 : 1,677명) 1,413세대로 6개 법정리 19개 자연마을 31개 반으로 구성되어 있다. [1]\n",
      "\n",
      "《Remapping The Human Soul》은 전작들과는 달리 무겁고 음침한 분위기에서 트랙을 이끌어간다. DJ 투컷이 프로듀싱을 담당한 1CD The Brain은 정부와 신에 대한 불신(\"Nocturne\", 〈희생양〉), 살인을 저지른 남자의 이야기(〈피해망상 Pt.1〉) 안락사로 유명한 잭 케보키언에 대한 부제가 붙은 곡(\"Mr.Doctor\") 등 대중적으로 다루기 무거운 곡들이 배치되어있고, 타블로가 담당한 2CD The Heart는 버림받은 로봇들의 이야기(\"Broken Toys\"), 타블로와 미쓰라 진의 랩이 겹쳐져 이루어진 자살 암시(〈행복합니다〉), 안티팬들을 겨냥한 신랄한 욕설(\"FAQ\")이 담기는 등 전작 《Swan Songs》에서 나타나지 않았던 암흑적이고 어두운 느낌이 음반 전체를 지배한다. 그러면서 〈Fan〉, 〈Love Love Love〉 등에서 중독성 있는 멜로디로 보여준 팝(대중음악)과의 성공적인 조화는 일반 대중이 듣기에 산뜻한 분위기를 담고 있다. 2007년 1월 23일에 음반을 발매하자마자 타이틀 곡인 〈Fan〉과 후속곡인 〈Love Love Love〉는 음악 차트 상위권을 기록하였다. 2월 3일에는 타이틀 곡 〈Fan〉이 음반 발매 10일 만에 벅스 차트 1위를 기록하였고, 2월 6일에는 쥬크온 차트 1위를 기록하는 등 각종 음반 판매량과 온라인 음악차트에서 1위를 석권하였다. 《Remapping The Human Soul》는 2007년 1월 음반 판매량 순위 1위를 기록하며 발매한 지 1달 만에 10만 장을 돌파하였다. 《Remapping The Human Soul》의 총 판매량은 약 13만장을 기록했다.\n",
      "\n",
      "모가디슈에 있는 고대 파크르 아드-딘 모스크의 판화  에리트리아 해의 페리플러스에 따르면 1세기 만큼 일찍이 인도양을 따라 무역이 모가디슈 지역에 있는 소말리족에서 다른 커뮤니티까지 연결되었었다. 서기 900년 경 도착한 아라비아 반도 출신 무슬림 무역업자들과 함께, 모가디슈는 상업을 위한 적합한 지역의 중심이 되었다. 모가디슈는 도시 형성 초기에 페르시아 세력의 영향을 받았다. 모가디슈라는 이름은 아랍어로 \"샤의 소재지\"를 뜻하는 '마카드샤'(Maq'ad Shah)로부터 기인했다.[1]\n",
      "\n",
      "〈One More Time〉은 하루만에 각종 실시간 차트 1위를 휩쓸었고, 안무 중 일명 \"ET 춤\"이 유행하였다. 컴백 2주만에 《엠카운트다운》, 《인기가요》, 《음악중심》 등 방송 차트를 비롯해 각종 음원 차트 정상을 차지했고, 《뮤직뱅크》에서는 7주 연속 1위로 신기록을 세우기도 했다. 타이틀곡 활동이 끝난 뒤, 《Kitchi Island 2》라는 후속 앨범을 발매했고 치어리더 컨셉의 〈모두 다 쉿!〉으로 활동했다. 또한 활동 당시 서인영의 헤어 스타일인 바가지 머리(버섯머리로도 알려짐)를 유행시켰다. 서인영은 이 시기부터 본격적인 인기를 얻기 시작했다. MBC(MBC TV) 예능 프로그램 《우리 결혼 했어요》에서 크라운 제이 와 호흡을 맞췄는데, 구두를 신상이라고 부르는 등 신조어를 만들어냈고 신상녀, 서인봉, 서인춘등 많은 별명이 붙으며 서인영의 이미지를 대중에게 각인시켜준 프로그램이였다. 비슷한 시기 M.net에서 방영된 리얼리티 프로그램 《서인영의 카이스트》에 출연하며 독특한 컨셉으로 많은 인기를 얻었다.\n",
      "\n",
      "《왕조의 세월》은 1990년 8월 16일부터 1990년 8월 17일까지 방영된 한국방송공사의 8.15 특집 드라마이다. 이 드라마는 영친왕이 1907년 일본에 볼모로 끌려가 이방자와 결혼한 뒤 일본에서의 생활과, 1963년 귀국 이후의 생활 모습 등을 그리며, 이방자의 경우는 1988년 서울올림픽까지의 삶을 담았다. 일제 암흑기 속에서 파란 많은 한국 근대사를 헤쳐온 조선왕조의 마지막 왕세자 이은과 왕세자비 이방자의 드라마틱한 생애를 그려, 비극을 딛고 일어서는 주인공들의 집요한 정신과 삶에 대한 긍정적이고 진솔한 자세를 담담히 담아내어 일제의 탄압과 침략의 역사를 되새겨보고 진실된 한일관계의 의미를 재조명해 본다는 의도를 담고 있다. 한편, 한국과 일본을 오가며 촬영해 영상미는 비교적 좋은 편이지만, 영친왕, 이방자, 영친왕의 정혼자였던 민갑완과의 삼각관계에 초점을 맞춘 통속 멜러물에 그치는 감상적인 틀에서 벗어나지 못했다. 이로 인해 분단 45년의 8.15 특집극으로서의 설득력을 반감시켰다.\n",
      "\n",
      "~ 912년 4월, 재위: 897년 음력 6월 1일 ~ 912년 4월)은 신라의 제52대 왕이다. 성은 김(金)씨, 이름은 요(嶢)이며 본관은 경주(慶州)이다. 아버지는 헌강왕(효공왕 김요는 헌강왕의 서자)이고, 어머니는 의명왕태후(義明王太后) 또는 문자왕후(文資王后)로 추존된 후궁 김씨이다. 왕후는 이찬을 지낸 박예겸(朴乂謙)의 딸이다. 효공왕 김요(孝恭王 金嶢)의 고모이자 前 신라 군주 진성여왕은 897년 음력 6월 1일 신하들에게 “근년에 백성들이 굶주리고, 도적이 일어나는데, 이는 내가 덕(德)이 없는 까닭이다. 이제 숨어 있는 어진 자에게 왕위를 넘겨주기로 나의 뜻이 결정 되었노라” 라고 말하면서 왕위를 이제 아직 어린 왕위계승자 김요(金嶢)에게 선양(禪讓)하고 퇴위한지 6개월 후인 897년 12월 31일에 붕어하였다. 897년 음력 6월 1일부터 912년 4월까지 재위하는 동안 897년 음력 6월 1일부터 904년 3월까지 이찬 준흥(俊興)이 섭정을 하였다가 904년 3월부터 912년 4월 붕어할 때까지 친정을 하였다.\n",
      "\n",
      "(중략) 결론적으로 우리의 다음 목표이다.” 라고 말했다. 프랭크 아이에로 또한 2008년 12월 4일 인터뷰에서 \"우리 밴드는 이번 달부터 다음 음반에 대해서 어떻게 할 건지 논의하고 내년부터 작곡할 것 같다\"고 밝혔다. 2009년 2월 1일, 마이 케미컬 로맨스는 새로운 싱글로 밥 딜런의 노래를 커버한 \"Desolation Row\"를 발매하였고 영화 《왓치맨》의 크레딧에 삽입되었다. 이후 밴드는 사이트의 자신들의 블로그를 통해서 \"2007년 멕시코 시티에서의 앵콜 공연을 포함한 여태 보지 못한 9개의 콜렉션을 발매한다\"고 알린 뒤, 2009년 4월 29일, 방탄 조끼와 콜렉션이 담겨있는 총알 모양의 USB 드라이브 형식 음반인 ¡Venganza!를 발매하였다. 5월 27일, 밴드의 사이트 디자이너인 제프 왓슨은 공식 홈페이지를 통해 본격적으로 4집 음반에 대한 녹음에 돌입했으며 프로듀서로 AC/DC, 펄 잼과 함께 작업했던 브랜든 오브라이언으로 같이 작업 중이라고 알렸고 음반 발매 시기를 2009년 말이나 2010년 초로 예상했다. 7월 31일과 8월 1일에 마이 케미컬 로맨스는 로스앤젤레스 록시 극장에서 두 차례 비공개 공연을 하였다. 메디슨 스퀘어에서부터 2008년 5월까지 해왔던 셋리스트대로 진행하였고 또한 다음 음반에 실리는 미공개곡 3곡을 선보였는데 \"Death Before Disco\", \"Kiss the Ring\", \"The Drugs\"를 선보였다.\n",
      "\n",
      "손견 때부터 손권 때까지 삼대에 걸쳐 손가를 지킨 충성스런 노장. 적벽대전에서 조조의 철벽함대를 뚫기 어렵게되자, 포탄을 실은 배를 이끌고 조조군의 수군함대에 자폭한다. 한당 (RGC-83 짐캐논2) 통칭 : 한당 짐캐논2, 프라모델 킷화(X) 여몽 (MSK-008 디제) 통칭 : 여몽 디제, 프라모델 킷화(O) 강동의 수군함대를 이끄는 굉군의 장수. 처음엔 형주의 등당대장 밑에서 시절을 보냈으며, 그가 죽고 난 후에 굉군에 들어오게 된다. 가면을 벗은 모습(RMS-099)도 있으며, 상당히 고고한 성격을 가지고 있다. 치우에게 조종당해 관우 부자를 공격했었다. 감녕 (MS-18E 캠퍼) 통칭 : 감녕 캠퍼, 프라모델 킷화(O)\n",
      "\n",
      "백제 성왕 7년인 529년에 고구려 승려 아도화상이 절을 짓고 해천사(海川寺)라고 부른 것이 선암사의 기원이라고 전해진다. 남북국 시대에 와서 도선이 선암사를 창건하고 1철불 2보탑 3부도를 세웠다. 고려 시대에 의천이 절을 크게 중창하고 천태종의 본거지로 번창했으나, 조선 선조 때 정유재란으로 큰 피해를 입어 절이 거의 소실되었다. 복구도 늦어져 1660년에야 중창되었다. 대한불교조계종과 태고종의 오랜 분규 과정에서 선암사의 소속을 놓고 논란이 되기도 했으며, 사찰 재산권을 둘러싼 대립으로 불상 바꿔치기에 이은 폭력 사태가 벌어진 적도 있다.[1]\n",
      "\n",
      "\"Disturbia\"는 바베이도스계 가수 리한나의 세 번째 음반 Good Girl Gone Bad의 싱글이다. 2008년 6월 17일에 북미 라디오에 공개됐으며 2008년 7월 22일 CD 싱글로 발매 되었다. 이것은 \"If I Never See Your Face Again\"과 \"Take a Bow\" 다음의 싱글로 발표 되었다. 이 노래는 시니컬한 분위기로 좀비, 시체 등의 어두운 면을 다루는 신스팝 장르의 노래이다. 노래의 어두운 면을 다룬것은 리셉션 평론가들로부터 일반적으로 좋은 반응을 얻었다. 노래는 빌보드 핫 100에서 1위로 데뷔하며 리한나의 최고 데뷔 기록을 이뤄내고 또한 캐나다, 프랑스, 스웨덴, 스위스 및 영국에서 상위 5위에 도달뿐만 아니라 뉴질랜드 차트에서도 석권하며 성공을 일궈냈다. 2009년에 그래미 상 '최우수 댄스 레코딩' 부문에 후보로 올르지만 일렉트로닉 듀오 다프트 펑크의 \"Harder, Better, Faster, Stronger\"에 수상을 내준다.\n",
      "\n",
      "1054년(문종 8) 과거에 급제하였다. 1081년(문종 35) 4월에 예부상서로 사은사(謝恩使)가 되어 송나라에 다녀왔고,[1] 12월에 우산기상시(右散騎常侍)가 되었다.[2]  1088년(선종 5) 중추원사를 거쳐 1089년 참지정사(參知政事)를 역임하였다. 1090년 수사공(守司空)·문하시랑 동중서문하평장사(門下侍郞同中書門下平章事)·감수국사(監修國史)·판이부사(判吏部事)·상주국(上柱國)에 이르렀다. 시호는 양평(良平)이다.[3]\n",
      "\n",
      "한영애는 서울여자고등학교를 거쳐 서울예술전문대학 연극과를 나왔다. 1976년 '해바라기' 멤버로 참여하며 가요계에 데뷔했고, 1978년 극단 '자유'에서 연극에 데뷔했다.1982년 '참새를 태운 잠수함' 멤버로 활동했고, 1995년부터 지금까지 대중가요 노랫말만들기 모임 '詩樂檜'(시악회) 회원으로 활동하고 있다. 대중음악전문지 서브(SUB)가 1998년 12월호에서 선정한 ‘한국대중음악사 100대 명반’에 한영애의 2집 앨범 《바라본다》와 4집 《불어오라 바람아》가 33위와 48위에 꼽혔으며, 2007년 경향신문과 가슴네트워크가 선정한 ‘한국대중음악 100대 명반’에서 《바라본다》가 19위에 올랐다.[1]\n",
      "\n",
      "WVOX는 토크를 중심으로 음악, 스포츠 및 종교 등의 다양한 내용을 방송하고 있다. 뉴욕 대도시권의 지역민들을 대상으로 하여 지역 정보를 제공하는 공동체 라디오의 성격을 가지고 있다. 미국의 주요인사들의 인터뷰 쇼를 방송하기도 한다. 대표적인 프로그램으로 평일 아침 6시~9시에 방송되는 굿모닝,웨스트체스터!(Good Morning, Westchester!), 평일 오후 4시~5시에 방송되는 프레드 디커 쇼(Fred Dicker Show)가 있다. 2009년 9월 14일에는 오전 9시 ~ 오후 6시간에 개국 50주년 특별 프로그램을 방송하였다. WVOX는 2010년 7월 12일부터 HD 라디오로 자매 채널인 WVIP (93.5 FM)의 HD4를 통해서도 청취가 가능하다.[1]\n",
      "\n",
      "공형진은 1969년 4월 10일 서울에서 태어나 중앙대학교 연극영화과를 졸업하였다. 1989년 연극배우로 첫 데뷔를 하였고 1년 후 1990년 대학교 동기 이범수와 공연한 영화 《그래 가끔 하늘을 보자》로 영화배우 데뷔하였으며,[1] 이듬해 1991년 SBS 서울방송 1기 공채 탤런트에 합격하였다. 영화 《선물》과 《파이란》으로 배우로서 존재감을 알렸으며,[2] 2009년까지 《청룡영화제》에 총 다섯 차례 노미네이트되었지만 수상에는 실패했다.[3]\n",
      "\n",
      "등촌동은 지금의 매봉산과 한강변의 염산(甑山 : 염창산)은 원래 같은 산줄기로 이어진 것으로 공항로가 지나고 있는 부분은 꽤나 표고가 높은 산마루턱에 해당되는 곳이었다. 이 산마루턱을 중심으로 마을이 자리잡았다하여 ‘등마루골’이라는 순수한 우리말 이름을 지었다가 한자어로 표기한 것이 등촌동이었다. 조선시대 후기에는 경기도 양천군 남산면 등촌리였고, 1914년 3월 1일 일제의 행정구역 통폐합 때 서울특별시에 편입되어 서울특별시 영등포구 등촌동이 되었다. 1977년 9월 1일 영등포구에서 강서구로 편입되었다.[1] 1985년 9월 1일 등촌동이 분동되어 등촌1동, 등촌2동으로 나뉘었다.[2][3]\n",
      "\n",
      "포천 한탄강 현무암 협곡과 비둘기낭 폭포는 한탄강 용암대지가 개석되면서 형성된 현무암 협곡과 폭포로 그 주변에는 크고 작은 하식동과 주상절리, 판상절리, 협곡, 용암대지 등 포천-철원-연천지역의 지형 및 지질 형성과정을 이해하는데 중요한 단초를 제공하고 있다.[1]  특히, 용암분출에 따른 침식기준면의 변동과 수계발달 간의 상호작용과 용암대지 내의 폭포 발달과정을 알 수 있는 독특한 폭포지형으로 지형ㆍ지질학적 가치가 매우 크다.[1]\n",
      "\n",
      "《롤링 스톤(Rolling Stone)》는 이것보다는 칭찬을 담아, \"이 앨범은 라이드가 녹음했었던 어느 앨범보다도 원초적이고 거친 락이기에 자기 강박적 감상에 젖는 것에서는 벗어났다.\"라고 언급했다. 밴드의 해체 이후, 앤디와 마크 둘다 밴드의 붕괴에 대해 좀 더 반성적인 태도를 내보였다. 특히 앤디는 해체 과정에서의 본인의 잘못 부분을 인정하는 모습을 드러낸 바 있다. 그들의 해체 이후, 앤디는 \"허리케인 넘버 원(Hurricane #1)\"이라는 밴드를 결성하여 활동했다. 그러나 이 프로젝트 또한 앤디가 게이 대드(Gay Dad)에 들어오라는 제의를 받았다가 오아시스(오아시스 (음악 그룹))의 베이시스트로 영입되게 되면서 해산되었다. 앤디는 1999년부터 오아시스의 4집(Standing on the Shoulder of Giants) 투어를 시작으로 오아시스에서 활동하게 되었다. 마크와 로런스는 샘 윌리엄스(Sam Williams)와 함께 더 애니멀하우스(The Animalhouse)를 결성한다.\n",
      "\n",
      "〈Misty Mystery〉는 가넷 크로우의 33번째 싱글이다. 2011년 8월 31일 기자 스튜디오에서 발매되었다. 전곡의 작곡은 나카무라 유리, 작사는 아즈키 나나, 편곡은 후루이 히로히토가 맡았다. 한정반과 통상반 공통으로 초회 생산분에는 모닝콜보이스를 다운로드 할 수 있는 QR코드 특제 카드와, 5종류의 도안전이 랜덤으로 봉입되어있다. 도안전의 앞부분은 명탐정 코난의 15주년 로고가 프린트 되어 있으며, 뒷부분은 가넷 크로우 멤버 4명의 솔로쇼트와 전원 쇼트가 봉입되어 있다. 초회한정반(GZCA-7166)은 Misty Mytery Music Clip이 수록된 DVD가 첨부되어있는 대신에, CD에는 3번 트랙 〈I can't take...〉가 수록되어 있지 않다. 통상반(GZCA-4135)의 경우는 3번 트랙 〈I can't take...〉가 수록되어 있다.\n",
      "\n",
      "<내 마음 나도 몰라>는 1977년 공개된 대한민국의 영화이다. 대구에 사는 한 여학생의 실화를 다룬 영화로 원래 <마음의 행로>라는 제목으로 개봉될 예정이었지만 개봉을 얼마 앞두고 <내 마음 나도 몰라>로 제목이 수정되었다고 한다. 당시 영화 <49제>를 마치고서 새 영화를 준비하던 김지미는 <내 마음 나도 몰라>의 대본을 읽어보더니 자기가 어렸으면 꼭 한번 해보고 싶은 역이라고 했다 한다. 원래 이 영화의 주연은 거의 정해진 배우가 있었지만 현이와 덕이로서 유명해진 장현 · 장덕 남매가 함께 출연한 영화 <선생님 안녕>에서 단역으로 출연한 장덕을 우연히 임원식 감독이 대면하게 되고 자신의 차기 영화 <내 마음 나도 몰라>의 주연으로 딱 맞는 소녀라고 하면서 장덕의 어머니에게 자신의 영화에 덕이가 주연으로 출연해 줄 것을 부탁했다고 한다. 그래서 결국 <내 마음 나도 몰라>의 주연은 장덕이 차지하게 되었다(장덕의 아역 연기는 강수연이 맡았다.) <내 마음 나도 몰라>는 장덕의 오빠 장현이 주연으로 출연한 <선생님 안녕>과 함께 그 해의 우수 영화로 상을 받았다.\n",
      "\n",
      "(한국판 더빙에서는 지니라는 이름으로 나왔다.) 지구의 메갈로폴리스를 출발하여 기계혹성인 프로메슘 행성까지 운행하는 증기기관차형의 우주열차. 겉은 19세기 ~ 20세기동안 운행했던 증기기관차 모습을 하고 있지만 내부는 인공지능의 컴퓨터로 장착되어 있다. 운행은 기관사없이 컴퓨터의 조종에 의해 이루어지며 출발을 할 때는 항상 기적을 우렁차게 울리며 김을 품기도 한다. 역에 정차할 때에는 보통 기관차처럼 레일을 통해 달리게 되지만 우주로 날아갈 때는 비행기와 같이 레일없이 하늘을 날으는 모습을 보이며 겉면과 측면에 '999' 라는 숫자가 새겨져 있다. 마지막 프로메슘 때는 컴퓨터의 고장으로 철이가 수동으로 운행했던 적이 있다. 철이와 메텔을 태우며 이들의 우주여행을 도와주는 동반자이기도 하다. 서기 2221년 지구에서 발달하게 된 최첨단 미래도시로 주로 기계화가 된 기계인간들이 주(主) 시민이며 이 곳의 정식시민이 되기 위해서는 부자(富者)이거나 기계화로 개조되었거나 개조할 수 있는 사람들만 시민 인정을 받는다.\n",
      "\n",
      "〈오랫동안〉(일본어: 長 (なが)い間 (あいだ) 나가이아이다)은 일본의 여성 듀오 Kiroro의 데뷔 싱글 앨범으로, 1998년 1월 21일 발매되었다. (8cm CD: VIDL-30161) B 사이드 곡은 〈세 사람의 사진〉(3人の写真 산닌노샤신)이며, 두 곡 모두 작사 ·  작곡을 그룹의 보컬리스트 타마시로 치하루가, 편곡을 시게미 토오루 (重実徹)가 맡았다. 사실 곡 자체는 데뷔하기 전인 1996년 11월경에 이미 인디즈로 발매했던 싱글인데, 이 때에는 B 사이드 곡이 〈푸른 주문〉(青のじゅもん 아오노주몬)이었고, 1998년에 데뷔함에 있어 수록곡을 변경한 것이다. 이 곡은 오리콘 싱글 차트에 처음 등장했을 때 27위로 아주 높지는 않았으나, 발매 이후 TV나 라디오를 통해 사람들에게 들려지며 많은 호응을 얻었고, 차트에 들어간지 9주째에 이르러 1위로 도약했다. 그 후에도 꾸준히 판매량을 유지해 17주가 지났을 무렵 밀리언 셀러를 달성했으며, 누계 매출 120.6만 장을 기록했고, 1998년 7월경 출하량은 140만 장에 이르렀다. Kiroro는 이듬해 제50회 NHK 홍백가합전에 출연했을때 이 곡을 선곡했다. 한편 이 곡은 1999년 봄에 열렸던 제71회 선발 고등학교 야구 대회의 입장곡으로도 사용되었고, 그와 더불어 3월 25일에 있었던 대회 개회식에 Kiroro가 게스트로도 출연했다.\n",
      "\n",
      "《조선왕조실록》등의 사료에는 기록된 바가 없다. 그러나 《전주이씨대관》에 효종의 두 번째 후궁으로 기재되어 있다.[1] 해당 사서에도 자녀가 없었다는 기록 이외에 상세한 행적은 기록되어 있지 않다. 다만 최고 직첩이 숙원인 것으로 미루어 보아 승은 후궁일 것으로 판단되며, 효종의 제3후궁인 숙의 김씨보다 직첩이 낮은데도 제2후궁으로 기록된 것을 보면 숙의 김씨보다는 먼저 후궁인 된 것으로 보인다.\n",
      "\n",
      "《북제서》(北齊書)는 당나라 이백약이 쓴 기전체 역사서로 이십사사 중의 하나이다. 제기 8권과 열전 42권, 합계 50권으로 구성되어 있고, 636년(정관 10년) 완성된 동위, 북제의 역사를 기록한 정사이다. 이백약의 아버지인 이덕림이 쓴 기전체로 전27권의 《북제사》가 존재하고 있었고, 그것이 수나라 때 이르러 38편에 편찬을 추가하였다. 이백약은 아버지로 사서(史書)에 오른 왕소가 《북제지》에서 얻은 자료를 더하여 본서를 완성시켰던 것이다. 본서에는 외국전은 존재하지 않는다. 18권은 이백약이 쓴 문장이 남아 있다.(4권, 13권, 16-25권, 41-45, 50권) 나머지는 소실되었기 때문에 후대의 사람이 《북사》 등의 여러 책에서 보충했다. 원래의 명칭은 《제서》(齊書)였지만, 송대 이후에 소자현의 《남제서》와 구별하기 위해 《북제서》(北齊書)라고 부르게 되었다.\n",
      "\n",
      "높이척도(scale height, 문화어: 척도높이)는, 다양한 분야의 과학적 맥락에서, 어떤 양이 자연상수 e(=2.71828)에 대해 지수적으로 감소하는 거리이다. 대문자 H로 나타낸다. 행성의 대기에서, 수직 위로 상승함에 따라 대기압은 지수적으로 감소한다. 이때 높이척도 H는 다음과 같이 정의된다. H          =                                                    k                T                                            M                g                                                        {displaystyle H={frac {kT}{Mg}}}      이때  k = 볼츠만 상수 = 1.38 x 10 J·K  T = 평균 대기 온도(단위 켈빈) = 250 K  M = 건조 공기의 평균 분자량(단위 kg)  g = 행성 표면에서 중력 가속도(단위 m/s²)  우리 태양계의 천체들의 높이척도는 다음과 같다. 금성 : 15.9 km  지구 : 8.5 km  화성 : 11.1 km  목성 : 27 km  토성 : 59.5 km  타이탄 : 40 km  천왕성 : 27.7 km  해왕성 : 19.1 - 20.3 km\n",
      "\n",
      "《베이비 길들이기》, 혹은 《아이 양육》 (영어: Bringing Up Baby)은 하워드 혹스가 감독하고 캐서린 헵번과 캐리 그랜트가 출연하였으며, RKO가 제작한 후 1938년에 개봉한 미국의 스크루볼 코미디 영화이다. 이 영화는 정신없는 여자와 베이비라는 이름을 가진 표범 때문에 수많은 곤경을 겪는 고생물학자에 대한 이야기이다. 영화의 극본은 두들리 니콜스와 하갈 와일드가 원래 1937년 4월 10일에 콜리어스 위클리에 개제된 와일드의 단편 소설을 다시 각색한 것이다. 원고는 특별히 헵번을 위해 쓰여졌기 때문에, 그녀가 맡은 역할은 원래 성격과 잘 맞았다. 영화는 1937년 9월에 촬영이 시작되어 1938년 1월에 종료되었는데, 제작비와 예상 촬영 기간을 모두 초과하고 말았다. 제작 기간은 헵번과 그랜트 사이의 끝없는 개그 대사들을 조절하기 위하여 자주 연기되었다. 헵번은 코미디 연기에 대해 많은 걱정을 하였고, 보드빌에 경력을 쌓아온 동료 배우 월터 커틀렛에게 많은 도움을 받았다.\n",
      "\n",
      "패리스 힐튼은 어렸을때 자선 행사에 처음으로 모델일을 시작했다. 19살때는 도널드 트럼프의 모델 에이전시 T 매니저먼트와 계약을 했다. 이후 인기를 얻고 《엘르》, 《맥심》과 같은 유명 잡지의 표지 모델을 장식했다. 2001년에는 《쥬랜더》에 카메오로 출연하며 배우로 데뷔했다. 동생은 니키 힐튼이다. 2010년 9월 21일 패리스는 마약 소지죄로 인해 일본으로 입국할 수 없어 도쿄 도 롯폰기의 패션 이벤트를 참석하지 못하였다.[1]\n",
      "\n",
      "〈예외적으로 단순한 모든 것의 이론〉(An Exceptionally Simple Theory of Everything)은 앤토니 개러트 리시(Antony Garrett Lisi)가 2007년 11월 6일 arXiv에 발표한 물리학 논문의 제목이다. 논문의 주장은 표준 모형과 중력에 나타나는 모든 장이 E 격자를 구성하는 248개의 점을 통해 통합된다는 것이다. 현 시점에서 리시의 논문은 동료검토를 거치거나 전통적인 과학 저널에 발표되지 않았으나, 논문이 발표된 뒤로 많은 전문가 및 일반인들의 관심을 받고 있다. 논문의 제목은 E이 예외군인 동시에 단순군이라는 것을 이용한 말장난이다. 리시는 현 시점에서 자신의 이론이 불완전함을 인정하는 동시에, 대부분의 끈 이론들과는 달리 2008년 5월에 작동을 시작할 예정인 거대 하드론 충돌기에서 시험될 수 있을 거라고 주장한다. 그러나 발표된 논문은 이론으로부터 각 입자들의 질량을 계산해낼 방법을 제시하지 않았으며, 그런 계산이 어떻게 이루어져야 할지도 불명확한 상태이다.\n",
      "\n",
      "\"포페아의 대관식\"'은 몬테베르디의 마지막 오페라로, 작곡가로서의 성숙함을 보여준다. 역사적 사실과는 달리, 몬테베르디는 왕비의 네로를 향한 사랑을 초점에 맞추어, 그녀를 호의적으로 묘사한다. 부세넬로가 작성한 줄거리에서, 서막에 비르투와 포르투나를 넘어서서, 아모레의 명백한 승리를 보여주는 장면은 모순적이다. 그러나 오늘날의 지적인 관객들은 분노에 꼭대기에 있는 네로가 임신한 포페아를 살해한다는 것을 알고 있을 것이다. 포페아의 두 번째 남편이었던 오토네가 네로 뒤를 이어 황제의 자리에 오른다. 포페아는 그녀의 목적을 간단히 오토네에게 충실하게 남아있었다면, 비극없이 성취할 수 있었을 것이다. 이 오페라의 화려하게 끝맺는 네로네와 포페아의 이중창은 몬테베르디가 아니라 다른 작곡가의 의해 작곡되었다고 여겨진다.\n",
      "\n",
      "1964년 5월 20일 사단법인 한국수출산업공단(현:한국산업단지공단)이 설립되어 본격적인 수출산업공단의 조성이 시작되었다. 서울특별시 구로구에 수출산업공단 제1단지를 세웠으며 이후 구로공단이라 불리게 되었다.[1]  조성 당시 총 면적은 약 1,982,000 m²였으며 이 가운데 산업시설 면적은 1,500,000 m²였다. 2008년 9월말 조사 결과에 따르면 구로디지털단지에는 8,416개 회사가 입주하여 있으며 이 중 6,672개 회사가 가동되고 있다. 이에 소속된 노동자는 총 107,113명에 달한다.[2]\n",
      "\n",
      "《UN-GO》는 후지TV 노이타미나계열에서 2011년 10월부터 12월까지 방영한 애니메이션이다. 본즈(본즈 (스튜디오))가 제작한, 일본의 소설가 사카구치 안고의 추리소설이다. 《메이지 개화 안고 수사록》를 원안으로 스토리를 근미래를 바탕으로 재구성한 애니메이션이다. \"종전\"을 맞이한지 얼마되지 않은 근미래의 도쿄. 미디어의 왕이 된 카이쇼 린로쿠는 방대한 정보와 뛰어난 두뇌를 이용해 수많은 사건을 해결한다. 하지만 린로쿠의 추리에는 밝혀지지 않은 것이 있고, 그것을 밝혀내는 것이 \"패전탐정\" 유우키 신쥬로와 그의 파트너인 인과이다. 신쥬로의 추리와 인과의 능력.\n",
      "\n",
      "<내 마음 나도 몰라>는 1977년 공개된 대한민국의 영화이다. 대구에 사는 한 여학생의 실화를 다룬 영화로 원래 <마음의 행로>라는 제목으로 개봉될 예정이었지만 개봉을 얼마 앞두고 <내 마음 나도 몰라>로 제목이 수정되었다고 한다. 당시 영화 <49제>를 마치고서 새 영화를 준비하던 김지미는 <내 마음 나도 몰라>의 대본을 읽어보더니 자기가 어렸으면 꼭 한번 해보고 싶은 역이라고 했다 한다. 원래 이 영화의 주연은 거의 정해진 배우가 있었지만 현이와 덕이로서 유명해진 장현 · 장덕 남매가 함께 출연한 영화 <선생님 안녕>에서 단역으로 출연한 장덕을 우연히 임원식 감독이 대면하게 되고 자신의 차기 영화 <내 마음 나도 몰라>의 주연으로 딱 맞는 소녀라고 하면서 장덕의 어머니에게 자신의 영화에 덕이가 주연으로 출연해 줄 것을 부탁했다고 한다. 그래서 결국 <내 마음 나도 몰라>의 주연은 장덕이 차지하게 되었다(장덕의 아역 연기는 강수연이 맡았다.) <내 마음 나도 몰라>는 장덕의 오빠 장현이 주연으로 출연한 <선생님 안녕>과 함께 그 해의 우수 영화로 상을 받았다.\n",
      "\n",
      "《개구리 중사 케로로 - 최종병기 키루루입니다》(일본어: 超劇場版ケロロ軍曹, 번역 : 초극장판 케로로 군조)는 2006년 제작된 일본의 애니메이션 영화로 케로로 군조 시리즈의 최초 극장 영화작품이다. 상영시간은 60분, 동시 상영된 영화는 '진심의로 성실히 해결!! 조로리의 수수께끼 보물 대작전'이다. 가도카와헤럴드영화 배급으로 2006년 3월 11일에 일본에서 개봉하였고, 최종 흥행 수입은 약 6억엔이다. 봄 방학과 골든 위크가 있는 날에 상영되어 큰 관객을 끌어모으는데 성공했다. 이후 같은 해 8월 25일에 DVD화 되어 일반적으로 발매되었다. 일본 외에 타이완, 홍콩, 대한민국에 수출되었고, 대한민국에는 무비센트가 수입하여 2006년 5월 4일 현지화를 진행한 한국어 더빙으로 극장 개봉되었다.\n",
      "\n",
      "《현양성교론(顯揚聖敎論)》(, T.1602)는 미륵보살과 함께 인도불교의 유식학(唯識學) 총 3기 중 제1기의 논사인 무착(無着: 300?~390?)이 지은 논서로, 당(당나라)(唐)의 현장(玄奘: 602~664)의 한역본이 있다. 별칭으로 《광포중의론(廣苞衆義論)》 또는 《총포중의론(總苞衆義論)》이라고도 하며, 약칭하여 《현양론(顯揚論)》 또는 《성교론(聖敎論)》이라고도 한다. 이와 같이 논의 서두에서 무착이 밝힌 바대로, 현대의 학자들은 《현양성교론》이 《유가사지론》의 요점을 간추린 유식학의 개론서 또는 개요서에 해당한다고 보고 있다.{{sfn|고려대장경연구소|K0571 (T.1602)|loc\n",
      "\n",
      "Бе́ннетта, Bennett Island)은 1881년에 이곳을 여행하던 자네트 호에 의해서 발견되었다. 나중에 미해군 대장인 조지 W.데롱의 이름을 따서 붙여졌다. 이 섬은 77°N에 있고 부분적으로는 빙하로 덮여 있다. 헨리에타 섬은 1937년에서 1963년까지는 연구 목적용 부지로 이용되었고, 면적은 75 km²이다. 베네트 섬이 데롱 제도에서 가장 큰 섬이다. 빌키츠코고 섬 (о. Вильки́цкого)과 조호바 섬 (о.\n",
      "\n",
      "《파인만의 물리학 강의》의 표지는 진한 빨간 색으로 인쇄되었는데, 이 강의록이 유명해짐에 따라 빨간 색 표지의 특징 때문에 《파인만의 물리학 강의》는 \"파인만의 빨간 책\"으로도 널리 알려졌다. 칼텍에서 파인만이 물리학 강의를 맡기 이전에는 기초물리학 강좌에 현대물리학의 중추를 이루는 원자론과 핵이론, 그리고 양자역학과 상대성이론이 없었다. 고작해야 역학(역학 (물리학))과 전자기학 등 고전물리학에 국한되어 있었으며 전자기학은 정적인 경우만 다루었고 복사(복사 (물리학))에 관한 내용은 언급조차 되지 않았다. 이러한 와중에 1957년 러시아가 스푸트니크 1호 발사에 성공한 후 미국에는 MIT 대학의 제럴드 자카리아스를 중심으로 고등학교와 대학교의 교육방식을 개혁해야 한다는 움직임이 일어났다(스푸트니크 충격 참조). 이와 같은 상황에서 칼텍에서는 매슈 샌즈와 리처드 파인만, 로버트 바처(Robert Bacher)가 기초물리학 교과과정의 개편을 주장했고, 포드 재단에서 지원금을 받았다. 이 프로젝트는 일명 '칼텍 프로그램'이라 불리며 위원장은 로버트 레이턴이 맡았고 집행위원으로 매슈 샌즈와 천재적인 실험물리학자인 빅터 네어(Victor Neher)가 집행위원을 맡았다. 매슈 샌즈와 그와 뜻을 함께 하는 리처드 파인만은 학부생들의 기초물리학 강좌에 반드시 현대물리학을 포함시켜야 한다고 강력하게 주장하였다.\n",
      "\n",
      "〈밤 어딘가에서 ~night shift~〉(일본어: 夜のどこかで 〜night shift〜 요루노도코카데 나이트시프트)는 일본의 여가수 나카모리 아키나(中森明菜)의 29번째 싱글로 1994년 9월 2일에 발매하였다. (8cmCD: MVDD-10007) 작사는 나츠노 세리코(夏野芹子)가, 작곡과 편곡은 고토 츠구토시(後藤次利)가 담당하였고 MCA 빅터의 레이블로 출시되었다. B사이드 곡은 〈Rose Bud〉로 A사이드와 마찬가지로 작사는 나츠노 세리코가, 작곡과 편곡은 역시 고토 츠구토시가 도맡았다. 이 곡은 뉴스 프로그램인 《NNN 오늘의 사건》(NNNきょうの出来事)의 엔딩곡으로 제작되었는데 디스크 재킷 역시 뉴스 프로그램의 앵커인 사쿠라이 요시코와 촬영하였다. 나카모리는 뉴스 프로그램의 주제가로 사용될 것이라는 말을 듣고 어떤 목소리로 노래해야 할지 고민했지만 뉴스에 등장하는 여성들을 향한 응원가로 생각하면서 불렀다고 밝혔다. 1994년 9월 12일, 오리콘 주간 싱글 차트 14위로 처음 등장하여 차트 톱100을 총 7주간 지켰다.\n",
      "\n",
      "영화ㆍ텔레비전 기술자 협회(Society of Motion Picture and Television Engineers, SMPTE)는 1916년 미국에 설립된 국제 전문가 단체로, 영화 산업에 종사하는 기술인들이 주축이 된다. 국제적으로 저명한 표준화 기구인 SMPTE는 600개 이상의 표준을 가지고 있다. SMPTE 표준 문서들은 저작권의 보호를 받으며 SMPTE 웹사이트나 다른 기술 문서 배포 기관으로부터 구매가 가능하다. 표준 문서들은 일반 사용자가 구매할 수 있다. SMPTE가 공표한 중요한 표준들은 다음을 포함한다. 디지털을 포함한 모든 영화 및 텔레비전 전송 포맷, 미디어  텔레비전 신호 및 관련 데이터의 전송을 위한 물리 인터페이스 (SMPTE 타임 코드, 시리얼 디지털 인터페이스) (SDI)  SMPTE 컬러 바  테스트 카드 패턴 및 기타 진단 도구  MXF  관련 조직은 다음을 포함한다:  NTSC (National Television System Committee)  MPEG (Moving Picture Experts Group)  ITU-R (ITU Radiocommunication Sector, 과거 이름: CCIR)  ITU-T (ITU Telecommunication Sector, 과거 이름: CCITT)  디지털 비디오 방송  BBC 연구 개발  유럽 방송 연맹 (EBU)\n",
      "\n",
      "중학교 1학년 때부터 권투를 시작했으며, 실업팀 아마추어 권투선수 시절에 100전이 넘는 경기를 가진 베테랑이다. 아마추어 선수시절 탄탄한 기본기술을 익혀, 신인왕전 당시 라이트급 우승후보로 거론되었다. 2009년 1월 29일 프로 데뷔. 2009년 3월 4일 35회 신인왕전 결승전에서 정병호를 2라운드만에 KO승으로 이김으로써 라이트급 신인왕이 되었다.정확하고 강한 펀치가 특기이다.[1]  [2]\n",
      "\n",
      "《베이비 길들이기》, 혹은 《아이 양육》 (영어: Bringing Up Baby)은 하워드 혹스가 감독하고 캐서린 헵번과 캐리 그랜트가 출연하였으며, RKO가 제작한 후 1938년에 개봉한 미국의 스크루볼 코미디 영화이다. 이 영화는 정신없는 여자와 베이비라는 이름을 가진 표범 때문에 수많은 곤경을 겪는 고생물학자에 대한 이야기이다. 영화의 극본은 두들리 니콜스와 하갈 와일드가 원래 1937년 4월 10일에 콜리어스 위클리에 개제된 와일드의 단편 소설을 다시 각색한 것이다. 원고는 특별히 헵번을 위해 쓰여졌기 때문에, 그녀가 맡은 역할은 원래 성격과 잘 맞았다. 영화는 1937년 9월에 촬영이 시작되어 1938년 1월에 종료되었는데, 제작비와 예상 촬영 기간을 모두 초과하고 말았다. 제작 기간은 헵번과 그랜트 사이의 끝없는 개그 대사들을 조절하기 위하여 자주 연기되었다. 헵번은 코미디 연기에 대해 많은 걱정을 하였고, 보드빌에 경력을 쌓아온 동료 배우 월터 커틀렛에게 많은 도움을 받았다.\n",
      "\n",
      "《대추나무 사랑걸렸네》는 한국방송공사의 KBS 2TV, KBS 1TV에서 방영했던 전원 드라마이다. 1990년 9월 9일 첫 회 방송 이래 17년 동안 852부작 방송하였다. 후속 프로그램은 산 너머 남촌에는이다. 한편, 특정업소를 간접광고했다는 이유 때문에 방송위원회로부터 '경고' 조치를 받았다. 아울러, 1990년 9월 9일부터 1991년 5월 19일까지는 KBS 2TV에서 일요일 오전 8시 50분, 1991년 5월 26일부터 1992년 4월 5일까지는 KBS 2TV에서 일요일 오전 9시, 1992년 4월 12일부터 1993년 4월 25일까지는 KBS 2TV에서 오전 9시였다. 1993년 5월 2일부터 1994년 10월 2일까지는 한동안 KBS 1TV에서 일요일 오전 10시에서 방영되었으며 당시 해당 드라마 자리에는 일요일은 참으세요가 1993년 5월 2일부터 방송될 예정이었지만 오연수 손지창 백일섭 외의 배우들 섭외 문제로 어려움을 겪어오자 KBS는 일요아침드라마 시간에 8시부터 특집 <만화대잔치>를 내보냈고 일요일은 참으세요는 1993년 5월 9일로 첫 회가 변경됐다.\n",
      "\n",
      "《미녀와 야수: 오리지널 모션 픽처 사운드트랙》(Beauty and the Beast: Original Motion Picture Soundtrack)은 디즈니의 1991년 애니메이션 영화 《미녀와 야수》의 사운드트랙이다. 앨런 멘켄이 작곡하고 하워드 애시먼이 작사한 노래와 오리지널 스코어로 구성되어 있다. 이 음반은 아카데미 상 음악상, 골든 글로브 상 음악상, 그래미 상 영화 및 텔레비전 부문 음악상을 수상하였으며, BAFTA 상 영화 음악상 후보로도 선정되었다. (댄싱 히어로가 수상)  2001년에는 사운드트랙을 영화의 IMAX 재개봉과 동시에 \"스페셜 에디션\"으로 재발매하였다. 이 음반은 영화의 스코어인 \"변신\" (Transformation)의 초기 미사용 버전, 영화에 추가된 노래 \"다시 사람 되면\" (Human Again), \"변신\" 장면에서 원래 쓰였던 스코어 (Death of the Beast [Early Version]) , \"손님이 되어 주세요\" (Be Our Guest)와 타이틀 노래의 데모 버전을 새롭게 수록하였다.\n",
      "\n",
      "김태형은 스타크래프트 초창기 시절 유명 길드인 로카(ROKA) 길드에 소속되어 rainbow[roka]라는 아이디를 사용, 스타크래프트 게이머(당시 저그)로 활약했다. 1998년 11월 가을 시즌 블리자드 래더토너먼트 시즌3에서 우승을 차지했으나, 한달 뒤에 열린 12월 블리자드 래더토너먼트 시즌3 16강 토너먼트에서 16위인 신주영과 대결하여 패배하였다. 99 프로게이머 코리아 오픈, 2000 하나로통신배 투니버스 스타리그에서 투니버스 게임 해설가로 활동하였고, 2000 프리챌배 온게임넷 스타리그부터는 온게임넷 게임 해설가로 활동하고 있으며, 2006년 1월, 김도형(金度衡)에서 김태형(金太亨)으로 개명했다.[1]\n",
      "\n",
      "《특별판 Free! -Take Your Marks-》(프리 테이크 유어 마크스, )의 타이틀로, 2017년 10월 28일에 공개 예정. 《Free!》(프리, )는 교토 애니메이션에서 제작한 일본의 애니메이션이다. 2013년 7월부터 9월까지 제1기로 방영되었으며, 제2기는《Free! -Eternal Summer-》(프리 이터널 섬머)라는 제목으로 2014년 7월부터 9월까지 방영되었다. 본작은 교토 애니메이션이 주최하는 “교토 애니메이션 대상” 제2회로 장려상을 수상해 2013년 7월 8일에 KA 에스마 문고에서 발매 예정의 오지 코지에 의한 라이트 노벨《하이☆스피드!》를 원작으로 하였다. 초등학생의 수영 클럽 우승 이후 수영에서 멀어지고 있던 주인공들이 고교 재학 중에 설립한 남자 수영부의 나날을 그린다.\n",
      "\n",
      "《숲속으로》(영어: Into the Woods)는 2014년 공개된 롭 마셜이 감독을 맡은 미국의 판타지 뮤지컬 영화로, 제임스 러핀과 스티븐 손드하임의 동명의 브로드웨이 뮤지컬을 각본으로 각색했다. 월트 디즈니 픽처스가 제작한 이 영화에는 메릴 스트리프, 에밀리 블런트, 제임스 코든, 애나 켄드릭, 크리스 파인, 트레이시 울먼, 릴라 크로포드, 크리스틴 배런스키, 대니얼 허틀스톤, 매켄지 모지, 빌리 매그너슨, 조니 뎁등이 앙상블 캐스팅하였다. 그림 형제의 동화 빨간 두건, 신데렐라, 잭과 콩나무, 라푼젤으로부터 영감을 받은 이 영화는 복수심에 불타는 마녀로부터 받은 저주를 끝내려 하는 아이가 없는 부부를 중심으로 하는 판타지 장르 영화이다. 결론적으로, 영화의 등장인물은 자신들의 행동으로 벌어진 결과들을 바로잡게 된다. 원작 뮤지컬을 영화로 각색하려던 스튜디오와 프로듀서들의 시도가 있었으나 실패한 후, 디즈니가 2012년에 마셜이 감독, 존 더루카가 제작을 맡기로 한다며 영화 제작을 알렸다. 본 촬영은 2013년 9월에 시작되었고, 런던에 있는 셰퍼턴 스튜디오를 포함한 영국에서 이뤄졌다.\n",
      "\n",
      "《노부나가의 야망 DS》(일본어: 信長の野望DS)는 코에이에서 2006년 4월 27일에 발매 된 닌텐도 DS용 역사 시뮬레이션 게임이다. 《열풍전withPK》를 베이스로 개발되어, 맵과 코멘트, '제왕의 전투(諸王の戦い)' 시나리오 등의 특징에서 PS판을 베이스로 하고 있는 것을 알 수 있다. 단, 터치 패널의 마우스와 유사한 조작성과 두 화면의 활용 등 Windows판에 가까운 부분도 가지고 있다. 얼굴 그래픽은 《천하창세》나 《혁신》 등, 발매 당시의 작품에서 사용하고 있던 그래픽을 베이스로 하고 있다. 오다 가 가문(家紋)에 대해서도 《열풍전》의 청색 표시가 아닌, 《람세기》 이후의 적색 표시로 되어 있다. 베이스가 된 《열풍전withPK》처럼 신무장과 신가보를 등록하여 게임에 등장시키는 것은 할 수 있지만, 기존의 무장이나 성의 데이터 에디터 기능은 탑재되지 않았다. 최초의 화면에 등장하는 옵션에서는 무장의 데이터나 역사 이벤트를 볼 수 있다.\n",
      "\n",
      "북부 전쟁이 진행되면서 스웨덴 국왕 카를 10세 구스타프는 해협 행진을 통하여 윌란 반도로 진입하였고, 셸란 섬을 점령하였다. 침략은 1658년 2월 11일 시작되었다. 기초 조약 토스트루프 조약이 1658년 2월 18일, 로스킬레 조약은 1658년 2월 26일 맺어졌다. 스웨덴은 서부 노르웨이의 롬스달도 침략하였으나, 지역 농부들은 스웨덴에 세금 내기와 징병을 거부하였고, 스웨덴에서는 군부대를 보내서 세금을 걷으려고 하였으나 실패하였다.[2]\n",
      "\n",
      "《Lee-Tzsche》는 가수 이상은의 정규음반 8집이다. 이상은이 영국의 유명 레코드사인 버진(Virgin)-도시바 EMI사와 음반계약을 맺고, 'Lee-Tzsche(리채,リ-チェ)'라는 이름으로 발매한 음반이다. 앨범에 담긴 12곡 중 6곡은 7집에 수록되어 있던 곡을 영어가사로 바꾸고 편곡을 달리해 선보인 것이며, 나머지 새로운 6곡도 모두 영어가사로 되어 있다. 1997년 12월 일본에서 발매되고, 계속된 요청으로 한국에는 2000년도에 뒤늦게 수입되었다. 앨범 타이틀곡 'Actually, Finally' 와 11번트랙 'Release Your Mind'는 영국의 유명 프로듀서 Richard Niles(폴 매카트니, 팻숍 보이즈, 앨라니스 모리셋과 작업)가 편곡을 하였는데,  팝적인 요소가 강해서 오히려 이상은의 색깔을 잘 반영하지 못했다는 평을 받았다. 그래서인지 'Actually, Finally'는 악기사용의 절제와 차분한 목소리 톤으로 편곡(다케다 하지무)되었던 오리지널 버전으로 후에 옴니버스앨범인 '도시락특공대 2집' 과 'Lee-tzsche 1991-1999 베스트앨범'에 다시 수록되었다.\n",
      "\n",
      "⟪인식과 오류⟫(Erkenntnis und Irrtum)는 에른스트 마흐의 저서이다 이 책의 부제인 '탐구의 심리학 약설(略說)'이 말해 주듯이, 과학적 탐구의 심리 및 논리를 다룬 것으로 많은 항목으로 나누어져 있다. ⟪인식과 오류⟫라는 제목은 부제 중 하나에서 딴 것으로 이 장에서는 오류론을 전개하고 있다. 마흐에 의하면 모든 인식은 감각으로부터 출발하고 감각으로 돌아가는 것이다. 따라서 바른 인식도 잘못된 인식도 감각이라는 동일한 심적 원천(心的源泉)으로부터 나온 것으로 이 단계에서는 어느 것이 잘못된 것인지를 말할 수가 없다. 그것을 알 수 있는 것은 오직 결과에서만 가능하며, 잘못에 바탕을 둔 행동을 해서 곤란한 경우에 부딪히거나 불이익을 당하고 나서야 알게 되는 것이다. 따라서 금후로는 잘못을 범하지 않도록 조심하는 태도가 생기는데, 이 태도가 의도적·과학적 탐구의 시초라고 보아도 좋으며, 이 점에서 잘못은 탐구를 촉진하고 우리를 바른 인식으로 인도하는 것으로서 적극적으로 평가되지 않으면 안 된다. 이 문서에는 다음커뮤니케이션(현 카카오)에서 GFDL 또는 CC-SA 라이선스로 배포한 글로벌 세계대백과사전의 내용을 기초로 작성된 글이 포함되어 있습니다.\n",
      "\n",
      "2015 KB금융 한국컬링선수권대회는 4월 14일부터 4월 20일까지 경기도 인천시 선학국제빙상장에서 열렸다. 우승팀은 2015 한국컬링국가대표팀으로, 준우승팀은 2015 한국컬링올림픽팀으로 추천된다. 2015-16 시즌에는 남자부에 강원도청이, 여자부에 경기도청가 국가대표가 되었다. 예선 경기가 끝났을 때, 팀 순위 결정 기준은 다음과 같다. 2015년 4월 14일 19:30 (KST) 2014년 4월 15일 14:00 (KST) 2014년 4월 16일 9:00 (KST) 2014년 4월 16일 19:00 (KST) 2014년 4월 17일 14:00 (KST) 2014년 4월 18일 9:00 (KST)\n",
      "\n",
      "비주얼 스튜디오 코드는 2015년 4월 29일 마이크로소프트의 빌드 컨퍼런스에서 소개되었으며, 미리보기 버전이 공개되었다.[6]  그후, 2015년 11월 18일, 비주얼 스튜디오 코드는 MIT 라이선스하에 배포가 진행되었으며, 깃허브에 소스코드가 올라왔으며, 확장 지원또한 발표되었다.[7]  2016년 4월 14일, 비주얼 스튜디오 코드는 공개 미리보기 단계를 졸업하고, 공식적으로 웹에 릴리즈 되었다.[8]\n",
      "\n",
      "〈IN MY ARMS TONIGHT〉은 일본의 밴드 ZARD의 다섯 번째 싱글로, 1992년 9월 9일 발매되었다. (8cm CD: PODH-1094, POSH-1094) 곡은 사카이 이즈미가 작사하고, 하루하타 미치야(春畑道哉)가 작곡을, 아카시 마사오가 편곡을 맡았다. 이 곡은 동시기에 TBS 텔레비전을 통해 방송되었던 드라마 《학교가 위험해》의 테마송으로 사용되었다. 전작 〈잠 못드는 밤을 안고〉가 그랬듯, 이 역시 ZARD가 방송에 출연했던 몇 안되는 곡이다. 총 2회 출연했으며, 각각 10월 16일 TV 아사히의 《뮤직 스테이션》과, 10월 28일 후지 TV의 《뮤직 저널》의 방송분이다. B사이드 곡인 〈땀 속에서 CRY〉(汗の中でCRY 아세노나카데-)는 사카이 이즈미가 작사, 밴드 BLIZARD의 멤버 마츠카와 토시야(松川敏也)가 작곡을, 오자와 마사즈미(小澤正澄)와 이케다 다이스케(池田大介)가 편곡을 도맡았다. 이후 오자와는 15번째 싱글 〈사랑이 보이지 않아〉의 작곡을 맡았고, 이케다는 ZARD의 많은 곡들을 함께 한다.\n",
      "\n",
      "하지만 골프의 컨버터블 버전인 골프 카브리올레와는 별도의 모델로 독립된 차량이다. 대신 5세대 골프에는 카브리올레 라인업이 없었다. 2010년에 페이스 리프트를 거쳐 헤드램프와 테일램프, 전면 범퍼, 후면 범퍼 및 사이드 미러, 휠 등이 변경되었다. 2011년에 6세대 골프에 카브리올레 라인업이 부활했음에도 병행 생산되었다. 그러나 불운하게도 판매되는 기간 내내 실적 부진에 시달리다가 결국 2015년에 골프 카브리올레와 통합되는 형태로 단종되었다. 대한민국에서는 2007년부터 2010년까지 전기형 모델이 판매되었으며 골프 5세대 GTI와 파워트레인을 공유하는 2.0 터보 가솔린 모델이 판매되었다. 폭스바겐 컨셉트 C 정측면\n",
      "\n",
      "마거릿 퀄리는 1994년 미국 몬태나 주에서 태어나 애슈빌에서 성장했다.[1] 배우 앤디 맥다월과 배우 겸 모델 폴 퀄리의 딸이다. 언니 레이니 역시 가수, 댄서, 모델이다. 언니와 함께 어릴 적부터 상류층 사교계를 접했으며 파리 발 데 데뷔탕트스에서 데뷔했다.[2] 미국 발레 극장에서 발레리나 트레이닝을 받았고, 뉴욕 프랜치 아카데미를 다녔다. 17살 때, 제안에 따라 노스 캐롤리나 댄스 극장의 연습생이 되었고 진로를 연기로 바꿨다. 런던에 있는 왕립연극학교를 다녔다.[3][4]\n",
      "\n",
      "'Lee-Tzsche(리채,リ-チェ)'라는 이름은 외국에서 활동이 많아지면서 쉽게 부를수 있는 영어 이름이 필요해 만든 것으로, '리'와 '채'는 부모님의 성씨에서 한 자씩 딴 것. 영어 표기의 'tzsche'는 자신이 좋아하는 철학자 니체의 이름 일부를 차용했다고 한다. 그간 이상은은 영국의 유명 레코드사인 버진(Virgin)사와 음반계약을 맺어 세계적인 뮤지션으로 성장해 있었다. 일본에서 발매된 8(Lee-Tzsche), 9(Asian Prescription), 10집(Endless Lay) 역시 도시바EMI에서 나온것으로 국내에는 라이센스로 소개 됐다. 또한 한국 음악인으로는 처음으로 일본영화 '화이팅 에츠코(がんばっていきまっしょい)(힘내서 갑시다)'의 영화음악을 맡아 '어기여디어라' 영어버전인 〈Ogiyodiora〉가 주제곡으로 화제를 모았으며, 이 곡을 포함한 이상은의 OST앨범 《Give it all》 역시 좋은 반응을 얻었다. 이상은은 일본에서 활동 하면서도 일본어로 노래부르지 않았고, 대중적인 인기를 목적으로 활동한 것이 아닌 라이브 공연 위주로 순전히 음악성만으로 인정을 받아 활동해 왔다는 것은 주목할 만한 점이다. 2000년도에는 다시 영국으로 미술유학을 떠나기도 하였다.\n",
      "\n",
      "케론군 계급은 병장으로 케로로 소대의 암살자이다. 케론군 특수정예부대 '어새신(Assassin)'의 최강 실력자이다. 이름의 유래는 닌자가 사라지는 둔갑술을 나타내는 의태어 '도롱'에서 따왔다. 닉네임은 트라우마(trauma:마음의 상처 또는 정신적 외상)군이며, 파트너는 아즈마야 코유키 (한국 : 권설화), 그리고 거의 등장하지 않는 닌자마을 시절에 알게 된 제로야차라는 개다. 소대내 무선통신 코드내임은 조로리1이다 (한국은 조디1)푸루루 간호장교의 건강 검진 결과 발표를 보면 마음 고생이 심각한 수준이다 원인은 존재감 없는것과 트라우마 스위치다\n",
      "\n",
      "《리틀 로망스》(원제:A Little Romance)는 1979년에 개봉된 조지 로이 힐 감독, 로런스 올리비에, 텔로니우스 베르나르, 다이앤 레인 주연의 미국의 로맨틱 코미디 영화로, 다이앤 레인의 데뷔작이기도 하다. 영화 대본은 앨런 번즈와 조지 로이 힐이 패트릭 쇼뱅(Patrick Cauvin)의 E=mc Mon Amour 를 기반으로 고쳐 썼다. 음악은 조르쥬 들르뤼가 작곡하였다. 영화는 파리에서 서로 만나 연애를 시작하게 되고 해질녘 베니스의 탄식의 다리 아래에서 입맞춤함으로써 그들의 영원한 사랑을 다짐하려는 희망으로 여행을 떠나는 프랑스 소년과 미국 소녀를 따른다. 이 영화는 1979년 조르쥬 들르뤼의 음악으로 아카데미 음악상을 수상하였으며, 앨런 번즈는 아카데미 각색상 후보로 지명되었다. 이 영화는 또한 골든 글러브에서 로런스 올리비에가 남우 조연상, 조르쥬 들르뤼의 음악상을 수상하였다. 어린 주연들인 텔레니우스 베르나르와 다이앤 레인은 젊은 예술가상의 남우 주연상과 여우 주연상 후보로 지명되었고, 《리틀 로망스》는 최고 영화상을 수상하였다. 이 영화는 오리온 픽처스가 배급한 첫 필름이기도 하다.\n",
      "\n",
      "〈꽃이여, 춤춰라〉(일본어: 花よ踊れ 하나요오도레)는 일본의 여가수 나카모리 아키나(中森明菜)의 46번째 싱글로 2006년 5월 17일에 발매하였다. (12cmCD: UMCK-5143, 디지털 다운로드) 작사는 카렌(夏蓮)이, 작곡은 하바 히토시(羽場仁志)가, 편곡은 우에스기 히로시(上杉洋史)가 담당하였고 유니버설 뮤직 재팬 소속의 레이블인 유니버설 시그마에서 출시되었다. B사이드 곡은 〈GAME〉(게임)으로 작사는 쿠도 아마네(工藤周)가, 작곡은 하야시다 켄지(林田健司)가, 편곡은 하야시다 켄지와 우에스기 히로시가 공동으로 도맡았다. 이 곡은 나카모리가 7년만에 주연을 맡은 니혼 테레비의 수요드라마 《프리마담》(プリマダム)의 주제곡으로 사용되었다. 싱글의 디스크 재킷은 나카모리가 어릴 때 배우던 발레 사진을 일러스트한 것이다. 음악잡지 《CD저널》은 라틴계 호른과 기타, 휘슬로 어우러진 멜로디에서 나카모리의 저음 보컬이 울리며, 마치 고독 속에서 피는 꽃을 잘 표현했다고 평하였다. 2006년 5월 29일, 오리콘 주간 싱글 차트 23위로 처음 등장하여 차트 톱100을 6주 동안 지켰다.\n",
      "\n",
      "《창세기전》(The War of Genesis)은 대한민국의 소프트맥스사가 개발한 컴퓨터용 롤플레잉 게임 시리즈이다. '아르케'와 '안타리아', '투르', '한'등 가상의 세계관을 무대로, 주인공들의 사랑과 모험, 음모, 국가 간의 화합과 반목, 인간과 신 사이의 갈등과 같은 일련의 사건을 통해 밝혀지는 대륙의 역사와 비밀을 다루고 있다. 개인용 컴퓨터에서는 1995년 《창세기전》(1편)을 시작으로 2000년 12월에 발매된 최종작 《창세기전3 파트2》까지 총 6편의 작품이 제작되었고, 모바일에서는 《크로우 1》, 《크로우 2》등이 제작되었고, 2007년 12월 《창세기전3 Ep1》이 엠조이넷을 통해 SKT 용으로 이식되었다. 이들 게임은 시나리오의 치밀한 구성과 작품성으로 큰 인기를 얻었다. 다만, 《창세기전》은 설정이 독창적이지 않다(이를테면, 기파랑과 리슐리외 등)는 비판도 있다. 《서풍의 광시곡》을 제외한 모든 시리즈는 최연규가 메인 프로듀서이다. 《서풍의 광시곡》은 조영기가 메인 프로듀서이다.\n",
      "\n",
      "쾨펜 기후 구분에 의하면 온대 습윤 기후(Cfa)에 속한다. 아르헨티나에서 매우 따뜻한 곳에 속하여 겨울에도 상당히 온화하며, 여름에는 무덥다. 연중 강수량도 많아 매월 평균 100mm을 기록한다. 가장 비가 많이 내리는 달은 11월로 평균 200mm 가량을 기록한다. 대류성 폭우가 자주 내리며, 충분한 강수로 인해 우림이 발달했다. 여름에는 40 °C 이상의 기온이 기록되기도 하며, 겨울에 0 °C 이하로 떨어지는 경우는 극히 드물다. 푸에르토이과수의 기후 월 1월 2월 3월 4월 5월 6월 7월 8월 9월 10월 11월 12월 년 출전: Servicio Meteorológico Nacional (Argentine Meteorological Service)[1]\n",
      "\n",
      "《 훗 (Hoot)》은 대한민국의 걸 그룹 소녀시대의 세 번째 미니 앨범이다. 2010년 10월 27일 KMP홀딩스를 통해 발매되었다. 켄지, 히치하이커(히치하이커 (작곡가)), 황현 등이 앨범에 참여했으며, 이수만이 프로듀서를 맡았다. 이번 앨범 작업은 활발한 국제적 활동 속에 극비로 진행되었다. 대다수 사람들은 2010년 소녀시대의 대한민국 활동은 더 이상 없을 것이라 예상했지만, 2010년 11월 컴백 예고를 하면서 모두의 예상을 깼다. 앨범에는 동명의 타이틀곡 〈훗 (Hoot)(훗 (Hoot) (노래))〉을 포함해 총 5곡이 수록되었다. 이번 앨범의 컨셉은 《제임스 본드》 시리즈의 본드 걸과 같은 1970년대 핀업 걸과 19세기 말 미국의 카우걸 패션에 초점을 맞췄다.\n",
      "\n",
      "독일의 연방제는 1648년 베스트팔렌 조약의 체결 이후 신성 로마 제국의 영향력이 약화되자 지방 도시를 중심으로 발달하기 시작하였으며, 1949년에 이르러 독일 연방기본법의 제정과 초대 내각의 구성을 통해 독일연방공화국(Bundesrepublik Deutschland)이 수립됨으로써 현대적인 체제를 갖추게 되었다. 연방제는 입법·행정·사법 등 국가의 권력이 중앙 정부와 지방 정부에 수평적으로 나뉘어 있으며, 여러 국가가 서로 헌법적으로 결합하여 하나의 전체국가를 형성하는 현대 국가의 구조적 형태를 의미한다. 독일 연방 공화국(獨逸聯邦共和國, 독일어: Bundesrepublik Deutschland 분데스레푸블리크 도이칠란트)은 미국·스위스 등과 더불어 연방제를 채택하고 있는 국가 중 하나다. 독일에서는 중앙에 대한 지역의 평등한 협상기회가 제도적으로 보장되어 있기 때문에, 중앙 정부와 지역 정부의 관계가 어느 한쪽으로 치우쳐 있지 않다. 따라서 독일 연방제는 중앙과 지역 간 기능과 권한 면에서 세분화와 상호의존을 조화롭게 실현한 형태이다. 독일의 연방체제는 결정과정이 독특하게 나뉘어 있으며, 각 기구에서의 의사결정방법도 서로 다르게 상정함으로써 연방체제의 장점을 최대한 구현하려고 모색한다. 독일의 정치 체제\n",
      "\n"
     ]
    }
   ],
   "source": [
    "for strange_source in strange_source_list:\n",
    "    print(strange_source, end=\"\\n\\n\")"
   ]
  },
  {
   "cell_type": "code",
   "execution_count": 12,
   "metadata": {},
   "outputs": [
    {
     "data": {
      "text/plain": [
       "'〈밤 어딘가에서 ~night shift~〉(일본어: 夜のどこかで 〜night shift〜 요루노도코카데 나이트시프트)는 일본의 여가수 나카모리 아키나(中森明菜)의 29번째 싱글로 1994년 9월 2일에 발매하였다. (8cmCD: MVDD-10007) 작사는 나츠노 세리코(夏野芹子)가, 작곡과 편곡은 고토 츠구토시(後藤次利)가 담당하였고 MCA 빅터의 레이블로 출시되었다. B사이드 곡은 〈Rose Bud〉로 A사이드와 마찬가지로 작사는 나츠노 세리코가, 작곡과 편곡은 역시 고토 츠구토시가 도맡았다. 이 곡은 뉴스 프로그램인 《NNN 오늘의 사건》(NNNきょうの出来事)의 엔딩곡으로 제작되었는데 디스크 재킷 역시 뉴스 프로그램의 앵커인 사쿠라이 요시코와 촬영하였다. 나카모리는 뉴스 프로그램의 주제가로 사용될 것이라는 말을 듣고 어떤 목소리로 노래해야 할지 고민했지만 뉴스에 등장하는 여성들을 향한 응원가로 생각하면서 불렀다고 밝혔다. 1994년 9월 12일, 오리콘 주간 싱글 차트 14위로 처음 등장하여 차트 톱100을 총 7주간 지켰다.'"
      ]
     },
     "execution_count": 12,
     "metadata": {},
     "output_type": "execute_result"
    }
   ],
   "source": [
    "\"〈밤 어딘가에서 ~night shift~〉(일본어: 夜のどこかで 〜night shift〜 요루노도코카데 나이트시프트)는 일본의 여가수 나카모리 아키나(中森明菜)의 29번째 싱글로 1994년 9월 2일에 발매하였다. (8cmCD: MVDD-10007) 작사는 나츠노 세리코(夏野芹子)가, 작곡과 편곡은 고토 츠구토시(後藤次利)가 담당하였고 MCA 빅터의 레이블로 출시되었다. B사이드 곡은 〈Rose Bud〉로 A사이드와 마찬가지로 작사는 나츠노 세리코가, 작곡과 편곡은 역시 고토 츠구토시가 도맡았다. 이 곡은 뉴스 프로그램인 《NNN 오늘의 사건》(NNNきょうの出来事)의 엔딩곡으로 제작되었는데 디스크 재킷 역시 뉴스 프로그램의 앵커인 사쿠라이 요시코와 촬영하였다. 나카모리는 뉴스 프로그램의 주제가로 사용될 것이라는 말을 듣고 어떤 목소리로 노래해야 할지 고민했지만 뉴스에 등장하는 여성들을 향한 응원가로 생각하면서 불렀다고 밝혔다. 1994년 9월 12일, 오리콘 주간 싱글 차트 14위로 처음 등장하여 차트 톱100을 총 7주간 지켰다.\""
   ]
  },
  {
   "cell_type": "code",
   "execution_count": 13,
   "metadata": {},
   "outputs": [
    {
     "name": "stdout",
     "output_type": "stream",
     "text": [
      "('〈밤 어딘가에서 ~night shift~〉(일본어: 夜のどこかで 〜night shift〜 요루노도코카데 나이트시프트)는 일본의 여가수 '\n",
      " '나카모리 아키나(中森明菜)의 29번째 싱글로 1994년 9월 2일에 발매하였다. (8cmCD: MVDD-10007) 작사는 나츠노 '\n",
      " '세리코(夏野芹子)가, 작곡과 편곡은 고토 츠구토시(後藤次利)가 담당하였고 MCA 빅터의 레이블로 출시되었다. B사이드 곡은 〈Rose '\n",
      " 'Bud〉로 A사이드와 마찬가지로 작사는 나츠노 세리코가, 작곡과 편곡은 역시 고토 츠구토시가 도맡았다. 이 곡은 뉴스 프로그램인 《NNN '\n",
      " '오늘의 사건》(NNNきょうの出来事)의 엔딩곡으로 제작되었는데 디스크 재킷 역시 뉴스 프로그램의 앵커인 사쿠라이 요시코와 촬영하였다. '\n",
      " '나카모리는 뉴스 프로그램의 주제가로 사용될 것이라는 말을 듣고 어떤 목소리로 노래해야 할지 고민했지만 뉴스에 등장하는 여성들을 향한 '\n",
      " '응원가로 생각하면서 불렀다고 밝혔다. 1994년 9월 12일, 오리콘 주간 싱글 차트 14위로 처음 등장하여 차트 톱100을 총 7주간 '\n",
      " '지켰다.')\n"
     ]
    }
   ],
   "source": [
    "strange_source = \"〈밤 어딘가에서 ~night shift~〉(일본어: 夜のどこかで 〜night shift〜 요루노도코카데 나이트시프트)는 일본의 여가수 나카모리 아키나(中森明菜)의 29번째 싱글로 1994년 9월 2일에 발매하였다. (8cmCD: MVDD-10007) 작사는 나츠노 세리코(夏野芹子)가, 작곡과 편곡은 고토 츠구토시(後藤次利)가 담당하였고 MCA 빅터의 레이블로 출시되었다. B사이드 곡은 〈Rose Bud〉로 A사이드와 마찬가지로 작사는 나츠노 세리코가, 작곡과 편곡은 역시 고토 츠구토시가 도맡았다. 이 곡은 뉴스 프로그램인 《NNN 오늘의 사건》(NNNきょうの出来事)의 엔딩곡으로 제작되었는데 디스크 재킷 역시 뉴스 프로그램의 앵커인 사쿠라이 요시코와 촬영하였다. 나카모리는 뉴스 프로그램의 주제가로 사용될 것이라는 말을 듣고 어떤 목소리로 노래해야 할지 고민했지만 뉴스에 등장하는 여성들을 향한 응원가로 생각하면서 불렀다고 밝혔다. 1994년 9월 12일, 오리콘 주간 싱글 차트 14위로 처음 등장하여 차트 톱100을 총 7주간 지켰다.\"\n",
    "pprint(strange_source)"
   ]
  },
  {
   "cell_type": "code",
   "execution_count": 14,
   "metadata": {},
   "outputs": [
    {
     "name": "stdout",
     "output_type": "stream",
     "text": [
      "B사이드 곡은  Rose Bud 로 A사이드와 마찬가지로 작사는 나츠노 세리코가  작곡과 편곡은 역시 고토 츠구토시가 도맡았다.\n",
      "이 곡은 뉴스 프로그램인  NNN 오늘의 사건 (NNN    出来事)의 엔딩곡으로 제작되었는데 디스크 재킷 역시 뉴스 프로그램의 앵커인 사쿠라이 요시코와 촬영하였다.\n",
      "나카모리는 뉴스 프로그램의 주제가로 사용될 것이라는 말을 듣고 어떤 목소리로 노래해야 할지 고민했지만 뉴스에 등장하는 여성들을 향한 응원가로 생각하면서 불렀다고 밝혔다.\n",
      "1994년 9월 12일  오리콘 주간 싱글 차트 14위로 처음 등장하여 차트 톱100을 총 7주간 지켰다.\n"
     ]
    }
   ],
   "source": [
    "preprocessing_sentences = formal_preprocessing_text(strange_source)\n",
    "for preprocessing_sentence in preprocessing_sentences:\n",
    "    print(preprocessing_sentence)"
   ]
  },
  {
   "cell_type": "code",
   "execution_count": 15,
   "metadata": {},
   "outputs": [
    {
     "name": "stdout",
     "output_type": "stream",
     "text": [
      "['B사이드 곡은  Rose Bud 로 A사이드와 마찬가지로 작사는 나츠노 세리코가  작곡과 편곡은 역시 고토 츠구토시가 도맡았다.', '이 곡은 뉴스 프로그램인  NNN 오늘의 사건 (NNN    出来事)의 엔딩곡으로 제작되었는데 디스크 재킷 역시 뉴스 프로그램의 앵커인 사쿠라이 요시코와 촬영하였다.', '나카모리는 뉴스 프로그램의 주제가로 사용될 것이라는 말을 듣고 어떤 목소리로 노래해야 할지 고민했지만 뉴스에 등장하는 여성들을 향한 응원가로 생각하면서 불렀다고 밝혔다.', '1994년 9월 12일  오리콘 주간 싱글 차트 14위로 처음 등장하여 차트 톱100을 총 7주간 지켰다.']\n"
     ]
    }
   ],
   "source": [
    "print(preprocessing_sentences)"
   ]
  }
 ],
 "metadata": {
  "kernelspec": {
   "display_name": "Python 3 (ipykernel)",
   "language": "python",
   "name": "python3"
  },
  "language_info": {
   "codemirror_mode": {
    "name": "ipython",
    "version": 3
   },
   "file_extension": ".py",
   "mimetype": "text/x-python",
   "name": "python",
   "nbconvert_exporter": "python",
   "pygments_lexer": "ipython3",
   "version": "3.11.3"
  }
 },
 "nbformat": 4,
 "nbformat_minor": 2
}
