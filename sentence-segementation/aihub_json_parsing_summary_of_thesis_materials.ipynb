{
 "cells": [
  {
   "cell_type": "markdown",
   "metadata": {},
   "source": [
    "## AIHub Json Parsing"
   ]
  },
  {
   "cell_type": "markdown",
   "metadata": {},
   "source": [
    "### Development Environment"
   ]
  },
  {
   "cell_type": "code",
   "execution_count": null,
   "metadata": {},
   "outputs": [],
   "source": [
    "%pip install kss==3.7.3"
   ]
  },
  {
   "cell_type": "markdown",
   "metadata": {},
   "source": [
    "KSS Argument Error: Restart Jupyter Kernel Runtime"
   ]
  },
  {
   "cell_type": "code",
   "execution_count": null,
   "metadata": {},
   "outputs": [],
   "source": [
    "%pip install python-mecab-ko"
   ]
  },
  {
   "cell_type": "markdown",
   "metadata": {},
   "source": [
    "KSS 3.7.3 matches python-mecab-ko"
   ]
  },
  {
   "cell_type": "code",
   "execution_count": null,
   "metadata": {},
   "outputs": [],
   "source": [
    "%pip install pandas"
   ]
  },
  {
   "cell_type": "code",
   "execution_count": null,
   "metadata": {},
   "outputs": [],
   "source": [
    "%pip install ray"
   ]
  },
  {
   "cell_type": "code",
   "execution_count": 1,
   "metadata": {},
   "outputs": [],
   "source": [
    "import re\n",
    "import os\n",
    "import kss\n",
    "import ray\n",
    "import json\n",
    "from mecab import MeCab\n",
    "import pandas as pd\n",
    "from glob import glob\n",
    "from itertools import chain"
   ]
  },
  {
   "cell_type": "code",
   "execution_count": 30,
   "metadata": {},
   "outputs": [
    {
     "data": {
      "text/plain": [
       "'d:\\\\AIHUB'"
      ]
     },
     "execution_count": 30,
     "metadata": {},
     "output_type": "execute_result"
    }
   ],
   "source": [
    "pwd"
   ]
  },
  {
   "cell_type": "markdown",
   "metadata": {},
   "source": [
    "### Function"
   ]
  },
  {
   "cell_type": "code",
   "execution_count": null,
   "metadata": {},
   "outputs": [],
   "source": [
    "def sorted_list(path_list):\n",
    "    path_list = sorted(path_list, reverse=False)\n",
    "    path_list = sorted(path_list, key=len)\n",
    "    \n",
    "    return path_list"
   ]
  },
  {
   "cell_type": "code",
   "execution_count": 3,
   "metadata": {},
   "outputs": [],
   "source": [
    "def json_file_name_list(path_list):\n",
    "    \n",
    "    file_name  = [glob(i, recursive = True) for i in path_list][0]\n",
    "    file_name = sorted_list(file_name)\n",
    "    \n",
    "    return file_name"
   ]
  },
  {
   "cell_type": "code",
   "execution_count": 4,
   "metadata": {},
   "outputs": [],
   "source": [
    "def train_valid_json_file_name_list(path_list):\n",
    "\n",
    "  train_file_name, valid_file_name = [glob(i, recursive = True) if 'rain' in i\n",
    "                                      else glob(i, recursive = True)\n",
    "                                      for i in path_list]\n",
    "\n",
    "  train_file_name = sorted_list(train_file_name)\n",
    "  valid_file_name = sorted_list(valid_file_name)\n",
    "    \n",
    "  return train_file_name, valid_file_name"
   ]
  },
  {
   "cell_type": "code",
   "execution_count": 11,
   "metadata": {},
   "outputs": [],
   "source": [
    "def divide_source_file_list(l, n): \n",
    "    \n",
    "  for i in range(0, len(l), n): \n",
    "    yield l[i:i + n] "
   ]
  },
  {
   "cell_type": "code",
   "execution_count": 5,
   "metadata": {},
   "outputs": [],
   "source": [
    "def txt_file_name_list(source_file_nested_list, folder_corpus_type_name):\n",
    "\n",
    "  text_file_name_list = [folder_corpus_type_name + str(i) + \".txt\"\n",
    "                              for i in range(len(source_file_nested_list))]\n",
    "    \n",
    "  return text_file_name_list"
   ]
  },
  {
   "cell_type": "code",
   "execution_count": null,
   "metadata": {},
   "outputs": [],
   "source": [
    "def post_txt_file_name_list(corpus_list):\n",
    "   \n",
    "  post_corpus_list = [corpus_file.replace(\"pro\", \"post\")\n",
    "                      for corpus_file in corpus_list]\n",
    "\n",
    "  return post_corpus_list"
   ]
  },
  {
   "cell_type": "code",
   "execution_count": 8,
   "metadata": {},
   "outputs": [],
   "source": [
    "def formal_preprocessing_text(source):\n",
    "    preprocessing_sentence_list = []\n",
    "    \n",
    "    source = source.strip()\n",
    "    # strip으로 앞뒤 공백 제거\n",
    "\n",
    "    source = re.sub(r\"\\[.*?\\]|\\{.*?\\}\", \"\", source)\n",
    "    # 기타 괄호 제거할 시 괄호 내부에 모든 텍스트 제거\n",
    "\n",
    "\n",
    "    try:\n",
    "        bracket_form = re.compile('\\(([^)]+)')\n",
    "        text_in_small_bracket = bracket_form.findall(source)\n",
    "    \n",
    "    \n",
    "        if type(text_in_small_bracket) == str:\n",
    "\n",
    "            text = text_in_small_bracket\n",
    "\n",
    "            text_size = len(text)\n",
    "            last_index = source.find(text) + len(text)\n",
    "            if len(source) >= last_index+1 and source[last_index-text_size-1] == '(' and source[last_index+1] == '.':\n",
    "                source = source.replace(source[last_index-text_size-1 : last_index+1] + \".\", \".\")\n",
    "\n",
    "            if len(text.split()) > 5 and bool(re.match(r'[.]|[!]|[?]', text[-1])) == True:\n",
    "                small_bracket = \"(\" + text + \")\"\n",
    "                source = source.replace(small_bracket, text)    \n",
    "\n",
    "        elif type(text_in_small_bracket) == list:\n",
    "\n",
    "            for text in text_in_small_bracket:\n",
    "\n",
    "                text_size = len(text)\n",
    "                last_index = source.find(text) + len(text)\n",
    "                if len(source) >= last_index+1 and source[last_index-text_size-1] == '(' and source[last_index+1] == '.':\n",
    "                    source = source.replace(source[last_index-text_size-1 : last_index+1] + \".\", \".\")\n",
    "\n",
    "                if len(text.split()) > 5 and bool(re.match(r'[.]|[!]|[?]', text[-1])) == True:\n",
    "                    small_bracket = \"(\" + text + \")\"\n",
    "                    source = source.replace(small_bracket, text)    \n",
    "\n",
    "    except:\n",
    "        pass\n",
    "\n",
    "        # 마침표(.) 앞에 소괄호')'가 있을시 소괄호 제거와 함께 소괄호 내부 텍스트 제거\n",
    "        # 소괄호 내부 텍스트가 5어절 이상이고 끝이 온점(.). 느낌표(!). 물음표(?)일 떼 소괄호 제거\n",
    "        \n",
    "    \n",
    "    if bool(re.match(r'[가나다라마바사아자차카타파하]+[.]', source[:2])) == True:\n",
    "        source = re.sub(source[:2], \"\", source)\n",
    "        \n",
    "    source = re.sub(r' [가나다라마바사아자차카타파하]+[.]', \"\", source)\n",
    "    # '가.', '나.', ... 형태의 문자열 제거  \n",
    "        \n",
    "    for sentence in kss.split_sentences(source, use_heuristic=False,\n",
    "                                        num_workers=32):\n",
    "    # KSS(Korean Sentence Segmentation)로 문장 분리 \n",
    "    # Formal articles (wiki, news, essays): recommend to False\n",
    "    \n",
    "\n",
    "        if re.search(\"^[A-Za-z0-9ㄱ-ㅎ가-힣一-鿕㐀-䶵豈-龎]\", sentence[0]) is not None and \\\n",
    "            bool(re.match(r'[.]|[!]|[?]', sentence[-1])) == True and \\\n",
    "            len(sentence.split()) > 5:\n",
    "            # 문장의 시작이 특수문자인 문장(영어 대소문자, 한글, 한자, 숫자, -, + 제외\n",
    "            # 문장의 끝이 온점(.). 느낌표(!). 물음표(?)가 아닌 문장 제외\n",
    "            # 다섯 어절 이하 문장 제외\n",
    "\n",
    "\n",
    "            if ']' in sentence and '[' not in sentence:\n",
    "                sentence  = re.sub(r\".*?]\", \"\", sentence)    \n",
    "            # 중괄호 앞에 있는 '성명/직함]' 형태 제거\n",
    "\n",
    "\n",
    "            sentence = re.sub(r\"[^A-Za-z0-9ㄱ-ㅎ가-힣一-鿕㐀-䶵豈-龎()+-.,]\", \" \", sentence)\n",
    "            # 특수문자 제거(영어 대소문자, 한글, 한자, 숫자, -, +, 소괄호, 마침표, 쉼표, 제외)\n",
    "\n",
    "            sentence = sentence.strip()\n",
    "            # strip으로 앞뒤 공백 제거\n",
    "\n",
    "            total_length = len(sentence.replace(\" \" , \"\"))\n",
    "            hangeul_length = len(re.sub(r\"[^ㄱ-ㅣ가-힣\\s]\", \"\", sentence.replace(\" \" , \"\")))\n",
    "            hangeul_ratio = hangeul_length / total_length\n",
    "            if hangeul_ratio >= 0.5:\n",
    "            # 한글이 아닌 문자열이 50% 이상이 넘은 문장 제외\n",
    "                preprocessing_sentence_list.append(sentence)\n",
    "                \n",
    "            #    for sentence2 in kss.split_sentences(sentence, use_heuristic=False,\n",
    "            #                            num_workers=32):\n",
    "            #        for sentence3 in kss.split_sentences(sentence2, use_heuristic=False,\n",
    "            #                                             num_workers=32):\n",
    "            #            preprocessing_sentence_list.append(sentence3)\n",
    "\n",
    "            # 마지막에 KSS(Korean Sentence Segmentation)로 문장 분리 2번 실행\n",
    "\n",
    "\n",
    "  \n",
    "    return preprocessing_sentence_list"
   ]
  },
  {
   "cell_type": "markdown",
   "metadata": {},
   "source": [
    "### AIHUB 논문자료 요약"
   ]
  },
  {
   "cell_type": "markdown",
   "metadata": {},
   "source": [
    "[Source](https://aihub.or.kr/aihubdata/data/view.do?currMenu=115&topMenu=100&aihubDataSe=realm&dataSetSn=90)"
   ]
  },
  {
   "cell_type": "code",
   "execution_count": 115,
   "metadata": {},
   "outputs": [],
   "source": [
    "path_list = ['AIHUB_논문자료 요약/Training/'+ '/**/*.json', \n",
    "             'AIHUB_논문자료 요약/Validation/'+ '/**/*.json']\n",
    "train_file_name, valid_file_name = train_valid_json_file_name_list(path_list)"
   ]
  },
  {
   "cell_type": "code",
   "execution_count": 116,
   "metadata": {},
   "outputs": [
    {
     "name": "stdout",
     "output_type": "stream",
     "text": [
      "The number of file: 65\n",
      "The number of list element: 6\n"
     ]
    }
   ],
   "source": [
    "the_number_of_file = len(train_file_name) + len(valid_file_name)\n",
    "print(\"The number of file:\", the_number_of_file)\n",
    "n = the_number_of_file // 10\n",
    "print(\"The number of list element:\", n)\n",
    "train_file_nested_list = list(divide_source_file_list(train_file_name, n))\n",
    "valid_file_nested_list = list(divide_source_file_list(valid_file_name, n))"
   ]
  },
  {
   "cell_type": "code",
   "execution_count": 117,
   "metadata": {},
   "outputs": [
    {
     "name": "stdout",
     "output_type": "stream",
     "text": [
      "The number of txt file: 12\n"
     ]
    }
   ],
   "source": [
    "train_text_file_name_list = txt_file_name_list(train_file_nested_list,\n",
    "                                                           \"exploration/summary_of_thesis_materials_pro/AIHUB_summary_of_thesis_materials_train_\")\n",
    "valid_text_file_name_list = txt_file_name_list(valid_file_nested_list,\n",
    "                                                           \"exploration/summary_of_thesis_materials_pro/AIHUB_summary_of_thesis_materials_valid_\")\n",
    "the_numer_of_txt_file = len(train_text_file_name_list) + len(valid_text_file_name_list)\n",
    "print(\"The number of txt file:\", the_numer_of_txt_file)"
   ]
  },
  {
   "cell_type": "code",
   "execution_count": null,
   "metadata": {},
   "outputs": [],
   "source": [
    "def list_length_checker(source_file_nested_list, batch_size):\n",
    "    \n",
    "    the_number_of_total_txt_file = 0\n",
    "    the_number_of_txt_file_list = []\n",
    "    temp_nested_index = []\n",
    "    \n",
    "    for source_file_list in source_file_nested_list:   \n",
    "        temp_index = []\n",
    "        for i in range(len(source_file_list)):\n",
    "                \n",
    "            if type(source_file_list) == str:\n",
    "                source_file = source_file_list\n",
    "\n",
    "            elif type(source_file_list) == list:\n",
    "                source_file = source_file_list[i]\n",
    "            \n",
    "\n",
    "            with open(source_file, 'r', encoding='utf-8') as one_json_file:\n",
    "                one_json_sample = json.load(one_json_file)\n",
    "                \n",
    "            source_df = pd.DataFrame(one_json_sample['data'])\n",
    "\n",
    "            if '논문/논문요약' or '특허섹션' in source_file:\n",
    "                    \n",
    "                try:\n",
    "                    summary_entire_source_dict = dict(source_df['summary_entire'].explode())\n",
    "                    summary_entire_source_json = pd.json_normalize(summary_entire_source_dict)\n",
    "                    summary_entire_source_list = list(summary_entire_source_json.filter(regex='orginal_text').values[0])\n",
    "\n",
    "                    summary_section_source_dict = dict(source_df['summary_section'].explode())\n",
    "                    summary_section_source_json = pd.json_normalize(summary_section_source_dict)\n",
    "                    summary_section_source_list = list(summary_section_source_json.filter(regex='orginal_text').values[0])\n",
    "\n",
    "                    source_list = summary_entire_source_list + summary_section_source_list\n",
    "\n",
    "                except:\n",
    "                    summary_section_source_dict = dict(source_df['summary_section'].explode())\n",
    "                    summary_section_source_json = pd.json_normalize(summary_section_source_dict)\n",
    "                    source_list = list(summary_section_source_json.filter(regex='orginal_text').values[0])\n",
    "                        \n",
    "            else:\n",
    "                summary_section_source_dict = dict(source_df['summary_section'].explode())\n",
    "                summary_section_source_json = pd.json_normalize(summary_section_source_dict)\n",
    "                source_list = list(summary_section_source_json.filter(regex='orginal_text').values[0])\n",
    "        \n",
    "            if len(source_list) >= 1000:\n",
    "                the_number_of_txt_file = ((len(source_list) // batch_size) + 1)\n",
    "                print(\"File:\", source_file)    \n",
    "                print(\"Index:\", i, \"  \", \"Length of Summary Section Source List:\", len(source_list), \\\n",
    "                \"  \", \"The number of txt file:\", the_number_of_txt_file, \"\\n\")\n",
    "                he_number_of_txt_file_list.append(the_number_of_txt_file)\n",
    "                the_number_of_total_txt_file +=  the_number_of_txt_file                    \n",
    "\n",
    "            else:\n",
    "                the_number_of_total_txt_file += 1\n",
    "                the_number_of_txt_file_list.append(1)\n",
    "                if i > 0 and the_number_of_file % i == 0:\n",
    "                    temp_index.append(i)\n",
    "                    try:\n",
    "                        if i == temp_nested_index[0][0] and len(temp_nested_index) <= 1:\n",
    "                            print(\"[For Example]\")\n",
    "                            print(\"This is not subject of batch. It's small source list\")                            \n",
    "                            print(\"File:\", source_file)\n",
    "                            print(\"Length of Source List:\", len(source_list), \"\\n\")\n",
    "                    except:\n",
    "                        pass\n",
    "                    \n",
    "        temp_nested_index.append(temp_index)\n",
    "    \n",
    "    print(\"\")            \n",
    "    print(\"Batch Size:\", batch_size)\n",
    "    print(\"The number of txt file:\", the_number_of_total_txt_file)\n",
    "    \n",
    "    return the_number_of_total_txt_file, the_number_of_txt_file_list"
   ]
  },
  {
   "cell_type": "code",
   "execution_count": null,
   "metadata": {},
   "outputs": [],
   "source": [
    "def make_corpus_txt_with_batch_list(source_file_nested_list,\n",
    "                                    text_file_name_list,\n",
    "                                    batch_size, the_number_of_total_txt_file_list):\n",
    "\n",
    "  print(\"[Size]\")\n",
    "  print(\"The number of preprocessing corpus: \" + str(sum(the_number_of_total_txt_file_list)))\n",
    "  print(\"\\n[Order]\")\n",
    "  num = 0\n",
    "  for i in range(len(source_file_nested_list)):\n",
    "    source_file_list = source_file_nested_list[i]\n",
    "    \n",
    "    for j in range(len(source_file_list)):\n",
    "      \n",
    "      if type(source_file_list) == str:\n",
    "        source_file = source_file_list\n",
    "\n",
    "      elif type(source_file_list) == list:\n",
    "        source_file = source_file_list[j]\n",
    "\n",
    "      with open(source_file, 'r', encoding='utf-8') as one_json_file:\n",
    "        one_json_sample = json.load(one_json_file)\n",
    "        \n",
    "      source_df = pd.DataFrame(one_json_sample['data'])\n",
    "\n",
    "      if '논문/논문요약' or '특허섹션' in source_file:\n",
    "          try:\n",
    "              summary_entire_source_dict = dict(source_df['summary_entire'].explode())\n",
    "              summary_entire_source_json = pd.json_normalize(summary_entire_source_dict)\n",
    "              summary_entire_source_list = list(summary_entire_source_json.filter(regex='orginal_text').values[0])\n",
    "\n",
    "              summary_section_source_dict = dict(source_df['summary_section'].explode())\n",
    "              summary_section_source_json = pd.json_normalize(summary_section_source_dict)\n",
    "              summary_section_source_list = list(summary_section_source_json.filter(regex='orginal_text').values[0])\n",
    "\n",
    "              source_list = summary_entire_source_list + summary_section_source_list\n",
    "\n",
    "          except:\n",
    "              summary_section_source_dict = dict(source_df['summary_section'].explode())\n",
    "              summary_section_source_json = pd.json_normalize(summary_section_source_dict)\n",
    "              source_list = list(summary_section_source_json.filter(regex='orginal_text').values[0])\n",
    "\n",
    "      else:\n",
    "          summary_section_source_dict = dict(source_df['summary_section'].explode())\n",
    "          summary_section_source_json = pd.json_normalize(summary_section_source_dict)\n",
    "          source_list = list(summary_section_source_json.filter(regex='orginal_text').values[0])\n",
    "        \n",
    "      n = batch_size\n",
    "      source_batch_list = list(divide_source_file_list(source_list, n))\n",
    "        \n",
    "      for source_list in source_batch_list:\n",
    "          num += 1\n",
    "          print(str(num), end=\" \")  \n",
    "          \n",
    "          with open(os.path.join('AIHUB_corpus/' + text_file_name_list[i][:-4] + \"_\" + str(num) + \".txt\"), \"a\", encoding='utf-8') as fp:        \n",
    "              fp.write(\"\\n\".join(source_list))   \n",
    "    "
   ]
  },
  {
   "cell_type": "code",
   "execution_count": null,
   "metadata": {},
   "outputs": [],
   "source": [
    "batch_size = 1000\n",
    "the_number_of_train_txt_file, the_number_of_train_txt_file_list = list_length_checker(train_file_nested_list, batch_size)"
   ]
  },
  {
   "cell_type": "code",
   "execution_count": null,
   "metadata": {},
   "outputs": [],
   "source": [
    "batch_size = 1000\n",
    "the_number_of_valid_txt_file, the_number_of_valid_txt_file_list = list_length_checker(valid_file_nested_list, batch_size)"
   ]
  },
  {
   "cell_type": "code",
   "execution_count": null,
   "metadata": {},
   "outputs": [],
   "source": [
    "batch_size = 1000\n",
    "make_corpus_txt_with_batch_list(train_file_nested_list, train_text_file_name_list,\n",
    "                batch_size, the_number_of_train_txt_file_list)"
   ]
  },
  {
   "cell_type": "code",
   "execution_count": null,
   "metadata": {},
   "outputs": [],
   "source": [
    "batch_size = 1000\n",
    "make_corpus_txt_with_batch_list(valid_file_nested_list, valid_text_file_name_list,\n",
    "                batch_size, the_number_of_valid_txt_file_list)"
   ]
  },
  {
   "cell_type": "code",
   "execution_count": null,
   "metadata": {},
   "outputs": [],
   "source": [
    "pro_total_corpus_list = glob(\"AIHUB_corpus/exploration/summary_of_thesis_materials_pro/AIHUB_summary_of_thesis_materials_\" +\"*.txt\")"
   ]
  },
  {
   "cell_type": "code",
   "execution_count": null,
   "metadata": {},
   "outputs": [],
   "source": [
    "len(pro_total_corpus_list)"
   ]
  },
  {
   "cell_type": "code",
   "execution_count": null,
   "metadata": {},
   "outputs": [],
   "source": [
    "post_total_corpus_list = post_txt_file_name_list(pro_total_corpus_list)"
   ]
  },
  {
   "cell_type": "code",
   "execution_count": null,
   "metadata": {},
   "outputs": [],
   "source": [
    "line_list = []\n",
    "line_num = 0\n",
    "with open(pro_total_corpus_list[0], 'r', encoding='utf-8') as f:\n",
    "    lines = f.read().splitlines() \n",
    "    for line in lines:\n",
    "        line_num += 1\n",
    "        if line_num <= 1:\n",
    "           line_list.append(line)\n",
    "for line in line_list:\n",
    "    print(line, end=\"\\n\\n\")"
   ]
  },
  {
   "cell_type": "code",
   "execution_count": null,
   "metadata": {},
   "outputs": [],
   "source": [
    "line_list = []\n",
    "line_num = 0\n",
    "with open(pro_total_corpus_list[0], 'r', encoding='utf-8') as f:\n",
    "    lines = f.read().splitlines()\n",
    "    for line in lines:\n",
    "        line_num += 1\n",
    "        if line_num <= 1:  \n",
    "            sentences = formal_preprocessing_text(line)\n",
    "            for sentence in sentences:\n",
    "                line_list.append(sentence) \n",
    "            \n",
    "for line in line_list:\n",
    "    print(line, end=\"\\n\\n\")"
   ]
  },
  {
   "cell_type": "code",
   "execution_count": null,
   "metadata": {},
   "outputs": [],
   "source": [
    "ray.init(num_cpus = 4)\n",
    "\n",
    "@ray.remote\n",
    "\n",
    "def formal_preprocessing_text(source):\n",
    "    preprocessing_sentence_list = []\n",
    "    \n",
    "    source = source.strip()\n",
    "    # strip으로 앞뒤 공백 제거\n",
    "\n",
    "    source = re.sub(r\"\\[.*?\\]|\\{.*?\\}\", \"\", source)\n",
    "    # 기타 괄호 제거할 시 괄호 내부에 모든 텍스트 제거\n",
    "\n",
    "\n",
    "    try:\n",
    "        bracket_form = re.compile('\\(([^)]+)')\n",
    "        text_in_small_bracket = bracket_form.findall(source)\n",
    "    \n",
    "    \n",
    "        if type(text_in_small_bracket) == str:\n",
    "\n",
    "            text = text_in_small_bracket\n",
    "\n",
    "            text_size = len(text)\n",
    "            last_index = source.find(text) + len(text)\n",
    "            if len(source) >= last_index+1 and source[last_index-text_size-1] == '(' and source[last_index+1] == '.':\n",
    "                source = source.replace(source[last_index-text_size-1 : last_index+1] + \".\", \".\")\n",
    "\n",
    "            if len(text.split()) > 5 and bool(re.match(r'[.]|[!]|[?]', text[-1])) == True:\n",
    "                small_bracket = \"(\" + text + \")\"\n",
    "                source = source.replace(small_bracket, text)    \n",
    "\n",
    "        elif type(text_in_small_bracket) == list:\n",
    "\n",
    "            for text in text_in_small_bracket:\n",
    "\n",
    "                text_size = len(text)\n",
    "                last_index = source.find(text) + len(text)\n",
    "                if len(source) >= last_index+1 and source[last_index-text_size-1] == '(' and source[last_index+1] == '.':\n",
    "                    source = source.replace(source[last_index-text_size-1 : last_index+1] + \".\", \".\")\n",
    "\n",
    "                if len(text.split()) > 5 and bool(re.match(r'[.]|[!]|[?]', text[-1])) == True:\n",
    "                    small_bracket = \"(\" + text + \")\"\n",
    "                    source = source.replace(small_bracket, text)    \n",
    "\n",
    "    except:\n",
    "        pass\n",
    "\n",
    "        # 마침표(.) 앞에 소괄호')'가 있을시 소괄호 제거와 함께 소괄호 내부 텍스트 제거\n",
    "        # 소괄호 내부 텍스트가 5어절 이상이고 끝이 온점(.). 느낌표(!). 물음표(?)일 떼 소괄호 제거\n",
    "        \n",
    "    \n",
    "    if bool(re.match(r'[가나다라마바사아자차카타파하]+[.]', source[:2])) == True:\n",
    "        source = re.sub(source[:2], \"\", source)\n",
    "        \n",
    "    source = re.sub(r' [가나다라마바사아자차카타파하]+[.]', \"\", source)\n",
    "    # '가.', '나.', ... 형태의 문자열 제거 \n",
    "        \n",
    "    for sentence in kss.split_sentences(source, use_heuristic=False,\n",
    "                                        num_workers=32):\n",
    "    # KSS(Korean Sentence Segmentation)로 문장 분리 \n",
    "    # Formal articles (wiki, news, essays): recommend to False\n",
    "    \n",
    "\n",
    "        if re.search(\"^[A-Za-z0-9ㄱ-ㅎ가-힣一-鿕㐀-䶵豈-龎]\", sentence[0]) is not None and \\\n",
    "            bool(re.match(r'[.]|[!]|[?]', sentence[-1])) == True and \\\n",
    "            len(sentence.split()) > 5:\n",
    "            # 문장의 시작이 특수문자인 문장(영어 대소문자, 한글, 한자, 숫자, -, + 제외\n",
    "            # 문장의 끝이 온점(.). 느낌표(!). 물음표(?)가 아닌 문장 제외\n",
    "            # 다섯 어절 이하 문장 제외\n",
    "\n",
    "\n",
    "            if ']' in sentence and '[' not in sentence:\n",
    "                sentence  = re.sub(r\".*?]\", \"\", sentence)    \n",
    "            # 중괄호 앞에 있는 '성명/직함]' 형태 제거\n",
    "\n",
    "\n",
    "            sentence = re.sub(r\"[^A-Za-z0-9ㄱ-ㅎ가-힣一-鿕㐀-䶵豈-龎()+-.,]\", \" \", sentence)\n",
    "            # 특수문자 제거(영어 대소문자, 한글, 한자, 숫자, -, +, 소괄호, 마침표, 쉼표, 제외)\n",
    "\n",
    "            sentence = sentence.strip()\n",
    "            # strip으로 앞뒤 공백 제거\n",
    "\n",
    "            total_length = len(sentence.replace(\" \" , \"\"))\n",
    "            hangeul_length = len(re.sub(r\"[^ㄱ-ㅣ가-힣\\s]\", \"\", sentence.replace(\" \" , \"\")))\n",
    "            hangeul_ratio = hangeul_length / total_length\n",
    "            if hangeul_ratio >= 0.5:\n",
    "            # 한글이 아닌 문자열이 50% 이상이 넘은 문장 제외\n",
    "                preprocessing_sentence_list.append(sentence)\n",
    "                \n",
    "            #    for sentence2 in kss.split_sentences(sentence, use_heuristic=False,\n",
    "            #                            num_workers=32):\n",
    "            #        for sentence3 in kss.split_sentences(sentence2, use_heuristic=False,\n",
    "            #                                             num_workers=32):\n",
    "            #            preprocessing_sentence_list.append(sentence3)\n",
    "\n",
    "            # 마지막에 KSS(Korean Sentence Segmentation)로 문장 분리 2번 실행\n",
    "\n",
    "\n",
    "  \n",
    "    return preprocessing_sentence_list"
   ]
  },
  {
   "cell_type": "code",
   "execution_count": null,
   "metadata": {},
   "outputs": [],
   "source": [
    "print(\"[Size]\")\n",
    "print(\"The number of preprocessing corpus: \" + str(len(pro_total_corpus_list)))\n",
    "print(\"\\n[Order]\")\n",
    "num = 0\n",
    "process_num = 10    \n",
    "\n",
    "for pro, post in zip(pro_total_corpus_list, post_total_corpus_list):\n",
    "    \n",
    "    sentence_list = []\n",
    "    \n",
    "    with open(pro, 'r', encoding='utf-8') as f:\n",
    "        lines = f.read().splitlines() \n",
    "        nested_lines_num = len(lines) // process_num\n",
    "        for i in range(nested_lines_num - 1):\n",
    "            start_line = process_num * i\n",
    "            end_line = process_num * (i+1)\n",
    "            futures = [formal_preprocessing_text.remote(lines[start_line:end_line][j]) for j in range(process_num)]\n",
    "            results = ray.get(futures)\n",
    "            \n",
    "            if i == nested_lines_num - 2:\n",
    "                futures = [formal_preprocessing_text.remote(lines[end_line:][j]) for j in range(len(lines) - end_line)]\n",
    "                results = ray.get(futures)\n",
    "                \n",
    "            sentences = list(chain.from_iterable(results))\n",
    "            sentence_list.append(sentences)\n",
    "    \n",
    "    sentence_list = list(chain.from_iterable(sentence_list))\n",
    "    \n",
    "    num += 1\n",
    "    print(str(num), end=\" \")  \n",
    "        \n",
    "    with open(post, 'a', encoding='utf-8') as fp:\n",
    "        fp.write(\"\\n\".join(sentence_list))"
   ]
  },
  {
   "cell_type": "code",
   "execution_count": null,
   "metadata": {},
   "outputs": [],
   "source": [
    "ray.shutdown()"
   ]
  },
  {
   "cell_type": "code",
   "execution_count": null,
   "metadata": {},
   "outputs": [],
   "source": [
    "corpus_list = glob(\"AIHUB_corpus/exploration/summary_of_thesis_materials_post/AIHUB_summary_of_thesis_materials_\" +\"*.txt\")"
   ]
  },
  {
   "cell_type": "code",
   "execution_count": null,
   "metadata": {},
   "outputs": [],
   "source": [
    "with open('AIHUB_corpus/duplicate/AIHUB_summary_of_thesis_materials.txt', 'w') as f:\n",
    "    for corpus in corpus_list:\n",
    "        with open(corpus) as text:\n",
    "            for line in text:\n",
    "                f.write(line)"
   ]
  },
  {
   "cell_type": "code",
   "execution_count": null,
   "metadata": {},
   "outputs": [],
   "source": [
    "with open('AIHUB_corpus/AIHUB_summary_of_thesis_materials.txt', 'w', encoding='utf-8') as f1:\n",
    "    with open('AIHUB_corpus/duplicate/AIHUB_summary_of_thesis_materials.txt', encoding='utf-8') as f2:\n",
    "        lines = f2.read().splitlines()\n",
    "        single_sentence_dict = dict.fromkeys(lines)\n",
    "        single_sentence_list = list(single_sentence_dict)\n",
    "        f1.write(\"\\n\".join(single_sentence_list))"
   ]
  }
 ],
 "metadata": {
  "kernelspec": {
   "display_name": "Python 3 (ipykernel)",
   "language": "python",
   "name": "python3"
  },
  "language_info": {
   "codemirror_mode": {
    "name": "ipython",
    "version": 3
   },
   "file_extension": ".py",
   "mimetype": "text/x-python",
   "name": "python",
   "nbconvert_exporter": "python",
   "pygments_lexer": "ipython3",
   "version": "3.11.2"
  }
 },
 "nbformat": 4,
 "nbformat_minor": 2
}
