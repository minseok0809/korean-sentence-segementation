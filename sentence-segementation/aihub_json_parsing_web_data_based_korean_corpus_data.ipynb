{
 "cells": [
  {
   "cell_type": "markdown",
   "metadata": {},
   "source": [
    "## AIHub Json Parsing"
   ]
  },
  {
   "cell_type": "markdown",
   "metadata": {},
   "source": [
    "### Development Environment"
   ]
  },
  {
   "cell_type": "code",
   "execution_count": null,
   "metadata": {},
   "outputs": [],
   "source": [
    "%pip install kss==3.7.3"
   ]
  },
  {
   "cell_type": "markdown",
   "metadata": {},
   "source": [
    "KSS Argument Error: Restart Jupyter Kernel Runtime"
   ]
  },
  {
   "cell_type": "code",
   "execution_count": null,
   "metadata": {},
   "outputs": [],
   "source": [
    "%pip install python-mecab-ko"
   ]
  },
  {
   "cell_type": "markdown",
   "metadata": {},
   "source": [
    "KSS 3.7.3 matches python-mecab-ko"
   ]
  },
  {
   "cell_type": "code",
   "execution_count": null,
   "metadata": {},
   "outputs": [],
   "source": [
    "%pip install pandas"
   ]
  },
  {
   "cell_type": "code",
   "execution_count": null,
   "metadata": {},
   "outputs": [],
   "source": [
    "%pip install ray"
   ]
  },
  {
   "cell_type": "code",
   "execution_count": null,
   "metadata": {},
   "outputs": [],
   "source": [
    "import re\n",
    "import os\n",
    "import kss\n",
    "import ray\n",
    "import json\n",
    "from mecab import MeCab\n",
    "import pandas as pd\n",
    "from glob import glob\n",
    "from itertools import chain"
   ]
  },
  {
   "cell_type": "code",
   "execution_count": null,
   "metadata": {},
   "outputs": [],
   "source": [
    "pwd"
   ]
  },
  {
   "cell_type": "markdown",
   "metadata": {},
   "source": [
    "### Function"
   ]
  },
  {
   "cell_type": "code",
   "execution_count": null,
   "metadata": {},
   "outputs": [],
   "source": [
    "def sorted_list(path_list):\n",
    "    path_list = sorted(path_list, reverse=False)\n",
    "    path_list = sorted(path_list, key=len)\n",
    "    \n",
    "    return path_list"
   ]
  },
  {
   "cell_type": "code",
   "execution_count": null,
   "metadata": {},
   "outputs": [],
   "source": [
    "def json_file_name_list(path_list):\n",
    "    \n",
    "    file_name  = [glob(i, recursive = True) for i in path_list][0]\n",
    "    file_name = sorted_list(file_name)\n",
    "    \n",
    "    return file_name"
   ]
  },
  {
   "cell_type": "code",
   "execution_count": null,
   "metadata": {},
   "outputs": [],
   "source": [
    "def train_valid_json_file_name_list(path_list):\n",
    "\n",
    "  train_file_name, valid_file_name = [glob(i, recursive = True) if 'rain' in i\n",
    "                                      else glob(i, recursive = True)\n",
    "                                      for i in path_list]\n",
    "\n",
    "  train_file_name = sorted_list(train_file_name)\n",
    "  valid_file_name = sorted_list(valid_file_name)\n",
    "    \n",
    "  return train_file_name, valid_file_name"
   ]
  },
  {
   "cell_type": "code",
   "execution_count": null,
   "metadata": {},
   "outputs": [],
   "source": [
    "def divide_source_file_list(l, n): \n",
    "    \n",
    "  for i in range(0, len(l), n): \n",
    "    yield l[i:i + n] "
   ]
  },
  {
   "cell_type": "code",
   "execution_count": null,
   "metadata": {},
   "outputs": [],
   "source": [
    "def txt_file_name_list(source_file_nested_list, folder_corpus_type_name):\n",
    "\n",
    "  text_file_name_list = [folder_corpus_type_name + str(i) + \".txt\"\n",
    "                              for i in range(len(source_file_nested_list))]\n",
    "    \n",
    "  return text_file_name_list"
   ]
  },
  {
   "cell_type": "code",
   "execution_count": null,
   "metadata": {},
   "outputs": [],
   "source": [
    "def post_txt_file_name_list(corpus_list):\n",
    "   \n",
    "  post_corpus_list = [corpus_file.replace(\"pro\", \"post\")\n",
    "                      for corpus_file in corpus_list]\n",
    "\n",
    "  post_corpus_list = sorted_list(post_corpus_list)\n",
    "\n",
    "  return post_corpus_list"
   ]
  },
  {
   "cell_type": "code",
   "execution_count": null,
   "metadata": {},
   "outputs": [],
   "source": [
    "def formal_preprocessing_text(source):\n",
    "    preprocessing_sentence_list = []\n",
    "    \n",
    "    source = source.strip()\n",
    "    # strip으로 앞뒤 공백 제거\n",
    "\n",
    "    source = re.sub(r\"\\[.*?\\]|\\{.*?\\}\", \"\", source)\n",
    "    # 기타 괄호 제거할 시 괄호 내부에 모든 텍스트 제거\n",
    "\n",
    "\n",
    "    try:\n",
    "        bracket_form = re.compile('\\(([^)]+)')\n",
    "        text_in_small_bracket = bracket_form.findall(source)\n",
    "    \n",
    "    \n",
    "        if type(text_in_small_bracket) == str:\n",
    "\n",
    "            text = text_in_small_bracket\n",
    "\n",
    "            text_size = len(text)\n",
    "            last_index = source.find(text) + len(text)\n",
    "            if len(source) >= last_index+1 and source[last_index-text_size-1] == '(' and source[last_index+1] == '.':\n",
    "                source = source.replace(source[last_index-text_size-1 : last_index+1] + \".\", \".\")\n",
    "\n",
    "            if len(text.split()) > 5 and bool(re.match(r'[.]|[!]|[?]', text[-1])) == True:\n",
    "                small_bracket = \"(\" + text + \")\"\n",
    "                source = source.replace(small_bracket, text)    \n",
    "\n",
    "        elif type(text_in_small_bracket) == list:\n",
    "\n",
    "            for text in text_in_small_bracket:\n",
    "\n",
    "                text_size = len(text)\n",
    "                last_index = source.find(text) + len(text)\n",
    "                if len(source) >= last_index+1 and source[last_index-text_size-1] == '(' and source[last_index+1] == '.':\n",
    "                    source = source.replace(source[last_index-text_size-1 : last_index+1] + \".\", \".\")\n",
    "\n",
    "                if len(text.split()) > 5 and bool(re.match(r'[.]|[!]|[?]', text[-1])) == True:\n",
    "                    small_bracket = \"(\" + text + \")\"\n",
    "                    source = source.replace(small_bracket, text)    \n",
    "\n",
    "    except:\n",
    "        pass\n",
    "\n",
    "        # 마침표(.) 앞에 소괄호')'가 있을시 소괄호 제거와 함께 소괄호 내부 텍스트 제거\n",
    "        # 소괄호 내부 텍스트가 5어절 이상이고 끝이 온점(.). 느낌표(!). 물음표(?)일 떼 소괄호 제거\n",
    "        \n",
    "    \n",
    "    if bool(re.match(r'[가나다라마바사아자차카타파하]+[.]', source[:2])) == True:\n",
    "        source = re.sub(source[:2], \"\", source)\n",
    "        \n",
    "    source = re.sub(r' [가나다라마바사아자차카타파하]+[.]', \"\", source)\n",
    "    # '가.', '나.', ... 형태의 문자열 제거  \n",
    "        \n",
    "    for sentence in kss.split_sentences(source, use_heuristic=False,\n",
    "                                        num_workers=32):\n",
    "    # KSS(Korean Sentence Segmentation)로 문장 분리 \n",
    "    # Formal articles (wiki, news, essays): recommend to False\n",
    "    \n",
    "\n",
    "        if re.search(\"^[A-Za-z0-9ㄱ-ㅎ가-힣一-鿕㐀-䶵豈-龎]\", sentence[0]) is not None and \\\n",
    "            bool(re.match(r'[.]|[!]|[?]', sentence[-1])) == True and \\\n",
    "            len(sentence.split()) > 5:\n",
    "            # 문장의 시작이 특수문자인 문장(영어 대소문자, 한글, 한자, 숫자, -, + 제외\n",
    "            # 문장의 끝이 온점(.). 느낌표(!). 물음표(?)가 아닌 문장 제외\n",
    "            # 다섯 어절 이하 문장 제외\n",
    "\n",
    "\n",
    "            if ']' in sentence and '[' not in sentence:\n",
    "                sentence  = re.sub(r\".*?]\", \"\", sentence)    \n",
    "            # 중괄호 앞에 있는 '성명/직함]' 형태 제거\n",
    "\n",
    "\n",
    "            sentence = re.sub(r\"[^A-Za-z0-9ㄱ-ㅎ가-힣一-鿕㐀-䶵豈-龎()+-.,]\", \" \", sentence)\n",
    "            # 특수문자 제거(영어 대소문자, 한글, 한자, 숫자, -, +, 소괄호, 마침표, 쉼표, 제외)\n",
    "\n",
    "            sentence = sentence.strip()\n",
    "            # strip으로 앞뒤 공백 제거\n",
    "\n",
    "            total_length = len(sentence.replace(\" \" , \"\"))\n",
    "            hangeul_length = len(re.sub(r\"[^ㄱ-ㅣ가-힣\\s]\", \"\", sentence.replace(\" \" , \"\")))\n",
    "            hangeul_ratio = hangeul_length / total_length\n",
    "            if hangeul_ratio >= 0.5:\n",
    "            # 한글이 아닌 문자열이 50% 이상이 넘은 문장 제외\n",
    "\n",
    "                for sentence2 in kss.split_sentences(sentence, use_heuristic=False,\n",
    "                                        num_workers=32):\n",
    "                    for sentence3 in kss.split_sentences(sentence2, use_heuristic=False,\n",
    "                                                         num_workers=32):\n",
    "                        preprocessing_sentence_list.append(sentence3)\n",
    "\n",
    "            # 마지막에 KSS(Korean Sentence Segmentation)로 문장 분리 2번 실행\n",
    "\n",
    "  \n",
    "    return preprocessing_sentence_list"
   ]
  },
  {
   "cell_type": "markdown",
   "metadata": {},
   "source": [
    "### AIHUB 대규모 웹데이터 기반 한국어 말뭉치 데이터"
   ]
  },
  {
   "cell_type": "markdown",
   "metadata": {},
   "source": [
    "[Source](https://www.aihub.or.kr/aihubdata/data/view.do?currMenu=115&topMenu=100&aihubDataSe=realm&dataSetSn=624)"
   ]
  },
  {
   "cell_type": "code",
   "execution_count": null,
   "metadata": {},
   "outputs": [],
   "source": [
    "path_list = ['AIHUB_웹데이터 기반 한국어 말뭉치 데이터/Training/원천데이터/TS1/IT_과학/' + '**/*.json',\n",
    "'AIHUB_웹데이터 기반 한국어 말뭉치 데이터/Training/원천데이터/TS1/건강/' + '**/*.json',\n",
    "'AIHUB_웹데이터 기반 한국어 말뭉치 데이터/Training/원천데이터/TS1/경제/' + '**/*.json',\n",
    "'AIHUB_웹데이터 기반 한국어 말뭉치 데이터/Training/원천데이터/TS1/교육/' + '**/*.json',\n",
    "'AIHUB_웹데이터 기반 한국어 말뭉치 데이터/Training/원천데이터/TS1/국제/' + '**/*.json',\n",
    "'AIHUB_웹데이터 기반 한국어 말뭉치 데이터/Training/원천데이터/TS1/라이프스타일/' + '**/*.json',\n",
    "'AIHUB_웹데이터 기반 한국어 말뭉치 데이터/Training/원천데이터/TS1/문화/' + '**/*.json',\n",
    "'AIHUB_웹데이터 기반 한국어 말뭉치 데이터/Training/원천데이터/TS1/사건사고/' + '**/*.json',\n",
    "'AIHUB_웹데이터 기반 한국어 말뭉치 데이터/Training/원천데이터/TS1/사회일반/' + '**/*.json',\n",
    "'AIHUB_웹데이터 기반 한국어 말뭉치 데이터/Training/원천데이터/TS1/산업/' + '**/*.json',\n",
    "'AIHUB_웹데이터 기반 한국어 말뭉치 데이터/Training/원천데이터/TS1/스포츠/' + '**/*.json',\n",
    "'AIHUB_웹데이터 기반 한국어 말뭉치 데이터/Training/원천데이터/TS1/여성복지/' + '**/*.json',\n",
    "'AIHUB_웹데이터 기반 한국어 말뭉치 데이터/Training/원천데이터/TS1/여행레저/' + '**/*.json',\n",
    "'AIHUB_웹데이터 기반 한국어 말뭉치 데이터/Training/원천데이터/TS1/연예/' + '**/*.json',\n",
    "'AIHUB_웹데이터 기반 한국어 말뭉치 데이터/Training/원천데이터/TS1/정치/' + '**/*.json',\n",
    "'AIHUB_웹데이터 기반 한국어 말뭉치 데이터/Training/원천데이터/TS1/지역/' + '**/*.json',\n",
    "'AIHUB_웹데이터 기반 한국어 말뭉치 데이터/Training/원천데이터/TS1/취미/' + '**/*.json',\n",
    "'AIHUB_웹데이터 기반 한국어 말뭉치 데이터/Validation/원천데이터/VS1/IT_과학/' + '**/*.json',\n",
    "'AIHUB_웹데이터 기반 한국어 말뭉치 데이터/Validation/원천데이터/VS1/건강/' + '**/*.json',\n",
    "'AIHUB_웹데이터 기반 한국어 말뭉치 데이터/Validation/원천데이터/VS1/경제/' + '**/*.json',\n",
    "'AIHUB_웹데이터 기반 한국어 말뭉치 데이터/Validation/원천데이터/VS1/교육/' + '**/*.json',\n",
    "'AIHUB_웹데이터 기반 한국어 말뭉치 데이터/Validation/원천데이터/VS1/국제/' + '**/*.json',\n",
    "'AIHUB_웹데이터 기반 한국어 말뭉치 데이터/Validation/원천데이터/VS1/라이프스타일/' + '**/*.json',\n",
    "'AIHUB_웹데이터 기반 한국어 말뭉치 데이터/Validation/원천데이터/VS1/문화/' + '**/*.json',\n",
    "'AIHUB_웹데이터 기반 한국어 말뭉치 데이터/Validation/원천데이터/VS1/사건사고/' + '**/*.json',\n",
    "'AIHUB_웹데이터 기반 한국어 말뭉치 데이터/Validation/원천데이터/VS1/사회일반/' + '**/*.json',\n",
    "'AIHUB_웹데이터 기반 한국어 말뭉치 데이터/Validation/원천데이터/VS1/산업/' + '**/*.json',\n",
    "'AIHUB_웹데이터 기반 한국어 말뭉치 데이터/Validation/원천데이터/VS1/스포츠/' + '**/*.json',\n",
    "'AIHUB_웹데이터 기반 한국어 말뭉치 데이터/Validation/원천데이터/VS1/여성복지/' + '**/*.json',\n",
    "'AIHUB_웹데이터 기반 한국어 말뭉치 데이터/Validation/원천데이터/VS1/여행레저/' + '**/*.json',\n",
    "'AIHUB_웹데이터 기반 한국어 말뭉치 데이터/Validation/원천데이터/VS1/연예/' + '**/*.json',\n",
    "'AIHUB_웹데이터 기반 한국어 말뭉치 데이터/Validation/원천데이터/VS1/정치/' + '**/*.json',\n",
    "'AIHUB_웹데이터 기반 한국어 말뭉치 데이터/Validation/원천데이터/VS1/지역/' + '**/*.json',\n",
    "'AIHUB_웹데이터 기반 한국어 말뭉치 데이터/Validation/원천데이터/VS1/취미/' + '**/*.json',]\n",
    "\n",
    "train_file_name_01 = glob(path_list[0], recursive = True)\n",
    "train_file_name_02 = glob(path_list[1], recursive = True)\n",
    "train_file_name_03 = glob(path_list[2], recursive = True)\n",
    "train_file_name_04 = glob(path_list[3], recursive = True)\n",
    "train_file_name_05 = glob(path_list[4], recursive = True)\n",
    "train_file_name_06 = glob(path_list[5], recursive = True)\n",
    "train_file_name_07 = glob(path_list[6], recursive = True)\n",
    "train_file_name_08 = glob(path_list[7], recursive = True)\n",
    "train_file_name_09 = glob(path_list[8], recursive = True)\n",
    "train_file_name_10 = glob(path_list[9], recursive = True)\n",
    "train_file_name_11 = glob(path_list[10], recursive = True)\n",
    "train_file_name_12 = glob(path_list[11], recursive = True)\n",
    "train_file_name_13 = glob(path_list[12], recursive = True)\n",
    "train_file_name_14 = glob(path_list[13], recursive = True)\n",
    "train_file_name_15 = glob(path_list[14], recursive = True)\n",
    "train_file_name_16 = glob(path_list[15], recursive = True)\n",
    "train_file_name_17 = glob(path_list[16], recursive = True)\n",
    "\n",
    "valid_file_name_01 = glob(path_list[17], recursive = True)\n",
    "valid_file_name_02 = glob(path_list[18], recursive = True)\n",
    "valid_file_name_03 = glob(path_list[19], recursive = True)\n",
    "valid_file_name_04 = glob(path_list[20], recursive = True)\n",
    "valid_file_name_05 = glob(path_list[21], recursive = True)\n",
    "valid_file_name_06 = glob(path_list[22], recursive = True)\n",
    "valid_file_name_07 = glob(path_list[23], recursive = True)\n",
    "valid_file_name_08 = glob(path_list[24], recursive = True)\n",
    "valid_file_name_09 = glob(path_list[25], recursive = True)\n",
    "valid_file_name_10 = glob(path_list[26], recursive = True)\n",
    "valid_file_name_11 = glob(path_list[27], recursive = True)\n",
    "valid_file_name_12 = glob(path_list[28], recursive = True)\n",
    "valid_file_name_13 = glob(path_list[29], recursive = True)\n",
    "valid_file_name_14 = glob(path_list[30], recursive = True)\n",
    "valid_file_name_15 = glob(path_list[31], recursive = True)\n",
    "valid_file_name_16 = glob(path_list[32], recursive = True)\n",
    "valid_file_name_17 = glob(path_list[33], recursive = True)"
   ]
  },
  {
   "cell_type": "code",
   "execution_count": null,
   "metadata": {},
   "outputs": [],
   "source": [
    "the_number_of_file = len(train_file_name_01) \n",
    "print(\"The number of file: \", the_number_of_file)\n",
    "n = the_number_of_file // 10\n",
    "print(\"The number of list element:\", n)\n",
    "train_file_nested_list_01 = list(divide_source_file_list(train_file_name_01, n))\n",
    "train_file_nested_list_02 = list(divide_source_file_list(train_file_name_02, n))\n",
    "train_file_nested_list_03 = list(divide_source_file_list(train_file_name_03, n))\n",
    "train_file_nested_list_04 = list(divide_source_file_list(train_file_name_04, n))\n",
    "train_file_nested_list_05 = list(divide_source_file_list(train_file_name_05, n))\n",
    "train_file_nested_list_06 = list(divide_source_file_list(train_file_name_06, n))\n",
    "train_file_nested_list_07 = list(divide_source_file_list(train_file_name_07, n))\n",
    "train_file_nested_list_08 = list(divide_source_file_list(train_file_name_08, n))\n",
    "train_file_nested_list_09 = list(divide_source_file_list(train_file_name_09, n))\n",
    "train_file_nested_list_10 = list(divide_source_file_list(train_file_name_10, n))\n",
    "train_file_nested_list_11 = list(divide_source_file_list(train_file_name_11, n))\n",
    "train_file_nested_list_12 = list(divide_source_file_list(train_file_name_12, n))\n",
    "train_file_nested_list_13 = list(divide_source_file_list(train_file_name_13, n))\n",
    "train_file_nested_list_14 = list(divide_source_file_list(train_file_name_14, n))\n",
    "train_file_nested_list_15 = list(divide_source_file_list(train_file_name_15, n))\n",
    "train_file_nested_list_16 = list(divide_source_file_list(train_file_name_16, n))\n",
    "train_file_nested_list_17 = list(divide_source_file_list(train_file_name_17, n))\n",
    "\n",
    "valid_file_nested_list_01 = list(divide_source_file_list(valid_file_name_01, n))\n",
    "valid_file_nested_list_02 = list(divide_source_file_list(valid_file_name_02, n))\n",
    "valid_file_nested_list_03 = list(divide_source_file_list(valid_file_name_03, n))\n",
    "valid_file_nested_list_04 = list(divide_source_file_list(valid_file_name_04, n))\n",
    "valid_file_nested_list_05 = list(divide_source_file_list(valid_file_name_05, n))\n",
    "valid_file_nested_list_06 = list(divide_source_file_list(valid_file_name_06, n))\n",
    "valid_file_nested_list_07 = list(divide_source_file_list(valid_file_name_07, n))\n",
    "valid_file_nested_list_08 = list(divide_source_file_list(valid_file_name_08, n))\n",
    "valid_file_nested_list_09 = list(divide_source_file_list(valid_file_name_09, n))\n",
    "valid_file_nested_list_10 = list(divide_source_file_list(valid_file_name_10, n))\n",
    "valid_file_nested_list_11 = list(divide_source_file_list(valid_file_name_11, n))\n",
    "valid_file_nested_list_12 = list(divide_source_file_list(valid_file_name_12, n))\n",
    "valid_file_nested_list_13 = list(divide_source_file_list(valid_file_name_13, n))\n",
    "valid_file_nested_list_14 = list(divide_source_file_list(valid_file_name_14, n))\n",
    "valid_file_nested_list_15 = list(divide_source_file_list(valid_file_name_15, n))\n",
    "valid_file_nested_list_16 = list(divide_source_file_list(valid_file_name_16, n))\n",
    "valid_file_nested_list_17 = list(divide_source_file_list(valid_file_name_17, n))"
   ]
  },
  {
   "cell_type": "code",
   "execution_count": null,
   "metadata": {},
   "outputs": [],
   "source": [
    "train_text_file_name_list_01 = txt_file_name_list(train_file_nested_list_01,\n",
    "                                                               \"exploration/web_data_based_korean_corpus_data_pro/AIHUB_web_data_based_korean_corpus_data_01_IT_과학_train_\")\n",
    "train_text_file_name_list_02 = txt_file_name_list(train_file_nested_list_02,\n",
    "                                                               \"exploration/web_data_based_korean_corpus_data_pro/AIHUB_web_data_based_korean_corpus_data_02_건강_train_\")\n",
    "train_text_file_name_list_03 = txt_file_name_list(train_file_nested_list_03,\n",
    "                                                               \"exploration/web_data_based_korean_corpus_data_pro/AIHUB_web_data_based_korean_corpus_data_03_경제_train_\")\n",
    "train_text_file_name_list_04 = txt_file_name_list(train_file_nested_list_04,\n",
    "                                                               \"exploration/web_data_based_korean_corpus_data_pro/AIHUB_web_data_based_korean_corpus_data_04_교육_train_\")\n",
    "train_text_file_name_list_05 = txt_file_name_list(train_file_nested_list_05,\n",
    "                                                               \"exploration/web_data_based_korean_corpus_data_pro/AIHUB_web_data_based_korean_corpus_data_05_국제_train_\")\n",
    "train_text_file_name_list_06 = txt_file_name_list(train_file_nested_list_06,\n",
    "                                                               \"exploration/web_data_based_korean_corpus_data_pro/AIHUB_web_data_based_korean_corpus_data_06_라이프스타일_train_\")\n",
    "train_text_file_name_list_07 = txt_file_name_list(train_file_nested_list_07,\n",
    "                                                               \"exploration/web_data_based_korean_corpus_data_pro/AIHUB_web_data_based_korean_corpus_data_07_문화_train_\")\n",
    "train_text_file_name_list_08 = txt_file_name_list(train_file_nested_list_08,\n",
    "                                                               \"exploration/web_data_based_korean_corpus_data_pro/AIHUB_web_data_based_korean_corpus_data_08_사건사고_train_\")\n",
    "train_text_file_name_list_09 = txt_file_name_list(train_file_nested_list_09,\n",
    "                                                               \"exploration/web_data_based_korean_corpus_data_pro/AIHUB_web_data_based_korean_corpus_data_09_사회일반_train_\")\n",
    "train_text_file_name_list_10 = txt_file_name_list(train_file_nested_list_10,\n",
    "                                                               \"exploration/web_data_based_korean_corpus_data_pro/AIHUB_web_data_based_korean_corpus_data_10_산업_train_\")\n",
    "train_text_file_name_list_11 = txt_file_name_list(train_file_nested_list_11,\n",
    "                                                               \"exploration/web_data_based_korean_corpus_data_pro/AIHUB_web_data_based_korean_corpus_data_11_스포츠_train_\")\n",
    "train_text_file_name_list_12 = txt_file_name_list(train_file_nested_list_12,\n",
    "                                                               \"exploration/web_data_based_korean_corpus_data_pro/AIHUB_web_data_based_korean_corpus_data_12_여성복지_train_\")\n",
    "train_text_file_name_list_13 = txt_file_name_list(train_file_nested_list_13,\n",
    "                                                               \"exploration/web_data_based_korean_corpus_data_pro/AIHUB_web_data_based_korean_corpus_data_13_여행레저_train_\")\n",
    "train_text_file_name_list_14 = txt_file_name_list(train_file_nested_list_14,\n",
    "                                                               \"exploration/web_data_based_korean_corpus_data_pro/AIHUB_web_data_based_korean_corpus_data_14_연예_train_\")\n",
    "train_text_file_name_list_15 = txt_file_name_list(train_file_nested_list_15,\n",
    "                                                               \"exploration/web_data_based_korean_corpus_data_pro/AIHUB_web_data_based_korean_corpus_data_15_정치_train_\")\n",
    "train_text_file_name_list_16 = txt_file_name_list(train_file_nested_list_16,\n",
    "                                                               \"exploration/web_data_based_korean_corpus_data_pro/AIHUB_web_data_based_korean_corpus_data_16_지역_train_\")\n",
    "train_text_file_name_list_17 = txt_file_name_list(train_file_nested_list_17,\n",
    "                                                               \"exploration/web_data_based_korean_corpus_data_pro/AIHUB_web_data_based_korean_corpus_data_17_취미_train_\")\n",
    "valid_text_file_name_list_01 = txt_file_name_list(valid_file_nested_list_01,\n",
    "                                                               \"explorationo/web_data_based_korean_corpus_data_pro/AIHUB_web_data_based_korean_corpus_data_01_IT_과학_valid_\")\n",
    "valid_text_file_name_list_02 = txt_file_name_list(valid_file_nested_list_02,\n",
    "                                                               \"exploration/web_data_based_korean_corpus_data_pro/AIHUB_web_data_based_korean_corpus_data_02_건강_valid_\")\n",
    "valid_text_file_name_list_03 = txt_file_name_list(valid_file_nested_list_03,\n",
    "                                                               \"exploration/web_data_based_korean_corpus_data_pro/AIHUB_web_data_based_korean_corpus_data_03_경제_valid_\")\n",
    "valid_text_file_name_list_04 = txt_file_name_list(valid_file_nested_list_04,\n",
    "                                                               \"exploration/web_data_based_korean_corpus_data_pro/AIHUB_web_data_based_korean_corpus_data_04_교육_valid_\")\n",
    "valid_text_file_name_list_05 = txt_file_name_list(valid_file_nested_list_05,\n",
    "                                                               \"exploration/web_data_based_korean_corpus_data_pro/AIHUB_web_data_based_korean_corpus_data_05_국제_valid_\")\n",
    "valid_text_file_name_list_06 = txt_file_name_list(valid_file_nested_list_06,\n",
    "                                                               \"exploration/web_data_based_korean_corpus_data_pro/AIHUB_web_data_based_korean_corpus_data_06_라이프스타일_valid_\")\n",
    "valid_text_file_name_list_07 = txt_file_name_list(valid_file_nested_list_07,\n",
    "                                                               \"exploration/web_data_based_korean_corpus_data_pro/AIHUB_web_data_based_korean_corpus_data_07_문화_valid_\")\n",
    "valid_text_file_name_list_08 = txt_file_name_list(valid_file_nested_list_08,\n",
    "                                                               \"exploration/web_data_based_korean_corpus_data_pro/AIHUB_web_data_based_korean_corpus_data_08_사건사고_valid_\")\n",
    "valid_text_file_name_list_09 = txt_file_name_list(valid_file_nested_list_09,\n",
    "                                                               \"exploration/web_data_based_korean_corpus_data_pro/AIHUB_web_data_based_korean_corpus_data_09_사회일반_valid_\")\n",
    "valid_text_file_name_list_10 = txt_file_name_list(valid_file_nested_list_10,\n",
    "                                                               \"exploration/web_data_based_korean_corpus_data_pro/AIHUB_web_data_based_korean_corpus_data_10_산업_valid_\")\n",
    "valid_text_file_name_list_11 = txt_file_name_list(valid_file_nested_list_11,\n",
    "                                                               \"explorationo/web_data_based_korean_corpus_data_pro/AIHUB_web_data_based_korean_corpus_data_11_스포츠_valid_\")\n",
    "valid_text_file_name_list_12 = txt_file_name_list(valid_file_nested_list_12,\n",
    "                                                               \"exploration/web_data_based_korean_corpus_data_pro/AIHUB_web_data_based_korean_corpus_data_12_여성복지_valid_\")\n",
    "valid_text_file_name_list_13 = txt_file_name_list(valid_file_nested_list_13,\n",
    "                                                               \"exploration/web_data_based_korean_corpus_data_pro/AIHUB_web_data_based_korean_corpus_data_13_여행레저_valid_\")\n",
    "valid_text_file_name_list_14 = txt_file_name_list(valid_file_nested_list_14,\n",
    "                                                               \"exploration/web_data_based_korean_corpus_data_pro/AIHUB_web_data_based_korean_corpus_data_14_연예_valid_\")\n",
    "valid_text_file_name_list_15 = txt_file_name_list(valid_file_nested_list_15,\n",
    "                                                               \"exploration/web_data_based_korean_corpus_data_pro/AIHUB_web_data_based_korean_corpus_data_15_정치_valid_\")\n",
    "valid_text_file_name_list_16 = txt_file_name_list(valid_file_nested_list_16,\n",
    "                                                               \"exploration/web_data_based_korean_corpus_data_pro/AIHUB_web_data_based_korean_corpus_data_16_지역_valid_\")\n",
    "valid_text_file_name_list_17 = txt_file_name_list(valid_file_nested_list_17,\n",
    "                                                               \"exploration/web_data_based_korean_corpus_data_pro/AIHUB_web_data_based_korean_corpus_data_17_취미_valid_\")\n",
    "the_numer_of_txt_file = len(train_text_file_name_list_01) + len(train_text_file_name_list_02) + \\\n",
    "    len(train_text_file_name_list_03) + len(train_text_file_name_list_04) + \\\n",
    "    len(train_text_file_name_list_05) + len(train_text_file_name_list_06) + \\\n",
    "    len(train_text_file_name_list_07) + len(train_text_file_name_list_08) + \\\n",
    "    len(train_text_file_name_list_09) + len(train_text_file_name_list_10) +  \\\n",
    "    len(train_text_file_name_list_11) + len(train_text_file_name_list_12) + \\\n",
    "    len(train_text_file_name_list_13) + len(train_text_file_name_list_14) +  \\\n",
    "    len(train_text_file_name_list_15) + len(train_text_file_name_list_16) +  \\\n",
    "    len(train_text_file_name_list_17) + \\\n",
    "    len(valid_text_file_name_list_01) + len(valid_text_file_name_list_02) + \\\n",
    "    len(valid_text_file_name_list_03) + len(valid_text_file_name_list_04) + \\\n",
    "    len(valid_text_file_name_list_05) + len(valid_text_file_name_list_06) + \\\n",
    "    len(valid_text_file_name_list_07) + len(valid_text_file_name_list_08) + \\\n",
    "    len(valid_text_file_name_list_09) + len(valid_text_file_name_list_10) +  \\\n",
    "    len(valid_text_file_name_list_11) + len(valid_text_file_name_list_12) + \\\n",
    "    len(valid_text_file_name_list_13) + len(valid_text_file_name_list_14) +  \\\n",
    "    len(valid_text_file_name_list_15) + len(valid_text_file_name_list_16) +  \\\n",
    "    len(valid_text_file_name_list_17)\n",
    "    \n",
    "print(\"The number of txt file:\", the_numer_of_txt_file)"
   ]
  },
  {
   "cell_type": "code",
   "execution_count": null,
   "metadata": {},
   "outputs": [],
   "source": [
    "def list_length_checker(source_file_nested_list, batch_size):\n",
    "    \n",
    "    the_number_of_total_txt_file = 0\n",
    "    the_number_of_txt_file_list = []\n",
    "    temp_nested_index = []\n",
    "    \n",
    "    for source_file_list in source_file_nested_list:   \n",
    "        temp_index = []\n",
    "        for i in range(len(source_file_list)):\n",
    "            \n",
    "            if type(source_file_list) == str:\n",
    "                source_file = source_file_list\n",
    "\n",
    "            elif type(source_file_list) == list:\n",
    "                source_file = source_file_list[i]\n",
    "            \n",
    "            with open(source_file, 'r', encoding='utf-8') as one_json_file:\n",
    "                one_json_sample = json.load(one_json_file) \n",
    "\n",
    "            source_list = list(pd.DataFrame(one_json_sample['SJML']['text'])['content'])\n",
    "\n",
    "            the_number_of_txt_file = ((len(source_list) // batch_size) + 1)\n",
    "\n",
    "            if len(source_list) >= 1000:\n",
    "                print(\"File:\", source_file)    \n",
    "                print(\"Index:\", i, \"  \", \"Length of Source List:\", len(source_list), \\\n",
    "                    \"  \", \"The number of txt file:\", the_number_of_txt_file, \"\\n\")\n",
    "                the_number_of_txt_file_list.append(the_number_of_txt_file)\n",
    "                the_number_of_total_txt_file  += the_number_of_txt_file\n",
    "            else:\n",
    "                the_number_of_total_txt_file  += 1\n",
    "                the_number_of_txt_file_list.append(1)\n",
    "                if i > 0 and the_number_of_file % i == 0:\n",
    "                    temp_index.append(i)\n",
    "                    try:\n",
    "                        if i == temp_nested_index[0][0] and len(temp_nested_index) <= 1:\n",
    "                            print(\"[For Example]\")\n",
    "                            print(\"This is not subject of batch. It's small source list.\")                            \n",
    "                            print(\"File:\", source_file)\n",
    "                            print(\"Length of Source List:\", len(source_list), \n",
    "                                    \"  \", \"The number of txt file:\", 1, \"\\n\") \n",
    "                    except:\n",
    "                        pass\n",
    "\n",
    "    print(\"Batch Size:\", batch_size)\n",
    "    print(\"The number of txt file:\", the_number_of_total_txt_file)\n",
    "    \n",
    "    return the_number_of_total_txt_file, the_number_of_txt_file_list"
   ]
  },
  {
   "cell_type": "code",
   "execution_count": null,
   "metadata": {},
   "outputs": [],
   "source": [
    "def make_corpus_txt_with_batch_list(source_file_nested_list,\n",
    "                                    text_file_name_list,\n",
    "                                    batch_size, the_number_of_total_txt_file_list):\n",
    "\n",
    "  print(\"[Size]\")\n",
    "  print(\"The number of preprocessing corpus: \" + str(sum(the_number_of_total_txt_file_list)))\n",
    "  print(\"\\n[Order]\")\n",
    "  num = 0\n",
    "  for i in range(len(source_file_nested_list)):\n",
    "    source_file_list = source_file_nested_list[i]\n",
    "    \n",
    "    for j in range(len(source_file_list)):\n",
    "      \n",
    "      if type(source_file_list) == str:\n",
    "        source_file = source_file_list\n",
    "\n",
    "      elif type(source_file_list) == list:\n",
    "        source_file = source_file_list[j]\n",
    "\n",
    "      with open(source_file, 'r', encoding='utf-8') as one_json_file:\n",
    "        one_json_sample = json.load(one_json_file)\n",
    "\n",
    "      source_list = list(pd.DataFrame(one_json_sample['SJML']['text'])['content'])\n",
    "      \n",
    "      n = batch_size\n",
    "      source_batch_list = list(divide_source_file_list(source_list, n))\n",
    "        \n",
    "      for source_list in source_batch_list:\n",
    "          num += 1\n",
    "          print(str(num), end=\" \")  \n",
    "          \n",
    "          with open(os.path.join('AIHUB_corpus/' + text_file_name_list[i][:-4] + \"_\" + str(num) + \".txt\"), \"a\", encoding='utf-8') as fp:        \n",
    "              fp.write(\"\\n\".join(source_list))   \n",
    "    "
   ]
  },
  {
   "cell_type": "code",
   "execution_count": null,
   "metadata": {},
   "outputs": [],
   "source": [
    "batch_size = 1000\n",
    "the_number_of_train_txt_file_01, the_number_of_train_txt_file_list_01 = list_length_checker(train_file_nested_list_01, batch_size)"
   ]
  },
  {
   "cell_type": "code",
   "execution_count": null,
   "metadata": {},
   "outputs": [],
   "source": [
    "batch_size = 1000\n",
    "the_number_of_train_txt_file_02, the_number_of_train_txt_file_list_02 = list_length_checker(train_file_nested_list_02, batch_size)"
   ]
  },
  {
   "cell_type": "code",
   "execution_count": null,
   "metadata": {},
   "outputs": [],
   "source": [
    "batch_size = 1000\n",
    "the_number_of_train_txt_file_03, the_number_of_train_txt_file_list_03 = list_length_checker(train_file_nested_list_03, batch_size)"
   ]
  },
  {
   "cell_type": "code",
   "execution_count": null,
   "metadata": {},
   "outputs": [],
   "source": [
    "batch_size = 1000\n",
    "the_number_of_train_txt_file_04, the_number_of_train_txt_file_list_04 = list_length_checker(train_file_nested_list_04, batch_size)"
   ]
  },
  {
   "cell_type": "code",
   "execution_count": null,
   "metadata": {},
   "outputs": [],
   "source": [
    "batch_size = 1000\n",
    "the_number_of_train_txt_file_05, the_number_of_train_txt_file_list_05 = list_length_checker(train_file_nested_list_05, batch_size)"
   ]
  },
  {
   "cell_type": "code",
   "execution_count": null,
   "metadata": {},
   "outputs": [],
   "source": [
    "batch_size = 1000\n",
    "the_number_of_train_txt_file_06, the_number_of_train_txt_file_list_06 = list_length_checker(train_file_nested_list_06, batch_size)"
   ]
  },
  {
   "cell_type": "code",
   "execution_count": null,
   "metadata": {},
   "outputs": [],
   "source": [
    "batch_size = 1000\n",
    "the_number_of_train_txt_file_07, the_number_of_train_txt_file_list_07 = list_length_checker(train_file_nested_list_07, batch_size)"
   ]
  },
  {
   "cell_type": "code",
   "execution_count": null,
   "metadata": {},
   "outputs": [],
   "source": [
    "batch_size = 1000\n",
    "the_number_of_train_txt_file_08, the_number_of_train_txt_file_list_08 = list_length_checker(train_file_nested_list_08, batch_size)"
   ]
  },
  {
   "cell_type": "code",
   "execution_count": null,
   "metadata": {},
   "outputs": [],
   "source": [
    "batch_size = 1000\n",
    "the_number_of_train_txt_file_09, the_number_of_train_txt_file_list_09 = list_length_checker(train_file_nested_list_09, batch_size)"
   ]
  },
  {
   "cell_type": "code",
   "execution_count": null,
   "metadata": {},
   "outputs": [],
   "source": [
    "batch_size = 1000\n",
    "the_number_of_train_txt_file_10, the_number_of_train_txt_file_list_10 = list_length_checker(train_file_nested_list_10, batch_size)"
   ]
  },
  {
   "cell_type": "code",
   "execution_count": null,
   "metadata": {},
   "outputs": [],
   "source": [
    "batch_size = 1000\n",
    "the_number_of_train_txt_file_11, the_number_of_train_txt_file_list_11 = list_length_checker(train_file_nested_list_11, batch_size)"
   ]
  },
  {
   "cell_type": "code",
   "execution_count": null,
   "metadata": {},
   "outputs": [],
   "source": [
    "batch_size = 1000\n",
    "the_number_of_train_txt_file_12, the_number_of_train_txt_file_list_12 = list_length_checker(train_file_nested_list_12, batch_size)"
   ]
  },
  {
   "cell_type": "code",
   "execution_count": null,
   "metadata": {},
   "outputs": [],
   "source": [
    "batch_size = 1000\n",
    "the_number_of_train_txt_file_13, the_number_of_train_txt_file_list_13 = list_length_checker(train_file_nested_list_13, batch_size)"
   ]
  },
  {
   "cell_type": "code",
   "execution_count": null,
   "metadata": {
    "scrolled": true
   },
   "outputs": [],
   "source": [
    "batch_size = 1000\n",
    "the_number_of_train_txt_file_14, the_number_of_train_txt_file_list_14 = list_length_checker(train_file_nested_list_14, batch_size)"
   ]
  },
  {
   "cell_type": "code",
   "execution_count": null,
   "metadata": {},
   "outputs": [],
   "source": [
    "batch_size = 1000\n",
    "the_number_of_train_txt_file_15, the_number_of_train_txt_file_list_15 = list_length_checker(train_file_nested_list_15, batch_size)"
   ]
  },
  {
   "cell_type": "code",
   "execution_count": null,
   "metadata": {},
   "outputs": [],
   "source": [
    "batch_size = 1000\n",
    "the_number_of_train_txt_file_16, the_number_of_train_txt_file_list_16 = list_length_checker(train_file_nested_list_16, batch_size)"
   ]
  },
  {
   "cell_type": "code",
   "execution_count": null,
   "metadata": {},
   "outputs": [],
   "source": [
    "batch_size = 1000\n",
    "the_number_of_train_txt_file_17, the_number_of_train_txt_file_list_17 = list_length_checker(train_file_nested_list_17, batch_size)"
   ]
  },
  {
   "cell_type": "code",
   "execution_count": null,
   "metadata": {},
   "outputs": [],
   "source": [
    "batch_size = 1000\n",
    "the_number_of_valid_txt_file_01, the_number_of_valid_txt_file_list_01 = list_length_checker(valid_file_nested_list_01, batch_size)"
   ]
  },
  {
   "cell_type": "code",
   "execution_count": null,
   "metadata": {},
   "outputs": [],
   "source": [
    "batch_size = 1000\n",
    "the_number_of_valid_txt_file_02, the_number_of_valid_txt_file_list_02 = list_length_checker(valid_file_nested_list_02, batch_size)"
   ]
  },
  {
   "cell_type": "code",
   "execution_count": null,
   "metadata": {},
   "outputs": [],
   "source": [
    "batch_size = 1000\n",
    "the_number_of_valid_txt_file_03, the_number_of_valid_txt_file_list_03 = list_length_checker(valid_file_nested_list_03, batch_size)"
   ]
  },
  {
   "cell_type": "code",
   "execution_count": null,
   "metadata": {},
   "outputs": [],
   "source": [
    "batch_size = 1000\n",
    "the_number_of_valid_txt_file_04, the_number_of_valid_txt_file_list_04 = list_length_checker(valid_file_nested_list_04, batch_size)"
   ]
  },
  {
   "cell_type": "code",
   "execution_count": null,
   "metadata": {},
   "outputs": [],
   "source": [
    "batch_size = 1000\n",
    "the_number_of_valid_txt_file_05, the_number_of_valid_txt_file_list_05 = list_length_checker(valid_file_nested_list_05, batch_size)"
   ]
  },
  {
   "cell_type": "code",
   "execution_count": null,
   "metadata": {},
   "outputs": [],
   "source": [
    "batch_size = 1000\n",
    "the_number_of_valid_txt_file_06, the_number_of_valid_txt_file_list_06 = list_length_checker(valid_file_nested_list_06, batch_size)"
   ]
  },
  {
   "cell_type": "code",
   "execution_count": null,
   "metadata": {},
   "outputs": [],
   "source": [
    "batch_size = 1000\n",
    "the_number_of_valid_txt_file_07, the_number_of_valid_txt_file_list_07 = list_length_checker(valid_file_nested_list_07, batch_size)"
   ]
  },
  {
   "cell_type": "code",
   "execution_count": null,
   "metadata": {},
   "outputs": [],
   "source": [
    "batch_size = 1000\n",
    "the_number_of_valid_txt_file_08, the_number_of_valid_txt_file_list_08 = list_length_checker(valid_file_nested_list_08, batch_size)"
   ]
  },
  {
   "cell_type": "code",
   "execution_count": null,
   "metadata": {},
   "outputs": [],
   "source": [
    "batch_size = 1000\n",
    "the_number_of_valid_txt_file_09, the_number_of_valid_txt_file_list_09 = list_length_checker(valid_file_nested_list_09, batch_size)"
   ]
  },
  {
   "cell_type": "code",
   "execution_count": null,
   "metadata": {},
   "outputs": [],
   "source": [
    "batch_size = 1000\n",
    "the_number_of_valid_txt_file_10, the_number_of_valid_txt_file_list_10 = list_length_checker(valid_file_nested_list_10, batch_size)"
   ]
  },
  {
   "cell_type": "code",
   "execution_count": null,
   "metadata": {},
   "outputs": [],
   "source": [
    "batch_size = 1000\n",
    "the_number_of_valid_txt_file_11, the_number_of_valid_txt_file_list_11 = list_length_checker(valid_file_nested_list_11, batch_size)"
   ]
  },
  {
   "cell_type": "code",
   "execution_count": null,
   "metadata": {},
   "outputs": [],
   "source": [
    "batch_size = 1000\n",
    "the_number_of_valid_txt_file_12, the_number_of_valid_txt_file_list_12 = list_length_checker(valid_file_nested_list_12, batch_size)"
   ]
  },
  {
   "cell_type": "code",
   "execution_count": null,
   "metadata": {},
   "outputs": [],
   "source": [
    "batch_size = 1000\n",
    "the_number_of_valid_txt_file_13, the_number_of_valid_txt_file_list_13 = list_length_checker(valid_file_nested_list_13, batch_size)"
   ]
  },
  {
   "cell_type": "code",
   "execution_count": null,
   "metadata": {},
   "outputs": [],
   "source": [
    "batch_size = 1000\n",
    "the_number_of_valid_txt_file_14, the_number_of_valid_txt_file_list_14 = list_length_checker(valid_file_nested_list_14, batch_size)"
   ]
  },
  {
   "cell_type": "code",
   "execution_count": null,
   "metadata": {},
   "outputs": [],
   "source": [
    "batch_size = 1000\n",
    "the_number_of_valid_txt_file_15, the_number_of_valid_txt_file_list_15 = list_length_checker(valid_file_nested_list_15, batch_size)"
   ]
  },
  {
   "cell_type": "code",
   "execution_count": null,
   "metadata": {},
   "outputs": [],
   "source": [
    "batch_size = 1000\n",
    "the_number_of_valid_txt_file_16, the_number_of_valid_txt_file_list_16 = list_length_checker(valid_file_nested_list_16, batch_size)"
   ]
  },
  {
   "cell_type": "code",
   "execution_count": null,
   "metadata": {},
   "outputs": [],
   "source": [
    "batch_size = 1000\n",
    "the_number_of_valid_txt_file_17, the_number_of_valid_txt_file_list_17 = list_length_checker(valid_file_nested_list_17, batch_size)"
   ]
  },
  {
   "cell_type": "code",
   "execution_count": null,
   "metadata": {
    "scrolled": false
   },
   "outputs": [],
   "source": [
    "batch_size = 1000\n",
    "make_corpus_txt_with_batch_list(train_file_nested_list_01, train_text_file_name_list_01, batch_size, the_number_of_train_txt_file_list_01)"
   ]
  },
  {
   "cell_type": "code",
   "execution_count": null,
   "metadata": {},
   "outputs": [],
   "source": [
    "batch_size = 1000\n",
    "make_corpus_txt_with_batch_list(train_file_nested_list_02, train_text_file_name_list_02, batch_size, the_number_of_train_txt_file_list_02)"
   ]
  },
  {
   "cell_type": "code",
   "execution_count": null,
   "metadata": {},
   "outputs": [],
   "source": [
    "batch_size = 1000\n",
    "make_corpus_txt_with_batch_list(train_file_nested_list_03, train_text_file_name_list_03, batch_size, the_number_of_train_txt_file_list_03)"
   ]
  },
  {
   "cell_type": "code",
   "execution_count": null,
   "metadata": {},
   "outputs": [],
   "source": [
    "batch_size = 1000\n",
    "make_corpus_txt_with_batch_list(train_file_nested_list_04, train_text_file_name_list_04, batch_size, the_number_of_train_txt_file_list_04)"
   ]
  },
  {
   "cell_type": "code",
   "execution_count": null,
   "metadata": {
    "scrolled": true
   },
   "outputs": [],
   "source": [
    "batch_size = 1000\n",
    "make_corpus_txt_with_batch_list(train_file_nested_list_05, train_text_file_name_list_05, batch_size, the_number_of_train_txt_file_list_05)"
   ]
  },
  {
   "cell_type": "code",
   "execution_count": null,
   "metadata": {},
   "outputs": [],
   "source": [
    "batch_size = 1000\n",
    "make_corpus_txt_with_batch_list(train_file_nested_list_06, train_text_file_name_list_06, batch_size, the_number_of_train_txt_file_list_06)"
   ]
  },
  {
   "cell_type": "code",
   "execution_count": null,
   "metadata": {},
   "outputs": [],
   "source": [
    "batch_size = 1000\n",
    "make_corpus_txt_with_batch_list(train_file_nested_list_07, train_text_file_name_list_07, batch_size, the_number_of_train_txt_file_list_07)"
   ]
  },
  {
   "cell_type": "code",
   "execution_count": null,
   "metadata": {},
   "outputs": [],
   "source": [
    "batch_size = 1000\n",
    "make_corpus_txt_with_batch_list(train_file_nested_list_08, train_text_file_name_list_08, batch_size, the_number_of_train_txt_file_list_08)"
   ]
  },
  {
   "cell_type": "code",
   "execution_count": null,
   "metadata": {},
   "outputs": [],
   "source": [
    "batch_size = 1000\n",
    "make_corpus_txt_with_batch_list(train_file_nested_list_09, train_text_file_name_list_09, batch_size, the_number_of_train_txt_file_list_09)"
   ]
  },
  {
   "cell_type": "code",
   "execution_count": null,
   "metadata": {},
   "outputs": [],
   "source": [
    "batch_size = 1000\n",
    "make_corpus_txt_with_batch_list(train_file_nested_list_10, train_text_file_name_list_10, batch_size, the_number_of_train_txt_file_list_10)"
   ]
  },
  {
   "cell_type": "code",
   "execution_count": null,
   "metadata": {},
   "outputs": [],
   "source": [
    "batch_size = 1000\n",
    "make_corpus_txt_with_batch_list(train_file_nested_list_11, train_text_file_name_list_11, batch_size, the_number_of_train_txt_file_list_11)"
   ]
  },
  {
   "cell_type": "code",
   "execution_count": null,
   "metadata": {},
   "outputs": [],
   "source": [
    "batch_size = 1000\n",
    "make_corpus_txt_with_batch_list(train_file_nested_list_12, train_text_file_name_list_12, batch_size, the_number_of_train_txt_file_list_12)"
   ]
  },
  {
   "cell_type": "code",
   "execution_count": null,
   "metadata": {},
   "outputs": [],
   "source": [
    "batch_size = 1000\n",
    "make_corpus_txt_with_batch_list(train_file_nested_list_13, train_text_file_name_list_13, batch_size, the_number_of_train_txt_file_list_13)"
   ]
  },
  {
   "cell_type": "code",
   "execution_count": null,
   "metadata": {},
   "outputs": [],
   "source": [
    "batch_size = 1000\n",
    "make_corpus_txt_with_batch_list(train_file_nested_list_14, train_text_file_name_list_14, batch_size, the_number_of_train_txt_file_list_14)"
   ]
  },
  {
   "cell_type": "code",
   "execution_count": null,
   "metadata": {},
   "outputs": [
    {
     "name": "stdout",
     "output_type": "stream",
     "text": [
      "255 256 257 258 259 260 261 262 263 264 265 266 267 268 269 270 271 272 273 274 275 276 277 278 279 280 281 282 283 284 285 286 287 288 289 290 291 292 293 294 295 296 297 298 299 300 301 302 303 304 305 306 307 308 309 310 311 312 313 314 "
     ]
    }
   ],
   "source": [
    "batch_size = 1000\n",
    "make_corpus_txt_with_batch_list(train_file_nested_list_15, train_text_file_name_list_15, batch_size, the_number_of_train_txt_file_list_15)"
   ]
  },
  {
   "cell_type": "code",
   "execution_count": null,
   "metadata": {},
   "outputs": [],
   "source": [
    "batch_size = 1000\n",
    "make_corpus_txt_with_batch_list(train_file_nested_list_16, train_text_file_name_list_16, batch_size, the_number_of_train_txt_file_list_16)"
   ]
  },
  {
   "cell_type": "code",
   "execution_count": null,
   "metadata": {},
   "outputs": [],
   "source": [
    "batch_size = 1000\n",
    "make_corpus_txt_with_batch_list(train_file_nested_list_17, train_text_file_name_list_17, batch_size, the_number_of_train_txt_file_list_17)"
   ]
  },
  {
   "cell_type": "code",
   "execution_count": null,
   "metadata": {},
   "outputs": [],
   "source": [
    "batch_size = 1000\n",
    "make_corpus_txt_with_batch_list(valid_file_nested_list_01, valid_text_file_name_list_01, batch_size, the_number_of_valid_txt_file_list_01)"
   ]
  },
  {
   "cell_type": "code",
   "execution_count": null,
   "metadata": {},
   "outputs": [],
   "source": [
    "batch_size = 1000\n",
    "make_corpus_txt_with_batch_list(valid_file_nested_list_02, valid_text_file_name_list_02, batch_size, the_number_of_valid_txt_file_list_02)"
   ]
  },
  {
   "cell_type": "code",
   "execution_count": null,
   "metadata": {},
   "outputs": [],
   "source": [
    "batch_size = 1000\n",
    "make_corpus_txt_with_batch_list(valid_file_nested_list_03, valid_text_file_name_list_03, batch_size, the_number_of_valid_txt_file_list_03)"
   ]
  },
  {
   "cell_type": "code",
   "execution_count": null,
   "metadata": {},
   "outputs": [],
   "source": [
    "batch_size = 1000\n",
    "make_corpus_txt_with_batch_list(valid_file_nested_list_04, valid_text_file_name_list_04, batch_size, the_number_of_valid_txt_file_list_04)"
   ]
  },
  {
   "cell_type": "code",
   "execution_count": null,
   "metadata": {},
   "outputs": [],
   "source": [
    "batch_size = 1000\n",
    "make_corpus_txt_with_batch_list(valid_file_nested_list_05, valid_text_file_name_list_05, batch_size, the_number_of_valid_txt_file_list_05)"
   ]
  },
  {
   "cell_type": "code",
   "execution_count": null,
   "metadata": {},
   "outputs": [],
   "source": [
    "batch_size = 1000\n",
    "make_corpus_txt_with_batch_list(valid_file_nested_list_06, valid_text_file_name_list_06, batch_size, the_number_of_valid_txt_file_list_06)"
   ]
  },
  {
   "cell_type": "code",
   "execution_count": null,
   "metadata": {},
   "outputs": [],
   "source": [
    "batch_size = 1000\n",
    "make_corpus_txt_with_batch_list(valid_file_nested_list_07, valid_text_file_name_list_07, batch_size, the_number_of_valid_txt_file_list_07)"
   ]
  },
  {
   "cell_type": "code",
   "execution_count": null,
   "metadata": {},
   "outputs": [],
   "source": [
    "batch_size = 1000\n",
    "make_corpus_txt_with_batch_list(valid_file_nested_list_08, valid_text_file_name_list_08, batch_size, the_number_of_valid_txt_file_list_08)"
   ]
  },
  {
   "cell_type": "code",
   "execution_count": null,
   "metadata": {},
   "outputs": [],
   "source": [
    "batch_size = 1000\n",
    "make_corpus_txt_with_batch_list(valid_file_nested_list_09, valid_text_file_name_list_09, batch_size, the_number_of_valid_txt_file_list_09)"
   ]
  },
  {
   "cell_type": "code",
   "execution_count": null,
   "metadata": {},
   "outputs": [],
   "source": [
    "batch_size = 1000\n",
    "make_corpus_txt_with_batch_list(valid_file_nested_list_10, valid_text_file_name_list_10, batch_size, the_number_of_valid_txt_file_list_10)"
   ]
  },
  {
   "cell_type": "code",
   "execution_count": null,
   "metadata": {},
   "outputs": [],
   "source": [
    "batch_size = 1000\n",
    "make_corpus_txt_with_batch_list(valid_file_nested_list_11, valid_text_file_name_list_11, batch_size, the_number_of_valid_txt_file_list_11)"
   ]
  },
  {
   "cell_type": "code",
   "execution_count": null,
   "metadata": {},
   "outputs": [],
   "source": [
    "batch_size = 1000\n",
    "make_corpus_txt_with_batch_list(valid_file_nested_list_12, valid_text_file_name_list_12, batch_size, the_number_of_valid_txt_file_list_12)"
   ]
  },
  {
   "cell_type": "code",
   "execution_count": null,
   "metadata": {},
   "outputs": [],
   "source": [
    "batch_size = 1000\n",
    "make_corpus_txt_with_batch_list(valid_file_nested_list_13, valid_text_file_name_list_13, batch_size, the_number_of_valid_txt_file_list_13)"
   ]
  },
  {
   "cell_type": "code",
   "execution_count": null,
   "metadata": {},
   "outputs": [],
   "source": [
    "batch_size = 1000\n",
    "make_corpus_txt_with_batch_list(valid_file_nested_list_14, valid_text_file_name_list_14, batch_size, the_number_of_valid_txt_file_list_14)"
   ]
  },
  {
   "cell_type": "code",
   "execution_count": null,
   "metadata": {},
   "outputs": [],
   "source": [
    "batch_size = 1000\n",
    "make_corpus_txt_with_batch_list(valid_file_nested_list_15, valid_text_file_name_list_15, batch_size, the_number_of_valid_txt_file_list_15)"
   ]
  },
  {
   "cell_type": "code",
   "execution_count": null,
   "metadata": {},
   "outputs": [],
   "source": [
    "batch_size = 1000\n",
    "make_corpus_txt_with_batch_list(valid_file_nested_list_16, valid_text_file_name_list_16, batch_size, the_number_of_valid_txt_file_list_16)"
   ]
  },
  {
   "cell_type": "code",
   "execution_count": null,
   "metadata": {},
   "outputs": [],
   "source": [
    "batch_size = 1000\n",
    "make_corpus_txt_with_batch_list(valid_file_nested_list_17, valid_text_file_name_list_17, batch_size, the_number_of_valid_txt_file_list_17)"
   ]
  },
  {
   "cell_type": "code",
   "execution_count": null,
   "metadata": {},
   "outputs": [],
   "source": [
    "pro_total_corpus_list = glob(\"AIHUB_corpus/exploration/web_data_based_korean_corpus_data_pro/AIHUB_web_data_based_korean_corpus_data_\" +\"*.txt\")"
   ]
  },
  {
   "cell_type": "code",
   "execution_count": null,
   "metadata": {
    "scrolled": true
   },
   "outputs": [],
   "source": [
    "len(pro_total_corpus_list)"
   ]
  },
  {
   "cell_type": "code",
   "execution_count": null,
   "metadata": {},
   "outputs": [],
   "source": [
    "post_total_corpus_list = post_txt_file_name_list(pro_total_corpus_list)"
   ]
  },
  {
   "cell_type": "code",
   "execution_count": null,
   "metadata": {},
   "outputs": [],
   "source": [
    "line_list = []\n",
    "line_num = 0\n",
    "with open(pro_total_corpus_list[0], 'r', encoding='utf-8') as f:\n",
    "    lines = f.read().splitlines() \n",
    "    for line in lines:\n",
    "        line_num += 1\n",
    "        if line_num <= 1:\n",
    "           line_list.append(line)\n",
    "for line in line_list:\n",
    "    print(line, end=\"\\n\\n\")"
   ]
  },
  {
   "cell_type": "code",
   "execution_count": null,
   "metadata": {},
   "outputs": [],
   "source": [
    "line_list = []\n",
    "line_num = 0\n",
    "with open(pro_total_corpus_list[0], 'r', encoding='utf-8') as f:\n",
    "    lines = f.read().splitlines()\n",
    "    for line in lines:\n",
    "        line_num += 1\n",
    "        if line_num <= 1:  \n",
    "            sentences = formal_preprocessing_text(line)\n",
    "            for sentence in sentences:\n",
    "                line_list.append(sentence) \n",
    "            \n",
    "for line in line_list:\n",
    "    print(line, end=\"\\n\\n\")"
   ]
  },
  {
   "cell_type": "code",
   "execution_count": null,
   "metadata": {},
   "outputs": [],
   "source": [
    "ray.init(num_cpus = 4)\n",
    "\n",
    "@ray.remote\n",
    "\n",
    "def formal_preprocessing_text(source):\n",
    "    preprocessing_sentence_list = []\n",
    "    \n",
    "    source = source.strip()\n",
    "    # strip으로 앞뒤 공백 제거\n",
    "\n",
    "    source = re.sub(r\"\\[.*?\\]|\\{.*?\\}\", \"\", source)\n",
    "    # 기타 괄호 제거할 시 괄호 내부에 모든 텍스트 제거\n",
    "\n",
    "\n",
    "    try:\n",
    "        bracket_form = re.compile('\\(([^)]+)')\n",
    "        text_in_small_bracket = bracket_form.findall(source)\n",
    "    \n",
    "    \n",
    "        if type(text_in_small_bracket) == str:\n",
    "\n",
    "            text = text_in_small_bracket\n",
    "\n",
    "            text_size = len(text)\n",
    "            last_index = source.find(text) + len(text)\n",
    "            if len(source) >= last_index+1 and source[last_index-text_size-1] == '(' and source[last_index+1] == '.':\n",
    "                source = source.replace(source[last_index-text_size-1 : last_index+1] + \".\", \".\")\n",
    "\n",
    "            if len(text.split()) > 5 and bool(re.match(r'[.]|[!]|[?]', text[-1])) == True:\n",
    "                small_bracket = \"(\" + text + \")\"\n",
    "                source = source.replace(small_bracket, text)    \n",
    "\n",
    "        elif type(text_in_small_bracket) == list:\n",
    "\n",
    "            for text in text_in_small_bracket:\n",
    "\n",
    "                text_size = len(text)\n",
    "                last_index = source.find(text) + len(text)\n",
    "                if len(source) >= last_index+1 and source[last_index-text_size-1] == '(' and source[last_index+1] == '.':\n",
    "                    source = source.replace(source[last_index-text_size-1 : last_index+1] + \".\", \".\")\n",
    "\n",
    "                if len(text.split()) > 5 and bool(re.match(r'[.]|[!]|[?]', text[-1])) == True:\n",
    "                    small_bracket = \"(\" + text + \")\"\n",
    "                    source = source.replace(small_bracket, text)    \n",
    "\n",
    "    except:\n",
    "        pass\n",
    "\n",
    "        # 마침표(.) 앞에 소괄호')'가 있을시 소괄호 제거와 함께 소괄호 내부 텍스트 제거\n",
    "        # 소괄호 내부 텍스트가 5어절 이상이고 끝이 온점(.). 느낌표(!). 물음표(?)일 떼 소괄호 제거\n",
    "        \n",
    "    \n",
    "    if bool(re.match(r'[가나다라마바사아자차카타파하]+[.]', source[:2])) == True:\n",
    "        source = re.sub(source[:2], \"\", source)\n",
    "        \n",
    "    source = re.sub(r' [가나다라마바사아자차카타파하]+[.]', \"\", source)\n",
    "    # '가.', '나.', ... 형태의 문자열 제거 \n",
    "        \n",
    "    for sentence in kss.split_sentences(source, use_heuristic=False,\n",
    "                                        num_workers=32):\n",
    "    # KSS(Korean Sentence Segmentation)로 문장 분리 \n",
    "    # Formal articles (wiki, news, essays): recommend to False\n",
    "    \n",
    "\n",
    "        if re.search(\"^[A-Za-z0-9ㄱ-ㅎ가-힣一-鿕㐀-䶵豈-龎]\", sentence[0]) is not None and \\\n",
    "            bool(re.match(r'[.]|[!]|[?]', sentence[-1])) == True and \\\n",
    "            len(sentence.split()) > 5:\n",
    "            # 문장의 시작이 특수문자인 문장(영어 대소문자, 한글, 한자, 숫자, -, + 제외\n",
    "            # 문장의 끝이 온점(.). 느낌표(!). 물음표(?)가 아닌 문장 제외\n",
    "            # 다섯 어절 이하 문장 제외\n",
    "\n",
    "\n",
    "            if ']' in sentence and '[' not in sentence:\n",
    "                sentence  = re.sub(r\".*?]\", \"\", sentence)    \n",
    "            # 중괄호 앞에 있는 '성명/직함]' 형태 제거\n",
    "\n",
    "\n",
    "            sentence = re.sub(r\"[^A-Za-z0-9ㄱ-ㅎ가-힣一-鿕㐀-䶵豈-龎()+-.,]\", \" \", sentence)\n",
    "            # 특수문자 제거(영어 대소문자, 한글, 한자, 숫자, -, +, 소괄호, 마침표, 쉼표, 제외)\n",
    "\n",
    "            sentence = sentence.strip()\n",
    "            # strip으로 앞뒤 공백 제거\n",
    "\n",
    "            total_length = len(sentence.replace(\" \" , \"\"))\n",
    "            hangeul_length = len(re.sub(r\"[^ㄱ-ㅣ가-힣\\s]\", \"\", sentence.replace(\" \" , \"\")))\n",
    "            hangeul_ratio = hangeul_length / total_length\n",
    "            if hangeul_ratio >= 0.5:\n",
    "            # 한글이 아닌 문자열이 50% 이상이 넘은 문장 제외\n",
    "\n",
    "                for sentence2 in kss.split_sentences(sentence, use_heuristic=False,\n",
    "                                        num_workers=32):\n",
    "                    for sentence3 in kss.split_sentences(sentence2, use_heuristic=False,\n",
    "                                                         num_workers=32):\n",
    "                        preprocessing_sentence_list.append(sentence3)\n",
    "\n",
    "            # 마지막에 KSS(Korean Sentence Segmentation)로 문장 분리 2번 실행\n",
    "\n",
    "  \n",
    "    return preprocessing_sentence_list\n",
    "\n",
    "def preprocessing_corpus_txt(pro_total_corpus_list, post_total_corpus_list)\n",
    "    print(\"[Size]\")\n",
    "    print(\"The number of preprocessing corpus: \" + str(len(pro_total_corpus_list)))\n",
    "    print(\"\\n[Order]\")\n",
    "    num = 0\n",
    "    process_num = 10    \n",
    "\n",
    "    for pro, post in zip(pro_total_corpus_list, post_total_corpus_list):\n",
    "\n",
    "        sentence_list = []\n",
    "\n",
    "        with open(pro, 'r', encoding='utf-8') as f:\n",
    "            lines = f.read().splitlines() \n",
    "            nested_lines_num = len(lines) // process_num\n",
    "            for i in range(nested_lines_num - 1):\n",
    "                start_line = process_num * i\n",
    "                end_line = process_num * (i+1)\n",
    "                futures = [formal_preprocessing_text.remote(lines[start_line:end_line][j]) for j in range(process_num)]\n",
    "                results = ray.get(futures)\n",
    "\n",
    "                if i == nested_lines_num - 2:\n",
    "                    futures = [formal_preprocessing_text.remote(lines[end_line:][j]) for j in range(len(lines) - end_line)]\n",
    "                    results = ray.get(futures)\n",
    "\n",
    "                sentences = list(chain.from_iterable(results))\n",
    "                sentence_list.append(sentences)\n",
    "\n",
    "        sentence_list = list(chain.from_iterable(sentence_list))\n",
    "\n",
    "        num += 1\n",
    "        print(str(num), end=\" \")  \n",
    "\n",
    "        with open(post, 'a', encoding='utf-8') as fp:\n",
    "            fp.write(\"\\n\".join(sentence_list))"
   ]
  },
  {
   "cell_type": "code",
   "execution_count": null,
   "metadata": {},
   "outputs": [],
   "source": [
    "topic_name_list = ['01_IT_과학', '02_건강', '03_경제', '04_교육', '05_국제', '06_라이프스타일', '07_문화',\n",
    "                  '08_사건사고', '09_사회일반', '10_산업', '11_스포츠', '12_여성복지', '13_여행레저',\n",
    "                  '14_연예', '15_정치', '16_지역', '17_취미']"
   ]
  },
  {
   "cell_type": "code",
   "execution_count": null,
   "metadata": {
    "scrolled": true
   },
   "outputs": [],
   "source": [
    "pro_total_corpus_list_train_01 = glob(\"AIHUB_corpus/exploration/web_data_based_korean_corpus_data_pro/AIHUB_web_data_based_korean_corpus_data_\" + \\\n",
    "                                topic_name_list[0] + \"_train\" + \"*.txt\")\n",
    "post_total_corpus_list_train_01 = post_txt_file_name_list(pro_total_corpus_list_train_01)\n",
    "\n",
    "pro_total_corpus_list_train_02 = glob(\"AIHUB_corpus/exploration/web_data_based_korean_corpus_data_pro/AIHUB_web_data_based_korean_corpus_data_\" + \\\n",
    "                                topic_name_list[1] + \"_train\" + \"*.txt\")\n",
    "post_total_corpus_list_train_02 = post_txt_file_name_list(pro_total_corpus_list_train_02)\n",
    "\n",
    "pro_total_corpus_list_train_03 = glob(\"AIHUB_corpus/exploration/web_data_based_korean_corpus_data_pro/AIHUB_web_data_based_korean_corpus_data_\" + \\\n",
    "                                topic_name_list[2] + \"_train\" + \"*.txt\")\n",
    "post_total_corpus_list_train_03 = post_txt_file_name_list(pro_total_corpus_list_train_03)\n",
    "\n",
    "pro_total_corpus_list_train_04 = glob(\"AIHUB_corpus/exploration/web_data_based_korean_corpus_data_pro/AIHUB_web_data_based_korean_corpus_data_\" + \\\n",
    "                                topic_name_list[3] + \"_train\" + \"*.txt\")\n",
    "post_total_corpus_list_train_04 = post_txt_file_name_list(pro_total_corpus_list_train_04)\n",
    "\n",
    "pro_total_corpus_list_train_05 = glob(\"AIHUB_corpus/exploration/web_data_based_korean_corpus_data_pro/AIHUB_web_data_based_korean_corpus_data_\" + \\\n",
    "                                topic_name_list[4] + \"_train\" + \"*.txt\")\n",
    "post_total_corpus_list_train_05 = post_txt_file_name_list(pro_total_corpus_list_train_05)\n",
    "\n",
    "pro_total_corpus_list_train_06 = glob(\"AIHUB_corpus/exploration/web_data_based_korean_corpus_data_pro/AIHUB_web_data_based_korean_corpus_data_\" + \\\n",
    "                                topic_name_list[5] + \"_train\" + \"*.txt\")\n",
    "post_total_corpus_list_train_06 = post_txt_file_name_list(pro_total_corpus_list_train_06)\n",
    "\n",
    "pro_total_corpus_list_train_07 = glob(\"AIHUB_corpus/exploration/web_data_based_korean_corpus_data_pro/AIHUB_web_data_based_korean_corpus_data_\" + \\\n",
    "                                topic_name_list[6] + \"_train\" + \"*.txt\")\n",
    "post_total_corpus_list_train_07 = post_txt_file_name_list(pro_total_corpus_list_train_07)\n",
    "\n",
    "pro_total_corpus_list_train_08 = glob(\"AIHUB_corpus/exploration/web_data_based_korean_corpus_data_pro/AIHUB_web_data_based_korean_corpus_data_\" + \\\n",
    "                                topic_name_list[7] + \"_train\" + \"*.txt\")\n",
    "post_total_corpus_list_train_08 = post_txt_file_name_list(pro_total_corpus_list_train_08)\n",
    "\n",
    "pro_total_corpus_list_train_09 = glob(\"AIHUB_corpus/exploration/web_data_based_korean_corpus_data_pro/AIHUB_web_data_based_korean_corpus_data_\" + \\\n",
    "                                topic_name_list[8] + \"_train\" + \"*.txt\")\n",
    "post_total_corpus_list_train_09 = post_txt_file_name_list(pro_total_corpus_list_train_09)\n",
    "\n",
    "pro_total_corpus_list_train_10 = glob(\"AIHUB_corpus/exploration/web_data_based_korean_corpus_data_pro/AIHUB_web_data_based_korean_corpus_data_\" + \\\n",
    "                                topic_name_list[9] + \"_train\" + \"*.txt\")\n",
    "post_total_corpus_list_train_10 = post_txt_file_name_list(pro_total_corpus_list_train_10)\n",
    "\n",
    "pro_total_corpus_list_train_11 = glob(\"AIHUB_corpus/exploration/web_data_based_korean_corpus_data_pro/AIHUB_web_data_based_korean_corpus_data_\" + \\\n",
    "                                topic_name_list[10] + \"_train\" + \"*.txt\")\n",
    "post_total_corpus_list_train_11 = post_txt_file_name_list(pro_total_corpus_list_train_11)\n",
    "\n",
    "pro_total_corpus_list_train_12 = glob(\"AIHUB_corpus/exploration/web_data_based_korean_corpus_data_pro/AIHUB_web_data_based_korean_corpus_data_\" + \\\n",
    "                                topic_name_list[11] + \"_train\" + \"*.txt\")\n",
    "post_total_corpus_list_train_12 = post_txt_file_name_list(pro_total_corpus_list_train_12)\n",
    "\n",
    "pro_total_corpus_list_train_13 = glob(\"AIHUB_corpus/exploration/web_data_based_korean_corpus_data_pro/AIHUB_web_data_based_korean_corpus_data_\" + \\\n",
    "                                topic_name_list[12] + \"_train\" + \"*.txt\")\n",
    "post_total_corpus_list_train_13 = post_txt_file_name_list(pro_total_corpus_list_train_13)\n",
    "\n",
    "pro_total_corpus_list_train_14 = glob(\"AIHUB_corpus/exploration/web_data_based_korean_corpus_data_pro/AIHUB_web_data_based_korean_corpus_data_\" + \\\n",
    "                                topic_name_list[13] + \"_train\" + \"*.txt\")\n",
    "post_total_corpus_list_train_14 = post_txt_file_name_list(pro_total_corpus_list_train_14)\n",
    "\n",
    "pro_total_corpus_list_train_15 = glob(\"AIHUB_corpus/exploration/web_data_based_korean_corpus_data_pro/AIHUB_web_data_based_korean_corpus_data_\" + \\\n",
    "                                topic_name_list[14] + \"_train\" + \"*.txt\")\n",
    "post_total_corpus_list_train_15 = post_txt_file_name_list(pro_total_corpus_list_train_15)\n",
    "\n",
    "pro_total_corpus_list_train_16 = glob(\"AIHUB_corpus/exploration/web_data_based_korean_corpus_data_pro/AIHUB_web_data_based_korean_corpus_data_\" + \\\n",
    "                                topic_name_list[15] + \"_train\" + \"*.txt\")\n",
    "post_total_corpus_list_train_16 = post_txt_file_name_list(pro_total_corpus_list_train_16)\n",
    "\n",
    "pro_total_corpus_list_train_17 = glob(\"AIHUB_corpus/exploration/web_data_based_korean_corpus_data_pro/AIHUB_web_data_based_korean_corpus_data_\" + \\\n",
    "                                topic_name_list[16] + \"_train\" + \"*.txt\")\n",
    "post_total_corpus_list_train_17 = post_txt_file_name_list(pro_total_corpus_list_train_17)\n",
    "\n",
    "\n",
    "pro_total_corpus_list_valid_01 = glob(\"AIHUB_corpus/exploration/web_data_based_korean_corpus_data_pro/AIHUB_web_data_based_korean_corpus_data_\" + \\\n",
    "                                topic_name_list[0] + \"_valid\" + \"*.txt\")\n",
    "post_total_corpus_list_valid_01 = post_txt_file_name_list(pro_total_corpus_list_valid_01)\n",
    "\n",
    "pro_total_corpus_list_valid_02 = glob(\"AIHUB_corpus/exploration/web_data_based_korean_corpus_data_pro/AIHUB_web_data_based_korean_corpus_data_\" + \\\n",
    "                                topic_name_list[1] + \"_valid\" + \"*.txt\")\n",
    "post_total_corpus_list_valid_02 = post_txt_file_name_list(pro_total_corpus_list_valid_02)\n",
    "\n",
    "pro_total_corpus_list_valid_03 = glob(\"AIHUB_corpus/exploration/web_data_based_korean_corpus_data_pro/AIHUB_web_data_based_korean_corpus_data_\" + \\\n",
    "                                topic_name_list[2] + \"_valid\" + \"*.txt\")\n",
    "post_total_corpus_list_valid_03 = post_txt_file_name_list(pro_total_corpus_list_valid_03)\n",
    "\n",
    "pro_total_corpus_list_valid_04 = glob(\"AIHUB_corpus/exploration/web_data_based_korean_corpus_data_pro/AIHUB_web_data_based_korean_corpus_data_\" + \\\n",
    "                                topic_name_list[3] + \"_valid\" + \"*.txt\")\n",
    "post_total_corpus_list_valid_04 = post_txt_file_name_list(pro_total_corpus_list_valid_04)\n",
    "\n",
    "pro_total_corpus_list_valid_05 = glob(\"AIHUB_corpus/exploration/web_data_based_korean_corpus_data_pro/AIHUB_web_data_based_korean_corpus_data_\" + \\\n",
    "                                topic_name_list[4] + \"_valid\" + \"*.txt\")\n",
    "post_total_corpus_list_valid_05 = post_txt_file_name_list(pro_total_corpus_list_valid_05)\n",
    "\n",
    "pro_total_corpus_list_valid_06 = glob(\"AIHUB_corpus/exploration/web_data_based_korean_corpus_data_pro/AIHUB_web_data_based_korean_corpus_data_\" + \\\n",
    "                                topic_name_list[5] + \"_valid\" + \"*.txt\")\n",
    "post_total_corpus_list_valid_06 = post_txt_file_name_list(pro_total_corpus_list_valid_06)\n",
    "\n",
    "pro_total_corpus_list_valid_07 = glob(\"AIHUB_corpus/exploration/web_data_based_korean_corpus_data_pro/AIHUB_web_data_based_korean_corpus_data_\" + \\\n",
    "                                topic_name_list[6] + \"_valid\" + \"*.txt\")\n",
    "post_total_corpus_list_valid_07 = post_txt_file_name_list(pro_total_corpus_list_valid_07)\n",
    "\n",
    "pro_total_corpus_list_valid_08 = glob(\"AIHUB_corpus/exploration/web_data_based_korean_corpus_data_pro/AIHUB_web_data_based_korean_corpus_data_\" + \\\n",
    "                                topic_name_list[7] + \"_valid\" + \"*.txt\")\n",
    "post_total_corpus_list_valid_08 = post_txt_file_name_list(pro_total_corpus_list_valid_08)\n",
    "\n",
    "pro_total_corpus_list_valid_09 = glob(\"AIHUB_corpus/exploration/web_data_based_korean_corpus_data_pro/AIHUB_web_data_based_korean_corpus_data_\" + \\\n",
    "                                topic_name_list[8] + \"_valid\" + \"*.txt\")\n",
    "post_total_corpus_list_valid_09 = post_txt_file_name_list(pro_total_corpus_list_valid_09)\n",
    "\n",
    "pro_total_corpus_list_valid_10 = glob(\"AIHUB_corpus/exploration/web_data_based_korean_corpus_data_pro/AIHUB_web_data_based_korean_corpus_data_\" + \\\n",
    "                                topic_name_list[9] + \"_valid\" + \"*.txt\")\n",
    "post_total_corpus_list_valid_10 = post_txt_file_name_list(pro_total_corpus_list_valid_10)\n",
    "\n",
    "pro_total_corpus_list_valid_11 = glob(\"AIHUB_corpus/exploration/web_data_based_korean_corpus_data_pro/AIHUB_web_data_based_korean_corpus_data_\" + \\\n",
    "                                topic_name_list[10] + \"_valid\" + \"*.txt\")\n",
    "post_total_corpus_list_valid_11 = post_txt_file_name_list(pro_total_corpus_list_valid_11)\n",
    "\n",
    "pro_total_corpus_list_valid_12 = glob(\"AIHUB_corpus/exploration/web_data_based_korean_corpus_data_pro/AIHUB_web_data_based_korean_corpus_data_\" + \\\n",
    "                                topic_name_list[11] + \"_valid\" + \"*.txt\")\n",
    "post_total_corpus_list_valid_12 = post_txt_file_name_list(pro_total_corpus_list_valid_12)\n",
    "\n",
    "pro_total_corpus_list_valid_13 = glob(\"AIHUB_corpus/exploration/web_data_based_korean_corpus_data_pro/AIHUB_web_data_based_korean_corpus_data_\" + \\\n",
    "                                topic_name_list[12] + \"_valid\" + \"*.txt\")\n",
    "post_total_corpus_list_valid_13 = post_txt_file_name_list(pro_total_corpus_list_valid_13)\n",
    "\n",
    "pro_total_corpus_list_valid_14 = glob(\"AIHUB_corpus/exploration/web_data_based_korean_corpus_data_pro/AIHUB_web_data_based_korean_corpus_data_\" + \\\n",
    "                                topic_name_list[13] + \"_valid\" + \"*.txt\")\n",
    "post_total_corpus_list_valid_14 = post_txt_file_name_list(pro_total_corpus_list_valid_14)\n",
    "\n",
    "pro_total_corpus_list_valid_15 = glob(\"AIHUB_corpus/exploration/web_data_based_korean_corpus_data_pro/AIHUB_web_data_based_korean_corpus_data_\" + \\\n",
    "                                topic_name_list[14] + \"_valid\" + \"*.txt\")\n",
    "post_total_corpus_list_valid_15 = post_txt_file_name_list(pro_total_corpus_list_valid_15)\n",
    "\n",
    "pro_total_corpus_list_valid_16 = glob(\"AIHUB_corpus/exploration/web_data_based_korean_corpus_data_pro/AIHUB_web_data_based_korean_corpus_data_\" + \\\n",
    "                                topic_name_list[15] + \"_valid\" + \"*.txt\")\n",
    "post_total_corpus_list_valid_16 = post_txt_file_name_list(pro_total_corpus_list_valid_16)\n",
    "\n",
    "pro_total_corpus_list_valid_17 = glob(\"AIHUB_corpus/exploration/web_data_based_korean_corpus_data_pro/AIHUB_web_data_based_korean_corpus_data_\" + \\\n",
    "                                topic_name_list[16] + \"_valid\" + \"*.txt\")\n",
    "post_total_corpus_list_valid_17 = post_txt_file_name_list(pro_total_corpus_list_valid_17)"
   ]
  },
  {
   "cell_type": "code",
   "execution_count": null,
   "metadata": {},
   "outputs": [],
   "source": [
    "preprocessing_corpus_txt.remote(pro_total_corpus_list_train_01, post_total_corpus_list_train_01)"
   ]
  },
  {
   "cell_type": "code",
   "execution_count": null,
   "metadata": {},
   "outputs": [],
   "source": [
    "preprocessing_corpus_txt.remote(pro_total_corpus_list_train_02, post_total_corpus_list_train_02)"
   ]
  },
  {
   "cell_type": "code",
   "execution_count": null,
   "metadata": {},
   "outputs": [],
   "source": [
    "preprocessing_corpus_txt.remote(pro_total_corpus_list_train_03, post_total_corpus_list_train_03)"
   ]
  },
  {
   "cell_type": "code",
   "execution_count": null,
   "metadata": {},
   "outputs": [],
   "source": [
    "preprocessing_corpus_txt.remote(pro_total_corpus_list_train_04, post_total_corpus_list_train_04)"
   ]
  },
  {
   "cell_type": "code",
   "execution_count": null,
   "metadata": {},
   "outputs": [],
   "source": [
    "preprocessing_corpus_txt.remote(pro_total_corpus_list_train_05, post_total_corpus_list_train_05)"
   ]
  },
  {
   "cell_type": "code",
   "execution_count": null,
   "metadata": {},
   "outputs": [],
   "source": [
    "preprocessing_corpus_txt.remote(pro_total_corpus_list_train_06, post_total_corpus_list_train_06)"
   ]
  },
  {
   "cell_type": "code",
   "execution_count": null,
   "metadata": {},
   "outputs": [],
   "source": [
    "preprocessing_corpus_txt.remote(pro_total_corpus_list_train_07, post_total_corpus_list_train_07)"
   ]
  },
  {
   "cell_type": "code",
   "execution_count": null,
   "metadata": {},
   "outputs": [],
   "source": [
    "preprocessing_corpus_txt.remote(pro_total_corpus_list_train_08, post_total_corpus_list_train_08)"
   ]
  },
  {
   "cell_type": "code",
   "execution_count": null,
   "metadata": {},
   "outputs": [],
   "source": [
    "preprocessing_corpus_txt.remote(pro_total_corpus_list_train_09, post_total_corpus_list_train_09)"
   ]
  },
  {
   "cell_type": "code",
   "execution_count": null,
   "metadata": {},
   "outputs": [],
   "source": [
    "preprocessing_corpus_txt.remote(pro_total_corpus_list_train_10, post_total_corpus_list_train_10)"
   ]
  },
  {
   "cell_type": "code",
   "execution_count": null,
   "metadata": {},
   "outputs": [],
   "source": [
    "preprocessing_corpus_txt.remote(pro_total_corpus_list_train_11, post_total_corpus_list_train_11)"
   ]
  },
  {
   "cell_type": "code",
   "execution_count": null,
   "metadata": {},
   "outputs": [],
   "source": [
    "preprocessing_corpus_txt.remote(pro_total_corpus_list_train_12, post_total_corpus_list_train_12)"
   ]
  },
  {
   "cell_type": "code",
   "execution_count": null,
   "metadata": {},
   "outputs": [],
   "source": [
    "preprocessing_corpus_txt.remote(pro_total_corpus_list_train_13, post_total_corpus_list_train_13)"
   ]
  },
  {
   "cell_type": "code",
   "execution_count": null,
   "metadata": {},
   "outputs": [],
   "source": [
    "preprocessing_corpus_txt.remote(pro_total_corpus_list_train_14, post_total_corpus_list_train_14)"
   ]
  },
  {
   "cell_type": "code",
   "execution_count": null,
   "metadata": {},
   "outputs": [],
   "source": [
    "preprocessing_corpus_txt.remote(pro_total_corpus_list_train_15, post_total_corpus_list_train_15)"
   ]
  },
  {
   "cell_type": "code",
   "execution_count": null,
   "metadata": {},
   "outputs": [],
   "source": [
    "preprocessing_corpus_txt.remote(pro_total_corpus_list_train_16, post_total_corpus_list_train_16)"
   ]
  },
  {
   "cell_type": "code",
   "execution_count": null,
   "metadata": {},
   "outputs": [],
   "source": [
    "preprocessing_corpus_txt.remote(pro_total_corpus_list_train_17, post_total_corpus_list_train_17)"
   ]
  },
  {
   "cell_type": "code",
   "execution_count": null,
   "metadata": {},
   "outputs": [],
   "source": [
    "preprocessing_corpus_txt.remote(pro_total_corpus_list_valid_01, post_total_corpus_list_valid_01)"
   ]
  },
  {
   "cell_type": "code",
   "execution_count": null,
   "metadata": {},
   "outputs": [],
   "source": [
    "preprocessing_corpus_txt.remote(pro_total_corpus_list_valid_02, post_total_corpus_list_valid_02)"
   ]
  },
  {
   "cell_type": "code",
   "execution_count": null,
   "metadata": {},
   "outputs": [],
   "source": [
    "preprocessing_corpus_txt.remote(pro_total_corpus_list_valid_03, post_total_corpus_list_valid_03)"
   ]
  },
  {
   "cell_type": "code",
   "execution_count": null,
   "metadata": {},
   "outputs": [],
   "source": [
    "preprocessing_corpus_txt.remote(pro_total_corpus_list_valid_04, post_total_corpus_list_valid_04)"
   ]
  },
  {
   "cell_type": "code",
   "execution_count": null,
   "metadata": {},
   "outputs": [],
   "source": [
    "preprocessing_corpus_txt.remote(pro_total_corpus_list_valid_05, post_total_corpus_list_valid_05)"
   ]
  },
  {
   "cell_type": "code",
   "execution_count": null,
   "metadata": {},
   "outputs": [],
   "source": [
    "preprocessing_corpus_txt.remote(pro_total_corpus_list_valid_06, post_total_corpus_list_valid_06)"
   ]
  },
  {
   "cell_type": "code",
   "execution_count": null,
   "metadata": {},
   "outputs": [],
   "source": [
    "preprocessing_corpus_txt.remote(pro_total_corpus_list_valid_07, post_total_corpus_list_valid_07)"
   ]
  },
  {
   "cell_type": "code",
   "execution_count": null,
   "metadata": {},
   "outputs": [],
   "source": [
    "preprocessing_corpus_txt.remote(pro_total_corpus_list_valid_08, post_total_corpus_list_valid_08)"
   ]
  },
  {
   "cell_type": "code",
   "execution_count": null,
   "metadata": {},
   "outputs": [],
   "source": [
    "preprocessing_corpus_txt.remote(pro_total_corpus_list_valid_09, post_total_corpus_list_valid_09)"
   ]
  },
  {
   "cell_type": "code",
   "execution_count": null,
   "metadata": {},
   "outputs": [],
   "source": [
    "preprocessing_corpus_txt.remote(pro_total_corpus_list_valid_10, post_total_corpus_list_valid_10)"
   ]
  },
  {
   "cell_type": "code",
   "execution_count": null,
   "metadata": {},
   "outputs": [],
   "source": [
    "preprocessing_corpus_txt.remote(pro_total_corpus_list_valid_11, post_total_corpus_list_valid_11)"
   ]
  },
  {
   "cell_type": "code",
   "execution_count": null,
   "metadata": {},
   "outputs": [],
   "source": [
    "preprocessing_corpus_txt.remote(pro_total_corpus_list_valid_12, post_total_corpus_list_valid_12)"
   ]
  },
  {
   "cell_type": "code",
   "execution_count": null,
   "metadata": {},
   "outputs": [],
   "source": [
    "preprocessing_corpus_txt.remote(pro_total_corpus_list_valid_13, post_total_corpus_list_valid_13)"
   ]
  },
  {
   "cell_type": "code",
   "execution_count": null,
   "metadata": {},
   "outputs": [],
   "source": [
    "preprocessing_corpus_txt.remote(pro_total_corpus_list_valid_14, post_total_corpus_list_valid_14)"
   ]
  },
  {
   "cell_type": "code",
   "execution_count": null,
   "metadata": {},
   "outputs": [],
   "source": [
    "preprocessing_corpus_txt.remote(pro_total_corpus_list_valid_15, post_total_corpus_list_valid_15)"
   ]
  },
  {
   "cell_type": "code",
   "execution_count": null,
   "metadata": {},
   "outputs": [],
   "source": [
    "preprocessing_corpus_txt.remote(pro_total_corpus_list_valid_16, post_total_corpus_list_valid_16)"
   ]
  },
  {
   "cell_type": "code",
   "execution_count": null,
   "metadata": {},
   "outputs": [],
   "source": [
    "preprocessing_corpus_txt.remote(pro_total_corpus_list_valid_17, post_total_corpus_list_valid_17)"
   ]
  },
  {
   "cell_type": "code",
   "execution_count": null,
   "metadata": {},
   "outputs": [],
   "source": [
    "ray.shutdown()"
   ]
  },
  {
   "cell_type": "code",
   "execution_count": null,
   "metadata": {},
   "outputs": [],
   "source": [
    "corpus_list = glob(\"AIHUB_corpus/exploration/web_data_based_korean_corpus_data_post/AIHUB_web_data_based_korean_corpus_data_\" +\"*.txt\")"
   ]
  },
  {
   "cell_type": "code",
   "execution_count": null,
   "metadata": {
    "scrolled": true
   },
   "outputs": [],
   "source": [
    "for i in range(len(topic_name_list)):\n",
    "    with open('AIHUB_corpus/duplicate/AIHUB_web_data_based_korean_corpus_data_' + topic_name_list[i] + '.txt', 'w') as f:\n",
    "        topic_corpus_list = [j if topic_name_list[i] in j else None for j in corpust_list]\n",
    "        for corpus in topic_corpus_list:\n",
    "            with open(corpus) as text:\n",
    "                for line in text:\n",
    "                    f.write(line)"
   ]
  },
  {
   "cell_type": "code",
   "execution_count": null,
   "metadata": {},
   "outputs": [],
   "source": [
    "with open('AIHUB_corpus/AIHUB_web_data_based_korean_corpus_data.txt', 'w', encoding='utf-8') as f1:\n",
    "    with open('AIHUB_corpus/duplicate/AIHUB_web_data_based_korean_corpus_data_' + '*.txt', 'w') as f2:\n",
    "        lines = f2.read().splitlines()\n",
    "        single_sentence_dict = dict.fromkeys(lines)\n",
    "        single_sentence_list = list(single_sentence_dict)\n",
    "        f1.write(\"\\n\".join(single_sentence_list))           "
   ]
  }
 ],
 "metadata": {
  "kernelspec": {
   "display_name": "corpus_06",
   "language": "python",
   "name": "corpus_06"
  },
  "language_info": {
   "codemirror_mode": {
    "name": "ipython",
    "version": 3
   },
   "file_extension": ".py",
   "mimetype": "text/x-python",
   "name": "python",
   "nbconvert_exporter": "python",
   "pygments_lexer": "ipython3",
   "version": "3.9.13"
  }
 },
 "nbformat": 4,
 "nbformat_minor": 2
}
