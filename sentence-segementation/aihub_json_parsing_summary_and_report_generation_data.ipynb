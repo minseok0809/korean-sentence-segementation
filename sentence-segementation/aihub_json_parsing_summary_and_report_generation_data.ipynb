{
 "cells": [
  {
   "cell_type": "markdown",
   "metadata": {},
   "source": [
    "## AIHub Json Parsing"
   ]
  },
  {
   "cell_type": "markdown",
   "metadata": {},
   "source": [
    "### Development Environment"
   ]
  },
  {
   "cell_type": "code",
   "execution_count": null,
   "metadata": {},
   "outputs": [],
   "source": [
    "%pip install kss==3.7.3"
   ]
  },
  {
   "cell_type": "markdown",
   "metadata": {},
   "source": [
    "KSS Argument Error: Restart Jupyter Kernel Runtime"
   ]
  },
  {
   "cell_type": "code",
   "execution_count": null,
   "metadata": {},
   "outputs": [],
   "source": [
    "%pip install python-mecab-ko"
   ]
  },
  {
   "cell_type": "markdown",
   "metadata": {},
   "source": [
    "KSS 3.7.3 matches python-mecab-ko"
   ]
  },
  {
   "cell_type": "code",
   "execution_count": null,
   "metadata": {},
   "outputs": [],
   "source": [
    "%pip install pandas"
   ]
  },
  {
   "cell_type": "code",
   "execution_count": null,
   "metadata": {
    "scrolled": true
   },
   "outputs": [],
   "source": [
    "%pip install ray"
   ]
  },
  {
   "cell_type": "code",
   "execution_count": 1,
   "metadata": {},
   "outputs": [],
   "source": [
    "import re\n",
    "import os\n",
    "import kss\n",
    "import ray\n",
    "import json\n",
    "from mecab import MeCab\n",
    "import pandas as pd\n",
    "from glob import glob\n",
    "from itertools import chain"
   ]
  },
  {
   "cell_type": "code",
   "execution_count": 2,
   "metadata": {},
   "outputs": [
    {
     "data": {
      "text/plain": [
       "'D:\\\\AIHUB'"
      ]
     },
     "execution_count": 2,
     "metadata": {},
     "output_type": "execute_result"
    }
   ],
   "source": [
    "pwd"
   ]
  },
  {
   "cell_type": "markdown",
   "metadata": {},
   "source": [
    "### Function"
   ]
  },
  {
   "cell_type": "code",
   "execution_count": 3,
   "metadata": {},
   "outputs": [],
   "source": [
    "def sorted_list(path_list):\n",
    "    path_list = sorted(path_list, reverse=False)\n",
    "    path_list = sorted(path_list, key=len)\n",
    "    \n",
    "    return path_list"
   ]
  },
  {
   "cell_type": "code",
   "execution_count": 4,
   "metadata": {},
   "outputs": [],
   "source": [
    "def json_file_name_list(path_list):\n",
    "    \n",
    "    file_name  = [glob(i, recursive = True) for i in path_list][0]\n",
    "    file_name = sorted_list(file_name)\n",
    "    \n",
    "    return file_name"
   ]
  },
  {
   "cell_type": "code",
   "execution_count": 5,
   "metadata": {},
   "outputs": [],
   "source": [
    "def train_valid_json_file_name_list(path_list):\n",
    "\n",
    "  train_file_name, valid_file_name = [glob(i, recursive = True) if 'rain' in i\n",
    "                                      else glob(i, recursive = True)\n",
    "                                      for i in path_list]\n",
    "\n",
    "  train_file_name = sorted_list(train_file_name)\n",
    "  valid_file_name = sorted_list(valid_file_name)\n",
    "    \n",
    "  return train_file_name, valid_file_name"
   ]
  },
  {
   "cell_type": "code",
   "execution_count": 6,
   "metadata": {},
   "outputs": [],
   "source": [
    "def divide_source_file_list(l, n): \n",
    "    \n",
    "  for i in range(0, len(l), n): \n",
    "    yield l[i:i + n] "
   ]
  },
  {
   "cell_type": "code",
   "execution_count": 7,
   "metadata": {},
   "outputs": [],
   "source": [
    "def txt_file_name_list(source_file_nested_list, folder_corpus_type_name):\n",
    "\n",
    "  text_file_name_list = [folder_corpus_type_name + str(i) + \".txt\"\n",
    "                              for i in range(len(source_file_nested_list))]\n",
    "    \n",
    "  return text_file_name_list"
   ]
  },
  {
   "cell_type": "code",
   "execution_count": 8,
   "metadata": {},
   "outputs": [],
   "source": [
    "def post_txt_file_name_list(corpus_list):\n",
    "   \n",
    "  post_corpus_list = [corpus_file.replace(\"pro\", \"post\")\n",
    "                      for corpus_file in corpus_list]\n",
    "\n",
    "  return post_corpus_list"
   ]
  },
  {
   "cell_type": "code",
   "execution_count": 9,
   "metadata": {},
   "outputs": [],
   "source": [
    "def formal_preprocessing_text(source):\n",
    "    preprocessing_sentence_list = []\n",
    "    \n",
    "    source = source.strip()\n",
    "    # strip으로 앞뒤 공백 제거\n",
    "\n",
    "    source = re.sub(r\"\\[.*?\\]|\\{.*?\\}\", \"\", source)\n",
    "    # 기타 괄호 제거할 시 괄호 내부에 모든 텍스트 제거\n",
    "\n",
    "\n",
    "    try:\n",
    "        bracket_form = re.compile('\\(([^)]+)')\n",
    "        text_in_small_bracket = bracket_form.findall(source)\n",
    "    \n",
    "    \n",
    "        if type(text_in_small_bracket) == str:\n",
    "\n",
    "            text = text_in_small_bracket\n",
    "\n",
    "            text_size = len(text)\n",
    "            last_index = source.find(text) + len(text)\n",
    "            if len(source) >= last_index+1 and source[last_index-text_size-1] == '(' and source[last_index+1] == '.':\n",
    "                source = source.replace(source[last_index-text_size-1 : last_index+1] + \".\", \".\")\n",
    "\n",
    "            if len(text.split()) > 5 and bool(re.match(r'[.]|[!]|[?]', text[-1])) == True:\n",
    "                small_bracket = \"(\" + text + \")\"\n",
    "                source = source.replace(small_bracket, text)    \n",
    "\n",
    "        elif type(text_in_small_bracket) == list:\n",
    "\n",
    "            for text in text_in_small_bracket:\n",
    "\n",
    "                text_size = len(text)\n",
    "                last_index = source.find(text) + len(text)\n",
    "                if len(source) >= last_index+1 and source[last_index-text_size-1] == '(' and source[last_index+1] == '.':\n",
    "                    source = source.replace(source[last_index-text_size-1 : last_index+1] + \".\", \".\")\n",
    "\n",
    "                if len(text.split()) > 5 and bool(re.match(r'[.]|[!]|[?]', text[-1])) == True:\n",
    "                    small_bracket = \"(\" + text + \")\"\n",
    "                    source = source.replace(small_bracket, text)    \n",
    "\n",
    "    except:\n",
    "        pass\n",
    "\n",
    "        # 마침표(.) 앞에 소괄호')'가 있을시 소괄호 제거와 함께 소괄호 내부 텍스트 제거\n",
    "        # 소괄호 내부 텍스트가 5어절 이상이고 끝이 온점(.). 느낌표(!). 물음표(?)일 떼 소괄호 제거\n",
    "        \n",
    "    \n",
    "    if bool(re.match(r'[가나다라마바사아자차카타파하]+[.]', source[:2])) == True:\n",
    "        source = re.sub(source[:2], \"\", source)\n",
    "        \n",
    "    source = re.sub(r' [가나다라마바사아자차카타파하]+[.]', \"\", source)\n",
    "    # '가.', '나.', ... 형태의 문자열 제거 \n",
    "        \n",
    "    for sentence in kss.split_sentences(source, use_heuristic=False,\n",
    "                                        num_workers=32):\n",
    "    # KSS(Korean Sentence Segmentation)로 문장 분리 \n",
    "    # Formal articles (wiki, news, essays): recommend to False\n",
    "    \n",
    "\n",
    "        if re.search(\"^[A-Za-z0-9ㄱ-ㅎ가-힣一-鿕㐀-䶵豈-龎]\", sentence[0]) is not None and \\\n",
    "            bool(re.match(r'[.]|[!]|[?]', sentence[-1])) == True and \\\n",
    "            len(sentence.split()) > 5:\n",
    "            # 문장의 시작이 특수문자인 문장(영어 대소문자, 한글, 한자, 숫자, -, + 제외\n",
    "            # 문장의 끝이 온점(.). 느낌표(!). 물음표(?)가 아닌 문장 제외\n",
    "            # 다섯 어절 이하 문장 제외\n",
    "\n",
    "\n",
    "            if ']' in sentence and '[' not in sentence:\n",
    "                sentence  = re.sub(r\".*?]\", \"\", sentence)    \n",
    "            # 중괄호 앞에 있는 '성명/직함]' 형태 제거\n",
    "\n",
    "\n",
    "            sentence = re.sub(r\"[^A-Za-z0-9ㄱ-ㅎ가-힣一-鿕㐀-䶵豈-龎()+-.,]\", \" \", sentence)\n",
    "            # 특수문자 제거(영어 대소문자, 한글, 한자, 숫자, -, +, 소괄호, 마침표, 쉼표, 제외)\n",
    "\n",
    "            sentence = sentence.strip()\n",
    "            # strip으로 앞뒤 공백 제거\n",
    "\n",
    "            total_length = len(sentence.replace(\" \" , \"\"))\n",
    "            hangeul_length = len(re.sub(r\"[^ㄱ-ㅣ가-힣\\s]\", \"\", sentence.replace(\" \" , \"\")))\n",
    "            hangeul_ratio = hangeul_length / total_length\n",
    "            if hangeul_ratio >= 0.5:\n",
    "            # 한글이 아닌 문자열이 50% 이상이 넘은 문장 제외\n",
    "\n",
    "                for sentence2 in kss.split_sentences(sentence, use_heuristic=False,\n",
    "                                        num_workers=32):\n",
    "                    for sentence3 in kss.split_sentences(sentence2, use_heuristic=False,\n",
    "                                                         num_workers=32):\n",
    "                        preprocessing_sentence_list.append(sentence3)\n",
    "\n",
    "            # 마지막에 KSS(Korean Sentence Segmentation)로 문장 분리 2번 실행\n",
    "\n",
    "  \n",
    "    return preprocessing_sentence_list"
   ]
  },
  {
   "cell_type": "markdown",
   "metadata": {},
   "source": [
    "### AIHUB 요약문 및 레포트 생성 데이터"
   ]
  },
  {
   "cell_type": "markdown",
   "metadata": {},
   "source": [
    "[Source](https://www.aihub.or.kr/aihubdata/data/view.do?currMenu=115&topMenu=100&aihubDataSe=realm&dataSetSn=582)"
   ]
  },
  {
   "cell_type": "code",
   "execution_count": 10,
   "metadata": {},
   "outputs": [],
   "source": [
    "path_list = ['AIHUB_요약문 및 레포트 생성 데이터/Training/원천데이터/TS1/01.news_r/' + '**/*.json',\n",
    "'AIHUB_요약문 및 레포트 생성 데이터/Training/원천데이터/TS1/02.briefing/' + '**/*.json',\n",
    "'AIHUB_요약문 및 레포트 생성 데이터/Training/원천데이터/TS1/03.his_cul/' + '**/*.json',\n",
    "'AIHUB_요약문 및 레포트 생성 데이터/Training/원천데이터/TS1/04.paper/' + '**/*.json',\n",
    "'AIHUB_요약문 및 레포트 생성 데이터/Training/원천데이터/TS1/05.minute/' + '**/*.json',\n",
    "'AIHUB_요약문 및 레포트 생성 데이터/Training/원천데이터/TS1/06.edit/' + '**/*.json',\n",
    "'AIHUB_요약문 및 레포트 생성 데이터/Training/원천데이터/TS1/07.public/' + '**/*.json',\n",
    "'AIHUB_요약문 및 레포트 생성 데이터/Training/원천데이터/TS1/08.speech/' + '**/*.json',\n",
    "'AIHUB_요약문 및 레포트 생성 데이터/Training/원천데이터/TS1/09.literature/' + '**/*.json',\n",
    "'AIHUB_요약문 및 레포트 생성 데이터/Training/원천데이터/TS1/10.narration/' + '**/*.json',\n",
    "'AIHUB_요약문 및 레포트 생성 데이터/Validation/원천데이터/VS1/01.news_r/' + '**/*.json',\n",
    "'AIHUB_요약문 및 레포트 생성 데이터/Validation/원천데이터/VS1/02.briefing/' + '**/*.json',\n",
    "'AIHUB_요약문 및 레포트 생성 데이터/Validation/원천데이터/VS1/03.his_cul/' + '**/*.json',\n",
    "'AIHUB_요약문 및 레포트 생성 데이터/Validation/원천데이터/VS1/04.paper/' + '**/*.json',\n",
    "'AIHUB_요약문 및 레포트 생성 데이터/Validation/원천데이터/VS1/05.minute/' + '**/*.json',\n",
    "'AIHUB_요약문 및 레포트 생성 데이터/Validation/원천데이터/VS1/06.edit/' + '**/*.json',\n",
    "'AIHUB_요약문 및 레포트 생성 데이터/Validation/원천데이터/VS1/07.public/' + '**/*.json',             \n",
    "'AIHUB_요약문 및 레포트 생성 데이터/Validation/원천데이터/VS1/08.speech/' + '**/*.json',\n",
    "'AIHUB_요약문 및 레포트 생성 데이터/Validation/원천데이터/VS1/09.literature/' + '**/*.json',\n",
    "'AIHUB_요약문 및 레포트 생성 데이터/Validation/원천데이터/VS1/10.narration/' + '**/*.json']\n",
    "\n",
    "train_file_name_01 = glob(path_list[0], recursive = True)\n",
    "train_file_name_02 = glob(path_list[1], recursive = True)\n",
    "train_file_name_03 = glob(path_list[2], recursive = True)\n",
    "train_file_name_04 = glob(path_list[3], recursive = True)\n",
    "train_file_name_05 = glob(path_list[4], recursive = True)\n",
    "train_file_name_06 = glob(path_list[5], recursive = True)\n",
    "train_file_name_07 = glob(path_list[6], recursive = True)\n",
    "train_file_name_08 = glob(path_list[7], recursive = True)\n",
    "train_file_name_09 = glob(path_list[8], recursive = True)\n",
    "train_file_name_10 = glob(path_list[9], recursive = True)\n",
    "valid_file_name_01 = glob(path_list[10], recursive = True)\n",
    "valid_file_name_02 = glob(path_list[11], recursive = True)\n",
    "valid_file_name_03 = glob(path_list[12], recursive = True)\n",
    "valid_file_name_04 = glob(path_list[13], recursive = True)\n",
    "valid_file_name_05 = glob(path_list[14], recursive = True)\n",
    "valid_file_name_06 = glob(path_list[15], recursive = True)\n",
    "valid_file_name_07 = glob(path_list[16], recursive = True)\n",
    "valid_file_name_08 = glob(path_list[17], recursive = True)\n",
    "valid_file_name_09 = glob(path_list[18], recursive = True)\n",
    "valid_file_name_10 = glob(path_list[19], recursive = True)  "
   ]
  },
  {
   "cell_type": "code",
   "execution_count": 11,
   "metadata": {},
   "outputs": [
    {
     "name": "stdout",
     "output_type": "stream",
     "text": [
      "The number of file:  21600\n",
      "The number of list element: 21\n"
     ]
    }
   ],
   "source": [
    "the_number_of_file = len(train_file_name_01) \n",
    "print(\"The number of file: \", the_number_of_file)\n",
    "n = the_number_of_file // 1000\n",
    "print(\"The number of list element:\", n)\n",
    "train_file_nested_list_01 = list(divide_source_file_list(train_file_name_01, n))\n",
    "train_file_nested_list_02 = list(divide_source_file_list(train_file_name_02, n))\n",
    "train_file_nested_list_03 = list(divide_source_file_list(train_file_name_03, n))\n",
    "train_file_nested_list_04 = list(divide_source_file_list(train_file_name_04, n))\n",
    "train_file_nested_list_05 = list(divide_source_file_list(train_file_name_05, n))\n",
    "train_file_nested_list_06 = list(divide_source_file_list(train_file_name_06, n))\n",
    "train_file_nested_list_07 = list(divide_source_file_list(train_file_name_07, n))\n",
    "train_file_nested_list_08 = list(divide_source_file_list(train_file_name_08, n))\n",
    "train_file_nested_list_09 = list(divide_source_file_list(train_file_name_09, n))\n",
    "train_file_nested_list_10 = list(divide_source_file_list(train_file_name_10, n))\n",
    "valid_file_nested_list_01 = list(divide_source_file_list(valid_file_name_01, n))\n",
    "valid_file_nested_list_02 = list(divide_source_file_list(valid_file_name_02, n))\n",
    "valid_file_nested_list_03 = list(divide_source_file_list(valid_file_name_03, n))\n",
    "valid_file_nested_list_04 = list(divide_source_file_list(valid_file_name_04, n))\n",
    "valid_file_nested_list_05 = list(divide_source_file_list(valid_file_name_05, n))\n",
    "valid_file_nested_list_06 = list(divide_source_file_list(valid_file_name_06, n))\n",
    "valid_file_nested_list_07 = list(divide_source_file_list(valid_file_name_07, n))\n",
    "valid_file_nested_list_08 = list(divide_source_file_list(valid_file_name_08, n))\n",
    "valid_file_nested_list_09 = list(divide_source_file_list(valid_file_name_09, n))\n",
    "valid_file_nested_list_10 = list(divide_source_file_list(valid_file_name_10, n))"
   ]
  },
  {
   "cell_type": "code",
   "execution_count": 13,
   "metadata": {},
   "outputs": [
    {
     "name": "stdout",
     "output_type": "stream",
     "text": [
      "The number of txt file: 7868\n"
     ]
    }
   ],
   "source": [
    "train_text_file_name_list_01 = txt_file_name_list(train_file_nested_list_01,\n",
    "                                                               \"exploration/summary_and_report_generation_data/AIHUB_summary_and_report_generation_data_01.news_r_train_\")\n",
    "train_text_file_name_list_02 = txt_file_name_list(train_file_nested_list_02,\n",
    "                                                               \"exploration/summary_and_report_generation_data/AIHUB_summary_and_report_generation_data_02.briefing_train_\")\n",
    "train_text_file_name_list_03 = txt_file_name_list(train_file_nested_list_03,\n",
    "                                                               \"exploration/summary_and_report_generation_data/AIHUB_summary_and_report_generation_data_03.his_cul_train_\")\n",
    "train_text_file_name_list_04 = txt_file_name_list(train_file_nested_list_04,\n",
    "                                                               \"exploration/summary_and_report_generation_data/AIHUB_summary_and_report_generation_data_04.paper_train_\")\n",
    "train_text_file_name_list_05 = txt_file_name_list(train_file_nested_list_05,\n",
    "                                                               \"exploration/summary_and_report_generation_data/AIHUB_summary_and_report_generation_data_05.minute_train_\")\n",
    "train_text_file_name_list_06 = txt_file_name_list(train_file_nested_list_06,\n",
    "                                                               \"exploration/summary_and_report_generation_data/AIHUB_summary_and_report_generation_data_06.edit_train_\")\n",
    "train_text_file_name_list_07 = txt_file_name_list(train_file_nested_list_07,\n",
    "                                                               \"exploration/summary_and_report_generation_data/AIHUB_summary_and_report_generation_data_07.public_train_\")\n",
    "train_text_file_name_list_08 = txt_file_name_list(train_file_nested_list_08,\n",
    "                                                               \"explorationo/summary_and_report_generation_data/AIHUB_summary_and_report_generation_data_08.speech_train_\")\n",
    "train_text_file_name_list_09 = txt_file_name_list(train_file_nested_list_09,\n",
    "                                                               \"exploration/summary_and_report_generation_data/AIHUB_summary_and_report_generation_data_09.literature_train_\")\n",
    "train_text_file_name_list_10 = txt_file_name_list(train_file_nested_list_10,\n",
    "                                                               \"exploration/summary_and_report_generation_data/AIHUB_summary_and_report_generation_data_10.narration_train_\")\n",
    "valid_text_file_name_list_01 = txt_file_name_list(valid_file_nested_list_01,\n",
    "                                                               \"exploration/summary_and_report_generation_data/AIHUB_summary_and_report_generation_data_01.news_r_valid_\")\n",
    "valid_text_file_name_list_02 = txt_file_name_list(valid_file_nested_list_02,\n",
    "                                                               \"exploration/summary_and_report_generation_data/AIHUB_summary_and_report_generation_data_02.briefing_valid_\")\n",
    "valid_text_file_name_list_03 = txt_file_name_list(valid_file_nested_list_03,\n",
    "                                                               \"exploration/summary_and_report_generation_data/AIHUB_summary_and_report_generation_data_03.his_cul_valid_\")\n",
    "valid_text_file_name_list_04 = txt_file_name_list(valid_file_nested_list_04,\n",
    "                                                               \"exploration/summary_and_report_generation_data/AIHUB_summary_and_report_generation_data_04.paper_valid_\")\n",
    "valid_text_file_name_list_05 = txt_file_name_list(valid_file_nested_list_05,\n",
    "                                                               \"exploration/summary_and_report_generation_data/AIHUB_summary_and_report_generation_data_05.minute_valid_\")\n",
    "valid_text_file_name_list_06 = txt_file_name_list(valid_file_nested_list_06,\n",
    "                                                               \"exploration/summary_and_report_generation_data/AIHUB_summary_and_report_generation_data_06.edit_valid_\")\n",
    "valid_text_file_name_list_07 = txt_file_name_list(valid_file_nested_list_07,\n",
    "                                                               \"exploration/summary_and_report_generation_data/AIHUB_summary_and_report_generation_data_07.public_valid_\")\n",
    "valid_text_file_name_list_08 = txt_file_name_list(valid_file_nested_list_08,\n",
    "                                                               \"exploration/summary_and_report_generation_data/AIHUB_summary_and_report_generation_data_08.speech_valid_\")\n",
    "valid_text_file_name_list_09 = txt_file_name_list(valid_file_nested_list_09,\n",
    "                                                               \"exploration/summary_and_report_generation_data/AIHUB_summary_and_report_generation_data_09.literature_valid_\")\n",
    "valid_text_file_name_list_10 = txt_file_name_list(valid_file_nested_list_10,\n",
    "                                                               \"exploration/summary_and_report_generation_data/AIHUB_summary_and_report_generation_data_10.narration_valid_\")\n",
    "\n",
    "the_numer_of_txt_file = len(train_text_file_name_list_01) + len(train_text_file_name_list_02) + \\\n",
    "    len(train_text_file_name_list_03) + len(train_text_file_name_list_04) + \\\n",
    "    len(train_text_file_name_list_05) + len(train_text_file_name_list_06) + \\\n",
    "    len(train_text_file_name_list_07) + len(train_text_file_name_list_08) + \\\n",
    "    len(train_text_file_name_list_09) + len(train_text_file_name_list_10) +  \\\n",
    "    len(valid_text_file_name_list_01) + len(valid_text_file_name_list_02) + \\\n",
    "    len(valid_text_file_name_list_03) + len(valid_text_file_name_list_04) + \\\n",
    "    len(valid_text_file_name_list_05) + len(valid_text_file_name_list_06) + \\\n",
    "    len(valid_text_file_name_list_07) + len(valid_text_file_name_list_08) + \\\n",
    "    len(valid_text_file_name_list_09) + len(valid_text_file_name_list_10)\n",
    "print(\"The number of txt file:\", the_numer_of_txt_file )"
   ]
  },
  {
   "cell_type": "code",
   "execution_count": 17,
   "metadata": {},
   "outputs": [],
   "source": [
    "def list_length_checker(source_file_nested_list, batch_size):\n",
    "    \n",
    "    the_number_of_total_txt_file = 0\n",
    "    the_number_of_txt_file_list = []\n",
    "    temp_nested_index = []\n",
    "    source_list = []\n",
    "    \n",
    "    for i in range(len(source_file_nested_list)):   \n",
    "        source_file_list = source_file_nested_list[i]\n",
    "        temp_index = []\n",
    "        for j in range(len(source_file_list)):\n",
    "            \n",
    "            if type(source_file_list) == str:\n",
    "                source_file = source_file_list\n",
    "\n",
    "            elif type(source_file_list) == list:\n",
    "                source_file = source_file_list[j]\n",
    "            \n",
    "            with open(source_file, 'r', encoding='utf-8') as one_json_file:\n",
    "                one_json_sample = json.load(one_json_file) \n",
    "\n",
    "            source = list(one_json_sample['Meta(Refine)']['passage'])\n",
    "            \n",
    "            if (len(source_list) >= batch_size) or \\\n",
    "            (i == (len(source_file_nested_list) -1) and j == (len(source_file_list) -1)):\n",
    "              num += 1\n",
    "              print(str(num), end=\" \")    \n",
    "\n",
    "              source_list = []\n",
    "              source_list.append(source)\n",
    "            \n",
    "            elif \n",
    "\n",
    "            else:\n",
    "              source_list.append(source)  \n",
    "\n",
    "                \n",
    "            the_number_of_txt_file = 1\n",
    "\n",
    "            if len(source_list) >= batch_size:\n",
    "                print(\"File:\", source_file_nested_list[i][0] + \"  ~  \" + source_file)    \n",
    "                print(\"Index:\", i, \"  \", \"Length of Source List:\", len(source_list), \\\n",
    "                    \"  \", \"The number of txt file:\", the_number_of_txt_file, \"\\n\")\n",
    "                the_number_of_txt_file_list.append(the_number_of_txt_file)\n",
    "                the_number_of_total_txt_file  += the_number_of_txt_file\n",
    "            else:\n",
    "                the_number_of_total_txt_file  += 1\n",
    "                the_number_of_txt_file_list.append(1)\n",
    "                if j > 0 and the_number_of_file % j == 0:\n",
    "                    temp_index.append(j)\n",
    "                    try:\n",
    "                        if j == temp_nested_index[0][0] and len(temp_nested_index) <= 1:\n",
    "                            print(\"[For Example]\")\n",
    "                            print(\"This is not subject of batch. It's small source list.\")                            \n",
    "                            print(\"File:\", source_file)\n",
    "                            print(\"Length of Source List:\", len(source_list), \n",
    "                                    \"  \", \"The number of txt file:\", 1, \"\\n\") \n",
    "                    except:\n",
    "                        pass\n",
    "\n",
    "    print(\"Batch Size:\", batch_size)\n",
    "    print(\"The number of txt file:\", the_number_of_total_txt_file)\n",
    "    \n",
    "    return the_number_of_total_txt_file, the_number_of_txt_file_list"
   ]
  },
  {
   "cell_type": "code",
   "execution_count": null,
   "metadata": {},
   "outputs": [],
   "source": [
    "def make_corpus_txt_with_batch_list(source_file_nested_list,\n",
    "                                    text_file_name_list,\n",
    "                                    batch_size, the_number_of_total_txt_file_list):\n",
    "\n",
    "  print(\"[Size]\")\n",
    "  print(\"The numnber of preprocessing corpus: \" + str(sum(the_number_of_total_txt_file_list)))\n",
    "  print(\"\\n[Order]\")\n",
    "  num = 0\n",
    "  source_list = []\n",
    "\n",
    "  for i in range(len(source_file_nested_list)):\n",
    "    source_file_list = source_file_nested_list[i]\n",
    "    \n",
    "    for j in range(len(source_file_list)):\n",
    "      \n",
    "      if type(source_file_list) == str:\n",
    "        source_file = source_file_list\n",
    "\n",
    "      elif type(source_file_list) == list:\n",
    "        source_file = source_file_list[j]\n",
    "\n",
    "      with open(source_file, 'r', encoding='utf-8') as one_json_file:\n",
    "        one_json_sample = json.load(one_json_file)\n",
    "\n",
    "      source = [one_json_sample['Meta(Refine)']['passage']]\n",
    "      \n",
    "      if len(source_list) >= batch_size or \\\n",
    "     (i == (len(source_file_nested_list) -1) and j == (len(source_file_list) -1)):\n",
    "          num += 1\n",
    "          print(str(num), end=\" \")  \n",
    "          \n",
    "          with open(os.path.join('AIHUB_corpus/' + text_file_name_list[i][:-4] + \"_\" + str(num) + \".txt\"), \"a\", encoding='utf-8') as fp:        \n",
    "              fp.write(\"\\n\".join(source_list))   \n",
    "    \n",
    "          source_list = []\n",
    "          source_list.append(source)\n",
    "            \n",
    "       else:\n",
    "          source_list.append(source)          "
   ]
  },
  {
   "cell_type": "code",
   "execution_count": null,
   "metadata": {},
   "outputs": [],
   "source": [
    "batch_size = 1000\n",
    "the_number_of_train_txt_file_01, the_number_of_train_txt_file_list_01 = list_length_checker(train_file_nested_list_01, batch_size)"
   ]
  },
  {
   "cell_type": "code",
   "execution_count": null,
   "metadata": {},
   "outputs": [],
   "source": [
    "batch_size = 1000\n",
    "the_number_of_train_txt_file_02, the_number_of_train_txt_file_list_02 = list_length_checker(train_file_nested_list_02, batch_size)"
   ]
  },
  {
   "cell_type": "code",
   "execution_count": null,
   "metadata": {},
   "outputs": [],
   "source": [
    "batch_size = 1000\n",
    "the_number_of_train_txt_file_03, the_number_of_train_txt_file_list_03 = list_length_checker(train_file_nested_list_03, batch_size)"
   ]
  },
  {
   "cell_type": "code",
   "execution_count": null,
   "metadata": {},
   "outputs": [],
   "source": [
    "batch_size = 1000\n",
    "the_number_of_train_txt_file_04, the_number_of_train_txt_file_list_04 = list_length_checker(train_file_nested_list_04, batch_size)"
   ]
  },
  {
   "cell_type": "code",
   "execution_count": null,
   "metadata": {},
   "outputs": [],
   "source": [
    "batch_size = 1000\n",
    "the_number_of_train_txt_file_05, the_number_of_train_txt_file_list_05 = list_length_checker(train_file_nested_list_05, batch_size)"
   ]
  },
  {
   "cell_type": "code",
   "execution_count": null,
   "metadata": {},
   "outputs": [],
   "source": [
    "batch_size = 1000\n",
    "the_number_of_train_txt_file_06, the_number_of_train_txt_file_list_06 = list_length_checker(train_file_nested_list_06, batch_size)"
   ]
  },
  {
   "cell_type": "code",
   "execution_count": null,
   "metadata": {},
   "outputs": [],
   "source": [
    "batch_size = 1000\n",
    "the_number_of_train_txt_file_07, the_number_of_train_txt_file_list_07 = list_length_checker(train_file_nested_list_07, batch_size)"
   ]
  },
  {
   "cell_type": "code",
   "execution_count": null,
   "metadata": {},
   "outputs": [],
   "source": [
    "batch_size = 1000\n",
    "the_number_of_train_txt_file_08, the_number_of_train_txt_file_list_08 = list_length_checker(train_file_nested_list_08, batch_size)"
   ]
  },
  {
   "cell_type": "code",
   "execution_count": null,
   "metadata": {},
   "outputs": [],
   "source": [
    "batch_size = 1000\n",
    "the_number_of_train_txt_file_09, the_number_of_train_txt_file_list_09 = list_length_checker(train_file_nested_list_09, batch_size)"
   ]
  },
  {
   "cell_type": "code",
   "execution_count": null,
   "metadata": {},
   "outputs": [],
   "source": [
    "batch_size = 1000\n",
    "the_number_of_train_txt_file_10, the_number_of_train_txt_file_list_10 = list_length_checker(train_file_nested_list_10, batch_size)"
   ]
  },
  {
   "cell_type": "code",
   "execution_count": null,
   "metadata": {},
   "outputs": [],
   "source": [
    "batch_size = 1000\n",
    "the_number_of_valid_txt_file_01, the_number_of_valid_txt_file_list_01 = list_length_checker(valid_file_nested_list_01, batch_size)"
   ]
  },
  {
   "cell_type": "code",
   "execution_count": null,
   "metadata": {},
   "outputs": [],
   "source": [
    "batch_size = 1000\n",
    "the_number_of_valid_txt_file_02, the_number_of_valid_txt_file_list_02 = list_length_checker(valid_file_nested_list_02, batch_size)"
   ]
  },
  {
   "cell_type": "code",
   "execution_count": null,
   "metadata": {},
   "outputs": [],
   "source": [
    "batch_size = 1000\n",
    "the_number_of_valid_txt_file_03, the_number_of_valid_txt_file_list_03 = list_length_checker(valid_file_nested_list_03, batch_size)"
   ]
  },
  {
   "cell_type": "code",
   "execution_count": null,
   "metadata": {},
   "outputs": [],
   "source": [
    "batch_size = 1000\n",
    "the_number_of_valid_txt_file_04, the_number_of_valid_txt_file_list_04 = list_length_checker(valid_file_nested_list_04, batch_size)"
   ]
  },
  {
   "cell_type": "code",
   "execution_count": null,
   "metadata": {},
   "outputs": [],
   "source": [
    "batch_size = 1000\n",
    "the_number_of_valid_txt_file_05, the_number_of_valid_txt_file_list_05 = list_length_checker(valid_file_nested_list_05, batch_size)"
   ]
  },
  {
   "cell_type": "code",
   "execution_count": null,
   "metadata": {},
   "outputs": [],
   "source": [
    "batch_size = 1000\n",
    "the_number_of_valid_txt_file_06, the_number_of_valid_txt_file_list_06 = list_length_checker(valid_file_nested_list_06, batch_size)"
   ]
  },
  {
   "cell_type": "code",
   "execution_count": null,
   "metadata": {},
   "outputs": [],
   "source": [
    "batch_size = 1000\n",
    "the_number_of_valid_txt_file_07, the_number_of_valid_txt_file_list_07 = list_length_checker(valid_file_nested_list_07, batch_size)"
   ]
  },
  {
   "cell_type": "code",
   "execution_count": null,
   "metadata": {},
   "outputs": [],
   "source": [
    "batch_size = 1000\n",
    "the_number_of_valid_txt_file_08, the_number_of_valid_txt_file_list_08 = list_length_checker(valid_file_nested_list_08, batch_size)"
   ]
  },
  {
   "cell_type": "code",
   "execution_count": null,
   "metadata": {},
   "outputs": [],
   "source": [
    "batch_size = 1000\n",
    "the_number_of_valid_txt_file_09, the_number_of_valid_txt_file_list_09 = list_length_checker(valid_file_nested_list_09, batch_size)"
   ]
  },
  {
   "cell_type": "code",
   "execution_count": null,
   "metadata": {},
   "outputs": [],
   "source": [
    "batch_size = 1000\n",
    "the_number_of_valid_txt_file_10, the_number_of_valid_txt_file_list_10 = list_length_checker(valid_file_nested_list_10, batch_size)"
   ]
  },
  {
   "cell_type": "code",
   "execution_count": null,
   "metadata": {},
   "outputs": [],
   "source": [
    "batch_size = 1000\n",
    "make_corpus_txt_with_batch_list(train_file_nested_list_01, train_text_file_name_list_01, batch_size, the_number_of_train_txt_file_list_01)"
   ]
  },
  {
   "cell_type": "code",
   "execution_count": null,
   "metadata": {},
   "outputs": [],
   "source": [
    "batch_size = 1000\n",
    "make_corpus_txt_with_batch_list(train_file_nested_list_02, train_text_file_name_list_02, batch_size, the_number_of_train_txt_file_list_02)"
   ]
  },
  {
   "cell_type": "code",
   "execution_count": null,
   "metadata": {},
   "outputs": [],
   "source": [
    "batch_size = 1000\n",
    "make_corpus_txt_with_batch_list(train_file_nested_list_03, train_text_file_name_list_03, batch_size, the_number_of_train_txt_file_list_03)"
   ]
  },
  {
   "cell_type": "code",
   "execution_count": null,
   "metadata": {},
   "outputs": [],
   "source": [
    "batch_size = 1000\n",
    "make_corpus_txt_with_batch_list(train_file_nested_list_04, train_text_file_name_list_04, batch_size, the_number_of_train_txt_file_list_04)"
   ]
  },
  {
   "cell_type": "code",
   "execution_count": null,
   "metadata": {},
   "outputs": [],
   "source": [
    "batch_size = 1000\n",
    "make_corpus_txt_with_batch_list(train_file_nested_list_05, train_text_file_name_list_05, batch_size, the_number_of_train_txt_file_list_05)"
   ]
  },
  {
   "cell_type": "code",
   "execution_count": null,
   "metadata": {},
   "outputs": [],
   "source": [
    "batch_size = 1000\n",
    "make_corpus_txt_with_batch_list(train_file_nested_list_06, train_text_file_name_list_06, batch_size, the_number_of_train_txt_file_list_06)"
   ]
  },
  {
   "cell_type": "code",
   "execution_count": null,
   "metadata": {},
   "outputs": [],
   "source": [
    "batch_size = 1000\n",
    "make_corpus_txt_with_batch_list(train_file_nested_list_07, train_text_file_name_list_07, batch_size, the_number_of_train_txt_file_list_07)"
   ]
  },
  {
   "cell_type": "code",
   "execution_count": null,
   "metadata": {},
   "outputs": [],
   "source": [
    "batch_size = 1000\n",
    "make_corpus_txt_with_batch_list(train_file_nested_list_08, train_text_file_name_list_08, batch_size, the_number_of_train_txt_file_list_08)"
   ]
  },
  {
   "cell_type": "code",
   "execution_count": null,
   "metadata": {},
   "outputs": [],
   "source": [
    "batch_size = 1000\n",
    "make_corpus_txt_with_batch_list(train_file_nested_list_09, train_text_file_name_list_09, batch_size, the_number_of_train_txt_file_list_09)"
   ]
  },
  {
   "cell_type": "code",
   "execution_count": null,
   "metadata": {},
   "outputs": [],
   "source": [
    "batch_size = 1000\n",
    "make_corpus_txt_with_batch_list(train_file_nested_list_10, train_text_file_name_list_10, batch_size, the_number_of_train_txt_file_list_10)"
   ]
  },
  {
   "cell_type": "code",
   "execution_count": null,
   "metadata": {},
   "outputs": [],
   "source": [
    "batch_size = 1000\n",
    "make_corpus_txt_with_batch_list(valid_file_nested_list_01, valid_text_file_name_list_01, batch_size, the_number_of_valid_txt_file_list_01)"
   ]
  },
  {
   "cell_type": "code",
   "execution_count": null,
   "metadata": {},
   "outputs": [],
   "source": [
    "batch_size = 1000\n",
    "make_corpus_txt_with_batch_list(valid_file_nested_list_02, valid_text_file_name_list_02, batch_size, the_number_of_valid_txt_file_list_02)"
   ]
  },
  {
   "cell_type": "code",
   "execution_count": null,
   "metadata": {},
   "outputs": [],
   "source": [
    "batch_size = 1000\n",
    "make_corpus_txt_with_batch_list(valid_file_nested_list_03, valid_text_file_name_list_03, batch_size, the_number_of_valid_txt_file_list_03)"
   ]
  },
  {
   "cell_type": "code",
   "execution_count": null,
   "metadata": {},
   "outputs": [],
   "source": [
    "batch_size = 1000\n",
    "make_corpus_txt_with_batch_list(valid_file_nested_list_04, valid_text_file_name_list_04, batch_size, the_number_of_valid_txt_file_list_04)"
   ]
  },
  {
   "cell_type": "code",
   "execution_count": null,
   "metadata": {},
   "outputs": [],
   "source": [
    "batch_size = 1000\n",
    "make_corpus_txt_with_batch_list(valid_file_nested_list_05, valid_text_file_name_list_05, batch_size, the_number_of_valid_txt_file_list_05)"
   ]
  },
  {
   "cell_type": "code",
   "execution_count": null,
   "metadata": {},
   "outputs": [],
   "source": [
    "batch_size = 1000\n",
    "make_corpus_txt_with_batch_list(valid_file_nested_list_06, valid_text_file_name_list_06, batch_size, the_number_of_valid_txt_file_list_06)"
   ]
  },
  {
   "cell_type": "code",
   "execution_count": null,
   "metadata": {},
   "outputs": [],
   "source": [
    "batch_size = 1000\n",
    "make_corpus_txt_with_batch_list(valid_file_nested_list_07, valid_text_file_name_list_07, batch_size, the_number_of_valid_txt_file_list_07)"
   ]
  },
  {
   "cell_type": "code",
   "execution_count": null,
   "metadata": {},
   "outputs": [],
   "source": [
    "batch_size = 1000\n",
    "make_corpus_txt_with_batch_list(valid_file_nested_list_08, valid_text_file_name_list_08, batch_size, the_number_of_valid_txt_file_list_08)"
   ]
  },
  {
   "cell_type": "code",
   "execution_count": null,
   "metadata": {},
   "outputs": [],
   "source": [
    "batch_size = 1000\n",
    "make_corpus_txt_with_batch_list(valid_file_nested_list_09, valid_text_file_name_list_09, batch_size, the_number_of_valid_txt_file_list_09)"
   ]
  },
  {
   "cell_type": "code",
   "execution_count": null,
   "metadata": {},
   "outputs": [],
   "source": [
    "batch_size = 1000\n",
    "make_corpus_txt_with_batch_list(valid_file_nested_list_10, valid_text_file_name_list_10, batch_size, the_number_of_valid_txt_file_list_10)"
   ]
  },
  {
   "cell_type": "code",
   "execution_count": null,
   "metadata": {},
   "outputs": [],
   "source": [
    "pro_total_corpus_list = glob(\"AIHUB_corpus/exploration/summary_and_report_generation_data_pro/AIHUB_summary_and_report_generation_data_\" +\"*.txt\")"
   ]
  },
  {
   "cell_type": "code",
   "execution_count": null,
   "metadata": {},
   "outputs": [],
   "source": [
    "len(pro_total_corpus_list)"
   ]
  },
  {
   "cell_type": "code",
   "execution_count": null,
   "metadata": {},
   "outputs": [],
   "source": [
    "post_total_corpus_list = post_txt_file_name_list(pro_total_corpus_list)"
   ]
  },
  {
   "cell_type": "code",
   "execution_count": null,
   "metadata": {},
   "outputs": [],
   "source": [
    "line_list = []\n",
    "line_num = 0\n",
    "with open(pro_total_corpus_list[0], 'r', encoding='utf-8') as f:\n",
    "    lines = f.read().splitlines() \n",
    "    for line in lines:\n",
    "        line_num += 1\n",
    "        if line_num <= 1:\n",
    "           line_list.append(line)\n",
    "for line in line_list:\n",
    "    print(line, end=\"\\n\\n\")"
   ]
  },
  {
   "cell_type": "code",
   "execution_count": null,
   "metadata": {},
   "outputs": [],
   "source": [
    "line_list = []\n",
    "line_num = 0\n",
    "with open(pro_total_corpus_list[0], 'r', encoding='utf-8') as f:\n",
    "    lines = f.read().splitlines()\n",
    "    for line in lines:\n",
    "        line_num += 1\n",
    "        if line_num <= 1:  \n",
    "            sentences = formal_preprocessing_text(line)\n",
    "            for sentence in sentences:\n",
    "                line_list.append(sentence) \n",
    "            \n",
    "for line in line_list:\n",
    "    print(line, end=\"\\n\\n\")"
   ]
  },
  {
   "cell_type": "code",
   "execution_count": null,
   "metadata": {},
   "outputs": [],
   "source": [
    "ray.init(num_cpus = 4)\n",
    "\n",
    "@ray.remote\n",
    "\n",
    "def formal_preprocessing_text(source):\n",
    "    preprocessing_sentence_list = []\n",
    "    \n",
    "    source = source.strip()\n",
    "    # strip으로 앞뒤 공백 제거\n",
    "\n",
    "    source = re.sub(r\"\\[.*?\\]|\\{.*?\\}\", \"\", source)\n",
    "    # 기타 괄호 제거할 시 괄호 내부에 모든 텍스트 제거\n",
    "\n",
    "\n",
    "    try:\n",
    "        bracket_form = re.compile('\\(([^)]+)')\n",
    "        text_in_small_bracket = bracket_form.findall(source)\n",
    "    \n",
    "    \n",
    "        if type(text_in_small_bracket) == str:\n",
    "\n",
    "            text = text_in_small_bracket\n",
    "\n",
    "            text_size = len(text)\n",
    "            last_index = source.find(text) + len(text)\n",
    "            if len(source) >= last_index+1 and source[last_index-text_size-1] == '(' and source[last_index+1] == '.':\n",
    "                source = source.replace(source[last_index-text_size-1 : last_index+1] + \".\", \".\")\n",
    "\n",
    "            if len(text.split()) > 5 and bool(re.match(r'[.]|[!]|[?]', text[-1])) == True:\n",
    "                small_bracket = \"(\" + text + \")\"\n",
    "                source = source.replace(small_bracket, text)    \n",
    "\n",
    "        elif type(text_in_small_bracket) == list:\n",
    "\n",
    "            for text in text_in_small_bracket:\n",
    "\n",
    "                text_size = len(text)\n",
    "                last_index = source.find(text) + len(text)\n",
    "                if len(source) >= last_index+1 and source[last_index-text_size-1] == '(' and source[last_index+1] == '.':\n",
    "                    source = source.replace(source[last_index-text_size-1 : last_index+1] + \".\", \".\")\n",
    "\n",
    "                if len(text.split()) > 5 and bool(re.match(r'[.]|[!]|[?]', text[-1])) == True:\n",
    "                    small_bracket = \"(\" + text + \")\"\n",
    "                    source = source.replace(small_bracket, text)    \n",
    "\n",
    "    except:\n",
    "        pass\n",
    "\n",
    "        # 마침표(.) 앞에 소괄호')'가 있을시 소괄호 제거와 함께 소괄호 내부 텍스트 제거\n",
    "        # 소괄호 내부 텍스트가 5어절 이상이고 끝이 온점(.). 느낌표(!). 물음표(?)일 떼 소괄호 제거\n",
    "        \n",
    "    \n",
    "    if bool(re.match(r'[가나다라마바사아자차카타파하]+[.]', source[:2])) == True:\n",
    "        source = re.sub(source[:2], \"\", source)\n",
    "        \n",
    "    source = re.sub(r' [가나다라마바사아자차카타파하]+[.]', \"\", source)\n",
    "    # '가.', '나.', ... 형태의 문자열 제거 \n",
    "        \n",
    "    for sentence in kss.split_sentences(source, use_heuristic=False,\n",
    "                                        num_workers=32):\n",
    "    # KSS(Korean Sentence Segmentation)로 문장 분리 \n",
    "    # Formal articles (wiki, news, essays): recommend to False\n",
    "    \n",
    "\n",
    "        if re.search(\"^[A-Za-z0-9ㄱ-ㅎ가-힣一-鿕㐀-䶵豈-龎]\", sentence[0]) is not None and \\\n",
    "            bool(re.match(r'[.]|[!]|[?]', sentence[-1])) == True and \\\n",
    "            len(sentence.split()) > 5:\n",
    "            # 문장의 시작이 특수문자인 문장(영어 대소문자, 한글, 한자, 숫자, -, + 제외\n",
    "            # 문장의 끝이 온점(.). 느낌표(!). 물음표(?)가 아닌 문장 제외\n",
    "            # 다섯 어절 이하 문장 제외\n",
    "\n",
    "\n",
    "            if ']' in sentence and '[' not in sentence:\n",
    "                sentence  = re.sub(r\".*?]\", \"\", sentence)    \n",
    "            # 중괄호 앞에 있는 '성명/직함]' 형태 제거\n",
    "\n",
    "\n",
    "            sentence = re.sub(r\"[^A-Za-z0-9ㄱ-ㅎ가-힣一-鿕㐀-䶵豈-龎()+-.,]\", \" \", sentence)\n",
    "            # 특수문자 제거(영어 대소문자, 한글, 한자, 숫자, -, +, 소괄호, 마침표, 쉼표, 제외)\n",
    "\n",
    "            sentence = sentence.strip()\n",
    "            # strip으로 앞뒤 공백 제거\n",
    "\n",
    "            total_length = len(sentence.replace(\" \" , \"\"))\n",
    "            hangeul_length = len(re.sub(r\"[^ㄱ-ㅣ가-힣\\s]\", \"\", sentence.replace(\" \" , \"\")))\n",
    "            hangeul_ratio = hangeul_length / total_length\n",
    "            if hangeul_ratio >= 0.5:\n",
    "            # 한글이 아닌 문자열이 50% 이상이 넘은 문장 제외\n",
    "\n",
    "                for sentence2 in kss.split_sentences(sentence, use_heuristic=False,\n",
    "                                        num_workers=32):\n",
    "                    for sentence3 in kss.split_sentences(sentence2, use_heuristic=False,\n",
    "                                                         num_workers=32):\n",
    "                        preprocessing_sentence_list.append(sentence3)\n",
    "\n",
    "            # 마지막에 KSS(Korean Sentence Segmentation)로 문장 분리 2번 실행\n",
    "\n",
    "  \n",
    "    return preprocessing_sentence_list"
   ]
  },
  {
   "cell_type": "code",
   "execution_count": null,
   "metadata": {},
   "outputs": [],
   "source": [
    "topic_name_list = ['01.news_r_valid', '02.briefing', '03.his_cul', '04.paper', '05.minute', '06.edit', '07.public',\n",
    "                  '08.speech', '09.literature', '10.narration']"
   ]
  },
  {
   "cell_type": "code",
   "execution_count": null,
   "metadata": {},
   "outputs": [],
   "source": [
    "pro_total_corpus_list_train_01 = glob(\"AIHUB_corpus/exploration/web_data_based_korean_corpus_data_pro/AIHUB_web_data_based_korean_corpus_data_\" + \\\n",
    "                                topic_name_list[0] + \"_train\" + \"*.txt\")\n",
    "post_total_corpus_list_train_01 = post_txt_file_name_list(pro_total_corpus_list_train_01)\n",
    "\n",
    "pro_total_corpus_list_train_02 = glob(\"AIHUB_corpus/exploration/web_data_based_korean_corpus_data_pro/AIHUB_web_data_based_korean_corpus_data_\" + \\\n",
    "                                topic_name_list[1] + \"_train\" + \"*.txt\")\n",
    "post_total_corpus_list_train_02 = post_txt_file_name_list(pro_total_corpus_list_train_02)\n",
    "\n",
    "pro_total_corpus_list_train_03 = glob(\"AIHUB_corpus/exploration/web_data_based_korean_corpus_data_pro/AIHUB_web_data_based_korean_corpus_data_\" + \\\n",
    "                                topic_name_list[2] + \"_train\" + \"*.txt\")\n",
    "post_total_corpus_list_train_03 = post_txt_file_name_list(pro_total_corpus_list_train_03)\n",
    "\n",
    "pro_total_corpus_list_train_04 = glob(\"AIHUB_corpus/exploration/web_data_based_korean_corpus_data_pro/AIHUB_web_data_based_korean_corpus_data_\" + \\\n",
    "                                topic_name_list[3] + \"_train\" + \"*.txt\")\n",
    "post_total_corpus_list_train_04 = post_txt_file_name_list(pro_total_corpus_list_train_04)\n",
    "\n",
    "pro_total_corpus_list_train_05 = glob(\"AIHUB_corpus/exploration/web_data_based_korean_corpus_data_pro/AIHUB_web_data_based_korean_corpus_data_\" + \\\n",
    "                                topic_name_list[4] + \"_train\" + \"*.txt\")\n",
    "post_total_corpus_list_train_05 = post_txt_file_name_list(pro_total_corpus_list_train_05)\n",
    "\n",
    "pro_total_corpus_list_train_06 = glob(\"AIHUB_corpus/exploration/web_data_based_korean_corpus_data_pro/AIHUB_web_data_based_korean_corpus_data_\" + \\\n",
    "                                topic_name_list[5] + \"_train\" + \"*.txt\")\n",
    "post_total_corpus_list_train_06 = post_txt_file_name_list(pro_total_corpus_list_train_06)\n",
    "\n",
    "pro_total_corpus_list_train_07 = glob(\"AIHUB_corpus/exploration/web_data_based_korean_corpus_data_pro/AIHUB_web_data_based_korean_corpus_data_\" + \\\n",
    "                                topic_name_list[6] + \"_train\" + \"*.txt\")\n",
    "post_total_corpus_list_train_07 = post_txt_file_name_list(pro_total_corpus_list_train_07)\n",
    "\n",
    "pro_total_corpus_list_train_08 = glob(\"AIHUB_corpus/exploration/web_data_based_korean_corpus_data_pro/AIHUB_web_data_based_korean_corpus_data_\" + \\\n",
    "                                topic_name_list[7] + \"_train\" + \"*.txt\")\n",
    "post_total_corpus_list_train_08 = post_txt_file_name_list(pro_total_corpus_list_train_08)\n",
    "\n",
    "pro_total_corpus_list_train_09 = glob(\"AIHUB_corpus/exploration/web_data_based_korean_corpus_data_pro/AIHUB_web_data_based_korean_corpus_data_\" + \\\n",
    "                                topic_name_list[8] + \"_train\" + \"*.txt\")\n",
    "post_total_corpus_list_train_09 = post_txt_file_name_list(pro_total_corpus_list_train_09)\n",
    "\n",
    "pro_total_corpus_list_train_10 = glob(\"AIHUB_corpus/exploration/web_data_based_korean_corpus_data_pro/AIHUB_web_data_based_korean_corpus_data_\" + \\\n",
    "                                topic_name_list[9] + \"_train\" + \"*.txt\")\n",
    "post_total_corpus_list_train_10 = post_txt_file_name_list(pro_total_corpus_list_train_10)\n",
    "\n",
    "\n",
    "pro_total_corpus_list_valid_01 = glob(\"AIHUB_corpus/exploration/web_data_based_korean_corpus_data_pro/AIHUB_web_data_based_korean_corpus_data_\" + \\\n",
    "                                topic_name_list[0] + \"_valid\" + \"*.txt\")\n",
    "post_total_corpus_list_valid_01 = post_txt_file_name_list(pro_total_corpus_list_valid_01)\n",
    "\n",
    "pro_total_corpus_list_valid_02 = glob(\"AIHUB_corpus/exploration/web_data_based_korean_corpus_data_pro/AIHUB_web_data_based_korean_corpus_data_\" + \\\n",
    "                                topic_name_list[1] + \"_valid\" + \"*.txt\")\n",
    "post_total_corpus_list_valid_02 = post_txt_file_name_list(pro_total_corpus_list_valid_02)\n",
    "\n",
    "pro_total_corpus_list_valid_03 = glob(\"AIHUB_corpus/exploration/web_data_based_korean_corpus_data_pro/AIHUB_web_data_based_korean_corpus_data_\" + \\\n",
    "                                topic_name_list[2] + \"_valid\" + \"*.txt\")\n",
    "post_total_corpus_list_valid_03 = post_txt_file_name_list(pro_total_corpus_list_valid_03)\n",
    "\n",
    "pro_total_corpus_list_valid_04 = glob(\"AIHUB_corpus/exploration/web_data_based_korean_corpus_data_pro/AIHUB_web_data_based_korean_corpus_data_\" + \\\n",
    "                                topic_name_list[3] + \"_valid\" + \"*.txt\")\n",
    "post_total_corpus_list_valid_04 = post_txt_file_name_list(pro_total_corpus_list_valid_04)\n",
    "\n",
    "pro_total_corpus_list_valid_05 = glob(\"AIHUB_corpus/exploration/web_data_based_korean_corpus_data_pro/AIHUB_web_data_based_korean_corpus_data_\" + \\\n",
    "                                topic_name_list[4] + \"_valid\" + \"*.txt\")\n",
    "post_total_corpus_list_valid_05 = post_txt_file_name_list(pro_total_corpus_list_valid_05)\n",
    "\n",
    "pro_total_corpus_list_valid_06 = glob(\"AIHUB_corpus/exploration/web_data_based_korean_corpus_data_pro/AIHUB_web_data_based_korean_corpus_data_\" + \\\n",
    "                                topic_name_list[5] + \"_valid\" + \"*.txt\")\n",
    "post_total_corpus_list_valid_06 = post_txt_file_name_list(pro_total_corpus_list_valid_06)\n",
    "\n",
    "pro_total_corpus_list_valid_07 = glob(\"AIHUB_corpus/exploration/web_data_based_korean_corpus_data_pro/AIHUB_web_data_based_korean_corpus_data_\" + \\\n",
    "                                topic_name_list[6] + \"_valid\" + \"*.txt\")\n",
    "post_total_corpus_list_valid_07 = post_txt_file_name_list(pro_total_corpus_list_valid_07)\n",
    "\n",
    "pro_total_corpus_list_valid_08 = glob(\"AIHUB_corpus/exploration/web_data_based_korean_corpus_data_pro/AIHUB_web_data_based_korean_corpus_data_\" + \\\n",
    "                                topic_name_list[7] + \"_valid\" + \"*.txt\")\n",
    "post_total_corpus_list_valid_08 = post_txt_file_name_list(pro_total_corpus_list_valid_08)\n",
    "\n",
    "pro_total_corpus_list_valid_09 = glob(\"AIHUB_corpus/exploration/web_data_based_korean_corpus_data_pro/AIHUB_web_data_based_korean_corpus_data_\" + \\\n",
    "                                topic_name_list[8] + \"_valid\" + \"*.txt\")\n",
    "post_total_corpus_list_valid_09 = post_txt_file_name_list(pro_total_corpus_list_valid_09)\n",
    "\n",
    "pro_total_corpus_list_valid_10 = glob(\"AIHUB_corpus/exploration/web_data_based_korean_corpus_data_pro/AIHUB_web_data_based_korean_corpus_data_\" + \\\n",
    "                                topic_name_list[9] + \"_valid\" + \"*.txt\")\n",
    "post_total_corpus_list_valid_10 = post_txt_file_name_list(pro_total_corpus_list_valid_10)"
   ]
  },
  {
   "cell_type": "code",
   "execution_count": null,
   "metadata": {},
   "outputs": [],
   "source": [
    "def preprocessing_corpus_txt(pro_total_corpus_list, post_total_corpus_list)\n",
    "    print(\"[Size]\")\n",
    "    print(\"The number of preprocessing corpus: \" + str(len(pro_total_corpus_list)))\n",
    "    print(\"\\n[Order]\")\n",
    "    num = 0\n",
    "    process_num = 10    \n",
    "\n",
    "    for pro, post in zip(pro_total_corpus_list, post_total_corpus_list):\n",
    "\n",
    "        sentence_list = []\n",
    "\n",
    "        with open(pro, 'r', encoding='utf-8') as f:\n",
    "            lines = f.read().splitlines() \n",
    "            nested_lines_num = len(lines) // process_num\n",
    "            for i in range(nested_lines_num - 1):\n",
    "                start_line = process_num * i\n",
    "                end_line = process_num * (i+1)\n",
    "                futures = [formal_preprocessing_text.remote(lines[start_line:end_line][j]) for j in range(process_num)]\n",
    "                results = ray.get(futures)\n",
    "\n",
    "                if i == nested_lines_num - 2:\n",
    "                    futures = [formal_preprocessing_text.remote(lines[end_line:][j]) for j in range(len(lines) - end_line)]\n",
    "                    results = ray.get(futures)\n",
    "\n",
    "                sentences = list(chain.from_iterable(results))\n",
    "                sentence_list.append(sentences)\n",
    "\n",
    "        sentence_list = list(chain.from_iterable(sentence_list))\n",
    "\n",
    "        num += 1\n",
    "        print(str(num), end=\" \")  \n",
    "\n",
    "        with open(post, 'a', encoding='utf-8') as fp:\n",
    "            fp.write(\"\\n\".join(sentence_list))"
   ]
  },
  {
   "cell_type": "code",
   "execution_count": null,
   "metadata": {},
   "outputs": [],
   "source": [
    "preprocessing_corpus_txt(pro_total_corpus_list_train_01, post_total_corpus_list_train_01)"
   ]
  },
  {
   "cell_type": "code",
   "execution_count": null,
   "metadata": {},
   "outputs": [],
   "source": [
    "preprocessing_corpus_txte(pro_total_corpus_list_train_02, post_total_corpus_list_train_02)"
   ]
  },
  {
   "cell_type": "code",
   "execution_count": null,
   "metadata": {},
   "outputs": [],
   "source": [
    "preprocessing_corpus_txt(pro_total_corpus_list_train_03, post_total_corpus_list_train_03)"
   ]
  },
  {
   "cell_type": "code",
   "execution_count": null,
   "metadata": {},
   "outputs": [],
   "source": [
    "preprocessing_corpus_txt(pro_total_corpus_list_train_04, post_total_corpus_list_train_04)"
   ]
  },
  {
   "cell_type": "code",
   "execution_count": null,
   "metadata": {},
   "outputs": [],
   "source": [
    "preprocessing_corpus_txt(pro_total_corpus_list_train_05, post_total_corpus_list_train_05)"
   ]
  },
  {
   "cell_type": "code",
   "execution_count": null,
   "metadata": {},
   "outputs": [],
   "source": [
    "preprocessing_corpus_txt(pro_total_corpus_list_train_06, post_total_corpus_list_train_06)"
   ]
  },
  {
   "cell_type": "code",
   "execution_count": null,
   "metadata": {},
   "outputs": [],
   "source": [
    "preprocessing_corpus_txt(pro_total_corpus_list_train_07, post_total_corpus_list_train_07)"
   ]
  },
  {
   "cell_type": "code",
   "execution_count": null,
   "metadata": {},
   "outputs": [],
   "source": [
    "preprocessing_corpus_txt(pro_total_corpus_list_train_08, post_total_corpus_list_train_08)"
   ]
  },
  {
   "cell_type": "code",
   "execution_count": null,
   "metadata": {},
   "outputs": [],
   "source": [
    "preprocessing_corpus_txt(pro_total_corpus_list_train_09, post_total_corpus_list_train_09)"
   ]
  },
  {
   "cell_type": "code",
   "execution_count": null,
   "metadata": {},
   "outputs": [],
   "source": [
    "preprocessing_corpus_txt(pro_total_corpus_list_train_10, post_total_corpus_list_train_10)"
   ]
  },
  {
   "cell_type": "code",
   "execution_count": null,
   "metadata": {},
   "outputs": [],
   "source": [
    "preprocessing_corpus_txt(pro_total_corpus_list_valid_01, post_total_corpus_list_valid_01)"
   ]
  },
  {
   "cell_type": "code",
   "execution_count": null,
   "metadata": {},
   "outputs": [],
   "source": [
    "preprocessing_corpus_txt(pro_total_corpus_list_valid_02, post_total_corpus_list_valid_02)"
   ]
  },
  {
   "cell_type": "code",
   "execution_count": null,
   "metadata": {},
   "outputs": [],
   "source": [
    "preprocessing_corpus_txt(pro_total_corpus_list_valid_03, post_total_corpus_list_valid_03)"
   ]
  },
  {
   "cell_type": "code",
   "execution_count": null,
   "metadata": {},
   "outputs": [],
   "source": [
    "preprocessing_corpus_txt(pro_total_corpus_list_valid_04, post_total_corpus_list_valid_04)"
   ]
  },
  {
   "cell_type": "code",
   "execution_count": null,
   "metadata": {},
   "outputs": [],
   "source": [
    "preprocessing_corpus_txt(pro_total_corpus_list_valid_05, post_total_corpus_list_valid_05)"
   ]
  },
  {
   "cell_type": "code",
   "execution_count": null,
   "metadata": {},
   "outputs": [],
   "source": [
    "preprocessing_corpus_txt(pro_total_corpus_list_valid_06, post_total_corpus_list_valid_06)"
   ]
  },
  {
   "cell_type": "code",
   "execution_count": null,
   "metadata": {},
   "outputs": [],
   "source": [
    "preprocessing_corpus_txt(pro_total_corpus_list_valid_07, post_total_corpus_list_valid_07)"
   ]
  },
  {
   "cell_type": "code",
   "execution_count": null,
   "metadata": {},
   "outputs": [],
   "source": [
    "preprocessing_corpus_txt(pro_total_corpus_list_valid_08, post_total_corpus_list_valid_08)"
   ]
  },
  {
   "cell_type": "code",
   "execution_count": null,
   "metadata": {},
   "outputs": [],
   "source": [
    "preprocessing_corpus_txt(pro_total_corpus_list_valid_09, post_total_corpus_list_valid_09)"
   ]
  },
  {
   "cell_type": "code",
   "execution_count": null,
   "metadata": {},
   "outputs": [],
   "source": [
    "preprocessing_corpus_txt(pro_total_corpus_list_valid_10, post_total_corpus_list_valid_10)"
   ]
  },
  {
   "cell_type": "code",
   "execution_count": null,
   "metadata": {},
   "outputs": [],
   "source": [
    "ray.shutdown()"
   ]
  },
  {
   "cell_type": "code",
   "execution_count": null,
   "metadata": {},
   "outputs": [],
   "source": [
    "corpus_list = glob(\"AIHUB_corpus/exploration/summary_and_report_generation_data_post/AIHUB_summary_and_report_generation_data_\" +\"*.txt\")"
   ]
  },
  {
   "cell_type": "code",
   "execution_count": null,
   "metadata": {},
   "outputs": [],
   "source": [
    "for i in range(len(topic_name_list)):\n",
    "    with open('AIHUB_corpus/duplicate/AIHUB_summary_and_report_generation_data_'+ topic_name_list[i] + '.txt', 'w') as f:\n",
    "        topic_corpus_list = [j if topic_name_list[i] in j else None for j in corpust_list]\n",
    "        for corpus in topic_corpus_list:\n",
    "            with open(corpus) as text:\n",
    "                for line in text:\n",
    "                    f.write(line)"
   ]
  },
  {
   "cell_type": "code",
   "execution_count": null,
   "metadata": {},
   "outputs": [],
   "source": [
    "with open('AIHUB_corpus/AIHUB_summary_and_report_generation_data.txt', 'w', encoding='utf-8') as f1:\n",
    "    with open('AIHUB_corpus/duplicate/AIHUB_summary_and_report_generation_data.txt', encoding='utf-8') as f2:\n",
    "        lines = f2.read().splitlines()\n",
    "        single_sentence_dict = dict.fromkeys(lines)\n",
    "        single_sentence_list = list(single_sentence_dict)\n",
    "        f1.write(\"\\n\".join(single_sentence_list))"
   ]
  }
 ],
 "metadata": {
  "kernelspec": {
   "display_name": "corpus_05",
   "language": "python",
   "name": "corpus_05"
  },
  "language_info": {
   "codemirror_mode": {
    "name": "ipython",
    "version": 3
   },
   "file_extension": ".py",
   "mimetype": "text/x-python",
   "name": "python",
   "nbconvert_exporter": "python",
   "pygments_lexer": "ipython3",
   "version": "3.9.13"
  }
 },
 "nbformat": 4,
 "nbformat_minor": 2
}
