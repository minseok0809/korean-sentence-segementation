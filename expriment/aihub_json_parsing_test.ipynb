{
 "cells": [
  {
   "cell_type": "markdown",
   "metadata": {},
   "source": [
    "## AIHub Json Parsing"
   ]
  },
  {
   "cell_type": "markdown",
   "metadata": {},
   "source": [
    "### Development Environment"
   ]
  },
  {
   "cell_type": "code",
   "execution_count": 1,
   "metadata": {
    "collapsed": true
   },
   "outputs": [
    {
     "name": "stdout",
     "output_type": "stream",
     "text": [
      "Collecting kss==3.7.3\n",
      "  Using cached kss-3.7.3-py3-none-any.whl\n",
      "Collecting emoji==1.2.0\n",
      "  Using cached emoji-1.2.0-py3-none-any.whl (131 kB)\n",
      "Collecting regex\n",
      "  Using cached regex-2023.5.5-cp311-cp311-win_amd64.whl (267 kB)\n",
      "Collecting more-itertools\n",
      "  Using cached more_itertools-9.1.0-py3-none-any.whl (54 kB)\n",
      "Installing collected packages: emoji, regex, more-itertools, kss\n",
      "Successfully installed emoji-1.2.0 kss-3.7.3 more-itertools-9.1.0 regex-2023.5.5\n",
      "Note: you may need to restart the kernel to use updated packages.\n"
     ]
    }
   ],
   "source": [
    "%pip install kss==3.7.3"
   ]
  },
  {
   "cell_type": "markdown",
   "metadata": {},
   "source": [
    "KSS Argument Error: Restart Jupyter Kernel Runtime"
   ]
  },
  {
   "cell_type": "code",
   "execution_count": 2,
   "metadata": {
    "collapsed": true
   },
   "outputs": [
    {
     "name": "stdout",
     "output_type": "stream",
     "text": [
      "Collecting python-mecab-ko\n",
      "  Using cached python_mecab_ko-1.3.3-cp311-cp311-win_amd64.whl (814 kB)\n",
      "Collecting python-mecab-ko-dic\n",
      "  Using cached python_mecab_ko_dic-2.1.1.post2-py3-none-any.whl (34.5 MB)\n",
      "Installing collected packages: python-mecab-ko-dic, python-mecab-ko\n",
      "Successfully installed python-mecab-ko-1.3.3 python-mecab-ko-dic-2.1.1.post2\n",
      "Note: you may need to restart the kernel to use updated packages.\n"
     ]
    }
   ],
   "source": [
    "%pip install python-mecab-ko"
   ]
  },
  {
   "cell_type": "markdown",
   "metadata": {},
   "source": [
    "KSS 3.7.3 matches python-mecab-ko"
   ]
  },
  {
   "cell_type": "code",
   "execution_count": 3,
   "metadata": {
    "collapsed": true
   },
   "outputs": [
    {
     "name": "stdout",
     "output_type": "stream",
     "text": [
      "Requirement already satisfied: pandas in c:\\users\\minseok\\anaconda3\\envs\\exercise\\lib\\site-packages (2.0.1)\n",
      "Requirement already satisfied: python-dateutil>=2.8.2 in c:\\users\\minseok\\anaconda3\\envs\\exercise\\lib\\site-packages (from pandas) (2.8.2)\n",
      "Requirement already satisfied: pytz>=2020.1 in c:\\users\\minseok\\anaconda3\\envs\\exercise\\lib\\site-packages (from pandas) (2023.3)\n",
      "Requirement already satisfied: tzdata>=2022.1 in c:\\users\\minseok\\anaconda3\\envs\\exercise\\lib\\site-packages (from pandas) (2023.3)\n",
      "Requirement already satisfied: numpy>=1.21.0 in c:\\users\\minseok\\anaconda3\\envs\\exercise\\lib\\site-packages (from pandas) (1.24.3)\n",
      "Requirement already satisfied: six>=1.5 in c:\\users\\minseok\\anaconda3\\envs\\exercise\\lib\\site-packages (from python-dateutil>=2.8.2->pandas) (1.16.0)\n",
      "Note: you may need to restart the kernel to use updated packages.\n"
     ]
    }
   ],
   "source": [
    "%pip install pandas"
   ]
  },
  {
   "cell_type": "code",
   "execution_count": 1,
   "metadata": {},
   "outputs": [],
   "source": [
    "import re\n",
    "import os\n",
    "import kss\n",
    "import json\n",
    "from mecab import MeCab\n",
    "import pandas as pd\n",
    "from glob import glob"
   ]
  },
  {
   "cell_type": "code",
   "execution_count": 2,
   "metadata": {},
   "outputs": [
    {
     "data": {
      "text/plain": [
       "'D:\\\\AIHUB'"
      ]
     },
     "execution_count": 2,
     "metadata": {},
     "output_type": "execute_result"
    }
   ],
   "source": [
    "pwd"
   ]
  },
  {
   "cell_type": "markdown",
   "metadata": {},
   "source": [
    "### Function"
   ]
  },
  {
   "cell_type": "code",
   "execution_count": 3,
   "metadata": {},
   "outputs": [],
   "source": [
    "def json_file_name_list(path_list):\n",
    "    for i in path_list:\n",
    "        file_name = glob(i, recursive = True)\n",
    "    return file_name"
   ]
  },
  {
   "cell_type": "code",
   "execution_count": 4,
   "metadata": {},
   "outputs": [],
   "source": [
    "def train_valid_json_file_name_list(path_list):\n",
    "    for i in path_list:\n",
    "        if 'rain' in i:\n",
    "            train_file_name = glob(i, recursive = True)\n",
    "        elif 'alid' in i:  \n",
    "            valid_file_name = glob(i, recursive = True)\n",
    "    return train_file_name, valid_file_name"
   ]
  },
  {
   "cell_type": "code",
   "execution_count": 5,
   "metadata": {},
   "outputs": [],
   "source": [
    "def divide_source_file_list(l, n): \n",
    "    for i in range(0, len(l), n): \n",
    "        yield l[i:i + n] "
   ]
  },
  {
   "cell_type": "code",
   "execution_count": 6,
   "metadata": {},
   "outputs": [],
   "source": [
    "def txt_file_name_list(source_file_nested_list, folder_corpus_type_name):\n",
    "   \n",
    "  text_file_name_list = []\n",
    "\n",
    "  for i in range(len(source_file_nested_list)):\n",
    "    txt_file_name = folder_corpus_type_name + str(i) + \".txt\"\n",
    "    text_file_name_list.append(txt_file_name)\n",
    "\n",
    "  return text_file_name_list"
   ]
  },
  {
   "cell_type": "code",
   "execution_count": 7,
   "metadata": {},
   "outputs": [],
   "source": [
    "def train_valid_txt_file_name_list(source_file_nested_list, folder_corpus_type_name):\n",
    "   \n",
    "  train_valid_set = source_file_nested_list[0][0]\n",
    "  text_file_name_list = []\n",
    "\n",
    "  if 'rain' in train_valid_set:\n",
    "    for i in range(len(source_file_nested_list)):\n",
    "      txt_file_name = folder_corpus_type_name + str(i) + \".txt\"\n",
    "      text_file_name_list.append(txt_file_name)\n",
    "\n",
    "  elif 'alid' in train_valid_set:\n",
    "    for i in range(len(source_file_nested_list)):\n",
    "      txt_file_name = folder_corpus_type_name + str(i) + \".txt\"\n",
    "      text_file_name_list.append(txt_file_name)  \n",
    "\n",
    "  return text_file_name_list"
   ]
  },
  {
   "cell_type": "code",
   "execution_count": 23,
   "metadata": {},
   "outputs": [],
   "source": [
    "def post_txt_file_name_list(corpus_list):\n",
    "   \n",
    "  post_corpus_list = []\n",
    "\n",
    "  for corpus_file in corpus_list:\n",
    "    post_corpus = corpus_file.replace(\"pro\", \"post\")\n",
    "    post_corpus_list.append(post_corpus)\n",
    "\n",
    "  return post_corpus_list"
   ]
  },
  {
   "cell_type": "code",
   "execution_count": 8,
   "metadata": {},
   "outputs": [],
   "source": [
    "def formal_preprocessing_text(source):\n",
    "    preprocessing_sentence_list = []\n",
    "    \n",
    "    source = source.strip()\n",
    "    # strip으로 앞뒤 공백 제거\n",
    "    for sentence in kss.split_sentences(source, use_heuristic=False,\n",
    "                                        num_workers=32):\n",
    "    # Formal articles (wiki, news, essays): recommend to False\n",
    "\n",
    "        if re.search(\"^[A-Za-z0-9ㄱ-ㅎ가-힣一-鿕㐀-䶵豈-龎]\", sentence[0]) is not None and \\\n",
    "            bool(re.match(r'[.]|[!]|[?]', sentence[-1])) == True and \\\n",
    "            len(sentence.split()) > 5:\n",
    "            sentence = re.sub(r\"\\[.*?\\]|\\{.*?\\}\", \"\",  sentence)\n",
    "            # The String starts with a letter\n",
    "            # The String ends with [. ! ?]\n",
    "            # 기타 괄호 제거할 시 괄호 내부에 모든 텍스트 제거\n",
    "\n",
    "            sentence = re.sub(r\"[^A-Za-z0-9ㄱ-ㅎ가-힣一-鿕㐀-䶵豈-龎()+-]\", \" \", sentence)\n",
    "            # 특수문자 제거(영어 대소문자, 한글, 한자, 숫자, -, +, 소괄호 제외)\n",
    "\n",
    "            sentence = sentence.strip()\n",
    "            # strip으로 앞뒤 공백 제거\n",
    "            \n",
    "            total_length = len(sentence.replace(\" \" , \"\"))\n",
    "            hangeul_length = len(re.sub(r\"[^ㄱ-ㅣ가-힣\\s]\", \"\", sentence.replace(\" \" , \"\")))\n",
    "            hangeul_ratio = hangeul_length / total_length\n",
    "            if hangeul_ratio >= 0.5:\n",
    "            # 한글이 아닌 문자열이 50% 이상이 넘은 문장 제외\n",
    "                if sentence[-1] == \".\":\n",
    "                    preprocessing_sentence_list.append(sentence)\n",
    "                else:\n",
    "                    preprocessing_sentence_list.append(sentence + \".\")\n",
    "            # 문장의 끝에 '.' 추가\n",
    "\n",
    "    return preprocessing_sentence_list"
   ]
  },
  {
   "cell_type": "code",
   "execution_count": 9,
   "metadata": {},
   "outputs": [],
   "source": [
    "def informal_preprocessing_text(source):\n",
    "    preprocessing_sentence_list = []\n",
    "    \n",
    "    source = source.strip()\n",
    "    # strip으로 앞뒤 공백 제거\n",
    "    for sentence in kss.split_sentences(source, use_heuristic=True,\n",
    "                                        num_workers=32):\n",
    "    # Formal articles (wiki, news, essays): recommend to False\n",
    "\n",
    "        if re.search(\"^[A-Za-z0-9ㄱ-ㅎ가-힣一-鿕㐀-䶵豈-龎]\", sentence[0]) is not None and \\\n",
    "            bool(re.match(r'[.]|[!]|[?]', sentence[-1])) == True and \\\n",
    "            len(sentence.split()) > 5:\n",
    "            sentence = re.sub(r\"\\[.*?\\]|\\{.*?\\}\", \"\",  sentence)\n",
    "            # The String starts with a letter\n",
    "            # The String ends with [. ! ?]\n",
    "            # 기타 괄호 제거할 시 괄호 내부에 모든 텍스트 제거\n",
    "\n",
    "            sentence = re.sub(r\"[^A-Za-z0-9ㄱ-ㅎ가-힣一-鿕㐀-䶵豈-龎()+-]\", \" \", sentence)\n",
    "            # 특수문자 제거(영어 대소문자, 한글, 한자, 숫자, -, +, 소괄호 제외)\n",
    "\n",
    "            sentence = sentence.strip()\n",
    "            # strip으로 앞뒤 공백 제거\n",
    "            \n",
    "            total_length = len(sentence.replace(\" \" , \"\"))\n",
    "            hangeul_length = len(re.sub(r\"[^ㄱ-ㅣ가-힣\\s]\", \"\", sentence.replace(\" \" , \"\")))\n",
    "            hangeul_ratio = hangeul_length / total_length\n",
    "            if hangeul_ratio >= 0.5:\n",
    "            # 한글이 아닌 문자열이 50% 이상이 넘은 문장 제외\n",
    "                if sentence[-1] == \".\":\n",
    "                    preprocessing_sentence_list.append(sentence)\n",
    "                else:\n",
    "                    preprocessing_sentence_list.append(sentence + \".\")\n",
    "            # 문장의 끝에 '.' 추가\n",
    "   \n",
    "    return preprocessing_sentence_list"
   ]
  },
  {
   "cell_type": "markdown",
   "metadata": {},
   "source": [
    "### AIHUB 도서자료 기계독해"
   ]
  },
  {
   "cell_type": "markdown",
   "metadata": {},
   "source": [
    "[Source](https://aihub.or.kr/aihubdata/data/view.do?currMenu=115&topMenu=100&aihubDataSe=realm&dataSetSn=92)"
   ]
  },
  {
   "cell_type": "code",
   "execution_count": 35,
   "metadata": {},
   "outputs": [],
   "source": [
    "path_list = ['AIHUB_도서자료 기계독해/'+ '/**/*.json']\n",
    "file_name = json_file_name_list(path_list)"
   ]
  },
  {
   "cell_type": "code",
   "execution_count": 36,
   "metadata": {},
   "outputs": [
    {
     "name": "stdout",
     "output_type": "stream",
     "text": [
      "The number of file: 2\n",
      "The number of list element: 1\n"
     ]
    }
   ],
   "source": [
    "the_number_of_file = len(file_name) \n",
    "print(\"The number of file:\", the_number_of_file)\n",
    "n = 1\n",
    "print(\"The number of list element:\", n)\n",
    "file_nested_list = list(divide_source_file_list(file_name, n))"
   ]
  },
  {
   "cell_type": "code",
   "execution_count": 58,
   "metadata": {
    "scrolled": true
   },
   "outputs": [
    {
     "name": "stdout",
     "output_type": "stream",
     "text": [
      "The number of txt file: 2\n"
     ]
    }
   ],
   "source": [
    "text_file_name_list = txt_file_name_list(file_nested_list,\n",
    "                                         \"demo/test_pro/AIHUB_test_\")\n",
    "the_numer_of_txt_file = len(text_file_name_list)\n",
    "print(\"The number of txt file:\", the_numer_of_txt_file)"
   ]
  },
  {
   "cell_type": "code",
   "execution_count": 38,
   "metadata": {},
   "outputs": [],
   "source": [
    "def list_length_checker(source_file_nested_list, batch_size):\n",
    "    \n",
    "    the_number_of_total_txt_file = 0\n",
    "    the_number_of_txt_file_list = []\n",
    "    \n",
    "    for source_file_list in source_file_nested_list:   \n",
    "        for i in range(len(source_file_list)):\n",
    "            sentence_list = []\n",
    "            \n",
    "            if type(source_file_list) == str:\n",
    "                source_file = source_file_list\n",
    "\n",
    "            elif type(source_file_list) != str:\n",
    "                source_file = source_file_list[i]\n",
    "            \n",
    "\n",
    "            with open(source_file, 'r', encoding='utf-8') as one_json_file:\n",
    "                one_json_sample = json.load(one_json_file) \n",
    "\n",
    "            source_df = pd.DataFrame(one_json_sample['data'])\n",
    "            source_dict = dict(source_df['paragraphs'].explode())\n",
    "            source_json = pd.json_normalize(source_dict)\n",
    "            source_list = list(source_json.filter(regex='context').values[0])\n",
    "\n",
    "            source_filter_02 = source_json.filter(regex='[0123456789]').values[0]\n",
    "            source_df_02 = pd.DataFrame(source_filter_02)\n",
    "            \n",
    "            for source_df_02_value in source_df_02.values:\n",
    "              for value in source_df_02_value[0]:\n",
    "                try:\n",
    "                    source_list.append(value['context'])\n",
    "                except:\n",
    "                    pass\n",
    "                    \n",
    "            the_number_of_txt_file = ((len(source_list) // batch_size) + 1)\n",
    "\n",
    "            print(\"File:\", source_file)    \n",
    "            print(\"Index:\", i, \"  \", \"Length of Source List:\", len(source_list), \\\n",
    "                \"  \", \"The number of txt file:\", the_number_of_txt_file, \"\\n\")\n",
    "            the_number_of_txt_file_list.append(the_number_of_txt_file)\n",
    "            the_number_of_total_txt_file  += the_number_of_txt_file\n",
    "\n",
    "    print(\"Batch Size:\", batch_size)\n",
    "    print(\"The number of txt file:\", the_number_of_total_txt_file)\n",
    "    \n",
    "    return the_number_of_total_txt_file, the_number_of_txt_file_list"
   ]
  },
  {
   "cell_type": "code",
   "execution_count": 55,
   "metadata": {},
   "outputs": [],
   "source": [
    "def make_corpus_txt_with_batch_list(source_file_nested_list,\n",
    "                                    text_file_name_list,\n",
    "                                    batch_size, the_number_of_txt_file_list):\n",
    "\n",
    "  print(\"[Size]\")\n",
    "  print(\"The numnber of preprocessing corpus: \" + str(sum(the_number_of_txt_file_list)))\n",
    "  print(\"\\n[Order]\")\n",
    "  num = 0\n",
    "  for i in range(len(source_file_nested_list)):\n",
    "    source_file_list = source_file_nested_list[i]\n",
    "    \n",
    "    for j in range(len(source_file_list)):\n",
    "      \n",
    "      if type(source_file_list) == str:\n",
    "        source_file = source_file_list\n",
    "\n",
    "      elif type(source_file_list) != str:\n",
    "        source_file = source_file_list[i]\n",
    "\n",
    "      with open(source_file, 'r', encoding='utf-8') as one_json_file:\n",
    "        one_json_sample = json.load(one_json_file)\n",
    "\n",
    "      source_df = pd.DataFrame(one_json_sample['data'])\n",
    "      source_dict = dict(source_df['paragraphs'].explode())\n",
    "      source_json = pd.json_normalize(source_dict)\n",
    "      source_list = list(source_json.filter(regex='context').values[0])\n",
    "        \n",
    "      source_filter_02 = source_json.filter(regex='[0123456789]').values[0]\n",
    "      source_df_02 = pd.DataFrame(source_filter_02)\n",
    "        \n",
    "      for source_df_02_value in source_df_02.values:\n",
    "        for value in source_df_02_value[0]:\n",
    "          try:\n",
    "              source_list.append(value['context'])\n",
    "          except:\n",
    "            pass\n",
    "\n",
    "      n = batch_size\n",
    "      source_batch_list = list(divide_source_file_list(source_list, n))\n",
    "        \n",
    "      for source_list in source_batch_list:   \n",
    "          \n",
    "        num += 1\n",
    "        print(str(num), end=\" \")  \n",
    "        \n",
    "        with open(os.path.join('AIHUB_corpus/' + text_file_name_list[i][:-4] + \"_\" + str(num) + \".txt\"), \"a\", encoding='utf-8') as fp:        \n",
    "            fp.write(\"\\n\".join(source_list))         "
   ]
  },
  {
   "cell_type": "code",
   "execution_count": 56,
   "metadata": {
    "scrolled": true
   },
   "outputs": [
    {
     "name": "stdout",
     "output_type": "stream",
     "text": [
      "File: AIHUB_도서자료 기계독해\\Training\\도서_220419_add\\도서_220419_add.json\n",
      "Index: 0    Length of Source List: 225000    The number of txt file: 2251 \n",
      "\n",
      "File: AIHUB_도서자료 기계독해\\Validation\\도서.json\n",
      "Index: 0    Length of Source List: 12500    The number of txt file: 126 \n",
      "\n",
      "Batch Size: 100\n",
      "The number of txt file: 2377\n"
     ]
    }
   ],
   "source": [
    "batch_size = 100\n",
    "the_number_of_txt_file, the_number_of_txt_file_list = list_length_checker(file_nested_list, batch_size)"
   ]
  },
  {
   "cell_type": "code",
   "execution_count": 59,
   "metadata": {
    "scrolled": true
   },
   "outputs": [
    {
     "name": "stdout",
     "output_type": "stream",
     "text": [
      "[Size]\n",
      "The numnber of preprocessing corpus: 2251\n",
      "\n",
      "[Order]\n"
     ]
    },
    {
     "name": "stdout",
     "output_type": "stream",
     "text": [
      "1 2 3 4 5 6 7 8 9 10 11 12 13 14 15 16 17 18 19 20 21 22 23 24 25 26 27 28 29 30 31 32 33 34 35 36 37 38 39 40 41 42 43 44 45 46 47 48 49 50 51 52 53 54 55 56 57 58 59 60 61 62 63 64 65 66 67 68 69 70 71 72 73 74 75 76 77 78 79 80 81 82 83 84 85 86 87 88 89 90 91 92 93 94 95 96 97 98 99 100 101 102 103 104 105 106 107 108 109 110 111 112 113 114 115 116 117 118 119 120 121 122 123 124 125 126 127 128 129 130 131 132 133 134 135 136 137 138 139 140 141 142 143 144 145 146 147 148 149 150 151 152 153 154 155 156 157 158 159 160 161 162 163 164 165 166 167 168 169 170 171 172 173 174 175 176 177 178 179 180 181 182 183 184 185 186 187 188 189 190 191 192 193 194 195 196 197 198 199 200 201 202 203 204 205 206 207 208 209 210 211 212 213 214 215 216 217 218 219 220 221 222 223 224 225 226 227 228 229 230 231 232 233 234 235 236 237 238 239 240 241 242 243 244 245 246 247 248 249 250 251 252 253 254 255 256 257 258 259 260 261 262 263 264 265 266 267 268 269 270 271 272 273 274 275 276 277 278 279 280 281 282 283 284 285 286 287 288 289 290 291 292 293 294 295 296 297 298 299 300 301 302 303 304 305 306 307 308 309 310 311 312 313 314 315 316 317 318 319 320 321 322 323 324 325 326 327 328 329 330 331 332 333 334 335 336 337 338 339 340 341 342 343 344 345 346 347 348 349 350 351 352 353 354 355 356 357 358 359 360 361 362 363 364 365 366 367 368 369 370 371 372 373 374 375 376 377 378 379 380 381 382 383 384 385 386 387 388 389 390 391 392 393 394 395 396 397 398 399 400 401 402 403 404 405 406 407 408 409 410 411 412 413 414 415 416 417 418 419 420 421 422 423 424 425 426 427 428 429 430 431 432 433 434 435 436 437 438 439 440 441 442 443 444 445 446 447 448 449 450 451 452 453 454 455 456 457 458 459 460 461 462 463 464 465 466 467 468 469 470 471 472 473 474 475 476 477 478 479 480 481 482 483 484 485 486 487 488 489 490 491 492 493 494 495 496 497 498 499 500 501 502 503 504 505 506 507 508 509 510 511 512 513 514 515 516 517 518 519 520 521 522 523 524 525 526 527 528 529 530 531 532 533 534 535 536 537 538 539 540 541 542 543 544 545 546 547 548 549 550 551 552 553 554 555 556 557 558 559 560 561 562 563 564 565 566 567 568 569 570 571 572 573 574 575 576 577 578 579 580 581 582 583 584 585 586 587 588 589 590 591 592 593 594 595 596 597 598 599 600 601 602 603 604 605 606 607 608 609 610 611 612 613 614 615 616 617 618 619 620 621 622 623 624 625 626 627 628 629 630 631 632 633 634 635 636 637 638 639 640 641 642 643 644 645 646 647 648 649 650 651 652 653 654 655 656 657 658 659 660 661 662 663 664 665 666 667 668 669 670 671 672 673 674 675 676 677 678 679 680 681 682 683 684 685 686 687 688 689 690 691 692 693 694 695 696 697 698 699 700 701 702 703 704 705 706 707 708 709 710 711 712 713 714 715 716 717 718 719 720 721 722 723 724 725 726 727 728 729 730 731 732 733 734 735 736 737 738 739 740 741 742 743 744 745 746 747 748 749 750 751 752 753 754 755 756 757 758 759 760 761 762 763 764 765 766 767 768 769 770 771 772 773 774 775 776 777 778 779 780 781 782 783 784 785 786 787 788 789 790 791 792 793 794 795 796 797 798 799 800 801 802 803 804 805 806 807 808 809 810 811 812 813 814 815 816 817 818 819 820 821 822 823 824 825 826 827 828 829 830 831 832 833 834 835 836 837 838 839 840 841 842 843 844 845 846 847 848 849 850 851 852 853 854 855 856 857 858 859 860 861 862 863 864 865 866 867 868 869 870 871 872 873 874 875 876 877 878 879 880 881 882 883 884 885 886 887 888 889 890 891 892 893 894 895 896 897 898 899 900 901 902 903 904 905 906 907 908 909 910 911 912 913 914 915 916 917 918 919 920 921 922 923 924 925 926 927 928 929 930 931 932 933 934 935 936 937 938 939 940 941 942 943 944 945 946 947 948 949 950 951 952 953 954 955 956 957 958 959 960 961 962 963 964 965 966 967 968 969 970 971 972 973 974 975 976 977 978 979 980 981 982 983 984 985 986 987 988 989 990 991 992 993 994 995 996 997 998 999 1000 1001 1002 1003 1004 1005 1006 1007 1008 1009 1010 1011 1012 1013 1014 1015 1016 1017 1018 1019 1020 1021 1022 1023 1024 1025 1026 1027 1028 1029 1030 1031 1032 1033 1034 1035 1036 1037 1038 1039 1040 1041 1042 1043 1044 1045 1046 1047 1048 1049 1050 1051 1052 1053 1054 1055 1056 1057 1058 1059 1060 1061 1062 1063 1064 1065 1066 1067 1068 1069 1070 1071 1072 1073 1074 1075 1076 1077 1078 1079 1080 1081 1082 1083 1084 1085 1086 1087 1088 1089 1090 1091 1092 1093 1094 1095 1096 1097 1098 1099 1100 1101 1102 1103 1104 1105 1106 1107 1108 1109 1110 1111 1112 1113 1114 1115 1116 1117 1118 1119 1120 1121 1122 1123 1124 1125 1126 1127 1128 1129 1130 1131 1132 1133 1134 1135 1136 1137 1138 1139 1140 1141 1142 1143 1144 1145 1146 1147 1148 1149 1150 1151 1152 1153 1154 1155 1156 1157 1158 1159 1160 1161 1162 1163 1164 1165 1166 1167 1168 1169 1170 1171 1172 1173 1174 1175 1176 1177 1178 1179 1180 1181 1182 1183 1184 1185 1186 1187 1188 1189 1190 1191 1192 1193 1194 1195 1196 1197 1198 1199 1200 1201 1202 1203 1204 1205 1206 1207 1208 1209 1210 1211 1212 1213 1214 1215 1216 1217 1218 1219 1220 1221 1222 1223 1224 1225 1226 1227 1228 1229 1230 1231 1232 1233 1234 1235 1236 1237 1238 1239 1240 1241 1242 1243 1244 1245 1246 1247 1248 1249 1250 1251 1252 1253 1254 1255 1256 1257 1258 1259 1260 1261 1262 1263 1264 1265 1266 1267 1268 1269 1270 1271 1272 1273 1274 1275 1276 1277 1278 1279 1280 1281 1282 1283 1284 1285 1286 1287 1288 1289 1290 1291 1292 1293 1294 1295 1296 1297 1298 1299 1300 1301 1302 1303 1304 1305 1306 1307 1308 1309 1310 1311 1312 1313 1314 1315 1316 1317 1318 1319 1320 1321 1322 1323 1324 1325 1326 1327 1328 1329 1330 1331 1332 1333 1334 1335 1336 1337 1338 1339 1340 1341 1342 1343 1344 1345 1346 1347 1348 1349 1350 1351 1352 1353 1354 1355 1356 1357 1358 1359 1360 1361 1362 1363 1364 1365 1366 1367 1368 1369 1370 1371 1372 1373 1374 1375 1376 1377 1378 1379 1380 1381 1382 1383 1384 1385 1386 1387 1388 1389 1390 1391 1392 1393 1394 1395 1396 1397 1398 1399 1400 1401 1402 1403 1404 1405 1406 1407 1408 1409 1410 1411 1412 1413 1414 1415 1416 1417 1418 1419 1420 1421 1422 1423 1424 1425 1426 1427 1428 1429 1430 1431 1432 1433 1434 1435 1436 1437 1438 1439 1440 1441 1442 1443 1444 1445 1446 1447 1448 1449 1450 1451 1452 1453 1454 1455 1456 1457 1458 1459 1460 1461 1462 1463 1464 1465 1466 1467 1468 1469 1470 1471 1472 1473 1474 1475 1476 1477 1478 1479 1480 1481 1482 1483 1484 1485 1486 1487 1488 1489 1490 1491 1492 1493 1494 1495 1496 1497 1498 1499 1500 1501 1502 1503 1504 1505 1506 1507 1508 1509 1510 1511 1512 1513 1514 1515 1516 1517 1518 1519 1520 1521 1522 1523 1524 1525 1526 1527 1528 1529 1530 1531 1532 1533 1534 1535 1536 1537 1538 1539 1540 1541 1542 1543 1544 1545 1546 1547 1548 1549 1550 1551 1552 1553 1554 1555 1556 1557 1558 1559 1560 1561 1562 1563 1564 1565 1566 1567 1568 1569 1570 1571 1572 1573 1574 1575 1576 1577 1578 1579 1580 1581 1582 1583 1584 1585 1586 1587 1588 1589 1590 1591 1592 1593 1594 1595 1596 1597 1598 1599 1600 1601 1602 1603 1604 1605 1606 1607 1608 1609 1610 1611 1612 1613 1614 1615 1616 1617 1618 1619 1620 1621 1622 1623 1624 1625 1626 1627 1628 1629 1630 1631 1632 1633 1634 1635 1636 1637 1638 1639 1640 1641 1642 1643 1644 1645 1646 1647 1648 1649 1650 1651 1652 1653 1654 1655 1656 1657 1658 1659 1660 1661 1662 1663 1664 1665 1666 1667 1668 1669 1670 1671 1672 1673 1674 1675 1676 1677 1678 1679 1680 1681 1682 1683 1684 1685 1686 1687 1688 1689 1690 1691 1692 1693 1694 1695 1696 1697 1698 1699 1700 1701 1702 1703 1704 1705 1706 1707 1708 1709 1710 1711 1712 1713 1714 1715 1716 1717 1718 1719 1720 1721 1722 1723 1724 1725 1726 1727 1728 1729 1730 1731 1732 1733 1734 1735 1736 1737 1738 1739 1740 1741 1742 1743 1744 1745 1746 1747 1748 1749 1750 1751 1752 1753 1754 1755 1756 1757 1758 1759 1760 1761 1762 1763 1764 1765 1766 1767 1768 1769 1770 1771 1772 1773 1774 1775 1776 1777 1778 1779 1780 1781 1782 1783 1784 1785 1786 1787 1788 1789 1790 1791 1792 1793 1794 1795 1796 1797 1798 1799 1800 1801 1802 1803 1804 1805 1806 1807 1808 1809 1810 1811 1812 1813 1814 1815 1816 1817 1818 1819 1820 1821 1822 1823 1824 1825 1826 1827 1828 1829 1830 1831 1832 1833 1834 1835 1836 1837 1838 1839 1840 1841 1842 1843 1844 1845 1846 1847 1848 1849 1850 1851 1852 1853 1854 1855 1856 1857 1858 1859 1860 1861 1862 1863 1864 1865 1866 1867 1868 1869 1870 1871 1872 1873 1874 1875 1876 1877 1878 1879 1880 1881 1882 1883 1884 1885 1886 1887 1888 1889 1890 1891 1892 1893 1894 1895 1896 1897 1898 1899 1900 1901 1902 1903 1904 1905 1906 1907 1908 1909 1910 1911 1912 1913 1914 1915 1916 1917 1918 1919 1920 1921 1922 1923 1924 1925 1926 1927 1928 1929 1930 1931 1932 1933 1934 1935 1936 1937 1938 1939 1940 1941 1942 1943 1944 1945 1946 1947 1948 1949 1950 1951 1952 1953 1954 1955 1956 1957 1958 1959 1960 1961 1962 1963 1964 1965 1966 1967 1968 1969 1970 1971 1972 1973 1974 1975 1976 1977 1978 1979 1980 1981 1982 1983 1984 1985 1986 1987 1988 1989 1990 1991 1992 1993 1994 1995 1996 1997 1998 1999 2000 2001 2002 2003 2004 2005 2006 2007 2008 2009 2010 2011 2012 2013 2014 2015 2016 2017 2018 2019 2020 2021 2022 2023 2024 2025 2026 2027 2028 2029 2030 2031 2032 2033 2034 2035 2036 2037 2038 2039 2040 2041 2042 2043 2044 2045 2046 2047 2048 2049 2050 2051 2052 2053 2054 2055 2056 2057 2058 2059 2060 2061 2062 2063 2064 2065 2066 2067 2068 2069 2070 2071 2072 2073 2074 2075 2076 2077 2078 2079 2080 2081 2082 2083 2084 2085 2086 2087 2088 2089 2090 2091 2092 2093 2094 2095 2096 2097 2098 2099 2100 2101 2102 2103 2104 2105 2106 2107 2108 2109 2110 2111 2112 2113 2114 2115 2116 2117 2118 2119 2120 2121 2122 2123 2124 2125 2126 2127 2128 2129 2130 2131 2132 2133 2134 2135 2136 2137 2138 2139 2140 2141 2142 2143 2144 2145 2146 2147 2148 2149 2150 2151 2152 2153 2154 2155 2156 2157 2158 2159 2160 2161 2162 2163 2164 2165 2166 2167 2168 2169 2170 2171 2172 2173 2174 2175 2176 2177 2178 2179 2180 2181 2182 2183 2184 2185 2186 2187 2188 2189 2190 2191 2192 2193 2194 2195 2196 2197 2198 2199 2200 2201 2202 2203 2204 2205 2206 2207 2208 2209 2210 2211 2212 2213 2214 2215 2216 "
     ]
    },
    {
     "name": "stdout",
     "output_type": "stream",
     "text": [
      "2217 2218 2219 2220 2221 2222 2223 2224 2225 2226 2227 2228 2229 2230 2231 2232 2233 2234 2235 2236 2237 2238 2239 2240 2241 2242 2243 2244 2245 2246 2247 2248 2249 2250 "
     ]
    }
   ],
   "source": [
    "batch_size = 100\n",
    "make_corpus_txt_with_batch_list(file_nested_list[:1], text_file_name_list[:1],\n",
    "                batch_size, the_number_of_txt_file_list[:1])"
   ]
  },
  {
   "cell_type": "code",
   "execution_count": null,
   "metadata": {},
   "outputs": [],
   "source": [
    "batch_size = 100\n",
    "make_corpus_txt_with_batch_list(file_nested_list[1:], text_file_name_list[1:],\n",
    "                batch_size, the_number_of_txt_file_list[1:])"
   ]
  },
  {
   "cell_type": "code",
   "execution_count": 24,
   "metadata": {},
   "outputs": [],
   "source": [
    "# before_total_corpus_list = glob(\"AIHUB_corpus/demo/machine_reading_before/AIHUB_machine_reading_train_\" +\"*.txt\")\n",
    "# before_total_corpus_list += glob(\"AIHUB_corpus/demo/machine_reading_before/AIHUB_machine_reading_valid_\" +\"*.txt\")\n",
    "pro_total_corpus_list = glob(\"AIHUB_corpus/demo/test_pro/AIHUB_test_\" +\"*.txt\")"
   ]
  },
  {
   "cell_type": "code",
   "execution_count": 26,
   "metadata": {},
   "outputs": [
    {
     "data": {
      "text/plain": [
       "2250"
      ]
     },
     "execution_count": 26,
     "metadata": {},
     "output_type": "execute_result"
    }
   ],
   "source": [
    "len(pro_total_corpus_list)"
   ]
  },
  {
   "cell_type": "code",
   "execution_count": 27,
   "metadata": {},
   "outputs": [],
   "source": [
    "post_total_corpus_list = post_txt_file_name_list(pro_total_corpus_list)"
   ]
  },
  {
   "cell_type": "code",
   "execution_count": 31,
   "metadata": {},
   "outputs": [
    {
     "name": "stdout",
     "output_type": "stream",
     "text": [
      "교사로 임용된 후 약 5년까지의 교사를 초임교사라고 하며, 이 기간 동안 길러지는 능력과 태도 등의 습성은 교사로 재직하는 나머지 기간 동안 교사의 교육활동 전반에 결정적인 영향을 준다(남유섭, 2012; 이현숙, 2004). 또한 교사의 생애사적 관점에서 초임교사를 연구한 임국화(2012)는 초임교사 시절의 경험은 교직생애 발달에 중요한 영향을 미치기 때문에 매우 중요한 시기라고 주장하였다. 이처럼 전문가로서의 교직 생활에 지대한 영향을 끼치는 초임교사 시기에 초임교사가 평가 본연의 특성과 평가활동이 지니는 교육적 영향력을 제대로 인식한다면, 초임교사 개인의 전문성 발달은 물론 향후 교직에 있는 동안 학생을 평가하는 평가 전문성에서도 긍정적인 변화가 있을 것으로 생각한다. 그러므로 초등학교 초임교사의 학생평가 전문성 수준을 분석하여 교직의 학생평가 전문성 함양에 기여할 수 있는 기초적인 정보를 제공하는 일은 의의가 있다고 할 수 있다. \n",
      "\n"
     ]
    }
   ],
   "source": [
    "line_list = []\n",
    "line_num = 0\n",
    "with open(pro_total_corpus_list[0], 'r', encoding='utf-8') as f:\n",
    "    lines = f.read().splitlines() \n",
    "    for line in lines:\n",
    "        line_num += 1\n",
    "        if line_num <= 1:\n",
    "           line_list.append(line)\n",
    "for line in line_list:\n",
    "    print(line, end=\"\\n\\n\")"
   ]
  },
  {
   "cell_type": "code",
   "execution_count": 33,
   "metadata": {},
   "outputs": [
    {
     "name": "stdout",
     "output_type": "stream",
     "text": [
      "교사로 임용된 후 약 5년까지의 교사를 초임교사라고 하며  이 기간 동안 길러지는 능력과 태도 등의 습성은 교사로 재직하는 나머지 기간 동안 교사의 교육활동 전반에 결정적인 영향을 준다(남유섭  2012  이현숙  2004)  또한 교사의 생애사적 관점에서 초임교사를 연구한 임국화(2012)는 초임교사 시절의 경험은 교직생애 발달에 중요한 영향을 미치기 때문에 매우 중요한 시기라고 주장하였다.\n",
      "\n",
      "이처럼 전문가로서의 교직 생활에 지대한 영향을 끼치는 초임교사 시기에 초임교사가 평가 본연의 특성과 평가활동이 지니는 교육적 영향력을 제대로 인식한다면  초임교사 개인의 전문성 발달은 물론 향후 교직에 있는 동안 학생을 평가하는 평가 전문성에서도 긍정적인 변화가 있을 것으로 생각한다.\n",
      "\n",
      "그러므로 초등학교 초임교사의 학생평가 전문성 수준을 분석하여 교직의 학생평가 전문성 함양에 기여할 수 있는 기초적인 정보를 제공하는 일은 의의가 있다고 할 수 있다.\n",
      "\n"
     ]
    }
   ],
   "source": [
    "line_list = []\n",
    "line_num = 0\n",
    "with open(pro_total_corpus_list[0], 'r', encoding='utf-8') as f:\n",
    "    lines = f.read().splitlines()\n",
    "    for line in lines:\n",
    "        line_num += 1\n",
    "        if line_num <= 1:  \n",
    "            sentences = formal_preprocessing_text(line)\n",
    "            for sentence in sentences:\n",
    "                line_list.append(sentence) \n",
    "            \n",
    "for line in line_list:\n",
    "    print(line, end=\"\\n\\n\")"
   ]
  },
  {
   "cell_type": "code",
   "execution_count": 34,
   "metadata": {
    "collapsed": true
   },
   "outputs": [
    {
     "ename": "KeyboardInterrupt",
     "evalue": "",
     "output_type": "error",
     "traceback": [
      "\u001b[1;31m---------------------------------------------------------------------------\u001b[0m",
      "\u001b[1;31mKeyboardInterrupt\u001b[0m                         Traceback (most recent call last)",
      "Cell \u001b[1;32mIn[34], line 7\u001b[0m\n\u001b[0;32m      5\u001b[0m lines \u001b[38;5;241m=\u001b[39m f\u001b[38;5;241m.\u001b[39mread()\u001b[38;5;241m.\u001b[39msplitlines() \n\u001b[0;32m      6\u001b[0m \u001b[38;5;28;01mfor\u001b[39;00m line \u001b[38;5;129;01min\u001b[39;00m lines:\n\u001b[1;32m----> 7\u001b[0m     sentences \u001b[38;5;241m=\u001b[39m formal_preprocessing_text(line)\n\u001b[0;32m      8\u001b[0m     \u001b[38;5;28;01mfor\u001b[39;00m sentence \u001b[38;5;129;01min\u001b[39;00m sentences:\n\u001b[0;32m      9\u001b[0m         sentence_list\u001b[38;5;241m.\u001b[39mappend(sentence) \n",
      "Cell \u001b[1;32mIn[8], line 6\u001b[0m, in \u001b[0;36mformal_preprocessing_text\u001b[1;34m(source)\u001b[0m\n\u001b[0;32m      4\u001b[0m source \u001b[38;5;241m=\u001b[39m source\u001b[38;5;241m.\u001b[39mstrip()\n\u001b[0;32m      5\u001b[0m \u001b[38;5;66;03m# strip으로 앞뒤 공백 제거\u001b[39;00m\n\u001b[1;32m----> 6\u001b[0m \u001b[38;5;28;01mfor\u001b[39;00m sentence \u001b[38;5;129;01min\u001b[39;00m kss\u001b[38;5;241m.\u001b[39msplit_sentences(source, use_heuristic\u001b[38;5;241m=\u001b[39m\u001b[38;5;28;01mFalse\u001b[39;00m,\n\u001b[0;32m      7\u001b[0m                                     num_workers\u001b[38;5;241m=\u001b[39m\u001b[38;5;241m32\u001b[39m):\n\u001b[0;32m      8\u001b[0m \u001b[38;5;66;03m# Formal articles (wiki, news, essays): recommend to False\u001b[39;00m\n\u001b[0;32m     10\u001b[0m     \u001b[38;5;28;01mif\u001b[39;00m re\u001b[38;5;241m.\u001b[39msearch(\u001b[38;5;124m\"\u001b[39m\u001b[38;5;124m^[A-Za-z0-9ㄱ-ㅎ가-힣一-鿕㐀-䶵豈-龎]\u001b[39m\u001b[38;5;124m\"\u001b[39m, sentence[\u001b[38;5;241m0\u001b[39m]) \u001b[38;5;129;01mis\u001b[39;00m \u001b[38;5;129;01mnot\u001b[39;00m \u001b[38;5;28;01mNone\u001b[39;00m \u001b[38;5;129;01mand\u001b[39;00m \\\n\u001b[0;32m     11\u001b[0m         \u001b[38;5;28mbool\u001b[39m(re\u001b[38;5;241m.\u001b[39mmatch(\u001b[38;5;124mr\u001b[39m\u001b[38;5;124m'\u001b[39m\u001b[38;5;124m[.]|[!]|[?]\u001b[39m\u001b[38;5;124m'\u001b[39m, sentence[\u001b[38;5;241m-\u001b[39m\u001b[38;5;241m1\u001b[39m])) \u001b[38;5;241m==\u001b[39m \u001b[38;5;28;01mTrue\u001b[39;00m \u001b[38;5;129;01mand\u001b[39;00m \\\n\u001b[0;32m     12\u001b[0m         \u001b[38;5;28mlen\u001b[39m(sentence\u001b[38;5;241m.\u001b[39msplit()) \u001b[38;5;241m>\u001b[39m \u001b[38;5;241m5\u001b[39m:\n\u001b[0;32m     13\u001b[0m         sentence \u001b[38;5;241m=\u001b[39m re\u001b[38;5;241m.\u001b[39msub(\u001b[38;5;124mr\u001b[39m\u001b[38;5;124m\"\u001b[39m\u001b[38;5;124m\\\u001b[39m\u001b[38;5;124m[.*?\u001b[39m\u001b[38;5;124m\\\u001b[39m\u001b[38;5;124m]|\u001b[39m\u001b[38;5;124m\\\u001b[39m\u001b[38;5;124m{\u001b[39m\u001b[38;5;124m.*?\u001b[39m\u001b[38;5;124m\\\u001b[39m\u001b[38;5;124m}\u001b[39m\u001b[38;5;124m\"\u001b[39m, \u001b[38;5;124m\"\u001b[39m\u001b[38;5;124m\"\u001b[39m,  sentence)\n",
      "File \u001b[1;32m~\\anaconda3\\envs\\exercise\\Lib\\site-packages\\kss\\kss.py:157\u001b[0m, in \u001b[0;36msplit_sentences\u001b[1;34m(text, use_heuristic, use_quotes_brackets_processing, max_recover_step, max_recover_length, backend, num_workers, disable_gc, disable_mp_post_process)\u001b[0m\n\u001b[0;32m    155\u001b[0m     preprocessed_list \u001b[38;5;241m=\u001b[39m \u001b[38;5;28mlist\u001b[39m(pool\u001b[38;5;241m.\u001b[39mmap(build_preprocessed_list, _text))\n\u001b[0;32m    156\u001b[0m \u001b[38;5;28;01melse\u001b[39;00m:\n\u001b[1;32m--> 157\u001b[0m     preprocessed_list \u001b[38;5;241m=\u001b[39m [build_preprocessed_list(t) \u001b[38;5;28;01mfor\u001b[39;00m t \u001b[38;5;129;01min\u001b[39;00m _text]\n\u001b[0;32m    159\u001b[0m \u001b[38;5;28;01mfor\u001b[39;00m input_text \u001b[38;5;129;01min\u001b[39;00m preprocessed_list:\n\u001b[0;32m    160\u001b[0m     \u001b[38;5;28;01mif\u001b[39;00m \u001b[38;5;28mlen\u001b[39m(input_text) \u001b[38;5;241m==\u001b[39m \u001b[38;5;241m0\u001b[39m:\n",
      "File \u001b[1;32m~\\anaconda3\\envs\\exercise\\Lib\\site-packages\\kss\\kss.py:157\u001b[0m, in \u001b[0;36m<listcomp>\u001b[1;34m(.0)\u001b[0m\n\u001b[0;32m    155\u001b[0m     preprocessed_list \u001b[38;5;241m=\u001b[39m \u001b[38;5;28mlist\u001b[39m(pool\u001b[38;5;241m.\u001b[39mmap(build_preprocessed_list, _text))\n\u001b[0;32m    156\u001b[0m \u001b[38;5;28;01melse\u001b[39;00m:\n\u001b[1;32m--> 157\u001b[0m     preprocessed_list \u001b[38;5;241m=\u001b[39m [build_preprocessed_list(t) \u001b[38;5;28;01mfor\u001b[39;00m t \u001b[38;5;129;01min\u001b[39;00m _text]\n\u001b[0;32m    159\u001b[0m \u001b[38;5;28;01mfor\u001b[39;00m input_text \u001b[38;5;129;01min\u001b[39;00m preprocessed_list:\n\u001b[0;32m    160\u001b[0m     \u001b[38;5;28;01mif\u001b[39;00m \u001b[38;5;28mlen\u001b[39m(input_text) \u001b[38;5;241m==\u001b[39m \u001b[38;5;241m0\u001b[39m:\n",
      "File \u001b[1;32m~\\anaconda3\\envs\\exercise\\Lib\\site-packages\\kss\\base.py:411\u001b[0m, in \u001b[0;36mbuild_preprocessed_list\u001b[1;34m(text)\u001b[0m\n\u001b[0;32m    409\u001b[0m         s \u001b[38;5;241m=\u001b[39m s\u001b[38;5;241m.\u001b[39mstrip()\n\u001b[0;32m    410\u001b[0m         \u001b[38;5;28;01mif\u001b[39;00m \u001b[38;5;28mlen\u001b[39m(s) \u001b[38;5;241m>\u001b[39m \u001b[38;5;241m0\u001b[39m:\n\u001b[1;32m--> 411\u001b[0m             s \u001b[38;5;241m=\u001b[39m preprocess_text(s)\n\u001b[0;32m    412\u001b[0m             input_texts\u001b[38;5;241m.\u001b[39mappend(s)\n\u001b[0;32m    414\u001b[0m \u001b[38;5;28;01mreturn\u001b[39;00m input_texts\n",
      "File \u001b[1;32m~\\anaconda3\\envs\\exercise\\Lib\\site-packages\\kss\\base.py:457\u001b[0m, in \u001b[0;36mpreprocess_text\u001b[1;34m(text)\u001b[0m\n\u001b[0;32m    455\u001b[0m \u001b[38;5;28;01mdef\u001b[39;00m \u001b[38;5;21mpreprocess_text\u001b[39m(text):\n\u001b[0;32m    456\u001b[0m     total_text \u001b[38;5;241m=\u001b[39m \u001b[38;5;124m\"\u001b[39m\u001b[38;5;124m\"\u001b[39m\u001b[38;5;241m.\u001b[39mjoin(\n\u001b[1;32m--> 457\u001b[0m         [c \u001b[38;5;28;01mfor\u001b[39;00m c \u001b[38;5;129;01min\u001b[39;00m text \u001b[38;5;28;01mif\u001b[39;00m c \u001b[38;5;129;01min\u001b[39;00m _posix \u001b[38;5;129;01mor\u001b[39;00m \u001b[38;5;28mlen\u001b[39m(get_emoji(c)) \u001b[38;5;241m!=\u001b[39m \u001b[38;5;241m0\u001b[39m \u001b[38;5;129;01mor\u001b[39;00m c \u001b[38;5;129;01min\u001b[39;00m unicodes]\n\u001b[0;32m    458\u001b[0m     )\n\u001b[0;32m    460\u001b[0m     \u001b[38;5;28;01mreturn\u001b[39;00m Const\u001b[38;5;241m.\u001b[39mpattern_space\u001b[38;5;241m.\u001b[39msub(\u001b[38;5;124m\"\u001b[39m\u001b[38;5;124m \u001b[39m\u001b[38;5;124m\"\u001b[39m, total_text)\n",
      "File \u001b[1;32m~\\anaconda3\\envs\\exercise\\Lib\\site-packages\\kss\\base.py:457\u001b[0m, in \u001b[0;36m<listcomp>\u001b[1;34m(.0)\u001b[0m\n\u001b[0;32m    455\u001b[0m \u001b[38;5;28;01mdef\u001b[39;00m \u001b[38;5;21mpreprocess_text\u001b[39m(text):\n\u001b[0;32m    456\u001b[0m     total_text \u001b[38;5;241m=\u001b[39m \u001b[38;5;124m\"\u001b[39m\u001b[38;5;124m\"\u001b[39m\u001b[38;5;241m.\u001b[39mjoin(\n\u001b[1;32m--> 457\u001b[0m         [c \u001b[38;5;28;01mfor\u001b[39;00m c \u001b[38;5;129;01min\u001b[39;00m text \u001b[38;5;28;01mif\u001b[39;00m c \u001b[38;5;129;01min\u001b[39;00m _posix \u001b[38;5;129;01mor\u001b[39;00m \u001b[38;5;28mlen\u001b[39m(get_emoji(c)) \u001b[38;5;241m!=\u001b[39m \u001b[38;5;241m0\u001b[39m \u001b[38;5;129;01mor\u001b[39;00m c \u001b[38;5;129;01min\u001b[39;00m unicodes]\n\u001b[0;32m    458\u001b[0m     )\n\u001b[0;32m    460\u001b[0m     \u001b[38;5;28;01mreturn\u001b[39;00m Const\u001b[38;5;241m.\u001b[39mpattern_space\u001b[38;5;241m.\u001b[39msub(\u001b[38;5;124m\"\u001b[39m\u001b[38;5;124m \u001b[39m\u001b[38;5;124m\"\u001b[39m, total_text)\n",
      "\u001b[1;31mKeyboardInterrupt\u001b[0m: "
     ]
    }
   ],
   "source": [
    "print(\"[Size]\")\n",
    "print(\"The numnber of preprocessing corpus: \" + str(len(pro_total_corpus_list)))\n",
    "print(\"\\n[Order]\")\n",
    "num = 0\n",
    "    \n",
    "for pro, post in zip(pro_total_corpus_list, post_total_corpus_list):\n",
    "    \n",
    "    sentence_list = []\n",
    "    with open(pro, 'r', encoding='utf-8') as f:\n",
    "        lines = f.read().splitlines() \n",
    "        for line in lines:\n",
    "            sentences = formal_preprocessing_text(line)\n",
    "            for sentence in sentences:\n",
    "                sentence_list.append(sentence) \n",
    "\n",
    "    num += 1\n",
    "    print(str(num), end=\" \")  \n",
    "        \n",
    "    with open(post, 'a', encoding='utf-8') as fp:\n",
    "        fp.write(\"\\n\".join(sentence_list))"
   ]
  },
  {
   "cell_type": "code",
   "execution_count": null,
   "metadata": {},
   "outputs": [],
   "source": [
    "corpus_list = glob(\"AIHUB_corpus/demo/reading_books_by_machine/AIHUB_reading_books_by_machine_\" +\"*.txt\")"
   ]
  },
  {
   "cell_type": "code",
   "execution_count": null,
   "metadata": {},
   "outputs": [],
   "source": [
    "with open('AIHUB_corpus/demo/AIHUB_reading_books_by_machine.txt', 'w') as f:\n",
    "    for corpus in corpus_list:\n",
    "        with open(corpus) as text:\n",
    "            for line in text:\n",
    "                f.write(line)"
   ]
  }
 ],
 "metadata": {
  "kernelspec": {
   "display_name": "exercise",
   "language": "python",
   "name": "exercise"
  },
  "language_info": {
   "codemirror_mode": {
    "name": "ipython",
    "version": 3
   },
   "file_extension": ".py",
   "mimetype": "text/x-python",
   "name": "python",
   "nbconvert_exporter": "python",
   "pygments_lexer": "ipython3",
   "version": "3.11.3"
  }
 },
 "nbformat": 4,
 "nbformat_minor": 2
}
