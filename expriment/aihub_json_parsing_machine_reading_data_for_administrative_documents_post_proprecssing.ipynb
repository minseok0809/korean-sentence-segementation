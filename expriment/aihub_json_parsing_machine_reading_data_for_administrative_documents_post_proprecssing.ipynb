{
 "cells": [
  {
   "cell_type": "markdown",
   "metadata": {},
   "source": [
    "## AIHub Json Parsing"
   ]
  },
  {
   "cell_type": "markdown",
   "metadata": {},
   "source": [
    "### Development Environment"
   ]
  },
  {
   "cell_type": "code",
   "execution_count": null,
   "metadata": {},
   "outputs": [],
   "source": [
    "%pip install kss==3.7.3"
   ]
  },
  {
   "cell_type": "markdown",
   "metadata": {},
   "source": [
    "KSS Argument Error: Restart Jupyter Kernel Runtime"
   ]
  },
  {
   "cell_type": "code",
   "execution_count": null,
   "metadata": {},
   "outputs": [],
   "source": [
    "%pip install python-mecab-ko"
   ]
  },
  {
   "cell_type": "markdown",
   "metadata": {},
   "source": [
    "KSS 3.7.3 matches python-mecab-ko"
   ]
  },
  {
   "cell_type": "code",
   "execution_count": null,
   "metadata": {},
   "outputs": [],
   "source": [
    "%pip install pandas"
   ]
  },
  {
   "cell_type": "code",
   "execution_count": 1,
   "metadata": {},
   "outputs": [],
   "source": [
    "import re\n",
    "import os\n",
    "import kss\n",
    "import json\n",
    "from mecab import MeCab\n",
    "import pandas as pd\n",
    "from glob import glob"
   ]
  },
  {
   "cell_type": "code",
   "execution_count": 2,
   "metadata": {},
   "outputs": [
    {
     "data": {
      "text/plain": [
       "'D:\\\\AIHUB'"
      ]
     },
     "execution_count": 2,
     "metadata": {},
     "output_type": "execute_result"
    }
   ],
   "source": [
    "pwd"
   ]
  },
  {
   "cell_type": "markdown",
   "metadata": {},
   "source": [
    "### AIHUB 행정 문서 대상 기계독해 데이터"
   ]
  },
  {
   "cell_type": "markdown",
   "metadata": {},
   "source": [
    "[Source](https://aihub.or.kr/aihubdata/data/view.do?currMenu=115&topMenu=100&aihubDataSe=realm&dataSetSn=569)"
   ]
  },
  {
   "cell_type": "code",
   "execution_count": 35,
   "metadata": {},
   "outputs": [],
   "source": [
    "total_corpus_list = glob(\"AIHUB_corpus/demo/machine_reading_data_for_administrative_documents_before/AIHUB_machine_reading_data_for_administrative_documents_train_\" +\"*.txt\")\n",
    "total_corpus_list += glob(\"AIHUB_corpus/demo/machine_reading_data_for_administrative_documents_before/AIHUB_machine_reading_data_for_administrative_documents_valid_\" +\"*.txt\")"
   ]
  },
  {
   "cell_type": "code",
   "execution_count": 36,
   "metadata": {},
   "outputs": [],
   "source": [
    "tableqa_corpus_list = glob(\"AIHUB_corpus/demo/machine_reading_data_for_administrative_documents_before/AIHUB_machine_reading_data_for_administrative_documents_train_3\" +\"*.txt\")\n",
    "tableqa_corpus_list += glob(\"AIHUB_corpus/demo/machine_reading_data_for_administrative_documents_before/AIHUB_machine_reading_data_for_administrative_documents_valid_3\" +\"*.txt\")"
   ]
  },
  {
   "cell_type": "code",
   "execution_count": 37,
   "metadata": {},
   "outputs": [],
   "source": [
    "total_sub_tableqa_corpus_list = [x for x in total_corpus_list if x not in tableqa_corpus_list]"
   ]
  },
  {
   "cell_type": "code",
   "execution_count": 38,
   "metadata": {},
   "outputs": [
    {
     "data": {
      "text/plain": [
       "278"
      ]
     },
     "execution_count": 38,
     "metadata": {},
     "output_type": "execute_result"
    }
   ],
   "source": [
    "len(total_sub_tableqa_corpus_list)"
   ]
  },
  {
   "cell_type": "code",
   "execution_count": 10,
   "metadata": {},
   "outputs": [
    {
     "data": {
      "text/plain": [
       "428"
      ]
     },
     "execution_count": 10,
     "metadata": {},
     "output_type": "execute_result"
    }
   ],
   "source": [
    "len(corpus_list)"
   ]
  },
  {
   "cell_type": "code",
   "execution_count": 34,
   "metadata": {},
   "outputs": [
    {
     "data": {
      "text/plain": [
       "150"
      ]
     },
     "execution_count": 34,
     "metadata": {},
     "output_type": "execute_result"
    }
   ],
   "source": [
    "len(tableqa_corpus_list)"
   ]
  },
  {
   "cell_type": "code",
   "execution_count": 78,
   "metadata": {},
   "outputs": [],
   "source": [
    "def post_txt_file_name_list(corpus_list):\n",
    "   \n",
    "  post_corpus_list = []\n",
    "\n",
    "  for corpus_file in corpus_list:\n",
    "    post_corpus = corpus_file.replace(\"before\", \"post\")\n",
    "    post_corpus_list.append(post_corpus)\n",
    "\n",
    "  return post_corpus_list"
   ]
  },
  {
   "cell_type": "code",
   "execution_count": 79,
   "metadata": {},
   "outputs": [],
   "source": [
    "post_total_sub_tableqa_corpus_list = post_txt_file_name_list(total_sub_tableqa_corpus_list)\n",
    "post_tableqa_corpus_list = post_txt_file_name_list(tableqa_corpus_list)"
   ]
  },
  {
   "cell_type": "code",
   "execution_count": 92,
   "metadata": {},
   "outputs": [
    {
     "name": "stdout",
     "output_type": "stream",
     "text": [
      "강북구의회 아동학대예방 및 아동복지 특별위원회(위원장 유인애)는 지난 6월 24일 강북구육아종합지원센터를 방문해 현장 활동을 실시했다\n",
      "\n",
      "이날 현장 활동에는 아동특위     위원장      부위원장    위원      위원      위원이 함께 했으며  강북구육아종합지원센터의 아동지원 등에 관한 사항에 대한 설명을 듣고 관계자들과 질의 응답시간을 가졌다\n",
      "\n",
      "지원사업  지역연계사업과 기타 특수사업으로 출산에서 양육까지 토털복지서비스를 지역 주민들에게 제공하고 있다\n",
      "\n",
      "또한 최근 아동학대예방을 위해 아동 발달과정의 이해를 높여주는 부모교육과 상담을 연중 실시하고 있다\n",
      "\n",
      "폭력의 고리를 끊는 첫걸음은 자녀는 부모의 소유물이라는 그릇된 편견부터 바꿔야 한다는 취지의 프로그램을 운영 중이다\n",
      "\n",
      "아동학대예방과 관련된 사업에 대한 자세한 설명을 들었다\n",
      "\n",
      "특위 위원들은  아동학대예방을 위해서는 부모교육과 보육교사들에 대한 더욱 철저한 교육이 필요하다 며   육아종합지원센터 뿐만 아니라 다른 기관 들과의 연계를 통해 아동학대예방에 위해 더욱 힘써 달라 고 당부했다\n",
      "\n",
      "현장 활동을 마치며     위원장은  강북구 아동들의 복지향상과 아동학대예방을 위해 애쓰고 있는 강북구육아종합지원센터 관계자들께 감사드린다 며   특위 위원들 모두도 강북구 아동들의 복지향상과 아동학대예방을 위해 관계 기관의 유기적인 협조가 잘 될 수 있도록 최선을 다해 지원하겠다 고 밝혔다\n",
      "\n",
      "한편 아동특별위원회는     위원장을 중심으로     부위원장     위원      위원      위원이 지난 2월 19일부터 8월 18일까지 약 6개월간의 일정으로 특별위원회 활동을 이어나가고 있다\n",
      "\n",
      "1  2021년 본부장 신년 업무보고(2021 1 27 )와 관련하여  신규공사장 안전기술지도 2021년 6월 시행계획을 다음과 같이 보고드립니다\n",
      "\n",
      "추진기간   착공일   2021  7  31\n",
      "\n",
      "위탁기간  2022 1 1    2024 12 31 (3년)  최초 위탁일   2007 1 1\n",
      "\n",
      "1  보람일자리사업단-126(2021 01 27 ) 2021서울시 50+ 보람일자리 사업 50+컨설턴트 운영계획(안) 관련입니다\n",
      "\n"
     ]
    }
   ],
   "source": [
    "line_list = []\n",
    "line_num = 0\n",
    "with open(total_sub_tableqa_corpus_list[0], 'r', encoding='utf-8') as f:\n",
    "    lines = f.read().splitlines() \n",
    "    for line in lines:\n",
    "        line_num += 1\n",
    "        if line_num <= 13:\n",
    "           line_list.append(line)\n",
    "for line in line_list:\n",
    "    print(line, end=\"\\n\\n\")"
   ]
  },
  {
   "cell_type": "code",
   "execution_count": 111,
   "metadata": {},
   "outputs": [
    {
     "name": "stdout",
     "output_type": "stream",
     "text": [
      "강북구의회 아동학대예방 및 아동복지 특별위원회(위원장 유인애)는 지난 6월 24일 강북구육아종합지원센터를 방문해 현장 활동을 실시했다\n",
      "\n",
      "이날 현장 활동에는 아동특위     위원장      부위원장    위원      위원      위원이 함께 했으며  강북구육아종합지원센터의 아동지원 등에 관한 사항에 대한 설명을 듣고 관계자들과 질의 응답시간을 가졌다\n",
      "\n",
      "지원사업  지역연계사업과 기타 특수사업으로 출산에서 양육까지 토털복지서비스를 지역 주민들에게 제공하고 있다\n",
      "\n",
      "또한 최근 아동학대예방을 위해 아동 발달과정의 이해를 높여주는 부모교육과 상담을 연중 실시하고 있다\n",
      "\n",
      "폭력의 고리를 끊는 첫걸음은 자녀는 부모의 소유물이라는 그릇된 편견부터 바꿔야 한다는 취지의 프로그램을 운영 중이다\n",
      "\n",
      "아동학대예방과 관련된 사업에 대한 자세한 설명을 들었다\n",
      "\n",
      "특위 위원들은  아동학대예방을 위해서는 부모교육과 보육교사들에 대한 더욱 철저한 교육이 필요하다 며   육아종합지원센터 뿐만 아니라 다른 기관 들과의 연계를 통해 아동학대예방에 위해 더욱 힘써 달라 고 당부했다\n",
      "\n",
      "현장 활동을 마치며     위원장은  강북구 아동들의 복지향상과 아동학대예방을 위해 애쓰고 있는 강북구육아종합지원센터 관계자들께 감사드린다 며   특위 위원들 모두도 강북구 아동들의 복지향상과 아동학대예방을 위해 관계 기관의 유기적인 협조가 잘 될 수 있도록 최선을 다해 지원하겠다 고 밝혔다\n",
      "\n",
      "한편 아동특별위원회는     위원장을 중심으로     부위원장     위원      위원      위원이 지난 2월 19일부터 8월 18일까지 약 6개월간의 일정으로 특별위원회 활동을 이어나가고 있다\n",
      "\n",
      "1  2021년 본부장 신년 업무보고(2021 1 27 )와 관련하여  신규공사장 안전기술지도 2021년 6월 시행계획을 다음과 같이 보고드립니다\n",
      "\n",
      "1  보람일자리사업단-126(2021 01 27 ) 2021서울시 50+ 보람일자리 사업 50+컨설턴트 운영계획(안) 관련입니다\n",
      "\n"
     ]
    }
   ],
   "source": [
    "line_list = []\n",
    "line_num = 0\n",
    "with open(total_sub_tableqa_corpus_list[0], 'r', encoding='utf-8') as f:\n",
    "    lines = f.read().splitlines() \n",
    "    for line in lines:\n",
    "        line_num += 1\n",
    "        if line_num <= 13 and bool(re.match(r'[다]', line[-1])) == True:\n",
    "           line_list.append(line)\n",
    "        \n",
    "for line in line_list:\n",
    "    print(line, end=\"\\n\\n\")"
   ]
  },
  {
   "cell_type": "code",
   "execution_count": 125,
   "metadata": {},
   "outputs": [],
   "source": [
    "for before, post in zip(total_sub_tableqa_corpus_list, post_total_sub_tableqa_corpus_list):\n",
    "    \n",
    "    sentence_list = []\n",
    "    with open(before, 'r', encoding='utf-8') as f:\n",
    "        lines = f.read().splitlines() \n",
    "        for line in lines:\n",
    "            if bool(re.match(r'[다]', line[-1])) == True:\n",
    "                sentence_list.append(line)\n",
    "\n",
    "    with open(post, 'a', encoding='utf-8') as fp:\n",
    "        fp.write(\"\\n\".join(sentence_list))"
   ]
  },
  {
   "cell_type": "code",
   "execution_count": 113,
   "metadata": {
    "scrolled": false
   },
   "outputs": [
    {
     "name": "stdout",
     "output_type": "stream",
     "text": [
      "제 목 2021년 상반기 문화재 소방훈련 계획 알림 br 1  관련근거 br  가\n",
      "\n",
      "재난관리과-1506(2021 3 16 )호  2021년도 소방훈련 기본계획  br  나  市재난대응과-5082(2021 3 9 )호  2021년 문화재 화재안전 대책 알림   br 2  2021년 상반기 문화재 소방훈련 계획을 붙임과 같이 알려드리니 훈련에 차질이 없도록 만전을 기하여 주시기 바랍니다  br  가\n",
      "\n",
      "제목 2021년 6월 3주차 희망도서 및 긴급도서 심의 br 1  정보서비스과-760(2021 1 27 )호와 관련입니다  br 2  서울도서관 이용자 희망도서 및 자료실 운영에 필요한 긴급도서에 대하여 다음과 같이 자료선정위원회 내부위원 심의를 거쳐 구입하고자 합니다  br    심의개요  br  가\n",
      "\n",
      "제목 옥내누수진단 민원 처리 완료 br 옥내누수진단 민원을 신청한 아래 수용가에 대하여 처리를 완료하고 그 결과를 아래와 같이 보고합니다  br  가\n",
      "\n",
      "제목 제301회 정례회 의정포커스 MC 관련 촬영 협조 요청 br 1  2021년 의정활동 영상홍보물 제작 계획(언론홍보실-96   2021 1 19 ) 관련입니다  br 2  제301회 정례회 의정포커스 제작 관련으로 본회의장 등 의회 청사를 배경으로 MC를 촬영하여 교통방송 네트워크 및 서울 전지역 케이블TV를 통해 방송 송출함으로써 시의회의 브랜드 이미지를 제고하고자 하오니 관련부서에서는 적극 협조하여 주시기 바랍니다  br 가  촬영일시   2021년 7월 19일(월) 16시 19시30분 br 나  촬영장소   본관정문  본회의장  본관2층 홍보관  등 br 다\n",
      "\n",
      "1  기획담당관-10318(2021 6 18 )호 및 공원여가과-2651(2021 6 21 )호  공공개발기획단 br  -5300(2021 6 22 )호와 관련입니다  br 2  귀 부서에서 신청하신 간행물 발간등록번호를 아래와 같이 통보해드리니  안내에 따라 조치하신 후 간행물 납본결과를 작성하여 담당자 이메일로 제출해주시기 바랍니다  br  가\n",
      "\n",
      "제목 2021년 보이는 소화기 설치완료에 따른 물품확인 및 검수 결과 보고 br 1  관련문서 br 예방과-8891(2021 6 15 )호  2021년  보이는 소화기  설치완료에 따른 물품확인 및 검수 계획  br 2  소방차 통행곤란 불가 및 소규모 점포 밀집  다중운집 공공장소 등 화재취약지역의 시민 자율 재난 대응 역량 강화를 위한 2021년  보이는 소화기  설치완료에 따른 위치 및 구성물품 등 현장검수 결과를 다음과 같이 보고합니다  br  가\n",
      "\n",
      "제목 유아숲체험시설 조성사업 예산재배정(공사비) 알림 br 1  중랑구 공원녹지과-13427호(2021 6 18 )와 관련입니다   br 2  유아숲체험시설 조성사업 추진을 위한 공사비를 아래와 같이 재배정하오니  시설물 설치를 최소화하고 유아들이 다양한 숲체험을 할 수 있는 환경을 조성하는 본 사업의 취지에 맞게 정비될 수 있도록 만전을 기하여 주시기 바랍니다  br  가\n",
      "\n"
     ]
    }
   ],
   "source": [
    "line_list = []\n",
    "line_num = 0\n",
    "with open(tableqa_corpus_list[0], 'r', encoding='utf-8') as f:\n",
    "    lines = f.read().splitlines() \n",
    "    for line in lines:\n",
    "        line_num += 1\n",
    "        if line_num <= 8:\n",
    "           line_list.append(line)\n",
    "        \n",
    "for line in line_list:\n",
    "    print(line, end=\"\\n\\n\")"
   ]
  },
  {
   "cell_type": "code",
   "execution_count": 122,
   "metadata": {
    "scrolled": true
   },
   "outputs": [
    {
     "name": "stdout",
     "output_type": "stream",
     "text": [
      "2  2021년 상반기 문화재 소방훈련 계획을 붙임과 같이 알려드리니 훈련에 차질이 없도록 만전을 기하여 주시기 바랍니다\n",
      "\n",
      "1  정보서비스과-760(2021 1 27 )호와 관련입니다\n",
      "\n",
      "2  서울도서관 이용자 희망도서 및 자료실 운영에 필요한 긴급도서에 대하여 다음과 같이 자료선정위원회 내부위원 심의를 거쳐 구입하고자 합니다\n",
      "\n"
     ]
    }
   ],
   "source": [
    "sentence_list = []\n",
    "line_num = 0\n",
    "with open(tableqa_corpus_list[0], 'r', encoding='utf-8') as f:\n",
    "    lines = f.read().splitlines() \n",
    "    for line in lines:\n",
    "        sentences = re.split('br|tr|td', line)\n",
    "        line_num += 1\n",
    "        for sentence in sentences:\n",
    "            sentence = re.sub('(br|tr|td)', '', sentence)\n",
    "            sentence = sentence.strip()\n",
    "            if line_num <= 3 and len(sentence) > 1 and bool(re.match(r'[다]', sentence[-1])) == True:\n",
    "               sentence_list.append(sentence)\n",
    "        \n",
    "for sentence in sentence_list:\n",
    "    print(sentence, end=\"\\n\\n\")"
   ]
  },
  {
   "cell_type": "code",
   "execution_count": 124,
   "metadata": {},
   "outputs": [],
   "source": [
    "for before, post in zip(tableqa_corpus_list, post_tableqa_corpus_list):\n",
    "    \n",
    "    sentence_list = []\n",
    "    with open(before, 'r', encoding='utf-8') as f:\n",
    "        lines = f.read().splitlines() \n",
    "        for line in lines:\n",
    "            sentences = re.split('br|tr|td', line)\n",
    "            line_num += 1\n",
    "            for sentence in sentences:\n",
    "                sentence = re.sub('(br|tr|td)', '', sentence)\n",
    "                sentence = sentence.strip()\n",
    "                if len(sentence) > 1 and bool(re.match(r'[다]', sentence[-1])) == True:\n",
    "                    sentence_list.append(sentence)\n",
    "\n",
    "    with open(post, 'a', encoding='utf-8') as fp:\n",
    "        fp.write(\"\\n\".join(sentence_list))"
   ]
  },
  {
   "cell_type": "code",
   "execution_count": null,
   "metadata": {},
   "outputs": [],
   "source": [
    "corpus_list = glob(\"AIHUB_corpus/demo/machine_reading_data_for_administrative_documents_post/AIHUB_machine_reading_data_for_administrative_documents_train_\" +\"*.txt\")\n",
    "corpus_list += glob(\"AIHUB_corpus/demo/machine_reading_data_for_administrative_documents_post/AIHUB_machine_reading_data_for_administrative_documents_valid_\" +\"*.txt\")"
   ]
  },
  {
   "cell_type": "code",
   "execution_count": null,
   "metadata": {},
   "outputs": [],
   "source": [
    "with open('AIHUB_corpus/demo/AIHUB_machine_reading_data_for_administrative_documents.txt', 'w') as f:\n",
    "    for corpus in corpus_list:\n",
    "        with open(corpus) as text:\n",
    "            for line in text:\n",
    "                f.write(line)"
   ]
  }
 ],
 "metadata": {
  "kernelspec": {
   "display_name": "corpus_05",
   "language": "python",
   "name": "corpus_05"
  },
  "language_info": {
   "codemirror_mode": {
    "name": "ipython",
    "version": 3
   },
   "file_extension": ".py",
   "mimetype": "text/x-python",
   "name": "python",
   "nbconvert_exporter": "python",
   "pygments_lexer": "ipython3",
   "version": "3.9.13"
  }
 },
 "nbformat": 4,
 "nbformat_minor": 2
}
