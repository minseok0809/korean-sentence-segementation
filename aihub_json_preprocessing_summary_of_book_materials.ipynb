{
 "cells": [
  {
   "attachments": {},
   "cell_type": "markdown",
   "metadata": {},
   "source": [
    "## AIHub Json Preprocessing"
   ]
  },
  {
   "attachments": {},
   "cell_type": "markdown",
   "metadata": {},
   "source": [
    "### Development Environment"
   ]
  },
  {
   "cell_type": "code",
   "execution_count": null,
   "metadata": {},
   "outputs": [],
   "source": [
    "%pip install kss==3.7.3"
   ]
  },
  {
   "attachments": {},
   "cell_type": "markdown",
   "metadata": {},
   "source": [
    "KSS Argument Error: Restart Jupyter Kernel Runtime"
   ]
  },
  {
   "cell_type": "code",
   "execution_count": null,
   "metadata": {},
   "outputs": [],
   "source": [
    "%pip install python-mecab-ko"
   ]
  },
  {
   "attachments": {},
   "cell_type": "markdown",
   "metadata": {},
   "source": [
    "KSS 3.7.3 matches python-mecab-ko"
   ]
  },
  {
   "cell_type": "code",
   "execution_count": null,
   "metadata": {},
   "outputs": [],
   "source": [
    "%pip install pandas"
   ]
  },
  {
   "cell_type": "code",
   "execution_count": null,
   "metadata": {},
   "outputs": [],
   "source": [
    "%pip install ray"
   ]
  },
  {
   "cell_type": "code",
   "execution_count": 1,
   "metadata": {},
   "outputs": [],
   "source": [
    "import re\n",
    "import os\n",
    "import kss\n",
    "import ray\n",
    "import json\n",
    "import time\n",
    "from time import sleep\n",
    "from tqdm import tqdm\n",
    "from mecab import MeCab\n",
    "import pandas as pd\n",
    "from glob import glob\n",
    "from itertools import chain"
   ]
  },
  {
   "cell_type": "code",
   "execution_count": 30,
   "metadata": {},
   "outputs": [
    {
     "data": {
      "text/plain": [
       "'d:\\\\AIHUB'"
      ]
     },
     "execution_count": 30,
     "metadata": {},
     "output_type": "execute_result"
    }
   ],
   "source": [
    "pwd"
   ]
  },
  {
   "attachments": {},
   "cell_type": "markdown",
   "metadata": {},
   "source": [
    "### AIHUB 도서자료 요약"
   ]
  },
  {
   "attachments": {},
   "cell_type": "markdown",
   "metadata": {},
   "source": [
    "[Source](https://aihub.or.kr/aihubdata/data/view.do?currMenu=115&topMenu=100&aihubDataSe=realm&dataSetSn=93)"
   ]
  },
  {
   "attachments": {},
   "cell_type": "markdown",
   "metadata": {},
   "source": [
    "#### Convert JSON File to TXT File"
   ]
  },
  {
   "cell_type": "code",
   "execution_count": null,
   "metadata": {},
   "outputs": [],
   "source": [
    "from data_preprocessing import make_train_valid_json_txt_file_path_list\n",
    "from data_preprocessing import count_number_of_txt_file_with_batch_list\n",
    "from data_preprocessing import write_jsontext_to_txt_file_with_batch_list"
   ]
  },
  {
   "cell_type": "code",
   "execution_count": 12,
   "metadata": {},
   "outputs": [],
   "source": [
    "json_path_list = ['AIHUB_도서자료 요약/Training/'+ '/**/*.json', \n",
    "                'AIHUB_도서자료 요약/Validation/'+ '/**/*.json']\n",
    "txt_path_list = [\"exploration/summary_of_book_materials_pro/AIHUB_summary_of_book_materials_train_\", \n",
    "                 \"exploration/summary_of_book_materials_pro/AIHUB_summary_of_book_materials_valid_\"]\n",
    "corpus_name = \"summary_of_book_materials\""
   ]
  },
  {
   "cell_type": "code",
   "execution_count": 13,
   "metadata": {},
   "outputs": [
    {
     "name": "stdout",
     "output_type": "stream",
     "text": [
      "The number of file: 180001\n"
     ]
    }
   ],
   "source": [
    "train_json_file_list, valid_json_file_list, train_txt_file_path_list, valid_txt_file_path_list = \\\n",
    "    make_train_valid_json_txt_file_path_list(json_path_list, txt_path_list, corpus_name)"
   ]
  },
  {
   "cell_type": "code",
   "execution_count": 28,
   "metadata": {},
   "outputs": [
    {
     "name": "stdout",
     "output_type": "stream",
     "text": [
      "Batch Size: 1000\n",
      "The number of txt file: 160002\n"
     ]
    }
   ],
   "source": [
    "batch_size = 1000\n",
    "corpus_name = 'summary_of_book_materials'\n",
    "the_number_of_train_txt_file, the_number_of_train_txt_file_list = count_number_of_txt_file_with_batch_list(train_json_file_list, batch_size, corpus_name)"
   ]
  },
  {
   "cell_type": "code",
   "execution_count": 25,
   "metadata": {},
   "outputs": [
    {
     "data": {
      "text/html": [
       "<div>\n",
       "<style scoped>\n",
       "    .dataframe tbody tr th:only-of-type {\n",
       "        vertical-align: middle;\n",
       "    }\n",
       "\n",
       "    .dataframe tbody tr th {\n",
       "        vertical-align: top;\n",
       "    }\n",
       "\n",
       "    .dataframe thead th {\n",
       "        text-align: right;\n",
       "    }\n",
       "</style>\n",
       "<table border=\"1\" class=\"dataframe\">\n",
       "  <thead>\n",
       "    <tr style=\"text-align: right;\">\n",
       "      <th></th>\n",
       "      <th>Unnamed: 0</th>\n",
       "      <th>File</th>\n",
       "      <th>Length of Source List</th>\n",
       "      <th>The Number of txt File</th>\n",
       "      <th>Description</th>\n",
       "    </tr>\n",
       "  </thead>\n",
       "  <tbody>\n",
       "    <tr>\n",
       "      <th>0</th>\n",
       "      <td>0</td>\n",
       "      <td>AIHUB_도서자료 요약/Training\\[원천]도서요약_train\\기타\\CNTS-...</td>\n",
       "      <td>2</td>\n",
       "      <td>1</td>\n",
       "      <td>not subject of batch. small source list.</td>\n",
       "    </tr>\n",
       "    <tr>\n",
       "      <th>1</th>\n",
       "      <td>1</td>\n",
       "      <td>AIHUB_도서자료 요약/Training\\[원천]도서요약_train\\기타\\CNTS-...</td>\n",
       "      <td>2</td>\n",
       "      <td>1</td>\n",
       "      <td>not subject of batch. small source list.</td>\n",
       "    </tr>\n",
       "    <tr>\n",
       "      <th>2</th>\n",
       "      <td>2</td>\n",
       "      <td>AIHUB_도서자료 요약/Training\\[원천]도서요약_train\\기타\\CNTS-...</td>\n",
       "      <td>2</td>\n",
       "      <td>1</td>\n",
       "      <td>not subject of batch. small source list.</td>\n",
       "    </tr>\n",
       "    <tr>\n",
       "      <th>3</th>\n",
       "      <td>3</td>\n",
       "      <td>AIHUB_도서자료 요약/Training\\[원천]도서요약_train\\기타\\CNTS-...</td>\n",
       "      <td>2</td>\n",
       "      <td>1</td>\n",
       "      <td>not subject of batch. small source list.</td>\n",
       "    </tr>\n",
       "    <tr>\n",
       "      <th>4</th>\n",
       "      <td>4</td>\n",
       "      <td>AIHUB_도서자료 요약/Training\\[원천]도서요약_train\\기타\\CNTS-...</td>\n",
       "      <td>2</td>\n",
       "      <td>1</td>\n",
       "      <td>not subject of batch. small source list.</td>\n",
       "    </tr>\n",
       "    <tr>\n",
       "      <th>...</th>\n",
       "      <td>...</td>\n",
       "      <td>...</td>\n",
       "      <td>...</td>\n",
       "      <td>...</td>\n",
       "      <td>...</td>\n",
       "    </tr>\n",
       "    <tr>\n",
       "      <th>159997</th>\n",
       "      <td>159997</td>\n",
       "      <td>AIHUB_도서자료 요약/Training\\[원천]도서요약_train\\사회과학\\PCY...</td>\n",
       "      <td>2</td>\n",
       "      <td>1</td>\n",
       "      <td>not subject of batch. small source list.</td>\n",
       "    </tr>\n",
       "    <tr>\n",
       "      <th>159998</th>\n",
       "      <td>159998</td>\n",
       "      <td>AIHUB_도서자료 요약/Training\\[원천]도서요약_train\\사회과학\\PCY...</td>\n",
       "      <td>2</td>\n",
       "      <td>1</td>\n",
       "      <td>not subject of batch. small source list.</td>\n",
       "    </tr>\n",
       "    <tr>\n",
       "      <th>159999</th>\n",
       "      <td>159999</td>\n",
       "      <td>AIHUB_도서자료 요약/Training\\[원천]도서요약_train\\사회과학\\PCY...</td>\n",
       "      <td>2</td>\n",
       "      <td>1</td>\n",
       "      <td>not subject of batch. small source list.</td>\n",
       "    </tr>\n",
       "    <tr>\n",
       "      <th>160000</th>\n",
       "      <td>160000</td>\n",
       "      <td>AIHUB_도서자료 요약/Training\\[원천]도서요약_train\\사회과학\\PCY...</td>\n",
       "      <td>2</td>\n",
       "      <td>1</td>\n",
       "      <td>not subject of batch. small source list.</td>\n",
       "    </tr>\n",
       "    <tr>\n",
       "      <th>160001</th>\n",
       "      <td>160001</td>\n",
       "      <td>AIHUB_도서자료 요약/Training\\[원천]도서요약_train\\사회과학\\PCY...</td>\n",
       "      <td>2</td>\n",
       "      <td>1</td>\n",
       "      <td>not subject of batch. small source list.</td>\n",
       "    </tr>\n",
       "  </tbody>\n",
       "</table>\n",
       "<p>160002 rows × 5 columns</p>\n",
       "</div>"
      ],
      "text/plain": [
       "        Unnamed: 0                                               File  \\\n",
       "0                0  AIHUB_도서자료 요약/Training\\[원천]도서요약_train\\기타\\CNTS-...   \n",
       "1                1  AIHUB_도서자료 요약/Training\\[원천]도서요약_train\\기타\\CNTS-...   \n",
       "2                2  AIHUB_도서자료 요약/Training\\[원천]도서요약_train\\기타\\CNTS-...   \n",
       "3                3  AIHUB_도서자료 요약/Training\\[원천]도서요약_train\\기타\\CNTS-...   \n",
       "4                4  AIHUB_도서자료 요약/Training\\[원천]도서요약_train\\기타\\CNTS-...   \n",
       "...            ...                                                ...   \n",
       "159997      159997  AIHUB_도서자료 요약/Training\\[원천]도서요약_train\\사회과학\\PCY...   \n",
       "159998      159998  AIHUB_도서자료 요약/Training\\[원천]도서요약_train\\사회과학\\PCY...   \n",
       "159999      159999  AIHUB_도서자료 요약/Training\\[원천]도서요약_train\\사회과학\\PCY...   \n",
       "160000      160000  AIHUB_도서자료 요약/Training\\[원천]도서요약_train\\사회과학\\PCY...   \n",
       "160001      160001  AIHUB_도서자료 요약/Training\\[원천]도서요약_train\\사회과학\\PCY...   \n",
       "\n",
       "        Length of Source List  The Number of txt File  \\\n",
       "0                           2                       1   \n",
       "1                           2                       1   \n",
       "2                           2                       1   \n",
       "3                           2                       1   \n",
       "4                           2                       1   \n",
       "...                       ...                     ...   \n",
       "159997                      2                       1   \n",
       "159998                      2                       1   \n",
       "159999                      2                       1   \n",
       "160000                      2                       1   \n",
       "160001                      2                       1   \n",
       "\n",
       "                                     Description  \n",
       "0       not subject of batch. small source list.  \n",
       "1       not subject of batch. small source list.  \n",
       "2       not subject of batch. small source list.  \n",
       "3       not subject of batch. small source list.  \n",
       "4       not subject of batch. small source list.  \n",
       "...                                          ...  \n",
       "159997  not subject of batch. small source list.  \n",
       "159998  not subject of batch. small source list.  \n",
       "159999  not subject of batch. small source list.  \n",
       "160000  not subject of batch. small source list.  \n",
       "160001  not subject of batch. small source list.  \n",
       "\n",
       "[160002 rows x 5 columns]"
      ]
     },
     "execution_count": 25,
     "metadata": {},
     "output_type": "execute_result"
    }
   ],
   "source": [
    "source_file_by_batch_train_df = pd.read_excel('source_file_by_batch/summary_of_book_materials_train.xlsx', engine='openpyxl')  \n",
    "source_file_by_batch_train_df"
   ]
  },
  {
   "cell_type": "code",
   "execution_count": null,
   "metadata": {},
   "outputs": [],
   "source": [
    "batch_size = 1000\n",
    "corpus_name = 'summary_of_book_materials'\n",
    "write_jsontext_to_txt_file_with_batch_list(train_json_file_list, train_txt_file_path_list, batch_size, the_number_of_train_txt_file_list, corpus_name)"
   ]
  },
  {
   "cell_type": "code",
   "execution_count": 29,
   "metadata": {},
   "outputs": [
    {
     "name": "stdout",
     "output_type": "stream",
     "text": [
      "Batch Size: 1000\n",
      "The number of txt file: 19998\n"
     ]
    }
   ],
   "source": [
    "batch_size = 1000\n",
    "corpus_name = 'summary_of_book_materials'\n",
    "the_number_of_valid_txt_file, the_number_of_valid_txt_file_list = count_number_of_txt_file_with_batch_list(valid_json_file_list, batch_size, corpus_name)"
   ]
  },
  {
   "cell_type": "code",
   "execution_count": 27,
   "metadata": {},
   "outputs": [
    {
     "data": {
      "text/html": [
       "<div>\n",
       "<style scoped>\n",
       "    .dataframe tbody tr th:only-of-type {\n",
       "        vertical-align: middle;\n",
       "    }\n",
       "\n",
       "    .dataframe tbody tr th {\n",
       "        vertical-align: top;\n",
       "    }\n",
       "\n",
       "    .dataframe thead th {\n",
       "        text-align: right;\n",
       "    }\n",
       "</style>\n",
       "<table border=\"1\" class=\"dataframe\">\n",
       "  <thead>\n",
       "    <tr style=\"text-align: right;\">\n",
       "      <th></th>\n",
       "      <th>Unnamed: 0</th>\n",
       "      <th>File</th>\n",
       "      <th>Length of Source List</th>\n",
       "      <th>The Number of txt File</th>\n",
       "      <th>Description</th>\n",
       "    </tr>\n",
       "  </thead>\n",
       "  <tbody>\n",
       "    <tr>\n",
       "      <th>0</th>\n",
       "      <td>0</td>\n",
       "      <td>AIHUB_도서자료 요약/Validation\\[원천]도서요약_valid\\기타\\CNT...</td>\n",
       "      <td>2</td>\n",
       "      <td>1</td>\n",
       "      <td>not subject of batch. small source list.</td>\n",
       "    </tr>\n",
       "    <tr>\n",
       "      <th>1</th>\n",
       "      <td>1</td>\n",
       "      <td>AIHUB_도서자료 요약/Validation\\[원천]도서요약_valid\\기타\\CNT...</td>\n",
       "      <td>2</td>\n",
       "      <td>1</td>\n",
       "      <td>not subject of batch. small source list.</td>\n",
       "    </tr>\n",
       "    <tr>\n",
       "      <th>2</th>\n",
       "      <td>2</td>\n",
       "      <td>AIHUB_도서자료 요약/Validation\\[원천]도서요약_valid\\기타\\CNT...</td>\n",
       "      <td>2</td>\n",
       "      <td>1</td>\n",
       "      <td>not subject of batch. small source list.</td>\n",
       "    </tr>\n",
       "    <tr>\n",
       "      <th>3</th>\n",
       "      <td>3</td>\n",
       "      <td>AIHUB_도서자료 요약/Validation\\[원천]도서요약_valid\\기타\\CNT...</td>\n",
       "      <td>2</td>\n",
       "      <td>1</td>\n",
       "      <td>not subject of batch. small source list.</td>\n",
       "    </tr>\n",
       "    <tr>\n",
       "      <th>4</th>\n",
       "      <td>4</td>\n",
       "      <td>AIHUB_도서자료 요약/Validation\\[원천]도서요약_valid\\기타\\CNT...</td>\n",
       "      <td>2</td>\n",
       "      <td>1</td>\n",
       "      <td>not subject of batch. small source list.</td>\n",
       "    </tr>\n",
       "    <tr>\n",
       "      <th>...</th>\n",
       "      <td>...</td>\n",
       "      <td>...</td>\n",
       "      <td>...</td>\n",
       "      <td>...</td>\n",
       "      <td>...</td>\n",
       "    </tr>\n",
       "    <tr>\n",
       "      <th>19994</th>\n",
       "      <td>19994</td>\n",
       "      <td>AIHUB_도서자료 요약/Validation\\[원천]도서요약_valid\\예술\\PCY...</td>\n",
       "      <td>2</td>\n",
       "      <td>1</td>\n",
       "      <td>not subject of batch. small source list.</td>\n",
       "    </tr>\n",
       "    <tr>\n",
       "      <th>19995</th>\n",
       "      <td>19995</td>\n",
       "      <td>AIHUB_도서자료 요약/Validation\\[원천]도서요약_valid\\예술\\PCY...</td>\n",
       "      <td>2</td>\n",
       "      <td>1</td>\n",
       "      <td>not subject of batch. small source list.</td>\n",
       "    </tr>\n",
       "    <tr>\n",
       "      <th>19996</th>\n",
       "      <td>19996</td>\n",
       "      <td>AIHUB_도서자료 요약/Validation\\[원천]도서요약_valid\\기술과학\\P...</td>\n",
       "      <td>2</td>\n",
       "      <td>1</td>\n",
       "      <td>not subject of batch. small source list.</td>\n",
       "    </tr>\n",
       "    <tr>\n",
       "      <th>19997</th>\n",
       "      <td>19997</td>\n",
       "      <td>AIHUB_도서자료 요약/Validation\\[원천]도서요약_valid\\기술과학\\P...</td>\n",
       "      <td>2</td>\n",
       "      <td>1</td>\n",
       "      <td>not subject of batch. small source list.</td>\n",
       "    </tr>\n",
       "    <tr>\n",
       "      <th>19998</th>\n",
       "      <td>19998</td>\n",
       "      <td>AIHUB_도서자료 요약/Validation\\[원천]도서요약_valid\\기술과학\\P...</td>\n",
       "      <td>2</td>\n",
       "      <td>1</td>\n",
       "      <td>not subject of batch. small source list.</td>\n",
       "    </tr>\n",
       "  </tbody>\n",
       "</table>\n",
       "<p>19999 rows × 5 columns</p>\n",
       "</div>"
      ],
      "text/plain": [
       "       Unnamed: 0                                               File  \\\n",
       "0               0  AIHUB_도서자료 요약/Validation\\[원천]도서요약_valid\\기타\\CNT...   \n",
       "1               1  AIHUB_도서자료 요약/Validation\\[원천]도서요약_valid\\기타\\CNT...   \n",
       "2               2  AIHUB_도서자료 요약/Validation\\[원천]도서요약_valid\\기타\\CNT...   \n",
       "3               3  AIHUB_도서자료 요약/Validation\\[원천]도서요약_valid\\기타\\CNT...   \n",
       "4               4  AIHUB_도서자료 요약/Validation\\[원천]도서요약_valid\\기타\\CNT...   \n",
       "...           ...                                                ...   \n",
       "19994       19994  AIHUB_도서자료 요약/Validation\\[원천]도서요약_valid\\예술\\PCY...   \n",
       "19995       19995  AIHUB_도서자료 요약/Validation\\[원천]도서요약_valid\\예술\\PCY...   \n",
       "19996       19996  AIHUB_도서자료 요약/Validation\\[원천]도서요약_valid\\기술과학\\P...   \n",
       "19997       19997  AIHUB_도서자료 요약/Validation\\[원천]도서요약_valid\\기술과학\\P...   \n",
       "19998       19998  AIHUB_도서자료 요약/Validation\\[원천]도서요약_valid\\기술과학\\P...   \n",
       "\n",
       "       Length of Source List  The Number of txt File  \\\n",
       "0                          2                       1   \n",
       "1                          2                       1   \n",
       "2                          2                       1   \n",
       "3                          2                       1   \n",
       "4                          2                       1   \n",
       "...                      ...                     ...   \n",
       "19994                      2                       1   \n",
       "19995                      2                       1   \n",
       "19996                      2                       1   \n",
       "19997                      2                       1   \n",
       "19998                      2                       1   \n",
       "\n",
       "                                    Description  \n",
       "0      not subject of batch. small source list.  \n",
       "1      not subject of batch. small source list.  \n",
       "2      not subject of batch. small source list.  \n",
       "3      not subject of batch. small source list.  \n",
       "4      not subject of batch. small source list.  \n",
       "...                                         ...  \n",
       "19994  not subject of batch. small source list.  \n",
       "19995  not subject of batch. small source list.  \n",
       "19996  not subject of batch. small source list.  \n",
       "19997  not subject of batch. small source list.  \n",
       "19998  not subject of batch. small source list.  \n",
       "\n",
       "[19999 rows x 5 columns]"
      ]
     },
     "execution_count": 27,
     "metadata": {},
     "output_type": "execute_result"
    }
   ],
   "source": [
    "source_file_by_batch_valid_df = pd.read_excel('source_file_by_batch/summary_of_book_materials_valid.xlsx', engine='openpyxl')  \n",
    "source_file_by_batch_valid_df"
   ]
  },
  {
   "cell_type": "code",
   "execution_count": null,
   "metadata": {},
   "outputs": [],
   "source": [
    "batch_size = 1000\n",
    "corpus_name = 'summary_of_book_materials'\n",
    "write_jsontext_to_txt_file_with_batch_list(valid_json_file_list, valid_txt_file_path_list, batch_size, the_number_of_valid_txt_file_list, corpus_name)"
   ]
  },
  {
   "attachments": {},
   "cell_type": "markdown",
   "metadata": {},
   "source": [
    "#### Preprocess TXT File"
   ]
  },
  {
   "cell_type": "code",
   "execution_count": null,
   "metadata": {},
   "outputs": [],
   "source": [
    "from sentence_segmentation import preprocessing_text\n",
    "from data_preprocessing import make_pro_post_txt_file_path_list\n",
    "from data_preprocessing import merge_and_deduplicate_corpus_txt\n",
    "from reading_data import reading_txt"
   ]
  },
  {
   "cell_type": "code",
   "execution_count": null,
   "metadata": {},
   "outputs": [],
   "source": [
    "pro_corpus_path = \"AIHUB_corpus/exploration/summary_of_book_materials_pro/AIHUB_summary_of_book_materials_\" + \"*.txt\"\n",
    "pro_post_xlsx_path = \"pro_post_corpus_path/summary_of_book_materials.xlsx\"\n",
    "pro_total_corpus_path_list, post_total_corpus_path_list = make_pro_post_txt_file_path_list(pro_corpus_path, pro_post_xlsx_path)"
   ]
  },
  {
   "cell_type": "code",
   "execution_count": null,
   "metadata": {},
   "outputs": [],
   "source": [
    "len(pro_total_corpus_path_list)"
   ]
  },
  {
   "cell_type": "code",
   "execution_count": null,
   "metadata": {},
   "outputs": [],
   "source": [
    "pro_coprus_file = pro_total_corpus_path_list[0]\n",
    "line_length = 1\n",
    "data_type = \"source\"\n",
    "\n",
    "reading_txt(pro_coprus_file, line_length, data_type)"
   ]
  },
  {
   "cell_type": "code",
   "execution_count": null,
   "metadata": {},
   "outputs": [],
   "source": [
    "pro_coprus_file = pro_total_corpus_path_list[0]\n",
    "line_length = 1\n",
    "data_type = \"preprocessing\"\n",
    "\n",
    "reading_txt(pro_coprus_file, line_length, data_type)"
   ]
  },
  {
   "cell_type": "code",
   "execution_count": null,
   "metadata": {},
   "outputs": [],
   "source": [
    "!python -m txt_preprocessing \\\n",
    "    --num_cpus 4 \\\n",
    "    --pro_post_xlsx_path 'pro_post_corpus_path/summary_of_book_materials.xlsx' \\\n",
    "    --start_index 0"
   ]
  },
  {
   "cell_type": "code",
   "execution_count": null,
   "metadata": {},
   "outputs": [],
   "source": [
    "ray.shutdown()"
   ]
  },
  {
   "cell_type": "code",
   "execution_count": null,
   "metadata": {},
   "outputs": [],
   "source": [
    "preprocessing_corpus_path = \"AIHUB_corpus/exploration/summary_of_book_materials_post/AIHUB_summary_of_book_materials_\" + \"*.txt\"\n",
    "merge_corpus_path = 'AIHUB_corpus/duplicate/AIHUB_summary_of_book_materials.txt'\n",
    "deduplicate_corpus_path = 'AIHUB_corpus/AIHUB_summary_of_book_materials.txt'"
   ]
  },
  {
   "cell_type": "code",
   "execution_count": null,
   "metadata": {},
   "outputs": [],
   "source": [
    "merge_and_deduplicate_corpus_txt(preprocessing_corpus_path, merge_corpus_path, \n",
    "                                  deduplicate_corpus_path)"
   ]
  }
 ],
 "metadata": {
  "kernelspec": {
   "display_name": "corpus_05",
   "language": "python",
   "name": "corpus_05"
  },
  "language_info": {
   "codemirror_mode": {
    "name": "ipython",
    "version": 3
   },
   "file_extension": ".py",
   "mimetype": "text/x-python",
   "name": "python",
   "nbconvert_exporter": "python",
   "pygments_lexer": "ipython3",
   "version": "3.9.13"
  }
 },
 "nbformat": 4,
 "nbformat_minor": 2
}
