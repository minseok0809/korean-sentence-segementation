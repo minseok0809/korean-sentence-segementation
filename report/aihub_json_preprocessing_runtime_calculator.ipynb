{
 "cells": [
  {
   "attachments": {},
   "cell_type": "markdown",
   "metadata": {},
   "source": [
    "## AIHub Preprocessing Runtime Calculator"
   ]
  },
  {
   "attachments": {},
   "cell_type": "markdown",
   "metadata": {},
   "source": [
    "### Development Environment"
   ]
  },
  {
   "cell_type": "code",
   "execution_count": null,
   "metadata": {},
   "outputs": [],
   "source": [
    "%pip install kss==3.7.3"
   ]
  },
  {
   "attachments": {},
   "cell_type": "markdown",
   "metadata": {},
   "source": [
    "KSS Argument Error: Restart Jupyter Kernel Runtime"
   ]
  },
  {
   "cell_type": "code",
   "execution_count": null,
   "metadata": {},
   "outputs": [],
   "source": [
    "%pip install python-mecab-ko"
   ]
  },
  {
   "attachments": {},
   "cell_type": "markdown",
   "metadata": {},
   "source": [
    "KSS 3.7.3 matches python-mecab-ko"
   ]
  },
  {
   "cell_type": "code",
   "execution_count": null,
   "metadata": {},
   "outputs": [],
   "source": [
    "%pip install pandas"
   ]
  },
  {
   "cell_type": "code",
   "execution_count": null,
   "metadata": {},
   "outputs": [],
   "source": [
    "%pip install ray"
   ]
  },
  {
   "cell_type": "code",
   "execution_count": 3,
   "metadata": {},
   "outputs": [],
   "source": [
    "import re\n",
    "import os\n",
    "import kss\n",
    "import ray\n",
    "import json\n",
    "import time\n",
    "import datetime\n",
    "from mecab import MeCab\n",
    "import pandas as pd\n",
    "from glob import glob\n",
    "from itertools import chain\n",
    "from difflib import get_close_matches"
   ]
  },
  {
   "cell_type": "code",
   "execution_count": 2,
   "metadata": {},
   "outputs": [
    {
     "data": {
      "text/plain": [
       "'c:\\\\Users\\\\MinSeok\\\\Documents\\\\AIHUB'"
      ]
     },
     "execution_count": 2,
     "metadata": {},
     "output_type": "execute_result"
    }
   ],
   "source": [
    "pwd"
   ]
  },
  {
   "attachments": {},
   "cell_type": "markdown",
   "metadata": {},
   "source": [
    "### AIHUB 일반상식"
   ]
  },
  {
   "attachments": {},
   "cell_type": "markdown",
   "metadata": {},
   "source": [
    "[Source](https://aihub.or.kr/aihubdata/data/view.do?currMenu=116&topMenu=100&aihubDataSe=ty&dataSetSn=106)"
   ]
  },
  {
   "cell_type": "code",
   "execution_count": null,
   "metadata": {},
   "outputs": [],
   "source": [
    "from sentence_segmentation import preprocessing_text\n",
    "from data_preprocessing import make_pro_post_txt_file_path_list\n",
    "from reading_data import reading_txt"
   ]
  },
  {
   "cell_type": "code",
   "execution_count": null,
   "metadata": {},
   "outputs": [],
   "source": [
    "from sentence_segmentation import preprocessing_text\n",
    "from data_preprocessing import make_pro_post_txt_file_path_list\n",
    "from data_preprocessing import merge_and_deduplicate_corpus_txt\n",
    "from reading_data import reading_txt"
   ]
  },
  {
   "cell_type": "code",
   "execution_count": 18,
   "metadata": {},
   "outputs": [],
   "source": [
    "pro_corpus_path = \"AIHUB_corpus/exploration/general_common_sense_pro/AIHUB_general_common_sense_\" + \"*.txt\"\n",
    "pro_total_corpus_path_list, post_total_corpus_path_list = make_pro_post_txt_file_path_list(pro_corpus_path)"
   ]
  },
  {
   "cell_type": "code",
   "execution_count": 19,
   "metadata": {},
   "outputs": [
    {
     "data": {
      "text/plain": [
       "362"
      ]
     },
     "execution_count": 19,
     "metadata": {},
     "output_type": "execute_result"
    }
   ],
   "source": [
    "len(pro_total_corpus_path_list)"
   ]
  },
  {
   "cell_type": "code",
   "execution_count": 20,
   "metadata": {},
   "outputs": [
    {
     "name": "stdout",
     "output_type": "stream",
     "text": [
      "아동학대범죄처벌법에서는 피해아동 및 학대행위자는 피해아동보호명령사건에 대하여 각자 보조인을 선임할 수 있으며, 피해아동 및 학대행위자의 법정대리인·배우자·직계친족·형제자매, 아동보호전문기관의 상담원과 그 기관장 및 피해자변호사는 보조인이 될 수 있다(제48조). 또 피해아동의 경우 1. 피해아동에게 신체적·정신적 장애가 의심되는 경우, 2. 빈곤이나 그 밖의 사유로 보조인을 선임할 수 없는 경우, 3. 그 밖에 판사가 보조인이 필요하다고 인정하는 경우 중의 어느 하나에 해당하는 경우에 법원의 직권 또는 피해아동 또는 피해아동의 법정대리인·직계친족·형제자매, 아동보호전문기관의 상담원과 그 기관장의 신청이 있으면 변호사를 학대행위자의 보조인으로 선정할 수 있다(제49조 제1항). 학대행위자가 형소법상 국선변호인 선정대상(제33조 제1항) 중의 어느 하나에 해당하는 경우에도 법원은 직권으로 변호사를 학대행위자의 보조인으로 선정할 수 있다.(동조 제2항)\n",
      "\n"
     ]
    }
   ],
   "source": [
    "pro_coprus_file = pro_total_corpus_path_list[0]\n",
    "line_length = 1\n",
    "data_type = \"source\"\n",
    "\n",
    "reading_txt(pro_coprus_file, line_length, data_type)"
   ]
  },
  {
   "cell_type": "code",
   "execution_count": 21,
   "metadata": {},
   "outputs": [
    {
     "name": "stdout",
     "output_type": "stream",
     "text": [
      "아동학대범죄처벌법에서는 피해아동 및 학대행위자는 피해아동보호명령사건에 대하여 각자 보조인을 선임할 수 있으며, 피해아동 및 학대행위자의 법정대리인 배우자 직계친족 형제자매, 아동보호전문기관의 상담원과 그 기관장 및 피해자변호사는 보조인이 될 수 있다.\n",
      "\n",
      "또 피해아동의 경우 1. 피해아동에게 신체적 정신적 장애가 의심되는 경우, 2. 빈곤이나 그 밖의 사유로 보조인을 선임할 수 없는 경우, 3. 그 밖에 판사가 보조인이 필요하다고 인정하는 경우 중의 어느 하나에 해당하는 경우에 법원의 직권 또는 피해아동 또는 피해아동의 법정대리인 직계친족 형제자매, 아동보호전문기관의 상담원과 그 기관장의 신청이 있으면 변호사를 학대행위자의 보조인으로 선정할 수 있다.\n",
      "\n"
     ]
    }
   ],
   "source": [
    "pro_coprus_file = pro_total_corpus_path_list[0]\n",
    "line_length = 1\n",
    "data_type = \"preprocessing\"\n",
    "\n",
    "reading_txt(pro_coprus_file, line_length, data_type)"
   ]
  },
  {
   "cell_type": "code",
   "execution_count": 22,
   "metadata": {},
   "outputs": [
    {
     "name": "stderr",
     "output_type": "stream",
     "text": [
      "2023-07-25 18:16:43,392\tINFO worker.py:1625 -- Started a local Ray instance.\n"
     ]
    }
   ],
   "source": [
    "ray.init(num_cpus = 4)\n",
    "\n",
    "@ray.remote\n",
    "def ray_preprocessing_text(source):\n",
    "\n",
    "    preprocessing_sentence_list = preprocessing_text(source)\n",
    "\n",
    "    return preprocessing_sentence_list"
   ]
  },
  {
   "cell_type": "code",
   "execution_count": 32,
   "metadata": {},
   "outputs": [],
   "source": [
    "def preprocessing_corpus_txt(pro_total_corpus_path_list, post_total_corpus_path_list):\n",
    "    \n",
    "    progress_length = len(pro_total_corpus_path_list)\n",
    "    process_num = 10    \n",
    "\n",
    "    for pro, post in zip(pro_total_corpus_path_list, post_total_corpus_path_list):\n",
    "\n",
    "        sentence_list = []\n",
    "\n",
    "        with open(pro, 'r', encoding='utf-8') as f:\n",
    "            lines = f.read().splitlines() \n",
    "            nested_lines_num = len(lines) // process_num\n",
    "            for i in range(nested_lines_num - 1):\n",
    "                start_line = process_num * i\n",
    "                end_line = process_num * (i+1)\n",
    "                futures = [ray_preprocessing_text.remote(lines[start_line:end_line][j]) for j in range(process_num)]\n",
    "                results = ray.get(futures)\n",
    "\n",
    "                if i == nested_lines_num - 2:\n",
    "                    futures = [ray_preprocessing_text.remote(lines[end_line:][j]) for j in range(len(lines) - end_line)]\n",
    "                    results = ray.get(futures)\n",
    "\n",
    "                sentences = list(chain.from_iterable(results))\n",
    "                sentence_list.append(sentences)\n",
    "\n",
    "        sentence_list = list(chain.from_iterable(sentence_list))\n",
    "\n",
    "        with open(post, 'a', encoding='utf-8') as fp:\n",
    "            fp.write(\"\\n\".join(sentence_list))"
   ]
  },
  {
   "cell_type": "markdown",
   "metadata": {},
   "source": [
    "### Preprocessing Runtime"
   ]
  },
  {
   "cell_type": "code",
   "execution_count": 33,
   "metadata": {},
   "outputs": [],
   "source": [
    "def calculate_runtime_source_list_10000_size():\n",
    "    \n",
    "    start = time.time()\n",
    "\n",
    "    preprocessing_corpus_txt([pro_total_corpus_path_list[0]], [pro_total_corpus_path_list[0]])\n",
    "\n",
    "    end = time.time()\n",
    "\n",
    "    runtime = end - start\n",
    "\n",
    "    return runtime"
   ]
  },
  {
   "cell_type": "code",
   "execution_count": 118,
   "metadata": {},
   "outputs": [],
   "source": [
    "def make_excel_group_list(excel_list, corpus_list):\n",
    "    \n",
    "    excel_group_list = []\n",
    "\n",
    "    for corpus in corpus_list:\n",
    "        excel = get_close_matches(corpus, excel_list, n = 34)\n",
    "        excel_group_list.append(excel)\n",
    "\n",
    "    excel_group_list[2] = ['source_file_by_batch\\\\document_summary_text_train.xlsx', \n",
    "                        'source_file_by_batch\\\\document_summary_text_valid.xlsx']\n",
    "    excel_group_list[7] = ['source_file_by_batch\\\\machine_reading.xlsx']\n",
    "\n",
    "    return excel_group_list"
   ]
  },
  {
   "cell_type": "code",
   "execution_count": 123,
   "metadata": {},
   "outputs": [],
   "source": [
    "def make_preprocessing_runtime_df(excel_group_list, corpus_list, runtime_unit):\n",
    "\n",
    "    preprocessing_runtime_df = pd.DataFrame({'File':[0], 'Length of Source List':[0],\n",
    "                                    'Preprocessing Runtime':[0]})\n",
    "\n",
    "    preprocessing_total_length = 0 \n",
    "\n",
    "    for idx, (excel_group, corpus) in enumerate(zip(excel_group_list, corpus_list)):\n",
    "\n",
    "        preprocessing_length = 0\n",
    "\n",
    "        for excel_file in excel_group:\n",
    "            df = pd.read_excel(excel_file, engine='openpyxl') \n",
    "            preprocessing_length += df['Length of Source List'].sum()\n",
    "            preprocessing_total_length += df['Length of Source List'].sum()\n",
    "        \n",
    "        runtime_second = runtime_unit * (preprocessing_length / 10000)\n",
    "        runtime = str(datetime.timedelta(seconds = runtime_second))\n",
    "        preprocessing_runtime_df.loc[idx] = [corpus, preprocessing_length, runtime]\n",
    "        \n",
    "    runtime_total_second = runtime_unit * (preprocessing_total_length / 10000)\n",
    "    runtime_total = str(datetime.timedelta(seconds = runtime_total_second)).split(\".\")[0]    \n",
    "    preprocessing_runtime_df.loc[len(corpus_list)] = [\"total\", preprocessing_total_length, runtime_total]\n",
    "    \n",
    "    preprocessing_runtime_df.to_excel(\"aihub_preprocessing_runtime_df.xlsx\", index=False)\n",
    "\n",
    "    return preprocessing_runtime_df"
   ]
  },
  {
   "cell_type": "code",
   "execution_count": null,
   "metadata": {},
   "outputs": [],
   "source": [
    "runtime_unit = calculate_runtime_source_list_10000_size()"
   ]
  },
  {
   "cell_type": "code",
   "execution_count": null,
   "metadata": {},
   "outputs": [
    {
     "name": "stdout",
     "output_type": "stream",
     "text": [
      "31.116286277770996\n"
     ]
    }
   ],
   "source": [
    "print(runtime_unit)"
   ]
  },
  {
   "cell_type": "code",
   "execution_count": 40,
   "metadata": {},
   "outputs": [],
   "source": [
    "ray.shutdown()"
   ]
  },
  {
   "cell_type": "code",
   "execution_count": 125,
   "metadata": {},
   "outputs": [],
   "source": [
    "source_file_by_batch_excels = glob(\"source_file_by_batch/*.xlsx\")\n",
    "corpus_list = ['automatic_patent_classification_data', \n",
    "               'british_korean_data_on_patents_in_major_countries_linked_to_industrial_information',\n",
    "               'document_summary_text', 'general_common_sense', 'korean_corpus_data_based_on_large_scale_purchase_books',\n",
    "               'legal_regulations_(such_as_terms_and_conditions_of_judgment)_text_analysis_data',\n",
    "               'machine_reading_data_for_administrative_documents', 'machine_reading',\n",
    "               'news_article_machine_reading_data', 'reading_books_by_machine', 'summary_and_report_generation_data',\n",
    "               'summary_of_book_materials', 'summary_of_thesis_materials', 'web_data_based_korean_corpus_data']\n",
    "\n",
    "excel_group_list = make_excel_group_list(source_file_by_batch_excels, corpus_list)"
   ]
  },
  {
   "cell_type": "code",
   "execution_count": 126,
   "metadata": {},
   "outputs": [
    {
     "name": "stdout",
     "output_type": "stream",
     "text": [
      "[['source_file_by_batch\\\\automatic_patent_classification_data_valid.xlsx', 'source_file_by_batch\\\\automatic_patent_classification_data_train.xlsx'], ['source_file_by_batch\\\\british_korean_data_on_patents_in_major_countries_linked_to_industrial_information_valid.xlsx', 'source_file_by_batch\\\\british_korean_data_on_patents_in_major_countries_linked_to_industrial_information_train.xlsx'], ['source_file_by_batch\\\\document_summary_text_train.xlsx', 'source_file_by_batch\\\\document_summary_text_valid.xlsx'], ['source_file_by_batch\\\\general_common_sense.xlsx'], ['source_file_by_batch\\\\korean_corpus_data_based_on_large_scale_purchase_books.xlsx'], ['source_file_by_batch\\\\legal_regulations_(such_as_terms_and_conditions_of_judgment)_text_analysis_data_valid.xlsx', 'source_file_by_batch\\\\legal_regulations_(such_as_terms_and_conditions_of_judgment)_text_analysis_data_train.xlsx'], ['source_file_by_batch\\\\machine_reading_data_for_administrative_documents_valid.xlsx', 'source_file_by_batch\\\\machine_reading_data_for_administrative_documents_train.xlsx'], ['source_file_by_batch\\\\machine_reading.xlsx'], ['source_file_by_batch\\\\news_article_machine_reading_data_valid.xlsx', 'source_file_by_batch\\\\news_article_machine_reading_data_train.xlsx'], ['source_file_by_batch\\\\reading_books_by_machine.xlsx'], ['source_file_by_batch\\\\summary_and_report_generation_data_valid_10.xlsx', 'source_file_by_batch\\\\summary_and_report_generation_data_valid_09.xlsx', 'source_file_by_batch\\\\summary_and_report_generation_data_valid_08.xlsx', 'source_file_by_batch\\\\summary_and_report_generation_data_valid_07.xlsx', 'source_file_by_batch\\\\summary_and_report_generation_data_valid_06.xlsx', 'source_file_by_batch\\\\summary_and_report_generation_data_valid_05.xlsx', 'source_file_by_batch\\\\summary_and_report_generation_data_valid_04.xlsx', 'source_file_by_batch\\\\summary_and_report_generation_data_valid_03.xlsx', 'source_file_by_batch\\\\summary_and_report_generation_data_valid_02.xlsx', 'source_file_by_batch\\\\summary_and_report_generation_data_valid_01.xlsx', 'source_file_by_batch\\\\summary_and_report_generation_data_train_10.xlsx', 'source_file_by_batch\\\\summary_and_report_generation_data_train_09.xlsx', 'source_file_by_batch\\\\summary_and_report_generation_data_train_08.xlsx', 'source_file_by_batch\\\\summary_and_report_generation_data_train_07.xlsx', 'source_file_by_batch\\\\summary_and_report_generation_data_train_06.xlsx', 'source_file_by_batch\\\\summary_and_report_generation_data_train_05.xlsx', 'source_file_by_batch\\\\summary_and_report_generation_data_train_04.xlsx', 'source_file_by_batch\\\\summary_and_report_generation_data_train_03.xlsx', 'source_file_by_batch\\\\summary_and_report_generation_data_train_02.xlsx', 'source_file_by_batch\\\\summary_and_report_generation_data_train_01.xlsx'], ['source_file_by_batch\\\\summary_of_book_materials_valid.xlsx', 'source_file_by_batch\\\\summary_of_book_materials_train.xlsx'], ['source_file_by_batch\\\\summary_of_thesis_materials_valid.xlsx', 'source_file_by_batch\\\\summary_of_thesis_materials_train.xlsx'], ['source_file_by_batch\\\\web_data_based_korean_corpus_data_valid_17.xlsx', 'source_file_by_batch\\\\web_data_based_korean_corpus_data_valid_16.xlsx', 'source_file_by_batch\\\\web_data_based_korean_corpus_data_valid_15.xlsx', 'source_file_by_batch\\\\web_data_based_korean_corpus_data_valid_14.xlsx', 'source_file_by_batch\\\\web_data_based_korean_corpus_data_valid_13.xlsx', 'source_file_by_batch\\\\web_data_based_korean_corpus_data_valid_12.xlsx', 'source_file_by_batch\\\\web_data_based_korean_corpus_data_valid_11.xlsx', 'source_file_by_batch\\\\web_data_based_korean_corpus_data_valid_10.xlsx', 'source_file_by_batch\\\\web_data_based_korean_corpus_data_valid_09.xlsx', 'source_file_by_batch\\\\web_data_based_korean_corpus_data_valid_08.xlsx', 'source_file_by_batch\\\\web_data_based_korean_corpus_data_valid_07.xlsx', 'source_file_by_batch\\\\web_data_based_korean_corpus_data_valid_06.xlsx', 'source_file_by_batch\\\\web_data_based_korean_corpus_data_valid_05.xlsx', 'source_file_by_batch\\\\web_data_based_korean_corpus_data_valid_04.xlsx', 'source_file_by_batch\\\\web_data_based_korean_corpus_data_valid_03.xlsx', 'source_file_by_batch\\\\web_data_based_korean_corpus_data_valid_02.xlsx', 'source_file_by_batch\\\\web_data_based_korean_corpus_data_valid_01.xlsx', 'source_file_by_batch\\\\web_data_based_korean_corpus_data_train_17.xlsx', 'source_file_by_batch\\\\web_data_based_korean_corpus_data_train_16.xlsx', 'source_file_by_batch\\\\web_data_based_korean_corpus_data_train_15.xlsx', 'source_file_by_batch\\\\web_data_based_korean_corpus_data_train_14.xlsx', 'source_file_by_batch\\\\web_data_based_korean_corpus_data_train_13.xlsx', 'source_file_by_batch\\\\web_data_based_korean_corpus_data_train_12.xlsx', 'source_file_by_batch\\\\web_data_based_korean_corpus_data_train_11.xlsx', 'source_file_by_batch\\\\web_data_based_korean_corpus_data_train_10.xlsx', 'source_file_by_batch\\\\web_data_based_korean_corpus_data_train_09.xlsx', 'source_file_by_batch\\\\web_data_based_korean_corpus_data_train_08.xlsx', 'source_file_by_batch\\\\web_data_based_korean_corpus_data_train_07.xlsx', 'source_file_by_batch\\\\web_data_based_korean_corpus_data_train_06.xlsx', 'source_file_by_batch\\\\web_data_based_korean_corpus_data_train_05.xlsx', 'source_file_by_batch\\\\web_data_based_korean_corpus_data_train_04.xlsx', 'source_file_by_batch\\\\web_data_based_korean_corpus_data_train_03.xlsx', 'source_file_by_batch\\\\web_data_based_korean_corpus_data_train_02.xlsx', 'source_file_by_batch\\\\web_data_based_korean_corpus_data_train_01.xlsx']]\n"
     ]
    }
   ],
   "source": [
    "print(excel_group_list)"
   ]
  },
  {
   "cell_type": "code",
   "execution_count": 127,
   "metadata": {},
   "outputs": [],
   "source": [
    "preprocessing_runtime_df = make_preprocessing_runtime_df(excel_group_list, corpus_list, runtime_unit)"
   ]
  },
  {
   "cell_type": "code",
   "execution_count": 128,
   "metadata": {},
   "outputs": [
    {
     "data": {
      "text/html": [
       "<div>\n",
       "<style scoped>\n",
       "    .dataframe tbody tr th:only-of-type {\n",
       "        vertical-align: middle;\n",
       "    }\n",
       "\n",
       "    .dataframe tbody tr th {\n",
       "        vertical-align: top;\n",
       "    }\n",
       "\n",
       "    .dataframe thead th {\n",
       "        text-align: right;\n",
       "    }\n",
       "</style>\n",
       "<table border=\"1\" class=\"dataframe\">\n",
       "  <thead>\n",
       "    <tr style=\"text-align: right;\">\n",
       "      <th></th>\n",
       "      <th>File</th>\n",
       "      <th>Length of Source List</th>\n",
       "      <th>Preprocessing Runtime</th>\n",
       "    </tr>\n",
       "  </thead>\n",
       "  <tbody>\n",
       "    <tr>\n",
       "      <th>0</th>\n",
       "      <td>automatic_patent_classification_data</td>\n",
       "      <td>496850</td>\n",
       "      <td>0:25:46.012684</td>\n",
       "    </tr>\n",
       "    <tr>\n",
       "      <th>1</th>\n",
       "      <td>british_korean_data_on_patents_in_major_countr...</td>\n",
       "      <td>359999</td>\n",
       "      <td>0:18:40.183194</td>\n",
       "    </tr>\n",
       "    <tr>\n",
       "      <th>2</th>\n",
       "      <td>document_summary_text</td>\n",
       "      <td>2741982</td>\n",
       "      <td>2:22:12.029688</td>\n",
       "    </tr>\n",
       "    <tr>\n",
       "      <th>3</th>\n",
       "      <td>general_common_sense</td>\n",
       "      <td>73516</td>\n",
       "      <td>0:03:48.754490</td>\n",
       "    </tr>\n",
       "    <tr>\n",
       "      <th>4</th>\n",
       "      <td>korean_corpus_data_based_on_large_scale_purcha...</td>\n",
       "      <td>887511</td>\n",
       "      <td>0:46:01.604635</td>\n",
       "    </tr>\n",
       "    <tr>\n",
       "      <th>5</th>\n",
       "      <td>legal_regulations_(such_as_terms_and_condition...</td>\n",
       "      <td>34699</td>\n",
       "      <td>0:01:47.970402</td>\n",
       "    </tr>\n",
       "    <tr>\n",
       "      <th>6</th>\n",
       "      <td>machine_reading_data_for_administrative_documents</td>\n",
       "      <td>469480</td>\n",
       "      <td>0:24:20.847408</td>\n",
       "    </tr>\n",
       "    <tr>\n",
       "      <th>7</th>\n",
       "      <td>machine_reading</td>\n",
       "      <td>101844</td>\n",
       "      <td>0:05:16.900706</td>\n",
       "    </tr>\n",
       "    <tr>\n",
       "      <th>8</th>\n",
       "      <td>news_article_machine_reading_data</td>\n",
       "      <td>360060</td>\n",
       "      <td>0:18:40.373004</td>\n",
       "    </tr>\n",
       "    <tr>\n",
       "      <th>9</th>\n",
       "      <td>reading_books_by_machine</td>\n",
       "      <td>237500</td>\n",
       "      <td>0:12:19.011799</td>\n",
       "    </tr>\n",
       "    <tr>\n",
       "      <th>10</th>\n",
       "      <td>summary_and_report_generation_data</td>\n",
       "      <td>137881697</td>\n",
       "      <td>4 days, 23:10:36.635632</td>\n",
       "    </tr>\n",
       "    <tr>\n",
       "      <th>11</th>\n",
       "      <td>summary_of_book_materials</td>\n",
       "      <td>360002</td>\n",
       "      <td>0:18:40.192529</td>\n",
       "    </tr>\n",
       "    <tr>\n",
       "      <th>12</th>\n",
       "      <td>summary_of_thesis_materials</td>\n",
       "      <td>788282</td>\n",
       "      <td>0:40:52.840838</td>\n",
       "    </tr>\n",
       "    <tr>\n",
       "      <th>13</th>\n",
       "      <td>web_data_based_korean_corpus_data</td>\n",
       "      <td>5532955</td>\n",
       "      <td>4:46:56.501174</td>\n",
       "    </tr>\n",
       "    <tr>\n",
       "      <th>14</th>\n",
       "      <td>total</td>\n",
       "      <td>150326377</td>\n",
       "      <td>5 days, 9:55:59.858183</td>\n",
       "    </tr>\n",
       "  </tbody>\n",
       "</table>\n",
       "</div>"
      ],
      "text/plain": [
       "                                                 File  Length of Source List  \\\n",
       "0                automatic_patent_classification_data                 496850   \n",
       "1   british_korean_data_on_patents_in_major_countr...                 359999   \n",
       "2                               document_summary_text                2741982   \n",
       "3                                general_common_sense                  73516   \n",
       "4   korean_corpus_data_based_on_large_scale_purcha...                 887511   \n",
       "5   legal_regulations_(such_as_terms_and_condition...                  34699   \n",
       "6   machine_reading_data_for_administrative_documents                 469480   \n",
       "7                                     machine_reading                 101844   \n",
       "8                   news_article_machine_reading_data                 360060   \n",
       "9                            reading_books_by_machine                 237500   \n",
       "10                 summary_and_report_generation_data              137881697   \n",
       "11                          summary_of_book_materials                 360002   \n",
       "12                        summary_of_thesis_materials                 788282   \n",
       "13                  web_data_based_korean_corpus_data                5532955   \n",
       "14                                              total              150326377   \n",
       "\n",
       "      Preprocessing Runtime  \n",
       "0            0:25:46.012684  \n",
       "1            0:18:40.183194  \n",
       "2            2:22:12.029688  \n",
       "3            0:03:48.754490  \n",
       "4            0:46:01.604635  \n",
       "5            0:01:47.970402  \n",
       "6            0:24:20.847408  \n",
       "7            0:05:16.900706  \n",
       "8            0:18:40.373004  \n",
       "9            0:12:19.011799  \n",
       "10  4 days, 23:10:36.635632  \n",
       "11           0:18:40.192529  \n",
       "12           0:40:52.840838  \n",
       "13           4:46:56.501174  \n",
       "14   5 days, 9:55:59.858183  "
      ]
     },
     "execution_count": 128,
     "metadata": {},
     "output_type": "execute_result"
    }
   ],
   "source": [
    "preprocessing_runtime_df"
   ]
  }
 ],
 "metadata": {
  "kernelspec": {
   "display_name": "corpus_06",
   "language": "python",
   "name": "corpus_06"
  },
  "language_info": {
   "codemirror_mode": {
    "name": "ipython",
    "version": 3
   },
   "file_extension": ".py",
   "mimetype": "text/x-python",
   "name": "python",
   "nbconvert_exporter": "python",
   "pygments_lexer": "ipython3",
   "version": "3.9.13"
  }
 },
 "nbformat": 4,
 "nbformat_minor": 2
}
