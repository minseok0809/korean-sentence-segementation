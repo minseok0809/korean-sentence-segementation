{
 "cells": [
  {
   "attachments": {},
   "cell_type": "markdown",
   "metadata": {
    "id": "EdmAO4oz4qg3"
   },
   "source": [
    "## AIHUB Delete Duplicate Sentence"
   ]
  },
  {
   "attachments": {},
   "cell_type": "markdown",
   "metadata": {
    "id": "t46dEcpN4qg7"
   },
   "source": [
    "### Development Environment"
   ]
  },
  {
   "cell_type": "code",
   "execution_count": 1,
   "metadata": {
    "id": "I8JRGseV4qg7"
   },
   "outputs": [],
   "source": [
    "from glob import glob"
   ]
  },
  {
   "attachments": {},
   "cell_type": "markdown",
   "metadata": {
    "id": "LyrowP8W4qg8"
   },
   "source": [
    "### AIHUB"
   ]
  },
  {
   "attachments": {},
   "cell_type": "markdown",
   "metadata": {},
   "source": [
    "[Source](https://www.aihub.or.kr/aihubdata/data/list.do?currMenu=115&topMenu=100&srchDataRealmCode=REALM002)"
   ]
  },
  {
   "cell_type": "code",
   "execution_count": null,
   "metadata": {},
   "outputs": [],
   "source": [
    "def sorted_list(path_list):\n",
    "    path_list = sorted(path_list, reverse=False)\n",
    "    path_list = sorted(path_list, key=len)\n",
    "    \n",
    "    return path_list"
   ]
  },
  {
   "cell_type": "code",
   "execution_count": 37,
   "metadata": {},
   "outputs": [],
   "source": [
    "with open('AIHUB_corpus/AIHUB_summary_of_thesis_materials.txt', 'w', encoding='utf-8') as f1:\n",
    "    with open('AIHUB_corpus/duplicate/AIHUB_summary_of_thesis_materials.txt', encoding='utf-8') as f2:\n",
    "        lines = f2.read().splitlines()\n",
    "        single_sentence_dict = dict.fromkeys(lines)\n",
    "        single_sentence_list = list(single_sentence_dict)\n",
    "        f1.write(\"\\n\".join(single_sentence_list))"
   ]
  },
  {
   "cell_type": "code",
   "execution_count": 2,
   "metadata": {
    "scrolled": true
   },
   "outputs": [],
   "source": [
    "post_total_corpus_path_list= glob(\"AIHUB_corpus/demo/web_data_based_korean_corpus_data_post/AIHUB_web_data_based_korean_corpus_data_\" +\"*.txt\")\n",
    "post_total_corpus_path_list= sorted_list(post_total_corpus_path_list)"
   ]
  },
  {
   "cell_type": "code",
   "execution_count": 6,
   "metadata": {},
   "outputs": [],
   "source": [
    "with open('AIHUB_corpus/AIHUB_web_data_based_korean_corpus_data.txt', 'w', encoding='utf-8') as f1:\n",
    "    for post_total_corpus in post_total_corpus_path_list:\n",
    "        with open(post_total_corpus, encoding='utf-8') as f2:\n",
    "            lines = f2.read().splitlines()\n",
    "            single_sentence_dict = dict.fromkeys(lines)\n",
    "            single_sentence_list = list(single_sentence_dict)\n",
    "            f1.write(\"\\n\".join(single_sentence_list))"
   ]
  }
 ],
 "metadata": {
  "colab": {
   "provenance": []
  },
  "kernelspec": {
   "display_name": "corpus_02",
   "language": "python",
   "name": "corpus_02"
  },
  "language_info": {
   "codemirror_mode": {
    "name": "ipython",
    "version": 3
   },
   "file_extension": ".py",
   "mimetype": "text/x-python",
   "name": "python",
   "nbconvert_exporter": "python",
   "pygments_lexer": "ipython3",
   "version": "3.11.2"
  }
 },
 "nbformat": 4,
 "nbformat_minor": 1
}
