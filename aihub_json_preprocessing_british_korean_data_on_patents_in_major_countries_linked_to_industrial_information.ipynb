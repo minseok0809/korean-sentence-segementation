{
 "cells": [
  {
   "attachments": {},
   "cell_type": "markdown",
   "metadata": {},
   "source": [
    "## AIHub Json Preprocessing"
   ]
  },
  {
   "attachments": {},
   "cell_type": "markdown",
   "metadata": {},
   "source": [
    "### Development Environment"
   ]
  },
  {
   "cell_type": "code",
   "execution_count": null,
   "metadata": {},
   "outputs": [],
   "source": [
    "%pip install kss==3.7.3"
   ]
  },
  {
   "attachments": {},
   "cell_type": "markdown",
   "metadata": {},
   "source": [
    "KSS Argument Error: Restart Jupyter Kernel Runtime"
   ]
  },
  {
   "cell_type": "code",
   "execution_count": null,
   "metadata": {},
   "outputs": [],
   "source": [
    "%pip install python-mecab-ko"
   ]
  },
  {
   "attachments": {},
   "cell_type": "markdown",
   "metadata": {},
   "source": [
    "KSS 3.7.3 matches python-mecab-ko"
   ]
  },
  {
   "cell_type": "code",
   "execution_count": null,
   "metadata": {},
   "outputs": [],
   "source": [
    "%pip install pandas"
   ]
  },
  {
   "cell_type": "code",
   "execution_count": null,
   "metadata": {
    "scrolled": false
   },
   "outputs": [],
   "source": [
    "%pip install ray"
   ]
  },
  {
   "cell_type": "code",
   "execution_count": 1,
   "metadata": {},
   "outputs": [],
   "source": [
    "import re\n",
    "import os\n",
    "import kss\n",
    "import ray\n",
    "import json\n",
    "import time\n",
    "from time import sleep\n",
    "from tqdm import tqdm\n",
    "from mecab import MeCab\n",
    "import pandas as pd\n",
    "from glob import glob\n",
    "from itertools import chain"
   ]
  },
  {
   "cell_type": "code",
   "execution_count": 3,
   "metadata": {},
   "outputs": [
    {
     "data": {
      "text/plain": [
       "'D:\\\\AIHUB'"
      ]
     },
     "execution_count": 3,
     "metadata": {},
     "output_type": "execute_result"
    }
   ],
   "source": [
    "pwd"
   ]
  },
  {
   "attachments": {},
   "cell_type": "markdown",
   "metadata": {},
   "source": [
    "### AIHUB 산업정보 연계 주요국 특허 영-한 데이터"
   ]
  },
  {
   "attachments": {},
   "cell_type": "markdown",
   "metadata": {},
   "source": [
    "[Source](https://aihub.or.kr/aihubdata/data/view.do?currMenu=&topMenu=&aihubDataSe=realm&dataSetSn=563)"
   ]
  },
  {
   "attachments": {},
   "cell_type": "markdown",
   "metadata": {},
   "source": [
    "#### Convert JSON File to TXT File"
   ]
  },
  {
   "cell_type": "code",
   "execution_count": null,
   "metadata": {},
   "outputs": [],
   "source": [
    "from data_preprocessing import make_train_valid_json_txt_file_path_list\n",
    "from data_preprocessing import count_number_of_txt_file_with_batch_list\n",
    "from data_preprocessing import write_jsontext_to_txt_file_with_batch_list"
   ]
  },
  {
   "cell_type": "code",
   "execution_count": 13,
   "metadata": {},
   "outputs": [],
   "source": [
    "json_path_list = ['AIHUB_산업정보 연계 주요국 특허 영-한 데이터/Training/'+ '/**/*.json', \n",
    "                  'AIHUB_산업정보 연계 주요국 특허 영-한 데이터/Validation/'+ '/**/*.json']\n",
    "txt_path_list = [\"exploration/british_korean_data_on_patents_in_major_countries_linked_to_industrial_information_pro/AIHUB_british_korean_data_on_patents_in_major_countries_linked_to_industrial_information_train_\", \n",
    "                 \"exploration/british_korean_data_on_patents_in_major_countries_linked_to_industrial_information_pro/AIHUB_british_korean_data_on_patents_in_major_countries_linked_to_industrial_information_valid_\"]\n",
    "corpus_name = \"british_korean_data_on_patents_in_major_countries_linked_to_industrial_information\""
   ]
  },
  {
   "cell_type": "code",
   "execution_count": 14,
   "metadata": {},
   "outputs": [
    {
     "name": "stdout",
     "output_type": "stream",
     "text": [
      "The number of file: 1002\n"
     ]
    }
   ],
   "source": [
    "train_json_file_list, valid_json_file_list, train_txt_file_path_list, valid_txt_file_path_list = \\\n",
    "    make_train_valid_json_txt_file_path_list(json_path_list, txt_path_list)"
   ]
  },
  {
   "cell_type": "code",
   "execution_count": 19,
   "metadata": {
    "collapsed": true
   },
   "outputs": [
    {
     "name": "stdout",
     "output_type": "stream",
     "text": [
      "Batch Size: 1000\n",
      "The number of txt file: 640\n"
     ]
    }
   ],
   "source": [
    "batch_size = 1000\n",
    "corpus_name = 'british_korean_data_on_patents_in_major_countries_linked_to_industrial_information'\n",
    "the_number_of_train_txt_file, the_number_of_train_txt_file_list = count_number_of_txt_file_with_batch_list(train_json_file_list, batch_size, corpus_name)"
   ]
  },
  {
   "cell_type": "code",
   "execution_count": 20,
   "metadata": {},
   "outputs": [
    {
     "data": {
      "text/html": [
       "<div>\n",
       "<style scoped>\n",
       "    .dataframe tbody tr th:only-of-type {\n",
       "        vertical-align: middle;\n",
       "    }\n",
       "\n",
       "    .dataframe tbody tr th {\n",
       "        vertical-align: top;\n",
       "    }\n",
       "\n",
       "    .dataframe thead th {\n",
       "        text-align: right;\n",
       "    }\n",
       "</style>\n",
       "<table border=\"1\" class=\"dataframe\">\n",
       "  <thead>\n",
       "    <tr style=\"text-align: right;\">\n",
       "      <th></th>\n",
       "      <th>Unnamed: 0</th>\n",
       "      <th>File</th>\n",
       "      <th>Length of Source List</th>\n",
       "      <th>The Number of txt File</th>\n",
       "      <th>Description</th>\n",
       "    </tr>\n",
       "  </thead>\n",
       "  <tbody>\n",
       "    <tr>\n",
       "      <th>0</th>\n",
       "      <td>0</td>\n",
       "      <td>AIHUB_산업정보 연계 주요국 특허 영-한 데이터/Training\\라벨링데이터_0...</td>\n",
       "      <td>640</td>\n",
       "      <td>1</td>\n",
       "      <td>not subject of batch. small source list.</td>\n",
       "    </tr>\n",
       "    <tr>\n",
       "      <th>1</th>\n",
       "      <td>1</td>\n",
       "      <td>AIHUB_산업정보 연계 주요국 특허 영-한 데이터/Training\\라벨링데이터_0...</td>\n",
       "      <td>92</td>\n",
       "      <td>1</td>\n",
       "      <td>not subject of batch. small source list.</td>\n",
       "    </tr>\n",
       "    <tr>\n",
       "      <th>2</th>\n",
       "      <td>2</td>\n",
       "      <td>AIHUB_산업정보 연계 주요국 특허 영-한 데이터/Training\\라벨링데이터_0...</td>\n",
       "      <td>66</td>\n",
       "      <td>1</td>\n",
       "      <td>not subject of batch. small source list.</td>\n",
       "    </tr>\n",
       "    <tr>\n",
       "      <th>3</th>\n",
       "      <td>3</td>\n",
       "      <td>AIHUB_산업정보 연계 주요국 특허 영-한 데이터/Training\\라벨링데이터_0...</td>\n",
       "      <td>601</td>\n",
       "      <td>1</td>\n",
       "      <td>not subject of batch. small source list.</td>\n",
       "    </tr>\n",
       "    <tr>\n",
       "      <th>4</th>\n",
       "      <td>4</td>\n",
       "      <td>AIHUB_산업정보 연계 주요국 특허 영-한 데이터/Training\\라벨링데이터_0...</td>\n",
       "      <td>432</td>\n",
       "      <td>1</td>\n",
       "      <td>not subject of batch. small source list.</td>\n",
       "    </tr>\n",
       "    <tr>\n",
       "      <th>...</th>\n",
       "      <td>...</td>\n",
       "      <td>...</td>\n",
       "      <td>...</td>\n",
       "      <td>...</td>\n",
       "      <td>...</td>\n",
       "    </tr>\n",
       "    <tr>\n",
       "      <th>495</th>\n",
       "      <td>495</td>\n",
       "      <td>AIHUB_산업정보 연계 주요국 특허 영-한 데이터/Training\\라벨링데이터_0...</td>\n",
       "      <td>7179</td>\n",
       "      <td>8</td>\n",
       "      <td>NaN</td>\n",
       "    </tr>\n",
       "    <tr>\n",
       "      <th>496</th>\n",
       "      <td>496</td>\n",
       "      <td>AIHUB_산업정보 연계 주요국 특허 영-한 데이터/Training\\라벨링데이터_0...</td>\n",
       "      <td>383</td>\n",
       "      <td>1</td>\n",
       "      <td>not subject of batch. small source list.</td>\n",
       "    </tr>\n",
       "    <tr>\n",
       "      <th>497</th>\n",
       "      <td>497</td>\n",
       "      <td>AIHUB_산업정보 연계 주요국 특허 영-한 데이터/Training\\라벨링데이터_0...</td>\n",
       "      <td>335</td>\n",
       "      <td>1</td>\n",
       "      <td>not subject of batch. small source list.</td>\n",
       "    </tr>\n",
       "    <tr>\n",
       "      <th>498</th>\n",
       "      <td>498</td>\n",
       "      <td>AIHUB_산업정보 연계 주요국 특허 영-한 데이터/Training\\라벨링데이터_0...</td>\n",
       "      <td>1953</td>\n",
       "      <td>2</td>\n",
       "      <td>NaN</td>\n",
       "    </tr>\n",
       "    <tr>\n",
       "      <th>499</th>\n",
       "      <td>499</td>\n",
       "      <td>AIHUB_산업정보 연계 주요국 특허 영-한 데이터/Training\\라벨링데이터_0...</td>\n",
       "      <td>790</td>\n",
       "      <td>1</td>\n",
       "      <td>not subject of batch. small source list.</td>\n",
       "    </tr>\n",
       "  </tbody>\n",
       "</table>\n",
       "<p>500 rows × 5 columns</p>\n",
       "</div>"
      ],
      "text/plain": [
       "     Unnamed: 0                                               File  \\\n",
       "0             0  AIHUB_산업정보 연계 주요국 특허 영-한 데이터/Training\\라벨링데이터_0...   \n",
       "1             1  AIHUB_산업정보 연계 주요국 특허 영-한 데이터/Training\\라벨링데이터_0...   \n",
       "2             2  AIHUB_산업정보 연계 주요국 특허 영-한 데이터/Training\\라벨링데이터_0...   \n",
       "3             3  AIHUB_산업정보 연계 주요국 특허 영-한 데이터/Training\\라벨링데이터_0...   \n",
       "4             4  AIHUB_산업정보 연계 주요국 특허 영-한 데이터/Training\\라벨링데이터_0...   \n",
       "..          ...                                                ...   \n",
       "495         495  AIHUB_산업정보 연계 주요국 특허 영-한 데이터/Training\\라벨링데이터_0...   \n",
       "496         496  AIHUB_산업정보 연계 주요국 특허 영-한 데이터/Training\\라벨링데이터_0...   \n",
       "497         497  AIHUB_산업정보 연계 주요국 특허 영-한 데이터/Training\\라벨링데이터_0...   \n",
       "498         498  AIHUB_산업정보 연계 주요국 특허 영-한 데이터/Training\\라벨링데이터_0...   \n",
       "499         499  AIHUB_산업정보 연계 주요국 특허 영-한 데이터/Training\\라벨링데이터_0...   \n",
       "\n",
       "     Length of Source List  The Number of txt File  \\\n",
       "0                      640                       1   \n",
       "1                       92                       1   \n",
       "2                       66                       1   \n",
       "3                      601                       1   \n",
       "4                      432                       1   \n",
       "..                     ...                     ...   \n",
       "495                   7179                       8   \n",
       "496                    383                       1   \n",
       "497                    335                       1   \n",
       "498                   1953                       2   \n",
       "499                    790                       1   \n",
       "\n",
       "                                  Description  \n",
       "0    not subject of batch. small source list.  \n",
       "1    not subject of batch. small source list.  \n",
       "2    not subject of batch. small source list.  \n",
       "3    not subject of batch. small source list.  \n",
       "4    not subject of batch. small source list.  \n",
       "..                                        ...  \n",
       "495                                       NaN  \n",
       "496  not subject of batch. small source list.  \n",
       "497  not subject of batch. small source list.  \n",
       "498                                       NaN  \n",
       "499  not subject of batch. small source list.  \n",
       "\n",
       "[500 rows x 5 columns]"
      ]
     },
     "execution_count": 20,
     "metadata": {},
     "output_type": "execute_result"
    }
   ],
   "source": [
    "source_file_by_batch_train_df = pd.read_excel('source_file_by_batch/british_korean_data_on_patents_in_major_countries_linked_to_industrial_information_train.xlsx', engine='openpyxl')  \n",
    "source_file_by_batch_train_df"
   ]
  },
  {
   "cell_type": "code",
   "execution_count": 21,
   "metadata": {},
   "outputs": [
    {
     "name": "stdout",
     "output_type": "stream",
     "text": [
      "[Size]\n",
      "The number of preprocessing corpus: 640\n",
      "\n",
      "[Order]\n"
     ]
    },
    {
     "name": "stderr",
     "output_type": "stream",
     "text": [
      "100%|██████████| 640/640 [00:37<00:00, 16.90it/s]\n"
     ]
    }
   ],
   "source": [
    "batch_size = 1000\n",
    "corpus_name = 'british_korean_data_on_patents_in_major_countries_linked_to_industrial_information'\n",
    "write_jsontext_to_txt_file_with_batch_list(train_json_file_list, train_txt_file_path_list, batch_size, the_number_of_train_txt_file_list, corpus_name)"
   ]
  },
  {
   "cell_type": "code",
   "execution_count": 22,
   "metadata": {},
   "outputs": [
    {
     "name": "stdout",
     "output_type": "stream",
     "text": [
      "Batch Size: 1000\n",
      "The number of txt file: 502\n"
     ]
    }
   ],
   "source": [
    "batch_size = 1000\n",
    "corpus_name = 'british_korean_data_on_patents_in_major_countries_linked_to_industrial_information'\n",
    "the_number_of_valid_txt_file, the_number_of_valid_txt_file_list = count_number_of_txt_file_with_batch_list(valid_json_file_list, batch_size, corpus_name)"
   ]
  },
  {
   "cell_type": "code",
   "execution_count": 23,
   "metadata": {},
   "outputs": [
    {
     "data": {
      "text/html": [
       "<div>\n",
       "<style scoped>\n",
       "    .dataframe tbody tr th:only-of-type {\n",
       "        vertical-align: middle;\n",
       "    }\n",
       "\n",
       "    .dataframe tbody tr th {\n",
       "        vertical-align: top;\n",
       "    }\n",
       "\n",
       "    .dataframe thead th {\n",
       "        text-align: right;\n",
       "    }\n",
       "</style>\n",
       "<table border=\"1\" class=\"dataframe\">\n",
       "  <thead>\n",
       "    <tr style=\"text-align: right;\">\n",
       "      <th></th>\n",
       "      <th>Unnamed: 0</th>\n",
       "      <th>File</th>\n",
       "      <th>Length of Source List</th>\n",
       "      <th>The Number of txt File</th>\n",
       "      <th>Description</th>\n",
       "    </tr>\n",
       "  </thead>\n",
       "  <tbody>\n",
       "    <tr>\n",
       "      <th>0</th>\n",
       "      <td>0</td>\n",
       "      <td>AIHUB_산업정보 연계 주요국 특허 영-한 데이터/Validation\\라벨링데이터...</td>\n",
       "      <td>80</td>\n",
       "      <td>1</td>\n",
       "      <td>not subject of batch. small source list.</td>\n",
       "    </tr>\n",
       "    <tr>\n",
       "      <th>1</th>\n",
       "      <td>1</td>\n",
       "      <td>AIHUB_산업정보 연계 주요국 특허 영-한 데이터/Validation\\라벨링데이터...</td>\n",
       "      <td>11</td>\n",
       "      <td>1</td>\n",
       "      <td>not subject of batch. small source list.</td>\n",
       "    </tr>\n",
       "    <tr>\n",
       "      <th>2</th>\n",
       "      <td>2</td>\n",
       "      <td>AIHUB_산업정보 연계 주요국 특허 영-한 데이터/Validation\\라벨링데이터...</td>\n",
       "      <td>8</td>\n",
       "      <td>1</td>\n",
       "      <td>not subject of batch. small source list.</td>\n",
       "    </tr>\n",
       "    <tr>\n",
       "      <th>3</th>\n",
       "      <td>3</td>\n",
       "      <td>AIHUB_산업정보 연계 주요국 특허 영-한 데이터/Validation\\라벨링데이터...</td>\n",
       "      <td>75</td>\n",
       "      <td>1</td>\n",
       "      <td>not subject of batch. small source list.</td>\n",
       "    </tr>\n",
       "    <tr>\n",
       "      <th>4</th>\n",
       "      <td>4</td>\n",
       "      <td>AIHUB_산업정보 연계 주요국 특허 영-한 데이터/Validation\\라벨링데이터...</td>\n",
       "      <td>54</td>\n",
       "      <td>1</td>\n",
       "      <td>not subject of batch. small source list.</td>\n",
       "    </tr>\n",
       "    <tr>\n",
       "      <th>...</th>\n",
       "      <td>...</td>\n",
       "      <td>...</td>\n",
       "      <td>...</td>\n",
       "      <td>...</td>\n",
       "      <td>...</td>\n",
       "    </tr>\n",
       "    <tr>\n",
       "      <th>495</th>\n",
       "      <td>497</td>\n",
       "      <td>AIHUB_산업정보 연계 주요국 특허 영-한 데이터/Validation\\라벨링데이터...</td>\n",
       "      <td>898</td>\n",
       "      <td>1</td>\n",
       "      <td>not subject of batch. small source list.</td>\n",
       "    </tr>\n",
       "    <tr>\n",
       "      <th>496</th>\n",
       "      <td>498</td>\n",
       "      <td>AIHUB_산업정보 연계 주요국 특허 영-한 데이터/Validation\\라벨링데이터...</td>\n",
       "      <td>48</td>\n",
       "      <td>1</td>\n",
       "      <td>not subject of batch. small source list.</td>\n",
       "    </tr>\n",
       "    <tr>\n",
       "      <th>497</th>\n",
       "      <td>499</td>\n",
       "      <td>AIHUB_산업정보 연계 주요국 특허 영-한 데이터/Validation\\라벨링데이터...</td>\n",
       "      <td>42</td>\n",
       "      <td>1</td>\n",
       "      <td>not subject of batch. small source list.</td>\n",
       "    </tr>\n",
       "    <tr>\n",
       "      <th>498</th>\n",
       "      <td>500</td>\n",
       "      <td>AIHUB_산업정보 연계 주요국 특허 영-한 데이터/Validation\\라벨링데이터...</td>\n",
       "      <td>244</td>\n",
       "      <td>1</td>\n",
       "      <td>not subject of batch. small source list.</td>\n",
       "    </tr>\n",
       "    <tr>\n",
       "      <th>499</th>\n",
       "      <td>501</td>\n",
       "      <td>AIHUB_산업정보 연계 주요국 특허 영-한 데이터/Validation\\라벨링데이터...</td>\n",
       "      <td>99</td>\n",
       "      <td>1</td>\n",
       "      <td>not subject of batch. small source list.</td>\n",
       "    </tr>\n",
       "  </tbody>\n",
       "</table>\n",
       "<p>500 rows × 5 columns</p>\n",
       "</div>"
      ],
      "text/plain": [
       "     Unnamed: 0                                               File  \\\n",
       "0             0  AIHUB_산업정보 연계 주요국 특허 영-한 데이터/Validation\\라벨링데이터...   \n",
       "1             1  AIHUB_산업정보 연계 주요국 특허 영-한 데이터/Validation\\라벨링데이터...   \n",
       "2             2  AIHUB_산업정보 연계 주요국 특허 영-한 데이터/Validation\\라벨링데이터...   \n",
       "3             3  AIHUB_산업정보 연계 주요국 특허 영-한 데이터/Validation\\라벨링데이터...   \n",
       "4             4  AIHUB_산업정보 연계 주요국 특허 영-한 데이터/Validation\\라벨링데이터...   \n",
       "..          ...                                                ...   \n",
       "495         497  AIHUB_산업정보 연계 주요국 특허 영-한 데이터/Validation\\라벨링데이터...   \n",
       "496         498  AIHUB_산업정보 연계 주요국 특허 영-한 데이터/Validation\\라벨링데이터...   \n",
       "497         499  AIHUB_산업정보 연계 주요국 특허 영-한 데이터/Validation\\라벨링데이터...   \n",
       "498         500  AIHUB_산업정보 연계 주요국 특허 영-한 데이터/Validation\\라벨링데이터...   \n",
       "499         501  AIHUB_산업정보 연계 주요국 특허 영-한 데이터/Validation\\라벨링데이터...   \n",
       "\n",
       "     Length of Source List  The Number of txt File  \\\n",
       "0                       80                       1   \n",
       "1                       11                       1   \n",
       "2                        8                       1   \n",
       "3                       75                       1   \n",
       "4                       54                       1   \n",
       "..                     ...                     ...   \n",
       "495                    898                       1   \n",
       "496                     48                       1   \n",
       "497                     42                       1   \n",
       "498                    244                       1   \n",
       "499                     99                       1   \n",
       "\n",
       "                                  Description  \n",
       "0    not subject of batch. small source list.  \n",
       "1    not subject of batch. small source list.  \n",
       "2    not subject of batch. small source list.  \n",
       "3    not subject of batch. small source list.  \n",
       "4    not subject of batch. small source list.  \n",
       "..                                        ...  \n",
       "495  not subject of batch. small source list.  \n",
       "496  not subject of batch. small source list.  \n",
       "497  not subject of batch. small source list.  \n",
       "498  not subject of batch. small source list.  \n",
       "499  not subject of batch. small source list.  \n",
       "\n",
       "[500 rows x 5 columns]"
      ]
     },
     "execution_count": 23,
     "metadata": {},
     "output_type": "execute_result"
    }
   ],
   "source": [
    "source_file_by_batch_valid_df = pd.read_excel('source_file_by_batch/british_korean_data_on_patents_in_major_countries_linked_to_industrial_information_valid.xlsx', engine='openpyxl')  \n",
    "source_file_by_batch_valid_df"
   ]
  },
  {
   "cell_type": "code",
   "execution_count": 24,
   "metadata": {},
   "outputs": [
    {
     "name": "stdout",
     "output_type": "stream",
     "text": [
      "[Size]\n",
      "The number of preprocessing corpus: 502\n",
      "\n",
      "[Order]\n"
     ]
    },
    {
     "name": "stderr",
     "output_type": "stream",
     "text": [
      "100%|██████████| 502/502 [00:13<00:00, 37.60it/s]\n"
     ]
    }
   ],
   "source": [
    "batch_size = 1000\n",
    "corpus_name = 'british_korean_data_on_patents_in_major_countries_linked_to_industrial_information'\n",
    "write_jsontext_to_txt_file_with_batch_list(valid_json_file_list, valid_txt_file_path_list, batch_size, the_number_of_valid_txt_file_list, corpus_name)"
   ]
  },
  {
   "attachments": {},
   "cell_type": "markdown",
   "metadata": {},
   "source": [
    "#### Preprocess TXT File"
   ]
  },
  {
   "cell_type": "code",
   "execution_count": null,
   "metadata": {},
   "outputs": [],
   "source": [
    "from sentence_segmentation import preprocessing_text\n",
    "from data_preprocessing import make_pro_post_txt_file_path_list\n",
    "from data_preprocessing import merge_and_deduplicate_corpus_txt\n",
    "from reading_data import reading_txt"
   ]
  },
  {
   "cell_type": "code",
   "execution_count": null,
   "metadata": {},
   "outputs": [],
   "source": [
    "pro_corpus_path = \"AIHUB_corpus/exploration/british_korean_data_on_patents_in_major_countries_linked_to_industrial_information_pro/AIHUB_british_korean_data_on_patents_in_major_countries_linked_to_industrial_information_\" +\"*.txt\"\n",
    "pro_post_xlsx_path = \"pro_post_corpus_path/british_korean_data_on_patents_in_major_countries_linked_to_industrial_information.xlsx\"\n",
    "pro_total_corpus_path_list, post_total_corpus_path_list = make_pro_post_txt_file_path_list(pro_corpus_path, pro_post_xlsx_path)"
   ]
  },
  {
   "cell_type": "code",
   "execution_count": 25,
   "metadata": {},
   "outputs": [
    {
     "data": {
      "text/plain": [
       "1090"
      ]
     },
     "execution_count": 25,
     "metadata": {},
     "output_type": "execute_result"
    }
   ],
   "source": [
    "len(pro_total_corpus_path_list)"
   ]
  },
  {
   "cell_type": "code",
   "execution_count": 27,
   "metadata": {},
   "outputs": [
    {
     "name": "stdout",
     "output_type": "stream",
     "text": [
      "본 발명은 매우 우수한 기계적 및 열적 성질을 갖는 탄소, 텅스텐 및 크롬을 포함하는 3D-인쇄된 코발트계 합금 제품 뿐만 아니라 3D-인쇄된 제품의 제조 방법 및 분말 합금에 관한 것이다. 상기 합금은 고 탄소 함량을 가져서 탄화물 함량은 높지만 작고 균일하게 분포된 탄화물을 초래한다. 본 발명의 합금과 같은 고 탄화물 함량 합금의 3D 인쇄를 용이하게 하는 방법 또한 개시되어 있다.\n",
      "\n"
     ]
    }
   ],
   "source": [
    "pro_coprus_file = pro_total_corpus_path_list[0]\n",
    "line_length = 1\n",
    "data_type = \"source\"\n",
    "\n",
    "reading_txt(pro_coprus_file, line_length, data_type)"
   ]
  },
  {
   "cell_type": "code",
   "execution_count": 28,
   "metadata": {},
   "outputs": [
    {
     "name": "stdout",
     "output_type": "stream",
     "text": [
      "본 발명은 매우 우수한 기계적 및 열적 성질을 갖는 탄소, 텅스텐 및 크롬을 포함하는 3D-인쇄된 코발트계 합금 제품 뿐만 아니라 3D-인쇄된 제품의 제조 방법 및 분말 합금에 관한 것이다.\n",
      "\n",
      "상기 합금은 고 탄소 함량을 가져서 탄화물 함량은 높지만 작고 균일하게 분포된 탄화물을 초래한다.\n",
      "\n",
      "본 발명의 합금과 같은 고 탄화물 함량 합금의 3D 인쇄를 용이하게 하는 방법 또한 개시되어 있다.\n",
      "\n"
     ]
    }
   ],
   "source": [
    "pro_coprus_file = pro_total_corpus_path_list[0]\n",
    "line_length = 1\n",
    "data_type = \"preprocessing\"\n",
    "\n",
    "reading_txt(pro_coprus_file, line_length, data_type)"
   ]
  },
  {
   "cell_type": "code",
   "execution_count": 35,
   "metadata": {},
   "outputs": [
    {
     "name": "stderr",
     "output_type": "stream",
     "text": [
      "2023-05-26 14:49:02,865\tINFO worker.py:1625 -- Started a local Ray instance.\n"
     ]
    }
   ],
   "source": [
    "!python -m txt_preprocessing \\\n",
    "    --num_cpus 4 \\\n",
    "    --pro_post_xlsx_path 'pro_post_corpus_path/british_korean_data_on_patents_in_major_countries_linked_to_industrial_information.xlsx' \\\n",
    "    --start_index 0"
   ]
  },
  {
   "cell_type": "code",
   "execution_count": 36,
   "metadata": {},
   "outputs": [],
   "source": [
    "ray.shutdown()"
   ]
  },
  {
   "cell_type": "code",
   "execution_count": null,
   "metadata": {},
   "outputs": [],
   "source": [
    "preprocessing_corpus_path = \"AIHUB_corpus/exploration/british_korean_data_on_patents_in_major_countries_linked_to_industrial_information_post/AIHUB_british_korean_data_on_patents_in_major_countries_linked_to_industrial_information_\" +\"*.txt\"\n",
    "merge_corpus_path = 'AIHUB_corpus/duplicate/AIHUB_british_korean_data_on_patents_in_major_countries_linked_to_industrial_information.txt'\n",
    "deduplicate_corpus_path = 'AIHUB_corpus/AIHUB_british_korean_data_on_patents_in_major_countries_linked_to_industrial_information_post/AIHUB_british_korean_data_on_patents_in_major_countries_linked_to_industrial_information.txt'"
   ]
  },
  {
   "cell_type": "code",
   "execution_count": null,
   "metadata": {},
   "outputs": [],
   "source": [
    "merge_and_deduplicate_corpus_txt(preprocessing_corpus_path, merge_corpus_path, \n",
    "                                  deduplicate_corpus_path)"
   ]
  }
 ],
 "metadata": {
  "kernelspec": {
   "display_name": "corpus_05",
   "language": "python",
   "name": "corpus_05"
  },
  "language_info": {
   "codemirror_mode": {
    "name": "ipython",
    "version": 3
   },
   "file_extension": ".py",
   "mimetype": "text/x-python",
   "name": "python",
   "nbconvert_exporter": "python",
   "pygments_lexer": "ipython3",
   "version": "3.9.13"
  }
 },
 "nbformat": 4,
 "nbformat_minor": 2
}
