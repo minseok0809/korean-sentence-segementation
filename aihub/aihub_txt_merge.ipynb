{
  "cells": [
    {
      "attachments": {},
      "cell_type": "markdown",
      "metadata": {
        "id": "EdmAO4oz4qg3"
      },
      "source": [
        "## AIHUB Txt Merge"
      ]
    },
    {
      "attachments": {},
      "cell_type": "markdown",
      "metadata": {
        "id": "t46dEcpN4qg7"
      },
      "source": [
        "### Development Environment"
      ]
    },
    {
      "cell_type": "code",
      "execution_count": 1,
      "metadata": {
        "id": "I8JRGseV4qg7"
      },
      "outputs": [],
      "source": [
        "from glob import glob"
      ]
    },
    {
      "attachments": {},
      "cell_type": "markdown",
      "metadata": {
        "id": "LyrowP8W4qg8"
      },
      "source": [
        "### AIHUB_웹데이터 기반 한국어 말뭉치 데이터"
      ]
    },
    {
      "cell_type": "code",
      "execution_count": 5,
      "metadata": {},
      "outputs": [],
      "source": [
        "corpus_list = glob(\"AIHUB_corpus/demo/AIHUB_web_data_based_korean_corpus_data_source_train_\" +\"*.txt\")\n",
        "corpus_list += [\"AIHUB_corpus/demo/AIHUB_web_data_based_korean_corpus_data_source_valid_.txt\"]"
      ]
    },
    {
      "cell_type": "code",
      "execution_count": null,
      "metadata": {},
      "outputs": [],
      "source": [
        "with open('AIHUB_corpus/AIHUB_web_data_based_korean_corpus_data_source.txt', 'w') as f:\n",
        "    for corpus in corpus_list:\n",
        "        with open(corpus) as text:\n",
        "            for line in text:\n",
        "                f.write(line)"
      ]
    }
  ],
  "metadata": {
    "colab": {
      "provenance": []
    },
    "kernelspec": {
      "display_name": "vscode",
      "language": "python",
      "name": "python3"
    },
    "language_info": {
      "codemirror_mode": {
        "name": "ipython",
        "version": 3
      },
      "file_extension": ".py",
      "mimetype": "text/x-python",
      "name": "python",
      "nbconvert_exporter": "python",
      "pygments_lexer": "ipython3",
      "version": "3.11.3"
    },
    "orig_nbformat": 4
  },
  "nbformat": 4,
  "nbformat_minor": 0
}
