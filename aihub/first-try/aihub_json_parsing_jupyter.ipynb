{
 "cells": [
  {
   "attachments": {},
   "cell_type": "markdown",
   "id": "3a60fe06",
   "metadata": {},
   "source": [
    "## AIHub Json Parsing"
   ]
  },
  {
   "cell_type": "markdown",
   "id": "f3a072fe",
   "metadata": {},
   "source": [
    "### Development Environment"
   ]
  },
  {
   "cell_type": "code",
   "execution_count": 14,
   "id": "34a117a6",
   "metadata": {},
   "outputs": [],
   "source": [
    "import re\n",
    "import os\n",
    "import kss\n",
    "import json\n",
    "import MeCab\n",
    "import pandas as pd\n",
    "from glob import glob"
   ]
  },
  {
   "cell_type": "code",
   "execution_count": 97,
   "id": "3d2cb853",
   "metadata": {
    "scrolled": true
   },
   "outputs": [
    {
     "data": {
      "text/plain": [
       "'D:\\\\AIHUB'"
      ]
     },
     "execution_count": 97,
     "metadata": {},
     "output_type": "execute_result"
    }
   ],
   "source": [
    "pwd"
   ]
  },
  {
   "attachments": {},
   "cell_type": "markdown",
   "id": "9eeaa7f9",
   "metadata": {},
   "source": [
    "### AIHUB 전문분야 말뭉치"
   ]
  },
  {
   "attachments": {},
   "cell_type": "markdown",
   "id": "f9fc7287",
   "metadata": {},
   "source": [
    "[Source](https://www.aihub.or.kr/aihubdata/data/view.do?currMenu=115&topMenu=100&aihubDataSe=realm&dataSetSn=110)"
   ]
  },
  {
   "cell_type": "code",
   "execution_count": 7,
   "id": "d6ee6dc7",
   "metadata": {},
   "outputs": [],
   "source": [
    "def json_file_name_list(path_list):\n",
    "    for i in path_list:\n",
    "        if 'rain' in i:\n",
    "            train_file_name = glob(i, recursive = True)\n",
    "        elif 'alid' in i:  \n",
    "            valid_file_name = glob(i, recursive = True)\n",
    "    return train_file_name, valid_file_name"
   ]
  },
  {
   "cell_type": "code",
   "execution_count": 8,
   "id": "e186dd33",
   "metadata": {},
   "outputs": [],
   "source": [
    "path_list = ['AIHUB_전문분야 말뭉치/Training/'+ '/**/*.json', 'AIHUB_전문분야 말뭉치/Validation/'+ '/**/*.json']\n",
    "train_file_name, valid_file_name = json_file_name_list(path_list)"
   ]
  },
  {
   "cell_type": "code",
   "execution_count": 30,
   "id": "2abdfee1",
   "metadata": {},
   "outputs": [],
   "source": [
    "def make_corpus_txt(file_name_list, corpus_file_name):\n",
    "    sentence_list = []\n",
    "    for i in range(len(file_name_list)):\n",
    "        with open(file_name_list[i], 'r', encoding='utf-8') as one_json_file:\n",
    "            one_json_sample = json.load(one_json_file)\n",
    "        \n",
    "        if '논문_' in file_name_list[i] or '특허_z' in file_name_list[i]:\n",
    "            source_list = list(pd.DataFrame(one_json_sample['data'])['text'])\n",
    "            for source in source_list:\n",
    "                for sentence in kss.split_sentences(source):\n",
    "                    if bool(re.match(r'[.]|[,]|[◆]|[◇]|[△]|[▲]|[▽]|[▼]|[▷]|[▶]|[<]|[>]|[(]|[)]|[〈]|[【]|[◈]|[]|[②]', sentence[0])) == False and \\\n",
    "                     bool(re.match(r'[0-9]+.', sentence[:2])) == False and \\\n",
    "                    bool(re.match(r'제+[0-9]+항|제+[0-9]+조', sentence[:3])) == False and \\\n",
    "                    bool(re.match(r'제+[0-9]+0-9]+항|제+[0-9]+0-9]+조', sentence[:4])) == False and \\\n",
    "                    bool(re.match(r'[+[0-9]+]', sentence[:3])) == False and \\\n",
    "                    len(sentence) > 55:\n",
    "                        sentence_list.append(sentence)   \n",
    "                               \n",
    "        elif '특허_0' in file_name_list[i] or '특허_1' in file_name_list[i] or \\\n",
    "        '법령' in file_name_list[i] or '판례' in file_name_list[i]:\n",
    "            for j in one_json_sample['data'][:]:\n",
    "                for sentence in kss.split_sentences(j['sentence'][0]['text']):\n",
    "                    if bool(re.match(r'[.]|[,]|[◆]|[◇]|[△]|[▲]|[▽]|[▼]|[▷]|[▶]|[<]|[>]|[(]|[)]|[〈]|[【]|[◈]|[]|[②]', sentence[0])) == False and \\\n",
    "                     bool(re.match(r'[0-9]+.', sentence[:2])) == False and \\\n",
    "                    bool(re.match(r'제+[0-9]+항|제+[0-9]+조', sentence[:3])) == False and \\\n",
    "                    bool(re.match(r'제+[0-9]+0-9]+항|제+[0-9]+0-9]+조', sentence[:4])) == False and \\\n",
    "                    bool(re.match(r'[+[0-9]+]', sentence[:3])) == False and \\\n",
    "                    len(sentence) > 55:\n",
    "                        sentence_list.append(sentence)   \n",
    "                               \n",
    "               \n",
    "    with open(os.path.join('AIHUB_corpus/', corpus_file_name), \"a\", encoding='utf-8') as fp:        \n",
    "        fp.write(\"\\n\".join(sentence_list))  "
   ]
  },
  {
   "cell_type": "code",
   "execution_count": 31,
   "id": "8f4ee7fc",
   "metadata": {},
   "outputs": [],
   "source": [
    "corpus_file_name = \"AIHUB_professional_corpus_source.txt\"\n",
    "make_corpus_txt(train_file_name, corpus_file_name)\n",
    "make_corpus_txt(valid_file_name, corpus_file_name)"
   ]
  },
  {
   "attachments": {},
   "cell_type": "markdown",
   "id": "6ee2e743",
   "metadata": {},
   "source": [
    "### AIHUB 산업정보 연계 주요국 특허 영-한 데이터"
   ]
  },
  {
   "attachments": {},
   "cell_type": "markdown",
   "id": "dd1eb57c",
   "metadata": {},
   "source": [
    "[Source](https://aihub.or.kr/aihubdata/data/view.do?currMenu=&topMenu=&aihubDataSe=realm&dataSetSn=563)"
   ]
  },
  {
   "cell_type": "code",
   "execution_count": 32,
   "id": "18c536df",
   "metadata": {},
   "outputs": [],
   "source": [
    "def json_file_name_list(path_list):\n",
    "    for i in path_list:\n",
    "        if 'rain' in i:\n",
    "            train_file_name = glob(i, recursive = True)\n",
    "        elif 'alid' in i:  \n",
    "            valid_file_name = glob(i, recursive = True)\n",
    "    return train_file_name, valid_file_name"
   ]
  },
  {
   "cell_type": "code",
   "execution_count": 71,
   "id": "b7387abb",
   "metadata": {},
   "outputs": [],
   "source": [
    "path_list = ['AIHUB_산업정보 연계 주요국 특허 영-한 데이터/Training/'+ '/**/*.json', \n",
    "             'AIHUB_산업정보 연계 주요국 특허 영-한 데이터/Validation/'+ '/**/*.json']\n",
    "train_file_name, valid_file_name = json_file_name_list(path_list)"
   ]
  },
  {
   "cell_type": "code",
   "execution_count": 77,
   "id": "3fc4249b",
   "metadata": {},
   "outputs": [],
   "source": [
    "def make_corpus_txt(file_name_list, corpus_file_name):\n",
    "    sentence_list = []\n",
    "    for i in range(len(file_name_list)):\n",
    "        with open(file_name_list[i], 'r', encoding='utf-8') as one_json_file:\n",
    "            one_json_sample = json.load(one_json_file)\n",
    "            \n",
    "        source_list = list(pd.DataFrame(one_json_sample['labeled_data'])['astrt_cont_kor'])\n",
    "        for source in source_list:\n",
    "            for sentence in kss.split_sentences(source):\n",
    "                if bool(re.match(r'[.]|[,]|[◆]|[◇]|[△]|[▲]|[▽]|[▼]|[▷]|[▶]|[<]|[>]|[:]', sentence[0])) == False  and \\\n",
    "                len(sentence) > 16:  \n",
    "                    sentence_list.append(sentence)  \n",
    "                    \n",
    "    with open(os.path.join('AIHUB_corpus/', corpus_file_name), \"a\", encoding='utf-8') as fp:        \n",
    "        fp.write(\"\\n\".join(sentence_list))          "
   ]
  },
  {
   "cell_type": "code",
   "execution_count": 78,
   "id": "998dd9a8",
   "metadata": {},
   "outputs": [],
   "source": [
    "corpus_file_name = \"AIHUB_british_korean_data_on_patents_in_major_countries_linked_to_industrial_information.txt\"\n",
    "make_corpus_txt(train_file_name, corpus_file_name)\n",
    "make_corpus_txt(valid_file_name, corpus_file_name)"
   ]
  },
  {
   "attachments": {},
   "cell_type": "markdown",
   "id": "58eadcaf",
   "metadata": {},
   "source": [
    "### AIHUB 도서자료 요약"
   ]
  },
  {
   "attachments": {},
   "cell_type": "markdown",
   "id": "8b1d38b6",
   "metadata": {},
   "source": [
    "[Source](https://aihub.or.kr/aihubdata/data/view.do?currMenu=115&topMenu=100&aihubDataSe=realm&dataSetSn=93)"
   ]
  },
  {
   "cell_type": "code",
   "execution_count": 79,
   "id": "0b17c3de",
   "metadata": {},
   "outputs": [],
   "source": [
    "def json_file_name_list(path_list):\n",
    "    for i in path_list:\n",
    "        if 'rain' in i:\n",
    "            train_file_name = glob(i, recursive = True)\n",
    "        elif 'alid' in i:  \n",
    "            valid_file_name = glob(i, recursive = True)\n",
    "    return train_file_name, valid_file_name"
   ]
  },
  {
   "cell_type": "code",
   "execution_count": 83,
   "id": "93a52aaa",
   "metadata": {},
   "outputs": [],
   "source": [
    "path_list = ['AIHUB_도서자료 요약/Training/'+ '/**/*.json', \n",
    "             'AIHUB_도서자료 요약/Validation/'+ '/**/*.json']\n",
    "train_file_name, valid_file_name = json_file_name_list(path_list)"
   ]
  },
  {
   "cell_type": "code",
   "execution_count": 95,
   "id": "5a2fe6bd",
   "metadata": {},
   "outputs": [],
   "source": [
    "def make_corpus_txt(file_name_list, corpus_file_name):\n",
    "    sentence_list = []\n",
    "    for i in range(len(file_name_list)):\n",
    "        with open(file_name_list[i], 'r', encoding='utf-8') as one_json_file:\n",
    "            one_json_sample = json.load(one_json_file)\n",
    "            \n",
    "        passage = one_json_sample[\"passage\"]  \n",
    "        summary = one_json_sample[\"summary\"]\n",
    "        \n",
    "        for sentence in kss.split_sentences(passage):\n",
    "            if bool(re.match(r'[.]|[,]|[◆]|[◇]|[△]|[▲]|[▽]|[▼]|[▷]|[▶]|[<]|[>]|[:]', sentence[0])) == False  and \\\n",
    "            len(sentence) > 16:  \n",
    "                sentence_list.append(sentence) \n",
    "                \n",
    "        for sentence in kss.split_sentences(summary):\n",
    "            if bool(re.match(r'[.]|[,]|[◆]|[◇]|[△]|[▲]|[▽]|[▼]|[▷]|[▶]|[<]|[>]|[:]', sentence[0])) == False  and \\\n",
    "            len(sentence) > 16:  \n",
    "                sentence_list.append(sentence)  \n",
    "                \n",
    "    with open(os.path.join('AIHUB_corpus/', corpus_file_name), \"a\", encoding='utf-8') as fp:        \n",
    "        fp.write(\"\\n\".join(sentence_list))     "
   ]
  },
  {
   "cell_type": "code",
   "execution_count": 96,
   "id": "b7793d6d",
   "metadata": {
    "scrolled": true
   },
   "outputs": [],
   "source": [
    "corpus_file_name = \"AIHUB_summary_of_book_materials.txt\"\n",
    "make_corpus_txt(train_file_name, corpus_file_name)\n",
    "make_corpus_txt(valid_file_name, corpus_file_name)"
   ]
  },
  {
   "attachments": {},
   "cell_type": "markdown",
   "id": "77f63568",
   "metadata": {},
   "source": [
    "### AIHUB 논문자료 요약"
   ]
  },
  {
   "attachments": {},
   "cell_type": "markdown",
   "id": "72122d71",
   "metadata": {},
   "source": [
    "[Source](https://aihub.or.kr/aihubdata/data/view.do?currMenu=115&topMenu=100&aihubDataSe=realm&dataSetSn=90)"
   ]
  },
  {
   "cell_type": "code",
   "execution_count": 103,
   "id": "b2d7d5da",
   "metadata": {},
   "outputs": [],
   "source": [
    "def json_file_name_list(path_list):\n",
    "    for i in path_list:\n",
    "        if 'rain' in i:\n",
    "            train_file_name = glob(i, recursive = True)\n",
    "        elif 'alid' in i:  \n",
    "            valid_file_name = glob(i, recursive = True)\n",
    "    return train_file_name, valid_file_name"
   ]
  },
  {
   "cell_type": "code",
   "execution_count": 104,
   "id": "8d9fda05",
   "metadata": {},
   "outputs": [],
   "source": [
    "path_list = ['AIHUB_논문자료 요약/Training/'+ '/**/*.json', \n",
    "             'AIHUB_논문자료 요약/Validatoin/'+ '/**/*.json']\n",
    "train_file_name, valid_file_name = json_file_name_list(path_list)"
   ]
  },
  {
   "cell_type": "code",
   "execution_count": 105,
   "id": "c7781599",
   "metadata": {},
   "outputs": [],
   "source": [
    "def make_corpus_txt(file_name_list, corpus_file_name):\n",
    "    \n",
    "    sentence_list = []\n",
    "    \n",
    "    for i in range(len(file_name_list)):\n",
    "        with open(file_name_list[i], 'r', encoding='utf-8') as one_json_file:\n",
    "            one_json_sample = json.load(one_json_file)\n",
    "    \n",
    "    for j in one_json_sample['data']:\n",
    "        try:\n",
    "            summary_entire = j['summary_entire'][0]\n",
    "        \n",
    "        except KeyError:\n",
    "            pass \n",
    "    \n",
    "        finally: \n",
    "            summary_section = j['summary_section'][0]\n",
    "        \n",
    "        if '논문/논문요약' in file_name_list[i]:\n",
    "            \n",
    "            try:\n",
    "                for sentence in kss.split_sentences(summary_entire['orginal_text']):\n",
    "                    if bool(re.match(r'[.]|[,]|[◆]|[◇]|[△]|[▲]|[▽]|[▼]|[▷]|[▶]|[<]|[>]|[0-9]|[《]|[/]|[○]|[-]| ]', sentence[0])) == False:\n",
    "                        sentence_list.append(sentence)  \n",
    "            except KeyError:\n",
    "                pass            \n",
    "\n",
    "        if True:    \n",
    "            try:    \n",
    "                summary_entire = j['summary_entire'][0]\n",
    "                for sentence in kss.split_sentences( for sentence in kss.split_sentences(summary_entire['summary_text']):):\n",
    "                    if bool(re.match(r'[.]|[,]|[◆]|[◇]|[△]|[▲]|[▽]|[▼]|[▷]|[▶]|[<]|[>]|[0-9]|[《]|[/]|[○]|[-]| ]', sentence[0])) == False:\n",
    "                        sentence_list.append(sentence)  \n",
    "            except KeyError:\n",
    "                pass\n",
    "\n",
    "            finally:\n",
    "                for sentence in kss.split_sentences(summary_section['orginal_text']):\n",
    "                    if bool(re.match(r'[.]|[,]|[◆]|[◇]|[△]|[▲]|[▽]|[▼]|[▷]|[▶]|[<]|[>]|[0-9]|[《]|[/]|[○]|[-]| ]', sentence[0])) == False:\n",
    "                        sentence_list.append(sentence)  \n",
    "                        \n",
    "                for sentence in kss.split_sentences(summary_section['summary_text']):\n",
    "                    if bool(re.match(r'[.]|[,]|[◆]|[◇]|[△]|[▲]|[▽]|[▼]|[▷]|[▶]|[<]|[>]|[0-9]|[《]|[/]|[○]|[-]| ]', sentence[0])) == False:\n",
    "                        sentence_list.append(sentence) \n",
    "    \n",
    "    with open(os.path.join('AIHUB_corpus/', corpus_file_name), 'a', encoding=\"UTF-8\") as fp:       \n",
    "        fp.write(\"\\n\".join(sentence_list))"
   ]
  },
  {
   "cell_type": "code",
   "execution_count": 106,
   "id": "ef91e644",
   "metadata": {},
   "outputs": [],
   "source": [
    "corpus_file_name = \"AIHUB_summary_of_thesis_materials.txt\"\n",
    "make_corpus_txt(train_file_name, corpus_file_name)\n",
    "make_corpus_txt(valid_file_name, corpus_file_name)"
   ]
  }
 ],
 "metadata": {
  "kernelspec": {
   "display_name": "corpus_02",
   "language": "python",
   "name": "corpus_02"
  },
  "language_info": {
   "codemirror_mode": {
    "name": "ipython",
    "version": 3
   },
   "file_extension": ".py",
   "mimetype": "text/x-python",
   "name": "python",
   "nbconvert_exporter": "python",
   "pygments_lexer": "ipython3",
   "version": "3.11.2"
  }
 },
 "nbformat": 4,
 "nbformat_minor": 5
}
