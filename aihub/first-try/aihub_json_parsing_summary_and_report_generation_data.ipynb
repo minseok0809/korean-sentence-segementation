{
 "cells": [
  {
   "attachments": {},
   "cell_type": "markdown",
   "metadata": {},
   "source": [
    "## AIHub Json Parsing"
   ]
  },
  {
   "attachments": {},
   "cell_type": "markdown",
   "metadata": {},
   "source": [
    "### Development Environment"
   ]
  },
  {
   "cell_type": "code",
   "execution_count": null,
   "metadata": {},
   "outputs": [],
   "source": [
    "%pip install kss==3.7.3"
   ]
  },
  {
   "attachments": {},
   "cell_type": "markdown",
   "metadata": {},
   "source": [
    "KSS Argument Error: Restart Jupyter Kernel Runtime"
   ]
  },
  {
   "cell_type": "code",
   "execution_count": null,
   "metadata": {},
   "outputs": [],
   "source": [
    "%pip install python-mecab-ko"
   ]
  },
  {
   "attachments": {},
   "cell_type": "markdown",
   "metadata": {},
   "source": [
    "KSS 3.7.3 matches python-mecab-ko"
   ]
  },
  {
   "cell_type": "code",
   "execution_count": null,
   "metadata": {},
   "outputs": [],
   "source": [
    "%pip install pandas"
   ]
  },
  {
   "cell_type": "code",
   "execution_count": 1,
   "metadata": {},
   "outputs": [],
   "source": [
    "import re\n",
    "import os\n",
    "import kss\n",
    "import json\n",
    "from mecab import MeCab\n",
    "import pandas as pd\n",
    "from glob import glob"
   ]
  },
  {
   "cell_type": "code",
   "execution_count": 30,
   "metadata": {},
   "outputs": [
    {
     "data": {
      "text/plain": [
       "'d:\\\\AIHUB'"
      ]
     },
     "execution_count": 30,
     "metadata": {},
     "output_type": "execute_result"
    }
   ],
   "source": [
    "pwd"
   ]
  },
  {
   "attachments": {},
   "cell_type": "markdown",
   "metadata": {},
   "source": [
    "### Function"
   ]
  },
  {
   "cell_type": "code",
   "execution_count": 3,
   "metadata": {},
   "outputs": [],
   "source": [
    "def json_file_name_list(path_list):\n",
    "    for i in path_list:\n",
    "        file_name = glob(i, recursive = True)\n",
    "    return file_name"
   ]
  },
  {
   "cell_type": "code",
   "execution_count": 4,
   "metadata": {},
   "outputs": [],
   "source": [
    "def train_valid_json_file_name_list(path_list):\n",
    "    for i in path_list:\n",
    "        if 'rain' in i:\n",
    "            train_file_name = glob(i, recursive = True)\n",
    "        elif 'alid' in i:  \n",
    "            valid_file_name = glob(i, recursive = True)\n",
    "    return train_file_name, valid_file_name"
   ]
  },
  {
   "cell_type": "code",
   "execution_count": 11,
   "metadata": {},
   "outputs": [],
   "source": [
    "def divide_source_file_list(l, n): \n",
    "    for i in range(0, len(l), n): \n",
    "        yield l[i:i + n] "
   ]
  },
  {
   "cell_type": "code",
   "execution_count": 5,
   "metadata": {},
   "outputs": [],
   "source": [
    "def txt_file_name_list(source_file_nested_list, folder_corpus_type_name):\n",
    "   \n",
    "  text_file_name_list = []\n",
    "\n",
    "  for i in range(len(source_file_nested_list)):\n",
    "    txt_file_name = folder_corpus_type_name + str(i) + \".txt\"\n",
    "    text_file_name_list.append(txt_file_name)\n",
    "\n",
    "  return text_file_name_list"
   ]
  },
  {
   "cell_type": "code",
   "execution_count": 6,
   "metadata": {},
   "outputs": [],
   "source": [
    "def train_valid_txt_file_name_list(source_file_nested_list, folder_corpus_type_name):\n",
    "   \n",
    "  train_valid_set = source_file_nested_list[0][0]\n",
    "  text_file_name_list = []\n",
    "\n",
    "  if 'rain' in train_valid_set:\n",
    "    for i in range(len(source_file_nested_list)):\n",
    "      txt_file_name = folder_corpus_type_name + str(i) + \".txt\"\n",
    "      text_file_name_list.append(txt_file_name)\n",
    "\n",
    "  elif 'alid' in train_valid_set:\n",
    "    for i in range(len(source_file_nested_list)):\n",
    "      txt_file_name = folder_corpus_type_name + str(i) + \".txt\"\n",
    "      text_file_name_list.append(txt_file_name)  \n",
    "\n",
    "  return text_file_name_list"
   ]
  },
  {
   "cell_type": "code",
   "execution_count": 7,
   "metadata": {},
   "outputs": [],
   "source": [
    "def formal_preprocessing_text(source):\n",
    "    preprocessing_sentence_list = []\n",
    "    \n",
    "    source = source.strip()\n",
    "    # strip으로 앞뒤 공백 제거\n",
    "    for sentence in kss.split_sentences(source, use_heuristic=False,\n",
    "                                        num_workers=32):\n",
    "    # Formal articles (wiki, news, essays): recommend to False\n",
    "\n",
    "        if re.search(\"^[A-Za-z0-9ㄱ-ㅎ가-힣一-鿕㐀-䶵豈-龎]\", sentence[0]) is not None and \\\n",
    "            bool(re.match(r'[.]|[!]|[?]', sentence[-1])) == True and \\\n",
    "            len(sentence.split()) > 5:\n",
    "            sentence = re.sub(r\"\\[.*?\\]|\\{.*?\\}\", \"\",  sentence)\n",
    "            # The String starts with a letter\n",
    "            # The String ends with [. ! ?]\n",
    "            # 기타 괄호 제거할 시 괄호 내부에 모든 텍스트 제거\n",
    "\n",
    "            sentence = re.sub(r\"[^A-Za-z0-9ㄱ-ㅎ가-힣一-鿕㐀-䶵豈-龎()+-]\", \" \", sentence)\n",
    "            # 특수문자 제거(영어 대소문자, 한글, 한자, 숫자, -, +, 소괄호 제외)\n",
    "\n",
    "            sentence = sentence.strip()\n",
    "            # strip으로 앞뒤 공백 제거\n",
    "            \n",
    "            total_length = len(sentence.replace(\" \" , \"\"))\n",
    "            hangeul_length = len(re.sub(r\"[^ㄱ-ㅣ가-힣\\s]\", \"\", sentence))\n",
    "            hangeul_ratio = hangeul_length / total_length\n",
    "            if hangeul_ratio >= 0.5:\n",
    "            # 한글이 아닌 문자열이 50% 이상이 넘은 문장 제외\n",
    "                preprocessing_sentence_list.append(sentence)\n",
    "\n",
    "    return preprocessing_sentence_list"
   ]
  },
  {
   "cell_type": "code",
   "execution_count": 8,
   "metadata": {},
   "outputs": [],
   "source": [
    "def informal_preprocessing_text(source):\n",
    "    preprocessing_sentence_list = []\n",
    "    \n",
    "    source = source.strip()\n",
    "    # strip으로 앞뒤 공백 제거\n",
    "    for sentence in kss.split_sentences(source, use_heuristic=True,\n",
    "                                        num_workers=32):\n",
    "    # Formal articles (wiki, news, essays): recommend to False\n",
    "\n",
    "        if re.search(\"^[A-Za-z0-9ㄱ-ㅎ가-힣一-鿕㐀-䶵豈-龎]\", sentence[0]) is not None and \\\n",
    "            bool(re.match(r'[.]|[!]|[?]', sentence[-1])) == True and \\\n",
    "            len(sentence.split()) > 5:\n",
    "            sentence = re.sub(r\"\\[.*?\\]|\\{.*?\\}\", \"\",  sentence)\n",
    "            # The String starts with a letter\n",
    "            # The String ends with [. ! ?]\n",
    "            # 기타 괄호 제거할 시 괄호 내부에 모든 텍스트 제거\n",
    "\n",
    "            sentence = re.sub(r\"[^A-Za-z0-9ㄱ-ㅎ가-힣一-鿕㐀-䶵豈-龎()+-]\", \" \", sentence)\n",
    "            # 특수문자 제거(영어 대소문자, 한글, 한자, 숫자, -, +, 소괄호 제외)\n",
    "\n",
    "            sentence = sentence.strip()\n",
    "            # strip으로 앞뒤 공백 제거\n",
    "            \n",
    "            total_length = len(sentence.replace(\" \" , \"\"))\n",
    "            hangeul_length = len(re.sub(r\"[^ㄱ-ㅣ가-힣\\s]\", \"\", sentence))\n",
    "            hangeul_ratio = hangeul_length / total_length\n",
    "            if hangeul_ratio >= 0.5:\n",
    "            # 한글이 아닌 문자열이 50% 이상이 넘은 문장 제외\n",
    "                preprocessing_sentence_list.append(sentence)\n",
    "\n",
    "    return preprocessing_sentence_list"
   ]
  },
  {
   "attachments": {},
   "cell_type": "markdown",
   "metadata": {},
   "source": [
    "### AIHUB 요약문 및 레포트 생성 데이터"
   ]
  },
  {
   "attachments": {},
   "cell_type": "markdown",
   "metadata": {},
   "source": [
    "[Source](https://www.aihub.or.kr/aihubdata/data/view.do?currMenu=115&topMenu=100&aihubDataSe=realm&dataSetSn=582)"
   ]
  },
  {
   "cell_type": "code",
   "execution_count": 32,
   "metadata": {},
   "outputs": [],
   "source": [
    "path_list = ['AIHUB_요약문 및 레포트 생성 데이터/Training/원천데이터/TS1/01.news_r/' + '**/*.json',\n",
    "'AIHUB_요약문 및 레포트 생성 데이터/Training/원천데이터/TS1/02.briefing/' + '**/*.json',\n",
    "'AIHUB_요약문 및 레포트 생성 데이터/Training/원천데이터/TS1/03.his_cul/' + '**/*.json',\n",
    "'AIHUB_요약문 및 레포트 생성 데이터/Training/원천데이터/TS1/04.paper/' + '**/*.json',\n",
    "'AIHUB_요약문 및 레포트 생성 데이터/Training/원천데이터/TS1/05.minute/' + '**/*.json',\n",
    "'AIHUB_요약문 및 레포트 생성 데이터/Training/원천데이터/TS1/06.edit/' + '**/*.json',\n",
    "'AIHUB_요약문 및 레포트 생성 데이터/Training/원천데이터/TS1/07.public/' + '**/*.json',\n",
    "'AIHUB_요약문 및 레포트 생성 데이터/Training/원천데이터/TS1/08.speech/' + '**/*.json',\n",
    "'AIHUB_요약문 및 레포트 생성 데이터/Training/원천데이터/TS1/09.literature/' + '**/*.json',\n",
    "'AIHUB_요약문 및 레포트 생성 데이터/Training/원천데이터/TS1/10.narration/' + '**/*.json',\n",
    "'AIHUB_요약문 및 레포트 생성 데이터/Validation/원천데이터/VS1/01.news_r/' + '**/*.json',\n",
    "'AIHUB_요약문 및 레포트 생성 데이터/Validation/원천데이터/VS1/02.briefing/' + '**/*.json',\n",
    "'AIHUB_요약문 및 레포트 생성 데이터/Validation/원천데이터/VS1/03.his_cul/' + '**/*.json',\n",
    "'AIHUB_요약문 및 레포트 생성 데이터/Validation/원천데이터/VS1/04.paper/' + '**/*.json',\n",
    "'AIHUB_요약문 및 레포트 생성 데이터/Validation/원천데이터/VS1/05.minute/' + '**/*.json',\n",
    "'AIHUB_요약문 및 레포트 생성 데이터/Validation/원천데이터/VS1/06.edit/' + '**/*.json',\n",
    "'AIHUB_요약문 및 레포트 생성 데이터/Validation/원천데이터/VS1/07.public/' + '**/*.json',             \n",
    "'AIHUB_요약문 및 레포트 생성 데이터/Validation/원천데이터/VS1/08.speech/' + '**/*.json',\n",
    "'AIHUB_요약문 및 레포트 생성 데이터/Validation/원천데이터/VS1/09.literature/' + '**/*.json',\n",
    "'AIHUB_요약문 및 레포트 생성 데이터/Validation/원천데이터/VS1/10.narration/' + '**/*.json']\n",
    "\n",
    "train_file_name_01 = glob(path_list[0], recursive = True)\n",
    "train_file_name_02 = glob(path_list[1], recursive = True)\n",
    "train_file_name_03 = glob(path_list[2], recursive = True)\n",
    "train_file_name_04 = glob(path_list[3], recursive = True)\n",
    "train_file_name_05 = glob(path_list[4], recursive = True)\n",
    "train_file_name_06 = glob(path_list[5], recursive = True)\n",
    "train_file_name_07 = glob(path_list[6], recursive = True)\n",
    "train_file_name_08 = glob(path_list[7], recursive = True)\n",
    "train_file_name_09 = glob(path_list[8], recursive = True)\n",
    "train_file_name_10 = glob(path_list[9], recursive = True)\n",
    "valid_file_name_01 = glob(path_list[10], recursive = True)\n",
    "valid_file_name_02 = glob(path_list[11], recursive = True)\n",
    "valid_file_name_03 = glob(path_list[12], recursive = True)\n",
    "valid_file_name_04 = glob(path_list[13], recursive = True)\n",
    "valid_file_name_05 = glob(path_list[14], recursive = True)\n",
    "valid_file_name_06 = glob(path_list[15], recursive = True)\n",
    "valid_file_name_07 = glob(path_list[16], recursive = True)\n",
    "valid_file_name_08 = glob(path_list[17], recursive = True)\n",
    "valid_file_name_09 = glob(path_list[18], recursive = True)\n",
    "valid_file_name_10 = glob(path_list[19], recursive = True)  "
   ]
  },
  {
   "cell_type": "code",
   "execution_count": 34,
   "metadata": {},
   "outputs": [
    {
     "name": "stdout",
     "output_type": "stream",
     "text": [
      "The number of file:  21600\n",
      "The number of list element: 21\n"
     ]
    }
   ],
   "source": [
    "the_number_of_file = len(train_file_name_01) \n",
    "print(\"The number of file: \", the_number_of_file)\n",
    "n = the_number_of_file // 1000\n",
    "print(\"The number of list element:\", n)\n",
    "train_file_nested_list_01 = list(divide_source_file_list(train_file_name_01, n))\n",
    "train_file_nested_list_02 = list(divide_source_file_list(train_file_name_02, n))\n",
    "train_file_nested_list_03 = list(divide_source_file_list(train_file_name_03, n))\n",
    "train_file_nested_list_04 = list(divide_source_file_list(train_file_name_04, n))\n",
    "train_file_nested_list_05 = list(divide_source_file_list(train_file_name_05, n))\n",
    "train_file_nested_list_06 = list(divide_source_file_list(train_file_name_06, n))\n",
    "train_file_nested_list_07 = list(divide_source_file_list(train_file_name_07, n))\n",
    "train_file_nested_list_08 = list(divide_source_file_list(train_file_name_08, n))\n",
    "train_file_nested_list_09 = list(divide_source_file_list(train_file_name_09, n))\n",
    "train_file_nested_list_10 = list(divide_source_file_list(train_file_name_10, n))\n",
    "valid_file_nested_list_01 = list(divide_source_file_list(valid_file_name_01, n))\n",
    "valid_file_nested_list_02 = list(divide_source_file_list(valid_file_name_02, n))\n",
    "valid_file_nested_list_03 = list(divide_source_file_list(valid_file_name_03, n))\n",
    "valid_file_nested_list_04 = list(divide_source_file_list(valid_file_name_04, n))\n",
    "valid_file_nested_list_05 = list(divide_source_file_list(valid_file_name_05, n))\n",
    "valid_file_nested_list_06 = list(divide_source_file_list(valid_file_name_06, n))\n",
    "valid_file_nested_list_07 = list(divide_source_file_list(valid_file_name_07, n))\n",
    "valid_file_nested_list_08 = list(divide_source_file_list(valid_file_name_08, n))\n",
    "valid_file_nested_list_09 = list(divide_source_file_list(valid_file_name_09, n))\n",
    "valid_file_nested_list_10 = list(divide_source_file_list(valid_file_name_10, n))"
   ]
  },
  {
   "cell_type": "code",
   "execution_count": 35,
   "metadata": {},
   "outputs": [
    {
     "name": "stdout",
     "output_type": "stream",
     "text": [
      "The number of txt file: 7868\n"
     ]
    }
   ],
   "source": [
    "train_text_file_name_list_01 = train_valid_txt_file_name_list(train_file_nested_list_01,\n",
    "                                                               \"demo/summary_and_report_generation_data/AIHUB_summary_and_report_generation_data_train_01.news_r_\")\n",
    "train_text_file_name_list_02 = train_valid_txt_file_name_list(train_file_nested_list_02,\n",
    "                                                               \"demo/summary_and_report_generation_data/AIHUB_summary_and_report_generation_data_train_02.briefing_\")\n",
    "train_text_file_name_list_03 = train_valid_txt_file_name_list(train_file_nested_list_03,\n",
    "                                                               \"demo/summary_and_report_generation_data/AIHUB_summary_and_report_generation_data_train_03.his_cul_\")\n",
    "train_text_file_name_list_04 = train_valid_txt_file_name_list(train_file_nested_list_04,\n",
    "                                                               \"demo/summary_and_report_generation_data/AIHUB_summary_and_report_generation_data_train_04.paper_\")\n",
    "train_text_file_name_list_05 = train_valid_txt_file_name_list(train_file_nested_list_05,\n",
    "                                                               \"demo/summary_and_report_generation_data/AIHUB_summary_and_report_generation_data_train_05.minute_\")\n",
    "train_text_file_name_list_06 = train_valid_txt_file_name_list(train_file_nested_list_06,\n",
    "                                                               \"demo/summary_and_report_generation_data/AIHUB_summary_and_report_generation_data_train_06.edit_\")\n",
    "train_text_file_name_list_07 = train_valid_txt_file_name_list(train_file_nested_list_07,\n",
    "                                                               \"demo/summary_and_report_generation_data/AIHUB_summary_and_report_generation_data_train_07.public_\")\n",
    "train_text_file_name_list_08 = train_valid_txt_file_name_list(train_file_nested_list_08,\n",
    "                                                               \"demo/summary_and_report_generation_data/AIHUB_summary_and_report_generation_data_train_08.speech_\")\n",
    "train_text_file_name_list_09 = train_valid_txt_file_name_list(train_file_nested_list_09,\n",
    "                                                               \"demo/summary_and_report_generation_data/AIHUB_summary_and_report_generation_data_train_09.literature_\")\n",
    "train_text_file_name_list_10 = train_valid_txt_file_name_list(train_file_nested_list_10,\n",
    "                                                               \"demo/summary_and_report_generation_data/AIHUB_summary_and_report_generation_data_train_10.narration_\")\n",
    "valid_text_file_name_list_01 = train_valid_txt_file_name_list(valid_file_nested_list_01,\n",
    "                                                               \"demo/summary_and_report_generation_data/AIHUB_summary_and_report_generation_data_valid_01.news_r_\")\n",
    "valid_text_file_name_list_02 = train_valid_txt_file_name_list(valid_file_nested_list_02,\n",
    "                                                               \"demo/summary_and_report_generation_data/AIHUB_summary_and_report_generation_data_valid_02.briefing_\")\n",
    "valid_text_file_name_list_03 = train_valid_txt_file_name_list(valid_file_nested_list_03,\n",
    "                                                               \"demo/summary_and_report_generation_data/AIHUB_summary_and_report_generation_data_valid_03.his_cul_\")\n",
    "valid_text_file_name_list_04 = train_valid_txt_file_name_list(valid_file_nested_list_04,\n",
    "                                                               \"demo/summary_and_report_generation_data/AIHUB_summary_and_report_generation_data_valid_04.paper_\")\n",
    "valid_text_file_name_list_05 = train_valid_txt_file_name_list(valid_file_nested_list_05,\n",
    "                                                               \"demo/summary_and_report_generation_data/AIHUB_summary_and_report_generation_data_valid_05.minute_\")\n",
    "valid_text_file_name_list_06 = train_valid_txt_file_name_list(valid_file_nested_list_06,\n",
    "                                                               \"demo/summary_and_report_generation_data/AIHUB_summary_and_report_generation_data_valid_06.edit_\")\n",
    "valid_text_file_name_list_07 = train_valid_txt_file_name_list(valid_file_nested_list_07,\n",
    "                                                               \"demo/summary_and_report_generation_data/AIHUB_summary_and_report_generation_data_valid_07.public_\")\n",
    "valid_text_file_name_list_08 = train_valid_txt_file_name_list(valid_file_nested_list_08,\n",
    "                                                               \"demo/summary_and_report_generation_data/AIHUB_summary_and_report_generation_data_valid_08.speech_\")\n",
    "valid_text_file_name_list_09 = train_valid_txt_file_name_list(valid_file_nested_list_09,\n",
    "                                                               \"demo/summary_and_report_generation_data/AIHUB_summary_and_report_generation_data_valid_09.literature_\")\n",
    "valid_text_file_name_list_10 = train_valid_txt_file_name_list(valid_file_nested_list_10,\n",
    "                                                               \"demo/summary_and_report_generation_data/AIHUB_summary_and_report_generation_data_valid_10.narration_\")\n",
    "\n",
    "the_numer_of_txt_file = len(train_text_file_name_list_01) + len(train_text_file_name_list_02) + \\\n",
    "    len(train_text_file_name_list_03) + len(train_text_file_name_list_04) + \\\n",
    "    len(train_text_file_name_list_05) + len(train_text_file_name_list_06) + \\\n",
    "    len(train_text_file_name_list_07) + len(train_text_file_name_list_08) + \\\n",
    "    len(train_text_file_name_list_09) + len(train_text_file_name_list_10) +  \\\n",
    "    len(valid_text_file_name_list_01) + len(valid_text_file_name_list_02) + \\\n",
    "    len(valid_text_file_name_list_03) + len(valid_text_file_name_list_04) + \\\n",
    "    len(valid_text_file_name_list_05) + len(valid_text_file_name_list_06) + \\\n",
    "    len(valid_text_file_name_list_07) + len(valid_text_file_name_list_08) + \\\n",
    "    len(valid_text_file_name_list_09) + len(valid_text_file_name_list_10)\n",
    "print(\"The number of txt file:\", the_numer_of_txt_file )"
   ]
  },
  {
   "cell_type": "code",
   "execution_count": 36,
   "metadata": {},
   "outputs": [],
   "source": [
    "def make_corpus_txt(source_file_nested_list, text_file_name_list):\n",
    "\n",
    "  print(\"[Size]\")\n",
    "  print(\"The numnber of preprocessing corpus: \" + str(len(source_file_nested_list)))\n",
    "  print(\"\\n[Order]\")\n",
    "  num = 0\n",
    "  for source_file_list, txt_file_name in zip(source_file_nested_list, text_file_name_list):\n",
    "    sentence_list = []\n",
    "\n",
    "    num += 1\n",
    "    print(str(num), end=\" \")\n",
    "    \n",
    "    for i in range(len(source_file_list)):\n",
    "\n",
    "      if type(source_file_list) == str:\n",
    "        source_file = source_file_list\n",
    "\n",
    "      elif type(source_file_list) != str:\n",
    "        source_file = source_file_list[i]\n",
    "\n",
    "      with open(source_file, 'r', encoding='utf-8') as one_json_file:\n",
    "        one_json_sample = json.load(one_json_file)\n",
    "\n",
    "      source = one_json_sample['Meta(Refine)']['passage']\n",
    "      sentences = formal_preprocessing_text(source)\n",
    "      for sentence in sentences:\n",
    "        sentence_list.append(sentence)   \n",
    "          \n",
    "    with open(os.path.join('AIHUB_corpus/', txt_file_name), \"a\", encoding='utf-8') as fp:        \n",
    "        fp.write(\"\\n\".join(sentence_list))        "
   ]
  },
  {
   "cell_type": "code",
   "execution_count": null,
   "metadata": {},
   "outputs": [],
   "source": [
    "make_corpus_txt(train_file_nested_list_01, train_text_file_name_list_01)"
   ]
  },
  {
   "cell_type": "code",
   "execution_count": null,
   "metadata": {},
   "outputs": [],
   "source": [
    "make_corpus_txt(train_file_nested_list_02, train_text_file_name_list_02)"
   ]
  },
  {
   "cell_type": "code",
   "execution_count": null,
   "metadata": {},
   "outputs": [],
   "source": [
    "make_corpus_txt(train_file_nested_list_03, train_text_file_name_list_03)"
   ]
  },
  {
   "cell_type": "code",
   "execution_count": null,
   "metadata": {},
   "outputs": [],
   "source": [
    "make_corpus_txt(train_file_nested_list_04, train_text_file_name_list_04)"
   ]
  },
  {
   "cell_type": "code",
   "execution_count": null,
   "metadata": {},
   "outputs": [],
   "source": [
    "make_corpus_txt(train_file_nested_list_05, train_text_file_name_list_05)"
   ]
  },
  {
   "cell_type": "code",
   "execution_count": null,
   "metadata": {},
   "outputs": [],
   "source": [
    "make_corpus_txt(train_file_nested_list_06, train_text_file_name_list_06)"
   ]
  },
  {
   "cell_type": "code",
   "execution_count": null,
   "metadata": {},
   "outputs": [],
   "source": [
    "make_corpus_txt(train_file_nested_list_07, train_text_file_name_list_07)"
   ]
  },
  {
   "cell_type": "code",
   "execution_count": null,
   "metadata": {},
   "outputs": [],
   "source": [
    "make_corpus_txt(train_file_nested_list_08, train_text_file_name_list_08)"
   ]
  },
  {
   "cell_type": "code",
   "execution_count": null,
   "metadata": {},
   "outputs": [],
   "source": [
    "make_corpus_txt(train_file_nested_list_09, train_text_file_name_list_09)"
   ]
  },
  {
   "cell_type": "code",
   "execution_count": null,
   "metadata": {},
   "outputs": [],
   "source": [
    "make_corpus_txt(train_file_nested_list_10, train_text_file_name_list_10)"
   ]
  },
  {
   "cell_type": "code",
   "execution_count": null,
   "metadata": {},
   "outputs": [],
   "source": [
    "make_corpus_txt(valid_file_nested_list_01, valid_text_file_name_list_01)"
   ]
  },
  {
   "cell_type": "code",
   "execution_count": null,
   "metadata": {},
   "outputs": [],
   "source": [
    "make_corpus_txt(valid_file_nested_list_02, valid_text_file_name_list_02)"
   ]
  },
  {
   "cell_type": "code",
   "execution_count": null,
   "metadata": {},
   "outputs": [],
   "source": [
    "make_corpus_txt(valid_file_nested_list_03, valid_text_file_name_list_03)"
   ]
  },
  {
   "cell_type": "code",
   "execution_count": null,
   "metadata": {},
   "outputs": [],
   "source": [
    "make_corpus_txt(valid_file_nested_list_04, valid_text_file_name_list_04)"
   ]
  },
  {
   "cell_type": "code",
   "execution_count": null,
   "metadata": {},
   "outputs": [],
   "source": [
    "make_corpus_txt(valid_file_nested_list_05, valid_text_file_name_list_05)"
   ]
  },
  {
   "cell_type": "code",
   "execution_count": null,
   "metadata": {},
   "outputs": [],
   "source": [
    "make_corpus_txt(valid_file_nested_list_06, valid_text_file_name_list_06)"
   ]
  },
  {
   "cell_type": "code",
   "execution_count": null,
   "metadata": {},
   "outputs": [],
   "source": [
    "make_corpus_txt(valid_file_nested_list_07, valid_text_file_name_list_07)"
   ]
  },
  {
   "cell_type": "code",
   "execution_count": null,
   "metadata": {},
   "outputs": [],
   "source": [
    "make_corpus_txt(valid_file_nested_list_08, valid_text_file_name_list_08)"
   ]
  },
  {
   "cell_type": "code",
   "execution_count": null,
   "metadata": {},
   "outputs": [],
   "source": [
    "make_corpus_txt(valid_file_nested_list_09, valid_text_file_name_list_09)"
   ]
  },
  {
   "cell_type": "code",
   "execution_count": null,
   "metadata": {},
   "outputs": [],
   "source": [
    "make_corpus_txt(valid_file_nested_list_10, valid_text_file_name_list_10)"
   ]
  },
  {
   "cell_type": "code",
   "execution_count": null,
   "metadata": {},
   "outputs": [],
   "source": [
    "corpus_list = glob(\"AIHUB_corpus/demo/summary_and_report_generation_data/AIHUB_summary_and_report_generation_data_train_\" +\"*.txt\")\n",
    "corpus_list += glob(\"AIHUB_corpus/demo/summary_and_report_generation_data/AIHUB_summary_and_report_generation_data_valid_\" +\"*.txt\")"
   ]
  },
  {
   "cell_type": "code",
   "execution_count": null,
   "metadata": {},
   "outputs": [],
   "source": [
    "with open('AIHUB_corpus/demo/AIHUB_summary_and_report_generation_data.txt', 'w') as f:\n",
    "    for corpus in corpus_list:\n",
    "        with open(corpus) as text:\n",
    "            for line in text:\n",
    "                f.write(line)"
   ]
  }
 ],
 "metadata": {
  "kernelspec": {
   "display_name": "corpus_00",
   "language": "python",
   "name": "python3"
  },
  "language_info": {
   "codemirror_mode": {
    "name": "ipython",
    "version": 3
   },
   "file_extension": ".py",
   "mimetype": "text/x-python",
   "name": "python",
   "nbconvert_exporter": "python",
   "pygments_lexer": "ipython3",
   "version": "3.11.3"
  },
  "orig_nbformat": 4
 },
 "nbformat": 4,
 "nbformat_minor": 2
}
