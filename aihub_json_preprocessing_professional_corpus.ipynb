{
 "cells": [
  {
   "attachments": {},
   "cell_type": "markdown",
   "metadata": {},
   "source": [
    "## AIHub Json Preprocessing"
   ]
  },
  {
   "attachments": {},
   "cell_type": "markdown",
   "metadata": {},
   "source": [
    "### Development Environment"
   ]
  },
  {
   "cell_type": "code",
   "execution_count": null,
   "metadata": {},
   "outputs": [],
   "source": [
    "%pip install kss==3.7.3"
   ]
  },
  {
   "attachments": {},
   "cell_type": "markdown",
   "metadata": {},
   "source": [
    "KSS Argument Error: Restart Jupyter Kernel Runtime"
   ]
  },
  {
   "cell_type": "code",
   "execution_count": null,
   "metadata": {},
   "outputs": [],
   "source": [
    "%pip install python-mecab-ko"
   ]
  },
  {
   "attachments": {},
   "cell_type": "markdown",
   "metadata": {},
   "source": [
    "KSS 3.7.3 matches python-mecab-ko"
   ]
  },
  {
   "cell_type": "code",
   "execution_count": null,
   "metadata": {},
   "outputs": [],
   "source": [
    "%pip install pandas"
   ]
  },
  {
   "cell_type": "code",
   "execution_count": null,
   "metadata": {},
   "outputs": [],
   "source": [
    "%pip install ray"
   ]
  },
  {
   "cell_type": "code",
   "execution_count": 1,
   "metadata": {},
   "outputs": [],
   "source": [
    "import re\n",
    "import os\n",
    "import kss\n",
    "import ray\n",
    "import json\n",
    "import time\n",
    "from time import sleep\n",
    "from tqdm import tqdm\n",
    "from mecab import MeCab\n",
    "import pandas as pd\n",
    "from glob import glob\n",
    "from itertools import chain"
   ]
  },
  {
   "cell_type": "code",
   "execution_count": 19,
   "metadata": {},
   "outputs": [
    {
     "data": {
      "text/plain": [
       "'D:\\\\AIHUB'"
      ]
     },
     "execution_count": 19,
     "metadata": {},
     "output_type": "execute_result"
    }
   ],
   "source": [
    "pwd"
   ]
  },
  {
   "attachments": {},
   "cell_type": "markdown",
   "metadata": {},
   "source": [
    "### AIHUB 전문분야 말뭉치"
   ]
  },
  {
   "attachments": {},
   "cell_type": "markdown",
   "metadata": {},
   "source": [
    "[Source](https://www.aihub.or.kr/aihubdata/data/view.do?currMenu=115&topMenu=100&aihubDataSe=realm&dataSetSn=110)"
   ]
  },
  {
   "attachments": {},
   "cell_type": "markdown",
   "metadata": {},
   "source": [
    "#### Write Json Text to TXT File"
   ]
  },
  {
   "cell_type": "code",
   "execution_count": null,
   "metadata": {},
   "outputs": [],
   "source": [
    "from data_preprocessing import make_train_valid_json_txt_file_path_list\n",
    "from data_preprocessing import count_number_of_txt_file_with_batch_list\n",
    "from data_preprocessing import write_jsontext_to_txt_file_with_batch_list"
   ]
  },
  {
   "cell_type": "code",
   "execution_count": 15,
   "metadata": {},
   "outputs": [],
   "source": [
    "json_path_list = ['AIHUB_전문분야 말뭉치/Training/'+ '/**/*.json', \n",
    "                  'AIHUB_전문분야 말뭉치/Validation/'+ '/**/*.json']\n",
    "txt_path_list = [\"exploration/professional_corpus_pro/AIHUB_professional_corpus_train_\", \n",
    "                 \"exploration/professional_corpus_pro/AIHUB_professional_corpus_valid_\"]\n",
    "corpus_name = \"professional_corpus\""
   ]
  },
  {
   "cell_type": "code",
   "execution_count": 16,
   "metadata": {},
   "outputs": [
    {
     "name": "stdout",
     "output_type": "stream",
     "text": [
      "The number of file: 39\n"
     ]
    }
   ],
   "source": [
    "train_json_file_list, valid_json_file_list, train_txt_file_path_list, valid_txt_file_path_list = \\\n",
    "    make_train_valid_json_txt_file_path_list(json_path_list, txt_path_list, corpus_name)"
   ]
  },
  {
   "cell_type": "code",
   "execution_count": 22,
   "metadata": {
    "scrolled": true
   },
   "outputs": [
    {
     "name": "stdout",
     "output_type": "stream",
     "text": [
      "Batch Size: 1000\n",
      "The number of txt file: 809\n"
     ]
    }
   ],
   "source": [
    "batch_size = 1000\n",
    "corpus_name = 'professional_corpus'\n",
    "the_number_of_train_txt_file, the_number_of_train_txt_file_list = count_number_of_txt_file_with_batch_list(train_json_file_list, batch_size, corpus_name)"
   ]
  },
  {
   "cell_type": "code",
   "execution_count": 23,
   "metadata": {},
   "outputs": [
    {
     "data": {
      "text/html": [
       "<div>\n",
       "<style scoped>\n",
       "    .dataframe tbody tr th:only-of-type {\n",
       "        vertical-align: middle;\n",
       "    }\n",
       "\n",
       "    .dataframe tbody tr th {\n",
       "        vertical-align: top;\n",
       "    }\n",
       "\n",
       "    .dataframe thead th {\n",
       "        text-align: right;\n",
       "    }\n",
       "</style>\n",
       "<table border=\"1\" class=\"dataframe\">\n",
       "  <thead>\n",
       "    <tr style=\"text-align: right;\">\n",
       "      <th></th>\n",
       "      <th>Unnamed: 0</th>\n",
       "      <th>File</th>\n",
       "      <th>Length of Source List</th>\n",
       "      <th>The Number of txt File</th>\n",
       "      <th>Description</th>\n",
       "    </tr>\n",
       "  </thead>\n",
       "  <tbody>\n",
       "    <tr>\n",
       "      <th>0</th>\n",
       "      <td>0</td>\n",
       "      <td>AIHUB_전문분야 말뭉치/Training\\[원천]전문분야_train\\특허_01.j...</td>\n",
       "      <td>5104</td>\n",
       "      <td>6</td>\n",
       "      <td>NaN</td>\n",
       "    </tr>\n",
       "    <tr>\n",
       "      <th>1</th>\n",
       "      <td>1</td>\n",
       "      <td>AIHUB_전문분야 말뭉치/Training\\[원천]전문분야_train\\특허_02.j...</td>\n",
       "      <td>5524</td>\n",
       "      <td>6</td>\n",
       "      <td>NaN</td>\n",
       "    </tr>\n",
       "    <tr>\n",
       "      <th>2</th>\n",
       "      <td>2</td>\n",
       "      <td>AIHUB_전문분야 말뭉치/Training\\[원천]전문분야_train\\특허_03.j...</td>\n",
       "      <td>4860</td>\n",
       "      <td>5</td>\n",
       "      <td>NaN</td>\n",
       "    </tr>\n",
       "    <tr>\n",
       "      <th>3</th>\n",
       "      <td>3</td>\n",
       "      <td>AIHUB_전문분야 말뭉치/Training\\[원천]전문분야_train\\특허_04.j...</td>\n",
       "      <td>5497</td>\n",
       "      <td>6</td>\n",
       "      <td>NaN</td>\n",
       "    </tr>\n",
       "    <tr>\n",
       "      <th>4</th>\n",
       "      <td>4</td>\n",
       "      <td>AIHUB_전문분야 말뭉치/Training\\[원천]전문분야_train\\특허_05.j...</td>\n",
       "      <td>5153</td>\n",
       "      <td>6</td>\n",
       "      <td>NaN</td>\n",
       "    </tr>\n",
       "    <tr>\n",
       "      <th>5</th>\n",
       "      <td>5</td>\n",
       "      <td>AIHUB_전문분야 말뭉치/Training\\[원천]전문분야_train\\특허_06.j...</td>\n",
       "      <td>4829</td>\n",
       "      <td>5</td>\n",
       "      <td>NaN</td>\n",
       "    </tr>\n",
       "    <tr>\n",
       "      <th>6</th>\n",
       "      <td>6</td>\n",
       "      <td>AIHUB_전문분야 말뭉치/Training\\[원천]전문분야_train\\특허_07.j...</td>\n",
       "      <td>4562</td>\n",
       "      <td>5</td>\n",
       "      <td>NaN</td>\n",
       "    </tr>\n",
       "    <tr>\n",
       "      <th>7</th>\n",
       "      <td>7</td>\n",
       "      <td>AIHUB_전문분야 말뭉치/Training\\[원천]전문분야_train\\특허_08.j...</td>\n",
       "      <td>5193</td>\n",
       "      <td>6</td>\n",
       "      <td>NaN</td>\n",
       "    </tr>\n",
       "    <tr>\n",
       "      <th>8</th>\n",
       "      <td>8</td>\n",
       "      <td>AIHUB_전문분야 말뭉치/Training\\[원천]전문분야_train\\특허_09.j...</td>\n",
       "      <td>5580</td>\n",
       "      <td>6</td>\n",
       "      <td>NaN</td>\n",
       "    </tr>\n",
       "    <tr>\n",
       "      <th>9</th>\n",
       "      <td>9</td>\n",
       "      <td>AIHUB_전문분야 말뭉치/Training\\[원천]전문분야_train\\특허_10.j...</td>\n",
       "      <td>5033</td>\n",
       "      <td>6</td>\n",
       "      <td>NaN</td>\n",
       "    </tr>\n",
       "    <tr>\n",
       "      <th>10</th>\n",
       "      <td>10</td>\n",
       "      <td>AIHUB_전문분야 말뭉치/Training\\[원천]전문분야_train\\특허_11.j...</td>\n",
       "      <td>5048</td>\n",
       "      <td>6</td>\n",
       "      <td>NaN</td>\n",
       "    </tr>\n",
       "    <tr>\n",
       "      <th>11</th>\n",
       "      <td>11</td>\n",
       "      <td>AIHUB_전문분야 말뭉치/Training\\[원천]전문분야_train\\특허_12.j...</td>\n",
       "      <td>4865</td>\n",
       "      <td>5</td>\n",
       "      <td>NaN</td>\n",
       "    </tr>\n",
       "    <tr>\n",
       "      <th>12</th>\n",
       "      <td>12</td>\n",
       "      <td>AIHUB_전문분야 말뭉치/Training\\[원천]전문분야_train\\특허_13.j...</td>\n",
       "      <td>4745</td>\n",
       "      <td>5</td>\n",
       "      <td>NaN</td>\n",
       "    </tr>\n",
       "    <tr>\n",
       "      <th>13</th>\n",
       "      <td>13</td>\n",
       "      <td>AIHUB_전문분야 말뭉치/Training\\[원천]전문분야_train\\특허_14.j...</td>\n",
       "      <td>5011</td>\n",
       "      <td>6</td>\n",
       "      <td>NaN</td>\n",
       "    </tr>\n",
       "    <tr>\n",
       "      <th>14</th>\n",
       "      <td>14</td>\n",
       "      <td>AIHUB_전문분야 말뭉치/Training\\[원천]전문분야_train\\특허_15.j...</td>\n",
       "      <td>4087</td>\n",
       "      <td>5</td>\n",
       "      <td>NaN</td>\n",
       "    </tr>\n",
       "    <tr>\n",
       "      <th>15</th>\n",
       "      <td>15</td>\n",
       "      <td>AIHUB_전문분야 말뭉치/Training\\[원천]전문분야_train\\특허_16.j...</td>\n",
       "      <td>4617</td>\n",
       "      <td>5</td>\n",
       "      <td>NaN</td>\n",
       "    </tr>\n",
       "    <tr>\n",
       "      <th>16</th>\n",
       "      <td>16</td>\n",
       "      <td>AIHUB_전문분야 말뭉치/Training\\[원천]전문분야_train\\논문_1_0....</td>\n",
       "      <td>50000</td>\n",
       "      <td>51</td>\n",
       "      <td>NaN</td>\n",
       "    </tr>\n",
       "    <tr>\n",
       "      <th>17</th>\n",
       "      <td>17</td>\n",
       "      <td>AIHUB_전문분야 말뭉치/Training\\[원천]전문분야_train\\논문_1_1....</td>\n",
       "      <td>50354</td>\n",
       "      <td>51</td>\n",
       "      <td>NaN</td>\n",
       "    </tr>\n",
       "    <tr>\n",
       "      <th>18</th>\n",
       "      <td>18</td>\n",
       "      <td>AIHUB_전문분야 말뭉치/Training\\[원천]전문분야_train\\특허_z_1....</td>\n",
       "      <td>11009</td>\n",
       "      <td>12</td>\n",
       "      <td>NaN</td>\n",
       "    </tr>\n",
       "    <tr>\n",
       "      <th>19</th>\n",
       "      <td>19</td>\n",
       "      <td>AIHUB_전문분야 말뭉치/Training\\[원천]전문분야_train\\특허_z_2....</td>\n",
       "      <td>9680</td>\n",
       "      <td>10</td>\n",
       "      <td>NaN</td>\n",
       "    </tr>\n",
       "    <tr>\n",
       "      <th>20</th>\n",
       "      <td>20</td>\n",
       "      <td>AIHUB_전문분야 말뭉치/Training\\[원천]전문분야_train\\특허_z_3....</td>\n",
       "      <td>8874</td>\n",
       "      <td>9</td>\n",
       "      <td>NaN</td>\n",
       "    </tr>\n",
       "    <tr>\n",
       "      <th>21</th>\n",
       "      <td>21</td>\n",
       "      <td>AIHUB_전문분야 말뭉치/Training\\[원천]전문분야_train\\특허_z_4....</td>\n",
       "      <td>2353</td>\n",
       "      <td>3</td>\n",
       "      <td>NaN</td>\n",
       "    </tr>\n",
       "    <tr>\n",
       "      <th>22</th>\n",
       "      <td>22</td>\n",
       "      <td>AIHUB_전문분야 말뭉치/Training\\[원천]전문분야_train\\판례_case...</td>\n",
       "      <td>72857</td>\n",
       "      <td>73</td>\n",
       "      <td>NaN</td>\n",
       "    </tr>\n",
       "    <tr>\n",
       "      <th>23</th>\n",
       "      <td>23</td>\n",
       "      <td>AIHUB_전문분야 말뭉치/Training\\[원천]전문분야_train\\판례_case...</td>\n",
       "      <td>71311</td>\n",
       "      <td>72</td>\n",
       "      <td>NaN</td>\n",
       "    </tr>\n",
       "    <tr>\n",
       "      <th>24</th>\n",
       "      <td>24</td>\n",
       "      <td>AIHUB_전문분야 말뭉치/Training\\[원천]전문분야_train\\판례_case...</td>\n",
       "      <td>70948</td>\n",
       "      <td>71</td>\n",
       "      <td>NaN</td>\n",
       "    </tr>\n",
       "    <tr>\n",
       "      <th>25</th>\n",
       "      <td>25</td>\n",
       "      <td>AIHUB_전문분야 말뭉치/Training\\[원천]전문분야_train\\판례_case...</td>\n",
       "      <td>60475</td>\n",
       "      <td>61</td>\n",
       "      <td>NaN</td>\n",
       "    </tr>\n",
       "    <tr>\n",
       "      <th>26</th>\n",
       "      <td>26</td>\n",
       "      <td>AIHUB_전문분야 말뭉치/Training\\[원천]전문분야_train\\판례_case...</td>\n",
       "      <td>60389</td>\n",
       "      <td>61</td>\n",
       "      <td>NaN</td>\n",
       "    </tr>\n",
       "    <tr>\n",
       "      <th>27</th>\n",
       "      <td>27</td>\n",
       "      <td>AIHUB_전문분야 말뭉치/Training\\[원천]전문분야_train\\판례_case...</td>\n",
       "      <td>76293</td>\n",
       "      <td>77</td>\n",
       "      <td>NaN</td>\n",
       "    </tr>\n",
       "    <tr>\n",
       "      <th>28</th>\n",
       "      <td>28</td>\n",
       "      <td>AIHUB_전문분야 말뭉치/Training\\[원천]전문분야_train\\법령_l_10...</td>\n",
       "      <td>31960</td>\n",
       "      <td>32</td>\n",
       "      <td>NaN</td>\n",
       "    </tr>\n",
       "    <tr>\n",
       "      <th>29</th>\n",
       "      <td>29</td>\n",
       "      <td>AIHUB_전문분야 말뭉치/Training\\[원천]전문분야_train\\법령_l_10...</td>\n",
       "      <td>26802</td>\n",
       "      <td>27</td>\n",
       "      <td>NaN</td>\n",
       "    </tr>\n",
       "    <tr>\n",
       "      <th>30</th>\n",
       "      <td>30</td>\n",
       "      <td>AIHUB_전문분야 말뭉치/Training\\[원천]전문분야_train\\법령_l_13...</td>\n",
       "      <td>26267</td>\n",
       "      <td>27</td>\n",
       "      <td>NaN</td>\n",
       "    </tr>\n",
       "    <tr>\n",
       "      <th>31</th>\n",
       "      <td>31</td>\n",
       "      <td>AIHUB_전문분야 말뭉치/Training\\[원천]전문분야_train\\법령_l_21...</td>\n",
       "      <td>25153</td>\n",
       "      <td>26</td>\n",
       "      <td>NaN</td>\n",
       "    </tr>\n",
       "    <tr>\n",
       "      <th>32</th>\n",
       "      <td>32</td>\n",
       "      <td>AIHUB_전문분야 말뭉치/Training\\[원천]전문분야_train\\법령_l_30...</td>\n",
       "      <td>28534</td>\n",
       "      <td>29</td>\n",
       "      <td>NaN</td>\n",
       "    </tr>\n",
       "    <tr>\n",
       "      <th>33</th>\n",
       "      <td>33</td>\n",
       "      <td>AIHUB_전문분야 말뭉치/Training\\[원천]전문분야_train\\법령_l_40...</td>\n",
       "      <td>27751</td>\n",
       "      <td>28</td>\n",
       "      <td>NaN</td>\n",
       "    </tr>\n",
       "  </tbody>\n",
       "</table>\n",
       "</div>"
      ],
      "text/plain": [
       "    Unnamed: 0                                               File  \\\n",
       "0            0  AIHUB_전문분야 말뭉치/Training\\[원천]전문분야_train\\특허_01.j...   \n",
       "1            1  AIHUB_전문분야 말뭉치/Training\\[원천]전문분야_train\\특허_02.j...   \n",
       "2            2  AIHUB_전문분야 말뭉치/Training\\[원천]전문분야_train\\특허_03.j...   \n",
       "3            3  AIHUB_전문분야 말뭉치/Training\\[원천]전문분야_train\\특허_04.j...   \n",
       "4            4  AIHUB_전문분야 말뭉치/Training\\[원천]전문분야_train\\특허_05.j...   \n",
       "5            5  AIHUB_전문분야 말뭉치/Training\\[원천]전문분야_train\\특허_06.j...   \n",
       "6            6  AIHUB_전문분야 말뭉치/Training\\[원천]전문분야_train\\특허_07.j...   \n",
       "7            7  AIHUB_전문분야 말뭉치/Training\\[원천]전문분야_train\\특허_08.j...   \n",
       "8            8  AIHUB_전문분야 말뭉치/Training\\[원천]전문분야_train\\특허_09.j...   \n",
       "9            9  AIHUB_전문분야 말뭉치/Training\\[원천]전문분야_train\\특허_10.j...   \n",
       "10          10  AIHUB_전문분야 말뭉치/Training\\[원천]전문분야_train\\특허_11.j...   \n",
       "11          11  AIHUB_전문분야 말뭉치/Training\\[원천]전문분야_train\\특허_12.j...   \n",
       "12          12  AIHUB_전문분야 말뭉치/Training\\[원천]전문분야_train\\특허_13.j...   \n",
       "13          13  AIHUB_전문분야 말뭉치/Training\\[원천]전문분야_train\\특허_14.j...   \n",
       "14          14  AIHUB_전문분야 말뭉치/Training\\[원천]전문분야_train\\특허_15.j...   \n",
       "15          15  AIHUB_전문분야 말뭉치/Training\\[원천]전문분야_train\\특허_16.j...   \n",
       "16          16  AIHUB_전문분야 말뭉치/Training\\[원천]전문분야_train\\논문_1_0....   \n",
       "17          17  AIHUB_전문분야 말뭉치/Training\\[원천]전문분야_train\\논문_1_1....   \n",
       "18          18  AIHUB_전문분야 말뭉치/Training\\[원천]전문분야_train\\특허_z_1....   \n",
       "19          19  AIHUB_전문분야 말뭉치/Training\\[원천]전문분야_train\\특허_z_2....   \n",
       "20          20  AIHUB_전문분야 말뭉치/Training\\[원천]전문분야_train\\특허_z_3....   \n",
       "21          21  AIHUB_전문분야 말뭉치/Training\\[원천]전문분야_train\\특허_z_4....   \n",
       "22          22  AIHUB_전문분야 말뭉치/Training\\[원천]전문분야_train\\판례_case...   \n",
       "23          23  AIHUB_전문분야 말뭉치/Training\\[원천]전문분야_train\\판례_case...   \n",
       "24          24  AIHUB_전문분야 말뭉치/Training\\[원천]전문분야_train\\판례_case...   \n",
       "25          25  AIHUB_전문분야 말뭉치/Training\\[원천]전문분야_train\\판례_case...   \n",
       "26          26  AIHUB_전문분야 말뭉치/Training\\[원천]전문분야_train\\판례_case...   \n",
       "27          27  AIHUB_전문분야 말뭉치/Training\\[원천]전문분야_train\\판례_case...   \n",
       "28          28  AIHUB_전문분야 말뭉치/Training\\[원천]전문분야_train\\법령_l_10...   \n",
       "29          29  AIHUB_전문분야 말뭉치/Training\\[원천]전문분야_train\\법령_l_10...   \n",
       "30          30  AIHUB_전문분야 말뭉치/Training\\[원천]전문분야_train\\법령_l_13...   \n",
       "31          31  AIHUB_전문분야 말뭉치/Training\\[원천]전문분야_train\\법령_l_21...   \n",
       "32          32  AIHUB_전문분야 말뭉치/Training\\[원천]전문분야_train\\법령_l_30...   \n",
       "33          33  AIHUB_전문분야 말뭉치/Training\\[원천]전문분야_train\\법령_l_40...   \n",
       "\n",
       "    Length of Source List  The Number of txt File  Description  \n",
       "0                    5104                       6          NaN  \n",
       "1                    5524                       6          NaN  \n",
       "2                    4860                       5          NaN  \n",
       "3                    5497                       6          NaN  \n",
       "4                    5153                       6          NaN  \n",
       "5                    4829                       5          NaN  \n",
       "6                    4562                       5          NaN  \n",
       "7                    5193                       6          NaN  \n",
       "8                    5580                       6          NaN  \n",
       "9                    5033                       6          NaN  \n",
       "10                   5048                       6          NaN  \n",
       "11                   4865                       5          NaN  \n",
       "12                   4745                       5          NaN  \n",
       "13                   5011                       6          NaN  \n",
       "14                   4087                       5          NaN  \n",
       "15                   4617                       5          NaN  \n",
       "16                  50000                      51          NaN  \n",
       "17                  50354                      51          NaN  \n",
       "18                  11009                      12          NaN  \n",
       "19                   9680                      10          NaN  \n",
       "20                   8874                       9          NaN  \n",
       "21                   2353                       3          NaN  \n",
       "22                  72857                      73          NaN  \n",
       "23                  71311                      72          NaN  \n",
       "24                  70948                      71          NaN  \n",
       "25                  60475                      61          NaN  \n",
       "26                  60389                      61          NaN  \n",
       "27                  76293                      77          NaN  \n",
       "28                  31960                      32          NaN  \n",
       "29                  26802                      27          NaN  \n",
       "30                  26267                      27          NaN  \n",
       "31                  25153                      26          NaN  \n",
       "32                  28534                      29          NaN  \n",
       "33                  27751                      28          NaN  "
      ]
     },
     "execution_count": 23,
     "metadata": {},
     "output_type": "execute_result"
    }
   ],
   "source": [
    "source_file_by_batch_train_df = pd.read_excel('source_file_by_batch/professional_corpus_train.xlsx', engine='openpyxl')  \n",
    "source_file_by_batch_train_df"
   ]
  },
  {
   "cell_type": "code",
   "execution_count": null,
   "metadata": {
    "collapsed": true
   },
   "outputs": [],
   "source": [
    "batch_size = 1000\n",
    "corpus_name = 'professional_corpus'\n",
    "write_jsontext_to_txt_file_with_batch_list(train_json_file_list, train_txt_file_path_list, batch_size, the_number_of_train_txt_file_list, corpus_name)"
   ]
  },
  {
   "cell_type": "code",
   "execution_count": 28,
   "metadata": {
    "scrolled": false
   },
   "outputs": [
    {
     "name": "stdout",
     "output_type": "stream",
     "text": [
      "Batch Size: 1000\n",
      "The number of txt file: 113\n"
     ]
    }
   ],
   "source": [
    "batch_size = 1000\n",
    "corpus_name = 'professional_corpus'\n",
    "the_number_of_valid_txt_file, the_number_of_valid_txt_file_list = count_number_of_txt_file_with_batch_list(valid_json_file_list, batch_size, corpus_name)"
   ]
  },
  {
   "cell_type": "code",
   "execution_count": 29,
   "metadata": {},
   "outputs": [
    {
     "data": {
      "text/html": [
       "<div>\n",
       "<style scoped>\n",
       "    .dataframe tbody tr th:only-of-type {\n",
       "        vertical-align: middle;\n",
       "    }\n",
       "\n",
       "    .dataframe tbody tr th {\n",
       "        vertical-align: top;\n",
       "    }\n",
       "\n",
       "    .dataframe thead th {\n",
       "        text-align: right;\n",
       "    }\n",
       "</style>\n",
       "<table border=\"1\" class=\"dataframe\">\n",
       "  <thead>\n",
       "    <tr style=\"text-align: right;\">\n",
       "      <th></th>\n",
       "      <th>Unnamed: 0</th>\n",
       "      <th>File</th>\n",
       "      <th>Length of Source List</th>\n",
       "      <th>The Number of txt File</th>\n",
       "      <th>Description</th>\n",
       "    </tr>\n",
       "  </thead>\n",
       "  <tbody>\n",
       "    <tr>\n",
       "      <th>0</th>\n",
       "      <td>0</td>\n",
       "      <td>AIHUB_전문분야 말뭉치/Validation\\[원천]전문분야_valid\\특허_19...</td>\n",
       "      <td>5131</td>\n",
       "      <td>6</td>\n",
       "      <td>NaN</td>\n",
       "    </tr>\n",
       "    <tr>\n",
       "      <th>1</th>\n",
       "      <td>2</td>\n",
       "      <td>AIHUB_전문분야 말뭉치/Validation\\[원천]전문분야_valid\\논문_1_...</td>\n",
       "      <td>12544</td>\n",
       "      <td>13</td>\n",
       "      <td>NaN</td>\n",
       "    </tr>\n",
       "    <tr>\n",
       "      <th>2</th>\n",
       "      <td>3</td>\n",
       "      <td>AIHUB_전문분야 말뭉치/Validation\\[원천]전문분야_valid\\판례_ca...</td>\n",
       "      <td>69613</td>\n",
       "      <td>70</td>\n",
       "      <td>NaN</td>\n",
       "    </tr>\n",
       "    <tr>\n",
       "      <th>3</th>\n",
       "      <td>4</td>\n",
       "      <td>AIHUB_전문분야 말뭉치/Validation\\[원천]전문분야_valid\\법령_l_...</td>\n",
       "      <td>23592</td>\n",
       "      <td>24</td>\n",
       "      <td>NaN</td>\n",
       "    </tr>\n",
       "  </tbody>\n",
       "</table>\n",
       "</div>"
      ],
      "text/plain": [
       "   Unnamed: 0                                               File  \\\n",
       "0           0  AIHUB_전문분야 말뭉치/Validation\\[원천]전문분야_valid\\특허_19...   \n",
       "1           2  AIHUB_전문분야 말뭉치/Validation\\[원천]전문분야_valid\\논문_1_...   \n",
       "2           3  AIHUB_전문분야 말뭉치/Validation\\[원천]전문분야_valid\\판례_ca...   \n",
       "3           4  AIHUB_전문분야 말뭉치/Validation\\[원천]전문분야_valid\\법령_l_...   \n",
       "\n",
       "   Length of Source List  The Number of txt File  Description  \n",
       "0                   5131                       6          NaN  \n",
       "1                  12544                      13          NaN  \n",
       "2                  69613                      70          NaN  \n",
       "3                  23592                      24          NaN  "
      ]
     },
     "execution_count": 29,
     "metadata": {},
     "output_type": "execute_result"
    }
   ],
   "source": [
    "source_file_by_batch_valid_df = pd.read_excel('source_file_by_batch/professional_corpus_valid.xlsx', engine='openpyxl')  \n",
    "source_file_by_batch_valid_df"
   ]
  },
  {
   "cell_type": "code",
   "execution_count": null,
   "metadata": {},
   "outputs": [],
   "source": [
    "batch_size = 1000\n",
    "corpus_name = 'professional_corpus'\n",
    "write_jsontext_to_txt_file_with_batch_list(valid_json_file_list, valid_txt_file_path_list, batch_size, the_number_of_valid_txt_file_list, corpus_name)"
   ]
  },
  {
   "attachments": {},
   "cell_type": "markdown",
   "metadata": {},
   "source": [
    "#### Preprocess TXT File"
   ]
  },
  {
   "cell_type": "code",
   "execution_count": null,
   "metadata": {},
   "outputs": [],
   "source": [
    "from sentence_segmentation import preprocessing_text\n",
    "from data_preprocessing import make_pro_post_txt_file_path_list\n",
    "from data_preprocessing import merge_and_deduplicate_corpus_txt\n",
    "from reading_data import reading_txt"
   ]
  },
  {
   "cell_type": "code",
   "execution_count": null,
   "metadata": {},
   "outputs": [],
   "source": [
    "pro_corpus_path = \"AIHUB_corpus/exploration/professional_corpus_pro/AIHUB_professional_corpus_\" + \"*.txt\"\n",
    "pro_post_xlsx_path = \"pro_post_corpus_path/professional_corpus.xlsx\"\n",
    "pro_total_corpus_path_list, post_total_corpus_path_list = make_pro_post_txt_file_path_list(pro_corpus_path, pro_post_xlsx_path)"
   ]
  },
  {
   "cell_type": "code",
   "execution_count": 38,
   "metadata": {},
   "outputs": [
    {
     "data": {
      "text/plain": [
       "922"
      ]
     },
     "execution_count": 38,
     "metadata": {},
     "output_type": "execute_result"
    }
   ],
   "source": [
    "len(pro_total_corpus_path_list)"
   ]
  },
  {
   "cell_type": "code",
   "execution_count": 40,
   "metadata": {},
   "outputs": [
    {
     "name": "stdout",
     "output_type": "stream",
     "text": [
      "본 발명에 따른 표시 장치는 기판, 기판 위에 형성되어 있는 제1 보조 전극, 제1 보조 전극과 위에 형성되어 있고, 제1 입력 단자, 제1 출력 단자 및 제1 제어 단자를 가지는 제1 박막 트랜지스터, 제1 박막 트랜지스터와 연결되어 있는 화소 전극을 포함하고, 제1 보조 전극은 제1 박막 트랜지스터와 중첩하고, 제1 입력 단자와 전기적으로 연결되어 있다.\n",
      "\n"
     ]
    }
   ],
   "source": [
    "pro_coprus_file = pro_total_corpus_path_list[0]\n",
    "line_length = 1\n",
    "data_type = \"source\"\n",
    "\n",
    "reading_txt(pro_coprus_file, line_length, data_type)"
   ]
  },
  {
   "cell_type": "code",
   "execution_count": 41,
   "metadata": {},
   "outputs": [
    {
     "name": "stdout",
     "output_type": "stream",
     "text": [
      "본 발명에 따른 표시 장치는 기판, 기판 위에 형성되어 있는 제1 보조 전극, 제1 보조 전극과 위에 형성되어 있고, 제1 입력 단자, 제1 출력 단자 및 제1 제어 단자를 가지는 제1 박막 트랜지스터, 제1 박막 트랜지스터와 연결되어 있는 화소 전극을 포함하고, 제1 보조 전극은 제1 박막 트랜지스터와 중첩하고, 제1 입력 단자와 전기적으로 연결되어 있다.\n",
      "\n"
     ]
    }
   ],
   "source": [
    "pro_coprus_file = pro_total_corpus_path_list[0]\n",
    "line_length = 1\n",
    "data_type = \"preprocessing\"\n",
    "\n",
    "reading_txt(pro_coprus_file, line_length, data_type)"
   ]
  },
  {
   "cell_type": "code",
   "execution_count": 52,
   "metadata": {},
   "outputs": [
    {
     "name": "stderr",
     "output_type": "stream",
     "text": [
      "2023-05-31 19:56:45,726\tINFO worker.py:1625 -- Started a local Ray instance.\n"
     ]
    }
   ],
   "source": [
    "!python -m txt_preprocessing \\\n",
    "    --num_cpus 4 \\\n",
    "    --pro_post_xlsx_path 'pro_post_corpus_path/professional_corpus.xlsx' \\\n",
    "    --start_index 0"
   ]
  },
  {
   "cell_type": "code",
   "execution_count": 51,
   "metadata": {},
   "outputs": [],
   "source": [
    "ray.shutdown()"
   ]
  },
  {
   "cell_type": "code",
   "execution_count": null,
   "metadata": {},
   "outputs": [],
   "source": [
    "preprocessing_corpus_path = \"AIHUB_corpus/exploration/professional_corpus_source_post/AIHUB_professional_corpus_source_\" +\"*.txt\"\n",
    "merge_corpus_path = 'AIHUB_corpus/duplicate/AIHUB_professional_corpus_source.txt'\n",
    "deduplicate_corpus_path = 'AIHUB_corpus/AIHUB_professional_corpus_source.txt'"
   ]
  },
  {
   "cell_type": "code",
   "execution_count": null,
   "metadata": {},
   "outputs": [],
   "source": [
    "merge_and_deduplicate_corpus_txt(preprocessing_corpus_path, merge_corpus_path, deduplicate_corpus_path)"
   ]
  }
 ],
 "metadata": {
  "kernelspec": {
   "display_name": "corpus_06",
   "language": "python",
   "name": "corpus_06"
  },
  "language_info": {
   "codemirror_mode": {
    "name": "ipython",
    "version": 3
   },
   "file_extension": ".py",
   "mimetype": "text/x-python",
   "name": "python",
   "nbconvert_exporter": "python",
   "pygments_lexer": "ipython3",
   "version": "3.9.13"
  }
 },
 "nbformat": 4,
 "nbformat_minor": 2
}
