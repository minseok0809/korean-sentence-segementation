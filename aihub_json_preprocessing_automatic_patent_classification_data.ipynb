{
 "cells": [
  {
   "attachments": {},
   "cell_type": "markdown",
   "metadata": {},
   "source": [
    "## AIHub Json Preprocessing"
   ]
  },
  {
   "attachments": {},
   "cell_type": "markdown",
   "metadata": {},
   "source": [
    "### Development Environment"
   ]
  },
  {
   "cell_type": "code",
   "execution_count": null,
   "metadata": {},
   "outputs": [],
   "source": [
    "%pip install kss==3.7.3"
   ]
  },
  {
   "attachments": {},
   "cell_type": "markdown",
   "metadata": {},
   "source": [
    "KSS Argument Error: Restart Jupyter Kernel Runtime"
   ]
  },
  {
   "cell_type": "code",
   "execution_count": null,
   "metadata": {},
   "outputs": [],
   "source": [
    "%pip install python-mecab-ko"
   ]
  },
  {
   "attachments": {},
   "cell_type": "markdown",
   "metadata": {},
   "source": [
    "KSS 3.7.3 matches python-mecab-ko"
   ]
  },
  {
   "cell_type": "code",
   "execution_count": null,
   "metadata": {},
   "outputs": [],
   "source": [
    "%pip install pandas"
   ]
  },
  {
   "cell_type": "code",
   "execution_count": null,
   "metadata": {},
   "outputs": [],
   "source": [
    "%pip install ray"
   ]
  },
  {
   "cell_type": "code",
   "execution_count": 1,
   "metadata": {},
   "outputs": [],
   "source": [
    "import re\n",
    "import os\n",
    "import kss\n",
    "import ray\n",
    "import json\n",
    "import time\n",
    "from time import sleep\n",
    "from tqdm import tqdm\n",
    "from mecab import MeCab\n",
    "import pandas as pd\n",
    "from glob import glob\n",
    "from itertools import chain"
   ]
  },
  {
   "cell_type": "code",
   "execution_count": 2,
   "metadata": {
    "scrolled": true
   },
   "outputs": [
    {
     "data": {
      "text/plain": [
       "'D:\\\\AIHUB'"
      ]
     },
     "execution_count": 2,
     "metadata": {},
     "output_type": "execute_result"
    }
   ],
   "source": [
    "pwd"
   ]
  },
  {
   "attachments": {},
   "cell_type": "markdown",
   "metadata": {},
   "source": [
    "### AIHUB 특허분야 자동분류 데이터"
   ]
  },
  {
   "attachments": {},
   "cell_type": "markdown",
   "metadata": {},
   "source": [
    "[Source](https://aihub.or.kr/aihubdata/data/view.do?currMenu=116&topMenu=100&aihubDataSe=ty&dataSetSn=547)"
   ]
  },
  {
   "attachments": {},
   "cell_type": "markdown",
   "metadata": {},
   "source": [
    "#### Convert JSON File to TXT File"
   ]
  },
  {
   "cell_type": "code",
   "execution_count": null,
   "metadata": {},
   "outputs": [],
   "source": [
    "from data_preprocessing import make_train_valid_json_txt_file_path_list\n",
    "from data_preprocessing import divide_source_file_list\n",
    "from extract_source_text import make_sources"
   ]
  },
  {
   "cell_type": "code",
   "execution_count": 11,
   "metadata": {},
   "outputs": [],
   "source": [
    "json_path_list = ['AIHUB_특허 분야 자동분류 데이터/Training/'+ '/**/*.json', \n",
    "                  'AIHUB_특허 분야 자동분류 데이터/Validation/'+ '/**/*.json']\n",
    "txt_path_list = [\"exploration/automatic_patent_classification_data_pro/AIHUB_automatic_patent_classification_data_train_\", \n",
    "                 \"exploration/automatic_patent_classification_data_pro/AIHUB_automatic_patent_classification_data_valid_\"]"
   ]
  },
  {
   "cell_type": "code",
   "execution_count": 12,
   "metadata": {},
   "outputs": [
    {
     "name": "stdout",
     "output_type": "stream",
     "text": [
      "The number of file: 1128\n"
     ]
    }
   ],
   "source": [
    "train_json_file_list, valid_json_file_list, train_txt_file_path_list, valid_txt_file_path_list = \\\n",
    "    make_train_valid_json_txt_file_path_list(json_path_list, txt_path_list)"
   ]
  },
  {
   "cell_type": "code",
   "execution_count": 14,
   "metadata": {},
   "outputs": [],
   "source": [
    "source_file_index_df = pd.DataFrame(train_json_file_list, columns=['source_file_name'])\n",
    "source_file_index_df.to_excel(\"source_file_index/automatic_patent_classification_data_source_train_file_index.xlsx\", index=False)\n",
    "\n",
    "source_file_index_df = pd.DataFrame(valid_json_file_list, columns=['source_file_name'])\n",
    "source_file_index_df.to_excel(\"source_file_index/automatic_patent_classification_data_source_valid_file_index.xlsx\", index=False)"
   ]
  },
  {
   "cell_type": "code",
   "execution_count": 21,
   "metadata": {},
   "outputs": [],
   "source": [
    "def count_number_of_txt_file_with_batch_list(source_file_list, batch_size):\n",
    "    \n",
    "    source_file_by_batch_df = pd.DataFrame({'File':[0], 'Length of Source List':[0],\n",
    "                                            'The Number of TXT File':[0], \n",
    "                                            'Description':[0]})\n",
    "                                            \n",
    "    the_number_of_total_txt_file = 0\n",
    "    the_number_of_txt_file_list = []\n",
    "    \n",
    "    for i in range(len(source_file_list)):    \n",
    "        \n",
    "        source_file = source_file_list[i]        \n",
    "\n",
    "        with open(source_file, 'r', encoding='utf-8') as one_json_file:\n",
    "            one_json_sample = json.load(one_json_file) \n",
    "\n",
    "        source_list = make_sources(one_json_sample)\n",
    "        \n",
    "        the_number_of_txt_file = ((len(source_list) // batch_size) + 1) \n",
    "\n",
    "        if len(source_list) >= batch_size:\n",
    "            source_file_by_batch_df.loc[i] = [source_file,\n",
    "                                              len(source_list), the_number_of_txt_file, \"\"]\n",
    "            the_number_of_txt_file_list.append(the_number_of_txt_file)\n",
    "            the_number_of_total_txt_file  += the_number_of_txt_file\n",
    "\n",
    "        elif len(source_list) < batch_size:\n",
    "            source_file_by_batch_df.loc[i] = [source_file,\n",
    "                                              len(source_list), the_number_of_txt_file,\n",
    "                                              \"not subject of batch. small source list.\"]\n",
    "            the_number_of_txt_file_list.append(1)\n",
    "            the_number_of_total_txt_file  += 1\n",
    "\n",
    "    print(\"Batch Size:\", batch_size)\n",
    "    print(\"The number of txt file:\", the_number_of_total_txt_file)\n",
    "    \n",
    "    if 'rain' in source_file:\n",
    "        source_file_by_batch_df.to_excel(\"source_file_by_batch/automatic_patent_classification_data_train.xlsx\", index=False)\n",
    "    elif 'alid' in source_file:\n",
    "        source_file_by_batch_df.to_excel(\"source_file_by_batch/automatic_patent_classification_data_valid.xlsx\", index=False)\n",
    "    else:\n",
    "         source_file_by_batch_df.to_excel(\"source_file_by_batch/machine_reading.xlsx\", index=False)\n",
    "    \n",
    "    return the_number_of_total_txt_file, the_number_of_txt_file_list"
   ]
  },
  {
   "cell_type": "code",
   "execution_count": 22,
   "metadata": {},
   "outputs": [],
   "source": [
    "def write_jsontext_to_txt_file_with_batch_list(source_file_list, text_file_path_list, batch_size, the_number_of_txt_file_list):\n",
    "\n",
    "  progress_length = sum(the_number_of_txt_file_list)\n",
    "  print(\"[Size]\")\n",
    "  print(\"The number of preprocessing corpus: \" + str(progress_length))\n",
    "  print(\"\\n[Order]\")\n",
    "  pbar = tqdm(range(progress_length))\n",
    "  num = 0\n",
    "  \n",
    "  for i in range(len(source_file_list)):\n",
    "\n",
    "    source_file = source_file_list[i]\n",
    "    \n",
    "    with open(source_file, 'r', encoding='utf-8') as one_json_file:\n",
    "      one_json_sample = json.load(one_json_file)\n",
    "\n",
    "    source_list = make_sources(one_json_sample)\n",
    "    \n",
    "    n = batch_size\n",
    "    source_batch_list = list(divide_source_file_list(source_list, n))\n",
    "      \n",
    "    for source_list in source_batch_list:   \n",
    "      with open(os.path.join('AIHUB_corpus/' + text_file_path_list[i][:-4] + \"_\" + str(num) + \".txt\"), \"a\", encoding='utf-8') as fp:\n",
    "        fp.write(\"\\n\".join(source_list))           \n",
    "      num += 1  \n",
    "      pbar.n += 1\n",
    "      pbar.refresh()\n",
    "      time.sleep(0.01)\n",
    "  pbar.close()  "
   ]
  },
  {
   "cell_type": "code",
   "execution_count": 19,
   "metadata": {},
   "outputs": [
    {
     "name": "stdout",
     "output_type": "stream",
     "text": [
      "Batch Size: 1000\n",
      "The number of txt file: 564\n"
     ]
    }
   ],
   "source": [
    "batch_size = 1000\n",
    "the_number_of_train_txt_file, the_number_of_train_txt_file_list = count_number_of_txt_file_with_batch_list(train_json_file_list, batch_size)"
   ]
  },
  {
   "cell_type": "code",
   "execution_count": 20,
   "metadata": {},
   "outputs": [
    {
     "data": {
      "text/html": [
       "<div>\n",
       "<style scoped>\n",
       "    .dataframe tbody tr th:only-of-type {\n",
       "        vertical-align: middle;\n",
       "    }\n",
       "\n",
       "    .dataframe tbody tr th {\n",
       "        vertical-align: top;\n",
       "    }\n",
       "\n",
       "    .dataframe thead th {\n",
       "        text-align: right;\n",
       "    }\n",
       "</style>\n",
       "<table border=\"1\" class=\"dataframe\">\n",
       "  <thead>\n",
       "    <tr style=\"text-align: right;\">\n",
       "      <th></th>\n",
       "      <th>Unnamed: 0</th>\n",
       "      <th>File</th>\n",
       "      <th>Length of Source List</th>\n",
       "      <th>The Number of txt File</th>\n",
       "      <th>Description</th>\n",
       "    </tr>\n",
       "  </thead>\n",
       "  <tbody>\n",
       "    <tr>\n",
       "      <th>0</th>\n",
       "      <td>0</td>\n",
       "      <td>AIHUB_특허 분야 자동분류 데이터/Training\\원천데이터\\TS1\\B_광업_0...</td>\n",
       "      <td>800</td>\n",
       "      <td>1</td>\n",
       "      <td>not subject of batch. small source list.</td>\n",
       "    </tr>\n",
       "    <tr>\n",
       "      <th>1</th>\n",
       "      <td>1</td>\n",
       "      <td>AIHUB_특허 분야 자동분류 데이터/Training\\원천데이터\\TS1\\A_농업_임...</td>\n",
       "      <td>760</td>\n",
       "      <td>1</td>\n",
       "      <td>not subject of batch. small source list.</td>\n",
       "    </tr>\n",
       "    <tr>\n",
       "      <th>2</th>\n",
       "      <td>2</td>\n",
       "      <td>AIHUB_특허 분야 자동분류 데이터/Training\\원천데이터\\TS1\\A_농업_임...</td>\n",
       "      <td>799</td>\n",
       "      <td>1</td>\n",
       "      <td>not subject of batch. small source list.</td>\n",
       "    </tr>\n",
       "    <tr>\n",
       "      <th>3</th>\n",
       "      <td>3</td>\n",
       "      <td>AIHUB_특허 분야 자동분류 데이터/Training\\원천데이터\\TS1\\A_농업_임...</td>\n",
       "      <td>718</td>\n",
       "      <td>1</td>\n",
       "      <td>not subject of batch. small source list.</td>\n",
       "    </tr>\n",
       "    <tr>\n",
       "      <th>4</th>\n",
       "      <td>4</td>\n",
       "      <td>AIHUB_특허 분야 자동분류 데이터/Training\\원천데이터\\TS1\\A_농업_임...</td>\n",
       "      <td>762</td>\n",
       "      <td>1</td>\n",
       "      <td>not subject of batch. small source list.</td>\n",
       "    </tr>\n",
       "    <tr>\n",
       "      <th>...</th>\n",
       "      <td>...</td>\n",
       "      <td>...</td>\n",
       "      <td>...</td>\n",
       "      <td>...</td>\n",
       "      <td>...</td>\n",
       "    </tr>\n",
       "    <tr>\n",
       "      <th>559</th>\n",
       "      <td>559</td>\n",
       "      <td>AIHUB_특허 분야 자동분류 데이터/Training\\원천데이터\\TS1\\C_제조업_...</td>\n",
       "      <td>748</td>\n",
       "      <td>1</td>\n",
       "      <td>not subject of batch. small source list.</td>\n",
       "    </tr>\n",
       "    <tr>\n",
       "      <th>560</th>\n",
       "      <td>560</td>\n",
       "      <td>AIHUB_특허 분야 자동분류 데이터/Training\\원천데이터\\TS1\\J_정보통신...</td>\n",
       "      <td>660</td>\n",
       "      <td>1</td>\n",
       "      <td>not subject of batch. small source list.</td>\n",
       "    </tr>\n",
       "    <tr>\n",
       "      <th>561</th>\n",
       "      <td>561</td>\n",
       "      <td>AIHUB_특허 분야 자동분류 데이터/Training\\원천데이터\\TS1\\C_제조업_...</td>\n",
       "      <td>800</td>\n",
       "      <td>1</td>\n",
       "      <td>not subject of batch. small source list.</td>\n",
       "    </tr>\n",
       "    <tr>\n",
       "      <th>562</th>\n",
       "      <td>562</td>\n",
       "      <td>AIHUB_특허 분야 자동분류 데이터/Training\\원천데이터\\TS1\\C_제조업_...</td>\n",
       "      <td>800</td>\n",
       "      <td>1</td>\n",
       "      <td>not subject of batch. small source list.</td>\n",
       "    </tr>\n",
       "    <tr>\n",
       "      <th>563</th>\n",
       "      <td>563</td>\n",
       "      <td>AIHUB_특허 분야 자동분류 데이터/Training\\원천데이터\\TS1\\C_제조업_...</td>\n",
       "      <td>778</td>\n",
       "      <td>1</td>\n",
       "      <td>not subject of batch. small source list.</td>\n",
       "    </tr>\n",
       "  </tbody>\n",
       "</table>\n",
       "<p>564 rows × 5 columns</p>\n",
       "</div>"
      ],
      "text/plain": [
       "     Unnamed: 0                                               File  \\\n",
       "0             0  AIHUB_특허 분야 자동분류 데이터/Training\\원천데이터\\TS1\\B_광업_0...   \n",
       "1             1  AIHUB_특허 분야 자동분류 데이터/Training\\원천데이터\\TS1\\A_농업_임...   \n",
       "2             2  AIHUB_특허 분야 자동분류 데이터/Training\\원천데이터\\TS1\\A_농업_임...   \n",
       "3             3  AIHUB_특허 분야 자동분류 데이터/Training\\원천데이터\\TS1\\A_농업_임...   \n",
       "4             4  AIHUB_특허 분야 자동분류 데이터/Training\\원천데이터\\TS1\\A_농업_임...   \n",
       "..          ...                                                ...   \n",
       "559         559  AIHUB_특허 분야 자동분류 데이터/Training\\원천데이터\\TS1\\C_제조업_...   \n",
       "560         560  AIHUB_특허 분야 자동분류 데이터/Training\\원천데이터\\TS1\\J_정보통신...   \n",
       "561         561  AIHUB_특허 분야 자동분류 데이터/Training\\원천데이터\\TS1\\C_제조업_...   \n",
       "562         562  AIHUB_특허 분야 자동분류 데이터/Training\\원천데이터\\TS1\\C_제조업_...   \n",
       "563         563  AIHUB_특허 분야 자동분류 데이터/Training\\원천데이터\\TS1\\C_제조업_...   \n",
       "\n",
       "     Length of Source List  The Number of txt File  \\\n",
       "0                      800                       1   \n",
       "1                      760                       1   \n",
       "2                      799                       1   \n",
       "3                      718                       1   \n",
       "4                      762                       1   \n",
       "..                     ...                     ...   \n",
       "559                    748                       1   \n",
       "560                    660                       1   \n",
       "561                    800                       1   \n",
       "562                    800                       1   \n",
       "563                    778                       1   \n",
       "\n",
       "                                  Description  \n",
       "0    not subject of batch. small source list.  \n",
       "1    not subject of batch. small source list.  \n",
       "2    not subject of batch. small source list.  \n",
       "3    not subject of batch. small source list.  \n",
       "4    not subject of batch. small source list.  \n",
       "..                                        ...  \n",
       "559  not subject of batch. small source list.  \n",
       "560  not subject of batch. small source list.  \n",
       "561  not subject of batch. small source list.  \n",
       "562  not subject of batch. small source list.  \n",
       "563  not subject of batch. small source list.  \n",
       "\n",
       "[564 rows x 5 columns]"
      ]
     },
     "execution_count": 20,
     "metadata": {},
     "output_type": "execute_result"
    }
   ],
   "source": [
    "source_file_by_batch_train_df = pd.read_excel('source_file_by_batch_list/automatic_patent_classification_data_train.xlsx', engine='openpyxl')  \n",
    "source_file_by_batch_train_df"
   ]
  },
  {
   "cell_type": "code",
   "execution_count": 23,
   "metadata": {},
   "outputs": [
    {
     "name": "stdout",
     "output_type": "stream",
     "text": [
      "[Size]\n",
      "The number of preprocessing corpus: 564\n",
      "\n",
      "[Order]\n"
     ]
    },
    {
     "name": "stderr",
     "output_type": "stream",
     "text": [
      "100%|██████████| 564/564 [00:31<00:00, 17.97it/s]\n"
     ]
    }
   ],
   "source": [
    "batch_size = 1000\n",
    "write_jsontext_to_txt_file_with_batch_list(train_json_file_list, train_txt_file_path_list,\n",
    "                batch_size, the_number_of_train_txt_file_list)"
   ]
  },
  {
   "cell_type": "code",
   "execution_count": 24,
   "metadata": {},
   "outputs": [
    {
     "name": "stdout",
     "output_type": "stream",
     "text": [
      "Batch Size: 1000\n",
      "The number of txt file: 564\n"
     ]
    }
   ],
   "source": [
    "batch_size = 1000\n",
    "the_number_of_valid_txt_file, the_number_of_valid_txt_file_list = count_number_of_txt_file_with_batch_list(valid_json_file_list, batch_size)"
   ]
  },
  {
   "cell_type": "code",
   "execution_count": 25,
   "metadata": {},
   "outputs": [
    {
     "data": {
      "text/html": [
       "<div>\n",
       "<style scoped>\n",
       "    .dataframe tbody tr th:only-of-type {\n",
       "        vertical-align: middle;\n",
       "    }\n",
       "\n",
       "    .dataframe tbody tr th {\n",
       "        vertical-align: top;\n",
       "    }\n",
       "\n",
       "    .dataframe thead th {\n",
       "        text-align: right;\n",
       "    }\n",
       "</style>\n",
       "<table border=\"1\" class=\"dataframe\">\n",
       "  <thead>\n",
       "    <tr style=\"text-align: right;\">\n",
       "      <th></th>\n",
       "      <th>Unnamed: 0</th>\n",
       "      <th>File</th>\n",
       "      <th>Length of Source List</th>\n",
       "      <th>The Number of txt File</th>\n",
       "      <th>Description</th>\n",
       "    </tr>\n",
       "  </thead>\n",
       "  <tbody>\n",
       "    <tr>\n",
       "      <th>0</th>\n",
       "      <td>0</td>\n",
       "      <td>AIHUB_특허 분야 자동분류 데이터/Validation\\원천데이터\\VS1\\B_광업...</td>\n",
       "      <td>100</td>\n",
       "      <td>1</td>\n",
       "      <td>not subject of batch. small source list.</td>\n",
       "    </tr>\n",
       "    <tr>\n",
       "      <th>1</th>\n",
       "      <td>1</td>\n",
       "      <td>AIHUB_특허 분야 자동분류 데이터/Validation\\원천데이터\\VS1\\A_농업...</td>\n",
       "      <td>100</td>\n",
       "      <td>1</td>\n",
       "      <td>not subject of batch. small source list.</td>\n",
       "    </tr>\n",
       "    <tr>\n",
       "      <th>2</th>\n",
       "      <td>2</td>\n",
       "      <td>AIHUB_특허 분야 자동분류 데이터/Validation\\원천데이터\\VS1\\A_농업...</td>\n",
       "      <td>100</td>\n",
       "      <td>1</td>\n",
       "      <td>not subject of batch. small source list.</td>\n",
       "    </tr>\n",
       "    <tr>\n",
       "      <th>3</th>\n",
       "      <td>3</td>\n",
       "      <td>AIHUB_특허 분야 자동분류 데이터/Validation\\원천데이터\\VS1\\A_농업...</td>\n",
       "      <td>100</td>\n",
       "      <td>1</td>\n",
       "      <td>not subject of batch. small source list.</td>\n",
       "    </tr>\n",
       "    <tr>\n",
       "      <th>4</th>\n",
       "      <td>4</td>\n",
       "      <td>AIHUB_특허 분야 자동분류 데이터/Validation\\원천데이터\\VS1\\A_농업...</td>\n",
       "      <td>100</td>\n",
       "      <td>1</td>\n",
       "      <td>not subject of batch. small source list.</td>\n",
       "    </tr>\n",
       "    <tr>\n",
       "      <th>...</th>\n",
       "      <td>...</td>\n",
       "      <td>...</td>\n",
       "      <td>...</td>\n",
       "      <td>...</td>\n",
       "      <td>...</td>\n",
       "    </tr>\n",
       "    <tr>\n",
       "      <th>559</th>\n",
       "      <td>559</td>\n",
       "      <td>AIHUB_특허 분야 자동분류 데이터/Validation\\원천데이터\\VS1\\C_제조...</td>\n",
       "      <td>100</td>\n",
       "      <td>1</td>\n",
       "      <td>not subject of batch. small source list.</td>\n",
       "    </tr>\n",
       "    <tr>\n",
       "      <th>560</th>\n",
       "      <td>560</td>\n",
       "      <td>AIHUB_특허 분야 자동분류 데이터/Validation\\원천데이터\\VS1\\J_정보...</td>\n",
       "      <td>100</td>\n",
       "      <td>1</td>\n",
       "      <td>not subject of batch. small source list.</td>\n",
       "    </tr>\n",
       "    <tr>\n",
       "      <th>561</th>\n",
       "      <td>561</td>\n",
       "      <td>AIHUB_특허 분야 자동분류 데이터/Validation\\원천데이터\\VS1\\C_제조...</td>\n",
       "      <td>100</td>\n",
       "      <td>1</td>\n",
       "      <td>not subject of batch. small source list.</td>\n",
       "    </tr>\n",
       "    <tr>\n",
       "      <th>562</th>\n",
       "      <td>562</td>\n",
       "      <td>AIHUB_특허 분야 자동분류 데이터/Validation\\원천데이터\\VS1\\C_제조...</td>\n",
       "      <td>100</td>\n",
       "      <td>1</td>\n",
       "      <td>not subject of batch. small source list.</td>\n",
       "    </tr>\n",
       "    <tr>\n",
       "      <th>563</th>\n",
       "      <td>563</td>\n",
       "      <td>AIHUB_특허 분야 자동분류 데이터/Validation\\원천데이터\\VS1\\C_제조...</td>\n",
       "      <td>100</td>\n",
       "      <td>1</td>\n",
       "      <td>not subject of batch. small source list.</td>\n",
       "    </tr>\n",
       "  </tbody>\n",
       "</table>\n",
       "<p>564 rows × 5 columns</p>\n",
       "</div>"
      ],
      "text/plain": [
       "     Unnamed: 0                                               File  \\\n",
       "0             0  AIHUB_특허 분야 자동분류 데이터/Validation\\원천데이터\\VS1\\B_광업...   \n",
       "1             1  AIHUB_특허 분야 자동분류 데이터/Validation\\원천데이터\\VS1\\A_농업...   \n",
       "2             2  AIHUB_특허 분야 자동분류 데이터/Validation\\원천데이터\\VS1\\A_농업...   \n",
       "3             3  AIHUB_특허 분야 자동분류 데이터/Validation\\원천데이터\\VS1\\A_농업...   \n",
       "4             4  AIHUB_특허 분야 자동분류 데이터/Validation\\원천데이터\\VS1\\A_농업...   \n",
       "..          ...                                                ...   \n",
       "559         559  AIHUB_특허 분야 자동분류 데이터/Validation\\원천데이터\\VS1\\C_제조...   \n",
       "560         560  AIHUB_특허 분야 자동분류 데이터/Validation\\원천데이터\\VS1\\J_정보...   \n",
       "561         561  AIHUB_특허 분야 자동분류 데이터/Validation\\원천데이터\\VS1\\C_제조...   \n",
       "562         562  AIHUB_특허 분야 자동분류 데이터/Validation\\원천데이터\\VS1\\C_제조...   \n",
       "563         563  AIHUB_특허 분야 자동분류 데이터/Validation\\원천데이터\\VS1\\C_제조...   \n",
       "\n",
       "     Length of Source List  The Number of txt File  \\\n",
       "0                      100                       1   \n",
       "1                      100                       1   \n",
       "2                      100                       1   \n",
       "3                      100                       1   \n",
       "4                      100                       1   \n",
       "..                     ...                     ...   \n",
       "559                    100                       1   \n",
       "560                    100                       1   \n",
       "561                    100                       1   \n",
       "562                    100                       1   \n",
       "563                    100                       1   \n",
       "\n",
       "                                  Description  \n",
       "0    not subject of batch. small source list.  \n",
       "1    not subject of batch. small source list.  \n",
       "2    not subject of batch. small source list.  \n",
       "3    not subject of batch. small source list.  \n",
       "4    not subject of batch. small source list.  \n",
       "..                                        ...  \n",
       "559  not subject of batch. small source list.  \n",
       "560  not subject of batch. small source list.  \n",
       "561  not subject of batch. small source list.  \n",
       "562  not subject of batch. small source list.  \n",
       "563  not subject of batch. small source list.  \n",
       "\n",
       "[564 rows x 5 columns]"
      ]
     },
     "execution_count": 25,
     "metadata": {},
     "output_type": "execute_result"
    }
   ],
   "source": [
    "source_file_by_batch_valid_df = pd.read_excel('source_file_by_batch/automatic_patent_classification_data_valid.xlsx', engine='openpyxl')  \n",
    "source_file_by_batch_valid_df"
   ]
  },
  {
   "cell_type": "code",
   "execution_count": 26,
   "metadata": {},
   "outputs": [
    {
     "name": "stdout",
     "output_type": "stream",
     "text": [
      "[Size]\n",
      "The number of preprocessing corpus: 564\n",
      "\n",
      "[Order]\n"
     ]
    },
    {
     "name": "stderr",
     "output_type": "stream",
     "text": [
      "100%|██████████| 564/564 [00:19<00:00, 29.09it/s]\n"
     ]
    }
   ],
   "source": [
    "batch_size = 1000\n",
    "write_jsontext_to_txt_file_with_batch_list(valid_json_file_list, valid_txt_file_path_list,\n",
    "                batch_size, the_number_of_valid_txt_file_list)"
   ]
  },
  {
   "attachments": {},
   "cell_type": "markdown",
   "metadata": {},
   "source": [
    "#### Preprocess TXT File"
   ]
  },
  {
   "cell_type": "code",
   "execution_count": null,
   "metadata": {},
   "outputs": [],
   "source": [
    "from sentence_segmentation import preprocessing_text\n",
    "from data_preprocessing import make_pro_post_txt_file_path_list\n",
    "from data_preprocessing import merge_and_deduplicate_corpus_txt\n",
    "from reading_data import reading_txt"
   ]
  },
  {
   "cell_type": "code",
   "execution_count": 16,
   "metadata": {},
   "outputs": [],
   "source": [
    "pro_corpus_path = \"AIHUB_corpus/exploration/automatic_patent_classification_data_pro/AIHUB_automatic_patent_classification_data_\" + \"*.txt\"\n",
    "pro_total_corpus_path_list, post_total_corpus_path_list = make_pro_post_txt_file_path_list(pro_corpus_path)"
   ]
  },
  {
   "cell_type": "code",
   "execution_count": 17,
   "metadata": {},
   "outputs": [
    {
     "data": {
      "text/plain": [
       "1128"
      ]
     },
     "execution_count": 17,
     "metadata": {},
     "output_type": "execute_result"
    }
   ],
   "source": [
    "len(pro_total_corpus_path_list)"
   ]
  },
  {
   "cell_type": "code",
   "execution_count": 19,
   "metadata": {},
   "outputs": [
    {
     "name": "stdout",
     "output_type": "stream",
     "text": [
      "서로 연통 조립될 수 있는 다수의 재배조가 주의 환경에 맞는 크기로 자유로이 변형 설치되도록 하여 배양수와 양분을 공급하는 점프나 공급장치등의 중복 설치를 배제토록 하고, 배양수가 수생식물의 생장에 필요한 온도로 조절유지되도록 하는 수경재배조를 제공하기 위하여 펌프에 의해 배양수가 공급되며 결합 수단에 의해 다른 재배조와 크기의 조절이 가능하도록 조립되는 재배조와; 이러한 재배조의 내면에 씌워져 조립 부분이 수밀을 유지할 수 있도록 하는 비닐과; 상기 재배조의 내부에 관로를 형성하도록 설치되어 흐르는 유체의 온도에 따라 배양수의 수온을 조절할 수 있도록 하는 온도조절관과; 상기 재배조의 상부에 위치하여 수생식물이 그 뿌리가 침수된 상태로 수면에 부유되도록 하는 재배구로 이루어지도록 한것.\n",
      "\n"
     ]
    }
   ],
   "source": [
    "pro_coprus_file = pro_total_corpus_path_list[0]\n",
    "line_length = 1\n",
    "data_type = \"source\"\n",
    "\n",
    "reading_txt(pro_coprus_file, line_length, data_type)"
   ]
  },
  {
   "cell_type": "code",
   "execution_count": 20,
   "metadata": {},
   "outputs": [
    {
     "name": "stdout",
     "output_type": "stream",
     "text": [
      "서로 연통 조립될 수 있는 다수의 재배조가 주의 환경에 맞는 크기로 자유로이 변형 설치되도록 하여 배양수와 양분을 공급하는 점프나 공급장치등의 중복 설치를 배제토록 하고, 배양수가 수생식물의 생장에 필요한 온도로 조절유지되도록 하는 수경재배조를 제공하기 위하여 펌프에 의해 배양수가 공급되며 결합 수단에 의해 다른 재배조와 크기의 조절이 가능하도록 조립되는 재배조와 이러한 재배조의 내면에 씌워져 조립 부분이 수밀을 유지할 수 있도록 하는 비닐과 상기 재배조의 내부에 관로를 형성하도록 설치되어 흐르는 유체의 온도에 따라 배양수의 수온을 조절할 수 있도록 하는 온도조절관과 상기 재배조의 상부에 위치하여 수생식물이 그 뿌리가 침수된 상태로 수면에 부유되도록 하는 재배구로 이루어지도록 한것.\n",
      "\n"
     ]
    }
   ],
   "source": [
    "pro_coprus_file = pro_total_corpus_path_list[0]\n",
    "line_length = 1\n",
    "data_type = \"preprocessing\"\n",
    "\n",
    "reading_txt(pro_coprus_file, line_length, data_type)"
   ]
  },
  {
   "cell_type": "code",
   "execution_count": 52,
   "metadata": {},
   "outputs": [
    {
     "name": "stderr",
     "output_type": "stream",
     "text": [
      "2023-05-29 15:05:51,000\tINFO worker.py:1625 -- Started a local Ray instance.\n"
     ]
    }
   ],
   "source": [
    "ray.init(num_cpus = 4)\n",
    "\n",
    "@ray.remote\n",
    "def ray_preprocessing_text(source, corpus_path):\n",
    "\n",
    "    preprocessing_sentence_list = preprocessing_text(source, corpus_path)\n",
    "\n",
    "    return preprocessing_sentence_list"
   ]
  },
  {
   "cell_type": "code",
   "execution_count": null,
   "metadata": {},
   "outputs": [],
   "source": [
    "def preprocessing_corpus_txt(pro_total_corpus_path_list, post_total_corpus_path_list):\n",
    "\n",
    "    progress_length = len(pro_total_corpus_path_list)   \n",
    "    print(\"[Size]\")\n",
    "    print(\"The number of preprocessing corpus: \" + str(progress_length))\n",
    "    print(\"\\n[Order]\")\n",
    "    pbar = tqdm(range(progress_length))\n",
    "    num = 0\n",
    "    process_num = 10    \n",
    "\n",
    "    for pro, post in zip(pro_total_corpus_path_list, post_total_corpus_path_list):\n",
    "\n",
    "        sentence_list = []\n",
    "\n",
    "        with open(pro, 'r', encoding='utf-8') as f:\n",
    "            lines = f.read().splitlines() \n",
    "            nested_lines_num = len(lines) // process_num\n",
    "            for i in range(nested_lines_num - 1):\n",
    "                start_line = process_num * i\n",
    "                end_line = process_num * (i+1)\n",
    "                futures = [ray_preprocessing_text.remote(lines[start_line:end_line][j], pro) for j in range(process_num)]\n",
    "                results = ray.get(futures)\n",
    "\n",
    "                if i == nested_lines_num - 2:\n",
    "                    futures = [ray_preprocessing_text.remote(lines[end_line:][j], pro) for j in range(len(lines) - end_line)]\n",
    "                    results = ray.get(futures)\n",
    "\n",
    "                sentences = list(chain.from_iterable(results))\n",
    "                sentence_list.append(sentences)\n",
    "\n",
    "        sentence_list = list(chain.from_iterable(sentence_list))\n",
    "        \n",
    "        with open(post, 'a', encoding='utf-8') as fp:\n",
    "            fp.write(\"\\n\".join(sentence_list))\n",
    "\n",
    "        pbar.n += 1\n",
    "        pbar.refresh()\n",
    "        time.sleep(0.01)\n",
    "\n",
    "    pbar.close() "
   ]
  },
  {
   "cell_type": "code",
   "execution_count": null,
   "metadata": {},
   "outputs": [],
   "source": [
    "preprocessing_corpus_txt(pro_total_corpus_path_list, post_total_corpus_path_list)"
   ]
  },
  {
   "cell_type": "code",
   "execution_count": 51,
   "metadata": {},
   "outputs": [],
   "source": [
    "ray.shutdown()"
   ]
  },
  {
   "cell_type": "code",
   "execution_count": null,
   "metadata": {},
   "outputs": [],
   "source": [
    "preprocessing_corpus_path = \"AIHUB_corpus/exploration/AIHUB_automatic_patent_classification_data_post/AIHUB_AIHUB_automatic_patent_classification_data_\" +\"*.txt\"\n",
    "merge_corpus_path = 'AIHUB_corpus/duplicate/AIHUB_automatic_patent_classification_data.txt'\n",
    "deduplicate_corpus_path = 'AIHUB_corpus/AIHUB_automatic_patent_classification_data.txt'"
   ]
  },
  {
   "cell_type": "code",
   "execution_count": null,
   "metadata": {},
   "outputs": [],
   "source": [
    "merge_and_deduplicate_corpus_txt(preprocessing_corpus_path, merge_corpus_path, \n",
    "                                  deduplicate_corpus_path)"
   ]
  }
 ],
 "metadata": {
  "kernelspec": {
   "display_name": "corpus_05",
   "language": "python",
   "name": "corpus_05"
  },
  "language_info": {
   "codemirror_mode": {
    "name": "ipython",
    "version": 3
   },
   "file_extension": ".py",
   "mimetype": "text/x-python",
   "name": "python",
   "nbconvert_exporter": "python",
   "pygments_lexer": "ipython3",
   "version": "3.9.13"
  }
 },
 "nbformat": 4,
 "nbformat_minor": 2
}
